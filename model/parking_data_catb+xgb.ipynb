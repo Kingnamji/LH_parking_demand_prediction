{
  "nbformat": 4,
  "nbformat_minor": 0,
  "metadata": {
    "colab": {
      "name": "parking_data_catb+xgb",
      "provenance": []
    },
    "kernelspec": {
      "name": "python3",
      "display_name": "Python 3"
    },
    "language_info": {
      "name": "python"
    },
    "accelerator": "GPU"
  },
  "cells": [
    {
      "cell_type": "code",
      "metadata": {
        "colab": {
          "base_uri": "https://localhost:8080/"
        },
        "id": "iqe244t4p6wo",
        "outputId": "446b0d59-cf73-4c7c-97e0-af1e32e6a13f"
      },
      "source": [
        "!pip install catboost"
      ],
      "execution_count": null,
      "outputs": [
        {
          "output_type": "stream",
          "text": [
            "Collecting catboost\n",
            "\u001b[?25l  Downloading https://files.pythonhosted.org/packages/5a/41/24e14322b9986cf72a8763e0a0a69cc256cf963cf9502c8f0044a62c1ae8/catboost-0.26-cp37-none-manylinux1_x86_64.whl (69.2MB)\n",
            "\u001b[K     |████████████████████████████████| 69.2MB 39kB/s \n",
            "\u001b[?25hRequirement already satisfied: pandas>=0.24.0 in /usr/local/lib/python3.7/dist-packages (from catboost) (1.1.5)\n",
            "Requirement already satisfied: scipy in /usr/local/lib/python3.7/dist-packages (from catboost) (1.4.1)\n",
            "Requirement already satisfied: graphviz in /usr/local/lib/python3.7/dist-packages (from catboost) (0.10.1)\n",
            "Requirement already satisfied: numpy>=1.16.0 in /usr/local/lib/python3.7/dist-packages (from catboost) (1.19.5)\n",
            "Requirement already satisfied: six in /usr/local/lib/python3.7/dist-packages (from catboost) (1.15.0)\n",
            "Requirement already satisfied: plotly in /usr/local/lib/python3.7/dist-packages (from catboost) (4.4.1)\n",
            "Requirement already satisfied: matplotlib in /usr/local/lib/python3.7/dist-packages (from catboost) (3.2.2)\n",
            "Requirement already satisfied: python-dateutil>=2.7.3 in /usr/local/lib/python3.7/dist-packages (from pandas>=0.24.0->catboost) (2.8.1)\n",
            "Requirement already satisfied: pytz>=2017.2 in /usr/local/lib/python3.7/dist-packages (from pandas>=0.24.0->catboost) (2018.9)\n",
            "Requirement already satisfied: retrying>=1.3.3 in /usr/local/lib/python3.7/dist-packages (from plotly->catboost) (1.3.3)\n",
            "Requirement already satisfied: pyparsing!=2.0.4,!=2.1.2,!=2.1.6,>=2.0.1 in /usr/local/lib/python3.7/dist-packages (from matplotlib->catboost) (2.4.7)\n",
            "Requirement already satisfied: cycler>=0.10 in /usr/local/lib/python3.7/dist-packages (from matplotlib->catboost) (0.10.0)\n",
            "Requirement already satisfied: kiwisolver>=1.0.1 in /usr/local/lib/python3.7/dist-packages (from matplotlib->catboost) (1.3.1)\n",
            "Installing collected packages: catboost\n",
            "Successfully installed catboost-0.26\n"
          ],
          "name": "stdout"
        }
      ]
    },
    {
      "cell_type": "code",
      "metadata": {
        "id": "JD8a3yPjmTNK"
      },
      "source": [
        "# 라이브러리\n",
        "import pandas as pd\n",
        "import numpy as np\n",
        "import tqdm as tq\n",
        "import pickle\n",
        "import matplotlib.pyplot as plt\n",
        "from xgboost import XGBRegressor\n",
        "from catboost import CatBoostRegressor\n",
        "from tqdm import tqdm"
      ],
      "execution_count": null,
      "outputs": []
    },
    {
      "cell_type": "markdown",
      "metadata": {
        "id": "uwEa8JN2no_u"
      },
      "source": [
        "# 데이터 탐색"
      ]
    },
    {
      "cell_type": "code",
      "metadata": {
        "id": "Ek5jvp6xll00"
      },
      "source": [
        "train = pd.read_csv('/content/drive/MyDrive/contest/parking_data/train.csv')\n",
        "test = pd.read_csv('/content/drive/MyDrive/contest/parking_data/test.csv')\n",
        "age_gender = pd.read_csv('/content/drive/MyDrive/contest/parking_data/age_gender_info.csv')"
      ],
      "execution_count": null,
      "outputs": []
    },
    {
      "cell_type": "markdown",
      "metadata": {
        "id": "ZGc11-UOoOzy"
      },
      "source": [
        "### 훈련 데이터"
      ]
    },
    {
      "cell_type": "code",
      "metadata": {
        "colab": {
          "base_uri": "https://localhost:8080/",
          "height": 323
        },
        "id": "WRH-8NvcpSll",
        "outputId": "b09c1d50-816c-406d-bbe8-e62965aaa654"
      },
      "source": [
        "train.head()"
      ],
      "execution_count": null,
      "outputs": [
        {
          "output_type": "execute_result",
          "data": {
            "text/html": [
              "<div>\n",
              "<style scoped>\n",
              "    .dataframe tbody tr th:only-of-type {\n",
              "        vertical-align: middle;\n",
              "    }\n",
              "\n",
              "    .dataframe tbody tr th {\n",
              "        vertical-align: top;\n",
              "    }\n",
              "\n",
              "    .dataframe thead th {\n",
              "        text-align: right;\n",
              "    }\n",
              "</style>\n",
              "<table border=\"1\" class=\"dataframe\">\n",
              "  <thead>\n",
              "    <tr style=\"text-align: right;\">\n",
              "      <th></th>\n",
              "      <th>단지코드</th>\n",
              "      <th>총세대수</th>\n",
              "      <th>임대건물구분</th>\n",
              "      <th>지역</th>\n",
              "      <th>공급유형</th>\n",
              "      <th>전용면적</th>\n",
              "      <th>전용면적별세대수</th>\n",
              "      <th>공가수</th>\n",
              "      <th>자격유형</th>\n",
              "      <th>임대보증금</th>\n",
              "      <th>임대료</th>\n",
              "      <th>도보 10분거리 내 지하철역 수(환승노선 수 반영)</th>\n",
              "      <th>도보 10분거리 내 버스정류장 수</th>\n",
              "      <th>단지내주차면수</th>\n",
              "      <th>등록차량수</th>\n",
              "    </tr>\n",
              "  </thead>\n",
              "  <tbody>\n",
              "    <tr>\n",
              "      <th>0</th>\n",
              "      <td>C2483</td>\n",
              "      <td>900</td>\n",
              "      <td>아파트</td>\n",
              "      <td>경상북도</td>\n",
              "      <td>국민임대</td>\n",
              "      <td>39.72</td>\n",
              "      <td>134</td>\n",
              "      <td>38.0</td>\n",
              "      <td>A</td>\n",
              "      <td>15667000</td>\n",
              "      <td>103680</td>\n",
              "      <td>0.0</td>\n",
              "      <td>3.0</td>\n",
              "      <td>1425.0</td>\n",
              "      <td>1015.0</td>\n",
              "    </tr>\n",
              "    <tr>\n",
              "      <th>1</th>\n",
              "      <td>C2483</td>\n",
              "      <td>900</td>\n",
              "      <td>아파트</td>\n",
              "      <td>경상북도</td>\n",
              "      <td>국민임대</td>\n",
              "      <td>39.72</td>\n",
              "      <td>15</td>\n",
              "      <td>38.0</td>\n",
              "      <td>A</td>\n",
              "      <td>15667000</td>\n",
              "      <td>103680</td>\n",
              "      <td>0.0</td>\n",
              "      <td>3.0</td>\n",
              "      <td>1425.0</td>\n",
              "      <td>1015.0</td>\n",
              "    </tr>\n",
              "    <tr>\n",
              "      <th>2</th>\n",
              "      <td>C2483</td>\n",
              "      <td>900</td>\n",
              "      <td>아파트</td>\n",
              "      <td>경상북도</td>\n",
              "      <td>국민임대</td>\n",
              "      <td>51.93</td>\n",
              "      <td>385</td>\n",
              "      <td>38.0</td>\n",
              "      <td>A</td>\n",
              "      <td>27304000</td>\n",
              "      <td>184330</td>\n",
              "      <td>0.0</td>\n",
              "      <td>3.0</td>\n",
              "      <td>1425.0</td>\n",
              "      <td>1015.0</td>\n",
              "    </tr>\n",
              "    <tr>\n",
              "      <th>3</th>\n",
              "      <td>C2483</td>\n",
              "      <td>900</td>\n",
              "      <td>아파트</td>\n",
              "      <td>경상북도</td>\n",
              "      <td>국민임대</td>\n",
              "      <td>51.93</td>\n",
              "      <td>15</td>\n",
              "      <td>38.0</td>\n",
              "      <td>A</td>\n",
              "      <td>27304000</td>\n",
              "      <td>184330</td>\n",
              "      <td>0.0</td>\n",
              "      <td>3.0</td>\n",
              "      <td>1425.0</td>\n",
              "      <td>1015.0</td>\n",
              "    </tr>\n",
              "    <tr>\n",
              "      <th>4</th>\n",
              "      <td>C2483</td>\n",
              "      <td>900</td>\n",
              "      <td>아파트</td>\n",
              "      <td>경상북도</td>\n",
              "      <td>국민임대</td>\n",
              "      <td>51.93</td>\n",
              "      <td>41</td>\n",
              "      <td>38.0</td>\n",
              "      <td>A</td>\n",
              "      <td>27304000</td>\n",
              "      <td>184330</td>\n",
              "      <td>0.0</td>\n",
              "      <td>3.0</td>\n",
              "      <td>1425.0</td>\n",
              "      <td>1015.0</td>\n",
              "    </tr>\n",
              "  </tbody>\n",
              "</table>\n",
              "</div>"
            ],
            "text/plain": [
              "    단지코드  총세대수 임대건물구분  ... 도보 10분거리 내 버스정류장 수 단지내주차면수   등록차량수\n",
              "0  C2483   900    아파트  ...                3.0  1425.0  1015.0\n",
              "1  C2483   900    아파트  ...                3.0  1425.0  1015.0\n",
              "2  C2483   900    아파트  ...                3.0  1425.0  1015.0\n",
              "3  C2483   900    아파트  ...                3.0  1425.0  1015.0\n",
              "4  C2483   900    아파트  ...                3.0  1425.0  1015.0\n",
              "\n",
              "[5 rows x 15 columns]"
            ]
          },
          "metadata": {
            "tags": []
          },
          "execution_count": 4
        }
      ]
    },
    {
      "cell_type": "code",
      "metadata": {
        "colab": {
          "base_uri": "https://localhost:8080/",
          "height": 348
        },
        "id": "JdjQiB5MwK0V",
        "outputId": "4aa2bb36-5ec0-442e-a8fc-42077bf07789"
      },
      "source": [
        "train.corr(method='pearson')"
      ],
      "execution_count": null,
      "outputs": [
        {
          "output_type": "execute_result",
          "data": {
            "text/html": [
              "<div>\n",
              "<style scoped>\n",
              "    .dataframe tbody tr th:only-of-type {\n",
              "        vertical-align: middle;\n",
              "    }\n",
              "\n",
              "    .dataframe tbody tr th {\n",
              "        vertical-align: top;\n",
              "    }\n",
              "\n",
              "    .dataframe thead th {\n",
              "        text-align: right;\n",
              "    }\n",
              "</style>\n",
              "<table border=\"1\" class=\"dataframe\">\n",
              "  <thead>\n",
              "    <tr style=\"text-align: right;\">\n",
              "      <th></th>\n",
              "      <th>총세대수</th>\n",
              "      <th>전용면적</th>\n",
              "      <th>전용면적별세대수</th>\n",
              "      <th>공가수</th>\n",
              "      <th>도보 10분거리 내 지하철역 수(환승노선 수 반영)</th>\n",
              "      <th>도보 10분거리 내 버스정류장 수</th>\n",
              "      <th>단지내주차면수</th>\n",
              "      <th>등록차량수</th>\n",
              "    </tr>\n",
              "  </thead>\n",
              "  <tbody>\n",
              "    <tr>\n",
              "      <th>총세대수</th>\n",
              "      <td>1.000000</td>\n",
              "      <td>0.042271</td>\n",
              "      <td>0.098205</td>\n",
              "      <td>0.068192</td>\n",
              "      <td>0.213843</td>\n",
              "      <td>-0.001446</td>\n",
              "      <td>0.501488</td>\n",
              "      <td>0.316703</td>\n",
              "    </tr>\n",
              "    <tr>\n",
              "      <th>전용면적</th>\n",
              "      <td>0.042271</td>\n",
              "      <td>1.000000</td>\n",
              "      <td>-0.035479</td>\n",
              "      <td>-0.089201</td>\n",
              "      <td>-0.013111</td>\n",
              "      <td>-0.007866</td>\n",
              "      <td>0.071260</td>\n",
              "      <td>0.115453</td>\n",
              "    </tr>\n",
              "    <tr>\n",
              "      <th>전용면적별세대수</th>\n",
              "      <td>0.098205</td>\n",
              "      <td>-0.035479</td>\n",
              "      <td>1.000000</td>\n",
              "      <td>0.166472</td>\n",
              "      <td>-0.056680</td>\n",
              "      <td>0.047112</td>\n",
              "      <td>0.281989</td>\n",
              "      <td>0.247085</td>\n",
              "    </tr>\n",
              "    <tr>\n",
              "      <th>공가수</th>\n",
              "      <td>0.068192</td>\n",
              "      <td>-0.089201</td>\n",
              "      <td>0.166472</td>\n",
              "      <td>1.000000</td>\n",
              "      <td>-0.093334</td>\n",
              "      <td>0.043285</td>\n",
              "      <td>0.289819</td>\n",
              "      <td>0.118121</td>\n",
              "    </tr>\n",
              "    <tr>\n",
              "      <th>도보 10분거리 내 지하철역 수(환승노선 수 반영)</th>\n",
              "      <td>0.213843</td>\n",
              "      <td>-0.013111</td>\n",
              "      <td>-0.056680</td>\n",
              "      <td>-0.093334</td>\n",
              "      <td>1.000000</td>\n",
              "      <td>0.098380</td>\n",
              "      <td>-0.055544</td>\n",
              "      <td>-0.108592</td>\n",
              "    </tr>\n",
              "    <tr>\n",
              "      <th>도보 10분거리 내 버스정류장 수</th>\n",
              "      <td>-0.001446</td>\n",
              "      <td>-0.007866</td>\n",
              "      <td>0.047112</td>\n",
              "      <td>0.043285</td>\n",
              "      <td>0.098380</td>\n",
              "      <td>1.000000</td>\n",
              "      <td>0.070696</td>\n",
              "      <td>0.103752</td>\n",
              "    </tr>\n",
              "    <tr>\n",
              "      <th>단지내주차면수</th>\n",
              "      <td>0.501488</td>\n",
              "      <td>0.071260</td>\n",
              "      <td>0.281989</td>\n",
              "      <td>0.289819</td>\n",
              "      <td>-0.055544</td>\n",
              "      <td>0.070696</td>\n",
              "      <td>1.000000</td>\n",
              "      <td>0.859216</td>\n",
              "    </tr>\n",
              "    <tr>\n",
              "      <th>등록차량수</th>\n",
              "      <td>0.316703</td>\n",
              "      <td>0.115453</td>\n",
              "      <td>0.247085</td>\n",
              "      <td>0.118121</td>\n",
              "      <td>-0.108592</td>\n",
              "      <td>0.103752</td>\n",
              "      <td>0.859216</td>\n",
              "      <td>1.000000</td>\n",
              "    </tr>\n",
              "  </tbody>\n",
              "</table>\n",
              "</div>"
            ],
            "text/plain": [
              "                                  총세대수      전용면적  ...   단지내주차면수     등록차량수\n",
              "총세대수                          1.000000  0.042271  ...  0.501488  0.316703\n",
              "전용면적                          0.042271  1.000000  ...  0.071260  0.115453\n",
              "전용면적별세대수                      0.098205 -0.035479  ...  0.281989  0.247085\n",
              "공가수                           0.068192 -0.089201  ...  0.289819  0.118121\n",
              "도보 10분거리 내 지하철역 수(환승노선 수 반영)  0.213843 -0.013111  ... -0.055544 -0.108592\n",
              "도보 10분거리 내 버스정류장 수           -0.001446 -0.007866  ...  0.070696  0.103752\n",
              "단지내주차면수                       0.501488  0.071260  ...  1.000000  0.859216\n",
              "등록차량수                         0.316703  0.115453  ...  0.859216  1.000000\n",
              "\n",
              "[8 rows x 8 columns]"
            ]
          },
          "metadata": {
            "tags": []
          },
          "execution_count": 5
        }
      ]
    },
    {
      "cell_type": "code",
      "metadata": {
        "colab": {
          "base_uri": "https://localhost:8080/"
        },
        "id": "hOV5RFwHmsga",
        "outputId": "14021340-95a6-4d45-a84d-60f43ba30df7"
      },
      "source": [
        "train.info()"
      ],
      "execution_count": null,
      "outputs": [
        {
          "output_type": "stream",
          "text": [
            "<class 'pandas.core.frame.DataFrame'>\n",
            "RangeIndex: 2952 entries, 0 to 2951\n",
            "Data columns (total 15 columns):\n",
            " #   Column                        Non-Null Count  Dtype  \n",
            "---  ------                        --------------  -----  \n",
            " 0   단지코드                          2952 non-null   object \n",
            " 1   총세대수                          2952 non-null   int64  \n",
            " 2   임대건물구분                        2952 non-null   object \n",
            " 3   지역                            2952 non-null   object \n",
            " 4   공급유형                          2952 non-null   object \n",
            " 5   전용면적                          2952 non-null   float64\n",
            " 6   전용면적별세대수                      2952 non-null   int64  \n",
            " 7   공가수                           2952 non-null   float64\n",
            " 8   자격유형                          2952 non-null   object \n",
            " 9   임대보증금                         2383 non-null   object \n",
            " 10  임대료                           2383 non-null   object \n",
            " 11  도보 10분거리 내 지하철역 수(환승노선 수 반영)  2741 non-null   float64\n",
            " 12  도보 10분거리 내 버스정류장 수            2948 non-null   float64\n",
            " 13  단지내주차면수                       2952 non-null   float64\n",
            " 14  등록차량수                         2952 non-null   float64\n",
            "dtypes: float64(6), int64(2), object(7)\n",
            "memory usage: 346.1+ KB\n"
          ],
          "name": "stdout"
        }
      ]
    },
    {
      "cell_type": "markdown",
      "metadata": {
        "id": "7TsHcV04nZ8-"
      },
      "source": [
        "< Train data null 값 >\n",
        "\n",
        "임대보증금, 임대료, 도보 10분거리 내 지하철역 수(환승노선 수 반영), 도보 10분거리 내 버스정류장 수"
      ]
    },
    {
      "cell_type": "code",
      "metadata": {
        "colab": {
          "base_uri": "https://localhost:8080/",
          "height": 514
        },
        "id": "GEz0JkEapPk3",
        "outputId": "960ee674-14a8-4b23-bacf-35cd746832fb"
      },
      "source": [
        "train.isnull().sum().to_frame()"
      ],
      "execution_count": null,
      "outputs": [
        {
          "output_type": "execute_result",
          "data": {
            "text/html": [
              "<div>\n",
              "<style scoped>\n",
              "    .dataframe tbody tr th:only-of-type {\n",
              "        vertical-align: middle;\n",
              "    }\n",
              "\n",
              "    .dataframe tbody tr th {\n",
              "        vertical-align: top;\n",
              "    }\n",
              "\n",
              "    .dataframe thead th {\n",
              "        text-align: right;\n",
              "    }\n",
              "</style>\n",
              "<table border=\"1\" class=\"dataframe\">\n",
              "  <thead>\n",
              "    <tr style=\"text-align: right;\">\n",
              "      <th></th>\n",
              "      <th>0</th>\n",
              "    </tr>\n",
              "  </thead>\n",
              "  <tbody>\n",
              "    <tr>\n",
              "      <th>단지코드</th>\n",
              "      <td>0</td>\n",
              "    </tr>\n",
              "    <tr>\n",
              "      <th>총세대수</th>\n",
              "      <td>0</td>\n",
              "    </tr>\n",
              "    <tr>\n",
              "      <th>임대건물구분</th>\n",
              "      <td>0</td>\n",
              "    </tr>\n",
              "    <tr>\n",
              "      <th>지역</th>\n",
              "      <td>0</td>\n",
              "    </tr>\n",
              "    <tr>\n",
              "      <th>공급유형</th>\n",
              "      <td>0</td>\n",
              "    </tr>\n",
              "    <tr>\n",
              "      <th>전용면적</th>\n",
              "      <td>0</td>\n",
              "    </tr>\n",
              "    <tr>\n",
              "      <th>전용면적별세대수</th>\n",
              "      <td>0</td>\n",
              "    </tr>\n",
              "    <tr>\n",
              "      <th>공가수</th>\n",
              "      <td>0</td>\n",
              "    </tr>\n",
              "    <tr>\n",
              "      <th>자격유형</th>\n",
              "      <td>0</td>\n",
              "    </tr>\n",
              "    <tr>\n",
              "      <th>임대보증금</th>\n",
              "      <td>569</td>\n",
              "    </tr>\n",
              "    <tr>\n",
              "      <th>임대료</th>\n",
              "      <td>569</td>\n",
              "    </tr>\n",
              "    <tr>\n",
              "      <th>도보 10분거리 내 지하철역 수(환승노선 수 반영)</th>\n",
              "      <td>211</td>\n",
              "    </tr>\n",
              "    <tr>\n",
              "      <th>도보 10분거리 내 버스정류장 수</th>\n",
              "      <td>4</td>\n",
              "    </tr>\n",
              "    <tr>\n",
              "      <th>단지내주차면수</th>\n",
              "      <td>0</td>\n",
              "    </tr>\n",
              "    <tr>\n",
              "      <th>등록차량수</th>\n",
              "      <td>0</td>\n",
              "    </tr>\n",
              "  </tbody>\n",
              "</table>\n",
              "</div>"
            ],
            "text/plain": [
              "                                0\n",
              "단지코드                            0\n",
              "총세대수                            0\n",
              "임대건물구분                          0\n",
              "지역                              0\n",
              "공급유형                            0\n",
              "전용면적                            0\n",
              "전용면적별세대수                        0\n",
              "공가수                             0\n",
              "자격유형                            0\n",
              "임대보증금                         569\n",
              "임대료                           569\n",
              "도보 10분거리 내 지하철역 수(환승노선 수 반영)  211\n",
              "도보 10분거리 내 버스정류장 수              4\n",
              "단지내주차면수                         0\n",
              "등록차량수                           0"
            ]
          },
          "metadata": {
            "tags": []
          },
          "execution_count": 7
        }
      ]
    },
    {
      "cell_type": "markdown",
      "metadata": {
        "id": "erc8omlSoS9Q"
      },
      "source": [
        "### 테스트 데이터"
      ]
    },
    {
      "cell_type": "code",
      "metadata": {
        "colab": {
          "base_uri": "https://localhost:8080/",
          "height": 306
        },
        "id": "SPuxGbwvpYkE",
        "outputId": "64588a56-9de6-438f-9c38-c4dfaa77452b"
      },
      "source": [
        "test.head()"
      ],
      "execution_count": null,
      "outputs": [
        {
          "output_type": "execute_result",
          "data": {
            "text/html": [
              "<div>\n",
              "<style scoped>\n",
              "    .dataframe tbody tr th:only-of-type {\n",
              "        vertical-align: middle;\n",
              "    }\n",
              "\n",
              "    .dataframe tbody tr th {\n",
              "        vertical-align: top;\n",
              "    }\n",
              "\n",
              "    .dataframe thead th {\n",
              "        text-align: right;\n",
              "    }\n",
              "</style>\n",
              "<table border=\"1\" class=\"dataframe\">\n",
              "  <thead>\n",
              "    <tr style=\"text-align: right;\">\n",
              "      <th></th>\n",
              "      <th>단지코드</th>\n",
              "      <th>총세대수</th>\n",
              "      <th>임대건물구분</th>\n",
              "      <th>지역</th>\n",
              "      <th>공급유형</th>\n",
              "      <th>전용면적</th>\n",
              "      <th>전용면적별세대수</th>\n",
              "      <th>공가수</th>\n",
              "      <th>자격유형</th>\n",
              "      <th>임대보증금</th>\n",
              "      <th>임대료</th>\n",
              "      <th>도보 10분거리 내 지하철역 수(환승노선 수 반영)</th>\n",
              "      <th>도보 10분거리 내 버스정류장 수</th>\n",
              "      <th>단지내주차면수</th>\n",
              "    </tr>\n",
              "  </thead>\n",
              "  <tbody>\n",
              "    <tr>\n",
              "      <th>0</th>\n",
              "      <td>C1072</td>\n",
              "      <td>754</td>\n",
              "      <td>아파트</td>\n",
              "      <td>경기도</td>\n",
              "      <td>국민임대</td>\n",
              "      <td>39.79</td>\n",
              "      <td>116</td>\n",
              "      <td>14.0</td>\n",
              "      <td>H</td>\n",
              "      <td>22830000</td>\n",
              "      <td>189840</td>\n",
              "      <td>0.0</td>\n",
              "      <td>2.0</td>\n",
              "      <td>683.0</td>\n",
              "    </tr>\n",
              "    <tr>\n",
              "      <th>1</th>\n",
              "      <td>C1072</td>\n",
              "      <td>754</td>\n",
              "      <td>아파트</td>\n",
              "      <td>경기도</td>\n",
              "      <td>국민임대</td>\n",
              "      <td>46.81</td>\n",
              "      <td>30</td>\n",
              "      <td>14.0</td>\n",
              "      <td>A</td>\n",
              "      <td>36048000</td>\n",
              "      <td>249930</td>\n",
              "      <td>0.0</td>\n",
              "      <td>2.0</td>\n",
              "      <td>683.0</td>\n",
              "    </tr>\n",
              "    <tr>\n",
              "      <th>2</th>\n",
              "      <td>C1072</td>\n",
              "      <td>754</td>\n",
              "      <td>아파트</td>\n",
              "      <td>경기도</td>\n",
              "      <td>국민임대</td>\n",
              "      <td>46.90</td>\n",
              "      <td>112</td>\n",
              "      <td>14.0</td>\n",
              "      <td>H</td>\n",
              "      <td>36048000</td>\n",
              "      <td>249930</td>\n",
              "      <td>0.0</td>\n",
              "      <td>2.0</td>\n",
              "      <td>683.0</td>\n",
              "    </tr>\n",
              "    <tr>\n",
              "      <th>3</th>\n",
              "      <td>C1072</td>\n",
              "      <td>754</td>\n",
              "      <td>아파트</td>\n",
              "      <td>경기도</td>\n",
              "      <td>국민임대</td>\n",
              "      <td>46.90</td>\n",
              "      <td>120</td>\n",
              "      <td>14.0</td>\n",
              "      <td>H</td>\n",
              "      <td>36048000</td>\n",
              "      <td>249930</td>\n",
              "      <td>0.0</td>\n",
              "      <td>2.0</td>\n",
              "      <td>683.0</td>\n",
              "    </tr>\n",
              "    <tr>\n",
              "      <th>4</th>\n",
              "      <td>C1072</td>\n",
              "      <td>754</td>\n",
              "      <td>아파트</td>\n",
              "      <td>경기도</td>\n",
              "      <td>국민임대</td>\n",
              "      <td>51.46</td>\n",
              "      <td>60</td>\n",
              "      <td>14.0</td>\n",
              "      <td>H</td>\n",
              "      <td>43497000</td>\n",
              "      <td>296780</td>\n",
              "      <td>0.0</td>\n",
              "      <td>2.0</td>\n",
              "      <td>683.0</td>\n",
              "    </tr>\n",
              "  </tbody>\n",
              "</table>\n",
              "</div>"
            ],
            "text/plain": [
              "    단지코드  총세대수  ... 도보 10분거리 내 버스정류장 수 단지내주차면수\n",
              "0  C1072   754  ...                2.0   683.0\n",
              "1  C1072   754  ...                2.0   683.0\n",
              "2  C1072   754  ...                2.0   683.0\n",
              "3  C1072   754  ...                2.0   683.0\n",
              "4  C1072   754  ...                2.0   683.0\n",
              "\n",
              "[5 rows x 14 columns]"
            ]
          },
          "metadata": {
            "tags": []
          },
          "execution_count": 8
        }
      ]
    },
    {
      "cell_type": "code",
      "metadata": {
        "colab": {
          "base_uri": "https://localhost:8080/"
        },
        "id": "8Ty25KMTmtbq",
        "outputId": "41a0670b-2503-4179-c5ed-1fb5df1c3de9"
      },
      "source": [
        "test.info()"
      ],
      "execution_count": null,
      "outputs": [
        {
          "output_type": "stream",
          "text": [
            "<class 'pandas.core.frame.DataFrame'>\n",
            "RangeIndex: 1022 entries, 0 to 1021\n",
            "Data columns (total 14 columns):\n",
            " #   Column                        Non-Null Count  Dtype  \n",
            "---  ------                        --------------  -----  \n",
            " 0   단지코드                          1022 non-null   object \n",
            " 1   총세대수                          1022 non-null   int64  \n",
            " 2   임대건물구분                        1022 non-null   object \n",
            " 3   지역                            1022 non-null   object \n",
            " 4   공급유형                          1022 non-null   object \n",
            " 5   전용면적                          1022 non-null   float64\n",
            " 6   전용면적별세대수                      1022 non-null   int64  \n",
            " 7   공가수                           1022 non-null   float64\n",
            " 8   자격유형                          1020 non-null   object \n",
            " 9   임대보증금                         842 non-null    object \n",
            " 10  임대료                           842 non-null    object \n",
            " 11  도보 10분거리 내 지하철역 수(환승노선 수 반영)  980 non-null    float64\n",
            " 12  도보 10분거리 내 버스정류장 수            1022 non-null   float64\n",
            " 13  단지내주차면수                       1022 non-null   float64\n",
            "dtypes: float64(5), int64(2), object(7)\n",
            "memory usage: 111.9+ KB\n"
          ],
          "name": "stdout"
        }
      ]
    },
    {
      "cell_type": "code",
      "metadata": {
        "colab": {
          "base_uri": "https://localhost:8080/",
          "height": 483
        },
        "id": "GNxr-l1ToY2k",
        "outputId": "3485ce6a-b8c7-4a86-9b31-a77dc007aa81"
      },
      "source": [
        "test.isnull().sum().to_frame()"
      ],
      "execution_count": null,
      "outputs": [
        {
          "output_type": "execute_result",
          "data": {
            "text/html": [
              "<div>\n",
              "<style scoped>\n",
              "    .dataframe tbody tr th:only-of-type {\n",
              "        vertical-align: middle;\n",
              "    }\n",
              "\n",
              "    .dataframe tbody tr th {\n",
              "        vertical-align: top;\n",
              "    }\n",
              "\n",
              "    .dataframe thead th {\n",
              "        text-align: right;\n",
              "    }\n",
              "</style>\n",
              "<table border=\"1\" class=\"dataframe\">\n",
              "  <thead>\n",
              "    <tr style=\"text-align: right;\">\n",
              "      <th></th>\n",
              "      <th>0</th>\n",
              "    </tr>\n",
              "  </thead>\n",
              "  <tbody>\n",
              "    <tr>\n",
              "      <th>단지코드</th>\n",
              "      <td>0</td>\n",
              "    </tr>\n",
              "    <tr>\n",
              "      <th>총세대수</th>\n",
              "      <td>0</td>\n",
              "    </tr>\n",
              "    <tr>\n",
              "      <th>임대건물구분</th>\n",
              "      <td>0</td>\n",
              "    </tr>\n",
              "    <tr>\n",
              "      <th>지역</th>\n",
              "      <td>0</td>\n",
              "    </tr>\n",
              "    <tr>\n",
              "      <th>공급유형</th>\n",
              "      <td>0</td>\n",
              "    </tr>\n",
              "    <tr>\n",
              "      <th>전용면적</th>\n",
              "      <td>0</td>\n",
              "    </tr>\n",
              "    <tr>\n",
              "      <th>전용면적별세대수</th>\n",
              "      <td>0</td>\n",
              "    </tr>\n",
              "    <tr>\n",
              "      <th>공가수</th>\n",
              "      <td>0</td>\n",
              "    </tr>\n",
              "    <tr>\n",
              "      <th>자격유형</th>\n",
              "      <td>2</td>\n",
              "    </tr>\n",
              "    <tr>\n",
              "      <th>임대보증금</th>\n",
              "      <td>180</td>\n",
              "    </tr>\n",
              "    <tr>\n",
              "      <th>임대료</th>\n",
              "      <td>180</td>\n",
              "    </tr>\n",
              "    <tr>\n",
              "      <th>도보 10분거리 내 지하철역 수(환승노선 수 반영)</th>\n",
              "      <td>42</td>\n",
              "    </tr>\n",
              "    <tr>\n",
              "      <th>도보 10분거리 내 버스정류장 수</th>\n",
              "      <td>0</td>\n",
              "    </tr>\n",
              "    <tr>\n",
              "      <th>단지내주차면수</th>\n",
              "      <td>0</td>\n",
              "    </tr>\n",
              "  </tbody>\n",
              "</table>\n",
              "</div>"
            ],
            "text/plain": [
              "                                0\n",
              "단지코드                            0\n",
              "총세대수                            0\n",
              "임대건물구분                          0\n",
              "지역                              0\n",
              "공급유형                            0\n",
              "전용면적                            0\n",
              "전용면적별세대수                        0\n",
              "공가수                             0\n",
              "자격유형                            2\n",
              "임대보증금                         180\n",
              "임대료                           180\n",
              "도보 10분거리 내 지하철역 수(환승노선 수 반영)   42\n",
              "도보 10분거리 내 버스정류장 수              0\n",
              "단지내주차면수                         0"
            ]
          },
          "metadata": {
            "tags": []
          },
          "execution_count": 10
        }
      ]
    },
    {
      "cell_type": "markdown",
      "metadata": {
        "id": "7up7StRRnwFU"
      },
      "source": [
        "< Test data null 값 >\n",
        "\n",
        "자격유형, 임대보증금, 임대료, 도보 10분거리 내 지하철역 수(환승노선 수 반영)"
      ]
    },
    {
      "cell_type": "markdown",
      "metadata": {
        "id": "syJhU1ZSpu9W"
      },
      "source": [
        "Train, Test null 값을 보면\n",
        "\n",
        "임대보증금, 임대료는 같이 null값으로 존재할 것으로 생각할 수 있음"
      ]
    },
    {
      "cell_type": "markdown",
      "metadata": {
        "id": "hWoQW2o4sdGD"
      },
      "source": [
        "# 데이터 전처리"
      ]
    },
    {
      "cell_type": "markdown",
      "metadata": {
        "id": "HI4hfj-Hqq4o"
      },
      "source": [
        "[ https://dacon.io/competitions/official/235745/codeshare/2853?page=1&dtype=recent ] 참고\n",
        "\n",
        "\n",
        "임대가 아닌 공공분양, 전세 같은 경우는 임대 관련 값은 NA\n",
        "\n",
        "임대보증금, 임대료를 0으로 대체"
      ]
    },
    {
      "cell_type": "code",
      "metadata": {
        "id": "xRIcQ9-Gn4aS"
      },
      "source": [
        "# 임대관련 값 '-'을 null로 바꾼 후 float로 타입 변경\n",
        "train.loc[train.임대보증금=='-', '임대보증금'] = np.nan\n",
        "test.loc[test.임대보증금=='-', '임대보증금'] = np.nan\n",
        "train['임대보증금'] = train['임대보증금'].astype(float)\n",
        "test['임대보증금'] = test['임대보증금'].astype(float)\n",
        "\n",
        "train.loc[train.임대료=='-', '임대료'] = np.nan\n",
        "test.loc[test.임대료=='-', '임대료'] = np.nan\n",
        "train['임대료'] = train['임대료'].astype(float)\n",
        "test['임대료'] = test['임대료'].astype(float)\n",
        "\n",
        "# 임대관련 값 0으로 대체 \n",
        "train[['임대보증금', '임대료']] = train[['임대보증금', '임대료']].fillna(0)\n",
        "test[['임대보증금', '임대료']] = test[['임대보증금', '임대료']].fillna(0)"
      ],
      "execution_count": null,
      "outputs": []
    },
    {
      "cell_type": "markdown",
      "metadata": {
        "id": "vmw_LmMUz2AD"
      },
      "source": [
        "임대보증금, 임대료 dtype을 int로 변경"
      ]
    },
    {
      "cell_type": "markdown",
      "metadata": {
        "id": "n_diT497ssDC"
      },
      "source": [
        "지하철 및 버스정류장 수 관련 Null 값도 없는 것으로 추정하고 0으로 대체"
      ]
    },
    {
      "cell_type": "code",
      "metadata": {
        "id": "OqUc53tztIps"
      },
      "source": [
        "# 지하철 및 버스정류장 수 0으로 대체\n",
        "col = ['도보 10분거리 내 지하철역 수(환승노선 수 반영)', '도보 10분거리 내 버스정류장 수']\n",
        "train[col] = train[col].fillna(0)\n",
        "test['도보 10분거리 내 지하철역 수(환승노선 수 반영)'] = test['도보 10분거리 내 지하철역 수(환승노선 수 반영)'].fillna(0)"
      ],
      "execution_count": null,
      "outputs": []
    },
    {
      "cell_type": "markdown",
      "metadata": {
        "id": "lZopOFlruJZX"
      },
      "source": [
        "test data의 자격유형은 최빈값으로 대체 \n",
        "\n",
        "==> 'A'"
      ]
    },
    {
      "cell_type": "code",
      "metadata": {
        "colab": {
          "base_uri": "https://localhost:8080/"
        },
        "id": "bFMaTRLfuIgK",
        "outputId": "1b5e7465-d6df-49d5-91f3-c2295425969c"
      },
      "source": [
        "test['자격유형'].value_counts() # A가 가장 많음을 확인"
      ],
      "execution_count": null,
      "outputs": [
        {
          "output_type": "execute_result",
          "data": {
            "text/plain": [
              "A    572\n",
              "D    180\n",
              "H     92\n",
              "J     84\n",
              "C     34\n",
              "K     16\n",
              "L     12\n",
              "N     10\n",
              "E     10\n",
              "I      7\n",
              "M      2\n",
              "G      1\n",
              "Name: 자격유형, dtype: int64"
            ]
          },
          "metadata": {
            "tags": []
          },
          "execution_count": 13
        }
      ]
    },
    {
      "cell_type": "code",
      "metadata": {
        "id": "BRvyDoDZuajk"
      },
      "source": [
        "# A로 대체\n",
        "test['자격유형'] = test['자격유형'].fillna('A')"
      ],
      "execution_count": null,
      "outputs": []
    },
    {
      "cell_type": "markdown",
      "metadata": {
        "id": "9n2F7UhkvDpT"
      },
      "source": [
        "중복이 상당히 많은 것으로 확인되므로 중복을 제거"
      ]
    },
    {
      "cell_type": "code",
      "metadata": {
        "id": "7wc7UNavvGGV"
      },
      "source": [
        "train = train.drop_duplicates()\n",
        "test = test.drop_duplicates()"
      ],
      "execution_count": null,
      "outputs": []
    },
    {
      "cell_type": "markdown",
      "metadata": {
        "id": "M4X1HvRB33Gq"
      },
      "source": [
        "[ https://dacon.io/competitions/official/235745/codeshare/2851?page=1&dtype=recent ]\n",
        "\n",
        "train, test의 각 단지코드를 하나의 로우로 합하기"
      ]
    },
    {
      "cell_type": "code",
      "metadata": {
        "id": "3z0Fih3X797H"
      },
      "source": [
        "def reshape_cat_features(data, cast_col, value_col):\n",
        "    res = data.drop_duplicates(['단지코드', cast_col]).assign(counter=1).pivot(index='단지코드', columns=cast_col, values=value_col).fillna(0)\n",
        "    res.columns.name = None\n",
        "    res = res.rename(columns={col:cast_col+'_'+col for col in res.columns})\n",
        "    return res"
      ],
      "execution_count": null,
      "outputs": []
    },
    {
      "cell_type": "code",
      "metadata": {
        "id": "lVHgbpoT7FUI"
      },
      "source": [
        "unique_cols = ['총세대수', '지역', '공가수', \n",
        "               '도보 10분거리 내 지하철역 수(환승노선 수 반영)',\n",
        "               '도보 10분거리 내 버스정류장 수',\n",
        "               '단지내주차면수', '등록차량수']\n",
        "train_agg = train.set_index('단지코드')[unique_cols].drop_duplicates()\n",
        "test_agg = test.set_index('단지코드')[[col for col in unique_cols if col!='등록차량수']].drop_duplicates()"
      ],
      "execution_count": null,
      "outputs": []
    },
    {
      "cell_type": "code",
      "metadata": {
        "id": "eBcf2kHJ6Sk3"
      },
      "source": [
        "train.loc[train.공급유형.isin(['공공임대(5년)', '공공분양', '공공임대(10년)', '공공임대(분납)']), '공급유형'] = '공공임대(5년/10년/분납/분양)'\n",
        "test.loc[test.공급유형.isin(['공공임대(5년)', '공공분양', '공공임대(10년)', '공공임대(분납)']), '공급유형'] = '공공임대(5년/10년/분납/분양)'\n",
        "train.loc[train.공급유형.isin(['장기전세', '국민임대']), '공급유형'] = '국민임대/장기전세'\n",
        "test.loc[test.공급유형.isin(['장기전세', '국민임대']), '공급유형'] = '국민임대/장기전세'"
      ],
      "execution_count": null,
      "outputs": []
    },
    {
      "cell_type": "code",
      "metadata": {
        "id": "WBGyC_vG6qXp"
      },
      "source": [
        "train.loc[train.자격유형.isin(['J', 'L', 'K', 'N', 'M', 'O']), '자격유형'] = '행복주택_공급대상'\n",
        "test.loc[test.자격유형.isin(['J', 'L', 'K', 'N', 'M', 'O']), '자격유형'] = '행복주택_공급대상'"
      ],
      "execution_count": null,
      "outputs": []
    },
    {
      "cell_type": "code",
      "metadata": {
        "id": "PHHkbv_j6SZr"
      },
      "source": [
        "train.loc[train.자격유형.isin(['H', 'B', 'E', 'G']), '자격유형'] = '국민임대/장기전세_공급대상'\n",
        "test.loc[test.자격유형.isin(['H', 'B', 'E', 'G']), '자격유형'] = '국민임대/장기전세_공급대상'\n",
        "\n",
        "train.loc[train.자격유형.isin(['C', 'I', 'F']), '자격유형'] = '영구임대_공급대상'\n",
        "test.loc[test.자격유형.isin(['C', 'I', 'F']), '자격유형'] = '영구임대_공급대상'"
      ],
      "execution_count": null,
      "outputs": []
    },
    {
      "cell_type": "code",
      "metadata": {
        "id": "M-JIhrGa6yw1"
      },
      "source": [
        "train_agg = pd.concat([train_agg,\n",
        "                       reshape_cat_features(data=train, cast_col='임대건물구분', value_col='counter'),\n",
        "                       reshape_cat_features(data=train, cast_col='공급유형', value_col='counter'),\n",
        "                       reshape_cat_features(data=train, cast_col='자격유형', value_col='counter')], axis=1)\n",
        "\n",
        "test_agg = pd.concat([test_agg,\n",
        "                       reshape_cat_features(data=test, cast_col='임대건물구분', value_col='counter'),\n",
        "                       reshape_cat_features(data=test, cast_col='공급유형', value_col='counter'),\n",
        "                       reshape_cat_features(data=test, cast_col='자격유형', value_col='counter')], axis=1)"
      ],
      "execution_count": null,
      "outputs": []
    },
    {
      "cell_type": "markdown",
      "metadata": {
        "id": "KAkkVmac3otI"
      },
      "source": [
        "# 모델링"
      ]
    },
    {
      "cell_type": "code",
      "metadata": {
        "id": "gsjMPHhOduf4"
      },
      "source": [
        "cat_features = ['지역']\n",
        "target_col = '등록차량수'\n",
        "x = train_agg.drop(columns=[target_col])\n",
        "y = train_agg[target_col]"
      ],
      "execution_count": null,
      "outputs": []
    },
    {
      "cell_type": "code",
      "metadata": {
        "id": "wFiQjqr1cVIm"
      },
      "source": [
        "'''from sklearn.model_selection import GridSearchCV\n",
        "\n",
        "catb = CatBoostRegressor(\n",
        "         cat_features=cat_features,\n",
        "         loss_function='MAE',\n",
        "         random_state=42\n",
        "    )\n",
        "\n",
        "grid = {'n_estimators' : [100], 'eta' : [0.01, 0.03, 0.05],\n",
        "        'depth': [4, 6, 10], 'l2_leaf_reg': [1, 3, 5, 7, 9]}\n",
        "        \n",
        "gcv = GridSearchCV(catb, param_grid = grid, cv = 3, refit=True, return_train_score=True)        \n",
        "gcv.fit(x,y)\n",
        "params = gcv.best_params_\n",
        "\n",
        "print(gcv.best_estimator_)\n",
        "#pickle.dump(gcv.best_estimator_, open(\"/content/drive/MyDrive/contest/parking_data/hyperparameter_catb.pickle\", \"wb\"))\n",
        "'''"
      ],
      "execution_count": null,
      "outputs": []
    },
    {
      "cell_type": "markdown",
      "metadata": {
        "id": "7iAGf3aGleAp"
      },
      "source": [
        "XGBRegressor(base_score=0.5, booster='gbtree', colsample_bylevel=1,\n",
        "             colsample_bynode=1, colsample_bytree=0.9, eta=0.01, gamma=0,\n",
        "             importance_type='gain', learning_rate=0.1, max_delta_step=0,\n",
        "             max_depth=3, min_child_weight=6, missing=None, n_estimators=100,\n",
        "             n_jobs=1, nthread=None, objective='reg:linear', random_state=0,\n",
        "             reg_alpha=0, reg_lambda=1, scale_pos_weight=1, seed=None,\n",
        "             silent=None, subsample=0.8, verbosity=1)"
      ]
    },
    {
      "cell_type": "markdown",
      "metadata": {
        "id": "Kkv4hVqrq4Du"
      },
      "source": [
        "catboost, 'depth': 4, 'eta': 0.05, 'l2_leaf_reg': 3, 'n_estimators': 500"
      ]
    },
    {
      "cell_type": "code",
      "metadata": {
        "id": "u14Z-OUwq8Cc"
      },
      "source": [
        "catb = CatBoostRegressor(\n",
        "         cat_features=cat_features,\n",
        "         loss_function='MAE',\n",
        "         depth = 4, learning_rate = 0.05,\n",
        "         l2_leaf_reg =  3, n_estimators = 500,\n",
        "         random_state=42\n",
        "    )\n",
        "\n",
        "xgb = XGBRegressor(base_score=0.5, booster='gbtree', colsample_bylevel=1, \n",
        "                   colsample_bynode=1, colsample_bytree=0.9, eta=0.01, gamma=0, \n",
        "                   importance_type='gain', learning_rate=0.1, max_delta_step=0, \n",
        "                   max_depth=3, min_child_weight=6, missing=None, n_estimators=300, \n",
        "                   n_jobs=1, nthread=None, objective='reg:linear', random_state=0, \n",
        "                   reg_alpha=0, reg_lambda=1, scale_pos_weight=1, seed=None, silent=None, \n",
        "                   subsample=0.8, verbosity=1)"
      ],
      "execution_count": null,
      "outputs": []
    },
    {
      "cell_type": "code",
      "metadata": {
        "colab": {
          "base_uri": "https://localhost:8080/"
        },
        "id": "Yz1AOYHXpl8Z",
        "outputId": "be25baa1-9e7b-4cc5-d1d2-262dd2b294c4"
      },
      "source": [
        "catb.fit(x, y, verbose=100)"
      ],
      "execution_count": null,
      "outputs": [
        {
          "output_type": "stream",
          "text": [
            "0:\tlearn: 280.5738759\ttotal: 47ms\tremaining: 23.5s\n",
            "100:\tlearn: 114.9617123\ttotal: 124ms\tremaining: 488ms\n",
            "200:\tlearn: 98.9093859\ttotal: 203ms\tremaining: 302ms\n",
            "300:\tlearn: 86.8717379\ttotal: 283ms\tremaining: 187ms\n",
            "400:\tlearn: 80.7560014\ttotal: 357ms\tremaining: 88ms\n",
            "499:\tlearn: 76.1668016\ttotal: 436ms\tremaining: 0us\n"
          ],
          "name": "stdout"
        },
        {
          "output_type": "execute_result",
          "data": {
            "text/plain": [
              "<catboost.core.CatBoostRegressor at 0x7fa8fdf52890>"
            ]
          },
          "metadata": {
            "tags": []
          },
          "execution_count": 25
        }
      ]
    },
    {
      "cell_type": "code",
      "metadata": {
        "colab": {
          "base_uri": "https://localhost:8080/"
        },
        "id": "ElWCvLCXsGSL",
        "outputId": "bdbe78a9-a36b-438f-f17b-970f7a532c76"
      },
      "source": [
        "xgb_x_train = train_agg.drop([target_col, '지역'],axis =1)\n",
        "xgb_t_train = test_agg.drop(['지역'],axis=1)\n",
        "\n",
        "xgb.fit(xgb_x_train,y)"
      ],
      "execution_count": null,
      "outputs": [
        {
          "output_type": "stream",
          "text": [
            "[05:48:01] WARNING: /workspace/src/objective/regression_obj.cu:152: reg:linear is now deprecated in favor of reg:squarederror.\n"
          ],
          "name": "stdout"
        },
        {
          "output_type": "execute_result",
          "data": {
            "text/plain": [
              "XGBRegressor(base_score=0.5, booster='gbtree', colsample_bylevel=1,\n",
              "             colsample_bynode=1, colsample_bytree=0.9, eta=0.01, gamma=0,\n",
              "             importance_type='gain', learning_rate=0.1, max_delta_step=0,\n",
              "             max_depth=3, min_child_weight=6, missing=None, n_estimators=300,\n",
              "             n_jobs=1, nthread=None, objective='reg:linear', random_state=0,\n",
              "             reg_alpha=0, reg_lambda=1, scale_pos_weight=1, seed=None,\n",
              "             silent=None, subsample=0.8, verbosity=1)"
            ]
          },
          "metadata": {
            "tags": []
          },
          "execution_count": 26
        }
      ]
    },
    {
      "cell_type": "markdown",
      "metadata": {
        "id": "tNPgn1CsrTQR"
      },
      "source": [
        "제출 파일 만들기"
      ]
    },
    {
      "cell_type": "code",
      "metadata": {
        "id": "ILUC4mzl2RNp"
      },
      "source": [
        "sample_submission = pd.read_csv('/content/drive/MyDrive/contest/parking_data/sample_submission.csv')"
      ],
      "execution_count": null,
      "outputs": []
    },
    {
      "cell_type": "code",
      "metadata": {
        "id": "cFdCKG3I2fZe"
      },
      "source": [
        "predictions1 = catb.predict(test_agg)\n",
        "predictions2 = xgb.predict(xgb_t_train)"
      ],
      "execution_count": null,
      "outputs": []
    },
    {
      "cell_type": "code",
      "metadata": {
        "colab": {
          "base_uri": "https://localhost:8080/"
        },
        "id": "bxqZAugCtUw0",
        "outputId": "7a72db67-71e8-4539-c5b3-44eb55658370"
      },
      "source": [
        "predictions = (predictions1 + predictions2) / 2\n",
        "predictions"
      ],
      "execution_count": null,
      "outputs": [
        {
          "output_type": "execute_result",
          "data": {
            "text/plain": [
              "array([ 641.47461364, 1287.43615828,  569.0239828 ,  556.96060974,\n",
              "       1035.53765716, 1860.12114562,  945.68167614,  423.8620673 ,\n",
              "        352.11344383,  305.808364  ,  472.16747218,  229.58488984,\n",
              "        361.03110274,  296.40333451,  401.72307259,  199.97980544,\n",
              "        447.11667807,  278.57064989,  115.09329085,  719.79930553,\n",
              "        194.51489326,  385.82775422,  461.01715726,  516.71176665,\n",
              "        366.86272523,  147.79061541,   49.83104964,  494.39910262,\n",
              "        367.21439604,  453.60971941,  810.6079746 ,  115.50925711,\n",
              "        452.90621744,  210.12741572,   74.62601342,  297.47427924,\n",
              "        462.74123204,  596.19028034,  788.23672694,  330.35941032,\n",
              "        447.00028977,  409.6450722 ,  396.01550928,  516.19978799,\n",
              "        694.22386651, 1261.04027791,  464.92236811,  599.95155602,\n",
              "        380.16016501,  367.50764526,  741.05873649,  299.42629972,\n",
              "       1028.11272719,  667.43600861,  576.13016643,  261.34224769,\n",
              "        541.77235225,  316.38181096,  446.19100732,  163.86411847,\n",
              "        390.35541766,  562.85238136, 1000.30173204,  400.76117464,\n",
              "        154.49845101,  267.49386885,  628.80277848,  975.14036906,\n",
              "        505.28051156,  442.78777999,  760.45021771,  292.81197441,\n",
              "        613.54316019,  697.80811259,  838.35807224,  413.58310655,\n",
              "        672.56331936,  946.66520725,  603.33887704,  889.19758826,\n",
              "        780.97827877, 1102.22983564,  306.45279843,  274.74317266,\n",
              "        286.64393309,  242.13300878,  240.69011741,  391.28994214,\n",
              "        309.40212271, 1036.71122559,  762.83596549,  641.00908351,\n",
              "        338.40640128,  647.38448208, 1055.16935635, 1110.99367483,\n",
              "        587.05694125, 1007.37919164,  587.77784629,  869.77719362,\n",
              "        628.60976209,  410.60164527,  819.73555571,  662.83718593,\n",
              "        984.35704841,  538.79951372, 1120.91222876,  632.61459791,\n",
              "        950.25704921,  297.48657407,  606.08529702, 1170.06941578,\n",
              "        825.88551666,  906.11725816,  819.34369783,   94.24981088,\n",
              "        119.29865698,  539.56669008,  840.35090815, 1422.79488182,\n",
              "        594.4910456 ,  858.50117576,  780.81038183,  387.12296567,\n",
              "        704.28347241,  258.04319276,  406.95571775,  569.98856778,\n",
              "         39.71102066,   38.29505031,   93.87650699,  633.43232672,\n",
              "        598.07675709,  282.01953228,  261.38375176,  261.04096549,\n",
              "        561.59776538,  489.38418334,  387.52506147,   95.26385857,\n",
              "        469.33917131,   57.56361284,  133.44992597,  247.70917344,\n",
              "        362.90286781,  231.94820445,  468.73061972,   31.82673125,\n",
              "        460.40727502,  172.44665543])"
            ]
          },
          "metadata": {
            "tags": []
          },
          "execution_count": 30
        }
      ]
    },
    {
      "cell_type": "code",
      "metadata": {
        "id": "uLbLjdMm25aJ",
        "colab": {
          "base_uri": "https://localhost:8080/",
          "height": 204
        },
        "outputId": "d6714081-6be4-4a34-de33-39b6fdd10a2c"
      },
      "source": [
        "sample_submission['num'] = predictions\n",
        "sample_submission.head()"
      ],
      "execution_count": null,
      "outputs": [
        {
          "output_type": "execute_result",
          "data": {
            "text/html": [
              "<div>\n",
              "<style scoped>\n",
              "    .dataframe tbody tr th:only-of-type {\n",
              "        vertical-align: middle;\n",
              "    }\n",
              "\n",
              "    .dataframe tbody tr th {\n",
              "        vertical-align: top;\n",
              "    }\n",
              "\n",
              "    .dataframe thead th {\n",
              "        text-align: right;\n",
              "    }\n",
              "</style>\n",
              "<table border=\"1\" class=\"dataframe\">\n",
              "  <thead>\n",
              "    <tr style=\"text-align: right;\">\n",
              "      <th></th>\n",
              "      <th>code</th>\n",
              "      <th>num</th>\n",
              "    </tr>\n",
              "  </thead>\n",
              "  <tbody>\n",
              "    <tr>\n",
              "      <th>0</th>\n",
              "      <td>C1072</td>\n",
              "      <td>641.474614</td>\n",
              "    </tr>\n",
              "    <tr>\n",
              "      <th>1</th>\n",
              "      <td>C1128</td>\n",
              "      <td>1287.436158</td>\n",
              "    </tr>\n",
              "    <tr>\n",
              "      <th>2</th>\n",
              "      <td>C1456</td>\n",
              "      <td>569.023983</td>\n",
              "    </tr>\n",
              "    <tr>\n",
              "      <th>3</th>\n",
              "      <td>C1840</td>\n",
              "      <td>556.960610</td>\n",
              "    </tr>\n",
              "    <tr>\n",
              "      <th>4</th>\n",
              "      <td>C1332</td>\n",
              "      <td>1035.537657</td>\n",
              "    </tr>\n",
              "  </tbody>\n",
              "</table>\n",
              "</div>"
            ],
            "text/plain": [
              "    code          num\n",
              "0  C1072   641.474614\n",
              "1  C1128  1287.436158\n",
              "2  C1456   569.023983\n",
              "3  C1840   556.960610\n",
              "4  C1332  1035.537657"
            ]
          },
          "metadata": {
            "tags": []
          },
          "execution_count": 31
        }
      ]
    },
    {
      "cell_type": "code",
      "metadata": {
        "id": "xfWMpfwqG-Z2"
      },
      "source": [
        "file_name = 'parking06.csv'\n",
        "sample_submission.to_csv('/content/drive/MyDrive/contest/parking_data/' + file_name, index=False)"
      ],
      "execution_count": null,
      "outputs": []
    }
  ]
}