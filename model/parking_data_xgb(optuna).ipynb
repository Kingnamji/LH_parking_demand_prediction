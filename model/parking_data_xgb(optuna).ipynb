{
  "nbformat": 4,
  "nbformat_minor": 0,
  "metadata": {
    "colab": {
      "name": "parking_data_xgb(obtuna)",
      "provenance": []
    },
    "kernelspec": {
      "name": "python3",
      "display_name": "Python 3"
    },
    "language_info": {
      "name": "python"
    },
    "accelerator": "GPU"
  },
  "cells": [
    {
      "cell_type": "code",
      "metadata": {
        "id": "JD8a3yPjmTNK"
      },
      "source": [
        "# 라이브러리\n",
        "import pandas as pd\n",
        "import numpy as np\n",
        "import tqdm as tq\n",
        "import pickle\n",
        "import matplotlib.pyplot as plt\n",
        "from xgboost import XGBRegressor\n",
        "#from catboost import CatBoostRegressor\n",
        "from tqdm import tqdm"
      ],
      "execution_count": 1,
      "outputs": []
    },
    {
      "cell_type": "markdown",
      "metadata": {
        "id": "uwEa8JN2no_u"
      },
      "source": [
        "# 데이터 탐색"
      ]
    },
    {
      "cell_type": "code",
      "metadata": {
        "id": "Ek5jvp6xll00"
      },
      "source": [
        "train = pd.read_csv('/content/drive/MyDrive/contest/parking_data/train.csv')\n",
        "test = pd.read_csv('/content/drive/MyDrive/contest/parking_data/test.csv')\n",
        "age_gender = pd.read_csv('/content/drive/MyDrive/contest/parking_data/age_gender_info.csv')"
      ],
      "execution_count": 2,
      "outputs": []
    },
    {
      "cell_type": "markdown",
      "metadata": {
        "id": "ZGc11-UOoOzy"
      },
      "source": [
        "### 훈련 데이터"
      ]
    },
    {
      "cell_type": "code",
      "metadata": {
        "colab": {
          "base_uri": "https://localhost:8080/",
          "height": 544
        },
        "id": "WRH-8NvcpSll",
        "outputId": "7a105756-5a70-4e2b-e744-966943cd754a"
      },
      "source": [
        "train.head()"
      ],
      "execution_count": 3,
      "outputs": [
        {
          "output_type": "execute_result",
          "data": {
            "text/html": [
              "<div>\n",
              "<style scoped>\n",
              "    .dataframe tbody tr th:only-of-type {\n",
              "        vertical-align: middle;\n",
              "    }\n",
              "\n",
              "    .dataframe tbody tr th {\n",
              "        vertical-align: top;\n",
              "    }\n",
              "\n",
              "    .dataframe thead th {\n",
              "        text-align: right;\n",
              "    }\n",
              "</style>\n",
              "<table border=\"1\" class=\"dataframe\">\n",
              "  <thead>\n",
              "    <tr style=\"text-align: right;\">\n",
              "      <th></th>\n",
              "      <th>단지코드</th>\n",
              "      <th>총세대수</th>\n",
              "      <th>임대건물구분</th>\n",
              "      <th>지역</th>\n",
              "      <th>공급유형</th>\n",
              "      <th>전용면적</th>\n",
              "      <th>전용면적별세대수</th>\n",
              "      <th>공가수</th>\n",
              "      <th>자격유형</th>\n",
              "      <th>임대보증금</th>\n",
              "      <th>임대료</th>\n",
              "      <th>도보 10분거리 내 지하철역 수(환승노선 수 반영)</th>\n",
              "      <th>도보 10분거리 내 버스정류장 수</th>\n",
              "      <th>단지내주차면수</th>\n",
              "      <th>등록차량수</th>\n",
              "    </tr>\n",
              "  </thead>\n",
              "  <tbody>\n",
              "    <tr>\n",
              "      <th>0</th>\n",
              "      <td>C2483</td>\n",
              "      <td>900</td>\n",
              "      <td>아파트</td>\n",
              "      <td>경상북도</td>\n",
              "      <td>국민임대</td>\n",
              "      <td>39.72</td>\n",
              "      <td>134</td>\n",
              "      <td>38.0</td>\n",
              "      <td>A</td>\n",
              "      <td>15667000</td>\n",
              "      <td>103680</td>\n",
              "      <td>0.0</td>\n",
              "      <td>3.0</td>\n",
              "      <td>1425.0</td>\n",
              "      <td>1015.0</td>\n",
              "    </tr>\n",
              "    <tr>\n",
              "      <th>1</th>\n",
              "      <td>C2483</td>\n",
              "      <td>900</td>\n",
              "      <td>아파트</td>\n",
              "      <td>경상북도</td>\n",
              "      <td>국민임대</td>\n",
              "      <td>39.72</td>\n",
              "      <td>15</td>\n",
              "      <td>38.0</td>\n",
              "      <td>A</td>\n",
              "      <td>15667000</td>\n",
              "      <td>103680</td>\n",
              "      <td>0.0</td>\n",
              "      <td>3.0</td>\n",
              "      <td>1425.0</td>\n",
              "      <td>1015.0</td>\n",
              "    </tr>\n",
              "    <tr>\n",
              "      <th>2</th>\n",
              "      <td>C2483</td>\n",
              "      <td>900</td>\n",
              "      <td>아파트</td>\n",
              "      <td>경상북도</td>\n",
              "      <td>국민임대</td>\n",
              "      <td>51.93</td>\n",
              "      <td>385</td>\n",
              "      <td>38.0</td>\n",
              "      <td>A</td>\n",
              "      <td>27304000</td>\n",
              "      <td>184330</td>\n",
              "      <td>0.0</td>\n",
              "      <td>3.0</td>\n",
              "      <td>1425.0</td>\n",
              "      <td>1015.0</td>\n",
              "    </tr>\n",
              "    <tr>\n",
              "      <th>3</th>\n",
              "      <td>C2483</td>\n",
              "      <td>900</td>\n",
              "      <td>아파트</td>\n",
              "      <td>경상북도</td>\n",
              "      <td>국민임대</td>\n",
              "      <td>51.93</td>\n",
              "      <td>15</td>\n",
              "      <td>38.0</td>\n",
              "      <td>A</td>\n",
              "      <td>27304000</td>\n",
              "      <td>184330</td>\n",
              "      <td>0.0</td>\n",
              "      <td>3.0</td>\n",
              "      <td>1425.0</td>\n",
              "      <td>1015.0</td>\n",
              "    </tr>\n",
              "    <tr>\n",
              "      <th>4</th>\n",
              "      <td>C2483</td>\n",
              "      <td>900</td>\n",
              "      <td>아파트</td>\n",
              "      <td>경상북도</td>\n",
              "      <td>국민임대</td>\n",
              "      <td>51.93</td>\n",
              "      <td>41</td>\n",
              "      <td>38.0</td>\n",
              "      <td>A</td>\n",
              "      <td>27304000</td>\n",
              "      <td>184330</td>\n",
              "      <td>0.0</td>\n",
              "      <td>3.0</td>\n",
              "      <td>1425.0</td>\n",
              "      <td>1015.0</td>\n",
              "    </tr>\n",
              "  </tbody>\n",
              "</table>\n",
              "</div>"
            ],
            "text/plain": [
              "    단지코드  총세대수 임대건물구분  ... 도보 10분거리 내 버스정류장 수 단지내주차면수   등록차량수\n",
              "0  C2483   900    아파트  ...                3.0  1425.0  1015.0\n",
              "1  C2483   900    아파트  ...                3.0  1425.0  1015.0\n",
              "2  C2483   900    아파트  ...                3.0  1425.0  1015.0\n",
              "3  C2483   900    아파트  ...                3.0  1425.0  1015.0\n",
              "4  C2483   900    아파트  ...                3.0  1425.0  1015.0\n",
              "\n",
              "[5 rows x 15 columns]"
            ]
          },
          "metadata": {
            "tags": []
          },
          "execution_count": 3
        }
      ]
    },
    {
      "cell_type": "code",
      "metadata": {
        "colab": {
          "base_uri": "https://localhost:8080/",
          "height": 450
        },
        "id": "JdjQiB5MwK0V",
        "outputId": "1d8305f9-a811-4040-d773-405f835bb77a"
      },
      "source": [
        "train.corr(method='pearson')"
      ],
      "execution_count": 4,
      "outputs": [
        {
          "output_type": "execute_result",
          "data": {
            "text/html": [
              "<div>\n",
              "<style scoped>\n",
              "    .dataframe tbody tr th:only-of-type {\n",
              "        vertical-align: middle;\n",
              "    }\n",
              "\n",
              "    .dataframe tbody tr th {\n",
              "        vertical-align: top;\n",
              "    }\n",
              "\n",
              "    .dataframe thead th {\n",
              "        text-align: right;\n",
              "    }\n",
              "</style>\n",
              "<table border=\"1\" class=\"dataframe\">\n",
              "  <thead>\n",
              "    <tr style=\"text-align: right;\">\n",
              "      <th></th>\n",
              "      <th>총세대수</th>\n",
              "      <th>전용면적</th>\n",
              "      <th>전용면적별세대수</th>\n",
              "      <th>공가수</th>\n",
              "      <th>도보 10분거리 내 지하철역 수(환승노선 수 반영)</th>\n",
              "      <th>도보 10분거리 내 버스정류장 수</th>\n",
              "      <th>단지내주차면수</th>\n",
              "      <th>등록차량수</th>\n",
              "    </tr>\n",
              "  </thead>\n",
              "  <tbody>\n",
              "    <tr>\n",
              "      <th>총세대수</th>\n",
              "      <td>1.000000</td>\n",
              "      <td>0.042271</td>\n",
              "      <td>0.098205</td>\n",
              "      <td>0.068192</td>\n",
              "      <td>0.213843</td>\n",
              "      <td>-0.001446</td>\n",
              "      <td>0.501488</td>\n",
              "      <td>0.316703</td>\n",
              "    </tr>\n",
              "    <tr>\n",
              "      <th>전용면적</th>\n",
              "      <td>0.042271</td>\n",
              "      <td>1.000000</td>\n",
              "      <td>-0.035479</td>\n",
              "      <td>-0.089201</td>\n",
              "      <td>-0.013111</td>\n",
              "      <td>-0.007866</td>\n",
              "      <td>0.071260</td>\n",
              "      <td>0.115453</td>\n",
              "    </tr>\n",
              "    <tr>\n",
              "      <th>전용면적별세대수</th>\n",
              "      <td>0.098205</td>\n",
              "      <td>-0.035479</td>\n",
              "      <td>1.000000</td>\n",
              "      <td>0.166472</td>\n",
              "      <td>-0.056680</td>\n",
              "      <td>0.047112</td>\n",
              "      <td>0.281989</td>\n",
              "      <td>0.247085</td>\n",
              "    </tr>\n",
              "    <tr>\n",
              "      <th>공가수</th>\n",
              "      <td>0.068192</td>\n",
              "      <td>-0.089201</td>\n",
              "      <td>0.166472</td>\n",
              "      <td>1.000000</td>\n",
              "      <td>-0.093334</td>\n",
              "      <td>0.043285</td>\n",
              "      <td>0.289819</td>\n",
              "      <td>0.118121</td>\n",
              "    </tr>\n",
              "    <tr>\n",
              "      <th>도보 10분거리 내 지하철역 수(환승노선 수 반영)</th>\n",
              "      <td>0.213843</td>\n",
              "      <td>-0.013111</td>\n",
              "      <td>-0.056680</td>\n",
              "      <td>-0.093334</td>\n",
              "      <td>1.000000</td>\n",
              "      <td>0.098380</td>\n",
              "      <td>-0.055544</td>\n",
              "      <td>-0.108592</td>\n",
              "    </tr>\n",
              "    <tr>\n",
              "      <th>도보 10분거리 내 버스정류장 수</th>\n",
              "      <td>-0.001446</td>\n",
              "      <td>-0.007866</td>\n",
              "      <td>0.047112</td>\n",
              "      <td>0.043285</td>\n",
              "      <td>0.098380</td>\n",
              "      <td>1.000000</td>\n",
              "      <td>0.070696</td>\n",
              "      <td>0.103752</td>\n",
              "    </tr>\n",
              "    <tr>\n",
              "      <th>단지내주차면수</th>\n",
              "      <td>0.501488</td>\n",
              "      <td>0.071260</td>\n",
              "      <td>0.281989</td>\n",
              "      <td>0.289819</td>\n",
              "      <td>-0.055544</td>\n",
              "      <td>0.070696</td>\n",
              "      <td>1.000000</td>\n",
              "      <td>0.859216</td>\n",
              "    </tr>\n",
              "    <tr>\n",
              "      <th>등록차량수</th>\n",
              "      <td>0.316703</td>\n",
              "      <td>0.115453</td>\n",
              "      <td>0.247085</td>\n",
              "      <td>0.118121</td>\n",
              "      <td>-0.108592</td>\n",
              "      <td>0.103752</td>\n",
              "      <td>0.859216</td>\n",
              "      <td>1.000000</td>\n",
              "    </tr>\n",
              "  </tbody>\n",
              "</table>\n",
              "</div>"
            ],
            "text/plain": [
              "                                  총세대수      전용면적  ...   단지내주차면수     등록차량수\n",
              "총세대수                          1.000000  0.042271  ...  0.501488  0.316703\n",
              "전용면적                          0.042271  1.000000  ...  0.071260  0.115453\n",
              "전용면적별세대수                      0.098205 -0.035479  ...  0.281989  0.247085\n",
              "공가수                           0.068192 -0.089201  ...  0.289819  0.118121\n",
              "도보 10분거리 내 지하철역 수(환승노선 수 반영)  0.213843 -0.013111  ... -0.055544 -0.108592\n",
              "도보 10분거리 내 버스정류장 수           -0.001446 -0.007866  ...  0.070696  0.103752\n",
              "단지내주차면수                       0.501488  0.071260  ...  1.000000  0.859216\n",
              "등록차량수                         0.316703  0.115453  ...  0.859216  1.000000\n",
              "\n",
              "[8 rows x 8 columns]"
            ]
          },
          "metadata": {
            "tags": []
          },
          "execution_count": 4
        }
      ]
    },
    {
      "cell_type": "code",
      "metadata": {
        "colab": {
          "base_uri": "https://localhost:8080/"
        },
        "id": "hOV5RFwHmsga",
        "outputId": "4f719c2c-1c42-4c0e-dce9-648898319830"
      },
      "source": [
        "train.info()"
      ],
      "execution_count": 5,
      "outputs": [
        {
          "output_type": "stream",
          "text": [
            "<class 'pandas.core.frame.DataFrame'>\n",
            "RangeIndex: 2952 entries, 0 to 2951\n",
            "Data columns (total 15 columns):\n",
            " #   Column                        Non-Null Count  Dtype  \n",
            "---  ------                        --------------  -----  \n",
            " 0   단지코드                          2952 non-null   object \n",
            " 1   총세대수                          2952 non-null   int64  \n",
            " 2   임대건물구분                        2952 non-null   object \n",
            " 3   지역                            2952 non-null   object \n",
            " 4   공급유형                          2952 non-null   object \n",
            " 5   전용면적                          2952 non-null   float64\n",
            " 6   전용면적별세대수                      2952 non-null   int64  \n",
            " 7   공가수                           2952 non-null   float64\n",
            " 8   자격유형                          2952 non-null   object \n",
            " 9   임대보증금                         2383 non-null   object \n",
            " 10  임대료                           2383 non-null   object \n",
            " 11  도보 10분거리 내 지하철역 수(환승노선 수 반영)  2741 non-null   float64\n",
            " 12  도보 10분거리 내 버스정류장 수            2948 non-null   float64\n",
            " 13  단지내주차면수                       2952 non-null   float64\n",
            " 14  등록차량수                         2952 non-null   float64\n",
            "dtypes: float64(6), int64(2), object(7)\n",
            "memory usage: 346.1+ KB\n"
          ],
          "name": "stdout"
        }
      ]
    },
    {
      "cell_type": "markdown",
      "metadata": {
        "id": "7TsHcV04nZ8-"
      },
      "source": [
        "< Train data null 값 >\n",
        "\n",
        "임대보증금, 임대료, 도보 10분거리 내 지하철역 수(환승노선 수 반영), 도보 10분거리 내 버스정류장 수"
      ]
    },
    {
      "cell_type": "code",
      "metadata": {
        "colab": {
          "base_uri": "https://localhost:8080/",
          "height": 514
        },
        "id": "GEz0JkEapPk3",
        "outputId": "a3c1b380-54e0-4c98-a265-661797af6c88"
      },
      "source": [
        "train.isnull().sum().to_frame()"
      ],
      "execution_count": 6,
      "outputs": [
        {
          "output_type": "execute_result",
          "data": {
            "text/html": [
              "<div>\n",
              "<style scoped>\n",
              "    .dataframe tbody tr th:only-of-type {\n",
              "        vertical-align: middle;\n",
              "    }\n",
              "\n",
              "    .dataframe tbody tr th {\n",
              "        vertical-align: top;\n",
              "    }\n",
              "\n",
              "    .dataframe thead th {\n",
              "        text-align: right;\n",
              "    }\n",
              "</style>\n",
              "<table border=\"1\" class=\"dataframe\">\n",
              "  <thead>\n",
              "    <tr style=\"text-align: right;\">\n",
              "      <th></th>\n",
              "      <th>0</th>\n",
              "    </tr>\n",
              "  </thead>\n",
              "  <tbody>\n",
              "    <tr>\n",
              "      <th>단지코드</th>\n",
              "      <td>0</td>\n",
              "    </tr>\n",
              "    <tr>\n",
              "      <th>총세대수</th>\n",
              "      <td>0</td>\n",
              "    </tr>\n",
              "    <tr>\n",
              "      <th>임대건물구분</th>\n",
              "      <td>0</td>\n",
              "    </tr>\n",
              "    <tr>\n",
              "      <th>지역</th>\n",
              "      <td>0</td>\n",
              "    </tr>\n",
              "    <tr>\n",
              "      <th>공급유형</th>\n",
              "      <td>0</td>\n",
              "    </tr>\n",
              "    <tr>\n",
              "      <th>전용면적</th>\n",
              "      <td>0</td>\n",
              "    </tr>\n",
              "    <tr>\n",
              "      <th>전용면적별세대수</th>\n",
              "      <td>0</td>\n",
              "    </tr>\n",
              "    <tr>\n",
              "      <th>공가수</th>\n",
              "      <td>0</td>\n",
              "    </tr>\n",
              "    <tr>\n",
              "      <th>자격유형</th>\n",
              "      <td>0</td>\n",
              "    </tr>\n",
              "    <tr>\n",
              "      <th>임대보증금</th>\n",
              "      <td>569</td>\n",
              "    </tr>\n",
              "    <tr>\n",
              "      <th>임대료</th>\n",
              "      <td>569</td>\n",
              "    </tr>\n",
              "    <tr>\n",
              "      <th>도보 10분거리 내 지하철역 수(환승노선 수 반영)</th>\n",
              "      <td>211</td>\n",
              "    </tr>\n",
              "    <tr>\n",
              "      <th>도보 10분거리 내 버스정류장 수</th>\n",
              "      <td>4</td>\n",
              "    </tr>\n",
              "    <tr>\n",
              "      <th>단지내주차면수</th>\n",
              "      <td>0</td>\n",
              "    </tr>\n",
              "    <tr>\n",
              "      <th>등록차량수</th>\n",
              "      <td>0</td>\n",
              "    </tr>\n",
              "  </tbody>\n",
              "</table>\n",
              "</div>"
            ],
            "text/plain": [
              "                                0\n",
              "단지코드                            0\n",
              "총세대수                            0\n",
              "임대건물구분                          0\n",
              "지역                              0\n",
              "공급유형                            0\n",
              "전용면적                            0\n",
              "전용면적별세대수                        0\n",
              "공가수                             0\n",
              "자격유형                            0\n",
              "임대보증금                         569\n",
              "임대료                           569\n",
              "도보 10분거리 내 지하철역 수(환승노선 수 반영)  211\n",
              "도보 10분거리 내 버스정류장 수              4\n",
              "단지내주차면수                         0\n",
              "등록차량수                           0"
            ]
          },
          "metadata": {
            "tags": []
          },
          "execution_count": 6
        }
      ]
    },
    {
      "cell_type": "markdown",
      "metadata": {
        "id": "erc8omlSoS9Q"
      },
      "source": [
        "### 테스트 데이터"
      ]
    },
    {
      "cell_type": "code",
      "metadata": {
        "colab": {
          "base_uri": "https://localhost:8080/",
          "height": 527
        },
        "id": "SPuxGbwvpYkE",
        "outputId": "73652b53-6a19-4e31-8eef-b5b9e7fe35fd"
      },
      "source": [
        "test.head()"
      ],
      "execution_count": 7,
      "outputs": [
        {
          "output_type": "execute_result",
          "data": {
            "text/html": [
              "<div>\n",
              "<style scoped>\n",
              "    .dataframe tbody tr th:only-of-type {\n",
              "        vertical-align: middle;\n",
              "    }\n",
              "\n",
              "    .dataframe tbody tr th {\n",
              "        vertical-align: top;\n",
              "    }\n",
              "\n",
              "    .dataframe thead th {\n",
              "        text-align: right;\n",
              "    }\n",
              "</style>\n",
              "<table border=\"1\" class=\"dataframe\">\n",
              "  <thead>\n",
              "    <tr style=\"text-align: right;\">\n",
              "      <th></th>\n",
              "      <th>단지코드</th>\n",
              "      <th>총세대수</th>\n",
              "      <th>임대건물구분</th>\n",
              "      <th>지역</th>\n",
              "      <th>공급유형</th>\n",
              "      <th>전용면적</th>\n",
              "      <th>전용면적별세대수</th>\n",
              "      <th>공가수</th>\n",
              "      <th>자격유형</th>\n",
              "      <th>임대보증금</th>\n",
              "      <th>임대료</th>\n",
              "      <th>도보 10분거리 내 지하철역 수(환승노선 수 반영)</th>\n",
              "      <th>도보 10분거리 내 버스정류장 수</th>\n",
              "      <th>단지내주차면수</th>\n",
              "    </tr>\n",
              "  </thead>\n",
              "  <tbody>\n",
              "    <tr>\n",
              "      <th>0</th>\n",
              "      <td>C1072</td>\n",
              "      <td>754</td>\n",
              "      <td>아파트</td>\n",
              "      <td>경기도</td>\n",
              "      <td>국민임대</td>\n",
              "      <td>39.79</td>\n",
              "      <td>116</td>\n",
              "      <td>14.0</td>\n",
              "      <td>H</td>\n",
              "      <td>22830000</td>\n",
              "      <td>189840</td>\n",
              "      <td>0.0</td>\n",
              "      <td>2.0</td>\n",
              "      <td>683.0</td>\n",
              "    </tr>\n",
              "    <tr>\n",
              "      <th>1</th>\n",
              "      <td>C1072</td>\n",
              "      <td>754</td>\n",
              "      <td>아파트</td>\n",
              "      <td>경기도</td>\n",
              "      <td>국민임대</td>\n",
              "      <td>46.81</td>\n",
              "      <td>30</td>\n",
              "      <td>14.0</td>\n",
              "      <td>A</td>\n",
              "      <td>36048000</td>\n",
              "      <td>249930</td>\n",
              "      <td>0.0</td>\n",
              "      <td>2.0</td>\n",
              "      <td>683.0</td>\n",
              "    </tr>\n",
              "    <tr>\n",
              "      <th>2</th>\n",
              "      <td>C1072</td>\n",
              "      <td>754</td>\n",
              "      <td>아파트</td>\n",
              "      <td>경기도</td>\n",
              "      <td>국민임대</td>\n",
              "      <td>46.90</td>\n",
              "      <td>112</td>\n",
              "      <td>14.0</td>\n",
              "      <td>H</td>\n",
              "      <td>36048000</td>\n",
              "      <td>249930</td>\n",
              "      <td>0.0</td>\n",
              "      <td>2.0</td>\n",
              "      <td>683.0</td>\n",
              "    </tr>\n",
              "    <tr>\n",
              "      <th>3</th>\n",
              "      <td>C1072</td>\n",
              "      <td>754</td>\n",
              "      <td>아파트</td>\n",
              "      <td>경기도</td>\n",
              "      <td>국민임대</td>\n",
              "      <td>46.90</td>\n",
              "      <td>120</td>\n",
              "      <td>14.0</td>\n",
              "      <td>H</td>\n",
              "      <td>36048000</td>\n",
              "      <td>249930</td>\n",
              "      <td>0.0</td>\n",
              "      <td>2.0</td>\n",
              "      <td>683.0</td>\n",
              "    </tr>\n",
              "    <tr>\n",
              "      <th>4</th>\n",
              "      <td>C1072</td>\n",
              "      <td>754</td>\n",
              "      <td>아파트</td>\n",
              "      <td>경기도</td>\n",
              "      <td>국민임대</td>\n",
              "      <td>51.46</td>\n",
              "      <td>60</td>\n",
              "      <td>14.0</td>\n",
              "      <td>H</td>\n",
              "      <td>43497000</td>\n",
              "      <td>296780</td>\n",
              "      <td>0.0</td>\n",
              "      <td>2.0</td>\n",
              "      <td>683.0</td>\n",
              "    </tr>\n",
              "  </tbody>\n",
              "</table>\n",
              "</div>"
            ],
            "text/plain": [
              "    단지코드  총세대수  ... 도보 10분거리 내 버스정류장 수 단지내주차면수\n",
              "0  C1072   754  ...                2.0   683.0\n",
              "1  C1072   754  ...                2.0   683.0\n",
              "2  C1072   754  ...                2.0   683.0\n",
              "3  C1072   754  ...                2.0   683.0\n",
              "4  C1072   754  ...                2.0   683.0\n",
              "\n",
              "[5 rows x 14 columns]"
            ]
          },
          "metadata": {
            "tags": []
          },
          "execution_count": 7
        }
      ]
    },
    {
      "cell_type": "code",
      "metadata": {
        "colab": {
          "base_uri": "https://localhost:8080/"
        },
        "id": "8Ty25KMTmtbq",
        "outputId": "af1ac8f9-2e64-4ed6-b650-cfb1171813b3"
      },
      "source": [
        "test.info()"
      ],
      "execution_count": 8,
      "outputs": [
        {
          "output_type": "stream",
          "text": [
            "<class 'pandas.core.frame.DataFrame'>\n",
            "RangeIndex: 1022 entries, 0 to 1021\n",
            "Data columns (total 14 columns):\n",
            " #   Column                        Non-Null Count  Dtype  \n",
            "---  ------                        --------------  -----  \n",
            " 0   단지코드                          1022 non-null   object \n",
            " 1   총세대수                          1022 non-null   int64  \n",
            " 2   임대건물구분                        1022 non-null   object \n",
            " 3   지역                            1022 non-null   object \n",
            " 4   공급유형                          1022 non-null   object \n",
            " 5   전용면적                          1022 non-null   float64\n",
            " 6   전용면적별세대수                      1022 non-null   int64  \n",
            " 7   공가수                           1022 non-null   float64\n",
            " 8   자격유형                          1020 non-null   object \n",
            " 9   임대보증금                         842 non-null    object \n",
            " 10  임대료                           842 non-null    object \n",
            " 11  도보 10분거리 내 지하철역 수(환승노선 수 반영)  980 non-null    float64\n",
            " 12  도보 10분거리 내 버스정류장 수            1022 non-null   float64\n",
            " 13  단지내주차면수                       1022 non-null   float64\n",
            "dtypes: float64(5), int64(2), object(7)\n",
            "memory usage: 111.9+ KB\n"
          ],
          "name": "stdout"
        }
      ]
    },
    {
      "cell_type": "code",
      "metadata": {
        "colab": {
          "base_uri": "https://localhost:8080/",
          "height": 331
        },
        "id": "jTkpDQ1FN70S",
        "outputId": "62375197-5c1a-4a3a-cfa5-297b1bf2f9c8"
      },
      "source": [
        "test.describe()"
      ],
      "execution_count": 9,
      "outputs": [
        {
          "output_type": "execute_result",
          "data": {
            "text/html": [
              "<div>\n",
              "<style scoped>\n",
              "    .dataframe tbody tr th:only-of-type {\n",
              "        vertical-align: middle;\n",
              "    }\n",
              "\n",
              "    .dataframe tbody tr th {\n",
              "        vertical-align: top;\n",
              "    }\n",
              "\n",
              "    .dataframe thead th {\n",
              "        text-align: right;\n",
              "    }\n",
              "</style>\n",
              "<table border=\"1\" class=\"dataframe\">\n",
              "  <thead>\n",
              "    <tr style=\"text-align: right;\">\n",
              "      <th></th>\n",
              "      <th>총세대수</th>\n",
              "      <th>전용면적</th>\n",
              "      <th>전용면적별세대수</th>\n",
              "      <th>공가수</th>\n",
              "      <th>도보 10분거리 내 지하철역 수(환승노선 수 반영)</th>\n",
              "      <th>도보 10분거리 내 버스정류장 수</th>\n",
              "      <th>단지내주차면수</th>\n",
              "    </tr>\n",
              "  </thead>\n",
              "  <tbody>\n",
              "    <tr>\n",
              "      <th>count</th>\n",
              "      <td>1022.000000</td>\n",
              "      <td>1022.000000</td>\n",
              "      <td>1022.000000</td>\n",
              "      <td>1022.000000</td>\n",
              "      <td>980.000000</td>\n",
              "      <td>1022.000000</td>\n",
              "      <td>1022.000000</td>\n",
              "    </tr>\n",
              "    <tr>\n",
              "      <th>mean</th>\n",
              "      <td>862.080235</td>\n",
              "      <td>43.706311</td>\n",
              "      <td>100.414873</td>\n",
              "      <td>15.544031</td>\n",
              "      <td>0.136735</td>\n",
              "      <td>4.626223</td>\n",
              "      <td>548.771037</td>\n",
              "    </tr>\n",
              "    <tr>\n",
              "      <th>std</th>\n",
              "      <td>536.340894</td>\n",
              "      <td>35.890759</td>\n",
              "      <td>125.997855</td>\n",
              "      <td>11.070140</td>\n",
              "      <td>0.435500</td>\n",
              "      <td>5.414568</td>\n",
              "      <td>342.636703</td>\n",
              "    </tr>\n",
              "    <tr>\n",
              "      <th>min</th>\n",
              "      <td>75.000000</td>\n",
              "      <td>9.960000</td>\n",
              "      <td>1.000000</td>\n",
              "      <td>0.000000</td>\n",
              "      <td>0.000000</td>\n",
              "      <td>1.000000</td>\n",
              "      <td>29.000000</td>\n",
              "    </tr>\n",
              "    <tr>\n",
              "      <th>25%</th>\n",
              "      <td>488.000000</td>\n",
              "      <td>33.135000</td>\n",
              "      <td>14.000000</td>\n",
              "      <td>6.000000</td>\n",
              "      <td>0.000000</td>\n",
              "      <td>2.000000</td>\n",
              "      <td>286.000000</td>\n",
              "    </tr>\n",
              "    <tr>\n",
              "      <th>50%</th>\n",
              "      <td>745.000000</td>\n",
              "      <td>39.720000</td>\n",
              "      <td>60.000000</td>\n",
              "      <td>15.000000</td>\n",
              "      <td>0.000000</td>\n",
              "      <td>3.000000</td>\n",
              "      <td>458.000000</td>\n",
              "    </tr>\n",
              "    <tr>\n",
              "      <th>75%</th>\n",
              "      <td>1161.000000</td>\n",
              "      <td>47.400000</td>\n",
              "      <td>140.000000</td>\n",
              "      <td>23.000000</td>\n",
              "      <td>0.000000</td>\n",
              "      <td>5.000000</td>\n",
              "      <td>711.000000</td>\n",
              "    </tr>\n",
              "    <tr>\n",
              "      <th>max</th>\n",
              "      <td>2572.000000</td>\n",
              "      <td>583.400000</td>\n",
              "      <td>1341.000000</td>\n",
              "      <td>45.000000</td>\n",
              "      <td>2.000000</td>\n",
              "      <td>50.000000</td>\n",
              "      <td>1696.000000</td>\n",
              "    </tr>\n",
              "  </tbody>\n",
              "</table>\n",
              "</div>"
            ],
            "text/plain": [
              "              총세대수         전용면적  ...  도보 10분거리 내 버스정류장 수      단지내주차면수\n",
              "count  1022.000000  1022.000000  ...         1022.000000  1022.000000\n",
              "mean    862.080235    43.706311  ...            4.626223   548.771037\n",
              "std     536.340894    35.890759  ...            5.414568   342.636703\n",
              "min      75.000000     9.960000  ...            1.000000    29.000000\n",
              "25%     488.000000    33.135000  ...            2.000000   286.000000\n",
              "50%     745.000000    39.720000  ...            3.000000   458.000000\n",
              "75%    1161.000000    47.400000  ...            5.000000   711.000000\n",
              "max    2572.000000   583.400000  ...           50.000000  1696.000000\n",
              "\n",
              "[8 rows x 7 columns]"
            ]
          },
          "metadata": {
            "tags": []
          },
          "execution_count": 9
        }
      ]
    },
    {
      "cell_type": "code",
      "metadata": {
        "colab": {
          "base_uri": "https://localhost:8080/",
          "height": 483
        },
        "id": "GNxr-l1ToY2k",
        "outputId": "fb7ac215-68f1-4858-9838-2495606089b0"
      },
      "source": [
        "test.isnull().sum().to_frame()"
      ],
      "execution_count": 10,
      "outputs": [
        {
          "output_type": "execute_result",
          "data": {
            "text/html": [
              "<div>\n",
              "<style scoped>\n",
              "    .dataframe tbody tr th:only-of-type {\n",
              "        vertical-align: middle;\n",
              "    }\n",
              "\n",
              "    .dataframe tbody tr th {\n",
              "        vertical-align: top;\n",
              "    }\n",
              "\n",
              "    .dataframe thead th {\n",
              "        text-align: right;\n",
              "    }\n",
              "</style>\n",
              "<table border=\"1\" class=\"dataframe\">\n",
              "  <thead>\n",
              "    <tr style=\"text-align: right;\">\n",
              "      <th></th>\n",
              "      <th>0</th>\n",
              "    </tr>\n",
              "  </thead>\n",
              "  <tbody>\n",
              "    <tr>\n",
              "      <th>단지코드</th>\n",
              "      <td>0</td>\n",
              "    </tr>\n",
              "    <tr>\n",
              "      <th>총세대수</th>\n",
              "      <td>0</td>\n",
              "    </tr>\n",
              "    <tr>\n",
              "      <th>임대건물구분</th>\n",
              "      <td>0</td>\n",
              "    </tr>\n",
              "    <tr>\n",
              "      <th>지역</th>\n",
              "      <td>0</td>\n",
              "    </tr>\n",
              "    <tr>\n",
              "      <th>공급유형</th>\n",
              "      <td>0</td>\n",
              "    </tr>\n",
              "    <tr>\n",
              "      <th>전용면적</th>\n",
              "      <td>0</td>\n",
              "    </tr>\n",
              "    <tr>\n",
              "      <th>전용면적별세대수</th>\n",
              "      <td>0</td>\n",
              "    </tr>\n",
              "    <tr>\n",
              "      <th>공가수</th>\n",
              "      <td>0</td>\n",
              "    </tr>\n",
              "    <tr>\n",
              "      <th>자격유형</th>\n",
              "      <td>2</td>\n",
              "    </tr>\n",
              "    <tr>\n",
              "      <th>임대보증금</th>\n",
              "      <td>180</td>\n",
              "    </tr>\n",
              "    <tr>\n",
              "      <th>임대료</th>\n",
              "      <td>180</td>\n",
              "    </tr>\n",
              "    <tr>\n",
              "      <th>도보 10분거리 내 지하철역 수(환승노선 수 반영)</th>\n",
              "      <td>42</td>\n",
              "    </tr>\n",
              "    <tr>\n",
              "      <th>도보 10분거리 내 버스정류장 수</th>\n",
              "      <td>0</td>\n",
              "    </tr>\n",
              "    <tr>\n",
              "      <th>단지내주차면수</th>\n",
              "      <td>0</td>\n",
              "    </tr>\n",
              "  </tbody>\n",
              "</table>\n",
              "</div>"
            ],
            "text/plain": [
              "                                0\n",
              "단지코드                            0\n",
              "총세대수                            0\n",
              "임대건물구분                          0\n",
              "지역                              0\n",
              "공급유형                            0\n",
              "전용면적                            0\n",
              "전용면적별세대수                        0\n",
              "공가수                             0\n",
              "자격유형                            2\n",
              "임대보증금                         180\n",
              "임대료                           180\n",
              "도보 10분거리 내 지하철역 수(환승노선 수 반영)   42\n",
              "도보 10분거리 내 버스정류장 수              0\n",
              "단지내주차면수                         0"
            ]
          },
          "metadata": {
            "tags": []
          },
          "execution_count": 10
        }
      ]
    },
    {
      "cell_type": "markdown",
      "metadata": {
        "id": "7up7StRRnwFU"
      },
      "source": [
        "< Test data null 값 >\n",
        "\n",
        "자격유형, 임대보증금, 임대료, 도보 10분거리 내 지하철역 수(환승노선 수 반영)"
      ]
    },
    {
      "cell_type": "markdown",
      "metadata": {
        "id": "syJhU1ZSpu9W"
      },
      "source": [
        "Train, Test null 값을 보면\n",
        "\n",
        "임대보증금, 임대료는 같이 null값으로 존재할 것으로 생각할 수 있음"
      ]
    },
    {
      "cell_type": "markdown",
      "metadata": {
        "id": "hWoQW2o4sdGD"
      },
      "source": [
        "# 데이터 전처리"
      ]
    },
    {
      "cell_type": "markdown",
      "metadata": {
        "id": "HI4hfj-Hqq4o"
      },
      "source": [
        "[ https://dacon.io/competitions/official/235745/codeshare/2853?page=1&dtype=recent ] 참고\n",
        "\n",
        "\n",
        "임대가 아닌 공공분양, 전세 같은 경우는 임대 관련 값은 NA\n",
        "\n",
        "임대보증금, 임대료를 0으로 대체"
      ]
    },
    {
      "cell_type": "code",
      "metadata": {
        "id": "xRIcQ9-Gn4aS"
      },
      "source": [
        "# 임대관련 값 '-'을 null로 바꾼 후 float로 타입 변경\n",
        "train.loc[train.임대보증금=='-', '임대보증금'] = np.nan\n",
        "test.loc[test.임대보증금=='-', '임대보증금'] = np.nan\n",
        "train['임대보증금'] = train['임대보증금'].astype(float)\n",
        "test['임대보증금'] = test['임대보증금'].astype(float)\n",
        "\n",
        "train.loc[train.임대료=='-', '임대료'] = np.nan\n",
        "test.loc[test.임대료=='-', '임대료'] = np.nan\n",
        "train['임대료'] = train['임대료'].astype(float)\n",
        "test['임대료'] = test['임대료'].astype(float)\n",
        "\n",
        "# 임대관련 값 0으로 대체 \n",
        "train[['임대보증금', '임대료']] = train[['임대보증금', '임대료']].fillna(0)\n",
        "test[['임대보증금', '임대료']] = test[['임대보증금', '임대료']].fillna(0)"
      ],
      "execution_count": 11,
      "outputs": []
    },
    {
      "cell_type": "markdown",
      "metadata": {
        "id": "vmw_LmMUz2AD"
      },
      "source": [
        "임대보증금, 임대료 dtype을 int로 변경"
      ]
    },
    {
      "cell_type": "markdown",
      "metadata": {
        "id": "n_diT497ssDC"
      },
      "source": [
        "지하철 및 버스정류장 수 관련 Null 값도 없는 것으로 추정하고 0으로 대체"
      ]
    },
    {
      "cell_type": "code",
      "metadata": {
        "id": "OqUc53tztIps"
      },
      "source": [
        "# 지하철 및 버스정류장 수 0으로 대체\n",
        "col = ['도보 10분거리 내 지하철역 수(환승노선 수 반영)', '도보 10분거리 내 버스정류장 수']\n",
        "train[col] = train[col].fillna(0)\n",
        "test['도보 10분거리 내 지하철역 수(환승노선 수 반영)'] = test['도보 10분거리 내 지하철역 수(환승노선 수 반영)'].fillna(0)"
      ],
      "execution_count": 12,
      "outputs": []
    },
    {
      "cell_type": "markdown",
      "metadata": {
        "id": "lZopOFlruJZX"
      },
      "source": [
        "test data의 자격유형은 최빈값으로 대체 \n",
        "\n",
        "==> 'A'"
      ]
    },
    {
      "cell_type": "code",
      "metadata": {
        "colab": {
          "base_uri": "https://localhost:8080/"
        },
        "id": "bFMaTRLfuIgK",
        "outputId": "b591d98f-bfa4-4079-d242-d6ca63aef955"
      },
      "source": [
        "test['자격유형'].value_counts() # A가 가장 많음을 확인"
      ],
      "execution_count": 13,
      "outputs": [
        {
          "output_type": "execute_result",
          "data": {
            "text/plain": [
              "A    572\n",
              "D    180\n",
              "H     92\n",
              "J     84\n",
              "C     34\n",
              "K     16\n",
              "L     12\n",
              "N     10\n",
              "E     10\n",
              "I      7\n",
              "M      2\n",
              "G      1\n",
              "Name: 자격유형, dtype: int64"
            ]
          },
          "metadata": {
            "tags": []
          },
          "execution_count": 13
        }
      ]
    },
    {
      "cell_type": "code",
      "metadata": {
        "id": "BRvyDoDZuajk"
      },
      "source": [
        "# A로 대체\n",
        "test['자격유형'] = test['자격유형'].fillna('A')"
      ],
      "execution_count": 14,
      "outputs": []
    },
    {
      "cell_type": "markdown",
      "metadata": {
        "id": "9n2F7UhkvDpT"
      },
      "source": [
        "중복이 상당히 많은 것으로 확인되므로 중복을 제거"
      ]
    },
    {
      "cell_type": "code",
      "metadata": {
        "id": "7wc7UNavvGGV"
      },
      "source": [
        "train = train.drop_duplicates()\n",
        "test = test.drop_duplicates()"
      ],
      "execution_count": 15,
      "outputs": []
    },
    {
      "cell_type": "markdown",
      "metadata": {
        "id": "M4X1HvRB33Gq"
      },
      "source": [
        "[ https://dacon.io/competitions/official/235745/codeshare/2851?page=1&dtype=recent ]\n",
        "\n",
        "train, test의 각 단지코드를 하나의 로우로 합하기"
      ]
    },
    {
      "cell_type": "code",
      "metadata": {
        "id": "3z0Fih3X797H"
      },
      "source": [
        "def reshape_cat_features(data, cast_col, value_col):\n",
        "    res = data.drop_duplicates(['단지코드', cast_col]).assign(counter=1).pivot(index='단지코드', columns=cast_col, values=value_col).fillna(0)\n",
        "    res.columns.name = None\n",
        "    res = res.rename(columns={col:cast_col+'_'+col for col in res.columns})\n",
        "    return res"
      ],
      "execution_count": 16,
      "outputs": []
    },
    {
      "cell_type": "code",
      "metadata": {
        "id": "lVHgbpoT7FUI"
      },
      "source": [
        "unique_cols = ['총세대수', '지역', '공가수', \n",
        "               '도보 10분거리 내 지하철역 수(환승노선 수 반영)',\n",
        "               '도보 10분거리 내 버스정류장 수',\n",
        "               '단지내주차면수', '등록차량수']\n",
        "train_agg = train.set_index('단지코드')[unique_cols].drop_duplicates()\n",
        "test_agg = test.set_index('단지코드')[[col for col in unique_cols if col!='등록차량수']].drop_duplicates()"
      ],
      "execution_count": 17,
      "outputs": []
    },
    {
      "cell_type": "code",
      "metadata": {
        "id": "eBcf2kHJ6Sk3"
      },
      "source": [
        "train.loc[train.공급유형.isin(['공공임대(5년)', '공공분양', '공공임대(10년)', '공공임대(분납)']), '공급유형'] = '공공임대(5년/10년/분납/분양)'\n",
        "test.loc[test.공급유형.isin(['공공임대(5년)', '공공분양', '공공임대(10년)', '공공임대(분납)']), '공급유형'] = '공공임대(5년/10년/분납/분양)'\n",
        "train.loc[train.공급유형.isin(['장기전세', '국민임대']), '공급유형'] = '국민임대/장기전세'\n",
        "test.loc[test.공급유형.isin(['장기전세', '국민임대']), '공급유형'] = '국민임대/장기전세'"
      ],
      "execution_count": 18,
      "outputs": []
    },
    {
      "cell_type": "code",
      "metadata": {
        "id": "WBGyC_vG6qXp"
      },
      "source": [
        "train.loc[train.자격유형.isin(['J', 'L', 'K', 'N', 'M', 'O']), '자격유형'] = '행복주택_공급대상'\n",
        "test.loc[test.자격유형.isin(['J', 'L', 'K', 'N', 'M', 'O']), '자격유형'] = '행복주택_공급대상'"
      ],
      "execution_count": 19,
      "outputs": []
    },
    {
      "cell_type": "code",
      "metadata": {
        "id": "PHHkbv_j6SZr"
      },
      "source": [
        "train.loc[train.자격유형.isin(['H', 'B', 'E', 'G']), '자격유형'] = '국민임대/장기전세_공급대상'\n",
        "test.loc[test.자격유형.isin(['H', 'B', 'E', 'G']), '자격유형'] = '국민임대/장기전세_공급대상'\n",
        "\n",
        "train.loc[train.자격유형.isin(['C', 'I', 'F']), '자격유형'] = '영구임대_공급대상'\n",
        "test.loc[test.자격유형.isin(['C', 'I', 'F']), '자격유형'] = '영구임대_공급대상'"
      ],
      "execution_count": 20,
      "outputs": []
    },
    {
      "cell_type": "code",
      "metadata": {
        "id": "M-JIhrGa6yw1"
      },
      "source": [
        "train_agg = pd.concat([train_agg,\n",
        "                       reshape_cat_features(data=train, cast_col='임대건물구분', value_col='counter'),\n",
        "                       reshape_cat_features(data=train, cast_col='공급유형', value_col='counter'),\n",
        "                       reshape_cat_features(data=train, cast_col='자격유형', value_col='counter')], axis=1)\n",
        "\n",
        "test_agg = pd.concat([test_agg,\n",
        "                       reshape_cat_features(data=test, cast_col='임대건물구분', value_col='counter'),\n",
        "                       reshape_cat_features(data=test, cast_col='공급유형', value_col='counter'),\n",
        "                       reshape_cat_features(data=test, cast_col='자격유형', value_col='counter')], axis=1)"
      ],
      "execution_count": 21,
      "outputs": []
    },
    {
      "cell_type": "markdown",
      "metadata": {
        "id": "KAkkVmac3otI"
      },
      "source": [
        "# 모델링"
      ]
    },
    {
      "cell_type": "code",
      "metadata": {
        "id": "gsjMPHhOduf4"
      },
      "source": [
        "target_col = '등록차량수'\n",
        "x = train_agg.drop(columns=[target_col, '지역'], axis = 1)\n",
        "y = train_agg[target_col]"
      ],
      "execution_count": 22,
      "outputs": []
    },
    {
      "cell_type": "code",
      "metadata": {
        "colab": {
          "base_uri": "https://localhost:8080/"
        },
        "id": "yQhAqFbNShqj",
        "outputId": "1b6569c0-cd6c-4296-9a41-f3565e1a0bc2"
      },
      "source": [
        "!pip install optuna"
      ],
      "execution_count": 23,
      "outputs": [
        {
          "output_type": "stream",
          "text": [
            "Collecting optuna\n",
            "\u001b[?25l  Downloading https://files.pythonhosted.org/packages/1a/18/b49ca91cf592747e19f2d333c2a86cd7c81895b922a5a09adf6335471576/optuna-2.8.0-py3-none-any.whl (301kB)\n",
            "\r\u001b[K     |█                               | 10kB 25.6MB/s eta 0:00:01\r\u001b[K     |██▏                             | 20kB 25.8MB/s eta 0:00:01\r\u001b[K     |███▎                            | 30kB 17.2MB/s eta 0:00:01\r\u001b[K     |████▍                           | 40kB 15.4MB/s eta 0:00:01\r\u001b[K     |█████▍                          | 51kB 9.0MB/s eta 0:00:01\r\u001b[K     |██████▌                         | 61kB 9.4MB/s eta 0:00:01\r\u001b[K     |███████▋                        | 71kB 9.0MB/s eta 0:00:01\r\u001b[K     |████████▊                       | 81kB 9.9MB/s eta 0:00:01\r\u001b[K     |█████████▊                      | 92kB 10.4MB/s eta 0:00:01\r\u001b[K     |██████████▉                     | 102kB 8.7MB/s eta 0:00:01\r\u001b[K     |████████████                    | 112kB 8.7MB/s eta 0:00:01\r\u001b[K     |█████████████                   | 122kB 8.7MB/s eta 0:00:01\r\u001b[K     |██████████████                  | 133kB 8.7MB/s eta 0:00:01\r\u001b[K     |███████████████▏                | 143kB 8.7MB/s eta 0:00:01\r\u001b[K     |████████████████▎               | 153kB 8.7MB/s eta 0:00:01\r\u001b[K     |█████████████████▍              | 163kB 8.7MB/s eta 0:00:01\r\u001b[K     |██████████████████▌             | 174kB 8.7MB/s eta 0:00:01\r\u001b[K     |███████████████████▌            | 184kB 8.7MB/s eta 0:00:01\r\u001b[K     |████████████████████▋           | 194kB 8.7MB/s eta 0:00:01\r\u001b[K     |█████████████████████▊          | 204kB 8.7MB/s eta 0:00:01\r\u001b[K     |██████████████████████▉         | 215kB 8.7MB/s eta 0:00:01\r\u001b[K     |███████████████████████▉        | 225kB 8.7MB/s eta 0:00:01\r\u001b[K     |█████████████████████████       | 235kB 8.7MB/s eta 0:00:01\r\u001b[K     |██████████████████████████      | 245kB 8.7MB/s eta 0:00:01\r\u001b[K     |███████████████████████████▏    | 256kB 8.7MB/s eta 0:00:01\r\u001b[K     |████████████████████████████▏   | 266kB 8.7MB/s eta 0:00:01\r\u001b[K     |█████████████████████████████▎  | 276kB 8.7MB/s eta 0:00:01\r\u001b[K     |██████████████████████████████▍ | 286kB 8.7MB/s eta 0:00:01\r\u001b[K     |███████████████████████████████▌| 296kB 8.7MB/s eta 0:00:01\r\u001b[K     |████████████████████████████████| 307kB 8.7MB/s \n",
            "\u001b[?25hRequirement already satisfied: sqlalchemy>=1.1.0 in /usr/local/lib/python3.7/dist-packages (from optuna) (1.4.20)\n",
            "Requirement already satisfied: packaging>=20.0 in /usr/local/lib/python3.7/dist-packages (from optuna) (21.0)\n",
            "Collecting cmaes>=0.8.2\n",
            "  Downloading https://files.pythonhosted.org/packages/01/1f/43b01223a0366171f474320c6e966c39a11587287f098a5f09809b45e05f/cmaes-0.8.2-py3-none-any.whl\n",
            "Requirement already satisfied: numpy in /usr/local/lib/python3.7/dist-packages (from optuna) (1.19.5)\n",
            "Collecting colorlog\n",
            "  Downloading https://files.pythonhosted.org/packages/32/e6/e9ddc6fa1104fda718338b341e4b3dc31cd8039ab29e52fc73b508515361/colorlog-5.0.1-py2.py3-none-any.whl\n",
            "Collecting alembic\n",
            "\u001b[?25l  Downloading https://files.pythonhosted.org/packages/d5/80/ef186e599a57d0e4cb78fc76e0bfc2e6953fa9716b2a5cf2de0117ed8eb5/alembic-1.6.5-py2.py3-none-any.whl (164kB)\n",
            "\u001b[K     |████████████████████████████████| 174kB 15.6MB/s \n",
            "\u001b[?25hCollecting cliff\n",
            "\u001b[?25l  Downloading https://files.pythonhosted.org/packages/87/11/aea1cacbd4cf8262809c4d6f95dcb3f2802594de1f51c5bd454d69bf15c5/cliff-3.8.0-py3-none-any.whl (80kB)\n",
            "\u001b[K     |████████████████████████████████| 81kB 10.4MB/s \n",
            "\u001b[?25hRequirement already satisfied: tqdm in /usr/local/lib/python3.7/dist-packages (from optuna) (4.41.1)\n",
            "Requirement already satisfied: scipy!=1.4.0 in /usr/local/lib/python3.7/dist-packages (from optuna) (1.4.1)\n",
            "Requirement already satisfied: greenlet!=0.4.17; python_version >= \"3\" in /usr/local/lib/python3.7/dist-packages (from sqlalchemy>=1.1.0->optuna) (1.1.0)\n",
            "Requirement already satisfied: importlib-metadata; python_version < \"3.8\" in /usr/local/lib/python3.7/dist-packages (from sqlalchemy>=1.1.0->optuna) (4.6.1)\n",
            "Requirement already satisfied: pyparsing>=2.0.2 in /usr/local/lib/python3.7/dist-packages (from packaging>=20.0->optuna) (2.4.7)\n",
            "Collecting Mako\n",
            "\u001b[?25l  Downloading https://files.pythonhosted.org/packages/f3/54/dbc07fbb20865d3b78fdb7cf7fa713e2cba4f87f71100074ef2dc9f9d1f7/Mako-1.1.4-py2.py3-none-any.whl (75kB)\n",
            "\u001b[K     |████████████████████████████████| 81kB 10.8MB/s \n",
            "\u001b[?25hRequirement already satisfied: python-dateutil in /usr/local/lib/python3.7/dist-packages (from alembic->optuna) (2.8.1)\n",
            "Collecting python-editor>=0.3\n",
            "  Downloading https://files.pythonhosted.org/packages/c6/d3/201fc3abe391bbae6606e6f1d598c15d367033332bd54352b12f35513717/python_editor-1.0.4-py3-none-any.whl\n",
            "Collecting pbr!=2.1.0,>=2.0.0\n",
            "\u001b[?25l  Downloading https://files.pythonhosted.org/packages/18/e0/1d4702dd81121d04a477c272d47ee5b6bc970d1a0990b11befa275c55cf2/pbr-5.6.0-py2.py3-none-any.whl (111kB)\n",
            "\u001b[K     |████████████████████████████████| 112kB 18.1MB/s \n",
            "\u001b[?25hCollecting stevedore>=2.0.1\n",
            "\u001b[?25l  Downloading https://files.pythonhosted.org/packages/d4/49/b602307aeac3df3384ff1fcd05da9c0376c622a6c48bb5325f28ab165b57/stevedore-3.3.0-py3-none-any.whl (49kB)\n",
            "\u001b[K     |████████████████████████████████| 51kB 8.6MB/s \n",
            "\u001b[?25hRequirement already satisfied: PrettyTable>=0.7.2 in /usr/local/lib/python3.7/dist-packages (from cliff->optuna) (2.1.0)\n",
            "Requirement already satisfied: PyYAML>=3.12 in /usr/local/lib/python3.7/dist-packages (from cliff->optuna) (3.13)\n",
            "Collecting cmd2>=1.0.0\n",
            "\u001b[?25l  Downloading https://files.pythonhosted.org/packages/44/ca/d407811641ec1d8bd8a38ee3165d73aa44776d7700436bd4d4a6606f2736/cmd2-2.1.2-py3-none-any.whl (141kB)\n",
            "\u001b[K     |████████████████████████████████| 143kB 18.5MB/s \n",
            "\u001b[?25hRequirement already satisfied: typing-extensions>=3.6.4; python_version < \"3.8\" in /usr/local/lib/python3.7/dist-packages (from importlib-metadata; python_version < \"3.8\"->sqlalchemy>=1.1.0->optuna) (3.7.4.3)\n",
            "Requirement already satisfied: zipp>=0.5 in /usr/local/lib/python3.7/dist-packages (from importlib-metadata; python_version < \"3.8\"->sqlalchemy>=1.1.0->optuna) (3.5.0)\n",
            "Requirement already satisfied: MarkupSafe>=0.9.2 in /usr/local/lib/python3.7/dist-packages (from Mako->alembic->optuna) (2.0.1)\n",
            "Requirement already satisfied: six>=1.5 in /usr/local/lib/python3.7/dist-packages (from python-dateutil->alembic->optuna) (1.15.0)\n",
            "Requirement already satisfied: wcwidth in /usr/local/lib/python3.7/dist-packages (from PrettyTable>=0.7.2->cliff->optuna) (0.2.5)\n",
            "Requirement already satisfied: attrs>=16.3.0 in /usr/local/lib/python3.7/dist-packages (from cmd2>=1.0.0->cliff->optuna) (21.2.0)\n",
            "Collecting pyperclip>=1.6\n",
            "  Downloading https://files.pythonhosted.org/packages/a7/2c/4c64579f847bd5d539803c8b909e54ba087a79d01bb3aba433a95879a6c5/pyperclip-1.8.2.tar.gz\n",
            "Collecting colorama>=0.3.7\n",
            "  Downloading https://files.pythonhosted.org/packages/44/98/5b86278fbbf250d239ae0ecb724f8572af1c91f4a11edf4d36a206189440/colorama-0.4.4-py2.py3-none-any.whl\n",
            "Building wheels for collected packages: pyperclip\n",
            "  Building wheel for pyperclip (setup.py) ... \u001b[?25l\u001b[?25hdone\n",
            "  Created wheel for pyperclip: filename=pyperclip-1.8.2-cp37-none-any.whl size=11136 sha256=2fdc5e92d7f040c4a7697a744e80c73c09134a609c3c4afc0c017163d77d149e\n",
            "  Stored in directory: /root/.cache/pip/wheels/25/af/b8/3407109267803f4015e1ee2ff23be0c8c19ce4008665931ee1\n",
            "Successfully built pyperclip\n",
            "Installing collected packages: cmaes, colorlog, Mako, python-editor, alembic, pbr, stevedore, pyperclip, colorama, cmd2, cliff, optuna\n",
            "Successfully installed Mako-1.1.4 alembic-1.6.5 cliff-3.8.0 cmaes-0.8.2 cmd2-2.1.2 colorama-0.4.4 colorlog-5.0.1 optuna-2.8.0 pbr-5.6.0 pyperclip-1.8.2 python-editor-1.0.4 stevedore-3.3.0\n"
          ],
          "name": "stdout"
        }
      ]
    },
    {
      "cell_type": "markdown",
      "metadata": {
        "id": "vDvZErPDSy0A"
      },
      "source": [
        "XGBRegressor(base_score=0.5, booster='gbtree', colsample_bylevel=1,\n",
        "             colsample_bynode=1, colsample_bytree=0.9, eta=0.01, gamma=0,\n",
        "             importance_type='gain', learning_rate=0.1, max_delta_step=0,\n",
        "             max_depth=3, min_child_weight=6, missing=None, n_estimators=100,\n",
        "             n_jobs=1, nthread=None, objective='reg:linear', random_state=0,\n",
        "             reg_alpha=0, reg_lambda=1, scale_pos_weight=1, seed=None,\n",
        "             silent=None, subsample=0.8, verbosity=1"
      ]
    },
    {
      "cell_type": "code",
      "metadata": {
        "id": "wX-Mks12PdxK"
      },
      "source": [
        "import optuna\n",
        "from optuna import Trial, visualization\n",
        "from optuna.samplers import TPESampler\n",
        "from sklearn.metrics import mean_absolute_error\n",
        "from sklearn.model_selection import train_test_split\n",
        "\n",
        "def objective(trial: Trial,x,y):\n",
        "    train_x, test_x, train_y, test_y = train_test_split(x, y, test_size=0.15,random_state=42)\n",
        "    param = {\n",
        "        'tree_method':'gpu_hist',\n",
        "        'alpha': trial.suggest_loguniform('alpha', 1e-3, 10.0),\n",
        "        'lambda': trial.suggest_loguniform('lambda', 1e-3, 10.0),\n",
        "        'gamma' : trial.suggest_int('gamma', 0, 3),\n",
        "        'colsample_bytree': trial.suggest_categorical('colsample_bytree', [0.3,0.4,0.5,0.6,0.7,0.8,0.9, 1.0]),\n",
        "        'subsample': trial.suggest_categorical('subsample', [0.4,0.5,0.6,0.7,0.8,1.0]),\n",
        "        'learning_rate': trial.suggest_categorical('learning_rate', [0.01, 0.02, 0.04, 0.06, 0.08,0.1]),\n",
        "        \"n_estimators\" : trial.suggest_int('n_estimators', 100, 600),\n",
        "        'max_depth': trial.suggest_categorical('max_depth', [3, 5,7,9,11,13,15,17,20]),\n",
        "        'random_state': 42,\n",
        "        'min_child_weight': trial.suggest_int('min_child_weight', 1, 300),\n",
        "    }\n",
        "    model = XGBRegressor(**param)  \n",
        "    \n",
        "    model.fit(train_x,train_y,eval_set=[(test_x,test_y)],early_stopping_rounds=100,verbose=False)\n",
        "    \n",
        "    preds = model.predict(test_x)\n",
        "    \n",
        "    mae = mean_absolute_error(test_y, preds)\n",
        "    \n",
        "    return mae"
      ],
      "execution_count": 24,
      "outputs": []
    },
    {
      "cell_type": "code",
      "metadata": {
        "colab": {
          "base_uri": "https://localhost:8080/"
        },
        "id": "rVGsB__GUj4g",
        "outputId": "9b57206a-fbb4-4d15-f7f2-7694f9a58aef"
      },
      "source": [
        "study = optuna.create_study(direction='minimize', sampler =TPESampler())\n",
        "study.optimize(lambda trial : objective(trial, x, y), n_trials=1000)\n",
        "print('Number of finished trials:', len(study.trials))\n",
        "print('Best trial:', study.best_trial.params)\n",
        "print(study.best_trial.value)"
      ],
      "execution_count": 27,
      "outputs": [
        {
          "output_type": "stream",
          "text": [
            "\u001b[32m[I 2021-07-18 07:12:30,697]\u001b[0m A new study created in memory with name: no-name-cf45fe7e-100a-4f8d-aa2b-046f68376364\u001b[0m\n"
          ],
          "name": "stderr"
        },
        {
          "output_type": "stream",
          "text": [
            "[07:12:30] WARNING: /workspace/src/objective/regression_obj.cu:152: reg:linear is now deprecated in favor of reg:squarederror.\n"
          ],
          "name": "stdout"
        },
        {
          "output_type": "stream",
          "text": [
            "\u001b[32m[I 2021-07-18 07:12:35,126]\u001b[0m Trial 0 finished with value: 283.49515533447266 and parameters: {'alpha': 0.0012129912023808183, 'lambda': 0.007191432844172109, 'gamma': 1, 'colsample_bytree': 0.5, 'subsample': 1.0, 'learning_rate': 0.01, 'n_estimators': 460, 'max_depth': 20, 'min_child_weight': 235}. Best is trial 0 with value: 283.49515533447266.\u001b[0m\n"
          ],
          "name": "stderr"
        },
        {
          "output_type": "stream",
          "text": [
            "[07:12:35] WARNING: /workspace/src/objective/regression_obj.cu:152: reg:linear is now deprecated in favor of reg:squarederror.\n"
          ],
          "name": "stdout"
        },
        {
          "output_type": "stream",
          "text": [
            "\u001b[32m[I 2021-07-18 07:12:35,794]\u001b[0m Trial 1 finished with value: 283.45594024658203 and parameters: {'alpha': 0.28185060291719805, 'lambda': 0.513896992149697, 'gamma': 3, 'colsample_bytree': 0.7, 'subsample': 1.0, 'learning_rate': 0.04, 'n_estimators': 565, 'max_depth': 17, 'min_child_weight': 290}. Best is trial 1 with value: 283.45594024658203.\u001b[0m\n"
          ],
          "name": "stderr"
        },
        {
          "output_type": "stream",
          "text": [
            "[07:12:35] WARNING: /workspace/src/objective/regression_obj.cu:152: reg:linear is now deprecated in favor of reg:squarederror.\n"
          ],
          "name": "stdout"
        },
        {
          "output_type": "stream",
          "text": [
            "\u001b[32m[I 2021-07-18 07:12:36,952]\u001b[0m Trial 2 finished with value: 143.04207253456116 and parameters: {'alpha': 0.18382306561475273, 'lambda': 0.19395361148939178, 'gamma': 0, 'colsample_bytree': 0.9, 'subsample': 0.7, 'learning_rate': 0.1, 'n_estimators': 477, 'max_depth': 9, 'min_child_weight': 128}. Best is trial 2 with value: 143.04207253456116.\u001b[0m\n"
          ],
          "name": "stderr"
        },
        {
          "output_type": "stream",
          "text": [
            "[07:12:36] WARNING: /workspace/src/objective/regression_obj.cu:152: reg:linear is now deprecated in favor of reg:squarederror.\n"
          ],
          "name": "stdout"
        },
        {
          "output_type": "stream",
          "text": [
            "\u001b[32m[I 2021-07-18 07:12:37,797]\u001b[0m Trial 3 finished with value: 184.80232620239258 and parameters: {'alpha': 1.6555292529420726, 'lambda': 1.9184554855466254, 'gamma': 1, 'colsample_bytree': 0.4, 'subsample': 0.8, 'learning_rate': 0.01, 'n_estimators': 266, 'max_depth': 11, 'min_child_weight': 138}. Best is trial 2 with value: 143.04207253456116.\u001b[0m\n"
          ],
          "name": "stderr"
        },
        {
          "output_type": "stream",
          "text": [
            "[07:12:37] WARNING: /workspace/src/objective/regression_obj.cu:152: reg:linear is now deprecated in favor of reg:squarederror.\n"
          ],
          "name": "stdout"
        },
        {
          "output_type": "stream",
          "text": [
            "\u001b[32m[I 2021-07-18 07:12:38,688]\u001b[0m Trial 4 finished with value: 152.88692903518677 and parameters: {'alpha': 3.3804622771604187, 'lambda': 7.957374742767016, 'gamma': 1, 'colsample_bytree': 0.9, 'subsample': 0.7, 'learning_rate': 0.08, 'n_estimators': 521, 'max_depth': 7, 'min_child_weight': 98}. Best is trial 2 with value: 143.04207253456116.\u001b[0m\n"
          ],
          "name": "stderr"
        },
        {
          "output_type": "stream",
          "text": [
            "[07:12:38] WARNING: /workspace/src/objective/regression_obj.cu:152: reg:linear is now deprecated in favor of reg:squarederror.\n"
          ],
          "name": "stdout"
        },
        {
          "output_type": "stream",
          "text": [
            "\u001b[32m[I 2021-07-18 07:12:39,458]\u001b[0m Trial 5 finished with value: 281.84351921081543 and parameters: {'alpha': 0.5164959253533504, 'lambda': 0.008042864342692364, 'gamma': 1, 'colsample_bytree': 0.5, 'subsample': 0.5, 'learning_rate': 0.01, 'n_estimators': 263, 'max_depth': 3, 'min_child_weight': 210}. Best is trial 2 with value: 143.04207253456116.\u001b[0m\n"
          ],
          "name": "stderr"
        },
        {
          "output_type": "stream",
          "text": [
            "[07:12:39] WARNING: /workspace/src/objective/regression_obj.cu:152: reg:linear is now deprecated in favor of reg:squarederror.\n"
          ],
          "name": "stdout"
        },
        {
          "output_type": "stream",
          "text": [
            "\u001b[32m[I 2021-07-18 07:12:40,786]\u001b[0m Trial 6 finished with value: 283.49515533447266 and parameters: {'alpha': 0.008939278557732596, 'lambda': 0.5431712611254558, 'gamma': 2, 'colsample_bytree': 1.0, 'subsample': 0.5, 'learning_rate': 0.01, 'n_estimators': 359, 'max_depth': 17, 'min_child_weight': 251}. Best is trial 2 with value: 143.04207253456116.\u001b[0m\n"
          ],
          "name": "stderr"
        },
        {
          "output_type": "stream",
          "text": [
            "[07:12:40] WARNING: /workspace/src/objective/regression_obj.cu:152: reg:linear is now deprecated in favor of reg:squarederror.\n"
          ],
          "name": "stdout"
        },
        {
          "output_type": "stream",
          "text": [
            "\u001b[32m[I 2021-07-18 07:12:42,332]\u001b[0m Trial 7 finished with value: 159.2914125919342 and parameters: {'alpha': 1.15427418746015, 'lambda': 0.0018023375964570682, 'gamma': 3, 'colsample_bytree': 0.3, 'subsample': 0.4, 'learning_rate': 0.01, 'n_estimators': 383, 'max_depth': 17, 'min_child_weight': 26}. Best is trial 2 with value: 143.04207253456116.\u001b[0m\n"
          ],
          "name": "stderr"
        },
        {
          "output_type": "stream",
          "text": [
            "[07:12:42] WARNING: /workspace/src/objective/regression_obj.cu:152: reg:linear is now deprecated in favor of reg:squarederror.\n"
          ],
          "name": "stdout"
        },
        {
          "output_type": "stream",
          "text": [
            "\u001b[32m[I 2021-07-18 07:12:42,810]\u001b[0m Trial 8 finished with value: 182.92652893066406 and parameters: {'alpha': 5.342836095023498, 'lambda': 0.953385990979633, 'gamma': 1, 'colsample_bytree': 1.0, 'subsample': 0.7, 'learning_rate': 0.01, 'n_estimators': 143, 'max_depth': 3, 'min_child_weight': 49}. Best is trial 2 with value: 143.04207253456116.\u001b[0m\n"
          ],
          "name": "stderr"
        },
        {
          "output_type": "stream",
          "text": [
            "[07:12:42] WARNING: /workspace/src/objective/regression_obj.cu:152: reg:linear is now deprecated in favor of reg:squarederror.\n"
          ],
          "name": "stdout"
        },
        {
          "output_type": "stream",
          "text": [
            "\u001b[32m[I 2021-07-18 07:12:44,022]\u001b[0m Trial 9 finished with value: 283.49515533447266 and parameters: {'alpha': 0.02038600945998698, 'lambda': 0.37602842391934604, 'gamma': 0, 'colsample_bytree': 0.3, 'subsample': 0.5, 'learning_rate': 0.01, 'n_estimators': 553, 'max_depth': 7, 'min_child_weight': 237}. Best is trial 2 with value: 143.04207253456116.\u001b[0m\n"
          ],
          "name": "stderr"
        },
        {
          "output_type": "stream",
          "text": [
            "[07:12:44] WARNING: /workspace/src/objective/regression_obj.cu:152: reg:linear is now deprecated in favor of reg:squarederror.\n"
          ],
          "name": "stdout"
        },
        {
          "output_type": "stream",
          "text": [
            "\u001b[32m[I 2021-07-18 07:12:45,225]\u001b[0m Trial 10 finished with value: 162.68026626110077 and parameters: {'alpha': 0.059640545412931144, 'lambda': 0.04923285008686979, 'gamma': 0, 'colsample_bytree': 0.6, 'subsample': 0.6, 'learning_rate': 0.1, 'n_estimators': 433, 'max_depth': 9, 'min_child_weight': 157}. Best is trial 2 with value: 143.04207253456116.\u001b[0m\n"
          ],
          "name": "stderr"
        },
        {
          "output_type": "stream",
          "text": [
            "[07:12:45] WARNING: /workspace/src/objective/regression_obj.cu:152: reg:linear is now deprecated in favor of reg:squarederror.\n"
          ],
          "name": "stdout"
        },
        {
          "output_type": "stream",
          "text": [
            "\u001b[32m[I 2021-07-18 07:12:46,137]\u001b[0m Trial 11 finished with value: 158.85702347755432 and parameters: {'alpha': 6.667438193176175, 'lambda': 8.162761547379896, 'gamma': 0, 'colsample_bytree': 0.9, 'subsample': 0.7, 'learning_rate': 0.08, 'n_estimators': 526, 'max_depth': 7, 'min_child_weight': 91}. Best is trial 2 with value: 143.04207253456116.\u001b[0m\n"
          ],
          "name": "stderr"
        },
        {
          "output_type": "stream",
          "text": [
            "[07:12:46] WARNING: /workspace/src/objective/regression_obj.cu:152: reg:linear is now deprecated in favor of reg:squarederror.\n"
          ],
          "name": "stdout"
        },
        {
          "output_type": "stream",
          "text": [
            "\u001b[32m[I 2021-07-18 07:12:47,334]\u001b[0m Trial 12 finished with value: 152.9326629638672 and parameters: {'alpha': 0.12514400617062943, 'lambda': 6.823821525197253, 'gamma': 2, 'colsample_bytree': 0.9, 'subsample': 0.7, 'learning_rate': 0.06, 'n_estimators': 470, 'max_depth': 15, 'min_child_weight': 105}. Best is trial 2 with value: 143.04207253456116.\u001b[0m\n"
          ],
          "name": "stderr"
        },
        {
          "output_type": "stream",
          "text": [
            "[07:12:47] WARNING: /workspace/src/objective/regression_obj.cu:152: reg:linear is now deprecated in favor of reg:squarederror.\n"
          ],
          "name": "stdout"
        },
        {
          "output_type": "stream",
          "text": [
            "\u001b[32m[I 2021-07-18 07:12:49,137]\u001b[0m Trial 13 finished with value: 159.06043648719788 and parameters: {'alpha': 2.494217224617554, 'lambda': 0.07685581218425373, 'gamma': 0, 'colsample_bytree': 0.8, 'subsample': 0.7, 'learning_rate': 0.02, 'n_estimators': 586, 'max_depth': 9, 'min_child_weight': 163}. Best is trial 2 with value: 143.04207253456116.\u001b[0m\n"
          ],
          "name": "stderr"
        },
        {
          "output_type": "stream",
          "text": [
            "[07:12:49] WARNING: /workspace/src/objective/regression_obj.cu:152: reg:linear is now deprecated in favor of reg:squarederror.\n"
          ],
          "name": "stdout"
        },
        {
          "output_type": "stream",
          "text": [
            "\u001b[32m[I 2021-07-18 07:12:50,073]\u001b[0m Trial 14 finished with value: 158.12932300567627 and parameters: {'alpha': 0.005898116791925171, 'lambda': 3.3657450442176806, 'gamma': 2, 'colsample_bytree': 0.9, 'subsample': 0.7, 'learning_rate': 0.08, 'n_estimators': 507, 'max_depth': 13, 'min_child_weight': 88}. Best is trial 2 with value: 143.04207253456116.\u001b[0m\n"
          ],
          "name": "stderr"
        },
        {
          "output_type": "stream",
          "text": [
            "[07:12:50] WARNING: /workspace/src/objective/regression_obj.cu:152: reg:linear is now deprecated in favor of reg:squarederror.\n"
          ],
          "name": "stdout"
        },
        {
          "output_type": "stream",
          "text": [
            "\u001b[32m[I 2021-07-18 07:12:50,589]\u001b[0m Trial 15 finished with value: 146.44414925575256 and parameters: {'alpha': 9.630240729909271, 'lambda': 0.021392087983810704, 'gamma': 0, 'colsample_bytree': 0.9, 'subsample': 0.4, 'learning_rate': 0.1, 'n_estimators': 399, 'max_depth': 5, 'min_child_weight': 3}. Best is trial 2 with value: 143.04207253456116.\u001b[0m\n"
          ],
          "name": "stderr"
        },
        {
          "output_type": "stream",
          "text": [
            "[07:12:50] WARNING: /workspace/src/objective/regression_obj.cu:152: reg:linear is now deprecated in favor of reg:squarederror.\n"
          ],
          "name": "stdout"
        },
        {
          "output_type": "stream",
          "text": [
            "\u001b[32m[I 2021-07-18 07:12:51,241]\u001b[0m Trial 16 finished with value: 144.8464595079422 and parameters: {'alpha': 9.896506277399675, 'lambda': 0.014926714771730184, 'gamma': 0, 'colsample_bytree': 0.9, 'subsample': 0.4, 'learning_rate': 0.1, 'n_estimators': 287, 'max_depth': 5, 'min_child_weight': 28}. Best is trial 2 with value: 143.04207253456116.\u001b[0m\n"
          ],
          "name": "stderr"
        },
        {
          "output_type": "stream",
          "text": [
            "[07:12:51] WARNING: /workspace/src/objective/regression_obj.cu:152: reg:linear is now deprecated in favor of reg:squarederror.\n"
          ],
          "name": "stdout"
        },
        {
          "output_type": "stream",
          "text": [
            "\u001b[32m[I 2021-07-18 07:12:52,184]\u001b[0m Trial 17 finished with value: 155.31856560707092 and parameters: {'alpha': 0.0011321199069498635, 'lambda': 0.1802540878488381, 'gamma': 0, 'colsample_bytree': 0.7, 'subsample': 0.4, 'learning_rate': 0.1, 'n_estimators': 291, 'max_depth': 5, 'min_child_weight': 57}. Best is trial 2 with value: 143.04207253456116.\u001b[0m\n"
          ],
          "name": "stderr"
        },
        {
          "output_type": "stream",
          "text": [
            "[07:12:52] WARNING: /workspace/src/objective/regression_obj.cu:152: reg:linear is now deprecated in favor of reg:squarederror.\n"
          ],
          "name": "stdout"
        },
        {
          "output_type": "stream",
          "text": [
            "\u001b[32m[I 2021-07-18 07:12:52,696]\u001b[0m Trial 18 finished with value: 136.5965637564659 and parameters: {'alpha': 0.05246914256188978, 'lambda': 0.002160139881627286, 'gamma': 0, 'colsample_bytree': 0.8, 'subsample': 0.8, 'learning_rate': 0.1, 'n_estimators': 172, 'max_depth': 5, 'min_child_weight': 4}. Best is trial 18 with value: 136.5965637564659.\u001b[0m\n"
          ],
          "name": "stderr"
        },
        {
          "output_type": "stream",
          "text": [
            "[07:12:52] WARNING: /workspace/src/objective/regression_obj.cu:152: reg:linear is now deprecated in favor of reg:squarederror.\n"
          ],
          "name": "stdout"
        },
        {
          "output_type": "stream",
          "text": [
            "\u001b[32m[I 2021-07-18 07:12:53,032]\u001b[0m Trial 19 finished with value: 283.50923919677734 and parameters: {'alpha': 0.06597439006719129, 'lambda': 0.0025217921468759664, 'gamma': 1, 'colsample_bytree': 0.8, 'subsample': 0.8, 'learning_rate': 0.1, 'n_estimators': 112, 'max_depth': 9, 'min_child_weight': 187}. Best is trial 18 with value: 136.5965637564659.\u001b[0m\n"
          ],
          "name": "stderr"
        },
        {
          "output_type": "stream",
          "text": [
            "[07:12:53] WARNING: /workspace/src/objective/regression_obj.cu:152: reg:linear is now deprecated in favor of reg:squarederror.\n"
          ],
          "name": "stdout"
        },
        {
          "output_type": "stream",
          "text": [
            "\u001b[32m[I 2021-07-18 07:12:53,559]\u001b[0m Trial 20 finished with value: 283.45594024658203 and parameters: {'alpha': 0.022368491241692143, 'lambda': 0.17534957867605502, 'gamma': 0, 'colsample_bytree': 0.8, 'subsample': 0.8, 'learning_rate': 0.04, 'n_estimators': 198, 'max_depth': 9, 'min_child_weight': 279}. Best is trial 18 with value: 136.5965637564659.\u001b[0m\n"
          ],
          "name": "stderr"
        },
        {
          "output_type": "stream",
          "text": [
            "[07:12:53] WARNING: /workspace/src/objective/regression_obj.cu:152: reg:linear is now deprecated in favor of reg:squarederror.\n"
          ],
          "name": "stdout"
        },
        {
          "output_type": "stream",
          "text": [
            "\u001b[32m[I 2021-07-18 07:12:54,081]\u001b[0m Trial 21 finished with value: 138.1189005970955 and parameters: {'alpha': 0.18438541239618045, 'lambda': 0.02318487844510493, 'gamma': 0, 'colsample_bytree': 0.9, 'subsample': 0.8, 'learning_rate': 0.1, 'n_estimators': 207, 'max_depth': 5, 'min_child_weight': 7}. Best is trial 18 with value: 136.5965637564659.\u001b[0m\n"
          ],
          "name": "stderr"
        },
        {
          "output_type": "stream",
          "text": [
            "[07:12:54] WARNING: /workspace/src/objective/regression_obj.cu:152: reg:linear is now deprecated in favor of reg:squarederror.\n"
          ],
          "name": "stdout"
        },
        {
          "output_type": "stream",
          "text": [
            "\u001b[32m[I 2021-07-18 07:12:54,571]\u001b[0m Trial 22 finished with value: 140.59649074077606 and parameters: {'alpha': 0.1895422638904627, 'lambda': 0.0011569871307578767, 'gamma': 0, 'colsample_bytree': 0.8, 'subsample': 0.8, 'learning_rate': 0.1, 'n_estimators': 197, 'max_depth': 5, 'min_child_weight': 14}. Best is trial 18 with value: 136.5965637564659.\u001b[0m\n"
          ],
          "name": "stderr"
        },
        {
          "output_type": "stream",
          "text": [
            "[07:12:54] WARNING: /workspace/src/objective/regression_obj.cu:152: reg:linear is now deprecated in favor of reg:squarederror.\n"
          ],
          "name": "stdout"
        },
        {
          "output_type": "stream",
          "text": [
            "\u001b[32m[I 2021-07-18 07:12:55,103]\u001b[0m Trial 23 finished with value: 136.43084120750427 and parameters: {'alpha': 0.48449750606141484, 'lambda': 0.0013513116524195316, 'gamma': 0, 'colsample_bytree': 0.8, 'subsample': 0.8, 'learning_rate': 0.1, 'n_estimators': 199, 'max_depth': 5, 'min_child_weight': 1}. Best is trial 23 with value: 136.43084120750427.\u001b[0m\n"
          ],
          "name": "stderr"
        },
        {
          "output_type": "stream",
          "text": [
            "[07:12:55] WARNING: /workspace/src/objective/regression_obj.cu:152: reg:linear is now deprecated in favor of reg:squarederror.\n"
          ],
          "name": "stdout"
        },
        {
          "output_type": "stream",
          "text": [
            "\u001b[32m[I 2021-07-18 07:12:55,630]\u001b[0m Trial 24 finished with value: 136.43084120750427 and parameters: {'alpha': 0.5916752456476975, 'lambda': 0.00340142924878007, 'gamma': 1, 'colsample_bytree': 0.8, 'subsample': 0.8, 'learning_rate': 0.1, 'n_estimators': 187, 'max_depth': 5, 'min_child_weight': 1}. Best is trial 23 with value: 136.43084120750427.\u001b[0m\n"
          ],
          "name": "stderr"
        },
        {
          "output_type": "stream",
          "text": [
            "[07:12:55] WARNING: /workspace/src/objective/regression_obj.cu:152: reg:linear is now deprecated in favor of reg:squarederror.\n"
          ],
          "name": "stdout"
        },
        {
          "output_type": "stream",
          "text": [
            "\u001b[32m[I 2021-07-18 07:12:56,151]\u001b[0m Trial 25 finished with value: 142.9815764427185 and parameters: {'alpha': 0.5502539519909369, 'lambda': 0.0033952658572096307, 'gamma': 1, 'colsample_bytree': 0.8, 'subsample': 0.8, 'learning_rate': 0.06, 'n_estimators': 146, 'max_depth': 5, 'min_child_weight': 56}. Best is trial 23 with value: 136.43084120750427.\u001b[0m\n"
          ],
          "name": "stderr"
        },
        {
          "output_type": "stream",
          "text": [
            "[07:12:56] WARNING: /workspace/src/objective/regression_obj.cu:152: reg:linear is now deprecated in favor of reg:squarederror.\n"
          ],
          "name": "stdout"
        },
        {
          "output_type": "stream",
          "text": [
            "\u001b[32m[I 2021-07-18 07:12:56,948]\u001b[0m Trial 26 finished with value: 146.16612875461578 and parameters: {'alpha': 0.7288420295585132, 'lambda': 0.00106771688090718, 'gamma': 2, 'colsample_bytree': 0.8, 'subsample': 0.8, 'learning_rate': 0.02, 'n_estimators': 228, 'max_depth': 5, 'min_child_weight': 41}. Best is trial 23 with value: 136.43084120750427.\u001b[0m\n"
          ],
          "name": "stderr"
        },
        {
          "output_type": "stream",
          "text": [
            "[07:12:56] WARNING: /workspace/src/objective/regression_obj.cu:152: reg:linear is now deprecated in favor of reg:squarederror.\n"
          ],
          "name": "stdout"
        },
        {
          "output_type": "stream",
          "text": [
            "\u001b[32m[I 2021-07-18 07:12:57,338]\u001b[0m Trial 27 finished with value: 147.23009157180786 and parameters: {'alpha': 0.04863212026583089, 'lambda': 0.0045128746528111064, 'gamma': 1, 'colsample_bytree': 0.8, 'subsample': 0.8, 'learning_rate': 0.1, 'n_estimators': 107, 'max_depth': 5, 'min_child_weight': 66}. Best is trial 23 with value: 136.43084120750427.\u001b[0m\n"
          ],
          "name": "stderr"
        },
        {
          "output_type": "stream",
          "text": [
            "[07:12:57] WARNING: /workspace/src/objective/regression_obj.cu:152: reg:linear is now deprecated in favor of reg:squarederror.\n"
          ],
          "name": "stdout"
        },
        {
          "output_type": "stream",
          "text": [
            "\u001b[32m[I 2021-07-18 07:12:57,954]\u001b[0m Trial 28 finished with value: 135.85601782798767 and parameters: {'alpha': 0.34185487190300945, 'lambda': 0.0010404943779565765, 'gamma': 1, 'colsample_bytree': 0.8, 'subsample': 0.6, 'learning_rate': 0.1, 'n_estimators': 157, 'max_depth': 15, 'min_child_weight': 8}. Best is trial 28 with value: 135.85601782798767.\u001b[0m\n"
          ],
          "name": "stderr"
        },
        {
          "output_type": "stream",
          "text": [
            "[07:12:57] WARNING: /workspace/src/objective/regression_obj.cu:152: reg:linear is now deprecated in favor of reg:squarederror.\n"
          ],
          "name": "stdout"
        },
        {
          "output_type": "stream",
          "text": [
            "\u001b[32m[I 2021-07-18 07:12:58,745]\u001b[0m Trial 29 finished with value: 142.0762619972229 and parameters: {'alpha': 0.3666915005429139, 'lambda': 0.006532138035420204, 'gamma': 2, 'colsample_bytree': 0.6, 'subsample': 0.6, 'learning_rate': 0.1, 'n_estimators': 325, 'max_depth': 15, 'min_child_weight': 27}. Best is trial 28 with value: 135.85601782798767.\u001b[0m\n"
          ],
          "name": "stderr"
        },
        {
          "output_type": "stream",
          "text": [
            "[07:12:58] WARNING: /workspace/src/objective/regression_obj.cu:152: reg:linear is now deprecated in favor of reg:squarederror.\n"
          ],
          "name": "stdout"
        },
        {
          "output_type": "stream",
          "text": [
            "\u001b[32m[I 2021-07-18 07:13:01,092]\u001b[0m Trial 30 finished with value: 135.07666063308716 and parameters: {'alpha': 1.0327827545689108, 'lambda': 0.010817552864452767, 'gamma': 1, 'colsample_bytree': 0.4, 'subsample': 0.6, 'learning_rate': 0.1, 'n_estimators': 145, 'max_depth': 20, 'min_child_weight': 1}. Best is trial 30 with value: 135.07666063308716.\u001b[0m\n"
          ],
          "name": "stderr"
        },
        {
          "output_type": "stream",
          "text": [
            "[07:13:01] WARNING: /workspace/src/objective/regression_obj.cu:152: reg:linear is now deprecated in favor of reg:squarederror.\n"
          ],
          "name": "stdout"
        },
        {
          "output_type": "stream",
          "text": [
            "\u001b[32m[I 2021-07-18 07:13:03,002]\u001b[0m Trial 31 finished with value: 140.56422019004822 and parameters: {'alpha': 1.0541632740696478, 'lambda': 0.0010372764007771618, 'gamma': 1, 'colsample_bytree': 0.4, 'subsample': 0.6, 'learning_rate': 0.1, 'n_estimators': 149, 'max_depth': 20, 'min_child_weight': 3}. Best is trial 30 with value: 135.07666063308716.\u001b[0m\n"
          ],
          "name": "stderr"
        },
        {
          "output_type": "stream",
          "text": [
            "[07:13:03] WARNING: /workspace/src/objective/regression_obj.cu:152: reg:linear is now deprecated in favor of reg:squarederror.\n"
          ],
          "name": "stdout"
        },
        {
          "output_type": "stream",
          "text": [
            "\u001b[32m[I 2021-07-18 07:13:05,564]\u001b[0m Trial 32 finished with value: 154.6298542022705 and parameters: {'alpha': 1.7131355846760132, 'lambda': 0.00986310241843891, 'gamma': 1, 'colsample_bytree': 0.4, 'subsample': 0.6, 'learning_rate': 0.04, 'n_estimators': 232, 'max_depth': 20, 'min_child_weight': 74}. Best is trial 30 with value: 135.07666063308716.\u001b[0m\n"
          ],
          "name": "stderr"
        },
        {
          "output_type": "stream",
          "text": [
            "[07:13:05] WARNING: /workspace/src/objective/regression_obj.cu:152: reg:linear is now deprecated in favor of reg:squarederror.\n"
          ],
          "name": "stdout"
        },
        {
          "output_type": "stream",
          "text": [
            "\u001b[32m[I 2021-07-18 07:13:05,999]\u001b[0m Trial 33 finished with value: 150.86353874206543 and parameters: {'alpha': 0.33394204201321703, 'lambda': 0.004988948968663997, 'gamma': 1, 'colsample_bytree': 0.4, 'subsample': 1.0, 'learning_rate': 0.1, 'n_estimators': 109, 'max_depth': 15, 'min_child_weight': 39}. Best is trial 30 with value: 135.07666063308716.\u001b[0m\n"
          ],
          "name": "stderr"
        },
        {
          "output_type": "stream",
          "text": [
            "[07:13:06] WARNING: /workspace/src/objective/regression_obj.cu:152: reg:linear is now deprecated in favor of reg:squarederror.\n"
          ],
          "name": "stdout"
        },
        {
          "output_type": "stream",
          "text": [
            "\u001b[32m[I 2021-07-18 07:13:08,522]\u001b[0m Trial 34 finished with value: 133.82784801721573 and parameters: {'alpha': 0.8668974479097571, 'lambda': 0.0019180051464322133, 'gamma': 2, 'colsample_bytree': 0.5, 'subsample': 0.6, 'learning_rate': 0.1, 'n_estimators': 171, 'max_depth': 20, 'min_child_weight': 1}. Best is trial 34 with value: 133.82784801721573.\u001b[0m\n"
          ],
          "name": "stderr"
        },
        {
          "output_type": "stream",
          "text": [
            "[07:13:08] WARNING: /workspace/src/objective/regression_obj.cu:152: reg:linear is now deprecated in favor of reg:squarederror.\n"
          ],
          "name": "stdout"
        },
        {
          "output_type": "stream",
          "text": [
            "\u001b[32m[I 2021-07-18 07:13:10,431]\u001b[0m Trial 35 finished with value: 138.89689087867737 and parameters: {'alpha': 3.0485666239964724, 'lambda': 0.0017105070735426303, 'gamma': 3, 'colsample_bytree': 0.5, 'subsample': 0.6, 'learning_rate': 0.1, 'n_estimators': 164, 'max_depth': 20, 'min_child_weight': 21}. Best is trial 34 with value: 133.82784801721573.\u001b[0m\n"
          ],
          "name": "stderr"
        },
        {
          "output_type": "stream",
          "text": [
            "[07:13:10] WARNING: /workspace/src/objective/regression_obj.cu:152: reg:linear is now deprecated in favor of reg:squarederror.\n"
          ],
          "name": "stdout"
        },
        {
          "output_type": "stream",
          "text": [
            "\u001b[32m[I 2021-07-18 07:13:12,378]\u001b[0m Trial 36 finished with value: 138.96623826026917 and parameters: {'alpha': 1.0461845720712837, 'lambda': 0.001145805286569826, 'gamma': 2, 'colsample_bytree': 0.5, 'subsample': 0.6, 'learning_rate': 0.02, 'n_estimators': 126, 'max_depth': 20, 'min_child_weight': 1}. Best is trial 34 with value: 133.82784801721573.\u001b[0m\n"
          ],
          "name": "stderr"
        },
        {
          "output_type": "stream",
          "text": [
            "[07:13:12] WARNING: /workspace/src/objective/regression_obj.cu:152: reg:linear is now deprecated in favor of reg:squarederror.\n"
          ],
          "name": "stdout"
        },
        {
          "output_type": "stream",
          "text": [
            "\u001b[32m[I 2021-07-18 07:13:13,158]\u001b[0m Trial 37 finished with value: 147.34061312675476 and parameters: {'alpha': 1.8912445928672306, 'lambda': 0.003129161651193326, 'gamma': 2, 'colsample_bytree': 0.5, 'subsample': 0.6, 'learning_rate': 0.06, 'n_estimators': 243, 'max_depth': 11, 'min_child_weight': 122}. Best is trial 34 with value: 133.82784801721573.\u001b[0m\n"
          ],
          "name": "stderr"
        },
        {
          "output_type": "stream",
          "text": [
            "[07:13:13] WARNING: /workspace/src/objective/regression_obj.cu:152: reg:linear is now deprecated in favor of reg:squarederror.\n"
          ],
          "name": "stdout"
        },
        {
          "output_type": "stream",
          "text": [
            "\u001b[32m[I 2021-07-18 07:13:15,084]\u001b[0m Trial 38 finished with value: 143.5118544101715 and parameters: {'alpha': 0.3427957098625969, 'lambda': 0.012381523408392598, 'gamma': 3, 'colsample_bytree': 0.7, 'subsample': 0.6, 'learning_rate': 0.1, 'n_estimators': 170, 'max_depth': 20, 'min_child_weight': 37}. Best is trial 34 with value: 133.82784801721573.\u001b[0m\n"
          ],
          "name": "stderr"
        },
        {
          "output_type": "stream",
          "text": [
            "[07:13:15] WARNING: /workspace/src/objective/regression_obj.cu:152: reg:linear is now deprecated in favor of reg:squarederror.\n"
          ],
          "name": "stdout"
        },
        {
          "output_type": "stream",
          "text": [
            "\u001b[32m[I 2021-07-18 07:13:15,630]\u001b[0m Trial 39 finished with value: 135.96704161167145 and parameters: {'alpha': 0.8204850917670183, 'lambda': 0.028932978340450596, 'gamma': 1, 'colsample_bytree': 0.4, 'subsample': 1.0, 'learning_rate': 0.04, 'n_estimators': 134, 'max_depth': 15, 'min_child_weight': 24}. Best is trial 34 with value: 133.82784801721573.\u001b[0m\n"
          ],
          "name": "stderr"
        },
        {
          "output_type": "stream",
          "text": [
            "[07:13:15] WARNING: /workspace/src/objective/regression_obj.cu:152: reg:linear is now deprecated in favor of reg:squarederror.\n"
          ],
          "name": "stdout"
        },
        {
          "output_type": "stream",
          "text": [
            "\u001b[32m[I 2021-07-18 07:13:16,056]\u001b[0m Trial 40 finished with value: 136.85702896118164 and parameters: {'alpha': 0.8157480908470808, 'lambda': 0.04183921581028294, 'gamma': 1, 'colsample_bytree': 0.4, 'subsample': 1.0, 'learning_rate': 0.04, 'n_estimators': 101, 'max_depth': 15, 'min_child_weight': 20}. Best is trial 34 with value: 133.82784801721573.\u001b[0m\n"
          ],
          "name": "stderr"
        },
        {
          "output_type": "stream",
          "text": [
            "[07:13:16] WARNING: /workspace/src/objective/regression_obj.cu:152: reg:linear is now deprecated in favor of reg:squarederror.\n"
          ],
          "name": "stdout"
        },
        {
          "output_type": "stream",
          "text": [
            "\u001b[32m[I 2021-07-18 07:13:16,619]\u001b[0m Trial 41 finished with value: 140.93399000167847 and parameters: {'alpha': 0.2435013858825004, 'lambda': 0.02597455589671969, 'gamma': 1, 'colsample_bytree': 0.4, 'subsample': 1.0, 'learning_rate': 0.04, 'n_estimators': 129, 'max_depth': 15, 'min_child_weight': 15}. Best is trial 34 with value: 133.82784801721573.\u001b[0m\n"
          ],
          "name": "stderr"
        },
        {
          "output_type": "stream",
          "text": [
            "[07:13:16] WARNING: /workspace/src/objective/regression_obj.cu:152: reg:linear is now deprecated in favor of reg:squarederror.\n"
          ],
          "name": "stdout"
        },
        {
          "output_type": "stream",
          "text": [
            "\u001b[32m[I 2021-07-18 07:13:17,283]\u001b[0m Trial 42 finished with value: 151.69257712364197 and parameters: {'alpha': 0.6781822857140349, 'lambda': 0.006702893150754515, 'gamma': 1, 'colsample_bytree': 0.4, 'subsample': 1.0, 'learning_rate': 0.04, 'n_estimators': 178, 'max_depth': 15, 'min_child_weight': 42}. Best is trial 34 with value: 133.82784801721573.\u001b[0m\n"
          ],
          "name": "stderr"
        },
        {
          "output_type": "stream",
          "text": [
            "[07:13:17] WARNING: /workspace/src/objective/regression_obj.cu:152: reg:linear is now deprecated in favor of reg:squarederror.\n"
          ],
          "name": "stdout"
        },
        {
          "output_type": "stream",
          "text": [
            "\u001b[32m[I 2021-07-18 07:13:17,789]\u001b[0m Trial 43 finished with value: 143.13782024383545 and parameters: {'alpha': 1.3538902325281803, 'lambda': 0.015919141836666036, 'gamma': 1, 'colsample_bytree': 1.0, 'subsample': 0.6, 'learning_rate': 0.04, 'n_estimators': 138, 'max_depth': 13, 'min_child_weight': 31}. Best is trial 34 with value: 133.82784801721573.\u001b[0m\n"
          ],
          "name": "stderr"
        },
        {
          "output_type": "stream",
          "text": [
            "[07:13:17] WARNING: /workspace/src/objective/regression_obj.cu:152: reg:linear is now deprecated in favor of reg:squarederror.\n"
          ],
          "name": "stdout"
        },
        {
          "output_type": "stream",
          "text": [
            "\u001b[32m[I 2021-07-18 07:13:20,156]\u001b[0m Trial 44 finished with value: 155.81937789916992 and parameters: {'alpha': 0.45728157508779305, 'lambda': 0.042539602625686686, 'gamma': 2, 'colsample_bytree': 0.5, 'subsample': 0.6, 'learning_rate': 0.08, 'n_estimators': 218, 'max_depth': 20, 'min_child_weight': 73}. Best is trial 34 with value: 133.82784801721573.\u001b[0m\n"
          ],
          "name": "stderr"
        },
        {
          "output_type": "stream",
          "text": [
            "[07:13:20] WARNING: /workspace/src/objective/regression_obj.cu:152: reg:linear is now deprecated in favor of reg:squarederror.\n"
          ],
          "name": "stdout"
        },
        {
          "output_type": "stream",
          "text": [
            "\u001b[32m[I 2021-07-18 07:13:20,684]\u001b[0m Trial 45 finished with value: 137.76434016227722 and parameters: {'alpha': 3.3927813470000903, 'lambda': 0.004120073819235438, 'gamma': 1, 'colsample_bytree': 0.3, 'subsample': 0.5, 'learning_rate': 0.1, 'n_estimators': 265, 'max_depth': 3, 'min_child_weight': 1}. Best is trial 34 with value: 133.82784801721573.\u001b[0m\n"
          ],
          "name": "stderr"
        },
        {
          "output_type": "stream",
          "text": [
            "[07:13:20] WARNING: /workspace/src/objective/regression_obj.cu:152: reg:linear is now deprecated in favor of reg:squarederror.\n"
          ],
          "name": "stdout"
        },
        {
          "output_type": "stream",
          "text": [
            "\u001b[32m[I 2021-07-18 07:13:21,444]\u001b[0m Trial 46 finished with value: 154.84916937351227 and parameters: {'alpha': 0.12743548645798336, 'lambda': 0.009574128580258343, 'gamma': 1, 'colsample_bytree': 0.4, 'subsample': 1.0, 'learning_rate': 0.1, 'n_estimators': 181, 'max_depth': 17, 'min_child_weight': 52}. Best is trial 34 with value: 133.82784801721573.\u001b[0m\n"
          ],
          "name": "stderr"
        },
        {
          "output_type": "stream",
          "text": [
            "[07:13:21] WARNING: /workspace/src/objective/regression_obj.cu:152: reg:linear is now deprecated in favor of reg:squarederror.\n"
          ],
          "name": "stdout"
        },
        {
          "output_type": "stream",
          "text": [
            "\u001b[32m[I 2021-07-18 07:13:22,021]\u001b[0m Trial 47 finished with value: 169.43155598640442 and parameters: {'alpha': 4.211593335401688, 'lambda': 0.09474337834123825, 'gamma': 2, 'colsample_bytree': 0.5, 'subsample': 0.6, 'learning_rate': 0.01, 'n_estimators': 156, 'max_depth': 11, 'min_child_weight': 15}. Best is trial 34 with value: 133.82784801721573.\u001b[0m\n"
          ],
          "name": "stderr"
        },
        {
          "output_type": "stream",
          "text": [
            "[07:13:22] WARNING: /workspace/src/objective/regression_obj.cu:152: reg:linear is now deprecated in favor of reg:squarederror.\n"
          ],
          "name": "stdout"
        },
        {
          "output_type": "stream",
          "text": [
            "\u001b[32m[I 2021-07-18 07:13:22,692]\u001b[0m Trial 48 finished with value: 141.66376769542694 and parameters: {'alpha': 0.10884960894412496, 'lambda': 0.001919702871417292, 'gamma': 2, 'colsample_bytree': 0.6, 'subsample': 0.6, 'learning_rate': 0.1, 'n_estimators': 248, 'max_depth': 15, 'min_child_weight': 16}. Best is trial 34 with value: 133.82784801721573.\u001b[0m\n"
          ],
          "name": "stderr"
        },
        {
          "output_type": "stream",
          "text": [
            "[07:13:22] WARNING: /workspace/src/objective/regression_obj.cu:152: reg:linear is now deprecated in favor of reg:squarederror.\n"
          ],
          "name": "stdout"
        },
        {
          "output_type": "stream",
          "text": [
            "\u001b[32m[I 2021-07-18 07:13:24,066]\u001b[0m Trial 49 finished with value: 158.2378921508789 and parameters: {'alpha': 2.147213993309822, 'lambda': 0.005512299044590808, 'gamma': 1, 'colsample_bytree': 0.4, 'subsample': 1.0, 'learning_rate': 0.04, 'n_estimators': 123, 'max_depth': 20, 'min_child_weight': 63}. Best is trial 34 with value: 133.82784801721573.\u001b[0m\n"
          ],
          "name": "stderr"
        },
        {
          "output_type": "stream",
          "text": [
            "[07:13:24] WARNING: /workspace/src/objective/regression_obj.cu:152: reg:linear is now deprecated in favor of reg:squarederror.\n"
          ],
          "name": "stdout"
        },
        {
          "output_type": "stream",
          "text": [
            "\u001b[32m[I 2021-07-18 07:13:24,405]\u001b[0m Trial 50 finished with value: 154.97970128059387 and parameters: {'alpha': 0.2252019602514861, 'lambda': 0.0013852073953849568, 'gamma': 2, 'colsample_bytree': 1.0, 'subsample': 0.5, 'learning_rate': 0.08, 'n_estimators': 100, 'max_depth': 7, 'min_child_weight': 113}. Best is trial 34 with value: 133.82784801721573.\u001b[0m\n"
          ],
          "name": "stderr"
        },
        {
          "output_type": "stream",
          "text": [
            "[07:13:24] WARNING: /workspace/src/objective/regression_obj.cu:152: reg:linear is now deprecated in favor of reg:squarederror.\n"
          ],
          "name": "stdout"
        },
        {
          "output_type": "stream",
          "text": [
            "\u001b[32m[I 2021-07-18 07:13:25,121]\u001b[0m Trial 51 finished with value: 134.2926847934723 and parameters: {'alpha': 0.4822014706010754, 'lambda': 0.0027131417762688223, 'gamma': 1, 'colsample_bytree': 0.8, 'subsample': 0.8, 'learning_rate': 0.1, 'n_estimators': 188, 'max_depth': 15, 'min_child_weight': 6}. Best is trial 34 with value: 133.82784801721573.\u001b[0m\n"
          ],
          "name": "stderr"
        },
        {
          "output_type": "stream",
          "text": [
            "[07:13:25] WARNING: /workspace/src/objective/regression_obj.cu:152: reg:linear is now deprecated in favor of reg:squarederror.\n"
          ],
          "name": "stdout"
        },
        {
          "output_type": "stream",
          "text": [
            "\u001b[32m[I 2021-07-18 07:13:25,786]\u001b[0m Trial 52 finished with value: 142.0653223991394 and parameters: {'alpha': 0.9632778070964162, 'lambda': 0.0028666886755865043, 'gamma': 1, 'colsample_bytree': 0.8, 'subsample': 0.6, 'learning_rate': 0.1, 'n_estimators': 186, 'max_depth': 15, 'min_child_weight': 23}. Best is trial 34 with value: 133.82784801721573.\u001b[0m\n"
          ],
          "name": "stderr"
        },
        {
          "output_type": "stream",
          "text": [
            "[07:13:25] WARNING: /workspace/src/objective/regression_obj.cu:152: reg:linear is now deprecated in favor of reg:squarederror.\n"
          ],
          "name": "stdout"
        },
        {
          "output_type": "stream",
          "text": [
            "\u001b[32m[I 2021-07-18 07:13:26,325]\u001b[0m Trial 53 finished with value: 151.29411482810974 and parameters: {'alpha': 1.453970361919771, 'lambda': 0.02935468295062144, 'gamma': 1, 'colsample_bytree': 0.8, 'subsample': 0.8, 'learning_rate': 0.1, 'n_estimators': 155, 'max_depth': 15, 'min_child_weight': 144}. Best is trial 34 with value: 133.82784801721573.\u001b[0m\n"
          ],
          "name": "stderr"
        },
        {
          "output_type": "stream",
          "text": [
            "[07:13:26] WARNING: /workspace/src/objective/regression_obj.cu:152: reg:linear is now deprecated in favor of reg:squarederror.\n"
          ],
          "name": "stdout"
        },
        {
          "output_type": "stream",
          "text": [
            "\u001b[32m[I 2021-07-18 07:13:27,030]\u001b[0m Trial 54 finished with value: 137.67448008060455 and parameters: {'alpha': 0.546108127775423, 'lambda': 0.002219790027757355, 'gamma': 1, 'colsample_bytree': 0.3, 'subsample': 0.6, 'learning_rate': 0.1, 'n_estimators': 218, 'max_depth': 15, 'min_child_weight': 10}. Best is trial 34 with value: 133.82784801721573.\u001b[0m\n"
          ],
          "name": "stderr"
        },
        {
          "output_type": "stream",
          "text": [
            "[07:13:27] WARNING: /workspace/src/objective/regression_obj.cu:152: reg:linear is now deprecated in favor of reg:squarederror.\n"
          ],
          "name": "stdout"
        },
        {
          "output_type": "stream",
          "text": [
            "\u001b[32m[I 2021-07-18 07:13:27,495]\u001b[0m Trial 55 finished with value: 140.40753543376923 and parameters: {'alpha': 0.6988760369514901, 'lambda': 0.008529347850624185, 'gamma': 1, 'colsample_bytree': 0.8, 'subsample': 0.4, 'learning_rate': 0.1, 'n_estimators': 133, 'max_depth': 3, 'min_child_weight': 1}. Best is trial 34 with value: 133.82784801721573.\u001b[0m\n"
          ],
          "name": "stderr"
        },
        {
          "output_type": "stream",
          "text": [
            "[07:13:27] WARNING: /workspace/src/objective/regression_obj.cu:152: reg:linear is now deprecated in favor of reg:squarederror.\n"
          ],
          "name": "stdout"
        },
        {
          "output_type": "stream",
          "text": [
            "\u001b[32m[I 2021-07-18 07:13:28,086]\u001b[0m Trial 56 finished with value: 144.04386270046234 and parameters: {'alpha': 0.2895689786604182, 'lambda': 0.01837274343915018, 'gamma': 1, 'colsample_bytree': 0.7, 'subsample': 0.8, 'learning_rate': 0.1, 'n_estimators': 187, 'max_depth': 13, 'min_child_weight': 33}. Best is trial 34 with value: 133.82784801721573.\u001b[0m\n"
          ],
          "name": "stderr"
        },
        {
          "output_type": "stream",
          "text": [
            "[07:13:28] WARNING: /workspace/src/objective/regression_obj.cu:152: reg:linear is now deprecated in favor of reg:squarederror.\n"
          ],
          "name": "stdout"
        },
        {
          "output_type": "stream",
          "text": [
            "\u001b[32m[I 2021-07-18 07:13:28,924]\u001b[0m Trial 57 finished with value: 149.7939876317978 and parameters: {'alpha': 0.44394490231047634, 'lambda': 0.0015473238171702253, 'gamma': 2, 'colsample_bytree': 0.8, 'subsample': 1.0, 'learning_rate': 0.06, 'n_estimators': 288, 'max_depth': 15, 'min_child_weight': 48}. Best is trial 34 with value: 133.82784801721573.\u001b[0m\n"
          ],
          "name": "stderr"
        },
        {
          "output_type": "stream",
          "text": [
            "[07:13:28] WARNING: /workspace/src/objective/regression_obj.cu:152: reg:linear is now deprecated in favor of reg:squarederror.\n"
          ],
          "name": "stdout"
        },
        {
          "output_type": "stream",
          "text": [
            "\u001b[32m[I 2021-07-18 07:13:30,652]\u001b[0m Trial 58 finished with value: 283.4821090698242 and parameters: {'alpha': 1.3557447330760026, 'lambda': 0.004050869504788604, 'gamma': 1, 'colsample_bytree': 0.4, 'subsample': 0.7, 'learning_rate': 0.02, 'n_estimators': 162, 'max_depth': 20, 'min_child_weight': 187}. Best is trial 34 with value: 133.82784801721573.\u001b[0m\n"
          ],
          "name": "stderr"
        },
        {
          "output_type": "stream",
          "text": [
            "[07:13:30] WARNING: /workspace/src/objective/regression_obj.cu:152: reg:linear is now deprecated in favor of reg:squarederror.\n"
          ],
          "name": "stdout"
        },
        {
          "output_type": "stream",
          "text": [
            "\u001b[32m[I 2021-07-18 07:13:31,514]\u001b[0m Trial 59 finished with value: 156.5629677772522 and parameters: {'alpha': 0.0785010082894034, 'lambda': 0.01316540512256267, 'gamma': 1, 'colsample_bytree': 0.8, 'subsample': 0.8, 'learning_rate': 0.1, 'n_estimators': 209, 'max_depth': 17, 'min_child_weight': 84}. Best is trial 34 with value: 133.82784801721573.\u001b[0m\n"
          ],
          "name": "stderr"
        },
        {
          "output_type": "stream",
          "text": [
            "[07:13:31] WARNING: /workspace/src/objective/regression_obj.cu:152: reg:linear is now deprecated in favor of reg:squarederror.\n"
          ],
          "name": "stdout"
        },
        {
          "output_type": "stream",
          "text": [
            "\u001b[32m[I 2021-07-18 07:13:32,660]\u001b[0m Trial 60 finished with value: 150.14189851284027 and parameters: {'alpha': 7.0740032309592795, 'lambda': 0.06888834132041469, 'gamma': 0, 'colsample_bytree': 0.5, 'subsample': 0.6, 'learning_rate': 0.01, 'n_estimators': 316, 'max_depth': 15, 'min_child_weight': 28}. Best is trial 34 with value: 133.82784801721573.\u001b[0m\n"
          ],
          "name": "stderr"
        },
        {
          "output_type": "stream",
          "text": [
            "[07:13:32] WARNING: /workspace/src/objective/regression_obj.cu:152: reg:linear is now deprecated in favor of reg:squarederror.\n"
          ],
          "name": "stdout"
        },
        {
          "output_type": "stream",
          "text": [
            "\u001b[32m[I 2021-07-18 07:13:33,194]\u001b[0m Trial 61 finished with value: 135.2185093164444 and parameters: {'alpha': 0.5718499704431675, 'lambda': 0.002592023285420383, 'gamma': 1, 'colsample_bytree': 0.8, 'subsample': 0.8, 'learning_rate': 0.1, 'n_estimators': 203, 'max_depth': 5, 'min_child_weight': 2}. Best is trial 34 with value: 133.82784801721573.\u001b[0m\n"
          ],
          "name": "stderr"
        },
        {
          "output_type": "stream",
          "text": [
            "[07:13:33] WARNING: /workspace/src/objective/regression_obj.cu:152: reg:linear is now deprecated in favor of reg:squarederror.\n"
          ],
          "name": "stdout"
        },
        {
          "output_type": "stream",
          "text": [
            "\u001b[32m[I 2021-07-18 07:13:33,720]\u001b[0m Trial 62 finished with value: 136.43084120750427 and parameters: {'alpha': 0.8172848767796332, 'lambda': 0.002479193013466815, 'gamma': 1, 'colsample_bytree': 0.8, 'subsample': 0.8, 'learning_rate': 0.1, 'n_estimators': 199, 'max_depth': 5, 'min_child_weight': 1}. Best is trial 34 with value: 133.82784801721573.\u001b[0m\n"
          ],
          "name": "stderr"
        },
        {
          "output_type": "stream",
          "text": [
            "[07:13:33] WARNING: /workspace/src/objective/regression_obj.cu:152: reg:linear is now deprecated in favor of reg:squarederror.\n"
          ],
          "name": "stdout"
        },
        {
          "output_type": "stream",
          "text": [
            "\u001b[32m[I 2021-07-18 07:13:34,199]\u001b[0m Trial 63 finished with value: 141.2712517976761 and parameters: {'alpha': 0.8804390712094723, 'lambda': 0.0018265916663967592, 'gamma': 1, 'colsample_bytree': 0.8, 'subsample': 0.8, 'learning_rate': 0.1, 'n_estimators': 143, 'max_depth': 5, 'min_child_weight': 12}. Best is trial 34 with value: 133.82784801721573.\u001b[0m\n"
          ],
          "name": "stderr"
        },
        {
          "output_type": "stream",
          "text": [
            "[07:13:34] WARNING: /workspace/src/objective/regression_obj.cu:152: reg:linear is now deprecated in favor of reg:squarederror.\n"
          ],
          "name": "stdout"
        },
        {
          "output_type": "stream",
          "text": [
            "\u001b[32m[I 2021-07-18 07:13:34,723]\u001b[0m Trial 64 finished with value: 140.25501430034637 and parameters: {'alpha': 0.14715385734570877, 'lambda': 0.0016265694232622172, 'gamma': 0, 'colsample_bytree': 0.8, 'subsample': 0.8, 'learning_rate': 0.1, 'n_estimators': 248, 'max_depth': 7, 'min_child_weight': 9}. Best is trial 34 with value: 133.82784801721573.\u001b[0m\n"
          ],
          "name": "stderr"
        },
        {
          "output_type": "stream",
          "text": [
            "[07:13:34] WARNING: /workspace/src/objective/regression_obj.cu:152: reg:linear is now deprecated in favor of reg:squarederror.\n"
          ],
          "name": "stdout"
        },
        {
          "output_type": "stream",
          "text": [
            "\u001b[32m[I 2021-07-18 07:13:36,446]\u001b[0m Trial 65 finished with value: 138.4180747270584 and parameters: {'alpha': 2.471703735076527, 'lambda': 0.0026479335221246906, 'gamma': 1, 'colsample_bytree': 0.8, 'subsample': 0.8, 'learning_rate': 0.1, 'n_estimators': 201, 'max_depth': 20, 'min_child_weight': 24}. Best is trial 34 with value: 133.82784801721573.\u001b[0m\n"
          ],
          "name": "stderr"
        },
        {
          "output_type": "stream",
          "text": [
            "[07:13:36] WARNING: /workspace/src/objective/regression_obj.cu:152: reg:linear is now deprecated in favor of reg:squarederror.\n"
          ],
          "name": "stdout"
        },
        {
          "output_type": "stream",
          "text": [
            "\u001b[32m[I 2021-07-18 07:13:36,901]\u001b[0m Trial 66 finished with value: 145.58389246463776 and parameters: {'alpha': 0.39972764606212613, 'lambda': 0.006607805246628306, 'gamma': 1, 'colsample_bytree': 0.8, 'subsample': 0.8, 'learning_rate': 0.1, 'n_estimators': 117, 'max_depth': 15, 'min_child_weight': 45}. Best is trial 34 with value: 133.82784801721573.\u001b[0m\n"
          ],
          "name": "stderr"
        },
        {
          "output_type": "stream",
          "text": [
            "[07:13:36] WARNING: /workspace/src/objective/regression_obj.cu:152: reg:linear is now deprecated in favor of reg:squarederror.\n"
          ],
          "name": "stdout"
        },
        {
          "output_type": "stream",
          "text": [
            "\u001b[32m[I 2021-07-18 07:13:37,787]\u001b[0m Trial 67 finished with value: 133.7703354358673 and parameters: {'alpha': 0.6624375748721225, 'lambda': 0.00341728385863782, 'gamma': 1, 'colsample_bytree': 0.6, 'subsample': 0.5, 'learning_rate': 0.1, 'n_estimators': 172, 'max_depth': 9, 'min_child_weight': 1}. Best is trial 67 with value: 133.7703354358673.\u001b[0m\n"
          ],
          "name": "stderr"
        },
        {
          "output_type": "stream",
          "text": [
            "[07:13:37] WARNING: /workspace/src/objective/regression_obj.cu:152: reg:linear is now deprecated in favor of reg:squarederror.\n"
          ],
          "name": "stdout"
        },
        {
          "output_type": "stream",
          "text": [
            "\u001b[32m[I 2021-07-18 07:13:38,347]\u001b[0m Trial 68 finished with value: 140.57053744792938 and parameters: {'alpha': 0.2770729350410248, 'lambda': 0.004858378286825089, 'gamma': 1, 'colsample_bytree': 0.6, 'subsample': 0.5, 'learning_rate': 0.1, 'n_estimators': 169, 'max_depth': 9, 'min_child_weight': 10}. Best is trial 67 with value: 133.7703354358673.\u001b[0m\n"
          ],
          "name": "stderr"
        },
        {
          "output_type": "stream",
          "text": [
            "[07:13:38] WARNING: /workspace/src/objective/regression_obj.cu:152: reg:linear is now deprecated in favor of reg:squarederror.\n"
          ],
          "name": "stdout"
        },
        {
          "output_type": "stream",
          "text": [
            "\u001b[32m[I 2021-07-18 07:13:39,104]\u001b[0m Trial 69 finished with value: 146.15189218521118 and parameters: {'alpha': 1.247369997042015, 'lambda': 0.010739339748320616, 'gamma': 1, 'colsample_bytree': 0.6, 'subsample': 0.5, 'learning_rate': 0.04, 'n_estimators': 221, 'max_depth': 9, 'min_child_weight': 33}. Best is trial 67 with value: 133.7703354358673.\u001b[0m\n"
          ],
          "name": "stderr"
        },
        {
          "output_type": "stream",
          "text": [
            "[07:13:39] WARNING: /workspace/src/objective/regression_obj.cu:152: reg:linear is now deprecated in favor of reg:squarederror.\n"
          ],
          "name": "stdout"
        },
        {
          "output_type": "stream",
          "text": [
            "\u001b[32m[I 2021-07-18 07:13:39,494]\u001b[0m Trial 70 finished with value: 283.50923919677734 and parameters: {'alpha': 0.16944688878220504, 'lambda': 0.0010051711478300065, 'gamma': 1, 'colsample_bytree': 0.6, 'subsample': 0.5, 'learning_rate': 0.1, 'n_estimators': 151, 'max_depth': 9, 'min_child_weight': 251}. Best is trial 67 with value: 133.7703354358673.\u001b[0m\n"
          ],
          "name": "stderr"
        },
        {
          "output_type": "stream",
          "text": [
            "[07:13:39] WARNING: /workspace/src/objective/regression_obj.cu:152: reg:linear is now deprecated in favor of reg:squarederror.\n"
          ],
          "name": "stdout"
        },
        {
          "output_type": "stream",
          "text": [
            "\u001b[32m[I 2021-07-18 07:13:40,037]\u001b[0m Trial 71 finished with value: 130.86829733848572 and parameters: {'alpha': 0.6421115640124807, 'lambda': 0.0021814511132016846, 'gamma': 1, 'colsample_bytree': 0.6, 'subsample': 0.5, 'learning_rate': 0.1, 'n_estimators': 193, 'max_depth': 5, 'min_child_weight': 2}. Best is trial 71 with value: 130.86829733848572.\u001b[0m\n"
          ],
          "name": "stderr"
        },
        {
          "output_type": "stream",
          "text": [
            "[07:13:40] WARNING: /workspace/src/objective/regression_obj.cu:152: reg:linear is now deprecated in favor of reg:squarederror.\n"
          ],
          "name": "stdout"
        },
        {
          "output_type": "stream",
          "text": [
            "\u001b[32m[I 2021-07-18 07:13:40,682]\u001b[0m Trial 72 finished with value: 147.07131671905518 and parameters: {'alpha': 0.5955980778934058, 'lambda': 0.0035631818168015143, 'gamma': 1, 'colsample_bytree': 0.6, 'subsample': 0.5, 'learning_rate': 0.1, 'n_estimators': 177, 'max_depth': 9, 'min_child_weight': 20}. Best is trial 71 with value: 130.86829733848572.\u001b[0m\n"
          ],
          "name": "stderr"
        },
        {
          "output_type": "stream",
          "text": [
            "[07:13:40] WARNING: /workspace/src/objective/regression_obj.cu:152: reg:linear is now deprecated in favor of reg:squarederror.\n"
          ],
          "name": "stdout"
        },
        {
          "output_type": "stream",
          "text": [
            "\u001b[32m[I 2021-07-18 07:13:41,732]\u001b[0m Trial 73 finished with value: 133.84691053628922 and parameters: {'alpha': 0.0019681423188044134, 'lambda': 0.002153436377220413, 'gamma': 1, 'colsample_bytree': 0.6, 'subsample': 0.5, 'learning_rate': 0.1, 'n_estimators': 442, 'max_depth': 11, 'min_child_weight': 1}. Best is trial 71 with value: 130.86829733848572.\u001b[0m\n"
          ],
          "name": "stderr"
        },
        {
          "output_type": "stream",
          "text": [
            "[07:13:41] WARNING: /workspace/src/objective/regression_obj.cu:152: reg:linear is now deprecated in favor of reg:squarederror.\n"
          ],
          "name": "stdout"
        },
        {
          "output_type": "stream",
          "text": [
            "\u001b[32m[I 2021-07-18 07:13:42,298]\u001b[0m Trial 74 finished with value: 144.8086302280426 and parameters: {'alpha': 0.002233481141099652, 'lambda': 0.0013234358955634329, 'gamma': 1, 'colsample_bytree': 0.6, 'subsample': 0.5, 'learning_rate': 0.1, 'n_estimators': 445, 'max_depth': 11, 'min_child_weight': 7}. Best is trial 71 with value: 130.86829733848572.\u001b[0m\n"
          ],
          "name": "stderr"
        },
        {
          "output_type": "stream",
          "text": [
            "[07:13:42] WARNING: /workspace/src/objective/regression_obj.cu:152: reg:linear is now deprecated in favor of reg:squarederror.\n"
          ],
          "name": "stdout"
        },
        {
          "output_type": "stream",
          "text": [
            "\u001b[32m[I 2021-07-18 07:13:43,344]\u001b[0m Trial 75 finished with value: 133.84691053628922 and parameters: {'alpha': 0.037434693740110214, 'lambda': 0.0020471160918264005, 'gamma': 1, 'colsample_bytree': 0.6, 'subsample': 0.5, 'learning_rate': 0.1, 'n_estimators': 515, 'max_depth': 11, 'min_child_weight': 1}. Best is trial 71 with value: 130.86829733848572.\u001b[0m\n"
          ],
          "name": "stderr"
        },
        {
          "output_type": "stream",
          "text": [
            "[07:13:43] WARNING: /workspace/src/objective/regression_obj.cu:152: reg:linear is now deprecated in favor of reg:squarederror.\n"
          ],
          "name": "stdout"
        },
        {
          "output_type": "stream",
          "text": [
            "\u001b[32m[I 2021-07-18 07:13:44,393]\u001b[0m Trial 76 finished with value: 133.84691053628922 and parameters: {'alpha': 0.009107159542782323, 'lambda': 0.0021856564575782394, 'gamma': 1, 'colsample_bytree': 0.6, 'subsample': 0.5, 'learning_rate': 0.1, 'n_estimators': 593, 'max_depth': 11, 'min_child_weight': 1}. Best is trial 71 with value: 130.86829733848572.\u001b[0m\n"
          ],
          "name": "stderr"
        },
        {
          "output_type": "stream",
          "text": [
            "[07:13:44] WARNING: /workspace/src/objective/regression_obj.cu:152: reg:linear is now deprecated in favor of reg:squarederror.\n"
          ],
          "name": "stdout"
        },
        {
          "output_type": "stream",
          "text": [
            "\u001b[32m[I 2021-07-18 07:13:45,043]\u001b[0m Trial 77 finished with value: 146.7700275182724 and parameters: {'alpha': 0.011389463321170162, 'lambda': 0.001989370423778978, 'gamma': 1, 'colsample_bytree': 0.6, 'subsample': 0.5, 'learning_rate': 0.1, 'n_estimators': 572, 'max_depth': 11, 'min_child_weight': 16}. Best is trial 71 with value: 130.86829733848572.\u001b[0m\n"
          ],
          "name": "stderr"
        },
        {
          "output_type": "stream",
          "text": [
            "[07:13:45] WARNING: /workspace/src/objective/regression_obj.cu:152: reg:linear is now deprecated in favor of reg:squarederror.\n"
          ],
          "name": "stdout"
        },
        {
          "output_type": "stream",
          "text": [
            "\u001b[32m[I 2021-07-18 07:13:46,102]\u001b[0m Trial 78 finished with value: 133.84691053628922 and parameters: {'alpha': 0.002598270498117462, 'lambda': 0.003312729707192171, 'gamma': 2, 'colsample_bytree': 0.6, 'subsample': 0.5, 'learning_rate': 0.1, 'n_estimators': 530, 'max_depth': 11, 'min_child_weight': 1}. Best is trial 71 with value: 130.86829733848572.\u001b[0m\n"
          ],
          "name": "stderr"
        },
        {
          "output_type": "stream",
          "text": [
            "[07:13:46] WARNING: /workspace/src/objective/regression_obj.cu:152: reg:linear is now deprecated in favor of reg:squarederror.\n"
          ],
          "name": "stdout"
        },
        {
          "output_type": "stream",
          "text": [
            "\u001b[32m[I 2021-07-18 07:13:46,875]\u001b[0m Trial 79 finished with value: 141.33527755737305 and parameters: {'alpha': 0.00181960726567401, 'lambda': 0.00324204772855072, 'gamma': 2, 'colsample_bytree': 0.6, 'subsample': 0.5, 'learning_rate': 0.1, 'n_estimators': 498, 'max_depth': 11, 'min_child_weight': 36}. Best is trial 71 with value: 130.86829733848572.\u001b[0m\n"
          ],
          "name": "stderr"
        },
        {
          "output_type": "stream",
          "text": [
            "[07:13:46] WARNING: /workspace/src/objective/regression_obj.cu:152: reg:linear is now deprecated in favor of reg:squarederror.\n"
          ],
          "name": "stdout"
        },
        {
          "output_type": "stream",
          "text": [
            "\u001b[32m[I 2021-07-18 07:13:47,420]\u001b[0m Trial 80 finished with value: 144.66097164154053 and parameters: {'alpha': 0.004162787785621132, 'lambda': 1.1517566070837097, 'gamma': 2, 'colsample_bytree': 0.6, 'subsample': 0.5, 'learning_rate': 0.1, 'n_estimators': 541, 'max_depth': 11, 'min_child_weight': 12}. Best is trial 71 with value: 130.86829733848572.\u001b[0m\n"
          ],
          "name": "stderr"
        },
        {
          "output_type": "stream",
          "text": [
            "[07:13:47] WARNING: /workspace/src/objective/regression_obj.cu:152: reg:linear is now deprecated in favor of reg:squarederror.\n"
          ],
          "name": "stdout"
        },
        {
          "output_type": "stream",
          "text": [
            "\u001b[32m[I 2021-07-18 07:13:48,470]\u001b[0m Trial 81 finished with value: 133.84691053628922 and parameters: {'alpha': 0.028690325848071765, 'lambda': 0.005416282208765569, 'gamma': 2, 'colsample_bytree': 0.6, 'subsample': 0.5, 'learning_rate': 0.1, 'n_estimators': 593, 'max_depth': 11, 'min_child_weight': 1}. Best is trial 71 with value: 130.86829733848572.\u001b[0m\n"
          ],
          "name": "stderr"
        },
        {
          "output_type": "stream",
          "text": [
            "[07:13:48] WARNING: /workspace/src/objective/regression_obj.cu:152: reg:linear is now deprecated in favor of reg:squarederror.\n"
          ],
          "name": "stdout"
        },
        {
          "output_type": "stream",
          "text": [
            "\u001b[32m[I 2021-07-18 07:13:49,519]\u001b[0m Trial 82 finished with value: 133.84691053628922 and parameters: {'alpha': 0.033973402396593404, 'lambda': 0.006002681163547102, 'gamma': 2, 'colsample_bytree': 0.6, 'subsample': 0.5, 'learning_rate': 0.1, 'n_estimators': 405, 'max_depth': 11, 'min_child_weight': 1}. Best is trial 71 with value: 130.86829733848572.\u001b[0m\n"
          ],
          "name": "stderr"
        },
        {
          "output_type": "stream",
          "text": [
            "[07:13:49] WARNING: /workspace/src/objective/regression_obj.cu:152: reg:linear is now deprecated in favor of reg:squarederror.\n"
          ],
          "name": "stdout"
        },
        {
          "output_type": "stream",
          "text": [
            "\u001b[32m[I 2021-07-18 07:13:50,154]\u001b[0m Trial 83 finished with value: 146.07743322849274 and parameters: {'alpha': 0.03604162048157688, 'lambda': 0.005554665835437514, 'gamma': 2, 'colsample_bytree': 0.6, 'subsample': 0.5, 'learning_rate': 0.1, 'n_estimators': 595, 'max_depth': 11, 'min_child_weight': 22}. Best is trial 71 with value: 130.86829733848572.\u001b[0m\n"
          ],
          "name": "stderr"
        },
        {
          "output_type": "stream",
          "text": [
            "[07:13:50] WARNING: /workspace/src/objective/regression_obj.cu:152: reg:linear is now deprecated in favor of reg:squarederror.\n"
          ],
          "name": "stdout"
        },
        {
          "output_type": "stream",
          "text": [
            "\u001b[32m[I 2021-07-18 07:13:50,546]\u001b[0m Trial 84 finished with value: 283.50923919677734 and parameters: {'alpha': 0.01750516213103555, 'lambda': 0.004014484804541086, 'gamma': 2, 'colsample_bytree': 0.6, 'subsample': 0.5, 'learning_rate': 0.1, 'n_estimators': 395, 'max_depth': 11, 'min_child_weight': 294}. Best is trial 71 with value: 130.86829733848572.\u001b[0m\n"
          ],
          "name": "stderr"
        },
        {
          "output_type": "stream",
          "text": [
            "[07:13:50] WARNING: /workspace/src/objective/regression_obj.cu:152: reg:linear is now deprecated in favor of reg:squarederror.\n"
          ],
          "name": "stdout"
        },
        {
          "output_type": "stream",
          "text": [
            "\u001b[32m[I 2021-07-18 07:13:51,579]\u001b[0m Trial 85 finished with value: 135.32102942466736 and parameters: {'alpha': 0.033991922807459996, 'lambda': 0.00797152507016173, 'gamma': 2, 'colsample_bytree': 0.6, 'subsample': 0.5, 'learning_rate': 0.08, 'n_estimators': 422, 'max_depth': 11, 'min_child_weight': 1}. Best is trial 71 with value: 130.86829733848572.\u001b[0m\n"
          ],
          "name": "stderr"
        },
        {
          "output_type": "stream",
          "text": [
            "[07:13:51] WARNING: /workspace/src/objective/regression_obj.cu:152: reg:linear is now deprecated in favor of reg:squarederror.\n"
          ],
          "name": "stdout"
        },
        {
          "output_type": "stream",
          "text": [
            "\u001b[32m[I 2021-07-18 07:13:52,239]\u001b[0m Trial 86 finished with value: 146.7700275182724 and parameters: {'alpha': 0.006067214360760445, 'lambda': 0.0021223048825596575, 'gamma': 2, 'colsample_bytree': 0.6, 'subsample': 0.5, 'learning_rate': 0.1, 'n_estimators': 367, 'max_depth': 11, 'min_child_weight': 16}. Best is trial 71 with value: 130.86829733848572.\u001b[0m\n"
          ],
          "name": "stderr"
        },
        {
          "output_type": "stream",
          "text": [
            "[07:13:52] WARNING: /workspace/src/objective/regression_obj.cu:152: reg:linear is now deprecated in favor of reg:squarederror.\n"
          ],
          "name": "stdout"
        },
        {
          "output_type": "stream",
          "text": [
            "\u001b[32m[I 2021-07-18 07:13:53,905]\u001b[0m Trial 87 finished with value: 147.67825150489807 and parameters: {'alpha': 0.01750649060844999, 'lambda': 0.0012471826050860506, 'gamma': 3, 'colsample_bytree': 0.6, 'subsample': 0.5, 'learning_rate': 0.02, 'n_estimators': 496, 'max_depth': 11, 'min_child_weight': 28}. Best is trial 71 with value: 130.86829733848572.\u001b[0m\n"
          ],
          "name": "stderr"
        },
        {
          "output_type": "stream",
          "text": [
            "[07:13:53] WARNING: /workspace/src/objective/regression_obj.cu:152: reg:linear is now deprecated in favor of reg:squarederror.\n"
          ],
          "name": "stdout"
        },
        {
          "output_type": "stream",
          "text": [
            "\u001b[32m[I 2021-07-18 07:13:54,576]\u001b[0m Trial 88 finished with value: 148.5507274866104 and parameters: {'alpha': 0.0029022361444708406, 'lambda': 0.0034884342739447275, 'gamma': 2, 'colsample_bytree': 0.6, 'subsample': 0.5, 'learning_rate': 0.06, 'n_estimators': 474, 'max_depth': 11, 'min_child_weight': 8}. Best is trial 71 with value: 130.86829733848572.\u001b[0m\n"
          ],
          "name": "stderr"
        },
        {
          "output_type": "stream",
          "text": [
            "[07:13:54] WARNING: /workspace/src/objective/regression_obj.cu:152: reg:linear is now deprecated in favor of reg:squarederror.\n"
          ],
          "name": "stdout"
        },
        {
          "output_type": "stream",
          "text": [
            "\u001b[32m[I 2021-07-18 07:13:55,627]\u001b[0m Trial 89 finished with value: 133.84691053628922 and parameters: {'alpha': 0.00972369180262085, 'lambda': 0.005760063512677655, 'gamma': 2, 'colsample_bytree': 0.6, 'subsample': 0.5, 'learning_rate': 0.1, 'n_estimators': 528, 'max_depth': 11, 'min_child_weight': 1}. Best is trial 71 with value: 130.86829733848572.\u001b[0m\n"
          ],
          "name": "stderr"
        },
        {
          "output_type": "stream",
          "text": [
            "[07:13:55] WARNING: /workspace/src/objective/regression_obj.cu:152: reg:linear is now deprecated in favor of reg:squarederror.\n"
          ],
          "name": "stdout"
        },
        {
          "output_type": "stream",
          "text": [
            "\u001b[32m[I 2021-07-18 07:13:56,025]\u001b[0m Trial 90 finished with value: 283.50923919677734 and parameters: {'alpha': 0.009102785319345526, 'lambda': 0.004560772807478963, 'gamma': 2, 'colsample_bytree': 0.6, 'subsample': 0.5, 'learning_rate': 0.1, 'n_estimators': 554, 'max_depth': 11, 'min_child_weight': 279}. Best is trial 71 with value: 130.86829733848572.\u001b[0m\n"
          ],
          "name": "stderr"
        },
        {
          "output_type": "stream",
          "text": [
            "[07:13:56] WARNING: /workspace/src/objective/regression_obj.cu:152: reg:linear is now deprecated in favor of reg:squarederror.\n"
          ],
          "name": "stdout"
        },
        {
          "output_type": "stream",
          "text": [
            "\u001b[32m[I 2021-07-18 07:13:56,878]\u001b[0m Trial 91 finished with value: 139.86138731241226 and parameters: {'alpha': 0.023572446338806216, 'lambda': 0.006126294231786562, 'gamma': 2, 'colsample_bytree': 0.6, 'subsample': 0.5, 'learning_rate': 0.1, 'n_estimators': 529, 'max_depth': 11, 'min_child_weight': 2}. Best is trial 71 with value: 130.86829733848572.\u001b[0m\n"
          ],
          "name": "stderr"
        },
        {
          "output_type": "stream",
          "text": [
            "[07:13:56] WARNING: /workspace/src/objective/regression_obj.cu:152: reg:linear is now deprecated in favor of reg:squarederror.\n"
          ],
          "name": "stdout"
        },
        {
          "output_type": "stream",
          "text": [
            "\u001b[32m[I 2021-07-18 07:13:57,522]\u001b[0m Trial 92 finished with value: 146.1621640920639 and parameters: {'alpha': 0.0012710888953391673, 'lambda': 0.002209869780242915, 'gamma': 2, 'colsample_bytree': 0.6, 'subsample': 0.5, 'learning_rate': 0.1, 'n_estimators': 582, 'max_depth': 11, 'min_child_weight': 19}. Best is trial 71 with value: 130.86829733848572.\u001b[0m\n"
          ],
          "name": "stderr"
        },
        {
          "output_type": "stream",
          "text": [
            "[07:13:57] WARNING: /workspace/src/objective/regression_obj.cu:152: reg:linear is now deprecated in favor of reg:squarederror.\n"
          ],
          "name": "stdout"
        },
        {
          "output_type": "stream",
          "text": [
            "\u001b[32m[I 2021-07-18 07:13:58,117]\u001b[0m Trial 93 finished with value: 145.73206961154938 and parameters: {'alpha': 0.005276198370962461, 'lambda': 0.31209477696692517, 'gamma': 2, 'colsample_bytree': 0.6, 'subsample': 0.5, 'learning_rate': 0.1, 'n_estimators': 512, 'max_depth': 11, 'min_child_weight': 8}. Best is trial 71 with value: 130.86829733848572.\u001b[0m\n"
          ],
          "name": "stderr"
        },
        {
          "output_type": "stream",
          "text": [
            "[07:13:58] WARNING: /workspace/src/objective/regression_obj.cu:152: reg:linear is now deprecated in favor of reg:squarederror.\n"
          ],
          "name": "stdout"
        },
        {
          "output_type": "stream",
          "text": [
            "\u001b[32m[I 2021-07-18 07:13:59,212]\u001b[0m Trial 94 finished with value: 133.84691053628922 and parameters: {'alpha': 0.04223151142063683, 'lambda': 0.0016516296930044084, 'gamma': 2, 'colsample_bytree': 0.6, 'subsample': 0.5, 'learning_rate': 0.1, 'n_estimators': 455, 'max_depth': 11, 'min_child_weight': 1}. Best is trial 71 with value: 130.86829733848572.\u001b[0m\n"
          ],
          "name": "stderr"
        },
        {
          "output_type": "stream",
          "text": [
            "[07:13:59] WARNING: /workspace/src/objective/regression_obj.cu:152: reg:linear is now deprecated in favor of reg:squarederror.\n"
          ],
          "name": "stdout"
        },
        {
          "output_type": "stream",
          "text": [
            "\u001b[32m[I 2021-07-18 07:13:59,786]\u001b[0m Trial 95 finished with value: 148.09563207626343 and parameters: {'alpha': 0.02603958753652474, 'lambda': 0.0016475678646632878, 'gamma': 2, 'colsample_bytree': 0.6, 'subsample': 0.5, 'learning_rate': 0.1, 'n_estimators': 463, 'max_depth': 11, 'min_child_weight': 15}. Best is trial 71 with value: 130.86829733848572.\u001b[0m\n"
          ],
          "name": "stderr"
        },
        {
          "output_type": "stream",
          "text": [
            "[07:13:59] WARNING: /workspace/src/objective/regression_obj.cu:152: reg:linear is now deprecated in favor of reg:squarederror.\n"
          ],
          "name": "stdout"
        },
        {
          "output_type": "stream",
          "text": [
            "\u001b[32m[I 2021-07-18 07:14:01,615]\u001b[0m Trial 96 finished with value: 146.4937663078308 and parameters: {'alpha': 0.07626968166613134, 'lambda': 0.0038379193090809813, 'gamma': 2, 'colsample_bytree': 0.6, 'subsample': 0.5, 'learning_rate': 0.01, 'n_estimators': 555, 'max_depth': 11, 'min_child_weight': 39}. Best is trial 71 with value: 130.86829733848572.\u001b[0m\n"
          ],
          "name": "stderr"
        },
        {
          "output_type": "stream",
          "text": [
            "[07:14:01] WARNING: /workspace/src/objective/regression_obj.cu:152: reg:linear is now deprecated in favor of reg:squarederror.\n"
          ],
          "name": "stdout"
        },
        {
          "output_type": "stream",
          "text": [
            "\u001b[32m[I 2021-07-18 07:14:02,257]\u001b[0m Trial 97 finished with value: 145.32906556129456 and parameters: {'alpha': 0.015504593929434873, 'lambda': 0.007827844238114763, 'gamma': 2, 'colsample_bytree': 0.6, 'subsample': 0.5, 'learning_rate': 0.1, 'n_estimators': 417, 'max_depth': 11, 'min_child_weight': 30}. Best is trial 71 with value: 130.86829733848572.\u001b[0m\n"
          ],
          "name": "stderr"
        },
        {
          "output_type": "stream",
          "text": [
            "[07:14:02] WARNING: /workspace/src/objective/regression_obj.cu:152: reg:linear is now deprecated in favor of reg:squarederror.\n"
          ],
          "name": "stdout"
        },
        {
          "output_type": "stream",
          "text": [
            "\u001b[32m[I 2021-07-18 07:14:03,343]\u001b[0m Trial 98 finished with value: 133.84691053628922 and parameters: {'alpha': 0.043128378208644, 'lambda': 0.0014592392498950844, 'gamma': 2, 'colsample_bytree': 0.6, 'subsample': 0.5, 'learning_rate': 0.1, 'n_estimators': 444, 'max_depth': 11, 'min_child_weight': 1}. Best is trial 71 with value: 130.86829733848572.\u001b[0m\n"
          ],
          "name": "stderr"
        },
        {
          "output_type": "stream",
          "text": [
            "[07:14:03] WARNING: /workspace/src/objective/regression_obj.cu:152: reg:linear is now deprecated in favor of reg:squarederror.\n"
          ],
          "name": "stdout"
        },
        {
          "output_type": "stream",
          "text": [
            "\u001b[32m[I 2021-07-18 07:14:04,218]\u001b[0m Trial 99 finished with value: 147.82379484176636 and parameters: {'alpha': 0.04214736822611558, 'lambda': 0.0030727263175800335, 'gamma': 2, 'colsample_bytree': 0.6, 'subsample': 0.5, 'learning_rate': 0.1, 'n_estimators': 446, 'max_depth': 11, 'min_child_weight': 24}. Best is trial 71 with value: 130.86829733848572.\u001b[0m\n"
          ],
          "name": "stderr"
        },
        {
          "output_type": "stream",
          "text": [
            "[07:14:04] WARNING: /workspace/src/objective/regression_obj.cu:152: reg:linear is now deprecated in favor of reg:squarederror.\n"
          ],
          "name": "stdout"
        },
        {
          "output_type": "stream",
          "text": [
            "\u001b[32m[I 2021-07-18 07:14:04,691]\u001b[0m Trial 100 finished with value: 144.62868106365204 and parameters: {'alpha': 0.048588084644993194, 'lambda': 0.0013789835812137476, 'gamma': 3, 'colsample_bytree': 0.5, 'subsample': 0.5, 'learning_rate': 0.1, 'n_estimators': 495, 'max_depth': 3, 'min_child_weight': 10}. Best is trial 71 with value: 130.86829733848572.\u001b[0m\n"
          ],
          "name": "stderr"
        },
        {
          "output_type": "stream",
          "text": [
            "[07:14:04] WARNING: /workspace/src/objective/regression_obj.cu:152: reg:linear is now deprecated in favor of reg:squarederror.\n"
          ],
          "name": "stdout"
        },
        {
          "output_type": "stream",
          "text": [
            "\u001b[32m[I 2021-07-18 07:14:05,769]\u001b[0m Trial 101 finished with value: 133.84691053628922 and parameters: {'alpha': 0.011227337404208315, 'lambda': 0.002262214624863698, 'gamma': 2, 'colsample_bytree': 0.6, 'subsample': 0.5, 'learning_rate': 0.1, 'n_estimators': 483, 'max_depth': 11, 'min_child_weight': 1}. Best is trial 71 with value: 130.86829733848572.\u001b[0m\n"
          ],
          "name": "stderr"
        },
        {
          "output_type": "stream",
          "text": [
            "[07:14:05] WARNING: /workspace/src/objective/regression_obj.cu:152: reg:linear is now deprecated in favor of reg:squarederror.\n"
          ],
          "name": "stdout"
        },
        {
          "output_type": "stream",
          "text": [
            "\u001b[32m[I 2021-07-18 07:14:06,855]\u001b[0m Trial 102 finished with value: 133.84691053628922 and parameters: {'alpha': 0.011195017269026265, 'lambda': 0.0010803374854752796, 'gamma': 2, 'colsample_bytree': 0.6, 'subsample': 0.5, 'learning_rate': 0.1, 'n_estimators': 483, 'max_depth': 11, 'min_child_weight': 1}. Best is trial 71 with value: 130.86829733848572.\u001b[0m\n"
          ],
          "name": "stderr"
        },
        {
          "output_type": "stream",
          "text": [
            "[07:14:06] WARNING: /workspace/src/objective/regression_obj.cu:152: reg:linear is now deprecated in favor of reg:squarederror.\n"
          ],
          "name": "stdout"
        },
        {
          "output_type": "stream",
          "text": [
            "\u001b[32m[I 2021-07-18 07:14:07,516]\u001b[0m Trial 103 finished with value: 148.765498816967 and parameters: {'alpha': 0.026598181756616275, 'lambda': 0.0011392929231353974, 'gamma': 2, 'colsample_bytree': 0.6, 'subsample': 0.5, 'learning_rate': 0.1, 'n_estimators': 485, 'max_depth': 11, 'min_child_weight': 17}. Best is trial 71 with value: 130.86829733848572.\u001b[0m\n"
          ],
          "name": "stderr"
        },
        {
          "output_type": "stream",
          "text": [
            "[07:14:07] WARNING: /workspace/src/objective/regression_obj.cu:152: reg:linear is now deprecated in favor of reg:squarederror.\n"
          ],
          "name": "stdout"
        },
        {
          "output_type": "stream",
          "text": [
            "\u001b[32m[I 2021-07-18 07:14:08,124]\u001b[0m Trial 104 finished with value: 137.05412644147873 and parameters: {'alpha': 0.003483062521191656, 'lambda': 0.0014942290289479128, 'gamma': 2, 'colsample_bytree': 0.9, 'subsample': 0.4, 'learning_rate': 0.1, 'n_estimators': 448, 'max_depth': 13, 'min_child_weight': 7}. Best is trial 71 with value: 130.86829733848572.\u001b[0m\n"
          ],
          "name": "stderr"
        },
        {
          "output_type": "stream",
          "text": [
            "[07:14:08] WARNING: /workspace/src/objective/regression_obj.cu:152: reg:linear is now deprecated in favor of reg:squarederror.\n"
          ],
          "name": "stdout"
        },
        {
          "output_type": "stream",
          "text": [
            "\u001b[32m[I 2021-07-18 07:14:08,720]\u001b[0m Trial 105 finished with value: 143.939959526062 and parameters: {'alpha': 0.06337227133241118, 'lambda': 0.0018619756403935065, 'gamma': 2, 'colsample_bytree': 0.6, 'subsample': 0.5, 'learning_rate': 0.1, 'n_estimators': 570, 'max_depth': 11, 'min_child_weight': 6}. Best is trial 71 with value: 130.86829733848572.\u001b[0m\n"
          ],
          "name": "stderr"
        },
        {
          "output_type": "stream",
          "text": [
            "[07:14:08] WARNING: /workspace/src/objective/regression_obj.cu:152: reg:linear is now deprecated in favor of reg:squarederror.\n"
          ],
          "name": "stdout"
        },
        {
          "output_type": "stream",
          "text": [
            "\u001b[32m[I 2021-07-18 07:14:09,376]\u001b[0m Trial 106 finished with value: 137.72889471054077 and parameters: {'alpha': 0.0014995967366165637, 'lambda': 0.005224352127935295, 'gamma': 2, 'colsample_bytree': 1.0, 'subsample': 0.5, 'learning_rate': 0.1, 'n_estimators': 539, 'max_depth': 17, 'min_child_weight': 14}. Best is trial 71 with value: 130.86829733848572.\u001b[0m\n"
          ],
          "name": "stderr"
        },
        {
          "output_type": "stream",
          "text": [
            "[07:14:09] WARNING: /workspace/src/objective/regression_obj.cu:152: reg:linear is now deprecated in favor of reg:squarederror.\n"
          ],
          "name": "stdout"
        },
        {
          "output_type": "stream",
          "text": [
            "\u001b[32m[I 2021-07-18 07:14:09,985]\u001b[0m Trial 107 finished with value: 144.05838191509247 and parameters: {'alpha': 0.011974257419662336, 'lambda': 0.0023050694230846197, 'gamma': 2, 'colsample_bytree': 0.7, 'subsample': 0.7, 'learning_rate': 0.1, 'n_estimators': 518, 'max_depth': 11, 'min_child_weight': 26}. Best is trial 71 with value: 130.86829733848572.\u001b[0m\n"
          ],
          "name": "stderr"
        },
        {
          "output_type": "stream",
          "text": [
            "[07:14:10] WARNING: /workspace/src/objective/regression_obj.cu:152: reg:linear is now deprecated in favor of reg:squarederror.\n"
          ],
          "name": "stdout"
        },
        {
          "output_type": "stream",
          "text": [
            "\u001b[32m[I 2021-07-18 07:14:10,916]\u001b[0m Trial 108 finished with value: 131.45287954807281 and parameters: {'alpha': 0.005949070913150025, 'lambda': 0.001023052532554658, 'gamma': 2, 'colsample_bytree': 0.6, 'subsample': 0.5, 'learning_rate': 0.08, 'n_estimators': 505, 'max_depth': 9, 'min_child_weight': 1}. Best is trial 71 with value: 130.86829733848572.\u001b[0m\n"
          ],
          "name": "stderr"
        },
        {
          "output_type": "stream",
          "text": [
            "[07:14:10] WARNING: /workspace/src/objective/regression_obj.cu:152: reg:linear is now deprecated in favor of reg:squarederror.\n"
          ],
          "name": "stdout"
        },
        {
          "output_type": "stream",
          "text": [
            "\u001b[32m[I 2021-07-18 07:14:11,333]\u001b[0m Trial 109 finished with value: 283.5330505371094 and parameters: {'alpha': 0.0024449158553920673, 'lambda': 0.002651657522129226, 'gamma': 1, 'colsample_bytree': 0.6, 'subsample': 0.5, 'learning_rate': 0.08, 'n_estimators': 532, 'max_depth': 9, 'min_child_weight': 209}. Best is trial 71 with value: 130.86829733848572.\u001b[0m\n"
          ],
          "name": "stderr"
        },
        {
          "output_type": "stream",
          "text": [
            "[07:14:11] WARNING: /workspace/src/objective/regression_obj.cu:152: reg:linear is now deprecated in favor of reg:squarederror.\n"
          ],
          "name": "stdout"
        },
        {
          "output_type": "stream",
          "text": [
            "\u001b[32m[I 2021-07-18 07:14:12,534]\u001b[0m Trial 110 finished with value: 141.75528240203857 and parameters: {'alpha': 0.006854410530667879, 'lambda': 0.0030341896514394714, 'gamma': 2, 'colsample_bytree': 0.3, 'subsample': 0.5, 'learning_rate': 0.08, 'n_estimators': 503, 'max_depth': 9, 'min_child_weight': 20}. Best is trial 71 with value: 130.86829733848572.\u001b[0m\n"
          ],
          "name": "stderr"
        },
        {
          "output_type": "stream",
          "text": [
            "[07:14:12] WARNING: /workspace/src/objective/regression_obj.cu:152: reg:linear is now deprecated in favor of reg:squarederror.\n"
          ],
          "name": "stdout"
        },
        {
          "output_type": "stream",
          "text": [
            "\u001b[32m[I 2021-07-18 07:14:13,176]\u001b[0m Trial 111 finished with value: 137.24280619621277 and parameters: {'alpha': 0.0134345055233254, 'lambda': 0.001011646573405452, 'gamma': 2, 'colsample_bytree': 0.6, 'subsample': 0.5, 'learning_rate': 0.08, 'n_estimators': 455, 'max_depth': 9, 'min_child_weight': 5}. Best is trial 71 with value: 130.86829733848572.\u001b[0m\n"
          ],
          "name": "stderr"
        },
        {
          "output_type": "stream",
          "text": [
            "[07:14:13] WARNING: /workspace/src/objective/regression_obj.cu:152: reg:linear is now deprecated in favor of reg:squarederror.\n"
          ],
          "name": "stdout"
        },
        {
          "output_type": "stream",
          "text": [
            "\u001b[32m[I 2021-07-18 07:14:13,834]\u001b[0m Trial 112 finished with value: 147.5541684627533 and parameters: {'alpha': 0.004332492858556, 'lambda': 0.0017391520900240927, 'gamma': 2, 'colsample_bytree': 0.6, 'subsample': 0.5, 'learning_rate': 0.08, 'n_estimators': 426, 'max_depth': 9, 'min_child_weight': 13}. Best is trial 71 with value: 130.86829733848572.\u001b[0m\n"
          ],
          "name": "stderr"
        },
        {
          "output_type": "stream",
          "text": [
            "[07:14:13] WARNING: /workspace/src/objective/regression_obj.cu:152: reg:linear is now deprecated in favor of reg:squarederror.\n"
          ],
          "name": "stdout"
        },
        {
          "output_type": "stream",
          "text": [
            "\u001b[32m[I 2021-07-18 07:14:14,675]\u001b[0m Trial 113 finished with value: 139.86138731241226 and parameters: {'alpha': 0.007164721028698528, 'lambda': 0.0010073633055884476, 'gamma': 2, 'colsample_bytree': 0.6, 'subsample': 0.5, 'learning_rate': 0.1, 'n_estimators': 485, 'max_depth': 11, 'min_child_weight': 2}. Best is trial 71 with value: 130.86829733848572.\u001b[0m\n"
          ],
          "name": "stderr"
        },
        {
          "output_type": "stream",
          "text": [
            "[07:14:14] WARNING: /workspace/src/objective/regression_obj.cu:152: reg:linear is now deprecated in favor of reg:squarederror.\n"
          ],
          "name": "stdout"
        },
        {
          "output_type": "stream",
          "text": [
            "\u001b[32m[I 2021-07-18 07:14:15,303]\u001b[0m Trial 114 finished with value: 145.05178713798523 and parameters: {'alpha': 0.031612360746876775, 'lambda': 0.003970175684942213, 'gamma': 2, 'colsample_bytree': 0.6, 'subsample': 0.5, 'learning_rate': 0.06, 'n_estimators': 545, 'max_depth': 7, 'min_child_weight': 7}. Best is trial 71 with value: 130.86829733848572.\u001b[0m\n"
          ],
          "name": "stderr"
        },
        {
          "output_type": "stream",
          "text": [
            "[07:14:15] WARNING: /workspace/src/objective/regression_obj.cu:152: reg:linear is now deprecated in favor of reg:squarederror.\n"
          ],
          "name": "stdout"
        },
        {
          "output_type": "stream",
          "text": [
            "\u001b[32m[I 2021-07-18 07:14:16,380]\u001b[0m Trial 115 finished with value: 133.84691053628922 and parameters: {'alpha': 0.009300455525715906, 'lambda': 0.0020622055996474694, 'gamma': 2, 'colsample_bytree': 0.6, 'subsample': 0.5, 'learning_rate': 0.1, 'n_estimators': 484, 'max_depth': 11, 'min_child_weight': 1}. Best is trial 71 with value: 130.86829733848572.\u001b[0m\n"
          ],
          "name": "stderr"
        },
        {
          "output_type": "stream",
          "text": [
            "[07:14:16] WARNING: /workspace/src/objective/regression_obj.cu:152: reg:linear is now deprecated in favor of reg:squarederror.\n"
          ],
          "name": "stdout"
        },
        {
          "output_type": "stream",
          "text": [
            "\u001b[32m[I 2021-07-18 07:14:17,105]\u001b[0m Trial 116 finished with value: 143.98276948928833 and parameters: {'alpha': 0.009178980546054349, 'lambda': 0.0018714342035489643, 'gamma': 1, 'colsample_bytree': 0.5, 'subsample': 0.5, 'learning_rate': 0.1, 'n_estimators': 514, 'max_depth': 11, 'min_child_weight': 20}. Best is trial 71 with value: 130.86829733848572.\u001b[0m\n"
          ],
          "name": "stderr"
        },
        {
          "output_type": "stream",
          "text": [
            "[07:14:17] WARNING: /workspace/src/objective/regression_obj.cu:152: reg:linear is now deprecated in favor of reg:squarederror.\n"
          ],
          "name": "stdout"
        },
        {
          "output_type": "stream",
          "text": [
            "\u001b[32m[I 2021-07-18 07:14:18,652]\u001b[0m Trial 117 finished with value: 144.27161836624146 and parameters: {'alpha': 0.09595046635139762, 'lambda': 0.0012471987813618992, 'gamma': 2, 'colsample_bytree': 0.6, 'subsample': 0.5, 'learning_rate': 0.02, 'n_estimators': 463, 'max_depth': 9, 'min_child_weight': 33}. Best is trial 71 with value: 130.86829733848572.\u001b[0m\n"
          ],
          "name": "stderr"
        },
        {
          "output_type": "stream",
          "text": [
            "[07:14:18] WARNING: /workspace/src/objective/regression_obj.cu:152: reg:linear is now deprecated in favor of reg:squarederror.\n"
          ],
          "name": "stdout"
        },
        {
          "output_type": "stream",
          "text": [
            "\u001b[32m[I 2021-07-18 07:14:20,715]\u001b[0m Trial 118 finished with value: 146.95029187202454 and parameters: {'alpha': 0.00493950554426256, 'lambda': 0.004704606005408276, 'gamma': 1, 'colsample_bytree': 0.6, 'subsample': 0.5, 'learning_rate': 0.08, 'n_estimators': 600, 'max_depth': 20, 'min_child_weight': 12}. Best is trial 71 with value: 130.86829733848572.\u001b[0m\n"
          ],
          "name": "stderr"
        },
        {
          "output_type": "stream",
          "text": [
            "[07:14:20] WARNING: /workspace/src/objective/regression_obj.cu:152: reg:linear is now deprecated in favor of reg:squarederror.\n"
          ],
          "name": "stdout"
        },
        {
          "output_type": "stream",
          "text": [
            "\u001b[32m[I 2021-07-18 07:14:21,969]\u001b[0m Trial 119 finished with value: 211.473952293396 and parameters: {'alpha': 0.006875837824831852, 'lambda': 0.0027292632025383043, 'gamma': 2, 'colsample_bytree': 0.6, 'subsample': 0.5, 'learning_rate': 0.1, 'n_estimators': 404, 'max_depth': 5, 'min_child_weight': 169}. Best is trial 71 with value: 130.86829733848572.\u001b[0m\n"
          ],
          "name": "stderr"
        },
        {
          "output_type": "stream",
          "text": [
            "[07:14:21] WARNING: /workspace/src/objective/regression_obj.cu:152: reg:linear is now deprecated in favor of reg:squarederror.\n"
          ],
          "name": "stdout"
        },
        {
          "output_type": "stream",
          "text": [
            "\u001b[32m[I 2021-07-18 07:14:22,576]\u001b[0m Trial 120 finished with value: 144.94692015647888 and parameters: {'alpha': 0.01990494877811516, 'lambda': 0.00589519618056613, 'gamma': 2, 'colsample_bytree': 0.6, 'subsample': 0.4, 'learning_rate': 0.1, 'n_estimators': 488, 'max_depth': 11, 'min_child_weight': 6}. Best is trial 71 with value: 130.86829733848572.\u001b[0m\n"
          ],
          "name": "stderr"
        },
        {
          "output_type": "stream",
          "text": [
            "[07:14:22] WARNING: /workspace/src/objective/regression_obj.cu:152: reg:linear is now deprecated in favor of reg:squarederror.\n"
          ],
          "name": "stdout"
        },
        {
          "output_type": "stream",
          "text": [
            "\u001b[32m[I 2021-07-18 07:14:23,624]\u001b[0m Trial 121 finished with value: 133.84691053628922 and parameters: {'alpha': 0.011122834353470487, 'lambda': 0.0014280248662031452, 'gamma': 2, 'colsample_bytree': 0.6, 'subsample': 0.5, 'learning_rate': 0.1, 'n_estimators': 479, 'max_depth': 11, 'min_child_weight': 1}. Best is trial 71 with value: 130.86829733848572.\u001b[0m\n"
          ],
          "name": "stderr"
        },
        {
          "output_type": "stream",
          "text": [
            "[07:14:23] WARNING: /workspace/src/objective/regression_obj.cu:152: reg:linear is now deprecated in favor of reg:squarederror.\n"
          ],
          "name": "stdout"
        },
        {
          "output_type": "stream",
          "text": [
            "\u001b[32m[I 2021-07-18 07:14:24,689]\u001b[0m Trial 122 finished with value: 133.84691053628922 and parameters: {'alpha': 0.011399317279338473, 'lambda': 0.0013872501225540353, 'gamma': 2, 'colsample_bytree': 0.6, 'subsample': 0.5, 'learning_rate': 0.1, 'n_estimators': 505, 'max_depth': 11, 'min_child_weight': 1}. Best is trial 71 with value: 130.86829733848572.\u001b[0m\n"
          ],
          "name": "stderr"
        },
        {
          "output_type": "stream",
          "text": [
            "[07:14:24] WARNING: /workspace/src/objective/regression_obj.cu:152: reg:linear is now deprecated in favor of reg:squarederror.\n"
          ],
          "name": "stdout"
        },
        {
          "output_type": "stream",
          "text": [
            "\u001b[32m[I 2021-07-18 07:14:25,240]\u001b[0m Trial 123 finished with value: 144.66097164154053 and parameters: {'alpha': 0.0010326420104297346, 'lambda': 0.0016339566854756567, 'gamma': 2, 'colsample_bytree': 0.6, 'subsample': 0.5, 'learning_rate': 0.1, 'n_estimators': 524, 'max_depth': 11, 'min_child_weight': 12}. Best is trial 71 with value: 130.86829733848572.\u001b[0m\n"
          ],
          "name": "stderr"
        },
        {
          "output_type": "stream",
          "text": [
            "[07:14:25] WARNING: /workspace/src/objective/regression_obj.cu:152: reg:linear is now deprecated in favor of reg:squarederror.\n"
          ],
          "name": "stdout"
        },
        {
          "output_type": "stream",
          "text": [
            "\u001b[32m[I 2021-07-18 07:14:26,289]\u001b[0m Trial 124 finished with value: 133.84691053628922 and parameters: {'alpha': 0.014749928165295806, 'lambda': 0.003129729242207244, 'gamma': 2, 'colsample_bytree': 0.6, 'subsample': 0.5, 'learning_rate': 0.1, 'n_estimators': 585, 'max_depth': 11, 'min_child_weight': 1}. Best is trial 71 with value: 130.86829733848572.\u001b[0m\n"
          ],
          "name": "stderr"
        },
        {
          "output_type": "stream",
          "text": [
            "[07:14:26] WARNING: /workspace/src/objective/regression_obj.cu:152: reg:linear is now deprecated in favor of reg:squarederror.\n"
          ],
          "name": "stdout"
        },
        {
          "output_type": "stream",
          "text": [
            "\u001b[32m[I 2021-07-18 07:14:28,294]\u001b[0m Trial 125 finished with value: 146.4678384065628 and parameters: {'alpha': 0.055325158778061115, 'lambda': 0.003320078482638422, 'gamma': 1, 'colsample_bytree': 0.5, 'subsample': 0.5, 'learning_rate': 0.01, 'n_estimators': 593, 'max_depth': 11, 'min_child_weight': 24}. Best is trial 71 with value: 130.86829733848572.\u001b[0m\n"
          ],
          "name": "stderr"
        },
        {
          "output_type": "stream",
          "text": [
            "[07:14:28] WARNING: /workspace/src/objective/regression_obj.cu:152: reg:linear is now deprecated in favor of reg:squarederror.\n"
          ],
          "name": "stdout"
        },
        {
          "output_type": "stream",
          "text": [
            "\u001b[32m[I 2021-07-18 07:14:29,350]\u001b[0m Trial 126 finished with value: 133.84691053628922 and parameters: {'alpha': 0.008337311611820632, 'lambda': 0.0022027304912512406, 'gamma': 2, 'colsample_bytree': 0.6, 'subsample': 0.5, 'learning_rate': 0.1, 'n_estimators': 471, 'max_depth': 11, 'min_child_weight': 1}. Best is trial 71 with value: 130.86829733848572.\u001b[0m\n"
          ],
          "name": "stderr"
        },
        {
          "output_type": "stream",
          "text": [
            "[07:14:29] WARNING: /workspace/src/objective/regression_obj.cu:152: reg:linear is now deprecated in favor of reg:squarederror.\n"
          ],
          "name": "stdout"
        },
        {
          "output_type": "stream",
          "text": [
            "\u001b[32m[I 2021-07-18 07:14:30,013]\u001b[0m Trial 127 finished with value: 148.765498816967 and parameters: {'alpha': 0.03651168257202332, 'lambda': 0.001028892370055709, 'gamma': 1, 'colsample_bytree': 0.6, 'subsample': 0.5, 'learning_rate': 0.1, 'n_estimators': 407, 'max_depth': 13, 'min_child_weight': 17}. Best is trial 71 with value: 130.86829733848572.\u001b[0m\n"
          ],
          "name": "stderr"
        },
        {
          "output_type": "stream",
          "text": [
            "[07:14:30] WARNING: /workspace/src/objective/regression_obj.cu:152: reg:linear is now deprecated in favor of reg:squarederror.\n"
          ],
          "name": "stdout"
        },
        {
          "output_type": "stream",
          "text": [
            "\u001b[32m[I 2021-07-18 07:14:30,588]\u001b[0m Trial 128 finished with value: 141.9349217414856 and parameters: {'alpha': 0.007412381838536819, 'lambda': 0.002550855811466974, 'gamma': 2, 'colsample_bytree': 0.9, 'subsample': 0.7, 'learning_rate': 0.1, 'n_estimators': 440, 'max_depth': 9, 'min_child_weight': 9}. Best is trial 71 with value: 130.86829733848572.\u001b[0m\n"
          ],
          "name": "stderr"
        },
        {
          "output_type": "stream",
          "text": [
            "[07:14:30] WARNING: /workspace/src/objective/regression_obj.cu:152: reg:linear is now deprecated in favor of reg:squarederror.\n"
          ],
          "name": "stdout"
        },
        {
          "output_type": "stream",
          "text": [
            "\u001b[32m[I 2021-07-18 07:14:31,638]\u001b[0m Trial 129 finished with value: 133.84691053628922 and parameters: {'alpha': 0.019145353185560886, 'lambda': 0.001795590566890642, 'gamma': 2, 'colsample_bytree': 0.6, 'subsample': 0.5, 'learning_rate': 0.1, 'n_estimators': 522, 'max_depth': 11, 'min_child_weight': 1}. Best is trial 71 with value: 130.86829733848572.\u001b[0m\n"
          ],
          "name": "stderr"
        },
        {
          "output_type": "stream",
          "text": [
            "[07:14:31] WARNING: /workspace/src/objective/regression_obj.cu:152: reg:linear is now deprecated in favor of reg:squarederror.\n"
          ],
          "name": "stdout"
        },
        {
          "output_type": "stream",
          "text": [
            "\u001b[32m[I 2021-07-18 07:14:32,199]\u001b[0m Trial 130 finished with value: 141.148681640625 and parameters: {'alpha': 0.0432686872712312, 'lambda': 0.0012281395942057563, 'gamma': 2, 'colsample_bytree': 1.0, 'subsample': 0.5, 'learning_rate': 0.1, 'n_estimators': 350, 'max_depth': 3, 'min_child_weight': 12}. Best is trial 71 with value: 130.86829733848572.\u001b[0m\n"
          ],
          "name": "stderr"
        },
        {
          "output_type": "stream",
          "text": [
            "[07:14:32] WARNING: /workspace/src/objective/regression_obj.cu:152: reg:linear is now deprecated in favor of reg:squarederror.\n"
          ],
          "name": "stdout"
        },
        {
          "output_type": "stream",
          "text": [
            "\u001b[32m[I 2021-07-18 07:14:32,787]\u001b[0m Trial 131 finished with value: 143.939959526062 and parameters: {'alpha': 0.02890174183871875, 'lambda': 4.771582504807029, 'gamma': 2, 'colsample_bytree': 0.6, 'subsample': 0.5, 'learning_rate': 0.1, 'n_estimators': 430, 'max_depth': 11, 'min_child_weight': 6}. Best is trial 71 with value: 130.86829733848572.\u001b[0m\n"
          ],
          "name": "stderr"
        },
        {
          "output_type": "stream",
          "text": [
            "[07:14:32] WARNING: /workspace/src/objective/regression_obj.cu:152: reg:linear is now deprecated in favor of reg:squarederror.\n"
          ],
          "name": "stdout"
        },
        {
          "output_type": "stream",
          "text": [
            "\u001b[32m[I 2021-07-18 07:14:33,837]\u001b[0m Trial 132 finished with value: 133.84691053628922 and parameters: {'alpha': 0.0019873700286257272, 'lambda': 0.0023426619603054938, 'gamma': 2, 'colsample_bytree': 0.6, 'subsample': 0.5, 'learning_rate': 0.1, 'n_estimators': 457, 'max_depth': 11, 'min_child_weight': 1}. Best is trial 71 with value: 130.86829733848572.\u001b[0m\n"
          ],
          "name": "stderr"
        },
        {
          "output_type": "stream",
          "text": [
            "[07:14:33] WARNING: /workspace/src/objective/regression_obj.cu:152: reg:linear is now deprecated in favor of reg:squarederror.\n"
          ],
          "name": "stdout"
        },
        {
          "output_type": "stream",
          "text": [
            "\u001b[32m[I 2021-07-18 07:14:34,478]\u001b[0m Trial 133 finished with value: 146.1621640920639 and parameters: {'alpha': 0.0018121348151354684, 'lambda': 0.0042611254354525735, 'gamma': 2, 'colsample_bytree': 0.6, 'subsample': 0.5, 'learning_rate': 0.1, 'n_estimators': 454, 'max_depth': 11, 'min_child_weight': 19}. Best is trial 71 with value: 130.86829733848572.\u001b[0m\n"
          ],
          "name": "stderr"
        },
        {
          "output_type": "stream",
          "text": [
            "[07:14:34] WARNING: /workspace/src/objective/regression_obj.cu:152: reg:linear is now deprecated in favor of reg:squarederror.\n"
          ],
          "name": "stdout"
        },
        {
          "output_type": "stream",
          "text": [
            "\u001b[32m[I 2021-07-18 07:14:35,537]\u001b[0m Trial 134 finished with value: 133.84691053628922 and parameters: {'alpha': 0.019927430419167797, 'lambda': 0.0019990898454150864, 'gamma': 2, 'colsample_bytree': 0.6, 'subsample': 0.5, 'learning_rate': 0.1, 'n_estimators': 465, 'max_depth': 11, 'min_child_weight': 1}. Best is trial 71 with value: 130.86829733848572.\u001b[0m\n"
          ],
          "name": "stderr"
        },
        {
          "output_type": "stream",
          "text": [
            "[07:14:35] WARNING: /workspace/src/objective/regression_obj.cu:152: reg:linear is now deprecated in favor of reg:squarederror.\n"
          ],
          "name": "stdout"
        },
        {
          "output_type": "stream",
          "text": [
            "\u001b[32m[I 2021-07-18 07:14:37,158]\u001b[0m Trial 135 finished with value: 140.157985329628 and parameters: {'alpha': 0.015700746496570054, 'lambda': 0.003147501006135195, 'gamma': 1, 'colsample_bytree': 0.6, 'subsample': 0.5, 'learning_rate': 0.1, 'n_estimators': 560, 'max_depth': 20, 'min_child_weight': 10}. Best is trial 71 with value: 130.86829733848572.\u001b[0m\n"
          ],
          "name": "stderr"
        },
        {
          "output_type": "stream",
          "text": [
            "[07:14:37] WARNING: /workspace/src/objective/regression_obj.cu:152: reg:linear is now deprecated in favor of reg:squarederror.\n"
          ],
          "name": "stdout"
        },
        {
          "output_type": "stream",
          "text": [
            "\u001b[32m[I 2021-07-18 07:14:37,819]\u001b[0m Trial 136 finished with value: 147.56854224205017 and parameters: {'alpha': 0.04186282928262754, 'lambda': 0.0020939445779766326, 'gamma': 1, 'colsample_bytree': 0.6, 'subsample': 0.5, 'learning_rate': 0.1, 'n_estimators': 470, 'max_depth': 11, 'min_child_weight': 27}. Best is trial 71 with value: 130.86829733848572.\u001b[0m\n"
          ],
          "name": "stderr"
        },
        {
          "output_type": "stream",
          "text": [
            "[07:14:37] WARNING: /workspace/src/objective/regression_obj.cu:152: reg:linear is now deprecated in favor of reg:squarederror.\n"
          ],
          "name": "stdout"
        },
        {
          "output_type": "stream",
          "text": [
            "\u001b[32m[I 2021-07-18 07:14:38,340]\u001b[0m Trial 137 finished with value: 135.13469755649567 and parameters: {'alpha': 0.010183115924763083, 'lambda': 0.0014461212394954103, 'gamma': 2, 'colsample_bytree': 0.7, 'subsample': 0.5, 'learning_rate': 0.1, 'n_estimators': 480, 'max_depth': 5, 'min_child_weight': 1}. Best is trial 71 with value: 130.86829733848572.\u001b[0m\n"
          ],
          "name": "stderr"
        },
        {
          "output_type": "stream",
          "text": [
            "[07:14:38] WARNING: /workspace/src/objective/regression_obj.cu:152: reg:linear is now deprecated in favor of reg:squarederror.\n"
          ],
          "name": "stdout"
        },
        {
          "output_type": "stream",
          "text": [
            "\u001b[32m[I 2021-07-18 07:14:39,424]\u001b[0m Trial 138 finished with value: 143.13557600975037 and parameters: {'alpha': 0.003002286779860035, 'lambda': 0.0016131598288376498, 'gamma': 2, 'colsample_bytree': 0.3, 'subsample': 0.5, 'learning_rate': 0.1, 'n_estimators': 413, 'max_depth': 17, 'min_child_weight': 16}. Best is trial 71 with value: 130.86829733848572.\u001b[0m\n"
          ],
          "name": "stderr"
        },
        {
          "output_type": "stream",
          "text": [
            "[07:14:39] WARNING: /workspace/src/objective/regression_obj.cu:152: reg:linear is now deprecated in favor of reg:squarederror.\n"
          ],
          "name": "stdout"
        },
        {
          "output_type": "stream",
          "text": [
            "\u001b[32m[I 2021-07-18 07:14:39,976]\u001b[0m Trial 139 finished with value: 144.66097164154053 and parameters: {'alpha': 0.008118312098057108, 'lambda': 0.0011598659070554298, 'gamma': 2, 'colsample_bytree': 0.6, 'subsample': 0.5, 'learning_rate': 0.1, 'n_estimators': 504, 'max_depth': 11, 'min_child_weight': 12}. Best is trial 71 with value: 130.86829733848572.\u001b[0m\n"
          ],
          "name": "stderr"
        },
        {
          "output_type": "stream",
          "text": [
            "[07:14:39] WARNING: /workspace/src/objective/regression_obj.cu:152: reg:linear is now deprecated in favor of reg:squarederror.\n"
          ],
          "name": "stdout"
        },
        {
          "output_type": "stream",
          "text": [
            "\u001b[32m[I 2021-07-18 07:14:41,271]\u001b[0m Trial 140 finished with value: 146.7979599237442 and parameters: {'alpha': 0.005665351742713732, 'lambda': 0.0014768557587453602, 'gamma': 2, 'colsample_bytree': 0.6, 'subsample': 0.5, 'learning_rate': 0.1, 'n_estimators': 492, 'max_depth': 11, 'min_child_weight': 100}. Best is trial 71 with value: 130.86829733848572.\u001b[0m\n"
          ],
          "name": "stderr"
        },
        {
          "output_type": "stream",
          "text": [
            "[07:14:41] WARNING: /workspace/src/objective/regression_obj.cu:152: reg:linear is now deprecated in favor of reg:squarederror.\n"
          ],
          "name": "stdout"
        },
        {
          "output_type": "stream",
          "text": [
            "\u001b[32m[I 2021-07-18 07:14:41,859]\u001b[0m Trial 141 finished with value: 143.939959526062 and parameters: {'alpha': 0.018621314575092664, 'lambda': 0.0019399709385408458, 'gamma': 2, 'colsample_bytree': 0.6, 'subsample': 0.5, 'learning_rate': 0.1, 'n_estimators': 382, 'max_depth': 11, 'min_child_weight': 6}. Best is trial 71 with value: 130.86829733848572.\u001b[0m\n"
          ],
          "name": "stderr"
        },
        {
          "output_type": "stream",
          "text": [
            "[07:14:41] WARNING: /workspace/src/objective/regression_obj.cu:152: reg:linear is now deprecated in favor of reg:squarederror.\n"
          ],
          "name": "stdout"
        },
        {
          "output_type": "stream",
          "text": [
            "\u001b[32m[I 2021-07-18 07:14:42,921]\u001b[0m Trial 142 finished with value: 133.84691053628922 and parameters: {'alpha': 0.02132377235689937, 'lambda': 0.002524590239258566, 'gamma': 2, 'colsample_bytree': 0.6, 'subsample': 0.5, 'learning_rate': 0.1, 'n_estimators': 460, 'max_depth': 11, 'min_child_weight': 1}. Best is trial 71 with value: 130.86829733848572.\u001b[0m\n"
          ],
          "name": "stderr"
        },
        {
          "output_type": "stream",
          "text": [
            "[07:14:42] WARNING: /workspace/src/objective/regression_obj.cu:152: reg:linear is now deprecated in favor of reg:squarederror.\n"
          ],
          "name": "stdout"
        },
        {
          "output_type": "stream",
          "text": [
            "\u001b[32m[I 2021-07-18 07:14:43,971]\u001b[0m Trial 143 finished with value: 133.84691053628922 and parameters: {'alpha': 0.02529490855170883, 'lambda': 0.003994171759635733, 'gamma': 2, 'colsample_bytree': 0.6, 'subsample': 0.5, 'learning_rate': 0.1, 'n_estimators': 528, 'max_depth': 11, 'min_child_weight': 1}. Best is trial 71 with value: 130.86829733848572.\u001b[0m\n"
          ],
          "name": "stderr"
        },
        {
          "output_type": "stream",
          "text": [
            "[07:14:43] WARNING: /workspace/src/objective/regression_obj.cu:152: reg:linear is now deprecated in favor of reg:squarederror.\n"
          ],
          "name": "stdout"
        },
        {
          "output_type": "stream",
          "text": [
            "\u001b[32m[I 2021-07-18 07:14:44,544]\u001b[0m Trial 144 finished with value: 144.69314622879028 and parameters: {'alpha': 0.07385835407703815, 'lambda': 0.0025279895943430036, 'gamma': 2, 'colsample_bytree': 0.6, 'subsample': 0.5, 'learning_rate': 0.08, 'n_estimators': 440, 'max_depth': 11, 'min_child_weight': 9}. Best is trial 71 with value: 130.86829733848572.\u001b[0m\n"
          ],
          "name": "stderr"
        },
        {
          "output_type": "stream",
          "text": [
            "[07:14:44] WARNING: /workspace/src/objective/regression_obj.cu:152: reg:linear is now deprecated in favor of reg:squarederror.\n"
          ],
          "name": "stdout"
        },
        {
          "output_type": "stream",
          "text": [
            "\u001b[32m[I 2021-07-18 07:14:45,618]\u001b[0m Trial 145 finished with value: 130.96794617176056 and parameters: {'alpha': 0.013247509820268852, 'lambda': 0.007538232592139091, 'gamma': 2, 'colsample_bytree': 0.5, 'subsample': 0.6, 'learning_rate': 0.1, 'n_estimators': 508, 'max_depth': 11, 'min_child_weight': 1}. Best is trial 71 with value: 130.86829733848572.\u001b[0m\n"
          ],
          "name": "stderr"
        },
        {
          "output_type": "stream",
          "text": [
            "[07:14:45] WARNING: /workspace/src/objective/regression_obj.cu:152: reg:linear is now deprecated in favor of reg:squarederror.\n"
          ],
          "name": "stdout"
        },
        {
          "output_type": "stream",
          "text": [
            "\u001b[32m[I 2021-07-18 07:14:46,289]\u001b[0m Trial 146 finished with value: 133.31229847669601 and parameters: {'alpha': 0.01444533256565303, 'lambda': 0.0034065427016190474, 'gamma': 2, 'colsample_bytree': 0.5, 'subsample': 0.6, 'learning_rate': 0.1, 'n_estimators': 504, 'max_depth': 7, 'min_child_weight': 1}. Best is trial 71 with value: 130.86829733848572.\u001b[0m\n"
          ],
          "name": "stderr"
        },
        {
          "output_type": "stream",
          "text": [
            "[07:14:46] WARNING: /workspace/src/objective/regression_obj.cu:152: reg:linear is now deprecated in favor of reg:squarederror.\n"
          ],
          "name": "stdout"
        },
        {
          "output_type": "stream",
          "text": [
            "\u001b[32m[I 2021-07-18 07:14:46,939]\u001b[0m Trial 147 finished with value: 138.89689087867737 and parameters: {'alpha': 0.022703582106451924, 'lambda': 0.007266460014984802, 'gamma': 2, 'colsample_bytree': 0.5, 'subsample': 0.6, 'learning_rate': 0.1, 'n_estimators': 532, 'max_depth': 9, 'min_child_weight': 21}. Best is trial 71 with value: 130.86829733848572.\u001b[0m\n"
          ],
          "name": "stderr"
        },
        {
          "output_type": "stream",
          "text": [
            "[07:14:46] WARNING: /workspace/src/objective/regression_obj.cu:152: reg:linear is now deprecated in favor of reg:squarederror.\n"
          ],
          "name": "stdout"
        },
        {
          "output_type": "stream",
          "text": [
            "\u001b[32m[I 2021-07-18 07:14:47,566]\u001b[0m Trial 148 finished with value: 145.38501036167145 and parameters: {'alpha': 0.0132204887191172, 'lambda': 0.00958816906425229, 'gamma': 1, 'colsample_bytree': 0.5, 'subsample': 0.6, 'learning_rate': 0.06, 'n_estimators': 545, 'max_depth': 7, 'min_child_weight': 7}. Best is trial 71 with value: 130.86829733848572.\u001b[0m\n"
          ],
          "name": "stderr"
        },
        {
          "output_type": "stream",
          "text": [
            "[07:14:47] WARNING: /workspace/src/objective/regression_obj.cu:152: reg:linear is now deprecated in favor of reg:squarederror.\n"
          ],
          "name": "stdout"
        },
        {
          "output_type": "stream",
          "text": [
            "\u001b[32m[I 2021-07-18 07:14:49,092]\u001b[0m Trial 149 finished with value: 138.0709468126297 and parameters: {'alpha': 0.015407565651404883, 'lambda': 0.0031429275086878334, 'gamma': 2, 'colsample_bytree': 0.5, 'subsample': 0.6, 'learning_rate': 0.02, 'n_estimators': 509, 'max_depth': 7, 'min_child_weight': 17}. Best is trial 71 with value: 130.86829733848572.\u001b[0m\n"
          ],
          "name": "stderr"
        },
        {
          "output_type": "stream",
          "text": [
            "[07:14:49] WARNING: /workspace/src/objective/regression_obj.cu:152: reg:linear is now deprecated in favor of reg:squarederror.\n"
          ],
          "name": "stdout"
        },
        {
          "output_type": "stream",
          "text": [
            "\u001b[32m[I 2021-07-18 07:14:49,662]\u001b[0m Trial 150 finished with value: 133.52410423755646 and parameters: {'alpha': 0.011113739254756533, 'lambda': 0.0013535211162944397, 'gamma': 2, 'colsample_bytree': 0.5, 'subsample': 0.6, 'learning_rate': 0.1, 'n_estimators': 496, 'max_depth': 7, 'min_child_weight': 5}. Best is trial 71 with value: 130.86829733848572.\u001b[0m\n"
          ],
          "name": "stderr"
        },
        {
          "output_type": "stream",
          "text": [
            "[07:14:49] WARNING: /workspace/src/objective/regression_obj.cu:152: reg:linear is now deprecated in favor of reg:squarederror.\n"
          ],
          "name": "stdout"
        },
        {
          "output_type": "stream",
          "text": [
            "\u001b[32m[I 2021-07-18 07:14:50,210]\u001b[0m Trial 151 finished with value: 141.70578157901764 and parameters: {'alpha': 0.029147291345495537, 'lambda': 0.004800648802501331, 'gamma': 2, 'colsample_bytree': 0.5, 'subsample': 0.6, 'learning_rate': 0.1, 'n_estimators': 324, 'max_depth': 7, 'min_child_weight': 6}. Best is trial 71 with value: 130.86829733848572.\u001b[0m\n"
          ],
          "name": "stderr"
        },
        {
          "output_type": "stream",
          "text": [
            "[07:14:50] WARNING: /workspace/src/objective/regression_obj.cu:152: reg:linear is now deprecated in favor of reg:squarederror.\n"
          ],
          "name": "stdout"
        },
        {
          "output_type": "stream",
          "text": [
            "\u001b[32m[I 2021-07-18 07:14:50,798]\u001b[0m Trial 152 finished with value: 141.3217512369156 and parameters: {'alpha': 0.01257525415976763, 'lambda': 0.00622562169022726, 'gamma': 2, 'colsample_bytree': 0.5, 'subsample': 0.6, 'learning_rate': 0.1, 'n_estimators': 494, 'max_depth': 7, 'min_child_weight': 13}. Best is trial 71 with value: 130.86829733848572.\u001b[0m\n"
          ],
          "name": "stderr"
        },
        {
          "output_type": "stream",
          "text": [
            "[07:14:50] WARNING: /workspace/src/objective/regression_obj.cu:152: reg:linear is now deprecated in favor of reg:squarederror.\n"
          ],
          "name": "stdout"
        },
        {
          "output_type": "stream",
          "text": [
            "\u001b[32m[I 2021-07-18 07:14:51,482]\u001b[0m Trial 153 finished with value: 133.31229847669601 and parameters: {'alpha': 0.00837551953226224, 'lambda': 0.005299309867474851, 'gamma': 2, 'colsample_bytree': 0.5, 'subsample': 0.6, 'learning_rate': 0.1, 'n_estimators': 478, 'max_depth': 7, 'min_child_weight': 1}. Best is trial 71 with value: 130.86829733848572.\u001b[0m\n"
          ],
          "name": "stderr"
        },
        {
          "output_type": "stream",
          "text": [
            "[07:14:51] WARNING: /workspace/src/objective/regression_obj.cu:152: reg:linear is now deprecated in favor of reg:squarederror.\n"
          ],
          "name": "stdout"
        },
        {
          "output_type": "stream",
          "text": [
            "\u001b[32m[I 2021-07-18 07:14:52,029]\u001b[0m Trial 154 finished with value: 141.70578157901764 and parameters: {'alpha': 0.02646830388396421, 'lambda': 0.003808837676290959, 'gamma': 2, 'colsample_bytree': 0.5, 'subsample': 0.6, 'learning_rate': 0.1, 'n_estimators': 527, 'max_depth': 7, 'min_child_weight': 6}. Best is trial 71 with value: 130.86829733848572.\u001b[0m\n"
          ],
          "name": "stderr"
        },
        {
          "output_type": "stream",
          "text": [
            "[07:14:52] WARNING: /workspace/src/objective/regression_obj.cu:152: reg:linear is now deprecated in favor of reg:squarederror.\n"
          ],
          "name": "stdout"
        },
        {
          "output_type": "stream",
          "text": [
            "\u001b[32m[I 2021-07-18 07:14:52,674]\u001b[0m Trial 155 finished with value: 142.48139238357544 and parameters: {'alpha': 0.014592366305695735, 'lambda': 0.004641042105542509, 'gamma': 2, 'colsample_bytree': 0.5, 'subsample': 0.6, 'learning_rate': 0.1, 'n_estimators': 580, 'max_depth': 7, 'min_child_weight': 14}. Best is trial 71 with value: 130.86829733848572.\u001b[0m\n"
          ],
          "name": "stderr"
        },
        {
          "output_type": "stream",
          "text": [
            "[07:14:52] WARNING: /workspace/src/objective/regression_obj.cu:152: reg:linear is now deprecated in favor of reg:squarederror.\n"
          ],
          "name": "stdout"
        },
        {
          "output_type": "stream",
          "text": [
            "\u001b[32m[I 2021-07-18 07:14:53,352]\u001b[0m Trial 156 finished with value: 133.31229847669601 and parameters: {'alpha': 0.001995290959580638, 'lambda': 0.0030070042814686025, 'gamma': 2, 'colsample_bytree': 0.5, 'subsample': 0.6, 'learning_rate': 0.1, 'n_estimators': 518, 'max_depth': 7, 'min_child_weight': 1}. Best is trial 71 with value: 130.86829733848572.\u001b[0m\n"
          ],
          "name": "stderr"
        },
        {
          "output_type": "stream",
          "text": [
            "[07:14:53] WARNING: /workspace/src/objective/regression_obj.cu:152: reg:linear is now deprecated in favor of reg:squarederror.\n"
          ],
          "name": "stdout"
        },
        {
          "output_type": "stream",
          "text": [
            "\u001b[32m[I 2021-07-18 07:14:53,993]\u001b[0m Trial 157 finished with value: 138.2138239145279 and parameters: {'alpha': 0.0012898419370964214, 'lambda': 0.0072711345018968195, 'gamma': 1, 'colsample_bytree': 0.5, 'subsample': 0.6, 'learning_rate': 0.1, 'n_estimators': 512, 'max_depth': 7, 'min_child_weight': 22}. Best is trial 71 with value: 130.86829733848572.\u001b[0m\n"
          ],
          "name": "stderr"
        },
        {
          "output_type": "stream",
          "text": [
            "[07:14:54] WARNING: /workspace/src/objective/regression_obj.cu:152: reg:linear is now deprecated in favor of reg:squarederror.\n"
          ],
          "name": "stdout"
        },
        {
          "output_type": "stream",
          "text": [
            "\u001b[32m[I 2021-07-18 07:14:54,666]\u001b[0m Trial 158 finished with value: 133.31229847669601 and parameters: {'alpha': 0.004676515882179238, 'lambda': 0.005460583598954268, 'gamma': 2, 'colsample_bytree': 0.5, 'subsample': 0.6, 'learning_rate': 0.1, 'n_estimators': 478, 'max_depth': 7, 'min_child_weight': 1}. Best is trial 71 with value: 130.86829733848572.\u001b[0m\n"
          ],
          "name": "stderr"
        },
        {
          "output_type": "stream",
          "text": [
            "[07:14:54] WARNING: /workspace/src/objective/regression_obj.cu:152: reg:linear is now deprecated in favor of reg:squarederror.\n"
          ],
          "name": "stdout"
        },
        {
          "output_type": "stream",
          "text": [
            "\u001b[32m[I 2021-07-18 07:14:56,210]\u001b[0m Trial 159 finished with value: 167.25874853134155 and parameters: {'alpha': 0.0036905648362164866, 'lambda': 0.005406988119507491, 'gamma': 2, 'colsample_bytree': 0.5, 'subsample': 0.6, 'learning_rate': 0.01, 'n_estimators': 498, 'max_depth': 7, 'min_child_weight': 127}. Best is trial 71 with value: 130.86829733848572.\u001b[0m\n"
          ],
          "name": "stderr"
        },
        {
          "output_type": "stream",
          "text": [
            "[07:14:56] WARNING: /workspace/src/objective/regression_obj.cu:152: reg:linear is now deprecated in favor of reg:squarederror.\n"
          ],
          "name": "stdout"
        },
        {
          "output_type": "stream",
          "text": [
            "\u001b[32m[I 2021-07-18 07:14:57,856]\u001b[0m Trial 160 finished with value: 139.55780267715454 and parameters: {'alpha': 0.002373980078328596, 'lambda': 0.0036315068827130234, 'gamma': 1, 'colsample_bytree': 0.5, 'subsample': 0.6, 'learning_rate': 0.1, 'n_estimators': 516, 'max_depth': 20, 'min_child_weight': 8}. Best is trial 71 with value: 130.86829733848572.\u001b[0m\n"
          ],
          "name": "stderr"
        },
        {
          "output_type": "stream",
          "text": [
            "[07:14:57] WARNING: /workspace/src/objective/regression_obj.cu:152: reg:linear is now deprecated in favor of reg:squarederror.\n"
          ],
          "name": "stdout"
        },
        {
          "output_type": "stream",
          "text": [
            "\u001b[32m[I 2021-07-18 07:14:58,482]\u001b[0m Trial 161 finished with value: 139.40897619724274 and parameters: {'alpha': 0.005049224885884138, 'lambda': 0.00279664579116269, 'gamma': 2, 'colsample_bytree': 0.5, 'subsample': 0.6, 'learning_rate': 0.1, 'n_estimators': 471, 'max_depth': 7, 'min_child_weight': 2}. Best is trial 71 with value: 130.86829733848572.\u001b[0m\n"
          ],
          "name": "stderr"
        },
        {
          "output_type": "stream",
          "text": [
            "[07:14:58] WARNING: /workspace/src/objective/regression_obj.cu:152: reg:linear is now deprecated in favor of reg:squarederror.\n"
          ],
          "name": "stdout"
        },
        {
          "output_type": "stream",
          "text": [
            "\u001b[32m[I 2021-07-18 07:14:59,158]\u001b[0m Trial 162 finished with value: 133.31229847669601 and parameters: {'alpha': 0.0017825485016844005, 'lambda': 0.001850371238415955, 'gamma': 2, 'colsample_bytree': 0.5, 'subsample': 0.6, 'learning_rate': 0.1, 'n_estimators': 463, 'max_depth': 7, 'min_child_weight': 1}. Best is trial 71 with value: 130.86829733848572.\u001b[0m\n"
          ],
          "name": "stderr"
        },
        {
          "output_type": "stream",
          "text": [
            "[07:14:59] WARNING: /workspace/src/objective/regression_obj.cu:152: reg:linear is now deprecated in favor of reg:squarederror.\n"
          ],
          "name": "stdout"
        },
        {
          "output_type": "stream",
          "text": [
            "\u001b[32m[I 2021-07-18 07:14:59,703]\u001b[0m Trial 163 finished with value: 139.1651998758316 and parameters: {'alpha': 0.0015990732430838112, 'lambda': 0.0036731620798957886, 'gamma': 2, 'colsample_bytree': 0.5, 'subsample': 0.6, 'learning_rate': 0.1, 'n_estimators': 521, 'max_depth': 7, 'min_child_weight': 11}. Best is trial 71 with value: 130.86829733848572.\u001b[0m\n"
          ],
          "name": "stderr"
        },
        {
          "output_type": "stream",
          "text": [
            "[07:14:59] WARNING: /workspace/src/objective/regression_obj.cu:152: reg:linear is now deprecated in favor of reg:squarederror.\n"
          ],
          "name": "stdout"
        },
        {
          "output_type": "stream",
          "text": [
            "\u001b[32m[I 2021-07-18 07:15:00,375]\u001b[0m Trial 164 finished with value: 133.31229847669601 and parameters: {'alpha': 0.009426028155495673, 'lambda': 0.005308172755256298, 'gamma': 2, 'colsample_bytree': 0.5, 'subsample': 0.6, 'learning_rate': 0.1, 'n_estimators': 478, 'max_depth': 7, 'min_child_weight': 1}. Best is trial 71 with value: 130.86829733848572.\u001b[0m\n"
          ],
          "name": "stderr"
        },
        {
          "output_type": "stream",
          "text": [
            "[07:15:00] WARNING: /workspace/src/objective/regression_obj.cu:152: reg:linear is now deprecated in favor of reg:squarederror.\n"
          ],
          "name": "stdout"
        },
        {
          "output_type": "stream",
          "text": [
            "\u001b[32m[I 2021-07-18 07:15:00,932]\u001b[0m Trial 165 finished with value: 141.70578157901764 and parameters: {'alpha': 0.0058906813877122885, 'lambda': 0.004031971416172632, 'gamma': 2, 'colsample_bytree': 0.5, 'subsample': 0.6, 'learning_rate': 0.1, 'n_estimators': 499, 'max_depth': 7, 'min_child_weight': 6}. Best is trial 71 with value: 130.86829733848572.\u001b[0m\n"
          ],
          "name": "stderr"
        },
        {
          "output_type": "stream",
          "text": [
            "[07:15:00] WARNING: /workspace/src/objective/regression_obj.cu:152: reg:linear is now deprecated in favor of reg:squarederror.\n"
          ],
          "name": "stdout"
        },
        {
          "output_type": "stream",
          "text": [
            "\u001b[32m[I 2021-07-18 07:15:01,611]\u001b[0m Trial 166 finished with value: 133.31229847669601 and parameters: {'alpha': 0.009388443059480368, 'lambda': 0.0068670640400163175, 'gamma': 2, 'colsample_bytree': 0.5, 'subsample': 0.6, 'learning_rate': 0.1, 'n_estimators': 479, 'max_depth': 7, 'min_child_weight': 1}. Best is trial 71 with value: 130.86829733848572.\u001b[0m\n"
          ],
          "name": "stderr"
        },
        {
          "output_type": "stream",
          "text": [
            "[07:15:01] WARNING: /workspace/src/objective/regression_obj.cu:152: reg:linear is now deprecated in favor of reg:squarederror.\n"
          ],
          "name": "stdout"
        },
        {
          "output_type": "stream",
          "text": [
            "\u001b[32m[I 2021-07-18 07:15:02,297]\u001b[0m Trial 167 finished with value: 133.31229847669601 and parameters: {'alpha': 0.008182011373511495, 'lambda': 0.009231504979994334, 'gamma': 2, 'colsample_bytree': 0.5, 'subsample': 0.6, 'learning_rate': 0.1, 'n_estimators': 469, 'max_depth': 7, 'min_child_weight': 1}. Best is trial 71 with value: 130.86829733848572.\u001b[0m\n"
          ],
          "name": "stderr"
        },
        {
          "output_type": "stream",
          "text": [
            "[07:15:02] WARNING: /workspace/src/objective/regression_obj.cu:152: reg:linear is now deprecated in favor of reg:squarederror.\n"
          ],
          "name": "stdout"
        },
        {
          "output_type": "stream",
          "text": [
            "\u001b[32m[I 2021-07-18 07:15:02,945]\u001b[0m Trial 168 finished with value: 142.31187462806702 and parameters: {'alpha': 0.006828002994939012, 'lambda': 0.007233110550158285, 'gamma': 2, 'colsample_bytree': 0.5, 'subsample': 0.6, 'learning_rate': 0.08, 'n_estimators': 474, 'max_depth': 7, 'min_child_weight': 16}. Best is trial 71 with value: 130.86829733848572.\u001b[0m\n"
          ],
          "name": "stderr"
        },
        {
          "output_type": "stream",
          "text": [
            "[07:15:02] WARNING: /workspace/src/objective/regression_obj.cu:152: reg:linear is now deprecated in favor of reg:squarederror.\n"
          ],
          "name": "stdout"
        },
        {
          "output_type": "stream",
          "text": [
            "\u001b[32m[I 2021-07-18 07:15:03,486]\u001b[0m Trial 169 finished with value: 139.46974396705627 and parameters: {'alpha': 0.008444191397130029, 'lambda': 0.01235080660814759, 'gamma': 2, 'colsample_bytree': 0.5, 'subsample': 0.6, 'learning_rate': 0.1, 'n_estimators': 487, 'max_depth': 7, 'min_child_weight': 10}. Best is trial 71 with value: 130.86829733848572.\u001b[0m\n"
          ],
          "name": "stderr"
        },
        {
          "output_type": "stream",
          "text": [
            "[07:15:03] WARNING: /workspace/src/objective/regression_obj.cu:152: reg:linear is now deprecated in favor of reg:squarederror.\n"
          ],
          "name": "stdout"
        },
        {
          "output_type": "stream",
          "text": [
            "\u001b[32m[I 2021-07-18 07:15:04,387]\u001b[0m Trial 170 finished with value: 131.92791640758514 and parameters: {'alpha': 0.004002847157210927, 'lambda': 0.007909668099266092, 'gamma': 2, 'colsample_bytree': 0.5, 'subsample': 0.6, 'learning_rate': 0.04, 'n_estimators': 477, 'max_depth': 7, 'min_child_weight': 1}. Best is trial 71 with value: 130.86829733848572.\u001b[0m\n"
          ],
          "name": "stderr"
        },
        {
          "output_type": "stream",
          "text": [
            "[07:15:04] WARNING: /workspace/src/objective/regression_obj.cu:152: reg:linear is now deprecated in favor of reg:squarederror.\n"
          ],
          "name": "stdout"
        },
        {
          "output_type": "stream",
          "text": [
            "\u001b[32m[I 2021-07-18 07:15:05,276]\u001b[0m Trial 171 finished with value: 131.92791640758514 and parameters: {'alpha': 0.0031043488905205946, 'lambda': 0.010372858456356623, 'gamma': 2, 'colsample_bytree': 0.5, 'subsample': 0.6, 'learning_rate': 0.04, 'n_estimators': 507, 'max_depth': 7, 'min_child_weight': 1}. Best is trial 71 with value: 130.86829733848572.\u001b[0m\n"
          ],
          "name": "stderr"
        },
        {
          "output_type": "stream",
          "text": [
            "[07:15:05] WARNING: /workspace/src/objective/regression_obj.cu:152: reg:linear is now deprecated in favor of reg:squarederror.\n"
          ],
          "name": "stdout"
        },
        {
          "output_type": "stream",
          "text": [
            "\u001b[32m[I 2021-07-18 07:15:06,006]\u001b[0m Trial 172 finished with value: 140.09343868494034 and parameters: {'alpha': 0.004240166384267234, 'lambda': 0.009734473414843172, 'gamma': 2, 'colsample_bytree': 0.5, 'subsample': 0.6, 'learning_rate': 0.04, 'n_estimators': 493, 'max_depth': 7, 'min_child_weight': 6}. Best is trial 71 with value: 130.86829733848572.\u001b[0m\n"
          ],
          "name": "stderr"
        },
        {
          "output_type": "stream",
          "text": [
            "[07:15:06] WARNING: /workspace/src/objective/regression_obj.cu:152: reg:linear is now deprecated in favor of reg:squarederror.\n"
          ],
          "name": "stdout"
        },
        {
          "output_type": "stream",
          "text": [
            "\u001b[32m[I 2021-07-18 07:15:06,888]\u001b[0m Trial 173 finished with value: 131.92791640758514 and parameters: {'alpha': 0.00387410685414906, 'lambda': 0.01576060375164277, 'gamma': 2, 'colsample_bytree': 0.5, 'subsample': 0.6, 'learning_rate': 0.04, 'n_estimators': 480, 'max_depth': 7, 'min_child_weight': 1}. Best is trial 71 with value: 130.86829733848572.\u001b[0m\n"
          ],
          "name": "stderr"
        },
        {
          "output_type": "stream",
          "text": [
            "[07:15:06] WARNING: /workspace/src/objective/regression_obj.cu:152: reg:linear is now deprecated in favor of reg:squarederror.\n"
          ],
          "name": "stdout"
        },
        {
          "output_type": "stream",
          "text": [
            "\u001b[32m[I 2021-07-18 07:15:07,627]\u001b[0m Trial 174 finished with value: 140.01978385448456 and parameters: {'alpha': 0.003547603580330155, 'lambda': 0.01574216702540106, 'gamma': 2, 'colsample_bytree': 0.5, 'subsample': 0.6, 'learning_rate': 0.04, 'n_estimators': 475, 'max_depth': 7, 'min_child_weight': 13}. Best is trial 71 with value: 130.86829733848572.\u001b[0m\n"
          ],
          "name": "stderr"
        },
        {
          "output_type": "stream",
          "text": [
            "[07:15:07] WARNING: /workspace/src/objective/regression_obj.cu:152: reg:linear is now deprecated in favor of reg:squarederror.\n"
          ],
          "name": "stdout"
        },
        {
          "output_type": "stream",
          "text": [
            "\u001b[32m[I 2021-07-18 07:15:08,512]\u001b[0m Trial 175 finished with value: 131.92791640758514 and parameters: {'alpha': 0.004924100760682763, 'lambda': 0.011411211221220664, 'gamma': 2, 'colsample_bytree': 0.5, 'subsample': 0.6, 'learning_rate': 0.04, 'n_estimators': 505, 'max_depth': 7, 'min_child_weight': 1}. Best is trial 71 with value: 130.86829733848572.\u001b[0m\n"
          ],
          "name": "stderr"
        },
        {
          "output_type": "stream",
          "text": [
            "[07:15:08] WARNING: /workspace/src/objective/regression_obj.cu:152: reg:linear is now deprecated in favor of reg:squarederror.\n"
          ],
          "name": "stdout"
        },
        {
          "output_type": "stream",
          "text": [
            "\u001b[32m[I 2021-07-18 07:15:09,247]\u001b[0m Trial 176 finished with value: 140.73099553585052 and parameters: {'alpha': 0.0031720020525152224, 'lambda': 0.01096591684954831, 'gamma': 2, 'colsample_bytree': 0.5, 'subsample': 0.6, 'learning_rate': 0.04, 'n_estimators': 505, 'max_depth': 7, 'min_child_weight': 7}. Best is trial 71 with value: 130.86829733848572.\u001b[0m\n"
          ],
          "name": "stderr"
        },
        {
          "output_type": "stream",
          "text": [
            "[07:15:09] WARNING: /workspace/src/objective/regression_obj.cu:152: reg:linear is now deprecated in favor of reg:squarederror.\n"
          ],
          "name": "stdout"
        },
        {
          "output_type": "stream",
          "text": [
            "\u001b[32m[I 2021-07-18 07:15:10,127]\u001b[0m Trial 177 finished with value: 131.92791640758514 and parameters: {'alpha': 0.0046880091226099, 'lambda': 0.008603255103789412, 'gamma': 2, 'colsample_bytree': 0.5, 'subsample': 0.6, 'learning_rate': 0.04, 'n_estimators': 506, 'max_depth': 7, 'min_child_weight': 1}. Best is trial 71 with value: 130.86829733848572.\u001b[0m\n"
          ],
          "name": "stderr"
        },
        {
          "output_type": "stream",
          "text": [
            "[07:15:10] WARNING: /workspace/src/objective/regression_obj.cu:152: reg:linear is now deprecated in favor of reg:squarederror.\n"
          ],
          "name": "stdout"
        },
        {
          "output_type": "stream",
          "text": [
            "\u001b[32m[I 2021-07-18 07:15:11,041]\u001b[0m Trial 178 finished with value: 138.06350004673004 and parameters: {'alpha': 0.004214928278869987, 'lambda': 0.018756356061384347, 'gamma': 2, 'colsample_bytree': 0.5, 'subsample': 0.6, 'learning_rate': 0.04, 'n_estimators': 506, 'max_depth': 7, 'min_child_weight': 19}. Best is trial 71 with value: 130.86829733848572.\u001b[0m\n"
          ],
          "name": "stderr"
        },
        {
          "output_type": "stream",
          "text": [
            "[07:15:11] WARNING: /workspace/src/objective/regression_obj.cu:152: reg:linear is now deprecated in favor of reg:squarederror.\n"
          ],
          "name": "stdout"
        },
        {
          "output_type": "stream",
          "text": [
            "\u001b[32m[I 2021-07-18 07:15:11,779]\u001b[0m Trial 179 finished with value: 140.73099553585052 and parameters: {'alpha': 0.00479537079159739, 'lambda': 0.008520361077314279, 'gamma': 2, 'colsample_bytree': 0.5, 'subsample': 0.6, 'learning_rate': 0.04, 'n_estimators': 487, 'max_depth': 7, 'min_child_weight': 7}. Best is trial 71 with value: 130.86829733848572.\u001b[0m\n"
          ],
          "name": "stderr"
        },
        {
          "output_type": "stream",
          "text": [
            "[07:15:11] WARNING: /workspace/src/objective/regression_obj.cu:152: reg:linear is now deprecated in favor of reg:squarederror.\n"
          ],
          "name": "stdout"
        },
        {
          "output_type": "stream",
          "text": [
            "\u001b[32m[I 2021-07-18 07:15:12,662]\u001b[0m Trial 180 finished with value: 131.92791640758514 and parameters: {'alpha': 0.005896041420457296, 'lambda': 0.014491120982780088, 'gamma': 2, 'colsample_bytree': 0.5, 'subsample': 0.6, 'learning_rate': 0.04, 'n_estimators': 477, 'max_depth': 7, 'min_child_weight': 1}. Best is trial 71 with value: 130.86829733848572.\u001b[0m\n"
          ],
          "name": "stderr"
        },
        {
          "output_type": "stream",
          "text": [
            "[07:15:12] WARNING: /workspace/src/objective/regression_obj.cu:152: reg:linear is now deprecated in favor of reg:squarederror.\n"
          ],
          "name": "stdout"
        },
        {
          "output_type": "stream",
          "text": [
            "\u001b[32m[I 2021-07-18 07:15:13,553]\u001b[0m Trial 181 finished with value: 131.92791640758514 and parameters: {'alpha': 0.0062849130658559635, 'lambda': 0.008806277224620048, 'gamma': 2, 'colsample_bytree': 0.5, 'subsample': 0.6, 'learning_rate': 0.04, 'n_estimators': 474, 'max_depth': 7, 'min_child_weight': 1}. Best is trial 71 with value: 130.86829733848572.\u001b[0m\n"
          ],
          "name": "stderr"
        },
        {
          "output_type": "stream",
          "text": [
            "[07:15:13] WARNING: /workspace/src/objective/regression_obj.cu:152: reg:linear is now deprecated in favor of reg:squarederror.\n"
          ],
          "name": "stdout"
        },
        {
          "output_type": "stream",
          "text": [
            "\u001b[32m[I 2021-07-18 07:15:14,439]\u001b[0m Trial 182 finished with value: 131.92791640758514 and parameters: {'alpha': 0.006184038183555265, 'lambda': 0.012997171618359928, 'gamma': 2, 'colsample_bytree': 0.5, 'subsample': 0.6, 'learning_rate': 0.04, 'n_estimators': 477, 'max_depth': 7, 'min_child_weight': 1}. Best is trial 71 with value: 130.86829733848572.\u001b[0m\n"
          ],
          "name": "stderr"
        },
        {
          "output_type": "stream",
          "text": [
            "[07:15:14] WARNING: /workspace/src/objective/regression_obj.cu:152: reg:linear is now deprecated in favor of reg:squarederror.\n"
          ],
          "name": "stdout"
        },
        {
          "output_type": "stream",
          "text": [
            "\u001b[32m[I 2021-07-18 07:15:15,325]\u001b[0m Trial 183 finished with value: 131.92791640758514 and parameters: {'alpha': 0.005568765113318433, 'lambda': 0.012138907131804358, 'gamma': 2, 'colsample_bytree': 0.5, 'subsample': 0.6, 'learning_rate': 0.04, 'n_estimators': 465, 'max_depth': 7, 'min_child_weight': 1}. Best is trial 71 with value: 130.86829733848572.\u001b[0m\n"
          ],
          "name": "stderr"
        },
        {
          "output_type": "stream",
          "text": [
            "[07:15:15] WARNING: /workspace/src/objective/regression_obj.cu:152: reg:linear is now deprecated in favor of reg:squarederror.\n"
          ],
          "name": "stdout"
        },
        {
          "output_type": "stream",
          "text": [
            "\u001b[32m[I 2021-07-18 07:15:16,261]\u001b[0m Trial 184 finished with value: 138.78277277946472 and parameters: {'alpha': 0.006058213365731304, 'lambda': 0.013100522935066932, 'gamma': 2, 'colsample_bytree': 0.5, 'subsample': 0.6, 'learning_rate': 0.04, 'n_estimators': 478, 'max_depth': 7, 'min_child_weight': 12}. Best is trial 71 with value: 130.86829733848572.\u001b[0m\n"
          ],
          "name": "stderr"
        },
        {
          "output_type": "stream",
          "text": [
            "[07:15:16] WARNING: /workspace/src/objective/regression_obj.cu:152: reg:linear is now deprecated in favor of reg:squarederror.\n"
          ],
          "name": "stdout"
        },
        {
          "output_type": "stream",
          "text": [
            "\u001b[32m[I 2021-07-18 07:15:17,143]\u001b[0m Trial 185 finished with value: 131.92791640758514 and parameters: {'alpha': 0.0027615300666100602, 'lambda': 0.015031413930192737, 'gamma': 2, 'colsample_bytree': 0.5, 'subsample': 0.6, 'learning_rate': 0.04, 'n_estimators': 467, 'max_depth': 7, 'min_child_weight': 1}. Best is trial 71 with value: 130.86829733848572.\u001b[0m\n"
          ],
          "name": "stderr"
        },
        {
          "output_type": "stream",
          "text": [
            "[07:15:17] WARNING: /workspace/src/objective/regression_obj.cu:152: reg:linear is now deprecated in favor of reg:squarederror.\n"
          ],
          "name": "stdout"
        },
        {
          "output_type": "stream",
          "text": [
            "\u001b[32m[I 2021-07-18 07:15:18,029]\u001b[0m Trial 186 finished with value: 131.92791640758514 and parameters: {'alpha': 0.003668112378422637, 'lambda': 0.021563673724923245, 'gamma': 2, 'colsample_bytree': 0.5, 'subsample': 0.6, 'learning_rate': 0.04, 'n_estimators': 465, 'max_depth': 7, 'min_child_weight': 1}. Best is trial 71 with value: 130.86829733848572.\u001b[0m\n"
          ],
          "name": "stderr"
        },
        {
          "output_type": "stream",
          "text": [
            "[07:15:18] WARNING: /workspace/src/objective/regression_obj.cu:152: reg:linear is now deprecated in favor of reg:squarederror.\n"
          ],
          "name": "stdout"
        },
        {
          "output_type": "stream",
          "text": [
            "\u001b[32m[I 2021-07-18 07:15:18,770]\u001b[0m Trial 187 finished with value: 144.7807755470276 and parameters: {'alpha': 0.003600608399990153, 'lambda': 0.01710750462040587, 'gamma': 2, 'colsample_bytree': 0.5, 'subsample': 0.6, 'learning_rate': 0.04, 'n_estimators': 463, 'max_depth': 7, 'min_child_weight': 11}. Best is trial 71 with value: 130.86829733848572.\u001b[0m\n"
          ],
          "name": "stderr"
        },
        {
          "output_type": "stream",
          "text": [
            "[07:15:18] WARNING: /workspace/src/objective/regression_obj.cu:152: reg:linear is now deprecated in favor of reg:squarederror.\n"
          ],
          "name": "stdout"
        },
        {
          "output_type": "stream",
          "text": [
            "\u001b[32m[I 2021-07-18 07:15:19,680]\u001b[0m Trial 188 finished with value: 138.5644234418869 and parameters: {'alpha': 0.002931575204586569, 'lambda': 0.021825127178212046, 'gamma': 2, 'colsample_bytree': 0.5, 'subsample': 0.6, 'learning_rate': 0.04, 'n_estimators': 450, 'max_depth': 7, 'min_child_weight': 17}. Best is trial 71 with value: 130.86829733848572.\u001b[0m\n"
          ],
          "name": "stderr"
        },
        {
          "output_type": "stream",
          "text": [
            "[07:15:19] WARNING: /workspace/src/objective/regression_obj.cu:152: reg:linear is now deprecated in favor of reg:squarederror.\n"
          ],
          "name": "stdout"
        },
        {
          "output_type": "stream",
          "text": [
            "\u001b[32m[I 2021-07-18 07:15:20,562]\u001b[0m Trial 189 finished with value: 131.92791640758514 and parameters: {'alpha': 0.004728966180199168, 'lambda': 0.014150172755003802, 'gamma': 2, 'colsample_bytree': 0.5, 'subsample': 0.6, 'learning_rate': 0.04, 'n_estimators': 477, 'max_depth': 7, 'min_child_weight': 1}. Best is trial 71 with value: 130.86829733848572.\u001b[0m\n"
          ],
          "name": "stderr"
        },
        {
          "output_type": "stream",
          "text": [
            "[07:15:20] WARNING: /workspace/src/objective/regression_obj.cu:152: reg:linear is now deprecated in favor of reg:squarederror.\n"
          ],
          "name": "stdout"
        },
        {
          "output_type": "stream",
          "text": [
            "\u001b[32m[I 2021-07-18 07:15:21,303]\u001b[0m Trial 190 finished with value: 140.73099553585052 and parameters: {'alpha': 0.005620176185110336, 'lambda': 0.01364069203697167, 'gamma': 2, 'colsample_bytree': 0.5, 'subsample': 0.6, 'learning_rate': 0.04, 'n_estimators': 465, 'max_depth': 7, 'min_child_weight': 7}. Best is trial 71 with value: 130.86829733848572.\u001b[0m\n"
          ],
          "name": "stderr"
        },
        {
          "output_type": "stream",
          "text": [
            "[07:15:21] WARNING: /workspace/src/objective/regression_obj.cu:152: reg:linear is now deprecated in favor of reg:squarederror.\n"
          ],
          "name": "stdout"
        },
        {
          "output_type": "stream",
          "text": [
            "\u001b[32m[I 2021-07-18 07:15:22,045]\u001b[0m Trial 191 finished with value: 140.09343868494034 and parameters: {'alpha': 0.004248757813776427, 'lambda': 0.012759407055751754, 'gamma': 2, 'colsample_bytree': 0.5, 'subsample': 0.6, 'learning_rate': 0.04, 'n_estimators': 486, 'max_depth': 7, 'min_child_weight': 6}. Best is trial 71 with value: 130.86829733848572.\u001b[0m\n"
          ],
          "name": "stderr"
        },
        {
          "output_type": "stream",
          "text": [
            "[07:15:22] WARNING: /workspace/src/objective/regression_obj.cu:152: reg:linear is now deprecated in favor of reg:squarederror.\n"
          ],
          "name": "stdout"
        },
        {
          "output_type": "stream",
          "text": [
            "\u001b[32m[I 2021-07-18 07:15:22,873]\u001b[0m Trial 192 finished with value: 134.6722742319107 and parameters: {'alpha': 0.002531040427987077, 'lambda': 0.02843400401925677, 'gamma': 2, 'colsample_bytree': 0.5, 'subsample': 0.6, 'learning_rate': 0.04, 'n_estimators': 476, 'max_depth': 7, 'min_child_weight': 2}. Best is trial 71 with value: 130.86829733848572.\u001b[0m\n"
          ],
          "name": "stderr"
        },
        {
          "output_type": "stream",
          "text": [
            "[07:15:22] WARNING: /workspace/src/objective/regression_obj.cu:152: reg:linear is now deprecated in favor of reg:squarederror.\n"
          ],
          "name": "stdout"
        },
        {
          "output_type": "stream",
          "text": [
            "\u001b[32m[I 2021-07-18 07:15:23,759]\u001b[0m Trial 193 finished with value: 131.92791640758514 and parameters: {'alpha': 0.006641372290359213, 'lambda': 0.018639583761172324, 'gamma': 2, 'colsample_bytree': 0.5, 'subsample': 0.6, 'learning_rate': 0.04, 'n_estimators': 461, 'max_depth': 7, 'min_child_weight': 1}. Best is trial 71 with value: 130.86829733848572.\u001b[0m\n"
          ],
          "name": "stderr"
        },
        {
          "output_type": "stream",
          "text": [
            "[07:15:23] WARNING: /workspace/src/objective/regression_obj.cu:152: reg:linear is now deprecated in favor of reg:squarederror.\n"
          ],
          "name": "stdout"
        },
        {
          "output_type": "stream",
          "text": [
            "\u001b[32m[I 2021-07-18 07:15:24,702]\u001b[0m Trial 194 finished with value: 138.78277277946472 and parameters: {'alpha': 0.0066294979921034895, 'lambda': 0.02112802549992762, 'gamma': 2, 'colsample_bytree': 0.5, 'subsample': 0.6, 'learning_rate': 0.04, 'n_estimators': 494, 'max_depth': 7, 'min_child_weight': 12}. Best is trial 71 with value: 130.86829733848572.\u001b[0m\n"
          ],
          "name": "stderr"
        },
        {
          "output_type": "stream",
          "text": [
            "[07:15:24] WARNING: /workspace/src/objective/regression_obj.cu:152: reg:linear is now deprecated in favor of reg:squarederror.\n"
          ],
          "name": "stdout"
        },
        {
          "output_type": "stream",
          "text": [
            "\u001b[32m[I 2021-07-18 07:15:25,592]\u001b[0m Trial 195 finished with value: 131.92791640758514 and parameters: {'alpha': 0.004987867883579918, 'lambda': 0.010525768348002264, 'gamma': 2, 'colsample_bytree': 0.5, 'subsample': 0.6, 'learning_rate': 0.04, 'n_estimators': 454, 'max_depth': 7, 'min_child_weight': 1}. Best is trial 71 with value: 130.86829733848572.\u001b[0m\n"
          ],
          "name": "stderr"
        },
        {
          "output_type": "stream",
          "text": [
            "[07:15:25] WARNING: /workspace/src/objective/regression_obj.cu:152: reg:linear is now deprecated in favor of reg:squarederror.\n"
          ],
          "name": "stdout"
        },
        {
          "output_type": "stream",
          "text": [
            "\u001b[32m[I 2021-07-18 07:15:26,473]\u001b[0m Trial 196 finished with value: 131.92791640758514 and parameters: {'alpha': 0.004834025813545945, 'lambda': 0.015401296735579285, 'gamma': 2, 'colsample_bytree': 0.5, 'subsample': 0.6, 'learning_rate': 0.04, 'n_estimators': 458, 'max_depth': 7, 'min_child_weight': 1}. Best is trial 71 with value: 130.86829733848572.\u001b[0m\n"
          ],
          "name": "stderr"
        },
        {
          "output_type": "stream",
          "text": [
            "[07:15:26] WARNING: /workspace/src/objective/regression_obj.cu:152: reg:linear is now deprecated in favor of reg:squarederror.\n"
          ],
          "name": "stdout"
        },
        {
          "output_type": "stream",
          "text": [
            "\u001b[32m[I 2021-07-18 07:15:27,174]\u001b[0m Trial 197 finished with value: 142.9519534111023 and parameters: {'alpha': 0.0052746214461701114, 'lambda': 0.01107402126835125, 'gamma': 2, 'colsample_bytree': 0.5, 'subsample': 0.6, 'learning_rate': 0.04, 'n_estimators': 454, 'max_depth': 7, 'min_child_weight': 8}. Best is trial 71 with value: 130.86829733848572.\u001b[0m\n"
          ],
          "name": "stderr"
        },
        {
          "output_type": "stream",
          "text": [
            "[07:15:27] WARNING: /workspace/src/objective/regression_obj.cu:152: reg:linear is now deprecated in favor of reg:squarederror.\n"
          ],
          "name": "stdout"
        },
        {
          "output_type": "stream",
          "text": [
            "\u001b[32m[I 2021-07-18 07:15:28,094]\u001b[0m Trial 198 finished with value: 136.03280806541443 and parameters: {'alpha': 0.004685525426389682, 'lambda': 0.03581760900835537, 'gamma': 2, 'colsample_bytree': 0.5, 'subsample': 0.6, 'learning_rate': 0.04, 'n_estimators': 437, 'max_depth': 7, 'min_child_weight': 15}. Best is trial 71 with value: 130.86829733848572.\u001b[0m\n"
          ],
          "name": "stderr"
        },
        {
          "output_type": "stream",
          "text": [
            "[07:15:28] WARNING: /workspace/src/objective/regression_obj.cu:152: reg:linear is now deprecated in favor of reg:squarederror.\n"
          ],
          "name": "stdout"
        },
        {
          "output_type": "stream",
          "text": [
            "\u001b[32m[I 2021-07-18 07:15:28,818]\u001b[0m Trial 199 finished with value: 140.09343868494034 and parameters: {'alpha': 0.0036638278807738147, 'lambda': 0.0154873700417291, 'gamma': 2, 'colsample_bytree': 0.5, 'subsample': 0.6, 'learning_rate': 0.04, 'n_estimators': 468, 'max_depth': 7, 'min_child_weight': 6}. Best is trial 71 with value: 130.86829733848572.\u001b[0m\n"
          ],
          "name": "stderr"
        },
        {
          "output_type": "stream",
          "text": [
            "[07:15:28] WARNING: /workspace/src/objective/regression_obj.cu:152: reg:linear is now deprecated in favor of reg:squarederror.\n"
          ],
          "name": "stdout"
        },
        {
          "output_type": "stream",
          "text": [
            "\u001b[32m[I 2021-07-18 07:15:29,686]\u001b[0m Trial 200 finished with value: 131.92791640758514 and parameters: {'alpha': 0.0057257318901034835, 'lambda': 0.009019457640705504, 'gamma': 2, 'colsample_bytree': 0.5, 'subsample': 0.6, 'learning_rate': 0.04, 'n_estimators': 453, 'max_depth': 7, 'min_child_weight': 1}. Best is trial 71 with value: 130.86829733848572.\u001b[0m\n"
          ],
          "name": "stderr"
        },
        {
          "output_type": "stream",
          "text": [
            "[07:15:29] WARNING: /workspace/src/objective/regression_obj.cu:152: reg:linear is now deprecated in favor of reg:squarederror.\n"
          ],
          "name": "stdout"
        },
        {
          "output_type": "stream",
          "text": [
            "\u001b[32m[I 2021-07-18 07:15:30,555]\u001b[0m Trial 201 finished with value: 131.92791640758514 and parameters: {'alpha': 0.002977915624964611, 'lambda': 0.011230161043373873, 'gamma': 2, 'colsample_bytree': 0.5, 'subsample': 0.6, 'learning_rate': 0.04, 'n_estimators': 455, 'max_depth': 7, 'min_child_weight': 1}. Best is trial 71 with value: 130.86829733848572.\u001b[0m\n"
          ],
          "name": "stderr"
        },
        {
          "output_type": "stream",
          "text": [
            "[07:15:30] WARNING: /workspace/src/objective/regression_obj.cu:152: reg:linear is now deprecated in favor of reg:squarederror.\n"
          ],
          "name": "stdout"
        },
        {
          "output_type": "stream",
          "text": [
            "\u001b[32m[I 2021-07-18 07:15:31,430]\u001b[0m Trial 202 finished with value: 131.92791640758514 and parameters: {'alpha': 0.0032624752462964614, 'lambda': 0.01869034459627737, 'gamma': 2, 'colsample_bytree': 0.5, 'subsample': 0.6, 'learning_rate': 0.04, 'n_estimators': 448, 'max_depth': 7, 'min_child_weight': 1}. Best is trial 71 with value: 130.86829733848572.\u001b[0m\n"
          ],
          "name": "stderr"
        },
        {
          "output_type": "stream",
          "text": [
            "[07:15:31] WARNING: /workspace/src/objective/regression_obj.cu:152: reg:linear is now deprecated in favor of reg:squarederror.\n"
          ],
          "name": "stdout"
        },
        {
          "output_type": "stream",
          "text": [
            "\u001b[32m[I 2021-07-18 07:15:32,160]\u001b[0m Trial 203 finished with value: 144.7807755470276 and parameters: {'alpha': 0.002920679347806273, 'lambda': 0.01865579847937563, 'gamma': 2, 'colsample_bytree': 0.5, 'subsample': 0.6, 'learning_rate': 0.04, 'n_estimators': 449, 'max_depth': 7, 'min_child_weight': 11}. Best is trial 71 with value: 130.86829733848572.\u001b[0m\n"
          ],
          "name": "stderr"
        },
        {
          "output_type": "stream",
          "text": [
            "[07:15:32] WARNING: /workspace/src/objective/regression_obj.cu:152: reg:linear is now deprecated in favor of reg:squarederror.\n"
          ],
          "name": "stdout"
        },
        {
          "output_type": "stream",
          "text": [
            "\u001b[32m[I 2021-07-18 07:15:32,888]\u001b[0m Trial 204 finished with value: 140.73099553585052 and parameters: {'alpha': 0.00389016179507748, 'lambda': 0.015180489225701562, 'gamma': 2, 'colsample_bytree': 0.5, 'subsample': 0.6, 'learning_rate': 0.04, 'n_estimators': 457, 'max_depth': 7, 'min_child_weight': 7}. Best is trial 71 with value: 130.86829733848572.\u001b[0m\n"
          ],
          "name": "stderr"
        },
        {
          "output_type": "stream",
          "text": [
            "[07:15:32] WARNING: /workspace/src/objective/regression_obj.cu:152: reg:linear is now deprecated in favor of reg:squarederror.\n"
          ],
          "name": "stdout"
        },
        {
          "output_type": "stream",
          "text": [
            "\u001b[32m[I 2021-07-18 07:15:33,762]\u001b[0m Trial 205 finished with value: 131.92791640758514 and parameters: {'alpha': 0.005682685646844069, 'lambda': 0.02470770692949548, 'gamma': 2, 'colsample_bytree': 0.5, 'subsample': 0.6, 'learning_rate': 0.04, 'n_estimators': 435, 'max_depth': 7, 'min_child_weight': 1}. Best is trial 71 with value: 130.86829733848572.\u001b[0m\n"
          ],
          "name": "stderr"
        },
        {
          "output_type": "stream",
          "text": [
            "[07:15:33] WARNING: /workspace/src/objective/regression_obj.cu:152: reg:linear is now deprecated in favor of reg:squarederror.\n"
          ],
          "name": "stdout"
        },
        {
          "output_type": "stream",
          "text": [
            "\u001b[32m[I 2021-07-18 07:15:34,670]\u001b[0m Trial 206 finished with value: 138.5644234418869 and parameters: {'alpha': 0.005898192437126358, 'lambda': 0.0115255283953734, 'gamma': 2, 'colsample_bytree': 0.5, 'subsample': 0.6, 'learning_rate': 0.04, 'n_estimators': 434, 'max_depth': 7, 'min_child_weight': 17}. Best is trial 71 with value: 130.86829733848572.\u001b[0m\n"
          ],
          "name": "stderr"
        },
        {
          "output_type": "stream",
          "text": [
            "[07:15:34] WARNING: /workspace/src/objective/regression_obj.cu:152: reg:linear is now deprecated in favor of reg:squarederror.\n"
          ],
          "name": "stdout"
        },
        {
          "output_type": "stream",
          "text": [
            "\u001b[32m[I 2021-07-18 07:15:35,550]\u001b[0m Trial 207 finished with value: 131.92791640758514 and parameters: {'alpha': 0.0033564885832935193, 'lambda': 0.022569401769988128, 'gamma': 2, 'colsample_bytree': 0.5, 'subsample': 0.6, 'learning_rate': 0.04, 'n_estimators': 427, 'max_depth': 7, 'min_child_weight': 1}. Best is trial 71 with value: 130.86829733848572.\u001b[0m\n"
          ],
          "name": "stderr"
        },
        {
          "output_type": "stream",
          "text": [
            "[07:15:35] WARNING: /workspace/src/objective/regression_obj.cu:152: reg:linear is now deprecated in favor of reg:squarederror.\n"
          ],
          "name": "stdout"
        },
        {
          "output_type": "stream",
          "text": [
            "\u001b[32m[I 2021-07-18 07:15:36,439]\u001b[0m Trial 208 finished with value: 131.92791640758514 and parameters: {'alpha': 0.0035147360970451576, 'lambda': 0.0247631055936384, 'gamma': 2, 'colsample_bytree': 0.5, 'subsample': 0.6, 'learning_rate': 0.04, 'n_estimators': 425, 'max_depth': 7, 'min_child_weight': 1}. Best is trial 71 with value: 130.86829733848572.\u001b[0m\n"
          ],
          "name": "stderr"
        },
        {
          "output_type": "stream",
          "text": [
            "[07:15:36] WARNING: /workspace/src/objective/regression_obj.cu:152: reg:linear is now deprecated in favor of reg:squarederror.\n"
          ],
          "name": "stdout"
        },
        {
          "output_type": "stream",
          "text": [
            "\u001b[32m[I 2021-07-18 07:15:37,140]\u001b[0m Trial 209 finished with value: 146.34070253372192 and parameters: {'alpha': 0.0032701195543736374, 'lambda': 0.02456888269352045, 'gamma': 2, 'colsample_bytree': 0.5, 'subsample': 0.6, 'learning_rate': 0.04, 'n_estimators': 430, 'max_depth': 7, 'min_child_weight': 9}. Best is trial 71 with value: 130.86829733848572.\u001b[0m\n"
          ],
          "name": "stderr"
        },
        {
          "output_type": "stream",
          "text": [
            "[07:15:37] WARNING: /workspace/src/objective/regression_obj.cu:152: reg:linear is now deprecated in favor of reg:squarederror.\n"
          ],
          "name": "stdout"
        },
        {
          "output_type": "stream",
          "text": [
            "\u001b[32m[I 2021-07-18 07:15:38,037]\u001b[0m Trial 210 finished with value: 138.9147890806198 and parameters: {'alpha': 0.003970100552069502, 'lambda': 0.022369536094816792, 'gamma': 2, 'colsample_bytree': 0.5, 'subsample': 0.6, 'learning_rate': 0.04, 'n_estimators': 419, 'max_depth': 7, 'min_child_weight': 23}. Best is trial 71 with value: 130.86829733848572.\u001b[0m\n"
          ],
          "name": "stderr"
        },
        {
          "output_type": "stream",
          "text": [
            "[07:15:38] WARNING: /workspace/src/objective/regression_obj.cu:152: reg:linear is now deprecated in favor of reg:squarederror.\n"
          ],
          "name": "stdout"
        },
        {
          "output_type": "stream",
          "text": [
            "\u001b[32m[I 2021-07-18 07:15:38,930]\u001b[0m Trial 211 finished with value: 131.92791640758514 and parameters: {'alpha': 0.0025890870945712956, 'lambda': 0.018249424372153093, 'gamma': 2, 'colsample_bytree': 0.5, 'subsample': 0.6, 'learning_rate': 0.04, 'n_estimators': 444, 'max_depth': 7, 'min_child_weight': 1}. Best is trial 71 with value: 130.86829733848572.\u001b[0m\n"
          ],
          "name": "stderr"
        },
        {
          "output_type": "stream",
          "text": [
            "[07:15:38] WARNING: /workspace/src/objective/regression_obj.cu:152: reg:linear is now deprecated in favor of reg:squarederror.\n"
          ],
          "name": "stdout"
        },
        {
          "output_type": "stream",
          "text": [
            "\u001b[32m[I 2021-07-18 07:15:39,815]\u001b[0m Trial 212 finished with value: 131.92791640758514 and parameters: {'alpha': 0.004598496680136321, 'lambda': 0.03646492523066008, 'gamma': 2, 'colsample_bytree': 0.5, 'subsample': 0.6, 'learning_rate': 0.04, 'n_estimators': 427, 'max_depth': 7, 'min_child_weight': 1}. Best is trial 71 with value: 130.86829733848572.\u001b[0m\n"
          ],
          "name": "stderr"
        },
        {
          "output_type": "stream",
          "text": [
            "[07:15:39] WARNING: /workspace/src/objective/regression_obj.cu:152: reg:linear is now deprecated in favor of reg:squarederror.\n"
          ],
          "name": "stdout"
        },
        {
          "output_type": "stream",
          "text": [
            "\u001b[32m[I 2021-07-18 07:15:40,552]\u001b[0m Trial 213 finished with value: 140.73099553585052 and parameters: {'alpha': 0.0030310039305863354, 'lambda': 0.03519588140374138, 'gamma': 2, 'colsample_bytree': 0.5, 'subsample': 0.6, 'learning_rate': 0.04, 'n_estimators': 422, 'max_depth': 7, 'min_child_weight': 7}. Best is trial 71 with value: 130.86829733848572.\u001b[0m\n"
          ],
          "name": "stderr"
        },
        {
          "output_type": "stream",
          "text": [
            "[07:15:40] WARNING: /workspace/src/objective/regression_obj.cu:152: reg:linear is now deprecated in favor of reg:squarederror.\n"
          ],
          "name": "stdout"
        },
        {
          "output_type": "stream",
          "text": [
            "\u001b[32m[I 2021-07-18 07:15:41,439]\u001b[0m Trial 214 finished with value: 131.92791640758514 and parameters: {'alpha': 0.005109937558507593, 'lambda': 0.013428309515160372, 'gamma': 2, 'colsample_bytree': 0.5, 'subsample': 0.6, 'learning_rate': 0.04, 'n_estimators': 452, 'max_depth': 7, 'min_child_weight': 1}. Best is trial 71 with value: 130.86829733848572.\u001b[0m\n"
          ],
          "name": "stderr"
        },
        {
          "output_type": "stream",
          "text": [
            "[07:15:41] WARNING: /workspace/src/objective/regression_obj.cu:152: reg:linear is now deprecated in favor of reg:squarederror.\n"
          ],
          "name": "stdout"
        },
        {
          "output_type": "stream",
          "text": [
            "\u001b[32m[I 2021-07-18 07:15:42,379]\u001b[0m Trial 215 finished with value: 138.78277277946472 and parameters: {'alpha': 0.004741500860754537, 'lambda': 0.014130096461589716, 'gamma': 2, 'colsample_bytree': 0.5, 'subsample': 0.6, 'learning_rate': 0.04, 'n_estimators': 461, 'max_depth': 7, 'min_child_weight': 12}. Best is trial 71 with value: 130.86829733848572.\u001b[0m\n"
          ],
          "name": "stderr"
        },
        {
          "output_type": "stream",
          "text": [
            "[07:15:42] WARNING: /workspace/src/objective/regression_obj.cu:152: reg:linear is now deprecated in favor of reg:squarederror.\n"
          ],
          "name": "stdout"
        },
        {
          "output_type": "stream",
          "text": [
            "\u001b[32m[I 2021-07-18 07:15:43,268]\u001b[0m Trial 216 finished with value: 131.92791640758514 and parameters: {'alpha': 0.006858064746967449, 'lambda': 0.009775788545523847, 'gamma': 2, 'colsample_bytree': 0.5, 'subsample': 0.6, 'learning_rate': 0.04, 'n_estimators': 454, 'max_depth': 7, 'min_child_weight': 1}. Best is trial 71 with value: 130.86829733848572.\u001b[0m\n"
          ],
          "name": "stderr"
        },
        {
          "output_type": "stream",
          "text": [
            "[07:15:43] WARNING: /workspace/src/objective/regression_obj.cu:152: reg:linear is now deprecated in favor of reg:squarederror.\n"
          ],
          "name": "stdout"
        },
        {
          "output_type": "stream",
          "text": [
            "\u001b[32m[I 2021-07-18 07:15:43,942]\u001b[0m Trial 217 finished with value: 139.6974401473999 and parameters: {'alpha': 0.0025005284911890635, 'lambda': 0.018758431849691636, 'gamma': 2, 'colsample_bytree': 0.5, 'subsample': 0.6, 'learning_rate': 0.04, 'n_estimators': 450, 'max_depth': 5, 'min_child_weight': 6}. Best is trial 71 with value: 130.86829733848572.\u001b[0m\n"
          ],
          "name": "stderr"
        },
        {
          "output_type": "stream",
          "text": [
            "[07:15:43] WARNING: /workspace/src/objective/regression_obj.cu:152: reg:linear is now deprecated in favor of reg:squarederror.\n"
          ],
          "name": "stdout"
        },
        {
          "output_type": "stream",
          "text": [
            "\u001b[32m[I 2021-07-18 07:15:44,828]\u001b[0m Trial 218 finished with value: 131.92791640758514 and parameters: {'alpha': 0.006838406624453052, 'lambda': 0.017941152263494072, 'gamma': 2, 'colsample_bytree': 0.5, 'subsample': 0.6, 'learning_rate': 0.04, 'n_estimators': 445, 'max_depth': 7, 'min_child_weight': 1}. Best is trial 71 with value: 130.86829733848572.\u001b[0m\n"
          ],
          "name": "stderr"
        },
        {
          "output_type": "stream",
          "text": [
            "[07:15:44] WARNING: /workspace/src/objective/regression_obj.cu:152: reg:linear is now deprecated in favor of reg:squarederror.\n"
          ],
          "name": "stdout"
        },
        {
          "output_type": "stream",
          "text": [
            "\u001b[32m[I 2021-07-18 07:15:45,767]\u001b[0m Trial 219 finished with value: 138.78277277946472 and parameters: {'alpha': 0.0055582583082959235, 'lambda': 0.021010753451168863, 'gamma': 2, 'colsample_bytree': 0.5, 'subsample': 0.6, 'learning_rate': 0.04, 'n_estimators': 437, 'max_depth': 7, 'min_child_weight': 12}. Best is trial 71 with value: 130.86829733848572.\u001b[0m\n"
          ],
          "name": "stderr"
        },
        {
          "output_type": "stream",
          "text": [
            "[07:15:45] WARNING: /workspace/src/objective/regression_obj.cu:152: reg:linear is now deprecated in favor of reg:squarederror.\n"
          ],
          "name": "stdout"
        },
        {
          "output_type": "stream",
          "text": [
            "\u001b[32m[I 2021-07-18 07:15:46,500]\u001b[0m Trial 220 finished with value: 140.09343868494034 and parameters: {'alpha': 0.007010658489069249, 'lambda': 0.05788012228712921, 'gamma': 2, 'colsample_bytree': 0.5, 'subsample': 0.6, 'learning_rate': 0.04, 'n_estimators': 466, 'max_depth': 7, 'min_child_weight': 6}. Best is trial 71 with value: 130.86829733848572.\u001b[0m\n"
          ],
          "name": "stderr"
        },
        {
          "output_type": "stream",
          "text": [
            "[07:15:46] WARNING: /workspace/src/objective/regression_obj.cu:152: reg:linear is now deprecated in favor of reg:squarederror.\n"
          ],
          "name": "stdout"
        },
        {
          "output_type": "stream",
          "text": [
            "\u001b[32m[I 2021-07-18 07:15:47,386]\u001b[0m Trial 221 finished with value: 131.92791640758514 and parameters: {'alpha': 0.00666220812871796, 'lambda': 0.016137564914122993, 'gamma': 2, 'colsample_bytree': 0.5, 'subsample': 0.6, 'learning_rate': 0.04, 'n_estimators': 442, 'max_depth': 7, 'min_child_weight': 1}. Best is trial 71 with value: 130.86829733848572.\u001b[0m\n"
          ],
          "name": "stderr"
        },
        {
          "output_type": "stream",
          "text": [
            "[07:15:47] WARNING: /workspace/src/objective/regression_obj.cu:152: reg:linear is now deprecated in favor of reg:squarederror.\n"
          ],
          "name": "stdout"
        },
        {
          "output_type": "stream",
          "text": [
            "\u001b[32m[I 2021-07-18 07:15:48,267]\u001b[0m Trial 222 finished with value: 131.92791640758514 and parameters: {'alpha': 0.004185581116586977, 'lambda': 0.010947457879684756, 'gamma': 2, 'colsample_bytree': 0.5, 'subsample': 0.6, 'learning_rate': 0.04, 'n_estimators': 469, 'max_depth': 7, 'min_child_weight': 1}. Best is trial 71 with value: 130.86829733848572.\u001b[0m\n"
          ],
          "name": "stderr"
        },
        {
          "output_type": "stream",
          "text": [
            "[07:15:48] WARNING: /workspace/src/objective/regression_obj.cu:152: reg:linear is now deprecated in favor of reg:squarederror.\n"
          ],
          "name": "stdout"
        },
        {
          "output_type": "stream",
          "text": [
            "\u001b[32m[I 2021-07-18 07:15:49,158]\u001b[0m Trial 223 finished with value: 131.92791640758514 and parameters: {'alpha': 0.0041131304928895525, 'lambda': 0.008599494314373735, 'gamma': 2, 'colsample_bytree': 0.5, 'subsample': 0.6, 'learning_rate': 0.04, 'n_estimators': 470, 'max_depth': 7, 'min_child_weight': 1}. Best is trial 71 with value: 130.86829733848572.\u001b[0m\n"
          ],
          "name": "stderr"
        },
        {
          "output_type": "stream",
          "text": [
            "[07:15:49] WARNING: /workspace/src/objective/regression_obj.cu:152: reg:linear is now deprecated in favor of reg:squarederror.\n"
          ],
          "name": "stdout"
        },
        {
          "output_type": "stream",
          "text": [
            "\u001b[32m[I 2021-07-18 07:15:49,897]\u001b[0m Trial 224 finished with value: 140.73099553585052 and parameters: {'alpha': 0.004156159897601066, 'lambda': 0.03131372266183929, 'gamma': 2, 'colsample_bytree': 0.5, 'subsample': 0.6, 'learning_rate': 0.04, 'n_estimators': 391, 'max_depth': 7, 'min_child_weight': 7}. Best is trial 71 with value: 130.86829733848572.\u001b[0m\n"
          ],
          "name": "stderr"
        },
        {
          "output_type": "stream",
          "text": [
            "[07:15:49] WARNING: /workspace/src/objective/regression_obj.cu:152: reg:linear is now deprecated in favor of reg:squarederror.\n"
          ],
          "name": "stdout"
        },
        {
          "output_type": "stream",
          "text": [
            "\u001b[32m[I 2021-07-18 07:15:50,787]\u001b[0m Trial 225 finished with value: 131.92791640758514 and parameters: {'alpha': 0.005657932642927468, 'lambda': 0.008670281963551732, 'gamma': 2, 'colsample_bytree': 0.5, 'subsample': 0.6, 'learning_rate': 0.04, 'n_estimators': 460, 'max_depth': 7, 'min_child_weight': 1}. Best is trial 71 with value: 130.86829733848572.\u001b[0m\n"
          ],
          "name": "stderr"
        },
        {
          "output_type": "stream",
          "text": [
            "[07:15:50] WARNING: /workspace/src/objective/regression_obj.cu:152: reg:linear is now deprecated in favor of reg:squarederror.\n"
          ],
          "name": "stdout"
        },
        {
          "output_type": "stream",
          "text": [
            "\u001b[32m[I 2021-07-18 07:15:51,530]\u001b[0m Trial 226 finished with value: 140.01978385448456 and parameters: {'alpha': 0.0032157157351573175, 'lambda': 0.011897030431433938, 'gamma': 2, 'colsample_bytree': 0.5, 'subsample': 0.6, 'learning_rate': 0.04, 'n_estimators': 461, 'max_depth': 7, 'min_child_weight': 13}. Best is trial 71 with value: 130.86829733848572.\u001b[0m\n"
          ],
          "name": "stderr"
        },
        {
          "output_type": "stream",
          "text": [
            "[07:15:51] WARNING: /workspace/src/objective/regression_obj.cu:152: reg:linear is now deprecated in favor of reg:squarederror.\n"
          ],
          "name": "stdout"
        },
        {
          "output_type": "stream",
          "text": [
            "\u001b[32m[I 2021-07-18 07:15:52,268]\u001b[0m Trial 227 finished with value: 140.09343868494034 and parameters: {'alpha': 0.004748430604465352, 'lambda': 0.010276198330489482, 'gamma': 2, 'colsample_bytree': 0.5, 'subsample': 0.6, 'learning_rate': 0.04, 'n_estimators': 300, 'max_depth': 7, 'min_child_weight': 6}. Best is trial 71 with value: 130.86829733848572.\u001b[0m\n"
          ],
          "name": "stderr"
        },
        {
          "output_type": "stream",
          "text": [
            "[07:15:52] WARNING: /workspace/src/objective/regression_obj.cu:152: reg:linear is now deprecated in favor of reg:squarederror.\n"
          ],
          "name": "stdout"
        },
        {
          "output_type": "stream",
          "text": [
            "\u001b[32m[I 2021-07-18 07:15:52,958]\u001b[0m Trial 228 finished with value: 139.45398795604706 and parameters: {'alpha': 0.005877269821307716, 'lambda': 0.008602802029150133, 'gamma': 2, 'colsample_bytree': 0.9, 'subsample': 0.6, 'learning_rate': 0.04, 'n_estimators': 454, 'max_depth': 7, 'min_child_weight': 7}. Best is trial 71 with value: 130.86829733848572.\u001b[0m\n"
          ],
          "name": "stderr"
        },
        {
          "output_type": "stream",
          "text": [
            "[07:15:52] WARNING: /workspace/src/objective/regression_obj.cu:152: reg:linear is now deprecated in favor of reg:squarederror.\n"
          ],
          "name": "stdout"
        },
        {
          "output_type": "stream",
          "text": [
            "\u001b[32m[I 2021-07-18 07:15:53,839]\u001b[0m Trial 229 finished with value: 131.92791640758514 and parameters: {'alpha': 0.003473255125242817, 'lambda': 0.010331460290556347, 'gamma': 2, 'colsample_bytree': 0.5, 'subsample': 0.6, 'learning_rate': 0.04, 'n_estimators': 432, 'max_depth': 7, 'min_child_weight': 1}. Best is trial 71 with value: 130.86829733848572.\u001b[0m\n"
          ],
          "name": "stderr"
        },
        {
          "output_type": "stream",
          "text": [
            "[07:15:53] WARNING: /workspace/src/objective/regression_obj.cu:152: reg:linear is now deprecated in favor of reg:squarederror.\n"
          ],
          "name": "stdout"
        },
        {
          "output_type": "stream",
          "text": [
            "\u001b[32m[I 2021-07-18 07:15:54,698]\u001b[0m Trial 230 finished with value: 139.3727525472641 and parameters: {'alpha': 0.005494566861782463, 'lambda': 0.02323074102094938, 'gamma': 2, 'colsample_bytree': 0.5, 'subsample': 0.4, 'learning_rate': 0.04, 'n_estimators': 427, 'max_depth': 7, 'min_child_weight': 1}. Best is trial 71 with value: 130.86829733848572.\u001b[0m\n"
          ],
          "name": "stderr"
        },
        {
          "output_type": "stream",
          "text": [
            "[07:15:54] WARNING: /workspace/src/objective/regression_obj.cu:152: reg:linear is now deprecated in favor of reg:squarederror.\n"
          ],
          "name": "stdout"
        },
        {
          "output_type": "stream",
          "text": [
            "\u001b[32m[I 2021-07-18 07:15:55,435]\u001b[0m Trial 231 finished with value: 140.09343868494034 and parameters: {'alpha': 0.004129653859658732, 'lambda': 0.008349117156397344, 'gamma': 2, 'colsample_bytree': 0.5, 'subsample': 0.6, 'learning_rate': 0.04, 'n_estimators': 468, 'max_depth': 7, 'min_child_weight': 6}. Best is trial 71 with value: 130.86829733848572.\u001b[0m\n"
          ],
          "name": "stderr"
        },
        {
          "output_type": "stream",
          "text": [
            "[07:15:55] WARNING: /workspace/src/objective/regression_obj.cu:152: reg:linear is now deprecated in favor of reg:squarederror.\n"
          ],
          "name": "stdout"
        },
        {
          "output_type": "stream",
          "text": [
            "\u001b[32m[I 2021-07-18 07:15:56,320]\u001b[0m Trial 232 finished with value: 131.92791640758514 and parameters: {'alpha': 0.003229495796779268, 'lambda': 0.01186282296314152, 'gamma': 2, 'colsample_bytree': 0.5, 'subsample': 0.6, 'learning_rate': 0.04, 'n_estimators': 435, 'max_depth': 7, 'min_child_weight': 1}. Best is trial 71 with value: 130.86829733848572.\u001b[0m\n"
          ],
          "name": "stderr"
        },
        {
          "output_type": "stream",
          "text": [
            "[07:15:56] WARNING: /workspace/src/objective/regression_obj.cu:152: reg:linear is now deprecated in favor of reg:squarederror.\n"
          ],
          "name": "stdout"
        },
        {
          "output_type": "stream",
          "text": [
            "\u001b[32m[I 2021-07-18 07:15:57,196]\u001b[0m Trial 233 finished with value: 131.92791640758514 and parameters: {'alpha': 0.002913760510760997, 'lambda': 0.014787401833375442, 'gamma': 2, 'colsample_bytree': 0.5, 'subsample': 0.6, 'learning_rate': 0.04, 'n_estimators': 430, 'max_depth': 7, 'min_child_weight': 1}. Best is trial 71 with value: 130.86829733848572.\u001b[0m\n"
          ],
          "name": "stderr"
        },
        {
          "output_type": "stream",
          "text": [
            "[07:15:57] WARNING: /workspace/src/objective/regression_obj.cu:152: reg:linear is now deprecated in favor of reg:squarederror.\n"
          ],
          "name": "stdout"
        },
        {
          "output_type": "stream",
          "text": [
            "\u001b[32m[I 2021-07-18 07:15:58,137]\u001b[0m Trial 234 finished with value: 138.78277277946472 and parameters: {'alpha': 0.002172419119073078, 'lambda': 0.026971101571953624, 'gamma': 2, 'colsample_bytree': 0.5, 'subsample': 0.6, 'learning_rate': 0.04, 'n_estimators': 488, 'max_depth': 7, 'min_child_weight': 12}. Best is trial 71 with value: 130.86829733848572.\u001b[0m\n"
          ],
          "name": "stderr"
        },
        {
          "output_type": "stream",
          "text": [
            "[07:15:58] WARNING: /workspace/src/objective/regression_obj.cu:152: reg:linear is now deprecated in favor of reg:squarederror.\n"
          ],
          "name": "stdout"
        },
        {
          "output_type": "stream",
          "text": [
            "\u001b[32m[I 2021-07-18 07:15:58,820]\u001b[0m Trial 235 finished with value: 135.1891605257988 and parameters: {'alpha': 0.0025867925427833405, 'lambda': 0.012839153557150304, 'gamma': 2, 'colsample_bytree': 0.5, 'subsample': 0.6, 'learning_rate': 0.04, 'n_estimators': 416, 'max_depth': 5, 'min_child_weight': 1}. Best is trial 71 with value: 130.86829733848572.\u001b[0m\n"
          ],
          "name": "stderr"
        },
        {
          "output_type": "stream",
          "text": [
            "[07:15:58] WARNING: /workspace/src/objective/regression_obj.cu:152: reg:linear is now deprecated in favor of reg:squarederror.\n"
          ],
          "name": "stdout"
        },
        {
          "output_type": "stream",
          "text": [
            "\u001b[32m[I 2021-07-18 07:15:59,424]\u001b[0m Trial 236 finished with value: 146.41395044326782 and parameters: {'alpha': 0.002596630386851125, 'lambda': 0.01665642545145087, 'gamma': 2, 'colsample_bytree': 0.7, 'subsample': 0.6, 'learning_rate': 0.04, 'n_estimators': 438, 'max_depth': 3, 'min_child_weight': 8}. Best is trial 71 with value: 130.86829733848572.\u001b[0m\n"
          ],
          "name": "stderr"
        },
        {
          "output_type": "stream",
          "text": [
            "[07:15:59] WARNING: /workspace/src/objective/regression_obj.cu:152: reg:linear is now deprecated in favor of reg:squarederror.\n"
          ],
          "name": "stdout"
        },
        {
          "output_type": "stream",
          "text": [
            "\u001b[32m[I 2021-07-18 07:16:00,295]\u001b[0m Trial 237 finished with value: 153.47887080907822 and parameters: {'alpha': 0.007797340283512699, 'lambda': 0.04392189807675525, 'gamma': 2, 'colsample_bytree': 1.0, 'subsample': 1.0, 'learning_rate': 0.04, 'n_estimators': 445, 'max_depth': 7, 'min_child_weight': 1}. Best is trial 71 with value: 130.86829733848572.\u001b[0m\n"
          ],
          "name": "stderr"
        },
        {
          "output_type": "stream",
          "text": [
            "[07:16:00] WARNING: /workspace/src/objective/regression_obj.cu:152: reg:linear is now deprecated in favor of reg:squarederror.\n"
          ],
          "name": "stdout"
        },
        {
          "output_type": "stream",
          "text": [
            "\u001b[32m[I 2021-07-18 07:16:01,260]\u001b[0m Trial 238 finished with value: 136.00322306156158 and parameters: {'alpha': 0.006602502801547924, 'lambda': 0.018302430091331118, 'gamma': 2, 'colsample_bytree': 0.5, 'subsample': 0.7, 'learning_rate': 0.04, 'n_estimators': 448, 'max_depth': 13, 'min_child_weight': 15}. Best is trial 71 with value: 130.86829733848572.\u001b[0m\n"
          ],
          "name": "stderr"
        },
        {
          "output_type": "stream",
          "text": [
            "[07:16:01] WARNING: /workspace/src/objective/regression_obj.cu:152: reg:linear is now deprecated in favor of reg:squarederror.\n"
          ],
          "name": "stdout"
        },
        {
          "output_type": "stream",
          "text": [
            "\u001b[32m[I 2021-07-18 07:16:02,107]\u001b[0m Trial 239 finished with value: 141.9054937362671 and parameters: {'alpha': 0.004071197486034321, 'lambda': 0.014916496584922126, 'gamma': 2, 'colsample_bytree': 0.3, 'subsample': 0.6, 'learning_rate': 0.04, 'n_estimators': 471, 'max_depth': 7, 'min_child_weight': 7}. Best is trial 71 with value: 130.86829733848572.\u001b[0m\n"
          ],
          "name": "stderr"
        },
        {
          "output_type": "stream",
          "text": [
            "[07:16:02] WARNING: /workspace/src/objective/regression_obj.cu:152: reg:linear is now deprecated in favor of reg:squarederror.\n"
          ],
          "name": "stdout"
        },
        {
          "output_type": "stream",
          "text": [
            "\u001b[32m[I 2021-07-18 07:16:02,978]\u001b[0m Trial 240 finished with value: 131.92791640758514 and parameters: {'alpha': 0.004945242825786816, 'lambda': 0.009641589690424243, 'gamma': 2, 'colsample_bytree': 0.5, 'subsample': 0.6, 'learning_rate': 0.04, 'n_estimators': 483, 'max_depth': 7, 'min_child_weight': 1}. Best is trial 71 with value: 130.86829733848572.\u001b[0m\n"
          ],
          "name": "stderr"
        },
        {
          "output_type": "stream",
          "text": [
            "[07:16:03] WARNING: /workspace/src/objective/regression_obj.cu:152: reg:linear is now deprecated in favor of reg:squarederror.\n"
          ],
          "name": "stdout"
        },
        {
          "output_type": "stream",
          "text": [
            "\u001b[32m[I 2021-07-18 07:16:03,852]\u001b[0m Trial 241 finished with value: 131.92791640758514 and parameters: {'alpha': 0.004951650669365368, 'lambda': 0.025436695344197024, 'gamma': 2, 'colsample_bytree': 0.5, 'subsample': 0.6, 'learning_rate': 0.04, 'n_estimators': 497, 'max_depth': 7, 'min_child_weight': 1}. Best is trial 71 with value: 130.86829733848572.\u001b[0m\n"
          ],
          "name": "stderr"
        },
        {
          "output_type": "stream",
          "text": [
            "[07:16:03] WARNING: /workspace/src/objective/regression_obj.cu:152: reg:linear is now deprecated in favor of reg:squarederror.\n"
          ],
          "name": "stdout"
        },
        {
          "output_type": "stream",
          "text": [
            "\u001b[32m[I 2021-07-18 07:16:04,721]\u001b[0m Trial 242 finished with value: 131.92791640758514 and parameters: {'alpha': 0.005270788506290303, 'lambda': 0.10908058435258645, 'gamma': 2, 'colsample_bytree': 0.5, 'subsample': 0.6, 'learning_rate': 0.04, 'n_estimators': 446, 'max_depth': 7, 'min_child_weight': 1}. Best is trial 71 with value: 130.86829733848572.\u001b[0m\n"
          ],
          "name": "stderr"
        },
        {
          "output_type": "stream",
          "text": [
            "[07:16:04] WARNING: /workspace/src/objective/regression_obj.cu:152: reg:linear is now deprecated in favor of reg:squarederror.\n"
          ],
          "name": "stdout"
        },
        {
          "output_type": "stream",
          "text": [
            "\u001b[32m[I 2021-07-18 07:16:05,448]\u001b[0m Trial 243 finished with value: 140.73099553585052 and parameters: {'alpha': 0.0033026659512590153, 'lambda': 0.10606437494171238, 'gamma': 2, 'colsample_bytree': 0.5, 'subsample': 0.6, 'learning_rate': 0.04, 'n_estimators': 498, 'max_depth': 7, 'min_child_weight': 7}. Best is trial 71 with value: 130.86829733848572.\u001b[0m\n"
          ],
          "name": "stderr"
        },
        {
          "output_type": "stream",
          "text": [
            "[07:16:05] WARNING: /workspace/src/objective/regression_obj.cu:152: reg:linear is now deprecated in favor of reg:squarederror.\n"
          ],
          "name": "stdout"
        },
        {
          "output_type": "stream",
          "text": [
            "\u001b[32m[I 2021-07-18 07:16:06,312]\u001b[0m Trial 244 finished with value: 131.92791640758514 and parameters: {'alpha': 0.007332589167680783, 'lambda': 0.028110059736996165, 'gamma': 2, 'colsample_bytree': 0.5, 'subsample': 0.6, 'learning_rate': 0.04, 'n_estimators': 444, 'max_depth': 7, 'min_child_weight': 1}. Best is trial 71 with value: 130.86829733848572.\u001b[0m\n"
          ],
          "name": "stderr"
        },
        {
          "output_type": "stream",
          "text": [
            "[07:16:06] WARNING: /workspace/src/objective/regression_obj.cu:152: reg:linear is now deprecated in favor of reg:squarederror.\n"
          ],
          "name": "stdout"
        },
        {
          "output_type": "stream",
          "text": [
            "\u001b[32m[I 2021-07-18 07:16:07,048]\u001b[0m Trial 245 finished with value: 144.7807755470276 and parameters: {'alpha': 0.004880431402644886, 'lambda': 0.09873870619999305, 'gamma': 2, 'colsample_bytree': 0.5, 'subsample': 0.6, 'learning_rate': 0.04, 'n_estimators': 491, 'max_depth': 7, 'min_child_weight': 11}. Best is trial 71 with value: 130.86829733848572.\u001b[0m\n"
          ],
          "name": "stderr"
        },
        {
          "output_type": "stream",
          "text": [
            "[07:16:07] WARNING: /workspace/src/objective/regression_obj.cu:152: reg:linear is now deprecated in favor of reg:squarederror.\n"
          ],
          "name": "stdout"
        },
        {
          "output_type": "stream",
          "text": [
            "\u001b[32m[I 2021-07-18 07:16:07,585]\u001b[0m Trial 246 finished with value: 283.45594024658203 and parameters: {'alpha': 0.007111787691394228, 'lambda': 0.028526135372331455, 'gamma': 2, 'colsample_bytree': 0.5, 'subsample': 0.6, 'learning_rate': 0.04, 'n_estimators': 446, 'max_depth': 7, 'min_child_weight': 255}. Best is trial 71 with value: 130.86829733848572.\u001b[0m\n"
          ],
          "name": "stderr"
        },
        {
          "output_type": "stream",
          "text": [
            "[07:16:07] WARNING: /workspace/src/objective/regression_obj.cu:152: reg:linear is now deprecated in favor of reg:squarederror.\n"
          ],
          "name": "stdout"
        },
        {
          "output_type": "stream",
          "text": [
            "\u001b[32m[I 2021-07-18 07:16:09,339]\u001b[0m Trial 247 finished with value: 132.1305400133133 and parameters: {'alpha': 0.006332629096751565, 'lambda': 0.014548589092473014, 'gamma': 2, 'colsample_bytree': 0.5, 'subsample': 0.6, 'learning_rate': 0.04, 'n_estimators': 455, 'max_depth': 17, 'min_child_weight': 1}. Best is trial 71 with value: 130.86829733848572.\u001b[0m\n"
          ],
          "name": "stderr"
        },
        {
          "output_type": "stream",
          "text": [
            "[07:16:09] WARNING: /workspace/src/objective/regression_obj.cu:152: reg:linear is now deprecated in favor of reg:squarederror.\n"
          ],
          "name": "stdout"
        },
        {
          "output_type": "stream",
          "text": [
            "\u001b[32m[I 2021-07-18 07:16:10,065]\u001b[0m Trial 248 finished with value: 140.09343868494034 and parameters: {'alpha': 0.0065889436122712475, 'lambda': 0.020260253032391644, 'gamma': 2, 'colsample_bytree': 0.5, 'subsample': 0.6, 'learning_rate': 0.04, 'n_estimators': 423, 'max_depth': 7, 'min_child_weight': 6}. Best is trial 71 with value: 130.86829733848572.\u001b[0m\n"
          ],
          "name": "stderr"
        },
        {
          "output_type": "stream",
          "text": [
            "[07:16:10] WARNING: /workspace/src/objective/regression_obj.cu:152: reg:linear is now deprecated in favor of reg:squarederror.\n"
          ],
          "name": "stdout"
        },
        {
          "output_type": "stream",
          "text": [
            "\u001b[32m[I 2021-07-18 07:16:10,797]\u001b[0m Trial 249 finished with value: 144.7807755470276 and parameters: {'alpha': 0.003817014503498947, 'lambda': 0.01948706707651003, 'gamma': 2, 'colsample_bytree': 0.5, 'subsample': 0.6, 'learning_rate': 0.04, 'n_estimators': 508, 'max_depth': 7, 'min_child_weight': 11}. Best is trial 71 with value: 130.86829733848572.\u001b[0m\n"
          ],
          "name": "stderr"
        },
        {
          "output_type": "stream",
          "text": [
            "[07:16:10] WARNING: /workspace/src/objective/regression_obj.cu:152: reg:linear is now deprecated in favor of reg:squarederror.\n"
          ],
          "name": "stdout"
        },
        {
          "output_type": "stream",
          "text": [
            "\u001b[32m[I 2021-07-18 07:16:11,668]\u001b[0m Trial 250 finished with value: 131.92791640758514 and parameters: {'alpha': 0.004354978652853551, 'lambda': 0.018038722600495577, 'gamma': 2, 'colsample_bytree': 0.5, 'subsample': 0.6, 'learning_rate': 0.04, 'n_estimators': 456, 'max_depth': 7, 'min_child_weight': 1}. Best is trial 71 with value: 130.86829733848572.\u001b[0m\n"
          ],
          "name": "stderr"
        },
        {
          "output_type": "stream",
          "text": [
            "[07:16:11] WARNING: /workspace/src/objective/regression_obj.cu:152: reg:linear is now deprecated in favor of reg:squarederror.\n"
          ],
          "name": "stdout"
        },
        {
          "output_type": "stream",
          "text": [
            "\u001b[32m[I 2021-07-18 07:16:12,579]\u001b[0m Trial 251 finished with value: 138.83506083488464 and parameters: {'alpha': 0.0036871096238184097, 'lambda': 0.017437748465536283, 'gamma': 2, 'colsample_bytree': 0.5, 'subsample': 0.6, 'learning_rate': 0.04, 'n_estimators': 441, 'max_depth': 7, 'min_child_weight': 18}. Best is trial 71 with value: 130.86829733848572.\u001b[0m\n"
          ],
          "name": "stderr"
        },
        {
          "output_type": "stream",
          "text": [
            "[07:16:12] WARNING: /workspace/src/objective/regression_obj.cu:152: reg:linear is now deprecated in favor of reg:squarederror.\n"
          ],
          "name": "stdout"
        },
        {
          "output_type": "stream",
          "text": [
            "\u001b[32m[I 2021-07-18 07:16:13,448]\u001b[0m Trial 252 finished with value: 131.92791640758514 and parameters: {'alpha': 0.004575996166883746, 'lambda': 0.010567994364008203, 'gamma': 2, 'colsample_bytree': 0.5, 'subsample': 0.6, 'learning_rate': 0.04, 'n_estimators': 411, 'max_depth': 7, 'min_child_weight': 1}. Best is trial 71 with value: 130.86829733848572.\u001b[0m\n"
          ],
          "name": "stderr"
        },
        {
          "output_type": "stream",
          "text": [
            "[07:16:13] WARNING: /workspace/src/objective/regression_obj.cu:152: reg:linear is now deprecated in favor of reg:squarederror.\n"
          ],
          "name": "stdout"
        },
        {
          "output_type": "stream",
          "text": [
            "\u001b[32m[I 2021-07-18 07:16:14,182]\u001b[0m Trial 253 finished with value: 140.73099553585052 and parameters: {'alpha': 0.005549886464954795, 'lambda': 0.16157789306838252, 'gamma': 2, 'colsample_bytree': 0.5, 'subsample': 0.6, 'learning_rate': 0.04, 'n_estimators': 477, 'max_depth': 7, 'min_child_weight': 7}. Best is trial 71 with value: 130.86829733848572.\u001b[0m\n"
          ],
          "name": "stderr"
        },
        {
          "output_type": "stream",
          "text": [
            "[07:16:14] WARNING: /workspace/src/objective/regression_obj.cu:152: reg:linear is now deprecated in favor of reg:squarederror.\n"
          ],
          "name": "stdout"
        },
        {
          "output_type": "stream",
          "text": [
            "\u001b[32m[I 2021-07-18 07:16:14,862]\u001b[0m Trial 254 finished with value: 135.1891605257988 and parameters: {'alpha': 0.0026713552152029334, 'lambda': 0.013231299521755235, 'gamma': 2, 'colsample_bytree': 0.5, 'subsample': 0.6, 'learning_rate': 0.04, 'n_estimators': 444, 'max_depth': 5, 'min_child_weight': 1}. Best is trial 71 with value: 130.86829733848572.\u001b[0m\n"
          ],
          "name": "stderr"
        },
        {
          "output_type": "stream",
          "text": [
            "[07:16:14] WARNING: /workspace/src/objective/regression_obj.cu:152: reg:linear is now deprecated in favor of reg:squarederror.\n"
          ],
          "name": "stdout"
        },
        {
          "output_type": "stream",
          "text": [
            "\u001b[32m[I 2021-07-18 07:16:15,763]\u001b[0m Trial 255 finished with value: 138.56703925132751 and parameters: {'alpha': 0.004085786084641014, 'lambda': 0.00862637159241347, 'gamma': 2, 'colsample_bytree': 0.4, 'subsample': 0.6, 'learning_rate': 0.04, 'n_estimators': 471, 'max_depth': 7, 'min_child_weight': 12}. Best is trial 71 with value: 130.86829733848572.\u001b[0m\n"
          ],
          "name": "stderr"
        },
        {
          "output_type": "stream",
          "text": [
            "[07:16:15] WARNING: /workspace/src/objective/regression_obj.cu:152: reg:linear is now deprecated in favor of reg:squarederror.\n"
          ],
          "name": "stdout"
        },
        {
          "output_type": "stream",
          "text": [
            "\u001b[32m[I 2021-07-18 07:16:16,492]\u001b[0m Trial 256 finished with value: 140.09343868494034 and parameters: {'alpha': 0.0077187544319207175, 'lambda': 0.01223288125941408, 'gamma': 2, 'colsample_bytree': 0.5, 'subsample': 0.6, 'learning_rate': 0.04, 'n_estimators': 465, 'max_depth': 7, 'min_child_weight': 6}. Best is trial 71 with value: 130.86829733848572.\u001b[0m\n"
          ],
          "name": "stderr"
        },
        {
          "output_type": "stream",
          "text": [
            "[07:16:16] WARNING: /workspace/src/objective/regression_obj.cu:152: reg:linear is now deprecated in favor of reg:squarederror.\n"
          ],
          "name": "stdout"
        },
        {
          "output_type": "stream",
          "text": [
            "\u001b[32m[I 2021-07-18 07:16:17,399]\u001b[0m Trial 257 finished with value: 137.67465007305145 and parameters: {'alpha': 0.002234324772498113, 'lambda': 0.00729214083601315, 'gamma': 2, 'colsample_bytree': 0.5, 'subsample': 0.6, 'learning_rate': 0.04, 'n_estimators': 456, 'max_depth': 7, 'min_child_weight': 16}. Best is trial 71 with value: 130.86829733848572.\u001b[0m\n"
          ],
          "name": "stderr"
        },
        {
          "output_type": "stream",
          "text": [
            "[07:16:17] WARNING: /workspace/src/objective/regression_obj.cu:152: reg:linear is now deprecated in favor of reg:squarederror.\n"
          ],
          "name": "stdout"
        },
        {
          "output_type": "stream",
          "text": [
            "\u001b[32m[I 2021-07-18 07:16:18,266]\u001b[0m Trial 258 finished with value: 131.92791640758514 and parameters: {'alpha': 0.003449568158458889, 'lambda': 0.02290919594112609, 'gamma': 2, 'colsample_bytree': 0.5, 'subsample': 0.6, 'learning_rate': 0.04, 'n_estimators': 427, 'max_depth': 7, 'min_child_weight': 1}. Best is trial 71 with value: 130.86829733848572.\u001b[0m\n"
          ],
          "name": "stderr"
        },
        {
          "output_type": "stream",
          "text": [
            "[07:16:18] WARNING: /workspace/src/objective/regression_obj.cu:152: reg:linear is now deprecated in favor of reg:squarederror.\n"
          ],
          "name": "stdout"
        },
        {
          "output_type": "stream",
          "text": [
            "\u001b[32m[I 2021-07-18 07:16:19,002]\u001b[0m Trial 259 finished with value: 140.73099553585052 and parameters: {'alpha': 0.0033498566148712234, 'lambda': 0.014756462581299987, 'gamma': 2, 'colsample_bytree': 0.5, 'subsample': 0.6, 'learning_rate': 0.04, 'n_estimators': 489, 'max_depth': 7, 'min_child_weight': 7}. Best is trial 71 with value: 130.86829733848572.\u001b[0m\n"
          ],
          "name": "stderr"
        },
        {
          "output_type": "stream",
          "text": [
            "[07:16:19] WARNING: /workspace/src/objective/regression_obj.cu:152: reg:linear is now deprecated in favor of reg:squarederror.\n"
          ],
          "name": "stdout"
        },
        {
          "output_type": "stream",
          "text": [
            "\u001b[32m[I 2021-07-18 07:16:19,874]\u001b[0m Trial 260 finished with value: 131.92791640758514 and parameters: {'alpha': 0.005000663727029132, 'lambda': 0.016944379996755597, 'gamma': 2, 'colsample_bytree': 0.5, 'subsample': 0.6, 'learning_rate': 0.04, 'n_estimators': 465, 'max_depth': 7, 'min_child_weight': 1}. Best is trial 71 with value: 130.86829733848572.\u001b[0m\n"
          ],
          "name": "stderr"
        },
        {
          "output_type": "stream",
          "text": [
            "[07:16:19] WARNING: /workspace/src/objective/regression_obj.cu:152: reg:linear is now deprecated in favor of reg:squarederror.\n"
          ],
          "name": "stdout"
        },
        {
          "output_type": "stream",
          "text": [
            "\u001b[32m[I 2021-07-18 07:16:21,210]\u001b[0m Trial 261 finished with value: 151.71549081802368 and parameters: {'alpha': 0.002719702949989941, 'lambda': 0.022386657400986592, 'gamma': 2, 'colsample_bytree': 0.5, 'subsample': 0.6, 'learning_rate': 0.04, 'n_estimators': 428, 'max_depth': 7, 'min_child_weight': 142}. Best is trial 71 with value: 130.86829733848572.\u001b[0m\n"
          ],
          "name": "stderr"
        },
        {
          "output_type": "stream",
          "text": [
            "[07:16:21] WARNING: /workspace/src/objective/regression_obj.cu:152: reg:linear is now deprecated in favor of reg:squarederror.\n"
          ],
          "name": "stdout"
        },
        {
          "output_type": "stream",
          "text": [
            "\u001b[32m[I 2021-07-18 07:16:21,942]\u001b[0m Trial 262 finished with value: 144.7807755470276 and parameters: {'alpha': 0.0052988343422005965, 'lambda': 0.13613180540293887, 'gamma': 2, 'colsample_bytree': 0.5, 'subsample': 0.6, 'learning_rate': 0.04, 'n_estimators': 499, 'max_depth': 7, 'min_child_weight': 11}. Best is trial 71 with value: 130.86829733848572.\u001b[0m\n"
          ],
          "name": "stderr"
        },
        {
          "output_type": "stream",
          "text": [
            "[07:16:21] WARNING: /workspace/src/objective/regression_obj.cu:152: reg:linear is now deprecated in favor of reg:squarederror.\n"
          ],
          "name": "stdout"
        },
        {
          "output_type": "stream",
          "text": [
            "\u001b[32m[I 2021-07-18 07:16:22,817]\u001b[0m Trial 263 finished with value: 131.92791640758514 and parameters: {'alpha': 0.003373722642294414, 'lambda': 0.009313129761761924, 'gamma': 2, 'colsample_bytree': 0.5, 'subsample': 0.6, 'learning_rate': 0.04, 'n_estimators': 436, 'max_depth': 7, 'min_child_weight': 1}. Best is trial 71 with value: 130.86829733848572.\u001b[0m\n"
          ],
          "name": "stderr"
        },
        {
          "output_type": "stream",
          "text": [
            "[07:16:22] WARNING: /workspace/src/objective/regression_obj.cu:152: reg:linear is now deprecated in favor of reg:squarederror.\n"
          ],
          "name": "stdout"
        },
        {
          "output_type": "stream",
          "text": [
            "\u001b[32m[I 2021-07-18 07:16:23,436]\u001b[0m Trial 264 finished with value: 137.52007603645325 and parameters: {'alpha': 0.006355887255119994, 'lambda': 0.03613028986940417, 'gamma': 2, 'colsample_bytree': 0.5, 'subsample': 0.6, 'learning_rate': 0.08, 'n_estimators': 434, 'max_depth': 9, 'min_child_weight': 6}. Best is trial 71 with value: 130.86829733848572.\u001b[0m\n"
          ],
          "name": "stderr"
        },
        {
          "output_type": "stream",
          "text": [
            "[07:16:23] WARNING: /workspace/src/objective/regression_obj.cu:152: reg:linear is now deprecated in favor of reg:squarederror.\n"
          ],
          "name": "stdout"
        },
        {
          "output_type": "stream",
          "text": [
            "\u001b[32m[I 2021-07-18 07:16:24,320]\u001b[0m Trial 265 finished with value: 147.00074470043182 and parameters: {'alpha': 0.0028707798842979274, 'lambda': 0.011239490553788612, 'gamma': 2, 'colsample_bytree': 0.5, 'subsample': 0.4, 'learning_rate': 0.04, 'n_estimators': 512, 'max_depth': 7, 'min_child_weight': 16}. Best is trial 71 with value: 130.86829733848572.\u001b[0m\n"
          ],
          "name": "stderr"
        },
        {
          "output_type": "stream",
          "text": [
            "[07:16:24] WARNING: /workspace/src/objective/regression_obj.cu:152: reg:linear is now deprecated in favor of reg:squarederror.\n"
          ],
          "name": "stdout"
        },
        {
          "output_type": "stream",
          "text": [
            "\u001b[32m[I 2021-07-18 07:16:25,191]\u001b[0m Trial 266 finished with value: 131.92791640758514 and parameters: {'alpha': 0.007990824197098408, 'lambda': 0.007945342288420774, 'gamma': 2, 'colsample_bytree': 0.5, 'subsample': 0.6, 'learning_rate': 0.04, 'n_estimators': 486, 'max_depth': 7, 'min_child_weight': 1}. Best is trial 71 with value: 130.86829733848572.\u001b[0m\n"
          ],
          "name": "stderr"
        },
        {
          "output_type": "stream",
          "text": [
            "[07:16:25] WARNING: /workspace/src/objective/regression_obj.cu:152: reg:linear is now deprecated in favor of reg:squarederror.\n"
          ],
          "name": "stdout"
        },
        {
          "output_type": "stream",
          "text": [
            "\u001b[32m[I 2021-07-18 07:16:26,064]\u001b[0m Trial 267 finished with value: 131.92791640758514 and parameters: {'alpha': 0.0076998007462095765, 'lambda': 0.031897829550577926, 'gamma': 2, 'colsample_bytree': 0.5, 'subsample': 0.6, 'learning_rate': 0.04, 'n_estimators': 431, 'max_depth': 7, 'min_child_weight': 1}. Best is trial 71 with value: 130.86829733848572.\u001b[0m\n"
          ],
          "name": "stderr"
        },
        {
          "output_type": "stream",
          "text": [
            "[07:16:26] WARNING: /workspace/src/objective/regression_obj.cu:152: reg:linear is now deprecated in favor of reg:squarederror.\n"
          ],
          "name": "stdout"
        },
        {
          "output_type": "stream",
          "text": [
            "\u001b[32m[I 2021-07-18 07:16:26,886]\u001b[0m Trial 268 finished with value: 141.5717049241066 and parameters: {'alpha': 0.007624422658848057, 'lambda': 0.027948534632134665, 'gamma': 2, 'colsample_bytree': 0.9, 'subsample': 0.6, 'learning_rate': 0.04, 'n_estimators': 414, 'max_depth': 7, 'min_child_weight': 1}. Best is trial 71 with value: 130.86829733848572.\u001b[0m\n"
          ],
          "name": "stderr"
        },
        {
          "output_type": "stream",
          "text": [
            "[07:16:26] WARNING: /workspace/src/objective/regression_obj.cu:152: reg:linear is now deprecated in favor of reg:squarederror.\n"
          ],
          "name": "stdout"
        },
        {
          "output_type": "stream",
          "text": [
            "\u001b[32m[I 2021-07-18 07:16:28,327]\u001b[0m Trial 269 finished with value: 146.43883681297302 and parameters: {'alpha': 0.006191378783471874, 'lambda': 0.010146980125662529, 'gamma': 2, 'colsample_bytree': 0.5, 'subsample': 0.7, 'learning_rate': 0.04, 'n_estimators': 458, 'max_depth': 5, 'min_child_weight': 111}. Best is trial 71 with value: 130.86829733848572.\u001b[0m\n"
          ],
          "name": "stderr"
        },
        {
          "output_type": "stream",
          "text": [
            "[07:16:28] WARNING: /workspace/src/objective/regression_obj.cu:152: reg:linear is now deprecated in favor of reg:squarederror.\n"
          ],
          "name": "stdout"
        },
        {
          "output_type": "stream",
          "text": [
            "\u001b[32m[I 2021-07-18 07:16:28,930]\u001b[0m Trial 270 finished with value: 143.3832790851593 and parameters: {'alpha': 0.004308530085748763, 'lambda': 0.006822437429198785, 'gamma': 2, 'colsample_bytree': 1.0, 'subsample': 0.6, 'learning_rate': 0.06, 'n_estimators': 505, 'max_depth': 7, 'min_child_weight': 10}. Best is trial 71 with value: 130.86829733848572.\u001b[0m\n"
          ],
          "name": "stderr"
        },
        {
          "output_type": "stream",
          "text": [
            "[07:16:28] WARNING: /workspace/src/objective/regression_obj.cu:152: reg:linear is now deprecated in favor of reg:squarederror.\n"
          ],
          "name": "stdout"
        },
        {
          "output_type": "stream",
          "text": [
            "\u001b[32m[I 2021-07-18 07:16:29,511]\u001b[0m Trial 271 finished with value: 142.56142485141754 and parameters: {'alpha': 0.005342854488019673, 'lambda': 0.00953107723831154, 'gamma': 2, 'colsample_bytree': 0.7, 'subsample': 1.0, 'learning_rate': 0.04, 'n_estimators': 436, 'max_depth': 3, 'min_child_weight': 6}. Best is trial 71 with value: 130.86829733848572.\u001b[0m\n"
          ],
          "name": "stderr"
        },
        {
          "output_type": "stream",
          "text": [
            "[07:16:29] WARNING: /workspace/src/objective/regression_obj.cu:152: reg:linear is now deprecated in favor of reg:squarederror.\n"
          ],
          "name": "stdout"
        },
        {
          "output_type": "stream",
          "text": [
            "\u001b[32m[I 2021-07-18 07:16:31,035]\u001b[0m Trial 272 finished with value: 139.4014629125595 and parameters: {'alpha': 0.004581494794715598, 'lambda': 0.010858335663161104, 'gamma': 2, 'colsample_bytree': 0.5, 'subsample': 0.6, 'learning_rate': 0.02, 'n_estimators': 452, 'max_depth': 7, 'min_child_weight': 18}. Best is trial 71 with value: 130.86829733848572.\u001b[0m\n"
          ],
          "name": "stderr"
        },
        {
          "output_type": "stream",
          "text": [
            "[07:16:31] WARNING: /workspace/src/objective/regression_obj.cu:152: reg:linear is now deprecated in favor of reg:squarederror.\n"
          ],
          "name": "stdout"
        },
        {
          "output_type": "stream",
          "text": [
            "\u001b[32m[I 2021-07-18 07:16:31,874]\u001b[0m Trial 273 finished with value: 144.39251029491425 and parameters: {'alpha': 0.004702478758277603, 'lambda': 0.013139161471023359, 'gamma': 2, 'colsample_bytree': 0.5, 'subsample': 0.6, 'learning_rate': 0.04, 'n_estimators': 481, 'max_depth': 13, 'min_child_weight': 11}. Best is trial 71 with value: 130.86829733848572.\u001b[0m\n"
          ],
          "name": "stderr"
        },
        {
          "output_type": "stream",
          "text": [
            "[07:16:31] WARNING: /workspace/src/objective/regression_obj.cu:152: reg:linear is now deprecated in favor of reg:squarederror.\n"
          ],
          "name": "stdout"
        },
        {
          "output_type": "stream",
          "text": [
            "\u001b[32m[I 2021-07-18 07:16:32,902]\u001b[0m Trial 274 finished with value: 142.90037178993225 and parameters: {'alpha': 0.003460979407755936, 'lambda': 0.026190757047787644, 'gamma': 2, 'colsample_bytree': 0.3, 'subsample': 0.6, 'learning_rate': 0.04, 'n_estimators': 406, 'max_depth': 7, 'min_child_weight': 1}. Best is trial 71 with value: 130.86829733848572.\u001b[0m\n"
          ],
          "name": "stderr"
        },
        {
          "output_type": "stream",
          "text": [
            "[07:16:32] WARNING: /workspace/src/objective/regression_obj.cu:152: reg:linear is now deprecated in favor of reg:squarederror.\n"
          ],
          "name": "stdout"
        },
        {
          "output_type": "stream",
          "text": [
            "\u001b[32m[I 2021-07-18 07:16:33,641]\u001b[0m Trial 275 finished with value: 140.73099553585052 and parameters: {'alpha': 0.0021835845242649437, 'lambda': 0.05189140684360627, 'gamma': 2, 'colsample_bytree': 0.5, 'subsample': 0.6, 'learning_rate': 0.04, 'n_estimators': 424, 'max_depth': 7, 'min_child_weight': 7}. Best is trial 71 with value: 130.86829733848572.\u001b[0m\n"
          ],
          "name": "stderr"
        },
        {
          "output_type": "stream",
          "text": [
            "[07:16:33] WARNING: /workspace/src/objective/regression_obj.cu:152: reg:linear is now deprecated in favor of reg:squarederror.\n"
          ],
          "name": "stdout"
        },
        {
          "output_type": "stream",
          "text": [
            "\u001b[32m[I 2021-07-18 07:16:35,504]\u001b[0m Trial 276 finished with value: 154.6849205493927 and parameters: {'alpha': 0.006374226281034435, 'lambda': 0.013625108855864846, 'gamma': 2, 'colsample_bytree': 0.5, 'subsample': 0.6, 'learning_rate': 0.04, 'n_estimators': 468, 'max_depth': 17, 'min_child_weight': 81}. Best is trial 71 with value: 130.86829733848572.\u001b[0m\n"
          ],
          "name": "stderr"
        },
        {
          "output_type": "stream",
          "text": [
            "[07:16:35] WARNING: /workspace/src/objective/regression_obj.cu:152: reg:linear is now deprecated in favor of reg:squarederror.\n"
          ],
          "name": "stdout"
        },
        {
          "output_type": "stream",
          "text": [
            "\u001b[32m[I 2021-07-18 07:16:36,043]\u001b[0m Trial 277 finished with value: 283.45594024658203 and parameters: {'alpha': 0.005974387438044168, 'lambda': 0.016768707178342987, 'gamma': 2, 'colsample_bytree': 0.5, 'subsample': 0.6, 'learning_rate': 0.04, 'n_estimators': 461, 'max_depth': 7, 'min_child_weight': 213}. Best is trial 71 with value: 130.86829733848572.\u001b[0m\n"
          ],
          "name": "stderr"
        },
        {
          "output_type": "stream",
          "text": [
            "[07:16:36] WARNING: /workspace/src/objective/regression_obj.cu:152: reg:linear is now deprecated in favor of reg:squarederror.\n"
          ],
          "name": "stdout"
        },
        {
          "output_type": "stream",
          "text": [
            "\u001b[32m[I 2021-07-18 07:16:36,623]\u001b[0m Trial 278 finished with value: 138.03715419769287 and parameters: {'alpha': 0.0029662669742853342, 'lambda': 0.020104266658318746, 'gamma': 2, 'colsample_bytree': 0.5, 'subsample': 0.6, 'learning_rate': 0.08, 'n_estimators': 476, 'max_depth': 7, 'min_child_weight': 6}. Best is trial 71 with value: 130.86829733848572.\u001b[0m\n"
          ],
          "name": "stderr"
        },
        {
          "output_type": "stream",
          "text": [
            "[07:16:36] WARNING: /workspace/src/objective/regression_obj.cu:152: reg:linear is now deprecated in favor of reg:squarederror.\n"
          ],
          "name": "stdout"
        },
        {
          "output_type": "stream",
          "text": [
            "\u001b[32m[I 2021-07-18 07:16:37,496]\u001b[0m Trial 279 finished with value: 131.92791640758514 and parameters: {'alpha': 0.003630966933734519, 'lambda': 0.022051197369790602, 'gamma': 2, 'colsample_bytree': 0.5, 'subsample': 0.6, 'learning_rate': 0.04, 'n_estimators': 434, 'max_depth': 7, 'min_child_weight': 1}. Best is trial 71 with value: 130.86829733848572.\u001b[0m\n"
          ],
          "name": "stderr"
        },
        {
          "output_type": "stream",
          "text": [
            "[07:16:37] WARNING: /workspace/src/objective/regression_obj.cu:152: reg:linear is now deprecated in favor of reg:squarederror.\n"
          ],
          "name": "stdout"
        },
        {
          "output_type": "stream",
          "text": [
            "\u001b[32m[I 2021-07-18 07:16:38,233]\u001b[0m Trial 280 finished with value: 140.4342863559723 and parameters: {'alpha': 0.004569536717060587, 'lambda': 0.007068507427394067, 'gamma': 2, 'colsample_bytree': 0.5, 'subsample': 0.6, 'learning_rate': 0.04, 'n_estimators': 444, 'max_depth': 9, 'min_child_weight': 14}. Best is trial 71 with value: 130.86829733848572.\u001b[0m\n"
          ],
          "name": "stderr"
        },
        {
          "output_type": "stream",
          "text": [
            "[07:16:38] WARNING: /workspace/src/objective/regression_obj.cu:152: reg:linear is now deprecated in favor of reg:squarederror.\n"
          ],
          "name": "stdout"
        },
        {
          "output_type": "stream",
          "text": [
            "\u001b[32m[I 2021-07-18 07:16:39,787]\u001b[0m Trial 281 finished with value: 212.17263221740723 and parameters: {'alpha': 0.005112095487419747, 'lambda': 0.08207375481156683, 'gamma': 2, 'colsample_bytree': 0.5, 'subsample': 0.6, 'learning_rate': 0.01, 'n_estimators': 499, 'max_depth': 7, 'min_child_weight': 160}. Best is trial 71 with value: 130.86829733848572.\u001b[0m\n"
          ],
          "name": "stderr"
        },
        {
          "output_type": "stream",
          "text": [
            "[07:16:39] WARNING: /workspace/src/objective/regression_obj.cu:152: reg:linear is now deprecated in favor of reg:squarederror.\n"
          ],
          "name": "stdout"
        },
        {
          "output_type": "stream",
          "text": [
            "\u001b[32m[I 2021-07-18 07:16:40,659]\u001b[0m Trial 282 finished with value: 131.92791640758514 and parameters: {'alpha': 0.009705577185978528, 'lambda': 0.007714244277331665, 'gamma': 2, 'colsample_bytree': 0.5, 'subsample': 0.6, 'learning_rate': 0.04, 'n_estimators': 490, 'max_depth': 7, 'min_child_weight': 1}. Best is trial 71 with value: 130.86829733848572.\u001b[0m\n"
          ],
          "name": "stderr"
        },
        {
          "output_type": "stream",
          "text": [
            "[07:16:40] WARNING: /workspace/src/objective/regression_obj.cu:152: reg:linear is now deprecated in favor of reg:squarederror.\n"
          ],
          "name": "stdout"
        },
        {
          "output_type": "stream",
          "text": [
            "\u001b[32m[I 2021-07-18 07:16:41,542]\u001b[0m Trial 283 finished with value: 131.92791640758514 and parameters: {'alpha': 0.010520953564195181, 'lambda': 0.017297587662723983, 'gamma': 2, 'colsample_bytree': 0.5, 'subsample': 0.6, 'learning_rate': 0.04, 'n_estimators': 448, 'max_depth': 7, 'min_child_weight': 1}. Best is trial 71 with value: 130.86829733848572.\u001b[0m\n"
          ],
          "name": "stderr"
        },
        {
          "output_type": "stream",
          "text": [
            "[07:16:41] WARNING: /workspace/src/objective/regression_obj.cu:152: reg:linear is now deprecated in favor of reg:squarederror.\n"
          ],
          "name": "stdout"
        },
        {
          "output_type": "stream",
          "text": [
            "\u001b[32m[I 2021-07-18 07:16:42,448]\u001b[0m Trial 284 finished with value: 137.7487336397171 and parameters: {'alpha': 0.004248520594450357, 'lambda': 0.04097183676275988, 'gamma': 2, 'colsample_bytree': 0.5, 'subsample': 0.6, 'learning_rate': 0.04, 'n_estimators': 414, 'max_depth': 7, 'min_child_weight': 22}. Best is trial 71 with value: 130.86829733848572.\u001b[0m\n"
          ],
          "name": "stderr"
        },
        {
          "output_type": "stream",
          "text": [
            "[07:16:42] WARNING: /workspace/src/objective/regression_obj.cu:152: reg:linear is now deprecated in favor of reg:squarederror.\n"
          ],
          "name": "stdout"
        },
        {
          "output_type": "stream",
          "text": [
            "\u001b[32m[I 2021-07-18 07:16:43,333]\u001b[0m Trial 285 finished with value: 140.26758313179016 and parameters: {'alpha': 0.005838677276169526, 'lambda': 0.01350340794953639, 'gamma': 2, 'colsample_bytree': 0.4, 'subsample': 0.6, 'learning_rate': 0.04, 'n_estimators': 457, 'max_depth': 5, 'min_child_weight': 11}. Best is trial 71 with value: 130.86829733848572.\u001b[0m\n"
          ],
          "name": "stderr"
        },
        {
          "output_type": "stream",
          "text": [
            "[07:16:43] WARNING: /workspace/src/objective/regression_obj.cu:152: reg:linear is now deprecated in favor of reg:squarederror.\n"
          ],
          "name": "stdout"
        },
        {
          "output_type": "stream",
          "text": [
            "\u001b[32m[I 2021-07-18 07:16:44,081]\u001b[0m Trial 286 finished with value: 140.73099553585052 and parameters: {'alpha': 0.004159472553538368, 'lambda': 0.011493321918277268, 'gamma': 3, 'colsample_bytree': 0.5, 'subsample': 0.6, 'learning_rate': 0.04, 'n_estimators': 469, 'max_depth': 7, 'min_child_weight': 7}. Best is trial 71 with value: 130.86829733848572.\u001b[0m\n"
          ],
          "name": "stderr"
        },
        {
          "output_type": "stream",
          "text": [
            "[07:16:44] WARNING: /workspace/src/objective/regression_obj.cu:152: reg:linear is now deprecated in favor of reg:squarederror.\n"
          ],
          "name": "stdout"
        },
        {
          "output_type": "stream",
          "text": [
            "\u001b[32m[I 2021-07-18 07:16:44,816]\u001b[0m Trial 287 finished with value: 140.09343868494034 and parameters: {'alpha': 0.007302127895127319, 'lambda': 0.009337181724531216, 'gamma': 2, 'colsample_bytree': 0.5, 'subsample': 0.6, 'learning_rate': 0.04, 'n_estimators': 464, 'max_depth': 7, 'min_child_weight': 6}. Best is trial 71 with value: 130.86829733848572.\u001b[0m\n"
          ],
          "name": "stderr"
        },
        {
          "output_type": "stream",
          "text": [
            "[07:16:44] WARNING: /workspace/src/objective/regression_obj.cu:152: reg:linear is now deprecated in favor of reg:squarederror.\n"
          ],
          "name": "stdout"
        },
        {
          "output_type": "stream",
          "text": [
            "\u001b[32m[I 2021-07-18 07:16:45,744]\u001b[0m Trial 288 finished with value: 137.67465007305145 and parameters: {'alpha': 0.006601982920622732, 'lambda': 0.011720733477293039, 'gamma': 2, 'colsample_bytree': 0.5, 'subsample': 0.6, 'learning_rate': 0.04, 'n_estimators': 469, 'max_depth': 7, 'min_child_weight': 16}. Best is trial 71 with value: 130.86829733848572.\u001b[0m\n"
          ],
          "name": "stderr"
        },
        {
          "output_type": "stream",
          "text": [
            "[07:16:45] WARNING: /workspace/src/objective/regression_obj.cu:152: reg:linear is now deprecated in favor of reg:squarederror.\n"
          ],
          "name": "stdout"
        },
        {
          "output_type": "stream",
          "text": [
            "\u001b[32m[I 2021-07-18 07:16:46,645]\u001b[0m Trial 289 finished with value: 131.92791640758514 and parameters: {'alpha': 0.0032472860429249915, 'lambda': 0.037305486715632226, 'gamma': 2, 'colsample_bytree': 0.5, 'subsample': 0.6, 'learning_rate': 0.04, 'n_estimators': 419, 'max_depth': 7, 'min_child_weight': 1}. Best is trial 71 with value: 130.86829733848572.\u001b[0m\n"
          ],
          "name": "stderr"
        },
        {
          "output_type": "stream",
          "text": [
            "[07:16:46] WARNING: /workspace/src/objective/regression_obj.cu:152: reg:linear is now deprecated in favor of reg:squarederror.\n"
          ],
          "name": "stdout"
        },
        {
          "output_type": "stream",
          "text": [
            "\u001b[32m[I 2021-07-18 07:16:47,532]\u001b[0m Trial 290 finished with value: 131.92791640758514 and parameters: {'alpha': 0.0024388064438076403, 'lambda': 0.1244073997829457, 'gamma': 2, 'colsample_bytree': 0.5, 'subsample': 0.6, 'learning_rate': 0.04, 'n_estimators': 440, 'max_depth': 7, 'min_child_weight': 1}. Best is trial 71 with value: 130.86829733848572.\u001b[0m\n"
          ],
          "name": "stderr"
        },
        {
          "output_type": "stream",
          "text": [
            "[07:16:47] WARNING: /workspace/src/objective/regression_obj.cu:152: reg:linear is now deprecated in favor of reg:squarederror.\n"
          ],
          "name": "stdout"
        },
        {
          "output_type": "stream",
          "text": [
            "\u001b[32m[I 2021-07-18 07:16:48,407]\u001b[0m Trial 291 finished with value: 144.0487869977951 and parameters: {'alpha': 0.003663342831976767, 'lambda': 0.007960389326916407, 'gamma': 2, 'colsample_bytree': 0.5, 'subsample': 0.6, 'learning_rate': 0.04, 'n_estimators': 517, 'max_depth': 15, 'min_child_weight': 10}. Best is trial 71 with value: 130.86829733848572.\u001b[0m\n"
          ],
          "name": "stderr"
        },
        {
          "output_type": "stream",
          "text": [
            "[07:16:48] WARNING: /workspace/src/objective/regression_obj.cu:152: reg:linear is now deprecated in favor of reg:squarederror.\n"
          ],
          "name": "stdout"
        },
        {
          "output_type": "stream",
          "text": [
            "\u001b[32m[I 2021-07-18 07:16:49,147]\u001b[0m Trial 292 finished with value: 131.20732218027115 and parameters: {'alpha': 0.00531259276939992, 'lambda': 0.02588236453914126, 'gamma': 2, 'colsample_bytree': 0.5, 'subsample': 0.6, 'learning_rate': 0.08, 'n_estimators': 440, 'max_depth': 7, 'min_child_weight': 1}. Best is trial 71 with value: 130.86829733848572.\u001b[0m\n"
          ],
          "name": "stderr"
        },
        {
          "output_type": "stream",
          "text": [
            "[07:16:49] WARNING: /workspace/src/objective/regression_obj.cu:152: reg:linear is now deprecated in favor of reg:squarederror.\n"
          ],
          "name": "stdout"
        },
        {
          "output_type": "stream",
          "text": [
            "\u001b[32m[I 2021-07-18 07:16:49,754]\u001b[0m Trial 293 finished with value: 142.32814991474152 and parameters: {'alpha': 0.005485661957421302, 'lambda': 0.014940231397963575, 'gamma': 2, 'colsample_bytree': 0.5, 'subsample': 0.6, 'learning_rate': 0.08, 'n_estimators': 480, 'max_depth': 7, 'min_child_weight': 7}. Best is trial 71 with value: 130.86829733848572.\u001b[0m\n"
          ],
          "name": "stderr"
        },
        {
          "output_type": "stream",
          "text": [
            "[07:16:49] WARNING: /workspace/src/objective/regression_obj.cu:152: reg:linear is now deprecated in favor of reg:squarederror.\n"
          ],
          "name": "stdout"
        },
        {
          "output_type": "stream",
          "text": [
            "\u001b[32m[I 2021-07-18 07:16:50,533]\u001b[0m Trial 294 finished with value: 143.59304684400558 and parameters: {'alpha': 0.007677396099545411, 'lambda': 0.03250527704768103, 'gamma': 2, 'colsample_bytree': 0.5, 'subsample': 0.4, 'learning_rate': 0.08, 'n_estimators': 443, 'max_depth': 7, 'min_child_weight': 1}. Best is trial 71 with value: 130.86829733848572.\u001b[0m\n"
          ],
          "name": "stderr"
        },
        {
          "output_type": "stream",
          "text": [
            "[07:16:50] WARNING: /workspace/src/objective/regression_obj.cu:152: reg:linear is now deprecated in favor of reg:squarederror.\n"
          ],
          "name": "stdout"
        },
        {
          "output_type": "stream",
          "text": [
            "\u001b[32m[I 2021-07-18 07:16:51,215]\u001b[0m Trial 295 finished with value: 137.29850780963898 and parameters: {'alpha': 0.004067406655853935, 'lambda': 0.008503139585432876, 'gamma': 2, 'colsample_bytree': 0.5, 'subsample': 0.6, 'learning_rate': 0.08, 'n_estimators': 489, 'max_depth': 9, 'min_child_weight': 14}. Best is trial 71 with value: 130.86829733848572.\u001b[0m\n"
          ],
          "name": "stderr"
        },
        {
          "output_type": "stream",
          "text": [
            "[07:16:51] WARNING: /workspace/src/objective/regression_obj.cu:152: reg:linear is now deprecated in favor of reg:squarederror.\n"
          ],
          "name": "stdout"
        },
        {
          "output_type": "stream",
          "text": [
            "\u001b[32m[I 2021-07-18 07:16:51,813]\u001b[0m Trial 296 finished with value: 141.58357000350952 and parameters: {'alpha': 0.0019456532883528148, 'lambda': 0.011970512657156958, 'gamma': 2, 'colsample_bytree': 0.5, 'subsample': 1.0, 'learning_rate': 0.08, 'n_estimators': 454, 'max_depth': 7, 'min_child_weight': 7}. Best is trial 71 with value: 130.86829733848572.\u001b[0m\n"
          ],
          "name": "stderr"
        },
        {
          "output_type": "stream",
          "text": [
            "[07:16:51] WARNING: /workspace/src/objective/regression_obj.cu:152: reg:linear is now deprecated in favor of reg:squarederror.\n"
          ],
          "name": "stdout"
        },
        {
          "output_type": "stream",
          "text": [
            "\u001b[32m[I 2021-07-18 07:16:52,407]\u001b[0m Trial 297 finished with value: 137.17110586166382 and parameters: {'alpha': 0.002754893942956639, 'lambda': 0.02633637689458832, 'gamma': 2, 'colsample_bytree': 0.9, 'subsample': 0.6, 'learning_rate': 0.08, 'n_estimators': 411, 'max_depth': 7, 'min_child_weight': 6}. Best is trial 71 with value: 130.86829733848572.\u001b[0m\n"
          ],
          "name": "stderr"
        },
        {
          "output_type": "stream",
          "text": [
            "[07:16:52] WARNING: /workspace/src/objective/regression_obj.cu:152: reg:linear is now deprecated in favor of reg:squarederror.\n"
          ],
          "name": "stdout"
        },
        {
          "output_type": "stream",
          "text": [
            "\u001b[32m[I 2021-07-18 07:16:53,302]\u001b[0m Trial 298 finished with value: 131.92791640758514 and parameters: {'alpha': 0.005122202855238635, 'lambda': 0.009371127078107555, 'gamma': 2, 'colsample_bytree': 0.5, 'subsample': 0.6, 'learning_rate': 0.04, 'n_estimators': 509, 'max_depth': 7, 'min_child_weight': 1}. Best is trial 71 with value: 130.86829733848572.\u001b[0m\n"
          ],
          "name": "stderr"
        },
        {
          "output_type": "stream",
          "text": [
            "[07:16:53] WARNING: /workspace/src/objective/regression_obj.cu:152: reg:linear is now deprecated in favor of reg:squarederror.\n"
          ],
          "name": "stdout"
        },
        {
          "output_type": "stream",
          "text": [
            "\u001b[32m[I 2021-07-18 07:16:54,238]\u001b[0m Trial 299 finished with value: 135.8908189535141 and parameters: {'alpha': 0.0056046871071925965, 'lambda': 0.02065813863685918, 'gamma': 2, 'colsample_bytree': 0.5, 'subsample': 0.7, 'learning_rate': 0.04, 'n_estimators': 370, 'max_depth': 7, 'min_child_weight': 20}. Best is trial 71 with value: 130.86829733848572.\u001b[0m\n"
          ],
          "name": "stderr"
        },
        {
          "output_type": "stream",
          "text": [
            "[07:16:54] WARNING: /workspace/src/objective/regression_obj.cu:152: reg:linear is now deprecated in favor of reg:squarederror.\n"
          ],
          "name": "stdout"
        },
        {
          "output_type": "stream",
          "text": [
            "\u001b[32m[I 2021-07-18 07:16:54,898]\u001b[0m Trial 300 finished with value: 141.09109497070312 and parameters: {'alpha': 0.0022773006123367255, 'lambda': 0.01726990113894017, 'gamma': 2, 'colsample_bytree': 1.0, 'subsample': 0.6, 'learning_rate': 0.06, 'n_estimators': 428, 'max_depth': 5, 'min_child_weight': 1}. Best is trial 71 with value: 130.86829733848572.\u001b[0m\n"
          ],
          "name": "stderr"
        },
        {
          "output_type": "stream",
          "text": [
            "[07:16:54] WARNING: /workspace/src/objective/regression_obj.cu:152: reg:linear is now deprecated in favor of reg:squarederror.\n"
          ],
          "name": "stdout"
        },
        {
          "output_type": "stream",
          "text": [
            "\u001b[32m[I 2021-07-18 07:16:55,842]\u001b[0m Trial 301 finished with value: 138.78277277946472 and parameters: {'alpha': 0.0038754366578474275, 'lambda': 0.02834054228992394, 'gamma': 2, 'colsample_bytree': 0.5, 'subsample': 0.6, 'learning_rate': 0.04, 'n_estimators': 438, 'max_depth': 7, 'min_child_weight': 12}. Best is trial 71 with value: 130.86829733848572.\u001b[0m\n"
          ],
          "name": "stderr"
        },
        {
          "output_type": "stream",
          "text": [
            "[07:16:55] WARNING: /workspace/src/objective/regression_obj.cu:152: reg:linear is now deprecated in favor of reg:squarederror.\n"
          ],
          "name": "stdout"
        },
        {
          "output_type": "stream",
          "text": [
            "\u001b[32m[I 2021-07-18 07:16:56,726]\u001b[0m Trial 302 finished with value: 140.12268495559692 and parameters: {'alpha': 0.0066605100520464, 'lambda': 0.015210724442972293, 'gamma': 2, 'colsample_bytree': 0.7, 'subsample': 0.6, 'learning_rate': 0.04, 'n_estimators': 463, 'max_depth': 7, 'min_child_weight': 1}. Best is trial 71 with value: 130.86829733848572.\u001b[0m\n"
          ],
          "name": "stderr"
        },
        {
          "output_type": "stream",
          "text": [
            "[07:16:56] WARNING: /workspace/src/objective/regression_obj.cu:152: reg:linear is now deprecated in favor of reg:squarederror.\n"
          ],
          "name": "stdout"
        },
        {
          "output_type": "stream",
          "text": [
            "\u001b[32m[I 2021-07-18 07:16:58,023]\u001b[0m Trial 303 finished with value: 140.8531515598297 and parameters: {'alpha': 0.004223446391983551, 'lambda': 0.006949769345501894, 'gamma': 2, 'colsample_bytree': 0.5, 'subsample': 0.8, 'learning_rate': 0.02, 'n_estimators': 483, 'max_depth': 7, 'min_child_weight': 1}. Best is trial 71 with value: 130.86829733848572.\u001b[0m\n"
          ],
          "name": "stderr"
        },
        {
          "output_type": "stream",
          "text": [
            "[07:16:58] WARNING: /workspace/src/objective/regression_obj.cu:152: reg:linear is now deprecated in favor of reg:squarederror.\n"
          ],
          "name": "stdout"
        },
        {
          "output_type": "stream",
          "text": [
            "\u001b[32m[I 2021-07-18 07:16:58,726]\u001b[0m Trial 304 finished with value: 144.97190582752228 and parameters: {'alpha': 0.0031046671555138086, 'lambda': 0.010217822150630695, 'gamma': 2, 'colsample_bytree': 0.5, 'subsample': 0.6, 'learning_rate': 0.04, 'n_estimators': 433, 'max_depth': 3, 'min_child_weight': 11}. Best is trial 71 with value: 130.86829733848572.\u001b[0m\n"
          ],
          "name": "stderr"
        },
        {
          "output_type": "stream",
          "text": [
            "[07:16:58] WARNING: /workspace/src/objective/regression_obj.cu:152: reg:linear is now deprecated in favor of reg:squarederror.\n"
          ],
          "name": "stdout"
        },
        {
          "output_type": "stream",
          "text": [
            "\u001b[32m[I 2021-07-18 07:16:59,529]\u001b[0m Trial 305 finished with value: 141.7953976392746 and parameters: {'alpha': 0.005060303007917571, 'lambda': 0.0753547118798672, 'gamma': 2, 'colsample_bytree': 0.5, 'subsample': 0.6, 'learning_rate': 0.04, 'n_estimators': 496, 'max_depth': 13, 'min_child_weight': 7}. Best is trial 71 with value: 130.86829733848572.\u001b[0m\n"
          ],
          "name": "stderr"
        },
        {
          "output_type": "stream",
          "text": [
            "[07:16:59] WARNING: /workspace/src/objective/regression_obj.cu:152: reg:linear is now deprecated in favor of reg:squarederror.\n"
          ],
          "name": "stdout"
        },
        {
          "output_type": "stream",
          "text": [
            "\u001b[32m[I 2021-07-18 07:17:00,306]\u001b[0m Trial 306 finished with value: 139.5214513540268 and parameters: {'alpha': 0.009204925556175305, 'lambda': 0.02416551009155617, 'gamma': 2, 'colsample_bytree': 0.3, 'subsample': 0.6, 'learning_rate': 0.08, 'n_estimators': 426, 'max_depth': 7, 'min_child_weight': 1}. Best is trial 71 with value: 130.86829733848572.\u001b[0m\n"
          ],
          "name": "stderr"
        },
        {
          "output_type": "stream",
          "text": [
            "[07:17:00] WARNING: /workspace/src/objective/regression_obj.cu:152: reg:linear is now deprecated in favor of reg:squarederror.\n"
          ],
          "name": "stdout"
        },
        {
          "output_type": "stream",
          "text": [
            "\u001b[32m[I 2021-07-18 07:17:01,552]\u001b[0m Trial 307 finished with value: 144.2923526763916 and parameters: {'alpha': 0.006089820985058787, 'lambda': 0.013112446118471368, 'gamma': 2, 'colsample_bytree': 0.5, 'subsample': 0.6, 'learning_rate': 0.04, 'n_estimators': 478, 'max_depth': 7, 'min_child_weight': 25}. Best is trial 71 with value: 130.86829733848572.\u001b[0m\n"
          ],
          "name": "stderr"
        },
        {
          "output_type": "stream",
          "text": [
            "[07:17:01] WARNING: /workspace/src/objective/regression_obj.cu:152: reg:linear is now deprecated in favor of reg:squarederror.\n"
          ],
          "name": "stdout"
        },
        {
          "output_type": "stream",
          "text": [
            "\u001b[32m[I 2021-07-18 07:17:02,551]\u001b[0m Trial 308 finished with value: 143.49066078662872 and parameters: {'alpha': 0.009672621280039883, 'lambda': 0.006325133949956125, 'gamma': 2, 'colsample_bytree': 0.5, 'subsample': 0.6, 'learning_rate': 0.01, 'n_estimators': 273, 'max_depth': 7, 'min_child_weight': 17}. Best is trial 71 with value: 130.86829733848572.\u001b[0m\n"
          ],
          "name": "stderr"
        },
        {
          "output_type": "stream",
          "text": [
            "[07:17:02] WARNING: /workspace/src/objective/regression_obj.cu:152: reg:linear is now deprecated in favor of reg:squarederror.\n"
          ],
          "name": "stdout"
        },
        {
          "output_type": "stream",
          "text": [
            "\u001b[32m[I 2021-07-18 07:17:03,443]\u001b[0m Trial 309 finished with value: 131.92791640758514 and parameters: {'alpha': 0.011175085909100779, 'lambda': 0.016533455783319457, 'gamma': 2, 'colsample_bytree': 0.5, 'subsample': 0.6, 'learning_rate': 0.04, 'n_estimators': 522, 'max_depth': 7, 'min_child_weight': 1}. Best is trial 71 with value: 130.86829733848572.\u001b[0m\n"
          ],
          "name": "stderr"
        },
        {
          "output_type": "stream",
          "text": [
            "[07:17:03] WARNING: /workspace/src/objective/regression_obj.cu:152: reg:linear is now deprecated in favor of reg:squarederror.\n"
          ],
          "name": "stdout"
        },
        {
          "output_type": "stream",
          "text": [
            "\u001b[32m[I 2021-07-18 07:17:04,205]\u001b[0m Trial 310 finished with value: 140.73099553585052 and parameters: {'alpha': 0.008380927034640518, 'lambda': 0.018737539165337134, 'gamma': 2, 'colsample_bytree': 0.5, 'subsample': 0.6, 'learning_rate': 0.04, 'n_estimators': 394, 'max_depth': 7, 'min_child_weight': 7}. Best is trial 71 with value: 130.86829733848572.\u001b[0m\n"
          ],
          "name": "stderr"
        },
        {
          "output_type": "stream",
          "text": [
            "[07:17:04] WARNING: /workspace/src/objective/regression_obj.cu:152: reg:linear is now deprecated in favor of reg:squarederror.\n"
          ],
          "name": "stdout"
        },
        {
          "output_type": "stream",
          "text": [
            "\u001b[32m[I 2021-07-18 07:17:05,205]\u001b[0m Trial 311 finished with value: 138.40695548057556 and parameters: {'alpha': 0.0042445203376287235, 'lambda': 0.02387154943216132, 'gamma': 0, 'colsample_bytree': 0.5, 'subsample': 0.6, 'learning_rate': 0.04, 'n_estimators': 421, 'max_depth': 9, 'min_child_weight': 12}. Best is trial 71 with value: 130.86829733848572.\u001b[0m\n"
          ],
          "name": "stderr"
        },
        {
          "output_type": "stream",
          "text": [
            "[07:17:05] WARNING: /workspace/src/objective/regression_obj.cu:152: reg:linear is now deprecated in favor of reg:squarederror.\n"
          ],
          "name": "stdout"
        },
        {
          "output_type": "stream",
          "text": [
            "\u001b[32m[I 2021-07-18 07:17:06,934]\u001b[0m Trial 312 finished with value: 132.1305400133133 and parameters: {'alpha': 0.003439106079045408, 'lambda': 0.027279134113985276, 'gamma': 2, 'colsample_bytree': 0.5, 'subsample': 0.6, 'learning_rate': 0.04, 'n_estimators': 508, 'max_depth': 17, 'min_child_weight': 1}. Best is trial 71 with value: 130.86829733848572.\u001b[0m\n"
          ],
          "name": "stderr"
        },
        {
          "output_type": "stream",
          "text": [
            "[07:17:06] WARNING: /workspace/src/objective/regression_obj.cu:152: reg:linear is now deprecated in favor of reg:squarederror.\n"
          ],
          "name": "stdout"
        },
        {
          "output_type": "stream",
          "text": [
            "\u001b[32m[I 2021-07-18 07:17:07,668]\u001b[0m Trial 313 finished with value: 140.73099553585052 and parameters: {'alpha': 0.002797473335623029, 'lambda': 0.01321116367010194, 'gamma': 2, 'colsample_bytree': 0.5, 'subsample': 0.6, 'learning_rate': 0.04, 'n_estimators': 453, 'max_depth': 7, 'min_child_weight': 7}. Best is trial 71 with value: 130.86829733848572.\u001b[0m\n"
          ],
          "name": "stderr"
        },
        {
          "output_type": "stream",
          "text": [
            "[07:17:07] WARNING: /workspace/src/objective/regression_obj.cu:152: reg:linear is now deprecated in favor of reg:squarederror.\n"
          ],
          "name": "stdout"
        },
        {
          "output_type": "stream",
          "text": [
            "\u001b[32m[I 2021-07-18 07:17:08,545]\u001b[0m Trial 314 finished with value: 131.92791640758514 and parameters: {'alpha': 0.008243364185178062, 'lambda': 0.019844361630068977, 'gamma': 2, 'colsample_bytree': 0.5, 'subsample': 0.6, 'learning_rate': 0.04, 'n_estimators': 436, 'max_depth': 7, 'min_child_weight': 1}. Best is trial 71 with value: 130.86829733848572.\u001b[0m\n"
          ],
          "name": "stderr"
        },
        {
          "output_type": "stream",
          "text": [
            "[07:17:08] WARNING: /workspace/src/objective/regression_obj.cu:152: reg:linear is now deprecated in favor of reg:squarederror.\n"
          ],
          "name": "stdout"
        },
        {
          "output_type": "stream",
          "text": [
            "\u001b[32m[I 2021-07-18 07:17:10,724]\u001b[0m Trial 315 finished with value: 140.30085730552673 and parameters: {'alpha': 0.003430281186904835, 'lambda': 0.02034526717235478, 'gamma': 2, 'colsample_bytree': 0.5, 'subsample': 0.6, 'learning_rate': 0.04, 'n_estimators': 444, 'max_depth': 20, 'min_child_weight': 14}. Best is trial 71 with value: 130.86829733848572.\u001b[0m\n"
          ],
          "name": "stderr"
        },
        {
          "output_type": "stream",
          "text": [
            "[07:17:10] WARNING: /workspace/src/objective/regression_obj.cu:152: reg:linear is now deprecated in favor of reg:squarederror.\n"
          ],
          "name": "stdout"
        },
        {
          "output_type": "stream",
          "text": [
            "\u001b[32m[I 2021-07-18 07:17:11,472]\u001b[0m Trial 316 finished with value: 137.92159759998322 and parameters: {'alpha': 0.0032288956452727383, 'lambda': 0.22233004542816695, 'gamma': 2, 'colsample_bytree': 0.4, 'subsample': 0.6, 'learning_rate': 0.04, 'n_estimators': 431, 'max_depth': 7, 'min_child_weight': 6}. Best is trial 71 with value: 130.86829733848572.\u001b[0m\n"
          ],
          "name": "stderr"
        },
        {
          "output_type": "stream",
          "text": [
            "[07:17:11] WARNING: /workspace/src/objective/regression_obj.cu:152: reg:linear is now deprecated in favor of reg:squarederror.\n"
          ],
          "name": "stdout"
        },
        {
          "output_type": "stream",
          "text": [
            "\u001b[32m[I 2021-07-18 07:17:12,240]\u001b[0m Trial 317 finished with value: 140.8213939666748 and parameters: {'alpha': 0.0022858832061852163, 'lambda': 0.011929871033481542, 'gamma': 2, 'colsample_bytree': 0.5, 'subsample': 0.6, 'learning_rate': 0.08, 'n_estimators': 471, 'max_depth': 7, 'min_child_weight': 19}. Best is trial 71 with value: 130.86829733848572.\u001b[0m\n"
          ],
          "name": "stderr"
        },
        {
          "output_type": "stream",
          "text": [
            "[07:17:12] WARNING: /workspace/src/objective/regression_obj.cu:152: reg:linear is now deprecated in favor of reg:squarederror.\n"
          ],
          "name": "stdout"
        },
        {
          "output_type": "stream",
          "text": [
            "\u001b[32m[I 2021-07-18 07:17:13,564]\u001b[0m Trial 318 finished with value: 153.27392530441284 and parameters: {'alpha': 0.004579879882727501, 'lambda': 0.03403670892477119, 'gamma': 2, 'colsample_bytree': 0.5, 'subsample': 0.6, 'learning_rate': 0.04, 'n_estimators': 411, 'max_depth': 7, 'min_child_weight': 66}. Best is trial 71 with value: 130.86829733848572.\u001b[0m\n"
          ],
          "name": "stderr"
        },
        {
          "output_type": "stream",
          "text": [
            "[07:17:13] WARNING: /workspace/src/objective/regression_obj.cu:152: reg:linear is now deprecated in favor of reg:squarederror.\n"
          ],
          "name": "stdout"
        },
        {
          "output_type": "stream",
          "text": [
            "\u001b[32m[I 2021-07-18 07:17:14,456]\u001b[0m Trial 319 finished with value: 131.92791640758514 and parameters: {'alpha': 0.005463184906074747, 'lambda': 0.02299528672246393, 'gamma': 2, 'colsample_bytree': 0.5, 'subsample': 0.6, 'learning_rate': 0.04, 'n_estimators': 446, 'max_depth': 7, 'min_child_weight': 1}. Best is trial 71 with value: 130.86829733848572.\u001b[0m\n"
          ],
          "name": "stderr"
        },
        {
          "output_type": "stream",
          "text": [
            "[07:17:14] WARNING: /workspace/src/objective/regression_obj.cu:152: reg:linear is now deprecated in favor of reg:squarederror.\n"
          ],
          "name": "stdout"
        },
        {
          "output_type": "stream",
          "text": [
            "\u001b[32m[I 2021-07-18 07:17:15,170]\u001b[0m Trial 320 finished with value: 142.45755672454834 and parameters: {'alpha': 3.760316812331431, 'lambda': 0.023073544698794697, 'gamma': 2, 'colsample_bytree': 0.8, 'subsample': 0.6, 'learning_rate': 0.04, 'n_estimators': 454, 'max_depth': 5, 'min_child_weight': 11}. Best is trial 71 with value: 130.86829733848572.\u001b[0m\n"
          ],
          "name": "stderr"
        },
        {
          "output_type": "stream",
          "text": [
            "[07:17:15] WARNING: /workspace/src/objective/regression_obj.cu:152: reg:linear is now deprecated in favor of reg:squarederror.\n"
          ],
          "name": "stdout"
        },
        {
          "output_type": "stream",
          "text": [
            "\u001b[32m[I 2021-07-18 07:17:16,044]\u001b[0m Trial 321 finished with value: 131.92791640758514 and parameters: {'alpha': 0.010792068802699402, 'lambda': 0.00837985118462778, 'gamma': 2, 'colsample_bytree': 0.5, 'subsample': 0.6, 'learning_rate': 0.04, 'n_estimators': 445, 'max_depth': 7, 'min_child_weight': 1}. Best is trial 71 with value: 130.86829733848572.\u001b[0m\n"
          ],
          "name": "stderr"
        },
        {
          "output_type": "stream",
          "text": [
            "[07:17:16] WARNING: /workspace/src/objective/regression_obj.cu:152: reg:linear is now deprecated in favor of reg:squarederror.\n"
          ],
          "name": "stdout"
        },
        {
          "output_type": "stream",
          "text": [
            "\u001b[32m[I 2021-07-18 07:17:16,873]\u001b[0m Trial 322 finished with value: 144.6058715581894 and parameters: {'alpha': 0.0037764006960099216, 'lambda': 0.03222898599422286, 'gamma': 2, 'colsample_bytree': 0.5, 'subsample': 0.4, 'learning_rate': 0.04, 'n_estimators': 446, 'max_depth': 7, 'min_child_weight': 7}. Best is trial 71 with value: 130.86829733848572.\u001b[0m\n"
          ],
          "name": "stderr"
        },
        {
          "output_type": "stream",
          "text": [
            "[07:17:16] WARNING: /workspace/src/objective/regression_obj.cu:152: reg:linear is now deprecated in favor of reg:squarederror.\n"
          ],
          "name": "stdout"
        },
        {
          "output_type": "stream",
          "text": [
            "\u001b[32m[I 2021-07-18 07:17:18,372]\u001b[0m Trial 323 finished with value: 197.20412731170654 and parameters: {'alpha': 0.009543444883902321, 'lambda': 0.12186014345301424, 'gamma': 2, 'colsample_bytree': 0.5, 'subsample': 0.6, 'learning_rate': 0.04, 'n_estimators': 484, 'max_depth': 7, 'min_child_weight': 177}. Best is trial 71 with value: 130.86829733848572.\u001b[0m\n"
          ],
          "name": "stderr"
        },
        {
          "output_type": "stream",
          "text": [
            "[07:17:18] WARNING: /workspace/src/objective/regression_obj.cu:152: reg:linear is now deprecated in favor of reg:squarederror.\n"
          ],
          "name": "stdout"
        },
        {
          "output_type": "stream",
          "text": [
            "\u001b[32m[I 2021-07-18 07:17:19,251]\u001b[0m Trial 324 finished with value: 131.92791640758514 and parameters: {'alpha': 0.001717038493641779, 'lambda': 0.0260960059175476, 'gamma': 2, 'colsample_bytree': 0.5, 'subsample': 0.6, 'learning_rate': 0.04, 'n_estimators': 442, 'max_depth': 7, 'min_child_weight': 1}. Best is trial 71 with value: 130.86829733848572.\u001b[0m\n"
          ],
          "name": "stderr"
        },
        {
          "output_type": "stream",
          "text": [
            "[07:17:19] WARNING: /workspace/src/objective/regression_obj.cu:152: reg:linear is now deprecated in favor of reg:squarederror.\n"
          ],
          "name": "stdout"
        },
        {
          "output_type": "stream",
          "text": [
            "\u001b[32m[I 2021-07-18 07:17:20,138]\u001b[0m Trial 325 finished with value: 144.39251029491425 and parameters: {'alpha': 0.0050843140554219304, 'lambda': 0.014791476673237637, 'gamma': 2, 'colsample_bytree': 0.5, 'subsample': 0.6, 'learning_rate': 0.04, 'n_estimators': 456, 'max_depth': 15, 'min_child_weight': 11}. Best is trial 71 with value: 130.86829733848572.\u001b[0m\n"
          ],
          "name": "stderr"
        },
        {
          "output_type": "stream",
          "text": [
            "[07:17:20] WARNING: /workspace/src/objective/regression_obj.cu:152: reg:linear is now deprecated in favor of reg:squarederror.\n"
          ],
          "name": "stdout"
        },
        {
          "output_type": "stream",
          "text": [
            "\u001b[32m[I 2021-07-18 07:17:20,869]\u001b[0m Trial 326 finished with value: 131.20732218027115 and parameters: {'alpha': 0.0010546044502990383, 'lambda': 0.14632017116556092, 'gamma': 2, 'colsample_bytree': 0.5, 'subsample': 0.6, 'learning_rate': 0.08, 'n_estimators': 417, 'max_depth': 7, 'min_child_weight': 1}. Best is trial 71 with value: 130.86829733848572.\u001b[0m\n"
          ],
          "name": "stderr"
        },
        {
          "output_type": "stream",
          "text": [
            "[07:17:20] WARNING: /workspace/src/objective/regression_obj.cu:152: reg:linear is now deprecated in favor of reg:squarederror.\n"
          ],
          "name": "stdout"
        },
        {
          "output_type": "stream",
          "text": [
            "\u001b[32m[I 2021-07-18 07:17:21,472]\u001b[0m Trial 327 finished with value: 139.59507083892822 and parameters: {'alpha': 0.001832355072787237, 'lambda': 0.14741289357784754, 'gamma': 2, 'colsample_bytree': 0.5, 'subsample': 1.0, 'learning_rate': 0.08, 'n_estimators': 401, 'max_depth': 7, 'min_child_weight': 6}. Best is trial 71 with value: 130.86829733848572.\u001b[0m\n"
          ],
          "name": "stderr"
        },
        {
          "output_type": "stream",
          "text": [
            "[07:17:21] WARNING: /workspace/src/objective/regression_obj.cu:152: reg:linear is now deprecated in favor of reg:squarederror.\n"
          ],
          "name": "stdout"
        },
        {
          "output_type": "stream",
          "text": [
            "\u001b[32m[I 2021-07-18 07:17:22,682]\u001b[0m Trial 328 finished with value: 153.06282925605774 and parameters: {'alpha': 0.004833859309095348, 'lambda': 0.11839190760521384, 'gamma': 2, 'colsample_bytree': 0.9, 'subsample': 0.7, 'learning_rate': 0.08, 'n_estimators': 473, 'max_depth': 9, 'min_child_weight': 150}. Best is trial 71 with value: 130.86829733848572.\u001b[0m\n"
          ],
          "name": "stderr"
        },
        {
          "output_type": "stream",
          "text": [
            "[07:17:22] WARNING: /workspace/src/objective/regression_obj.cu:152: reg:linear is now deprecated in favor of reg:squarederror.\n"
          ],
          "name": "stdout"
        },
        {
          "output_type": "stream",
          "text": [
            "\u001b[32m[I 2021-07-18 07:17:23,319]\u001b[0m Trial 329 finished with value: 142.66108345985413 and parameters: {'alpha': 0.0014474447024750928, 'lambda': 0.015989391351089295, 'gamma': 2, 'colsample_bytree': 0.5, 'subsample': 0.6, 'learning_rate': 0.08, 'n_estimators': 538, 'max_depth': 7, 'min_child_weight': 17}. Best is trial 71 with value: 130.86829733848572.\u001b[0m\n"
          ],
          "name": "stderr"
        },
        {
          "output_type": "stream",
          "text": [
            "[07:17:23] WARNING: /workspace/src/objective/regression_obj.cu:152: reg:linear is now deprecated in favor of reg:squarederror.\n"
          ],
          "name": "stdout"
        },
        {
          "output_type": "stream",
          "text": [
            "\u001b[32m[I 2021-07-18 07:17:24,047]\u001b[0m Trial 330 finished with value: 131.20732218027115 and parameters: {'alpha': 0.004142068786661705, 'lambda': 0.16166383090854522, 'gamma': 2, 'colsample_bytree': 0.5, 'subsample': 0.6, 'learning_rate': 0.08, 'n_estimators': 421, 'max_depth': 7, 'min_child_weight': 1}. Best is trial 71 with value: 130.86829733848572.\u001b[0m\n"
          ],
          "name": "stderr"
        },
        {
          "output_type": "stream",
          "text": [
            "[07:17:24] WARNING: /workspace/src/objective/regression_obj.cu:152: reg:linear is now deprecated in favor of reg:squarederror.\n"
          ],
          "name": "stdout"
        },
        {
          "output_type": "stream",
          "text": [
            "\u001b[32m[I 2021-07-18 07:17:24,792]\u001b[0m Trial 331 finished with value: 131.20732218027115 and parameters: {'alpha': 0.00746417973876607, 'lambda': 0.10779988544985701, 'gamma': 2, 'colsample_bytree': 0.5, 'subsample': 0.6, 'learning_rate': 0.08, 'n_estimators': 405, 'max_depth': 7, 'min_child_weight': 1}. Best is trial 71 with value: 130.86829733848572.\u001b[0m\n"
          ],
          "name": "stderr"
        },
        {
          "output_type": "stream",
          "text": [
            "[07:17:24] WARNING: /workspace/src/objective/regression_obj.cu:152: reg:linear is now deprecated in favor of reg:squarederror.\n"
          ],
          "name": "stdout"
        },
        {
          "output_type": "stream",
          "text": [
            "\u001b[32m[I 2021-07-18 07:17:25,523]\u001b[0m Trial 332 finished with value: 131.20732218027115 and parameters: {'alpha': 0.013212779360754526, 'lambda': 0.14634144409795094, 'gamma': 2, 'colsample_bytree': 0.5, 'subsample': 0.6, 'learning_rate': 0.08, 'n_estimators': 419, 'max_depth': 7, 'min_child_weight': 1}. Best is trial 71 with value: 130.86829733848572.\u001b[0m\n"
          ],
          "name": "stderr"
        },
        {
          "output_type": "stream",
          "text": [
            "[07:17:25] WARNING: /workspace/src/objective/regression_obj.cu:152: reg:linear is now deprecated in favor of reg:squarederror.\n"
          ],
          "name": "stdout"
        },
        {
          "output_type": "stream",
          "text": [
            "\u001b[32m[I 2021-07-18 07:17:26,109]\u001b[0m Trial 333 finished with value: 138.36670356988907 and parameters: {'alpha': 0.0140339191990948, 'lambda': 0.2045941186872987, 'gamma': 2, 'colsample_bytree': 0.5, 'subsample': 0.8, 'learning_rate': 0.08, 'n_estimators': 403, 'max_depth': 7, 'min_child_weight': 7}. Best is trial 71 with value: 130.86829733848572.\u001b[0m\n"
          ],
          "name": "stderr"
        },
        {
          "output_type": "stream",
          "text": [
            "[07:17:26] WARNING: /workspace/src/objective/regression_obj.cu:152: reg:linear is now deprecated in favor of reg:squarederror.\n"
          ],
          "name": "stdout"
        },
        {
          "output_type": "stream",
          "text": [
            "\u001b[32m[I 2021-07-18 07:17:26,681]\u001b[0m Trial 334 finished with value: 135.48351681232452 and parameters: {'alpha': 0.004504544738173614, 'lambda': 0.16029159107654586, 'gamma': 2, 'colsample_bytree': 1.0, 'subsample': 0.6, 'learning_rate': 0.08, 'n_estimators': 407, 'max_depth': 7, 'min_child_weight': 12}. Best is trial 71 with value: 130.86829733848572.\u001b[0m\n"
          ],
          "name": "stderr"
        },
        {
          "output_type": "stream",
          "text": [
            "[07:17:26] WARNING: /workspace/src/objective/regression_obj.cu:152: reg:linear is now deprecated in favor of reg:squarederror.\n"
          ],
          "name": "stdout"
        },
        {
          "output_type": "stream",
          "text": [
            "\u001b[32m[I 2021-07-18 07:17:27,216]\u001b[0m Trial 335 finished with value: 140.70316624641418 and parameters: {'alpha': 0.00700091822904745, 'lambda': 0.20872179025185877, 'gamma': 2, 'colsample_bytree': 0.7, 'subsample': 0.6, 'learning_rate': 0.08, 'n_estimators': 423, 'max_depth': 5, 'min_child_weight': 6}. Best is trial 71 with value: 130.86829733848572.\u001b[0m\n"
          ],
          "name": "stderr"
        },
        {
          "output_type": "stream",
          "text": [
            "[07:17:27] WARNING: /workspace/src/objective/regression_obj.cu:152: reg:linear is now deprecated in favor of reg:squarederror.\n"
          ],
          "name": "stdout"
        },
        {
          "output_type": "stream",
          "text": [
            "\u001b[32m[I 2021-07-18 07:17:27,942]\u001b[0m Trial 336 finished with value: 131.20732218027115 and parameters: {'alpha': 0.012202621896041363, 'lambda': 0.23183556601436742, 'gamma': 2, 'colsample_bytree': 0.5, 'subsample': 0.6, 'learning_rate': 0.08, 'n_estimators': 418, 'max_depth': 7, 'min_child_weight': 1}. Best is trial 71 with value: 130.86829733848572.\u001b[0m\n"
          ],
          "name": "stderr"
        },
        {
          "output_type": "stream",
          "text": [
            "[07:17:27] WARNING: /workspace/src/objective/regression_obj.cu:152: reg:linear is now deprecated in favor of reg:squarederror.\n"
          ],
          "name": "stdout"
        },
        {
          "output_type": "stream",
          "text": [
            "\u001b[32m[I 2021-07-18 07:17:28,695]\u001b[0m Trial 337 finished with value: 138.02681231498718 and parameters: {'alpha': 0.011433593953111684, 'lambda': 0.38893438795381935, 'gamma': 2, 'colsample_bytree': 0.5, 'subsample': 0.6, 'learning_rate': 0.08, 'n_estimators': 415, 'max_depth': 7, 'min_child_weight': 20}. Best is trial 71 with value: 130.86829733848572.\u001b[0m\n"
          ],
          "name": "stderr"
        },
        {
          "output_type": "stream",
          "text": [
            "[07:17:28] WARNING: /workspace/src/objective/regression_obj.cu:152: reg:linear is now deprecated in favor of reg:squarederror.\n"
          ],
          "name": "stdout"
        },
        {
          "output_type": "stream",
          "text": [
            "\u001b[32m[I 2021-07-18 07:17:29,286]\u001b[0m Trial 338 finished with value: 138.03715419769287 and parameters: {'alpha': 0.011292543823209255, 'lambda': 0.3452283601750327, 'gamma': 2, 'colsample_bytree': 0.5, 'subsample': 0.6, 'learning_rate': 0.08, 'n_estimators': 341, 'max_depth': 7, 'min_child_weight': 6}. Best is trial 71 with value: 130.86829733848572.\u001b[0m\n"
          ],
          "name": "stderr"
        },
        {
          "output_type": "stream",
          "text": [
            "[07:17:29] WARNING: /workspace/src/objective/regression_obj.cu:152: reg:linear is now deprecated in favor of reg:squarederror.\n"
          ],
          "name": "stdout"
        },
        {
          "output_type": "stream",
          "text": [
            "\u001b[32m[I 2021-07-18 07:17:30,492]\u001b[0m Trial 339 finished with value: 142.7684623003006 and parameters: {'alpha': 0.005111894162662775, 'lambda': 0.2798996233413714, 'gamma': 2, 'colsample_bytree': 0.3, 'subsample': 0.6, 'learning_rate': 0.08, 'n_estimators': 416, 'max_depth': 13, 'min_child_weight': 1}. Best is trial 71 with value: 130.86829733848572.\u001b[0m\n"
          ],
          "name": "stderr"
        },
        {
          "output_type": "stream",
          "text": [
            "[07:17:30] WARNING: /workspace/src/objective/regression_obj.cu:152: reg:linear is now deprecated in favor of reg:squarederror.\n"
          ],
          "name": "stdout"
        },
        {
          "output_type": "stream",
          "text": [
            "\u001b[32m[I 2021-07-18 07:17:31,120]\u001b[0m Trial 340 finished with value: 143.7776379585266 and parameters: {'alpha': 0.00795665410461667, 'lambda': 0.25253688555908566, 'gamma': 2, 'colsample_bytree': 0.5, 'subsample': 0.6, 'learning_rate': 0.08, 'n_estimators': 388, 'max_depth': 3, 'min_child_weight': 13}. Best is trial 71 with value: 130.86829733848572.\u001b[0m\n"
          ],
          "name": "stderr"
        },
        {
          "output_type": "stream",
          "text": [
            "[07:17:31] WARNING: /workspace/src/objective/regression_obj.cu:152: reg:linear is now deprecated in favor of reg:squarederror.\n"
          ],
          "name": "stdout"
        },
        {
          "output_type": "stream",
          "text": [
            "\u001b[32m[I 2021-07-18 07:17:32,003]\u001b[0m Trial 341 finished with value: 144.4609889984131 and parameters: {'alpha': 0.012597461924026984, 'lambda': 0.1319785885128304, 'gamma': 2, 'colsample_bytree': 0.5, 'subsample': 0.6, 'learning_rate': 0.08, 'n_estimators': 517, 'max_depth': 7, 'min_child_weight': 29}. Best is trial 71 with value: 130.86829733848572.\u001b[0m\n"
          ],
          "name": "stderr"
        },
        {
          "output_type": "stream",
          "text": [
            "[07:17:32] WARNING: /workspace/src/objective/regression_obj.cu:152: reg:linear is now deprecated in favor of reg:squarederror.\n"
          ],
          "name": "stdout"
        },
        {
          "output_type": "stream",
          "text": [
            "\u001b[32m[I 2021-07-18 07:17:32,732]\u001b[0m Trial 342 finished with value: 131.20732218027115 and parameters: {'alpha': 0.006266061659369435, 'lambda': 0.15293179843325033, 'gamma': 2, 'colsample_bytree': 0.5, 'subsample': 0.6, 'learning_rate': 0.08, 'n_estimators': 533, 'max_depth': 7, 'min_child_weight': 1}. Best is trial 71 with value: 130.86829733848572.\u001b[0m\n"
          ],
          "name": "stderr"
        },
        {
          "output_type": "stream",
          "text": [
            "[07:17:32] WARNING: /workspace/src/objective/regression_obj.cu:152: reg:linear is now deprecated in favor of reg:squarederror.\n"
          ],
          "name": "stdout"
        },
        {
          "output_type": "stream",
          "text": [
            "\u001b[32m[I 2021-07-18 07:17:33,426]\u001b[0m Trial 343 finished with value: 139.37016665935516 and parameters: {'alpha': 0.0012172851714622502, 'lambda': 0.17809219513843588, 'gamma': 2, 'colsample_bytree': 0.5, 'subsample': 0.6, 'learning_rate': 0.08, 'n_estimators': 394, 'max_depth': 17, 'min_child_weight': 11}. Best is trial 71 with value: 130.86829733848572.\u001b[0m\n"
          ],
          "name": "stderr"
        },
        {
          "output_type": "stream",
          "text": [
            "[07:17:33] WARNING: /workspace/src/objective/regression_obj.cu:152: reg:linear is now deprecated in favor of reg:squarederror.\n"
          ],
          "name": "stdout"
        },
        {
          "output_type": "stream",
          "text": [
            "\u001b[32m[I 2021-07-18 07:17:34,163]\u001b[0m Trial 344 finished with value: 131.20732218027115 and parameters: {'alpha': 0.007312107957634257, 'lambda': 0.10178744257171216, 'gamma': 2, 'colsample_bytree': 0.5, 'subsample': 0.6, 'learning_rate': 0.08, 'n_estimators': 421, 'max_depth': 7, 'min_child_weight': 1}. Best is trial 71 with value: 130.86829733848572.\u001b[0m\n"
          ],
          "name": "stderr"
        },
        {
          "output_type": "stream",
          "text": [
            "[07:17:34] WARNING: /workspace/src/objective/regression_obj.cu:152: reg:linear is now deprecated in favor of reg:squarederror.\n"
          ],
          "name": "stdout"
        },
        {
          "output_type": "stream",
          "text": [
            "\u001b[32m[I 2021-07-18 07:17:34,890]\u001b[0m Trial 345 finished with value: 131.20732218027115 and parameters: {'alpha': 0.21753253277093432, 'lambda': 0.08087467910012068, 'gamma': 2, 'colsample_bytree': 0.5, 'subsample': 0.6, 'learning_rate': 0.08, 'n_estimators': 419, 'max_depth': 7, 'min_child_weight': 1}. Best is trial 71 with value: 130.86829733848572.\u001b[0m\n"
          ],
          "name": "stderr"
        },
        {
          "output_type": "stream",
          "text": [
            "[07:17:34] WARNING: /workspace/src/objective/regression_obj.cu:152: reg:linear is now deprecated in favor of reg:squarederror.\n"
          ],
          "name": "stdout"
        },
        {
          "output_type": "stream",
          "text": [
            "\u001b[32m[I 2021-07-18 07:17:35,512]\u001b[0m Trial 346 finished with value: 137.52007603645325 and parameters: {'alpha': 0.2068618341338601, 'lambda': 0.09206382003928727, 'gamma': 2, 'colsample_bytree': 0.5, 'subsample': 0.6, 'learning_rate': 0.08, 'n_estimators': 407, 'max_depth': 9, 'min_child_weight': 6}. Best is trial 71 with value: 130.86829733848572.\u001b[0m\n"
          ],
          "name": "stderr"
        },
        {
          "output_type": "stream",
          "text": [
            "[07:17:35] WARNING: /workspace/src/objective/regression_obj.cu:152: reg:linear is now deprecated in favor of reg:squarederror.\n"
          ],
          "name": "stdout"
        },
        {
          "output_type": "stream",
          "text": [
            "\u001b[32m[I 2021-07-18 07:17:36,189]\u001b[0m Trial 347 finished with value: 141.19365894794464 and parameters: {'alpha': 2.284189193129866, 'lambda': 0.05913092268222067, 'gamma': 2, 'colsample_bytree': 0.5, 'subsample': 0.6, 'learning_rate': 0.08, 'n_estimators': 421, 'max_depth': 7, 'min_child_weight': 15}. Best is trial 71 with value: 130.86829733848572.\u001b[0m\n"
          ],
          "name": "stderr"
        },
        {
          "output_type": "stream",
          "text": [
            "[07:17:36] WARNING: /workspace/src/objective/regression_obj.cu:152: reg:linear is now deprecated in favor of reg:squarederror.\n"
          ],
          "name": "stdout"
        },
        {
          "output_type": "stream",
          "text": [
            "\u001b[32m[I 2021-07-18 07:17:37,956]\u001b[0m Trial 348 finished with value: 142.57510489225388 and parameters: {'alpha': 0.0010358272135281025, 'lambda': 0.17873998160476265, 'gamma': 2, 'colsample_bytree': 0.5, 'subsample': 0.6, 'learning_rate': 0.08, 'n_estimators': 548, 'max_depth': 20, 'min_child_weight': 7}. Best is trial 71 with value: 130.86829733848572.\u001b[0m\n"
          ],
          "name": "stderr"
        },
        {
          "output_type": "stream",
          "text": [
            "[07:17:37] WARNING: /workspace/src/objective/regression_obj.cu:152: reg:linear is now deprecated in favor of reg:squarederror.\n"
          ],
          "name": "stdout"
        },
        {
          "output_type": "stream",
          "text": [
            "\u001b[32m[I 2021-07-18 07:17:38,691]\u001b[0m Trial 349 finished with value: 131.20732218027115 and parameters: {'alpha': 0.24468193336655808, 'lambda': 0.09000278004576948, 'gamma': 2, 'colsample_bytree': 0.5, 'subsample': 0.6, 'learning_rate': 0.08, 'n_estimators': 532, 'max_depth': 7, 'min_child_weight': 1}. Best is trial 71 with value: 130.86829733848572.\u001b[0m\n"
          ],
          "name": "stderr"
        },
        {
          "output_type": "stream",
          "text": [
            "[07:17:38] WARNING: /workspace/src/objective/regression_obj.cu:152: reg:linear is now deprecated in favor of reg:squarederror.\n"
          ],
          "name": "stdout"
        },
        {
          "output_type": "stream",
          "text": [
            "\u001b[32m[I 2021-07-18 07:17:39,412]\u001b[0m Trial 350 finished with value: 139.06430804729462 and parameters: {'alpha': 0.5193921477548776, 'lambda': 0.0962079678594174, 'gamma': 2, 'colsample_bytree': 0.8, 'subsample': 0.6, 'learning_rate': 0.08, 'n_estimators': 398, 'max_depth': 7, 'min_child_weight': 1}. Best is trial 71 with value: 130.86829733848572.\u001b[0m\n"
          ],
          "name": "stderr"
        },
        {
          "output_type": "stream",
          "text": [
            "[07:17:39] WARNING: /workspace/src/objective/regression_obj.cu:152: reg:linear is now deprecated in favor of reg:squarederror.\n"
          ],
          "name": "stdout"
        },
        {
          "output_type": "stream",
          "text": [
            "\u001b[32m[I 2021-07-18 07:17:40,168]\u001b[0m Trial 351 finished with value: 139.96331119537354 and parameters: {'alpha': 0.2684924458393783, 'lambda': 0.11103933043664008, 'gamma': 2, 'colsample_bytree': 0.4, 'subsample': 0.6, 'learning_rate': 0.08, 'n_estimators': 383, 'max_depth': 7, 'min_child_weight': 22}. Best is trial 71 with value: 130.86829733848572.\u001b[0m\n"
          ],
          "name": "stderr"
        },
        {
          "output_type": "stream",
          "text": [
            "[07:17:40] WARNING: /workspace/src/objective/regression_obj.cu:152: reg:linear is now deprecated in favor of reg:squarederror.\n"
          ],
          "name": "stdout"
        },
        {
          "output_type": "stream",
          "text": [
            "\u001b[32m[I 2021-07-18 07:17:40,772]\u001b[0m Trial 352 finished with value: 140.31526613235474 and parameters: {'alpha': 0.2239743892082153, 'lambda': 0.1292382765542989, 'gamma': 2, 'colsample_bytree': 0.5, 'subsample': 0.6, 'learning_rate': 0.08, 'n_estimators': 539, 'max_depth': 7, 'min_child_weight': 11}. Best is trial 71 with value: 130.86829733848572.\u001b[0m\n"
          ],
          "name": "stderr"
        },
        {
          "output_type": "stream",
          "text": [
            "[07:17:40] WARNING: /workspace/src/objective/regression_obj.cu:152: reg:linear is now deprecated in favor of reg:squarederror.\n"
          ],
          "name": "stdout"
        },
        {
          "output_type": "stream",
          "text": [
            "\u001b[32m[I 2021-07-18 07:17:42,032]\u001b[0m Trial 353 finished with value: 147.425173163414 and parameters: {'alpha': 0.11476013380658869, 'lambda': 0.06541876058980926, 'gamma': 2, 'colsample_bytree': 0.5, 'subsample': 0.6, 'learning_rate': 0.08, 'n_estimators': 416, 'max_depth': 7, 'min_child_weight': 57}. Best is trial 71 with value: 130.86829733848572.\u001b[0m\n"
          ],
          "name": "stderr"
        },
        {
          "output_type": "stream",
          "text": [
            "[07:17:42] WARNING: /workspace/src/objective/regression_obj.cu:152: reg:linear is now deprecated in favor of reg:squarederror.\n"
          ],
          "name": "stdout"
        },
        {
          "output_type": "stream",
          "text": [
            "\u001b[32m[I 2021-07-18 07:17:42,608]\u001b[0m Trial 354 finished with value: 134.38551890850067 and parameters: {'alpha': 0.1622178802620551, 'lambda': 0.15010671190561692, 'gamma': 2, 'colsample_bytree': 0.5, 'subsample': 0.6, 'learning_rate': 0.08, 'n_estimators': 401, 'max_depth': 5, 'min_child_weight': 1}. Best is trial 71 with value: 130.86829733848572.\u001b[0m\n"
          ],
          "name": "stderr"
        },
        {
          "output_type": "stream",
          "text": [
            "[07:17:42] WARNING: /workspace/src/objective/regression_obj.cu:152: reg:linear is now deprecated in favor of reg:squarederror.\n"
          ],
          "name": "stdout"
        },
        {
          "output_type": "stream",
          "text": [
            "\u001b[32m[I 2021-07-18 07:17:43,207]\u001b[0m Trial 355 finished with value: 142.32814991474152 and parameters: {'alpha': 1.0796337946179029, 'lambda': 0.08492553170670429, 'gamma': 2, 'colsample_bytree': 0.5, 'subsample': 0.6, 'learning_rate': 0.08, 'n_estimators': 422, 'max_depth': 7, 'min_child_weight': 7}. Best is trial 71 with value: 130.86829733848572.\u001b[0m\n"
          ],
          "name": "stderr"
        },
        {
          "output_type": "stream",
          "text": [
            "[07:17:43] WARNING: /workspace/src/objective/regression_obj.cu:152: reg:linear is now deprecated in favor of reg:squarederror.\n"
          ],
          "name": "stdout"
        },
        {
          "output_type": "stream",
          "text": [
            "\u001b[32m[I 2021-07-18 07:17:43,854]\u001b[0m Trial 356 finished with value: 142.31187462806702 and parameters: {'alpha': 0.09269176525208171, 'lambda': 0.15726479208249405, 'gamma': 2, 'colsample_bytree': 0.5, 'subsample': 0.6, 'learning_rate': 0.08, 'n_estimators': 525, 'max_depth': 7, 'min_child_weight': 16}. Best is trial 71 with value: 130.86829733848572.\u001b[0m\n"
          ],
          "name": "stderr"
        },
        {
          "output_type": "stream",
          "text": [
            "[07:17:43] WARNING: /workspace/src/objective/regression_obj.cu:152: reg:linear is now deprecated in favor of reg:squarederror.\n"
          ],
          "name": "stdout"
        },
        {
          "output_type": "stream",
          "text": [
            "\u001b[32m[I 2021-07-18 07:17:44,616]\u001b[0m Trial 357 finished with value: 143.59304684400558 and parameters: {'alpha': 0.3675883938472337, 'lambda': 0.2280819759750736, 'gamma': 2, 'colsample_bytree': 0.5, 'subsample': 0.4, 'learning_rate': 0.08, 'n_estimators': 411, 'max_depth': 7, 'min_child_weight': 1}. Best is trial 71 with value: 130.86829733848572.\u001b[0m\n"
          ],
          "name": "stderr"
        },
        {
          "output_type": "stream",
          "text": [
            "[07:17:44] WARNING: /workspace/src/objective/regression_obj.cu:152: reg:linear is now deprecated in favor of reg:squarederror.\n"
          ],
          "name": "stdout"
        },
        {
          "output_type": "stream",
          "text": [
            "\u001b[32m[I 2021-07-18 07:17:45,340]\u001b[0m Trial 358 finished with value: 131.20732218027115 and parameters: {'alpha': 0.017572039793543347, 'lambda': 0.18764091957627593, 'gamma': 2, 'colsample_bytree': 0.5, 'subsample': 0.6, 'learning_rate': 0.08, 'n_estimators': 535, 'max_depth': 7, 'min_child_weight': 1}. Best is trial 71 with value: 130.86829733848572.\u001b[0m\n"
          ],
          "name": "stderr"
        },
        {
          "output_type": "stream",
          "text": [
            "[07:17:45] WARNING: /workspace/src/objective/regression_obj.cu:152: reg:linear is now deprecated in favor of reg:squarederror.\n"
          ],
          "name": "stdout"
        },
        {
          "output_type": "stream",
          "text": [
            "\u001b[32m[I 2021-07-18 07:17:45,934]\u001b[0m Trial 359 finished with value: 141.58357000350952 and parameters: {'alpha': 0.01723420307332797, 'lambda': 0.18097170247219, 'gamma': 2, 'colsample_bytree': 0.5, 'subsample': 1.0, 'learning_rate': 0.08, 'n_estimators': 540, 'max_depth': 7, 'min_child_weight': 7}. Best is trial 71 with value: 130.86829733848572.\u001b[0m\n"
          ],
          "name": "stderr"
        },
        {
          "output_type": "stream",
          "text": [
            "[07:17:45] WARNING: /workspace/src/objective/regression_obj.cu:152: reg:linear is now deprecated in favor of reg:squarederror.\n"
          ],
          "name": "stdout"
        },
        {
          "output_type": "stream",
          "text": [
            "\u001b[32m[I 2021-07-18 07:17:46,704]\u001b[0m Trial 360 finished with value: 132.41108483076096 and parameters: {'alpha': 0.014881195065876091, 'lambda': 0.18937344006554999, 'gamma': 2, 'colsample_bytree': 0.5, 'subsample': 0.7, 'learning_rate': 0.08, 'n_estimators': 548, 'max_depth': 7, 'min_child_weight': 1}. Best is trial 71 with value: 130.86829733848572.\u001b[0m\n"
          ],
          "name": "stderr"
        },
        {
          "output_type": "stream",
          "text": [
            "[07:17:46] WARNING: /workspace/src/objective/regression_obj.cu:152: reg:linear is now deprecated in favor of reg:squarederror.\n"
          ],
          "name": "stdout"
        },
        {
          "output_type": "stream",
          "text": [
            "\u001b[32m[I 2021-07-18 07:17:47,406]\u001b[0m Trial 361 finished with value: 138.90752279758453 and parameters: {'alpha': 0.7567569956035987, 'lambda': 0.06952912054664843, 'gamma': 2, 'colsample_bytree': 0.5, 'subsample': 0.6, 'learning_rate': 0.08, 'n_estimators': 424, 'max_depth': 15, 'min_child_weight': 12}. Best is trial 71 with value: 130.86829733848572.\u001b[0m\n"
          ],
          "name": "stderr"
        },
        {
          "output_type": "stream",
          "text": [
            "[07:17:47] WARNING: /workspace/src/objective/regression_obj.cu:152: reg:linear is now deprecated in favor of reg:squarederror.\n"
          ],
          "name": "stdout"
        },
        {
          "output_type": "stream",
          "text": [
            "\u001b[32m[I 2021-07-18 07:17:48,017]\u001b[0m Trial 362 finished with value: 138.47138303518295 and parameters: {'alpha': 0.009921147791875497, 'lambda': 0.14510827465163534, 'gamma': 2, 'colsample_bytree': 0.5, 'subsample': 0.8, 'learning_rate': 0.08, 'n_estimators': 433, 'max_depth': 7, 'min_child_weight': 6}. Best is trial 71 with value: 130.86829733848572.\u001b[0m\n"
          ],
          "name": "stderr"
        },
        {
          "output_type": "stream",
          "text": [
            "[07:17:48] WARNING: /workspace/src/objective/regression_obj.cu:152: reg:linear is now deprecated in favor of reg:squarederror.\n"
          ],
          "name": "stdout"
        },
        {
          "output_type": "stream",
          "text": [
            "\u001b[32m[I 2021-07-18 07:17:48,966]\u001b[0m Trial 363 finished with value: 139.0217946767807 and parameters: {'alpha': 0.3245330987063946, 'lambda': 0.10636729791006369, 'gamma': 2, 'colsample_bytree': 0.9, 'subsample': 0.6, 'learning_rate': 0.08, 'n_estimators': 560, 'max_depth': 9, 'min_child_weight': 1}. Best is trial 71 with value: 130.86829733848572.\u001b[0m\n"
          ],
          "name": "stderr"
        },
        {
          "output_type": "stream",
          "text": [
            "[07:17:48] WARNING: /workspace/src/objective/regression_obj.cu:152: reg:linear is now deprecated in favor of reg:squarederror.\n"
          ],
          "name": "stdout"
        },
        {
          "output_type": "stream",
          "text": [
            "\u001b[32m[I 2021-07-18 07:17:49,708]\u001b[0m Trial 364 finished with value: 131.20732218027115 and parameters: {'alpha': 0.013400990518031926, 'lambda': 0.051292469813569525, 'gamma': 2, 'colsample_bytree': 0.5, 'subsample': 0.6, 'learning_rate': 0.08, 'n_estimators': 420, 'max_depth': 7, 'min_child_weight': 1}. Best is trial 71 with value: 130.86829733848572.\u001b[0m\n"
          ],
          "name": "stderr"
        },
        {
          "output_type": "stream",
          "text": [
            "[07:17:49] WARNING: /workspace/src/objective/regression_obj.cu:152: reg:linear is now deprecated in favor of reg:squarederror.\n"
          ],
          "name": "stdout"
        },
        {
          "output_type": "stream",
          "text": [
            "\u001b[32m[I 2021-07-18 07:17:50,330]\u001b[0m Trial 365 finished with value: 140.7071988582611 and parameters: {'alpha': 0.41664374356756695, 'lambda': 0.04716816377469917, 'gamma': 2, 'colsample_bytree': 0.5, 'subsample': 0.6, 'learning_rate': 0.08, 'n_estimators': 375, 'max_depth': 7, 'min_child_weight': 10}. Best is trial 71 with value: 130.86829733848572.\u001b[0m\n"
          ],
          "name": "stderr"
        },
        {
          "output_type": "stream",
          "text": [
            "[07:17:50] WARNING: /workspace/src/objective/regression_obj.cu:152: reg:linear is now deprecated in favor of reg:squarederror.\n"
          ],
          "name": "stdout"
        },
        {
          "output_type": "stream",
          "text": [
            "\u001b[32m[I 2021-07-18 07:17:51,117]\u001b[0m Trial 366 finished with value: 140.8213939666748 and parameters: {'alpha': 0.019189298818088063, 'lambda': 0.08229041534901306, 'gamma': 2, 'colsample_bytree': 0.5, 'subsample': 0.6, 'learning_rate': 0.08, 'n_estimators': 409, 'max_depth': 7, 'min_child_weight': 19}. Best is trial 71 with value: 130.86829733848572.\u001b[0m\n"
          ],
          "name": "stderr"
        },
        {
          "output_type": "stream",
          "text": [
            "[07:17:51] WARNING: /workspace/src/objective/regression_obj.cu:152: reg:linear is now deprecated in favor of reg:squarederror.\n"
          ],
          "name": "stdout"
        },
        {
          "output_type": "stream",
          "text": [
            "\u001b[32m[I 2021-07-18 07:17:51,853]\u001b[0m Trial 367 finished with value: 148.68096351623535 and parameters: {'alpha': 0.013389271620790242, 'lambda': 0.10005783525535067, 'gamma': 2, 'colsample_bytree': 1.0, 'subsample': 0.6, 'learning_rate': 0.08, 'n_estimators': 398, 'max_depth': 7, 'min_child_weight': 1}. Best is trial 71 with value: 130.86829733848572.\u001b[0m\n"
          ],
          "name": "stderr"
        },
        {
          "output_type": "stream",
          "text": [
            "[07:17:51] WARNING: /workspace/src/objective/regression_obj.cu:152: reg:linear is now deprecated in favor of reg:squarederror.\n"
          ],
          "name": "stdout"
        },
        {
          "output_type": "stream",
          "text": [
            "\u001b[32m[I 2021-07-18 07:17:52,283]\u001b[0m Trial 368 finished with value: 283.5330505371094 and parameters: {'alpha': 0.016931853335261836, 'lambda': 0.27915536578619843, 'gamma': 2, 'colsample_bytree': 0.5, 'subsample': 0.6, 'learning_rate': 0.08, 'n_estimators': 552, 'max_depth': 7, 'min_child_weight': 275}. Best is trial 71 with value: 130.86829733848572.\u001b[0m\n"
          ],
          "name": "stderr"
        },
        {
          "output_type": "stream",
          "text": [
            "[07:17:52] WARNING: /workspace/src/objective/regression_obj.cu:152: reg:linear is now deprecated in favor of reg:squarederror.\n"
          ],
          "name": "stdout"
        },
        {
          "output_type": "stream",
          "text": [
            "\u001b[32m[I 2021-07-18 07:17:52,884]\u001b[0m Trial 369 finished with value: 138.03715419769287 and parameters: {'alpha': 0.01540499945508703, 'lambda': 0.053860703596464464, 'gamma': 2, 'colsample_bytree': 0.5, 'subsample': 0.6, 'learning_rate': 0.08, 'n_estimators': 530, 'max_depth': 7, 'min_child_weight': 6}. Best is trial 71 with value: 130.86829733848572.\u001b[0m\n"
          ],
          "name": "stderr"
        },
        {
          "output_type": "stream",
          "text": [
            "[07:17:52] WARNING: /workspace/src/objective/regression_obj.cu:152: reg:linear is now deprecated in favor of reg:squarederror.\n"
          ],
          "name": "stdout"
        },
        {
          "output_type": "stream",
          "text": [
            "\u001b[32m[I 2021-07-18 07:17:53,477]\u001b[0m Trial 370 finished with value: 140.05991399288177 and parameters: {'alpha': 0.013103305310358748, 'lambda': 0.12509303527349125, 'gamma': 2, 'colsample_bytree': 0.7, 'subsample': 0.6, 'learning_rate': 0.08, 'n_estimators': 529, 'max_depth': 5, 'min_child_weight': 1}. Best is trial 71 with value: 130.86829733848572.\u001b[0m\n"
          ],
          "name": "stderr"
        },
        {
          "output_type": "stream",
          "text": [
            "[07:17:53] WARNING: /workspace/src/objective/regression_obj.cu:152: reg:linear is now deprecated in favor of reg:squarederror.\n"
          ],
          "name": "stdout"
        },
        {
          "output_type": "stream",
          "text": [
            "\u001b[32m[I 2021-07-18 07:17:54,146]\u001b[0m Trial 371 finished with value: 140.46168303489685 and parameters: {'alpha': 0.008716653122132167, 'lambda': 0.07642465652660445, 'gamma': 0, 'colsample_bytree': 0.5, 'subsample': 0.6, 'learning_rate': 0.08, 'n_estimators': 418, 'max_depth': 7, 'min_child_weight': 13}. Best is trial 71 with value: 130.86829733848572.\u001b[0m\n"
          ],
          "name": "stderr"
        },
        {
          "output_type": "stream",
          "text": [
            "[07:17:54] WARNING: /workspace/src/objective/regression_obj.cu:152: reg:linear is now deprecated in favor of reg:squarederror.\n"
          ],
          "name": "stdout"
        },
        {
          "output_type": "stream",
          "text": [
            "\u001b[32m[I 2021-07-18 07:17:54,760]\u001b[0m Trial 372 finished with value: 142.32814991474152 and parameters: {'alpha': 0.012087507864016002, 'lambda': 0.1049499062507943, 'gamma': 2, 'colsample_bytree': 0.5, 'subsample': 0.6, 'learning_rate': 0.08, 'n_estimators': 432, 'max_depth': 7, 'min_child_weight': 7}. Best is trial 71 with value: 130.86829733848572.\u001b[0m\n"
          ],
          "name": "stderr"
        },
        {
          "output_type": "stream",
          "text": [
            "[07:17:54] WARNING: /workspace/src/objective/regression_obj.cu:152: reg:linear is now deprecated in favor of reg:squarederror.\n"
          ],
          "name": "stdout"
        },
        {
          "output_type": "stream",
          "text": [
            "\u001b[32m[I 2021-07-18 07:17:55,421]\u001b[0m Trial 373 finished with value: 142.31187462806702 and parameters: {'alpha': 0.6337513082990186, 'lambda': 0.1693277184868698, 'gamma': 2, 'colsample_bytree': 0.5, 'subsample': 0.6, 'learning_rate': 0.08, 'n_estimators': 519, 'max_depth': 7, 'min_child_weight': 16}. Best is trial 71 with value: 130.86829733848572.\u001b[0m\n"
          ],
          "name": "stderr"
        },
        {
          "output_type": "stream",
          "text": [
            "[07:17:55] WARNING: /workspace/src/objective/regression_obj.cu:152: reg:linear is now deprecated in favor of reg:squarederror.\n"
          ],
          "name": "stdout"
        },
        {
          "output_type": "stream",
          "text": [
            "\u001b[32m[I 2021-07-18 07:17:56,106]\u001b[0m Trial 374 finished with value: 137.64922213554382 and parameters: {'alpha': 0.012469839397481334, 'lambda': 0.06544525718696015, 'gamma': 2, 'colsample_bytree': 0.5, 'subsample': 0.6, 'learning_rate': 0.08, 'n_estimators': 513, 'max_depth': 13, 'min_child_weight': 6}. Best is trial 71 with value: 130.86829733848572.\u001b[0m\n"
          ],
          "name": "stderr"
        },
        {
          "output_type": "stream",
          "text": [
            "[07:17:56] WARNING: /workspace/src/objective/regression_obj.cu:152: reg:linear is now deprecated in favor of reg:squarederror.\n"
          ],
          "name": "stdout"
        },
        {
          "output_type": "stream",
          "text": [
            "\u001b[32m[I 2021-07-18 07:17:56,639]\u001b[0m Trial 375 finished with value: 140.31054890155792 and parameters: {'alpha': 0.008514361830425789, 'lambda': 0.2370962927986572, 'gamma': 2, 'colsample_bytree': 0.5, 'subsample': 0.6, 'learning_rate': 0.08, 'n_estimators': 423, 'max_depth': 3, 'min_child_weight': 1}. Best is trial 71 with value: 130.86829733848572.\u001b[0m\n"
          ],
          "name": "stderr"
        },
        {
          "output_type": "stream",
          "text": [
            "[07:17:56] WARNING: /workspace/src/objective/regression_obj.cu:152: reg:linear is now deprecated in favor of reg:squarederror.\n"
          ],
          "name": "stdout"
        },
        {
          "output_type": "stream",
          "text": [
            "\u001b[32m[I 2021-07-18 07:17:57,392]\u001b[0m Trial 376 finished with value: 131.20732218027115 and parameters: {'alpha': 0.009774616831395735, 'lambda': 0.140181213603597, 'gamma': 2, 'colsample_bytree': 0.5, 'subsample': 0.6, 'learning_rate': 0.08, 'n_estimators': 409, 'max_depth': 7, 'min_child_weight': 1}. Best is trial 71 with value: 130.86829733848572.\u001b[0m\n"
          ],
          "name": "stderr"
        },
        {
          "output_type": "stream",
          "text": [
            "[07:17:57] WARNING: /workspace/src/objective/regression_obj.cu:152: reg:linear is now deprecated in favor of reg:squarederror.\n"
          ],
          "name": "stdout"
        },
        {
          "output_type": "stream",
          "text": [
            "\u001b[32m[I 2021-07-18 07:17:58,170]\u001b[0m Trial 377 finished with value: 132.8500980734825 and parameters: {'alpha': 0.009604344591115694, 'lambda': 0.1439238200555269, 'gamma': 2, 'colsample_bytree': 0.3, 'subsample': 0.6, 'learning_rate': 0.08, 'n_estimators': 403, 'max_depth': 7, 'min_child_weight': 11}. Best is trial 71 with value: 130.86829733848572.\u001b[0m\n"
          ],
          "name": "stderr"
        },
        {
          "output_type": "stream",
          "text": [
            "[07:17:58] WARNING: /workspace/src/objective/regression_obj.cu:152: reg:linear is now deprecated in favor of reg:squarederror.\n"
          ],
          "name": "stdout"
        },
        {
          "output_type": "stream",
          "text": [
            "\u001b[32m[I 2021-07-18 07:17:58,916]\u001b[0m Trial 378 finished with value: 131.20732218027115 and parameters: {'alpha': 0.13254555510849944, 'lambda': 0.08714372826566, 'gamma': 2, 'colsample_bytree': 0.5, 'subsample': 0.6, 'learning_rate': 0.08, 'n_estimators': 409, 'max_depth': 7, 'min_child_weight': 1}. Best is trial 71 with value: 130.86829733848572.\u001b[0m\n"
          ],
          "name": "stderr"
        },
        {
          "output_type": "stream",
          "text": [
            "[07:17:58] WARNING: /workspace/src/objective/regression_obj.cu:152: reg:linear is now deprecated in favor of reg:squarederror.\n"
          ],
          "name": "stdout"
        },
        {
          "output_type": "stream",
          "text": [
            "\u001b[32m[I 2021-07-18 07:17:59,727]\u001b[0m Trial 379 finished with value: 142.57510489225388 and parameters: {'alpha': 0.0706580003910259, 'lambda': 0.09136836883075641, 'gamma': 2, 'colsample_bytree': 0.5, 'subsample': 0.6, 'learning_rate': 0.08, 'n_estimators': 388, 'max_depth': 17, 'min_child_weight': 7}. Best is trial 71 with value: 130.86829733848572.\u001b[0m\n"
          ],
          "name": "stderr"
        },
        {
          "output_type": "stream",
          "text": [
            "[07:17:59] WARNING: /workspace/src/objective/regression_obj.cu:152: reg:linear is now deprecated in favor of reg:squarederror.\n"
          ],
          "name": "stdout"
        },
        {
          "output_type": "stream",
          "text": [
            "\u001b[32m[I 2021-07-18 07:18:00,176]\u001b[0m Trial 380 finished with value: 283.5330505371094 and parameters: {'alpha': 0.19789250221911184, 'lambda': 0.12179610710775252, 'gamma': 2, 'colsample_bytree': 0.5, 'subsample': 0.6, 'learning_rate': 0.08, 'n_estimators': 412, 'max_depth': 9, 'min_child_weight': 204}. Best is trial 71 with value: 130.86829733848572.\u001b[0m\n"
          ],
          "name": "stderr"
        },
        {
          "output_type": "stream",
          "text": [
            "[07:18:00] WARNING: /workspace/src/objective/regression_obj.cu:152: reg:linear is now deprecated in favor of reg:squarederror.\n"
          ],
          "name": "stdout"
        },
        {
          "output_type": "stream",
          "text": [
            "\u001b[32m[I 2021-07-18 07:18:01,012]\u001b[0m Trial 381 finished with value: 139.90555787086487 and parameters: {'alpha': 0.10207510999798106, 'lambda': 0.20322217695901243, 'gamma': 2, 'colsample_bytree': 0.5, 'subsample': 0.6, 'learning_rate': 0.08, 'n_estimators': 404, 'max_depth': 7, 'min_child_weight': 23}. Best is trial 71 with value: 130.86829733848572.\u001b[0m\n"
          ],
          "name": "stderr"
        },
        {
          "output_type": "stream",
          "text": [
            "[07:18:01] WARNING: /workspace/src/objective/regression_obj.cu:152: reg:linear is now deprecated in favor of reg:squarederror.\n"
          ],
          "name": "stdout"
        },
        {
          "output_type": "stream",
          "text": [
            "\u001b[32m[I 2021-07-18 07:18:01,766]\u001b[0m Trial 382 finished with value: 131.20732218027115 and parameters: {'alpha': 0.1827501776504017, 'lambda': 0.0849278283893572, 'gamma': 2, 'colsample_bytree': 0.5, 'subsample': 0.6, 'learning_rate': 0.08, 'n_estimators': 538, 'max_depth': 7, 'min_child_weight': 1}. Best is trial 71 with value: 130.86829733848572.\u001b[0m\n"
          ],
          "name": "stderr"
        },
        {
          "output_type": "stream",
          "text": [
            "[07:18:01] WARNING: /workspace/src/objective/regression_obj.cu:152: reg:linear is now deprecated in favor of reg:squarederror.\n"
          ],
          "name": "stdout"
        },
        {
          "output_type": "stream",
          "text": [
            "\u001b[32m[I 2021-07-18 07:18:04,239]\u001b[0m Trial 383 finished with value: 135.62354123592377 and parameters: {'alpha': 0.1685818151647931, 'lambda': 0.07189389604596781, 'gamma': 2, 'colsample_bytree': 0.4, 'subsample': 0.6, 'learning_rate': 0.08, 'n_estimators': 534, 'max_depth': 20, 'min_child_weight': 1}. Best is trial 71 with value: 130.86829733848572.\u001b[0m\n"
          ],
          "name": "stderr"
        },
        {
          "output_type": "stream",
          "text": [
            "[07:18:04] WARNING: /workspace/src/objective/regression_obj.cu:152: reg:linear is now deprecated in favor of reg:squarederror.\n"
          ],
          "name": "stdout"
        },
        {
          "output_type": "stream",
          "text": [
            "\u001b[32m[I 2021-07-18 07:18:04,856]\u001b[0m Trial 384 finished with value: 140.31526613235474 and parameters: {'alpha': 0.14106700521975396, 'lambda': 0.12843865947655508, 'gamma': 2, 'colsample_bytree': 0.5, 'subsample': 0.6, 'learning_rate': 0.08, 'n_estimators': 543, 'max_depth': 7, 'min_child_weight': 11}. Best is trial 71 with value: 130.86829733848572.\u001b[0m\n"
          ],
          "name": "stderr"
        },
        {
          "output_type": "stream",
          "text": [
            "[07:18:04] WARNING: /workspace/src/objective/regression_obj.cu:152: reg:linear is now deprecated in favor of reg:squarederror.\n"
          ],
          "name": "stdout"
        },
        {
          "output_type": "stream",
          "text": [
            "\u001b[32m[I 2021-07-18 07:18:05,452]\u001b[0m Trial 385 finished with value: 135.66140353679657 and parameters: {'alpha': 0.13007553796071325, 'lambda': 0.08444745902784655, 'gamma': 2, 'colsample_bytree': 0.8, 'subsample': 0.6, 'learning_rate': 0.08, 'n_estimators': 522, 'max_depth': 7, 'min_child_weight': 7}. Best is trial 71 with value: 130.86829733848572.\u001b[0m\n"
          ],
          "name": "stderr"
        },
        {
          "output_type": "stream",
          "text": [
            "[07:18:05] WARNING: /workspace/src/objective/regression_obj.cu:152: reg:linear is now deprecated in favor of reg:squarederror.\n"
          ],
          "name": "stdout"
        },
        {
          "output_type": "stream",
          "text": [
            "\u001b[32m[I 2021-07-18 07:18:06,617]\u001b[0m Trial 386 finished with value: 148.98508548736572 and parameters: {'alpha': 0.1697368711500924, 'lambda': 0.09870320441269508, 'gamma': 2, 'colsample_bytree': 0.5, 'subsample': 0.6, 'learning_rate': 0.08, 'n_estimators': 395, 'max_depth': 7, 'min_child_weight': 90}. Best is trial 71 with value: 130.86829733848572.\u001b[0m\n"
          ],
          "name": "stderr"
        },
        {
          "output_type": "stream",
          "text": [
            "[07:18:06] WARNING: /workspace/src/objective/regression_obj.cu:152: reg:linear is now deprecated in favor of reg:squarederror.\n"
          ],
          "name": "stdout"
        },
        {
          "output_type": "stream",
          "text": [
            "\u001b[32m[I 2021-07-18 07:18:07,273]\u001b[0m Trial 387 finished with value: 142.66108345985413 and parameters: {'alpha': 0.017000567586697584, 'lambda': 0.1548992375650112, 'gamma': 2, 'colsample_bytree': 0.5, 'subsample': 0.6, 'learning_rate': 0.08, 'n_estimators': 353, 'max_depth': 7, 'min_child_weight': 17}. Best is trial 71 with value: 130.86829733848572.\u001b[0m\n"
          ],
          "name": "stderr"
        },
        {
          "output_type": "stream",
          "text": [
            "[07:18:07] WARNING: /workspace/src/objective/regression_obj.cu:152: reg:linear is now deprecated in favor of reg:squarederror.\n"
          ],
          "name": "stdout"
        },
        {
          "output_type": "stream",
          "text": [
            "\u001b[32m[I 2021-07-18 07:18:07,856]\u001b[0m Trial 388 finished with value: 145.8683646917343 and parameters: {'alpha': 0.2767045515566114, 'lambda': 0.11019720100147402, 'gamma': 2, 'colsample_bytree': 0.5, 'subsample': 0.4, 'learning_rate': 0.08, 'n_estimators': 563, 'max_depth': 7, 'min_child_weight': 6}. Best is trial 71 with value: 130.86829733848572.\u001b[0m\n"
          ],
          "name": "stderr"
        },
        {
          "output_type": "stream",
          "text": [
            "[07:18:07] WARNING: /workspace/src/objective/regression_obj.cu:152: reg:linear is now deprecated in favor of reg:squarederror.\n"
          ],
          "name": "stdout"
        },
        {
          "output_type": "stream",
          "text": [
            "\u001b[32m[I 2021-07-18 07:18:08,609]\u001b[0m Trial 389 finished with value: 131.20732218027115 and parameters: {'alpha': 0.14071550162484503, 'lambda': 0.08135898958485284, 'gamma': 3, 'colsample_bytree': 0.5, 'subsample': 0.6, 'learning_rate': 0.08, 'n_estimators': 535, 'max_depth': 7, 'min_child_weight': 1}. Best is trial 71 with value: 130.86829733848572.\u001b[0m\n"
          ],
          "name": "stderr"
        },
        {
          "output_type": "stream",
          "text": [
            "[07:18:08] WARNING: /workspace/src/objective/regression_obj.cu:152: reg:linear is now deprecated in favor of reg:squarederror.\n"
          ],
          "name": "stdout"
        },
        {
          "output_type": "stream",
          "text": [
            "\u001b[32m[I 2021-07-18 07:18:09,229]\u001b[0m Trial 390 finished with value: 139.60720586776733 and parameters: {'alpha': 0.24216199213919554, 'lambda': 0.04863063219822345, 'gamma': 2, 'colsample_bytree': 0.5, 'subsample': 1.0, 'learning_rate': 0.08, 'n_estimators': 533, 'max_depth': 5, 'min_child_weight': 1}. Best is trial 71 with value: 130.86829733848572.\u001b[0m\n"
          ],
          "name": "stderr"
        },
        {
          "output_type": "stream",
          "text": [
            "[07:18:09] WARNING: /workspace/src/objective/regression_obj.cu:152: reg:linear is now deprecated in favor of reg:squarederror.\n"
          ],
          "name": "stdout"
        },
        {
          "output_type": "stream",
          "text": [
            "\u001b[32m[I 2021-07-18 07:18:09,795]\u001b[0m Trial 391 finished with value: 136.32232868671417 and parameters: {'alpha': 0.12123354735295892, 'lambda': 0.043623497995521086, 'gamma': 3, 'colsample_bytree': 0.5, 'subsample': 0.8, 'learning_rate': 0.08, 'n_estimators': 414, 'max_depth': 7, 'min_child_weight': 12}. Best is trial 71 with value: 130.86829733848572.\u001b[0m\n"
          ],
          "name": "stderr"
        },
        {
          "output_type": "stream",
          "text": [
            "[07:18:09] WARNING: /workspace/src/objective/regression_obj.cu:152: reg:linear is now deprecated in favor of reg:squarederror.\n"
          ],
          "name": "stdout"
        },
        {
          "output_type": "stream",
          "text": [
            "\u001b[32m[I 2021-07-18 07:18:10,584]\u001b[0m Trial 392 finished with value: 132.41108483076096 and parameters: {'alpha': 0.15621091150178007, 'lambda': 0.06149930011448136, 'gamma': 3, 'colsample_bytree': 0.5, 'subsample': 0.7, 'learning_rate': 0.08, 'n_estimators': 550, 'max_depth': 7, 'min_child_weight': 1}. Best is trial 71 with value: 130.86829733848572.\u001b[0m\n"
          ],
          "name": "stderr"
        },
        {
          "output_type": "stream",
          "text": [
            "[07:18:10] WARNING: /workspace/src/objective/regression_obj.cu:152: reg:linear is now deprecated in favor of reg:squarederror.\n"
          ],
          "name": "stdout"
        },
        {
          "output_type": "stream",
          "text": [
            "\u001b[32m[I 2021-07-18 07:18:11,194]\u001b[0m Trial 393 finished with value: 138.03715419769287 and parameters: {'alpha': 0.2342752110532148, 'lambda': 0.07760371096817865, 'gamma': 2, 'colsample_bytree': 0.5, 'subsample': 0.6, 'learning_rate': 0.08, 'n_estimators': 536, 'max_depth': 7, 'min_child_weight': 6}. Best is trial 71 with value: 130.86829733848572.\u001b[0m\n"
          ],
          "name": "stderr"
        },
        {
          "output_type": "stream",
          "text": [
            "[07:18:11] WARNING: /workspace/src/objective/regression_obj.cu:152: reg:linear is now deprecated in favor of reg:squarederror.\n"
          ],
          "name": "stdout"
        },
        {
          "output_type": "stream",
          "text": [
            "\u001b[32m[I 2021-07-18 07:18:11,941]\u001b[0m Trial 394 finished with value: 131.20732218027115 and parameters: {'alpha': 0.2022993856982831, 'lambda': 0.08875929564256069, 'gamma': 2, 'colsample_bytree': 0.5, 'subsample': 0.6, 'learning_rate': 0.08, 'n_estimators': 573, 'max_depth': 7, 'min_child_weight': 1}. Best is trial 71 with value: 130.86829733848572.\u001b[0m\n"
          ],
          "name": "stderr"
        },
        {
          "output_type": "stream",
          "text": [
            "[07:18:11] WARNING: /workspace/src/objective/regression_obj.cu:152: reg:linear is now deprecated in favor of reg:squarederror.\n"
          ],
          "name": "stdout"
        },
        {
          "output_type": "stream",
          "text": [
            "\u001b[32m[I 2021-07-18 07:18:13,211]\u001b[0m Trial 395 finished with value: 148.32596635818481 and parameters: {'alpha': 0.19933749722119293, 'lambda': 0.08876516630860155, 'gamma': 2, 'colsample_bytree': 0.5, 'subsample': 0.6, 'learning_rate': 0.08, 'n_estimators': 565, 'max_depth': 15, 'min_child_weight': 131}. Best is trial 71 with value: 130.86829733848572.\u001b[0m\n"
          ],
          "name": "stderr"
        },
        {
          "output_type": "stream",
          "text": [
            "[07:18:13] WARNING: /workspace/src/objective/regression_obj.cu:152: reg:linear is now deprecated in favor of reg:squarederror.\n"
          ],
          "name": "stdout"
        },
        {
          "output_type": "stream",
          "text": [
            "\u001b[32m[I 2021-07-18 07:18:13,888]\u001b[0m Trial 396 finished with value: 141.19365894794464 and parameters: {'alpha': 0.13408729192818936, 'lambda': 0.08645869086155274, 'gamma': 2, 'colsample_bytree': 0.5, 'subsample': 0.6, 'learning_rate': 0.08, 'n_estimators': 576, 'max_depth': 7, 'min_child_weight': 15}. Best is trial 71 with value: 130.86829733848572.\u001b[0m\n"
          ],
          "name": "stderr"
        },
        {
          "output_type": "stream",
          "text": [
            "[07:18:13] WARNING: /workspace/src/objective/regression_obj.cu:152: reg:linear is now deprecated in favor of reg:squarederror.\n"
          ],
          "name": "stdout"
        },
        {
          "output_type": "stream",
          "text": [
            "\u001b[32m[I 2021-07-18 07:18:14,474]\u001b[0m Trial 397 finished with value: 139.44046556949615 and parameters: {'alpha': 0.19086351502373064, 'lambda': 0.06680636944404386, 'gamma': 2, 'colsample_bytree': 0.9, 'subsample': 0.6, 'learning_rate': 0.08, 'n_estimators': 546, 'max_depth': 9, 'min_child_weight': 10}. Best is trial 71 with value: 130.86829733848572.\u001b[0m\n"
          ],
          "name": "stderr"
        },
        {
          "output_type": "stream",
          "text": [
            "[07:18:14] WARNING: /workspace/src/objective/regression_obj.cu:152: reg:linear is now deprecated in favor of reg:squarederror.\n"
          ],
          "name": "stdout"
        },
        {
          "output_type": "stream",
          "text": [
            "\u001b[32m[I 2021-07-18 07:18:15,217]\u001b[0m Trial 398 finished with value: 131.20732218027115 and parameters: {'alpha': 0.3085574319038405, 'lambda': 0.11683605587488277, 'gamma': 2, 'colsample_bytree': 0.5, 'subsample': 0.6, 'learning_rate': 0.08, 'n_estimators': 556, 'max_depth': 7, 'min_child_weight': 1}. Best is trial 71 with value: 130.86829733848572.\u001b[0m\n"
          ],
          "name": "stderr"
        },
        {
          "output_type": "stream",
          "text": [
            "[07:18:15] WARNING: /workspace/src/objective/regression_obj.cu:152: reg:linear is now deprecated in favor of reg:squarederror.\n"
          ],
          "name": "stdout"
        },
        {
          "output_type": "stream",
          "text": [
            "\u001b[32m[I 2021-07-18 07:18:15,976]\u001b[0m Trial 399 finished with value: 139.61100220680237 and parameters: {'alpha': 0.28713280260720453, 'lambda': 0.10640964570339212, 'gamma': 1, 'colsample_bytree': 1.0, 'subsample': 0.6, 'learning_rate': 0.08, 'n_estimators': 576, 'max_depth': 7, 'min_child_weight': 26}. Best is trial 71 with value: 130.86829733848572.\u001b[0m\n"
          ],
          "name": "stderr"
        },
        {
          "output_type": "stream",
          "text": [
            "[07:18:16] WARNING: /workspace/src/objective/regression_obj.cu:152: reg:linear is now deprecated in favor of reg:squarederror.\n"
          ],
          "name": "stdout"
        },
        {
          "output_type": "stream",
          "text": [
            "\u001b[32m[I 2021-07-18 07:18:16,704]\u001b[0m Trial 400 finished with value: 131.20732218027115 and parameters: {'alpha': 0.15217388825895972, 'lambda': 0.13614249898564923, 'gamma': 3, 'colsample_bytree': 0.5, 'subsample': 0.6, 'learning_rate': 0.08, 'n_estimators': 569, 'max_depth': 7, 'min_child_weight': 1}. Best is trial 71 with value: 130.86829733848572.\u001b[0m\n"
          ],
          "name": "stderr"
        },
        {
          "output_type": "stream",
          "text": [
            "[07:18:16] WARNING: /workspace/src/objective/regression_obj.cu:152: reg:linear is now deprecated in favor of reg:squarederror.\n"
          ],
          "name": "stdout"
        },
        {
          "output_type": "stream",
          "text": [
            "\u001b[32m[I 2021-07-18 07:18:17,300]\u001b[0m Trial 401 finished with value: 138.03715419769287 and parameters: {'alpha': 0.14558220996220503, 'lambda': 0.1438207309888981, 'gamma': 3, 'colsample_bytree': 0.5, 'subsample': 0.6, 'learning_rate': 0.08, 'n_estimators': 557, 'max_depth': 7, 'min_child_weight': 6}. Best is trial 71 with value: 130.86829733848572.\u001b[0m\n"
          ],
          "name": "stderr"
        },
        {
          "output_type": "stream",
          "text": [
            "[07:18:17] WARNING: /workspace/src/objective/regression_obj.cu:152: reg:linear is now deprecated in favor of reg:squarederror.\n"
          ],
          "name": "stdout"
        },
        {
          "output_type": "stream",
          "text": [
            "\u001b[32m[I 2021-07-18 07:18:18,016]\u001b[0m Trial 402 finished with value: 140.60719347000122 and parameters: {'alpha': 0.1866057824002151, 'lambda': 0.11847279934115976, 'gamma': 3, 'colsample_bytree': 0.7, 'subsample': 0.6, 'learning_rate': 0.08, 'n_estimators': 572, 'max_depth': 7, 'min_child_weight': 1}. Best is trial 71 with value: 130.86829733848572.\u001b[0m\n"
          ],
          "name": "stderr"
        },
        {
          "output_type": "stream",
          "text": [
            "[07:18:18] WARNING: /workspace/src/objective/regression_obj.cu:152: reg:linear is now deprecated in favor of reg:squarederror.\n"
          ],
          "name": "stdout"
        },
        {
          "output_type": "stream",
          "text": [
            "\u001b[32m[I 2021-07-18 07:18:18,623]\u001b[0m Trial 403 finished with value: 140.31526613235474 and parameters: {'alpha': 0.15374524322566038, 'lambda': 0.1056581370422047, 'gamma': 3, 'colsample_bytree': 0.5, 'subsample': 0.6, 'learning_rate': 0.08, 'n_estimators': 567, 'max_depth': 7, 'min_child_weight': 11}. Best is trial 71 with value: 130.86829733848572.\u001b[0m\n"
          ],
          "name": "stderr"
        },
        {
          "output_type": "stream",
          "text": [
            "[07:18:18] WARNING: /workspace/src/objective/regression_obj.cu:152: reg:linear is now deprecated in favor of reg:squarederror.\n"
          ],
          "name": "stdout"
        },
        {
          "output_type": "stream",
          "text": [
            "\u001b[32m[I 2021-07-18 07:18:19,360]\u001b[0m Trial 404 finished with value: 131.20732218027115 and parameters: {'alpha': 0.2241564072743185, 'lambda': 0.180044754050909, 'gamma': 3, 'colsample_bytree': 0.5, 'subsample': 0.6, 'learning_rate': 0.08, 'n_estimators': 559, 'max_depth': 7, 'min_child_weight': 1}. Best is trial 71 with value: 130.86829733848572.\u001b[0m\n"
          ],
          "name": "stderr"
        },
        {
          "output_type": "stream",
          "text": [
            "[07:18:19] WARNING: /workspace/src/objective/regression_obj.cu:152: reg:linear is now deprecated in favor of reg:squarederror.\n"
          ],
          "name": "stdout"
        },
        {
          "output_type": "stream",
          "text": [
            "\u001b[32m[I 2021-07-18 07:18:20,100]\u001b[0m Trial 405 finished with value: 139.82186460494995 and parameters: {'alpha': 0.23299067581933927, 'lambda': 0.19784953556856302, 'gamma': 3, 'colsample_bytree': 0.5, 'subsample': 0.6, 'learning_rate': 0.08, 'n_estimators': 554, 'max_depth': 5, 'min_child_weight': 20}. Best is trial 71 with value: 130.86829733848572.\u001b[0m\n"
          ],
          "name": "stderr"
        },
        {
          "output_type": "stream",
          "text": [
            "[07:18:20] WARNING: /workspace/src/objective/regression_obj.cu:152: reg:linear is now deprecated in favor of reg:squarederror.\n"
          ],
          "name": "stdout"
        },
        {
          "output_type": "stream",
          "text": [
            "\u001b[32m[I 2021-07-18 07:18:20,695]\u001b[0m Trial 406 finished with value: 138.03715419769287 and parameters: {'alpha': 0.3485930629775366, 'lambda': 0.16836500847075558, 'gamma': 3, 'colsample_bytree': 0.5, 'subsample': 0.6, 'learning_rate': 0.08, 'n_estimators': 583, 'max_depth': 7, 'min_child_weight': 6}. Best is trial 71 with value: 130.86829733848572.\u001b[0m\n"
          ],
          "name": "stderr"
        },
        {
          "output_type": "stream",
          "text": [
            "[07:18:20] WARNING: /workspace/src/objective/regression_obj.cu:152: reg:linear is now deprecated in favor of reg:squarederror.\n"
          ],
          "name": "stdout"
        },
        {
          "output_type": "stream",
          "text": [
            "\u001b[32m[I 2021-07-18 07:18:21,459]\u001b[0m Trial 407 finished with value: 139.5214513540268 and parameters: {'alpha': 0.308397921146516, 'lambda': 0.1383777007267889, 'gamma': 3, 'colsample_bytree': 0.3, 'subsample': 0.6, 'learning_rate': 0.08, 'n_estimators': 563, 'max_depth': 7, 'min_child_weight': 1}. Best is trial 71 with value: 130.86829733848572.\u001b[0m\n"
          ],
          "name": "stderr"
        },
        {
          "output_type": "stream",
          "text": [
            "[07:18:21] WARNING: /workspace/src/objective/regression_obj.cu:152: reg:linear is now deprecated in favor of reg:squarederror.\n"
          ],
          "name": "stdout"
        },
        {
          "output_type": "stream",
          "text": [
            "\u001b[32m[I 2021-07-18 07:18:22,136]\u001b[0m Trial 408 finished with value: 141.19365894794464 and parameters: {'alpha': 0.18165649175704254, 'lambda': 0.1946962539521957, 'gamma': 3, 'colsample_bytree': 0.5, 'subsample': 0.6, 'learning_rate': 0.08, 'n_estimators': 571, 'max_depth': 7, 'min_child_weight': 15}. Best is trial 71 with value: 130.86829733848572.\u001b[0m\n"
          ],
          "name": "stderr"
        },
        {
          "output_type": "stream",
          "text": [
            "[07:18:22] WARNING: /workspace/src/objective/regression_obj.cu:152: reg:linear is now deprecated in favor of reg:squarederror.\n"
          ],
          "name": "stdout"
        },
        {
          "output_type": "stream",
          "text": [
            "\u001b[32m[I 2021-07-18 07:18:22,867]\u001b[0m Trial 409 finished with value: 131.20732218027115 and parameters: {'alpha': 0.25301263591812606, 'lambda': 0.056754434072883816, 'gamma': 3, 'colsample_bytree': 0.5, 'subsample': 0.6, 'learning_rate': 0.08, 'n_estimators': 543, 'max_depth': 7, 'min_child_weight': 1}. Best is trial 71 with value: 130.86829733848572.\u001b[0m\n"
          ],
          "name": "stderr"
        },
        {
          "output_type": "stream",
          "text": [
            "[07:18:22] WARNING: /workspace/src/objective/regression_obj.cu:152: reg:linear is now deprecated in favor of reg:squarederror.\n"
          ],
          "name": "stdout"
        },
        {
          "output_type": "stream",
          "text": [
            "\u001b[32m[I 2021-07-18 07:18:23,400]\u001b[0m Trial 410 finished with value: 144.94224989414215 and parameters: {'alpha': 0.24753629276789216, 'lambda': 0.07935855121580106, 'gamma': 3, 'colsample_bytree': 0.5, 'subsample': 0.6, 'learning_rate': 0.08, 'n_estimators': 557, 'max_depth': 3, 'min_child_weight': 7}. Best is trial 71 with value: 130.86829733848572.\u001b[0m\n"
          ],
          "name": "stderr"
        },
        {
          "output_type": "stream",
          "text": [
            "[07:18:23] WARNING: /workspace/src/objective/regression_obj.cu:152: reg:linear is now deprecated in favor of reg:squarederror.\n"
          ],
          "name": "stdout"
        },
        {
          "output_type": "stream",
          "text": [
            "\u001b[32m[I 2021-07-18 07:18:24,656]\u001b[0m Trial 411 finished with value: 132.72883158922195 and parameters: {'alpha': 0.198710955532413, 'lambda': 0.05816229923570236, 'gamma': 3, 'colsample_bytree': 0.5, 'subsample': 0.6, 'learning_rate': 0.08, 'n_estimators': 542, 'max_depth': 13, 'min_child_weight': 1}. Best is trial 71 with value: 130.86829733848572.\u001b[0m\n"
          ],
          "name": "stderr"
        },
        {
          "output_type": "stream",
          "text": [
            "[07:18:24] WARNING: /workspace/src/objective/regression_obj.cu:152: reg:linear is now deprecated in favor of reg:squarederror.\n"
          ],
          "name": "stdout"
        },
        {
          "output_type": "stream",
          "text": [
            "\u001b[32m[I 2021-07-18 07:18:25,266]\u001b[0m Trial 412 finished with value: 140.31526613235474 and parameters: {'alpha': 0.11197838069066614, 'lambda': 0.09682575907045264, 'gamma': 3, 'colsample_bytree': 0.5, 'subsample': 0.6, 'learning_rate': 0.08, 'n_estimators': 566, 'max_depth': 7, 'min_child_weight': 11}. Best is trial 71 with value: 130.86829733848572.\u001b[0m\n"
          ],
          "name": "stderr"
        },
        {
          "output_type": "stream",
          "text": [
            "[07:18:25] WARNING: /workspace/src/objective/regression_obj.cu:152: reg:linear is now deprecated in favor of reg:squarederror.\n"
          ],
          "name": "stdout"
        },
        {
          "output_type": "stream",
          "text": [
            "\u001b[32m[I 2021-07-18 07:18:25,999]\u001b[0m Trial 413 finished with value: 131.20732218027115 and parameters: {'alpha': 1.637654394418805, 'lambda': 0.1372419777762765, 'gamma': 3, 'colsample_bytree': 0.5, 'subsample': 0.6, 'learning_rate': 0.08, 'n_estimators': 552, 'max_depth': 7, 'min_child_weight': 1}. Best is trial 71 with value: 130.86829733848572.\u001b[0m\n"
          ],
          "name": "stderr"
        },
        {
          "output_type": "stream",
          "text": [
            "[07:18:26] WARNING: /workspace/src/objective/regression_obj.cu:152: reg:linear is now deprecated in favor of reg:squarederror.\n"
          ],
          "name": "stdout"
        },
        {
          "output_type": "stream",
          "text": [
            "\u001b[32m[I 2021-07-18 07:18:26,595]\u001b[0m Trial 414 finished with value: 138.03715419769287 and parameters: {'alpha': 2.713314140160965, 'lambda': 0.14429066523252976, 'gamma': 3, 'colsample_bytree': 0.5, 'subsample': 0.6, 'learning_rate': 0.08, 'n_estimators': 592, 'max_depth': 7, 'min_child_weight': 6}. Best is trial 71 with value: 130.86829733848572.\u001b[0m\n"
          ],
          "name": "stderr"
        },
        {
          "output_type": "stream",
          "text": [
            "[07:18:26] WARNING: /workspace/src/objective/regression_obj.cu:152: reg:linear is now deprecated in favor of reg:squarederror.\n"
          ],
          "name": "stdout"
        },
        {
          "output_type": "stream",
          "text": [
            "\u001b[32m[I 2021-07-18 07:18:27,329]\u001b[0m Trial 415 finished with value: 131.20732218027115 and parameters: {'alpha': 0.22543072189586338, 'lambda': 0.25786649752661434, 'gamma': 3, 'colsample_bytree': 0.5, 'subsample': 0.6, 'learning_rate': 0.08, 'n_estimators': 553, 'max_depth': 7, 'min_child_weight': 1}. Best is trial 71 with value: 130.86829733848572.\u001b[0m\n"
          ],
          "name": "stderr"
        },
        {
          "output_type": "stream",
          "text": [
            "[07:18:27] WARNING: /workspace/src/objective/regression_obj.cu:152: reg:linear is now deprecated in favor of reg:squarederror.\n"
          ],
          "name": "stdout"
        },
        {
          "output_type": "stream",
          "text": [
            "\u001b[32m[I 2021-07-18 07:18:27,974]\u001b[0m Trial 416 finished with value: 142.66108345985413 and parameters: {'alpha': 0.26201540847131677, 'lambda': 0.17277390490694575, 'gamma': 3, 'colsample_bytree': 0.5, 'subsample': 0.6, 'learning_rate': 0.08, 'n_estimators': 554, 'max_depth': 7, 'min_child_weight': 17}. Best is trial 71 with value: 130.86829733848572.\u001b[0m\n"
          ],
          "name": "stderr"
        },
        {
          "output_type": "stream",
          "text": [
            "[07:18:28] WARNING: /workspace/src/objective/regression_obj.cu:152: reg:linear is now deprecated in favor of reg:squarederror.\n"
          ],
          "name": "stdout"
        },
        {
          "output_type": "stream",
          "text": [
            "\u001b[32m[I 2021-07-18 07:18:28,703]\u001b[0m Trial 417 finished with value: 131.20732218027115 and parameters: {'alpha': 1.8798879794161807, 'lambda': 0.23533060830613292, 'gamma': 3, 'colsample_bytree': 0.5, 'subsample': 0.6, 'learning_rate': 0.08, 'n_estimators': 543, 'max_depth': 7, 'min_child_weight': 1}. Best is trial 71 with value: 130.86829733848572.\u001b[0m\n"
          ],
          "name": "stderr"
        },
        {
          "output_type": "stream",
          "text": [
            "[07:18:28] WARNING: /workspace/src/objective/regression_obj.cu:152: reg:linear is now deprecated in favor of reg:squarederror.\n"
          ],
          "name": "stdout"
        },
        {
          "output_type": "stream",
          "text": [
            "\u001b[32m[I 2021-07-18 07:18:29,317]\u001b[0m Trial 418 finished with value: 140.31526613235474 and parameters: {'alpha': 2.0922992325235286, 'lambda': 0.44294010092528235, 'gamma': 3, 'colsample_bytree': 0.5, 'subsample': 0.6, 'learning_rate': 0.08, 'n_estimators': 549, 'max_depth': 7, 'min_child_weight': 11}. Best is trial 71 with value: 130.86829733848572.\u001b[0m\n"
          ],
          "name": "stderr"
        },
        {
          "output_type": "stream",
          "text": [
            "[07:18:29] WARNING: /workspace/src/objective/regression_obj.cu:152: reg:linear is now deprecated in favor of reg:squarederror.\n"
          ],
          "name": "stdout"
        },
        {
          "output_type": "stream",
          "text": [
            "\u001b[32m[I 2021-07-18 07:18:29,907]\u001b[0m Trial 419 finished with value: 138.03715419769287 and parameters: {'alpha': 1.6027416404374697, 'lambda': 0.7032067355262203, 'gamma': 3, 'colsample_bytree': 0.5, 'subsample': 0.6, 'learning_rate': 0.08, 'n_estimators': 537, 'max_depth': 7, 'min_child_weight': 6}. Best is trial 71 with value: 130.86829733848572.\u001b[0m\n"
          ],
          "name": "stderr"
        },
        {
          "output_type": "stream",
          "text": [
            "[07:18:29] WARNING: /workspace/src/objective/regression_obj.cu:152: reg:linear is now deprecated in favor of reg:squarederror.\n"
          ],
          "name": "stdout"
        },
        {
          "output_type": "stream",
          "text": [
            "\u001b[32m[I 2021-07-18 07:18:30,498]\u001b[0m Trial 420 finished with value: 138.03715419769287 and parameters: {'alpha': 0.46338691292851775, 'lambda': 0.12159447305846663, 'gamma': 3, 'colsample_bytree': 0.5, 'subsample': 0.6, 'learning_rate': 0.08, 'n_estimators': 541, 'max_depth': 7, 'min_child_weight': 6}. Best is trial 71 with value: 130.86829733848572.\u001b[0m\n"
          ],
          "name": "stderr"
        },
        {
          "output_type": "stream",
          "text": [
            "[07:18:30] WARNING: /workspace/src/objective/regression_obj.cu:152: reg:linear is now deprecated in favor of reg:squarederror.\n"
          ],
          "name": "stdout"
        },
        {
          "output_type": "stream",
          "text": [
            "\u001b[32m[I 2021-07-18 07:18:31,234]\u001b[0m Trial 421 finished with value: 131.20732218027115 and parameters: {'alpha': 0.08979778179602411, 'lambda': 0.20164446608481107, 'gamma': 3, 'colsample_bytree': 0.5, 'subsample': 0.6, 'learning_rate': 0.08, 'n_estimators': 553, 'max_depth': 7, 'min_child_weight': 1}. Best is trial 71 with value: 130.86829733848572.\u001b[0m\n"
          ],
          "name": "stderr"
        },
        {
          "output_type": "stream",
          "text": [
            "[07:18:31] WARNING: /workspace/src/objective/regression_obj.cu:152: reg:linear is now deprecated in favor of reg:squarederror.\n"
          ],
          "name": "stdout"
        },
        {
          "output_type": "stream",
          "text": [
            "\u001b[32m[I 2021-07-18 07:18:33,730]\u001b[0m Trial 422 finished with value: 132.6170756816864 and parameters: {'alpha': 4.593327586953215, 'lambda': 0.29842178517875384, 'gamma': 3, 'colsample_bytree': 0.5, 'subsample': 0.6, 'learning_rate': 0.08, 'n_estimators': 544, 'max_depth': 20, 'min_child_weight': 1}. Best is trial 71 with value: 130.86829733848572.\u001b[0m\n"
          ],
          "name": "stderr"
        },
        {
          "output_type": "stream",
          "text": [
            "[07:18:33] WARNING: /workspace/src/objective/regression_obj.cu:152: reg:linear is now deprecated in favor of reg:squarederror.\n"
          ],
          "name": "stdout"
        },
        {
          "output_type": "stream",
          "text": [
            "\u001b[32m[I 2021-07-18 07:18:34,333]\u001b[0m Trial 423 finished with value: 137.01151871681213 and parameters: {'alpha': 0.13714625114065046, 'lambda': 0.23105045594699852, 'gamma': 3, 'colsample_bytree': 0.8, 'subsample': 0.6, 'learning_rate': 0.08, 'n_estimators': 565, 'max_depth': 7, 'min_child_weight': 13}. Best is trial 71 with value: 130.86829733848572.\u001b[0m\n"
          ],
          "name": "stderr"
        },
        {
          "output_type": "stream",
          "text": [
            "[07:18:34] WARNING: /workspace/src/objective/regression_obj.cu:152: reg:linear is now deprecated in favor of reg:squarederror.\n"
          ],
          "name": "stdout"
        },
        {
          "output_type": "stream",
          "text": [
            "\u001b[32m[I 2021-07-18 07:18:35,109]\u001b[0m Trial 424 finished with value: 140.21034371852875 and parameters: {'alpha': 1.9375003093662098, 'lambda': 0.28251159106330614, 'gamma': 3, 'colsample_bytree': 0.5, 'subsample': 0.6, 'learning_rate': 0.08, 'n_estimators': 551, 'max_depth': 17, 'min_child_weight': 20}. Best is trial 71 with value: 130.86829733848572.\u001b[0m\n"
          ],
          "name": "stderr"
        },
        {
          "output_type": "stream",
          "text": [
            "[07:18:35] WARNING: /workspace/src/objective/regression_obj.cu:152: reg:linear is now deprecated in favor of reg:squarederror.\n"
          ],
          "name": "stdout"
        },
        {
          "output_type": "stream",
          "text": [
            "\u001b[32m[I 2021-07-18 07:18:35,849]\u001b[0m Trial 425 finished with value: 131.20732218027115 and parameters: {'alpha': 8.38147892274109, 'lambda': 0.1315584813832978, 'gamma': 3, 'colsample_bytree': 0.5, 'subsample': 0.6, 'learning_rate': 0.08, 'n_estimators': 580, 'max_depth': 7, 'min_child_weight': 1}. Best is trial 71 with value: 130.86829733848572.\u001b[0m\n"
          ],
          "name": "stderr"
        },
        {
          "output_type": "stream",
          "text": [
            "[07:18:35] WARNING: /workspace/src/objective/regression_obj.cu:152: reg:linear is now deprecated in favor of reg:squarederror.\n"
          ],
          "name": "stdout"
        },
        {
          "output_type": "stream",
          "text": [
            "\u001b[32m[I 2021-07-18 07:18:36,279]\u001b[0m Trial 426 finished with value: 283.5330505371094 and parameters: {'alpha': 0.23220227342028596, 'lambda': 0.2504399820054071, 'gamma': 3, 'colsample_bytree': 0.4, 'subsample': 0.4, 'learning_rate': 0.08, 'n_estimators': 587, 'max_depth': 7, 'min_child_weight': 240}. Best is trial 71 with value: 130.86829733848572.\u001b[0m\n"
          ],
          "name": "stderr"
        },
        {
          "output_type": "stream",
          "text": [
            "[07:18:36] WARNING: /workspace/src/objective/regression_obj.cu:152: reg:linear is now deprecated in favor of reg:squarederror.\n"
          ],
          "name": "stdout"
        },
        {
          "output_type": "stream",
          "text": [
            "\u001b[32m[I 2021-07-18 07:18:36,872]\u001b[0m Trial 427 finished with value: 138.03715419769287 and parameters: {'alpha': 0.08872789314065521, 'lambda': 0.3585421888838637, 'gamma': 3, 'colsample_bytree': 0.5, 'subsample': 0.6, 'learning_rate': 0.08, 'n_estimators': 558, 'max_depth': 7, 'min_child_weight': 6}. Best is trial 71 with value: 130.86829733848572.\u001b[0m\n"
          ],
          "name": "stderr"
        },
        {
          "output_type": "stream",
          "text": [
            "[07:18:36] WARNING: /workspace/src/objective/regression_obj.cu:152: reg:linear is now deprecated in favor of reg:squarederror.\n"
          ],
          "name": "stdout"
        },
        {
          "output_type": "stream",
          "text": [
            "\u001b[32m[I 2021-07-18 07:18:37,483]\u001b[0m Trial 428 finished with value: 140.31526613235474 and parameters: {'alpha': 8.064469020724607, 'lambda': 0.12161115775398545, 'gamma': 3, 'colsample_bytree': 0.5, 'subsample': 0.6, 'learning_rate': 0.08, 'n_estimators': 577, 'max_depth': 7, 'min_child_weight': 11}. Best is trial 71 with value: 130.86829733848572.\u001b[0m\n"
          ],
          "name": "stderr"
        },
        {
          "output_type": "stream",
          "text": [
            "[07:18:37] WARNING: /workspace/src/objective/regression_obj.cu:152: reg:linear is now deprecated in favor of reg:squarederror.\n"
          ],
          "name": "stdout"
        },
        {
          "output_type": "stream",
          "text": [
            "\u001b[32m[I 2021-07-18 07:18:38,293]\u001b[0m Trial 429 finished with value: 137.8226226568222 and parameters: {'alpha': 0.16929076677025706, 'lambda': 0.2452780667944868, 'gamma': 3, 'colsample_bytree': 0.5, 'subsample': 0.8, 'learning_rate': 0.08, 'n_estimators': 531, 'max_depth': 7, 'min_child_weight': 1}. Best is trial 71 with value: 130.86829733848572.\u001b[0m\n"
          ],
          "name": "stderr"
        },
        {
          "output_type": "stream",
          "text": [
            "[07:18:38] WARNING: /workspace/src/objective/regression_obj.cu:152: reg:linear is now deprecated in favor of reg:squarederror.\n"
          ],
          "name": "stdout"
        },
        {
          "output_type": "stream",
          "text": [
            "\u001b[32m[I 2021-07-18 07:18:38,844]\u001b[0m Trial 430 finished with value: 141.89107048511505 and parameters: {'alpha': 1.2920456204410495, 'lambda': 0.14714976237766944, 'gamma': 3, 'colsample_bytree': 0.5, 'subsample': 1.0, 'learning_rate': 0.08, 'n_estimators': 600, 'max_depth': 5, 'min_child_weight': 7}. Best is trial 71 with value: 130.86829733848572.\u001b[0m\n"
          ],
          "name": "stderr"
        },
        {
          "output_type": "stream",
          "text": [
            "[07:18:38] WARNING: /workspace/src/objective/regression_obj.cu:152: reg:linear is now deprecated in favor of reg:squarederror.\n"
          ],
          "name": "stdout"
        },
        {
          "output_type": "stream",
          "text": [
            "\u001b[32m[I 2021-07-18 07:18:39,617]\u001b[0m Trial 431 finished with value: 132.41108483076096 and parameters: {'alpha': 0.2895421065415714, 'lambda': 0.07032912221770679, 'gamma': 3, 'colsample_bytree': 0.5, 'subsample': 0.7, 'learning_rate': 0.08, 'n_estimators': 583, 'max_depth': 7, 'min_child_weight': 1}. Best is trial 71 with value: 130.86829733848572.\u001b[0m\n"
          ],
          "name": "stderr"
        },
        {
          "output_type": "stream",
          "text": [
            "[07:18:39] WARNING: /workspace/src/objective/regression_obj.cu:152: reg:linear is now deprecated in favor of reg:squarederror.\n"
          ],
          "name": "stdout"
        },
        {
          "output_type": "stream",
          "text": [
            "\u001b[32m[I 2021-07-18 07:18:40,534]\u001b[0m Trial 432 finished with value: 140.14341366291046 and parameters: {'alpha': 0.347038385650199, 'lambda': 0.17477418240355183, 'gamma': 3, 'colsample_bytree': 0.5, 'subsample': 0.6, 'learning_rate': 0.06, 'n_estimators': 383, 'max_depth': 7, 'min_child_weight': 15}. Best is trial 71 with value: 130.86829733848572.\u001b[0m\n"
          ],
          "name": "stderr"
        },
        {
          "output_type": "stream",
          "text": [
            "[07:18:40] WARNING: /workspace/src/objective/regression_obj.cu:152: reg:linear is now deprecated in favor of reg:squarederror.\n"
          ],
          "name": "stdout"
        },
        {
          "output_type": "stream",
          "text": [
            "\u001b[32m[I 2021-07-18 07:18:41,273]\u001b[0m Trial 433 finished with value: 131.20732218027115 and parameters: {'alpha': 0.4076477726653773, 'lambda': 0.20162809716034358, 'gamma': 3, 'colsample_bytree': 0.5, 'subsample': 0.6, 'learning_rate': 0.08, 'n_estimators': 557, 'max_depth': 7, 'min_child_weight': 1}. Best is trial 71 with value: 130.86829733848572.\u001b[0m\n"
          ],
          "name": "stderr"
        },
        {
          "output_type": "stream",
          "text": [
            "[07:18:41] WARNING: /workspace/src/objective/regression_obj.cu:152: reg:linear is now deprecated in favor of reg:squarederror.\n"
          ],
          "name": "stdout"
        },
        {
          "output_type": "stream",
          "text": [
            "\u001b[32m[I 2021-07-18 07:18:42,379]\u001b[0m Trial 434 finished with value: 140.46954333782196 and parameters: {'alpha': 0.28465652379176637, 'lambda': 0.20055265981906864, 'gamma': 3, 'colsample_bytree': 0.5, 'subsample': 0.6, 'learning_rate': 0.02, 'n_estimators': 562, 'max_depth': 7, 'min_child_weight': 10}. Best is trial 71 with value: 130.86829733848572.\u001b[0m\n"
          ],
          "name": "stderr"
        },
        {
          "output_type": "stream",
          "text": [
            "[07:18:42] WARNING: /workspace/src/objective/regression_obj.cu:152: reg:linear is now deprecated in favor of reg:squarederror.\n"
          ],
          "name": "stdout"
        },
        {
          "output_type": "stream",
          "text": [
            "\u001b[32m[I 2021-07-18 07:18:43,112]\u001b[0m Trial 435 finished with value: 131.20732218027115 and parameters: {'alpha': 6.594864825378775, 'lambda': 0.08960814623939972, 'gamma': 3, 'colsample_bytree': 0.5, 'subsample': 0.6, 'learning_rate': 0.08, 'n_estimators': 574, 'max_depth': 7, 'min_child_weight': 1}. Best is trial 71 with value: 130.86829733848572.\u001b[0m\n"
          ],
          "name": "stderr"
        },
        {
          "output_type": "stream",
          "text": [
            "[07:18:43] WARNING: /workspace/src/objective/regression_obj.cu:152: reg:linear is now deprecated in favor of reg:squarederror.\n"
          ],
          "name": "stdout"
        },
        {
          "output_type": "stream",
          "text": [
            "\u001b[32m[I 2021-07-18 07:18:43,721]\u001b[0m Trial 436 finished with value: 142.32814991474152 and parameters: {'alpha': 0.3969933867868162, 'lambda': 0.09457174532401917, 'gamma': 3, 'colsample_bytree': 0.5, 'subsample': 0.6, 'learning_rate': 0.08, 'n_estimators': 579, 'max_depth': 7, 'min_child_weight': 7}. Best is trial 71 with value: 130.86829733848572.\u001b[0m\n"
          ],
          "name": "stderr"
        },
        {
          "output_type": "stream",
          "text": [
            "[07:18:43] WARNING: /workspace/src/objective/regression_obj.cu:152: reg:linear is now deprecated in favor of reg:squarederror.\n"
          ],
          "name": "stdout"
        },
        {
          "output_type": "stream",
          "text": [
            "\u001b[32m[I 2021-07-18 07:18:44,490]\u001b[0m Trial 437 finished with value: 139.83394575119019 and parameters: {'alpha': 5.553507110673914, 'lambda': 0.15345476508261885, 'gamma': 3, 'colsample_bytree': 0.9, 'subsample': 0.6, 'learning_rate': 0.08, 'n_estimators': 334, 'max_depth': 15, 'min_child_weight': 25}. Best is trial 71 with value: 130.86829733848572.\u001b[0m\n"
          ],
          "name": "stderr"
        },
        {
          "output_type": "stream",
          "text": [
            "[07:18:44] WARNING: /workspace/src/objective/regression_obj.cu:152: reg:linear is now deprecated in favor of reg:squarederror.\n"
          ],
          "name": "stdout"
        },
        {
          "output_type": "stream",
          "text": [
            "\u001b[32m[I 2021-07-18 07:18:45,222]\u001b[0m Trial 438 finished with value: 131.20732218027115 and parameters: {'alpha': 0.14935820259888016, 'lambda': 0.3097385326920102, 'gamma': 3, 'colsample_bytree': 0.5, 'subsample': 0.6, 'learning_rate': 0.08, 'n_estimators': 541, 'max_depth': 7, 'min_child_weight': 1}. Best is trial 71 with value: 130.86829733848572.\u001b[0m\n"
          ],
          "name": "stderr"
        },
        {
          "output_type": "stream",
          "text": [
            "[07:18:45] WARNING: /workspace/src/objective/regression_obj.cu:152: reg:linear is now deprecated in favor of reg:squarederror.\n"
          ],
          "name": "stdout"
        },
        {
          "output_type": "stream",
          "text": [
            "\u001b[32m[I 2021-07-18 07:18:45,898]\u001b[0m Trial 439 finished with value: 141.19365894794464 and parameters: {'alpha': 0.1189258426244075, 'lambda': 0.4911389659877857, 'gamma': 3, 'colsample_bytree': 0.5, 'subsample': 0.6, 'learning_rate': 0.08, 'n_estimators': 529, 'max_depth': 7, 'min_child_weight': 15}. Best is trial 71 with value: 130.86829733848572.\u001b[0m\n"
          ],
          "name": "stderr"
        },
        {
          "output_type": "stream",
          "text": [
            "[07:18:45] WARNING: /workspace/src/objective/regression_obj.cu:152: reg:linear is now deprecated in favor of reg:squarederror.\n"
          ],
          "name": "stdout"
        },
        {
          "output_type": "stream",
          "text": [
            "\u001b[32m[I 2021-07-18 07:18:46,819]\u001b[0m Trial 440 finished with value: 146.62387990951538 and parameters: {'alpha': 0.1619547242797117, 'lambda': 0.07366613834213875, 'gamma': 3, 'colsample_bytree': 1.0, 'subsample': 0.6, 'learning_rate': 0.08, 'n_estimators': 533, 'max_depth': 7, 'min_child_weight': 97}. Best is trial 71 with value: 130.86829733848572.\u001b[0m\n"
          ],
          "name": "stderr"
        },
        {
          "output_type": "stream",
          "text": [
            "[07:18:46] WARNING: /workspace/src/objective/regression_obj.cu:152: reg:linear is now deprecated in favor of reg:squarederror.\n"
          ],
          "name": "stdout"
        },
        {
          "output_type": "stream",
          "text": [
            "\u001b[32m[I 2021-07-18 07:18:48,511]\u001b[0m Trial 441 finished with value: 140.98762619495392 and parameters: {'alpha': 2.785123308488674, 'lambda': 0.3327842039936841, 'gamma': 3, 'colsample_bytree': 0.5, 'subsample': 0.6, 'learning_rate': 0.01, 'n_estimators': 546, 'max_depth': 7, 'min_child_weight': 7}. Best is trial 71 with value: 130.86829733848572.\u001b[0m\n"
          ],
          "name": "stderr"
        },
        {
          "output_type": "stream",
          "text": [
            "[07:18:48] WARNING: /workspace/src/objective/regression_obj.cu:152: reg:linear is now deprecated in favor of reg:squarederror.\n"
          ],
          "name": "stdout"
        },
        {
          "output_type": "stream",
          "text": [
            "\u001b[32m[I 2021-07-18 07:18:49,224]\u001b[0m Trial 442 finished with value: 140.60719347000122 and parameters: {'alpha': 0.20228708711764892, 'lambda': 0.11208180485104206, 'gamma': 3, 'colsample_bytree': 0.7, 'subsample': 0.6, 'learning_rate': 0.08, 'n_estimators': 568, 'max_depth': 7, 'min_child_weight': 1}. Best is trial 71 with value: 130.86829733848572.\u001b[0m\n"
          ],
          "name": "stderr"
        },
        {
          "output_type": "stream",
          "text": [
            "[07:18:49] WARNING: /workspace/src/objective/regression_obj.cu:152: reg:linear is now deprecated in favor of reg:squarederror.\n"
          ],
          "name": "stdout"
        },
        {
          "output_type": "stream",
          "text": [
            "\u001b[32m[I 2021-07-18 07:18:49,838]\u001b[0m Trial 443 finished with value: 140.31526613235474 and parameters: {'alpha': 0.2273118171590716, 'lambda': 0.08266111557872562, 'gamma': 3, 'colsample_bytree': 0.5, 'subsample': 0.6, 'learning_rate': 0.08, 'n_estimators': 312, 'max_depth': 7, 'min_child_weight': 11}. Best is trial 71 with value: 130.86829733848572.\u001b[0m\n"
          ],
          "name": "stderr"
        },
        {
          "output_type": "stream",
          "text": [
            "[07:18:49] WARNING: /workspace/src/objective/regression_obj.cu:152: reg:linear is now deprecated in favor of reg:squarederror.\n"
          ],
          "name": "stdout"
        },
        {
          "output_type": "stream",
          "text": [
            "\u001b[32m[I 2021-07-18 07:18:50,570]\u001b[0m Trial 444 finished with value: 131.20732218027115 and parameters: {'alpha': 8.964442706922794, 'lambda': 0.05443955696361494, 'gamma': 3, 'colsample_bytree': 0.5, 'subsample': 0.6, 'learning_rate': 0.08, 'n_estimators': 574, 'max_depth': 7, 'min_child_weight': 1}. Best is trial 71 with value: 130.86829733848572.\u001b[0m\n"
          ],
          "name": "stderr"
        },
        {
          "output_type": "stream",
          "text": [
            "[07:18:50] WARNING: /workspace/src/objective/regression_obj.cu:152: reg:linear is now deprecated in favor of reg:squarederror.\n"
          ],
          "name": "stdout"
        },
        {
          "output_type": "stream",
          "text": [
            "\u001b[32m[I 2021-07-18 07:18:51,334]\u001b[0m Trial 445 finished with value: 138.02681231498718 and parameters: {'alpha': 0.2292321147109212, 'lambda': 0.05190659054773544, 'gamma': 3, 'colsample_bytree': 0.5, 'subsample': 0.6, 'learning_rate': 0.08, 'n_estimators': 557, 'max_depth': 7, 'min_child_weight': 20}. Best is trial 71 with value: 130.86829733848572.\u001b[0m\n"
          ],
          "name": "stderr"
        },
        {
          "output_type": "stream",
          "text": [
            "[07:18:51] WARNING: /workspace/src/objective/regression_obj.cu:152: reg:linear is now deprecated in favor of reg:squarederror.\n"
          ],
          "name": "stdout"
        },
        {
          "output_type": "stream",
          "text": [
            "\u001b[32m[I 2021-07-18 07:18:51,985]\u001b[0m Trial 446 finished with value: 141.95956552028656 and parameters: {'alpha': 6.62589043574001, 'lambda': 0.06857427469750282, 'gamma': 3, 'colsample_bytree': 0.3, 'subsample': 0.6, 'learning_rate': 0.08, 'n_estimators': 599, 'max_depth': 5, 'min_child_weight': 6}. Best is trial 71 with value: 130.86829733848572.\u001b[0m\n"
          ],
          "name": "stderr"
        },
        {
          "output_type": "stream",
          "text": [
            "[07:18:52] WARNING: /workspace/src/objective/regression_obj.cu:152: reg:linear is now deprecated in favor of reg:squarederror.\n"
          ],
          "name": "stdout"
        },
        {
          "output_type": "stream",
          "text": [
            "\u001b[32m[I 2021-07-18 07:18:52,721]\u001b[0m Trial 447 finished with value: 131.20732218027115 and parameters: {'alpha': 0.31084891992956815, 'lambda': 0.27164148887966566, 'gamma': 3, 'colsample_bytree': 0.5, 'subsample': 0.6, 'learning_rate': 0.08, 'n_estimators': 588, 'max_depth': 7, 'min_child_weight': 1}. Best is trial 71 with value: 130.86829733848572.\u001b[0m\n"
          ],
          "name": "stderr"
        },
        {
          "output_type": "stream",
          "text": [
            "[07:18:52] WARNING: /workspace/src/objective/regression_obj.cu:152: reg:linear is now deprecated in favor of reg:squarederror.\n"
          ],
          "name": "stdout"
        },
        {
          "output_type": "stream",
          "text": [
            "\u001b[32m[I 2021-07-18 07:18:53,318]\u001b[0m Trial 448 finished with value: 142.66523385047913 and parameters: {'alpha': 0.32395746615608156, 'lambda': 0.25052373313052206, 'gamma': 3, 'colsample_bytree': 0.5, 'subsample': 0.6, 'learning_rate': 0.08, 'n_estimators': 547, 'max_depth': 7, 'min_child_weight': 9}. Best is trial 71 with value: 130.86829733848572.\u001b[0m\n"
          ],
          "name": "stderr"
        },
        {
          "output_type": "stream",
          "text": [
            "[07:18:53] WARNING: /workspace/src/objective/regression_obj.cu:152: reg:linear is now deprecated in favor of reg:squarederror.\n"
          ],
          "name": "stdout"
        },
        {
          "output_type": "stream",
          "text": [
            "\u001b[32m[I 2021-07-18 07:18:54,039]\u001b[0m Trial 449 finished with value: 142.7897082567215 and parameters: {'alpha': 1.0688487177364179, 'lambda': 0.22505922858220495, 'gamma': 3, 'colsample_bytree': 0.5, 'subsample': 0.6, 'learning_rate': 0.08, 'n_estimators': 593, 'max_depth': 3, 'min_child_weight': 15}. Best is trial 71 with value: 130.86829733848572.\u001b[0m\n"
          ],
          "name": "stderr"
        },
        {
          "output_type": "stream",
          "text": [
            "[07:18:54] WARNING: /workspace/src/objective/regression_obj.cu:152: reg:linear is now deprecated in favor of reg:squarederror.\n"
          ],
          "name": "stdout"
        },
        {
          "output_type": "stream",
          "text": [
            "\u001b[32m[I 2021-07-18 07:18:54,937]\u001b[0m Trial 450 finished with value: 145.64319241046906 and parameters: {'alpha': 3.285757678941843, 'lambda': 0.19456276110212078, 'gamma': 3, 'colsample_bytree': 0.5, 'subsample': 0.6, 'learning_rate': 0.08, 'n_estimators': 572, 'max_depth': 7, 'min_child_weight': 33}. Best is trial 71 with value: 130.86829733848572.\u001b[0m\n"
          ],
          "name": "stderr"
        },
        {
          "output_type": "stream",
          "text": [
            "[07:18:54] WARNING: /workspace/src/objective/regression_obj.cu:152: reg:linear is now deprecated in favor of reg:squarederror.\n"
          ],
          "name": "stdout"
        },
        {
          "output_type": "stream",
          "text": [
            "\u001b[32m[I 2021-07-18 07:18:55,628]\u001b[0m Trial 451 finished with value: 137.64922213554382 and parameters: {'alpha': 0.5539496577340975, 'lambda': 0.35470867138671175, 'gamma': 3, 'colsample_bytree': 0.5, 'subsample': 0.6, 'learning_rate': 0.08, 'n_estimators': 556, 'max_depth': 13, 'min_child_weight': 6}. Best is trial 71 with value: 130.86829733848572.\u001b[0m\n"
          ],
          "name": "stderr"
        },
        {
          "output_type": "stream",
          "text": [
            "[07:18:55] WARNING: /workspace/src/objective/regression_obj.cu:152: reg:linear is now deprecated in favor of reg:squarederror.\n"
          ],
          "name": "stdout"
        },
        {
          "output_type": "stream",
          "text": [
            "\u001b[32m[I 2021-07-18 07:18:56,233]\u001b[0m Trial 452 finished with value: 138.03715419769287 and parameters: {'alpha': 0.4158520784657649, 'lambda': 0.08964381613823606, 'gamma': 3, 'colsample_bytree': 0.5, 'subsample': 0.6, 'learning_rate': 0.08, 'n_estimators': 587, 'max_depth': 7, 'min_child_weight': 6}. Best is trial 71 with value: 130.86829733848572.\u001b[0m\n"
          ],
          "name": "stderr"
        },
        {
          "output_type": "stream",
          "text": [
            "[07:18:56] WARNING: /workspace/src/objective/regression_obj.cu:152: reg:linear is now deprecated in favor of reg:squarederror.\n"
          ],
          "name": "stdout"
        },
        {
          "output_type": "stream",
          "text": [
            "\u001b[32m[I 2021-07-18 07:18:56,988]\u001b[0m Trial 453 finished with value: 131.20732218027115 and parameters: {'alpha': 0.2951727925104894, 'lambda': 0.1793611081820649, 'gamma': 3, 'colsample_bytree': 0.5, 'subsample': 0.6, 'learning_rate': 0.08, 'n_estimators': 563, 'max_depth': 7, 'min_child_weight': 1}. Best is trial 71 with value: 130.86829733848572.\u001b[0m\n"
          ],
          "name": "stderr"
        },
        {
          "output_type": "stream",
          "text": [
            "[07:18:57] WARNING: /workspace/src/objective/regression_obj.cu:152: reg:linear is now deprecated in favor of reg:squarederror.\n"
          ],
          "name": "stdout"
        },
        {
          "output_type": "stream",
          "text": [
            "\u001b[32m[I 2021-07-18 07:18:57,643]\u001b[0m Trial 454 finished with value: 139.47431242465973 and parameters: {'alpha': 0.17575574327343232, 'lambda': 0.1340147698464056, 'gamma': 1, 'colsample_bytree': 0.5, 'subsample': 0.6, 'learning_rate': 0.08, 'n_estimators': 394, 'max_depth': 7, 'min_child_weight': 12}. Best is trial 71 with value: 130.86829733848572.\u001b[0m\n"
          ],
          "name": "stderr"
        },
        {
          "output_type": "stream",
          "text": [
            "[07:18:57] WARNING: /workspace/src/objective/regression_obj.cu:152: reg:linear is now deprecated in favor of reg:squarederror.\n"
          ],
          "name": "stdout"
        },
        {
          "output_type": "stream",
          "text": [
            "\u001b[32m[I 2021-07-18 07:18:58,397]\u001b[0m Trial 455 finished with value: 131.20732218027115 and parameters: {'alpha': 0.1994363323904921, 'lambda': 0.10016682797006596, 'gamma': 3, 'colsample_bytree': 0.5, 'subsample': 0.6, 'learning_rate': 0.08, 'n_estimators': 360, 'max_depth': 7, 'min_child_weight': 1}. Best is trial 71 with value: 130.86829733848572.\u001b[0m\n"
          ],
          "name": "stderr"
        },
        {
          "output_type": "stream",
          "text": [
            "[07:18:58] WARNING: /workspace/src/objective/regression_obj.cu:152: reg:linear is now deprecated in favor of reg:squarederror.\n"
          ],
          "name": "stdout"
        },
        {
          "output_type": "stream",
          "text": [
            "\u001b[32m[I 2021-07-18 07:18:59,116]\u001b[0m Trial 456 finished with value: 137.7178783416748 and parameters: {'alpha': 0.20509005346421996, 'lambda': 0.11024543451304587, 'gamma': 3, 'colsample_bytree': 0.8, 'subsample': 0.4, 'learning_rate': 0.08, 'n_estimators': 368, 'max_depth': 7, 'min_child_weight': 1}. Best is trial 71 with value: 130.86829733848572.\u001b[0m\n"
          ],
          "name": "stderr"
        },
        {
          "output_type": "stream",
          "text": [
            "[07:18:59] WARNING: /workspace/src/objective/regression_obj.cu:152: reg:linear is now deprecated in favor of reg:squarederror.\n"
          ],
          "name": "stdout"
        },
        {
          "output_type": "stream",
          "text": [
            "\u001b[32m[I 2021-07-18 07:19:01,492]\u001b[0m Trial 457 finished with value: 135.79654824733734 and parameters: {'alpha': 0.26079440949667543, 'lambda': 0.16219811847468457, 'gamma': 3, 'colsample_bytree': 0.4, 'subsample': 0.6, 'learning_rate': 0.08, 'n_estimators': 563, 'max_depth': 20, 'min_child_weight': 17}. Best is trial 71 with value: 130.86829733848572.\u001b[0m\n"
          ],
          "name": "stderr"
        },
        {
          "output_type": "stream",
          "text": [
            "[07:19:01] WARNING: /workspace/src/objective/regression_obj.cu:152: reg:linear is now deprecated in favor of reg:squarederror.\n"
          ],
          "name": "stdout"
        },
        {
          "output_type": "stream",
          "text": [
            "\u001b[32m[I 2021-07-18 07:19:02,253]\u001b[0m Trial 458 finished with value: 131.20732218027115 and parameters: {'alpha': 0.27100166494268946, 'lambda': 0.2316682903502407, 'gamma': 3, 'colsample_bytree': 0.5, 'subsample': 0.6, 'learning_rate': 0.08, 'n_estimators': 552, 'max_depth': 7, 'min_child_weight': 1}. Best is trial 71 with value: 130.86829733848572.\u001b[0m\n"
          ],
          "name": "stderr"
        },
        {
          "output_type": "stream",
          "text": [
            "[07:19:02] WARNING: /workspace/src/objective/regression_obj.cu:152: reg:linear is now deprecated in favor of reg:squarederror.\n"
          ],
          "name": "stdout"
        },
        {
          "output_type": "stream",
          "text": [
            "\u001b[32m[I 2021-07-18 07:19:02,837]\u001b[0m Trial 459 finished with value: 138.20335352420807 and parameters: {'alpha': 0.13872003735729635, 'lambda': 0.31486718304983685, 'gamma': 3, 'colsample_bytree': 0.5, 'subsample': 0.8, 'learning_rate': 0.08, 'n_estimators': 255, 'max_depth': 7, 'min_child_weight': 10}. Best is trial 71 with value: 130.86829733848572.\u001b[0m\n"
          ],
          "name": "stderr"
        },
        {
          "output_type": "stream",
          "text": [
            "[07:19:02] WARNING: /workspace/src/objective/regression_obj.cu:152: reg:linear is now deprecated in favor of reg:squarederror.\n"
          ],
          "name": "stdout"
        },
        {
          "output_type": "stream",
          "text": [
            "\u001b[32m[I 2021-07-18 07:19:03,798]\u001b[0m Trial 460 finished with value: 136.00414955615997 and parameters: {'alpha': 0.8860781084419599, 'lambda': 0.05124962041685149, 'gamma': 3, 'colsample_bytree': 0.5, 'subsample': 1.0, 'learning_rate': 0.06, 'n_estimators': 549, 'max_depth': 17, 'min_child_weight': 6}. Best is trial 71 with value: 130.86829733848572.\u001b[0m\n"
          ],
          "name": "stderr"
        },
        {
          "output_type": "stream",
          "text": [
            "[07:19:03] WARNING: /workspace/src/objective/regression_obj.cu:152: reg:linear is now deprecated in favor of reg:squarederror.\n"
          ],
          "name": "stdout"
        },
        {
          "output_type": "stream",
          "text": [
            "\u001b[32m[I 2021-07-18 07:19:04,851]\u001b[0m Trial 461 finished with value: 140.88566327095032 and parameters: {'alpha': 1.6116103259877854, 'lambda': 0.20712264592373825, 'gamma': 3, 'colsample_bytree': 0.5, 'subsample': 0.6, 'learning_rate': 0.02, 'n_estimators': 539, 'max_depth': 7, 'min_child_weight': 6}. Best is trial 71 with value: 130.86829733848572.\u001b[0m\n"
          ],
          "name": "stderr"
        },
        {
          "output_type": "stream",
          "text": [
            "[07:19:04] WARNING: /workspace/src/objective/regression_obj.cu:152: reg:linear is now deprecated in favor of reg:squarederror.\n"
          ],
          "name": "stdout"
        },
        {
          "output_type": "stream",
          "text": [
            "\u001b[32m[I 2021-07-18 07:19:05,450]\u001b[0m Trial 462 finished with value: 138.10314917564392 and parameters: {'alpha': 0.022683091178422186, 'lambda': 0.1654650847222994, 'gamma': 3, 'colsample_bytree': 0.5, 'subsample': 0.7, 'learning_rate': 0.08, 'n_estimators': 532, 'max_depth': 5, 'min_child_weight': 1}. Best is trial 71 with value: 130.86829733848572.\u001b[0m\n"
          ],
          "name": "stderr"
        },
        {
          "output_type": "stream",
          "text": [
            "[07:19:05] WARNING: /workspace/src/objective/regression_obj.cu:152: reg:linear is now deprecated in favor of reg:squarederror.\n"
          ],
          "name": "stdout"
        },
        {
          "output_type": "stream",
          "text": [
            "\u001b[32m[I 2021-07-18 07:19:06,201]\u001b[0m Trial 463 finished with value: 131.20732218027115 and parameters: {'alpha': 0.30906053504319686, 'lambda': 0.26915015839737455, 'gamma': 3, 'colsample_bytree': 0.5, 'subsample': 0.6, 'learning_rate': 0.08, 'n_estimators': 581, 'max_depth': 7, 'min_child_weight': 1}. Best is trial 71 with value: 130.86829733848572.\u001b[0m\n"
          ],
          "name": "stderr"
        },
        {
          "output_type": "stream",
          "text": [
            "[07:19:06] WARNING: /workspace/src/objective/regression_obj.cu:152: reg:linear is now deprecated in favor of reg:squarederror.\n"
          ],
          "name": "stdout"
        },
        {
          "output_type": "stream",
          "text": [
            "\u001b[32m[I 2021-07-18 07:19:06,853]\u001b[0m Trial 464 finished with value: 139.47431242465973 and parameters: {'alpha': 0.10301122319526397, 'lambda': 0.13334409371571748, 'gamma': 0, 'colsample_bytree': 0.5, 'subsample': 0.6, 'learning_rate': 0.08, 'n_estimators': 403, 'max_depth': 7, 'min_child_weight': 12}. Best is trial 71 with value: 130.86829733848572.\u001b[0m\n"
          ],
          "name": "stderr"
        },
        {
          "output_type": "stream",
          "text": [
            "[07:19:06] WARNING: /workspace/src/objective/regression_obj.cu:152: reg:linear is now deprecated in favor of reg:squarederror.\n"
          ],
          "name": "stdout"
        },
        {
          "output_type": "stream",
          "text": [
            "\u001b[32m[I 2021-07-18 07:19:07,655]\u001b[0m Trial 465 finished with value: 140.8213939666748 and parameters: {'alpha': 0.4400859250175537, 'lambda': 0.21146626043741867, 'gamma': 3, 'colsample_bytree': 0.5, 'subsample': 0.6, 'learning_rate': 0.08, 'n_estimators': 556, 'max_depth': 7, 'min_child_weight': 19}. Best is trial 71 with value: 130.86829733848572.\u001b[0m\n"
          ],
          "name": "stderr"
        },
        {
          "output_type": "stream",
          "text": [
            "[07:19:07] WARNING: /workspace/src/objective/regression_obj.cu:152: reg:linear is now deprecated in favor of reg:squarederror.\n"
          ],
          "name": "stdout"
        },
        {
          "output_type": "stream",
          "text": [
            "\u001b[32m[I 2021-07-18 07:19:09,368]\u001b[0m Trial 466 finished with value: 140.98762619495392 and parameters: {'alpha': 0.17549969612236185, 'lambda': 0.11048161294933168, 'gamma': 3, 'colsample_bytree': 0.5, 'subsample': 0.6, 'learning_rate': 0.01, 'n_estimators': 523, 'max_depth': 7, 'min_child_weight': 7}. Best is trial 71 with value: 130.86829733848572.\u001b[0m\n"
          ],
          "name": "stderr"
        },
        {
          "output_type": "stream",
          "text": [
            "[07:19:09] WARNING: /workspace/src/objective/regression_obj.cu:152: reg:linear is now deprecated in favor of reg:squarederror.\n"
          ],
          "name": "stdout"
        },
        {
          "output_type": "stream",
          "text": [
            "\u001b[32m[I 2021-07-18 07:19:10,121]\u001b[0m Trial 467 finished with value: 131.20732218027115 and parameters: {'alpha': 0.35882191778612704, 'lambda': 1.3208842963933605, 'gamma': 3, 'colsample_bytree': 0.5, 'subsample': 0.6, 'learning_rate': 0.08, 'n_estimators': 567, 'max_depth': 7, 'min_child_weight': 1}. Best is trial 71 with value: 130.86829733848572.\u001b[0m\n"
          ],
          "name": "stderr"
        },
        {
          "output_type": "stream",
          "text": [
            "[07:19:10] WARNING: /workspace/src/objective/regression_obj.cu:152: reg:linear is now deprecated in favor of reg:squarederror.\n"
          ],
          "name": "stdout"
        },
        {
          "output_type": "stream",
          "text": [
            "\u001b[32m[I 2021-07-18 07:19:11,377]\u001b[0m Trial 468 finished with value: 157.14635014533997 and parameters: {'alpha': 0.3153215527740733, 'lambda': 0.09763000764946551, 'gamma': 1, 'colsample_bytree': 0.5, 'subsample': 0.6, 'learning_rate': 0.08, 'n_estimators': 381, 'max_depth': 7, 'min_child_weight': 76}. Best is trial 71 with value: 130.86829733848572.\u001b[0m\n"
          ],
          "name": "stderr"
        },
        {
          "output_type": "stream",
          "text": [
            "[07:19:11] WARNING: /workspace/src/objective/regression_obj.cu:152: reg:linear is now deprecated in favor of reg:squarederror.\n"
          ],
          "name": "stdout"
        },
        {
          "output_type": "stream",
          "text": [
            "\u001b[32m[I 2021-07-18 07:19:12,138]\u001b[0m Trial 469 finished with value: 131.20732218027115 and parameters: {'alpha': 0.2540101216052581, 'lambda': 4.263731070344967, 'gamma': 3, 'colsample_bytree': 0.5, 'subsample': 0.6, 'learning_rate': 0.08, 'n_estimators': 570, 'max_depth': 7, 'min_child_weight': 1}. Best is trial 71 with value: 130.86829733848572.\u001b[0m\n"
          ],
          "name": "stderr"
        },
        {
          "output_type": "stream",
          "text": [
            "[07:19:12] WARNING: /workspace/src/objective/regression_obj.cu:152: reg:linear is now deprecated in favor of reg:squarederror.\n"
          ],
          "name": "stdout"
        },
        {
          "output_type": "stream",
          "text": [
            "\u001b[32m[I 2021-07-18 07:19:12,853]\u001b[0m Trial 470 finished with value: 138.90752279758453 and parameters: {'alpha': 0.20410532377139964, 'lambda': 6.960503187545611, 'gamma': 3, 'colsample_bytree': 0.5, 'subsample': 0.6, 'learning_rate': 0.08, 'n_estimators': 526, 'max_depth': 15, 'min_child_weight': 12}. Best is trial 71 with value: 130.86829733848572.\u001b[0m\n"
          ],
          "name": "stderr"
        },
        {
          "output_type": "stream",
          "text": [
            "[07:19:12] WARNING: /workspace/src/objective/regression_obj.cu:152: reg:linear is now deprecated in favor of reg:squarederror.\n"
          ],
          "name": "stdout"
        },
        {
          "output_type": "stream",
          "text": [
            "\u001b[32m[I 2021-07-18 07:19:13,750]\u001b[0m Trial 471 finished with value: 142.5389130115509 and parameters: {'alpha': 0.2206910352612328, 'lambda': 0.08030948636062128, 'gamma': 3, 'colsample_bytree': 0.5, 'subsample': 0.6, 'learning_rate': 0.08, 'n_estimators': 541, 'max_depth': 7, 'min_child_weight': 24}. Best is trial 71 with value: 130.86829733848572.\u001b[0m\n"
          ],
          "name": "stderr"
        },
        {
          "output_type": "stream",
          "text": [
            "[07:19:13] WARNING: /workspace/src/objective/regression_obj.cu:152: reg:linear is now deprecated in favor of reg:squarederror.\n"
          ],
          "name": "stdout"
        },
        {
          "output_type": "stream",
          "text": [
            "\u001b[32m[I 2021-07-18 07:19:14,493]\u001b[0m Trial 472 finished with value: 148.68096351623535 and parameters: {'alpha': 8.662793128644845, 'lambda': 2.700496102499143, 'gamma': 3, 'colsample_bytree': 1.0, 'subsample': 0.6, 'learning_rate': 0.08, 'n_estimators': 571, 'max_depth': 7, 'min_child_weight': 1}. Best is trial 71 with value: 130.86829733848572.\u001b[0m\n"
          ],
          "name": "stderr"
        },
        {
          "output_type": "stream",
          "text": [
            "[07:19:14] WARNING: /workspace/src/objective/regression_obj.cu:152: reg:linear is now deprecated in favor of reg:squarederror.\n"
          ],
          "name": "stdout"
        },
        {
          "output_type": "stream",
          "text": [
            "\u001b[32m[I 2021-07-18 07:19:15,132]\u001b[0m Trial 473 finished with value: 140.7071988582611 and parameters: {'alpha': 8.914181048177987, 'lambda': 0.12962803827029912, 'gamma': 3, 'colsample_bytree': 0.5, 'subsample': 0.6, 'learning_rate': 0.08, 'n_estimators': 591, 'max_depth': 7, 'min_child_weight': 10}. Best is trial 71 with value: 130.86829733848572.\u001b[0m\n"
          ],
          "name": "stderr"
        },
        {
          "output_type": "stream",
          "text": [
            "[07:19:15] WARNING: /workspace/src/objective/regression_obj.cu:152: reg:linear is now deprecated in favor of reg:squarederror.\n"
          ],
          "name": "stdout"
        },
        {
          "output_type": "stream",
          "text": [
            "\u001b[32m[I 2021-07-18 07:19:15,745]\u001b[0m Trial 474 finished with value: 138.03715419769287 and parameters: {'alpha': 0.11711112122659378, 'lambda': 0.18077979873611782, 'gamma': 3, 'colsample_bytree': 0.5, 'subsample': 0.6, 'learning_rate': 0.08, 'n_estimators': 584, 'max_depth': 7, 'min_child_weight': 6}. Best is trial 71 with value: 130.86829733848572.\u001b[0m\n"
          ],
          "name": "stderr"
        },
        {
          "output_type": "stream",
          "text": [
            "[07:19:15] WARNING: /workspace/src/objective/regression_obj.cu:152: reg:linear is now deprecated in favor of reg:squarederror.\n"
          ],
          "name": "stdout"
        },
        {
          "output_type": "stream",
          "text": [
            "\u001b[32m[I 2021-07-18 07:19:16,404]\u001b[0m Trial 475 finished with value: 137.52888572216034 and parameters: {'alpha': 0.014224719101494053, 'lambda': 0.06180566838176254, 'gamma': 2, 'colsample_bytree': 0.9, 'subsample': 0.6, 'learning_rate': 0.08, 'n_estimators': 399, 'max_depth': 7, 'min_child_weight': 16}. Best is trial 71 with value: 130.86829733848572.\u001b[0m\n"
          ],
          "name": "stderr"
        },
        {
          "output_type": "stream",
          "text": [
            "[07:19:16] WARNING: /workspace/src/objective/regression_obj.cu:152: reg:linear is now deprecated in favor of reg:squarederror.\n"
          ],
          "name": "stdout"
        },
        {
          "output_type": "stream",
          "text": [
            "\u001b[32m[I 2021-07-18 07:19:17,156]\u001b[0m Trial 476 finished with value: 131.20732218027115 and parameters: {'alpha': 0.011302906092191489, 'lambda': 0.6141080797736654, 'gamma': 3, 'colsample_bytree': 0.5, 'subsample': 0.6, 'learning_rate': 0.08, 'n_estimators': 409, 'max_depth': 7, 'min_child_weight': 1}. Best is trial 71 with value: 130.86829733848572.\u001b[0m\n"
          ],
          "name": "stderr"
        },
        {
          "output_type": "stream",
          "text": [
            "[07:19:17] WARNING: /workspace/src/objective/regression_obj.cu:152: reg:linear is now deprecated in favor of reg:squarederror.\n"
          ],
          "name": "stdout"
        },
        {
          "output_type": "stream",
          "text": [
            "\u001b[32m[I 2021-07-18 07:19:17,749]\u001b[0m Trial 477 finished with value: 140.54630970954895 and parameters: {'alpha': 0.011292578441650828, 'lambda': 0.1117868335365978, 'gamma': 2, 'colsample_bytree': 0.7, 'subsample': 0.6, 'learning_rate': 0.08, 'n_estimators': 407, 'max_depth': 7, 'min_child_weight': 7}. Best is trial 71 with value: 130.86829733848572.\u001b[0m\n"
          ],
          "name": "stderr"
        },
        {
          "output_type": "stream",
          "text": [
            "[07:19:17] WARNING: /workspace/src/objective/regression_obj.cu:152: reg:linear is now deprecated in favor of reg:squarederror.\n"
          ],
          "name": "stdout"
        },
        {
          "output_type": "stream",
          "text": [
            "\u001b[32m[I 2021-07-18 07:19:18,396]\u001b[0m Trial 478 finished with value: 139.38624703884125 and parameters: {'alpha': 0.05983827587498479, 'lambda': 0.9184785680122461, 'gamma': 3, 'colsample_bytree': 0.3, 'subsample': 0.6, 'learning_rate': 0.08, 'n_estimators': 551, 'max_depth': 5, 'min_child_weight': 1}. Best is trial 71 with value: 130.86829733848572.\u001b[0m\n"
          ],
          "name": "stderr"
        },
        {
          "output_type": "stream",
          "text": [
            "[07:19:18] WARNING: /workspace/src/objective/regression_obj.cu:152: reg:linear is now deprecated in favor of reg:squarederror.\n"
          ],
          "name": "stdout"
        },
        {
          "output_type": "stream",
          "text": [
            "\u001b[32m[I 2021-07-18 07:19:19,146]\u001b[0m Trial 479 finished with value: 131.20732218027115 and parameters: {'alpha': 6.531210083941836, 'lambda': 0.43771516262879806, 'gamma': 3, 'colsample_bytree': 0.5, 'subsample': 0.6, 'learning_rate': 0.08, 'n_estimators': 578, 'max_depth': 7, 'min_child_weight': 1}. Best is trial 71 with value: 130.86829733848572.\u001b[0m\n"
          ],
          "name": "stderr"
        },
        {
          "output_type": "stream",
          "text": [
            "[07:19:19] WARNING: /workspace/src/objective/regression_obj.cu:152: reg:linear is now deprecated in favor of reg:squarederror.\n"
          ],
          "name": "stdout"
        },
        {
          "output_type": "stream",
          "text": [
            "\u001b[32m[I 2021-07-18 07:19:19,799]\u001b[0m Trial 480 finished with value: 139.47431242465973 and parameters: {'alpha': 6.463786224904921, 'lambda': 0.3690217201157345, 'gamma': 3, 'colsample_bytree': 0.5, 'subsample': 0.6, 'learning_rate': 0.08, 'n_estimators': 559, 'max_depth': 7, 'min_child_weight': 12}. Best is trial 71 with value: 130.86829733848572.\u001b[0m\n"
          ],
          "name": "stderr"
        },
        {
          "output_type": "stream",
          "text": [
            "[07:19:19] WARNING: /workspace/src/objective/regression_obj.cu:152: reg:linear is now deprecated in favor of reg:squarederror.\n"
          ],
          "name": "stdout"
        },
        {
          "output_type": "stream",
          "text": [
            "\u001b[32m[I 2021-07-18 07:19:20,345]\u001b[0m Trial 481 finished with value: 144.94224989414215 and parameters: {'alpha': 0.09382842738538283, 'lambda': 0.15061999029957446, 'gamma': 3, 'colsample_bytree': 0.5, 'subsample': 0.6, 'learning_rate': 0.08, 'n_estimators': 541, 'max_depth': 3, 'min_child_weight': 7}. Best is trial 71 with value: 130.86829733848572.\u001b[0m\n"
          ],
          "name": "stderr"
        },
        {
          "output_type": "stream",
          "text": [
            "[07:19:20] WARNING: /workspace/src/objective/regression_obj.cu:152: reg:linear is now deprecated in favor of reg:squarederror.\n"
          ],
          "name": "stdout"
        },
        {
          "output_type": "stream",
          "text": [
            "\u001b[32m[I 2021-07-18 07:19:21,097]\u001b[0m Trial 482 finished with value: 131.20732218027115 and parameters: {'alpha': 0.37173997940184084, 'lambda': 0.28909040236603345, 'gamma': 3, 'colsample_bytree': 0.5, 'subsample': 0.6, 'learning_rate': 0.08, 'n_estimators': 554, 'max_depth': 7, 'min_child_weight': 1}. Best is trial 71 with value: 130.86829733848572.\u001b[0m\n"
          ],
          "name": "stderr"
        },
        {
          "output_type": "stream",
          "text": [
            "[07:19:21] WARNING: /workspace/src/objective/regression_obj.cu:152: reg:linear is now deprecated in favor of reg:squarederror.\n"
          ],
          "name": "stdout"
        },
        {
          "output_type": "stream",
          "text": [
            "\u001b[32m[I 2021-07-18 07:19:21,771]\u001b[0m Trial 483 finished with value: 140.90326464176178 and parameters: {'alpha': 0.012724624379319956, 'lambda': 0.4593911799684731, 'gamma': 1, 'colsample_bytree': 0.5, 'subsample': 0.6, 'learning_rate': 0.08, 'n_estimators': 414, 'max_depth': 11, 'min_child_weight': 15}. Best is trial 71 with value: 130.86829733848572.\u001b[0m\n"
          ],
          "name": "stderr"
        },
        {
          "output_type": "stream",
          "text": [
            "[07:19:21] WARNING: /workspace/src/objective/regression_obj.cu:152: reg:linear is now deprecated in favor of reg:squarederror.\n"
          ],
          "name": "stdout"
        },
        {
          "output_type": "stream",
          "text": [
            "\u001b[32m[I 2021-07-18 07:19:22,388]\u001b[0m Trial 484 finished with value: 142.32814991474152 and parameters: {'alpha': 9.256592526772012, 'lambda': 0.28484406304982485, 'gamma': 3, 'colsample_bytree': 0.5, 'subsample': 0.6, 'learning_rate': 0.08, 'n_estimators': 576, 'max_depth': 7, 'min_child_weight': 7}. Best is trial 71 with value: 130.86829733848572.\u001b[0m\n"
          ],
          "name": "stderr"
        },
        {
          "output_type": "stream",
          "text": [
            "[07:19:22] WARNING: /workspace/src/objective/regression_obj.cu:152: reg:linear is now deprecated in favor of reg:squarederror.\n"
          ],
          "name": "stdout"
        },
        {
          "output_type": "stream",
          "text": [
            "\u001b[32m[I 2021-07-18 07:19:23,415]\u001b[0m Trial 485 finished with value: 143.42278587818146 and parameters: {'alpha': 0.14453300173221037, 'lambda': 0.2205850099395736, 'gamma': 3, 'colsample_bytree': 0.5, 'subsample': 0.6, 'learning_rate': 0.08, 'n_estimators': 572, 'max_depth': 13, 'min_child_weight': 43}. Best is trial 71 with value: 130.86829733848572.\u001b[0m\n"
          ],
          "name": "stderr"
        },
        {
          "output_type": "stream",
          "text": [
            "[07:19:23] WARNING: /workspace/src/objective/regression_obj.cu:152: reg:linear is now deprecated in favor of reg:squarederror.\n"
          ],
          "name": "stdout"
        },
        {
          "output_type": "stream",
          "text": [
            "\u001b[32m[I 2021-07-18 07:19:24,012]\u001b[0m Trial 486 finished with value: 138.03715419769287 and parameters: {'alpha': 0.28676872440784934, 'lambda': 0.1925869544031482, 'gamma': 3, 'colsample_bytree': 0.5, 'subsample': 0.6, 'learning_rate': 0.08, 'n_estimators': 360, 'max_depth': 7, 'min_child_weight': 6}. Best is trial 71 with value: 130.86829733848572.\u001b[0m\n"
          ],
          "name": "stderr"
        },
        {
          "output_type": "stream",
          "text": [
            "[07:19:24] WARNING: /workspace/src/objective/regression_obj.cu:152: reg:linear is now deprecated in favor of reg:squarederror.\n"
          ],
          "name": "stdout"
        },
        {
          "output_type": "stream",
          "text": [
            "\u001b[32m[I 2021-07-18 07:19:24,783]\u001b[0m Trial 487 finished with value: 143.59304684400558 and parameters: {'alpha': 4.625662960728118, 'lambda': 0.08683875856414833, 'gamma': 3, 'colsample_bytree': 0.5, 'subsample': 0.4, 'learning_rate': 0.08, 'n_estimators': 532, 'max_depth': 7, 'min_child_weight': 1}. Best is trial 71 with value: 130.86829733848572.\u001b[0m\n"
          ],
          "name": "stderr"
        },
        {
          "output_type": "stream",
          "text": [
            "[07:19:24] WARNING: /workspace/src/objective/regression_obj.cu:152: reg:linear is now deprecated in favor of reg:squarederror.\n"
          ],
          "name": "stdout"
        },
        {
          "output_type": "stream",
          "text": [
            "\u001b[32m[I 2021-07-18 07:19:25,539]\u001b[0m Trial 488 finished with value: 143.09011554718018 and parameters: {'alpha': 7.482182355406747, 'lambda': 0.30589557749885576, 'gamma': 3, 'colsample_bytree': 0.8, 'subsample': 0.6, 'learning_rate': 0.06, 'n_estimators': 586, 'max_depth': 7, 'min_child_weight': 1}. Best is trial 71 with value: 130.86829733848572.\u001b[0m\n"
          ],
          "name": "stderr"
        },
        {
          "output_type": "stream",
          "text": [
            "[07:19:25] WARNING: /workspace/src/objective/regression_obj.cu:152: reg:linear is now deprecated in favor of reg:squarederror.\n"
          ],
          "name": "stdout"
        },
        {
          "output_type": "stream",
          "text": [
            "\u001b[32m[I 2021-07-18 07:19:27,915]\u001b[0m Trial 489 finished with value: 141.95194017887115 and parameters: {'alpha': 0.5253888633747246, 'lambda': 0.2568950154845858, 'gamma': 3, 'colsample_bytree': 0.5, 'subsample': 0.6, 'learning_rate': 0.08, 'n_estimators': 561, 'max_depth': 20, 'min_child_weight': 22}. Best is trial 71 with value: 130.86829733848572.\u001b[0m\n"
          ],
          "name": "stderr"
        },
        {
          "output_type": "stream",
          "text": [
            "[07:19:27] WARNING: /workspace/src/objective/regression_obj.cu:152: reg:linear is now deprecated in favor of reg:squarederror.\n"
          ],
          "name": "stdout"
        },
        {
          "output_type": "stream",
          "text": [
            "\u001b[32m[I 2021-07-18 07:19:28,723]\u001b[0m Trial 490 finished with value: 137.8226226568222 and parameters: {'alpha': 5.291021450800545, 'lambda': 0.061906987902628365, 'gamma': 3, 'colsample_bytree': 0.5, 'subsample': 0.8, 'learning_rate': 0.08, 'n_estimators': 597, 'max_depth': 7, 'min_child_weight': 1}. Best is trial 71 with value: 130.86829733848572.\u001b[0m\n"
          ],
          "name": "stderr"
        },
        {
          "output_type": "stream",
          "text": [
            "[07:19:28] WARNING: /workspace/src/objective/regression_obj.cu:152: reg:linear is now deprecated in favor of reg:squarederror.\n"
          ],
          "name": "stdout"
        },
        {
          "output_type": "stream",
          "text": [
            "\u001b[32m[I 2021-07-18 07:19:29,932]\u001b[0m Trial 491 finished with value: 139.37191534042358 and parameters: {'alpha': 0.6133203197818271, 'lambda': 0.14878872629690687, 'gamma': 3, 'colsample_bytree': 0.5, 'subsample': 0.7, 'learning_rate': 0.08, 'n_estimators': 567, 'max_depth': 7, 'min_child_weight': 120}. Best is trial 71 with value: 130.86829733848572.\u001b[0m\n"
          ],
          "name": "stderr"
        },
        {
          "output_type": "stream",
          "text": [
            "[07:19:29] WARNING: /workspace/src/objective/regression_obj.cu:152: reg:linear is now deprecated in favor of reg:squarederror.\n"
          ],
          "name": "stdout"
        },
        {
          "output_type": "stream",
          "text": [
            "\u001b[32m[I 2021-07-18 07:19:30,691]\u001b[0m Trial 492 finished with value: 141.49093103408813 and parameters: {'alpha': 9.673259800140805, 'lambda': 2.0318395226856945, 'gamma': 3, 'colsample_bytree': 0.4, 'subsample': 1.0, 'learning_rate': 0.08, 'n_estimators': 574, 'max_depth': 17, 'min_child_weight': 12}. Best is trial 71 with value: 130.86829733848572.\u001b[0m\n"
          ],
          "name": "stderr"
        },
        {
          "output_type": "stream",
          "text": [
            "[07:19:30] WARNING: /workspace/src/objective/regression_obj.cu:152: reg:linear is now deprecated in favor of reg:squarederror.\n"
          ],
          "name": "stdout"
        },
        {
          "output_type": "stream",
          "text": [
            "\u001b[32m[I 2021-07-18 07:19:31,317]\u001b[0m Trial 493 finished with value: 140.7071988582611 and parameters: {'alpha': 0.016430338519318684, 'lambda': 0.07702453482692331, 'gamma': 2, 'colsample_bytree': 0.5, 'subsample': 0.6, 'learning_rate': 0.08, 'n_estimators': 418, 'max_depth': 7, 'min_child_weight': 10}. Best is trial 71 with value: 130.86829733848572.\u001b[0m\n"
          ],
          "name": "stderr"
        },
        {
          "output_type": "stream",
          "text": [
            "[07:19:31] WARNING: /workspace/src/objective/regression_obj.cu:152: reg:linear is now deprecated in favor of reg:squarederror.\n"
          ],
          "name": "stdout"
        },
        {
          "output_type": "stream",
          "text": [
            "\u001b[32m[I 2021-07-18 07:19:32,057]\u001b[0m Trial 494 finished with value: 131.20732218027115 and parameters: {'alpha': 6.109035341085102, 'lambda': 0.38635501212776197, 'gamma': 3, 'colsample_bytree': 0.5, 'subsample': 0.6, 'learning_rate': 0.08, 'n_estimators': 234, 'max_depth': 7, 'min_child_weight': 1}. Best is trial 71 with value: 130.86829733848572.\u001b[0m\n"
          ],
          "name": "stderr"
        },
        {
          "output_type": "stream",
          "text": [
            "[07:19:32] WARNING: /workspace/src/objective/regression_obj.cu:152: reg:linear is now deprecated in favor of reg:squarederror.\n"
          ],
          "name": "stdout"
        },
        {
          "output_type": "stream",
          "text": [
            "\u001b[32m[I 2021-07-18 07:19:32,777]\u001b[0m Trial 495 finished with value: 152.59489285945892 and parameters: {'alpha': 0.01772006658401903, 'lambda': 0.12586287078784741, 'gamma': 2, 'colsample_bytree': 0.5, 'subsample': 0.6, 'learning_rate': 0.01, 'n_estimators': 194, 'max_depth': 5, 'min_child_weight': 17}. Best is trial 71 with value: 130.86829733848572.\u001b[0m\n"
          ],
          "name": "stderr"
        },
        {
          "output_type": "stream",
          "text": [
            "[07:19:32] WARNING: /workspace/src/objective/regression_obj.cu:152: reg:linear is now deprecated in favor of reg:squarederror.\n"
          ],
          "name": "stdout"
        },
        {
          "output_type": "stream",
          "text": [
            "\u001b[32m[I 2021-07-18 07:19:33,808]\u001b[0m Trial 496 finished with value: 140.88566327095032 and parameters: {'alpha': 0.011199536324550074, 'lambda': 0.72570396252383, 'gamma': 3, 'colsample_bytree': 0.5, 'subsample': 0.6, 'learning_rate': 0.02, 'n_estimators': 378, 'max_depth': 7, 'min_child_weight': 6}. Best is trial 71 with value: 130.86829733848572.\u001b[0m\n"
          ],
          "name": "stderr"
        },
        {
          "output_type": "stream",
          "text": [
            "[07:19:33] WARNING: /workspace/src/objective/regression_obj.cu:152: reg:linear is now deprecated in favor of reg:squarederror.\n"
          ],
          "name": "stdout"
        },
        {
          "output_type": "stream",
          "text": [
            "\u001b[32m[I 2021-07-18 07:19:34,548]\u001b[0m Trial 497 finished with value: 131.20732218027115 and parameters: {'alpha': 0.131656887125136, 'lambda': 0.08993010543804442, 'gamma': 3, 'colsample_bytree': 0.5, 'subsample': 0.6, 'learning_rate': 0.08, 'n_estimators': 600, 'max_depth': 7, 'min_child_weight': 1}. Best is trial 71 with value: 130.86829733848572.\u001b[0m\n"
          ],
          "name": "stderr"
        },
        {
          "output_type": "stream",
          "text": [
            "[07:19:34] WARNING: /workspace/src/objective/regression_obj.cu:152: reg:linear is now deprecated in favor of reg:squarederror.\n"
          ],
          "name": "stdout"
        },
        {
          "output_type": "stream",
          "text": [
            "\u001b[32m[I 2021-07-18 07:19:35,162]\u001b[0m Trial 498 finished with value: 142.32814991474152 and parameters: {'alpha': 0.13073899173740802, 'lambda': 0.09349142475308483, 'gamma': 3, 'colsample_bytree': 0.5, 'subsample': 0.6, 'learning_rate': 0.08, 'n_estimators': 543, 'max_depth': 7, 'min_child_weight': 7}. Best is trial 71 with value: 130.86829733848572.\u001b[0m\n"
          ],
          "name": "stderr"
        },
        {
          "output_type": "stream",
          "text": [
            "[07:19:35] WARNING: /workspace/src/objective/regression_obj.cu:152: reg:linear is now deprecated in favor of reg:squarederror.\n"
          ],
          "name": "stdout"
        },
        {
          "output_type": "stream",
          "text": [
            "\u001b[32m[I 2021-07-18 07:19:35,904]\u001b[0m Trial 499 finished with value: 131.20732218027115 and parameters: {'alpha': 0.3333953426561449, 'lambda': 1.117133494932189, 'gamma': 3, 'colsample_bytree': 0.5, 'subsample': 0.6, 'learning_rate': 0.08, 'n_estimators': 600, 'max_depth': 7, 'min_child_weight': 1}. Best is trial 71 with value: 130.86829733848572.\u001b[0m\n"
          ],
          "name": "stderr"
        },
        {
          "output_type": "stream",
          "text": [
            "[07:19:35] WARNING: /workspace/src/objective/regression_obj.cu:152: reg:linear is now deprecated in favor of reg:squarederror.\n"
          ],
          "name": "stdout"
        },
        {
          "output_type": "stream",
          "text": [
            "\u001b[32m[I 2021-07-18 07:19:37,022]\u001b[0m Trial 500 finished with value: 131.47589772939682 and parameters: {'alpha': 0.3586360790750457, 'lambda': 1.4686000793824534, 'gamma': 3, 'colsample_bytree': 0.5, 'subsample': 0.6, 'learning_rate': 0.08, 'n_estimators': 583, 'max_depth': 11, 'min_child_weight': 1}. Best is trial 71 with value: 130.86829733848572.\u001b[0m\n"
          ],
          "name": "stderr"
        },
        {
          "output_type": "stream",
          "text": [
            "[07:19:37] WARNING: /workspace/src/objective/regression_obj.cu:152: reg:linear is now deprecated in favor of reg:squarederror.\n"
          ],
          "name": "stdout"
        },
        {
          "output_type": "stream",
          "text": [
            "\u001b[32m[I 2021-07-18 07:19:37,645]\u001b[0m Trial 501 finished with value: 134.82885539531708 and parameters: {'alpha': 0.2287338535429078, 'lambda': 0.07116692061921827, 'gamma': 2, 'colsample_bytree': 0.9, 'subsample': 0.6, 'learning_rate': 0.08, 'n_estimators': 421, 'max_depth': 7, 'min_child_weight': 12}. Best is trial 71 with value: 130.86829733848572.\u001b[0m\n"
          ],
          "name": "stderr"
        },
        {
          "output_type": "stream",
          "text": [
            "[07:19:37] WARNING: /workspace/src/objective/regression_obj.cu:152: reg:linear is now deprecated in favor of reg:squarederror.\n"
          ],
          "name": "stdout"
        },
        {
          "output_type": "stream",
          "text": [
            "\u001b[32m[I 2021-07-18 07:19:38,599]\u001b[0m Trial 502 finished with value: 142.6653618812561 and parameters: {'alpha': 1.5077409247065217, 'lambda': 0.11402872564590051, 'gamma': 2, 'colsample_bytree': 0.5, 'subsample': 0.6, 'learning_rate': 0.08, 'n_estimators': 391, 'max_depth': 15, 'min_child_weight': 28}. Best is trial 71 with value: 130.86829733848572.\u001b[0m\n"
          ],
          "name": "stderr"
        },
        {
          "output_type": "stream",
          "text": [
            "[07:19:38] WARNING: /workspace/src/objective/regression_obj.cu:152: reg:linear is now deprecated in favor of reg:squarederror.\n"
          ],
          "name": "stdout"
        },
        {
          "output_type": "stream",
          "text": [
            "\u001b[32m[I 2021-07-18 07:19:39,199]\u001b[0m Trial 503 finished with value: 138.03715419769287 and parameters: {'alpha': 0.30337130476888136, 'lambda': 4.110578443411752, 'gamma': 3, 'colsample_bytree': 0.5, 'subsample': 0.6, 'learning_rate': 0.08, 'n_estimators': 571, 'max_depth': 7, 'min_child_weight': 6}. Best is trial 71 with value: 130.86829733848572.\u001b[0m\n"
          ],
          "name": "stderr"
        },
        {
          "output_type": "stream",
          "text": [
            "[07:19:39] WARNING: /workspace/src/objective/regression_obj.cu:152: reg:linear is now deprecated in favor of reg:squarederror.\n"
          ],
          "name": "stdout"
        },
        {
          "output_type": "stream",
          "text": [
            "\u001b[32m[I 2021-07-18 07:19:39,882]\u001b[0m Trial 504 finished with value: 141.19365894794464 and parameters: {'alpha': 0.7258747026265163, 'lambda': 0.24233548693161214, 'gamma': 3, 'colsample_bytree': 0.5, 'subsample': 0.6, 'learning_rate': 0.08, 'n_estimators': 342, 'max_depth': 7, 'min_child_weight': 15}. Best is trial 71 with value: 130.86829733848572.\u001b[0m\n"
          ],
          "name": "stderr"
        },
        {
          "output_type": "stream",
          "text": [
            "[07:19:39] WARNING: /workspace/src/objective/regression_obj.cu:152: reg:linear is now deprecated in favor of reg:squarederror.\n"
          ],
          "name": "stdout"
        },
        {
          "output_type": "stream",
          "text": [
            "\u001b[32m[I 2021-07-18 07:19:40,606]\u001b[0m Trial 505 finished with value: 148.68096351623535 and parameters: {'alpha': 0.08075825618600138, 'lambda': 9.394469448432723, 'gamma': 3, 'colsample_bytree': 1.0, 'subsample': 0.6, 'learning_rate': 0.08, 'n_estimators': 586, 'max_depth': 7, 'min_child_weight': 1}. Best is trial 71 with value: 130.86829733848572.\u001b[0m\n"
          ],
          "name": "stderr"
        },
        {
          "output_type": "stream",
          "text": [
            "[07:19:40] WARNING: /workspace/src/objective/regression_obj.cu:152: reg:linear is now deprecated in favor of reg:squarederror.\n"
          ],
          "name": "stdout"
        },
        {
          "output_type": "stream",
          "text": [
            "\u001b[32m[I 2021-07-18 07:19:41,226]\u001b[0m Trial 506 finished with value: 140.7071988582611 and parameters: {'alpha': 0.010103693552874977, 'lambda': 0.5214515225979057, 'gamma': 3, 'colsample_bytree': 0.5, 'subsample': 0.6, 'learning_rate': 0.08, 'n_estimators': 406, 'max_depth': 7, 'min_child_weight': 10}. Best is trial 71 with value: 130.86829733848572.\u001b[0m\n"
          ],
          "name": "stderr"
        },
        {
          "output_type": "stream",
          "text": [
            "[07:19:41] WARNING: /workspace/src/objective/regression_obj.cu:152: reg:linear is now deprecated in favor of reg:squarederror.\n"
          ],
          "name": "stdout"
        },
        {
          "output_type": "stream",
          "text": [
            "\u001b[32m[I 2021-07-18 07:19:41,822]\u001b[0m Trial 507 finished with value: 138.03715419769287 and parameters: {'alpha': 0.16726404237877263, 'lambda': 0.16608481879135148, 'gamma': 3, 'colsample_bytree': 0.5, 'subsample': 0.6, 'learning_rate': 0.08, 'n_estimators': 587, 'max_depth': 7, 'min_child_weight': 6}. Best is trial 71 with value: 130.86829733848572.\u001b[0m\n"
          ],
          "name": "stderr"
        },
        {
          "output_type": "stream",
          "text": [
            "[07:19:41] WARNING: /workspace/src/objective/regression_obj.cu:152: reg:linear is now deprecated in favor of reg:squarederror.\n"
          ],
          "name": "stdout"
        },
        {
          "output_type": "stream",
          "text": [
            "\u001b[32m[I 2021-07-18 07:19:42,606]\u001b[0m Trial 508 finished with value: 140.8213939666748 and parameters: {'alpha': 0.19668279574935935, 'lambda': 0.05286584893928536, 'gamma': 3, 'colsample_bytree': 0.5, 'subsample': 0.6, 'learning_rate': 0.08, 'n_estimators': 563, 'max_depth': 7, 'min_child_weight': 19}. Best is trial 71 with value: 130.86829733848572.\u001b[0m\n"
          ],
          "name": "stderr"
        },
        {
          "output_type": "stream",
          "text": [
            "[07:19:42] WARNING: /workspace/src/objective/regression_obj.cu:152: reg:linear is now deprecated in favor of reg:squarederror.\n"
          ],
          "name": "stdout"
        },
        {
          "output_type": "stream",
          "text": [
            "\u001b[32m[I 2021-07-18 07:19:43,347]\u001b[0m Trial 509 finished with value: 131.20732218027115 and parameters: {'alpha': 0.4735876710635354, 'lambda': 4.992455787112737, 'gamma': 3, 'colsample_bytree': 0.5, 'subsample': 0.6, 'learning_rate': 0.08, 'n_estimators': 575, 'max_depth': 7, 'min_child_weight': 1}. Best is trial 71 with value: 130.86829733848572.\u001b[0m\n"
          ],
          "name": "stderr"
        },
        {
          "output_type": "stream",
          "text": [
            "[07:19:43] WARNING: /workspace/src/objective/regression_obj.cu:152: reg:linear is now deprecated in favor of reg:squarederror.\n"
          ],
          "name": "stdout"
        },
        {
          "output_type": "stream",
          "text": [
            "\u001b[32m[I 2021-07-18 07:19:43,962]\u001b[0m Trial 510 finished with value: 141.4988694190979 and parameters: {'alpha': 0.1920089092897542, 'lambda': 0.1349886836297071, 'gamma': 2, 'colsample_bytree': 0.7, 'subsample': 0.6, 'learning_rate': 0.08, 'n_estimators': 540, 'max_depth': 7, 'min_child_weight': 11}. Best is trial 71 with value: 130.86829733848572.\u001b[0m\n"
          ],
          "name": "stderr"
        },
        {
          "output_type": "stream",
          "text": [
            "[07:19:44] WARNING: /workspace/src/objective/regression_obj.cu:152: reg:linear is now deprecated in favor of reg:squarederror.\n"
          ],
          "name": "stdout"
        },
        {
          "output_type": "stream",
          "text": [
            "\u001b[32m[I 2021-07-18 07:19:44,549]\u001b[0m Trial 511 finished with value: 134.38551890850067 and parameters: {'alpha': 0.42364553836081253, 'lambda': 5.727768968652326, 'gamma': 3, 'colsample_bytree': 0.5, 'subsample': 0.6, 'learning_rate': 0.08, 'n_estimators': 571, 'max_depth': 5, 'min_child_weight': 1}. Best is trial 71 with value: 130.86829733848572.\u001b[0m\n"
          ],
          "name": "stderr"
        },
        {
          "output_type": "stream",
          "text": [
            "[07:19:44] WARNING: /workspace/src/objective/regression_obj.cu:152: reg:linear is now deprecated in favor of reg:squarederror.\n"
          ],
          "name": "stdout"
        },
        {
          "output_type": "stream",
          "text": [
            "\u001b[32m[I 2021-07-18 07:19:45,194]\u001b[0m Trial 512 finished with value: 144.4270976781845 and parameters: {'alpha': 0.1514089285169987, 'lambda': 0.13067155663701133, 'gamma': 3, 'colsample_bytree': 0.3, 'subsample': 0.6, 'learning_rate': 0.08, 'n_estimators': 551, 'max_depth': 7, 'min_child_weight': 6}. Best is trial 71 with value: 130.86829733848572.\u001b[0m\n"
          ],
          "name": "stderr"
        },
        {
          "output_type": "stream",
          "text": [
            "[07:19:45] WARNING: /workspace/src/objective/regression_obj.cu:152: reg:linear is now deprecated in favor of reg:squarederror.\n"
          ],
          "name": "stdout"
        },
        {
          "output_type": "stream",
          "text": [
            "\u001b[32m[I 2021-07-18 07:19:45,804]\u001b[0m Trial 513 finished with value: 142.32814991474152 and parameters: {'alpha': 0.3896457000994941, 'lambda': 0.6209910896259768, 'gamma': 3, 'colsample_bytree': 0.5, 'subsample': 0.6, 'learning_rate': 0.08, 'n_estimators': 312, 'max_depth': 7, 'min_child_weight': 7}. Best is trial 71 with value: 130.86829733848572.\u001b[0m\n"
          ],
          "name": "stderr"
        },
        {
          "output_type": "stream",
          "text": [
            "[07:19:45] WARNING: /workspace/src/objective/regression_obj.cu:152: reg:linear is now deprecated in favor of reg:squarederror.\n"
          ],
          "name": "stdout"
        },
        {
          "output_type": "stream",
          "text": [
            "\u001b[32m[I 2021-07-18 07:19:46,545]\u001b[0m Trial 514 finished with value: 131.20732218027115 and parameters: {'alpha': 0.35197165453950735, 'lambda': 0.8271138658040322, 'gamma': 3, 'colsample_bytree': 0.5, 'subsample': 0.6, 'learning_rate': 0.08, 'n_estimators': 581, 'max_depth': 7, 'min_child_weight': 1}. Best is trial 71 with value: 130.86829733848572.\u001b[0m\n"
          ],
          "name": "stderr"
        },
        {
          "output_type": "stream",
          "text": [
            "[07:19:46] WARNING: /workspace/src/objective/regression_obj.cu:152: reg:linear is now deprecated in favor of reg:squarederror.\n"
          ],
          "name": "stdout"
        },
        {
          "output_type": "stream",
          "text": [
            "\u001b[32m[I 2021-07-18 07:19:47,225]\u001b[0m Trial 515 finished with value: 140.90326464176178 and parameters: {'alpha': 2.009713814797725, 'lambda': 0.17079023606145108, 'gamma': 3, 'colsample_bytree': 0.5, 'subsample': 0.6, 'learning_rate': 0.08, 'n_estimators': 527, 'max_depth': 11, 'min_child_weight': 15}. Best is trial 71 with value: 130.86829733848572.\u001b[0m\n"
          ],
          "name": "stderr"
        },
        {
          "output_type": "stream",
          "text": [
            "[07:19:47] WARNING: /workspace/src/objective/regression_obj.cu:152: reg:linear is now deprecated in favor of reg:squarederror.\n"
          ],
          "name": "stdout"
        },
        {
          "output_type": "stream",
          "text": [
            "\u001b[32m[I 2021-07-18 07:19:48,058]\u001b[0m Trial 516 finished with value: 133.57729756832123 and parameters: {'alpha': 0.2626512519293711, 'lambda': 2.3307301572350174, 'gamma': 3, 'colsample_bytree': 0.6, 'subsample': 0.6, 'learning_rate': 0.06, 'n_estimators': 274, 'max_depth': 7, 'min_child_weight': 1}. Best is trial 71 with value: 130.86829733848572.\u001b[0m\n"
          ],
          "name": "stderr"
        },
        {
          "output_type": "stream",
          "text": [
            "[07:19:48] WARNING: /workspace/src/objective/regression_obj.cu:152: reg:linear is now deprecated in favor of reg:squarederror.\n"
          ],
          "name": "stdout"
        },
        {
          "output_type": "stream",
          "text": [
            "\u001b[32m[I 2021-07-18 07:19:48,617]\u001b[0m Trial 517 finished with value: 144.03260242938995 and parameters: {'alpha': 0.16979493282029504, 'lambda': 0.07180982590481219, 'gamma': 2, 'colsample_bytree': 0.5, 'subsample': 0.6, 'learning_rate': 0.08, 'n_estimators': 522, 'max_depth': 3, 'min_child_weight': 11}. Best is trial 71 with value: 130.86829733848572.\u001b[0m\n"
          ],
          "name": "stderr"
        },
        {
          "output_type": "stream",
          "text": [
            "[07:19:48] WARNING: /workspace/src/objective/regression_obj.cu:152: reg:linear is now deprecated in favor of reg:squarederror.\n"
          ],
          "name": "stdout"
        },
        {
          "output_type": "stream",
          "text": [
            "\u001b[32m[I 2021-07-18 07:19:49,876]\u001b[0m Trial 518 finished with value: 140.16626089811325 and parameters: {'alpha': 0.3826137821054615, 'lambda': 0.41205741551136266, 'gamma': 3, 'colsample_bytree': 0.5, 'subsample': 0.6, 'learning_rate': 0.02, 'n_estimators': 561, 'max_depth': 7, 'min_child_weight': 1}. Best is trial 71 with value: 130.86829733848572.\u001b[0m\n"
          ],
          "name": "stderr"
        },
        {
          "output_type": "stream",
          "text": [
            "[07:19:49] WARNING: /workspace/src/objective/regression_obj.cu:152: reg:linear is now deprecated in favor of reg:squarederror.\n"
          ],
          "name": "stdout"
        },
        {
          "output_type": "stream",
          "text": [
            "\u001b[32m[I 2021-07-18 07:19:50,317]\u001b[0m Trial 519 finished with value: 283.5330505371094 and parameters: {'alpha': 0.2657783990094303, 'lambda': 0.26645390160474386, 'gamma': 3, 'colsample_bytree': 0.5, 'subsample': 0.4, 'learning_rate': 0.08, 'n_estimators': 552, 'max_depth': 7, 'min_child_weight': 192}. Best is trial 71 with value: 130.86829733848572.\u001b[0m\n"
          ],
          "name": "stderr"
        },
        {
          "output_type": "stream",
          "text": [
            "[07:19:50] WARNING: /workspace/src/objective/regression_obj.cu:152: reg:linear is now deprecated in favor of reg:squarederror.\n"
          ],
          "name": "stdout"
        },
        {
          "output_type": "stream",
          "text": [
            "\u001b[32m[I 2021-07-18 07:19:50,946]\u001b[0m Trial 520 finished with value: 141.98065328598022 and parameters: {'alpha': 0.4569611707146988, 'lambda': 0.21639810005561572, 'gamma': 3, 'colsample_bytree': 0.5, 'subsample': 0.8, 'learning_rate': 0.08, 'n_estimators': 549, 'max_depth': 7, 'min_child_weight': 21}. Best is trial 71 with value: 130.86829733848572.\u001b[0m\n"
          ],
          "name": "stderr"
        },
        {
          "output_type": "stream",
          "text": [
            "[07:19:50] WARNING: /workspace/src/objective/regression_obj.cu:152: reg:linear is now deprecated in favor of reg:squarederror.\n"
          ],
          "name": "stdout"
        },
        {
          "output_type": "stream",
          "text": [
            "\u001b[32m[I 2021-07-18 07:19:51,556]\u001b[0m Trial 521 finished with value: 138.03715419769287 and parameters: {'alpha': 0.28645335460654825, 'lambda': 0.3196203092177517, 'gamma': 3, 'colsample_bytree': 0.5, 'subsample': 0.6, 'learning_rate': 0.08, 'n_estimators': 567, 'max_depth': 7, 'min_child_weight': 6}. Best is trial 71 with value: 130.86829733848572.\u001b[0m\n"
          ],
          "name": "stderr"
        },
        {
          "output_type": "stream",
          "text": [
            "[07:19:51] WARNING: /workspace/src/objective/regression_obj.cu:152: reg:linear is now deprecated in favor of reg:squarederror.\n"
          ],
          "name": "stdout"
        },
        {
          "output_type": "stream",
          "text": [
            "\u001b[32m[I 2021-07-18 07:19:55,267]\u001b[0m Trial 522 finished with value: 140.68167316913605 and parameters: {'alpha': 7.643653767664783, 'lambda': 0.21256826275881538, 'gamma': 3, 'colsample_bytree': 0.4, 'subsample': 1.0, 'learning_rate': 0.01, 'n_estimators': 557, 'max_depth': 13, 'min_child_weight': 1}. Best is trial 71 with value: 130.86829733848572.\u001b[0m\n"
          ],
          "name": "stderr"
        },
        {
          "output_type": "stream",
          "text": [
            "[07:19:55] WARNING: /workspace/src/objective/regression_obj.cu:152: reg:linear is now deprecated in favor of reg:squarederror.\n"
          ],
          "name": "stdout"
        },
        {
          "output_type": "stream",
          "text": [
            "\u001b[32m[I 2021-07-18 07:19:55,883]\u001b[0m Trial 523 finished with value: 138.8196326494217 and parameters: {'alpha': 0.02086590189930874, 'lambda': 0.6503289815792392, 'gamma': 2, 'colsample_bytree': 0.8, 'subsample': 0.7, 'learning_rate': 0.08, 'n_estimators': 164, 'max_depth': 7, 'min_child_weight': 12}. Best is trial 71 with value: 130.86829733848572.\u001b[0m\n"
          ],
          "name": "stderr"
        },
        {
          "output_type": "stream",
          "text": [
            "[07:19:55] WARNING: /workspace/src/objective/regression_obj.cu:152: reg:linear is now deprecated in favor of reg:squarederror.\n"
          ],
          "name": "stdout"
        },
        {
          "output_type": "stream",
          "text": [
            "\u001b[32m[I 2021-07-18 07:19:57,617]\u001b[0m Trial 524 finished with value: 137.64922213554382 and parameters: {'alpha': 5.0808190008556116, 'lambda': 0.05682062221595316, 'gamma': 3, 'colsample_bytree': 0.5, 'subsample': 0.6, 'learning_rate': 0.08, 'n_estimators': 596, 'max_depth': 20, 'min_child_weight': 6}. Best is trial 71 with value: 130.86829733848572.\u001b[0m\n"
          ],
          "name": "stderr"
        },
        {
          "output_type": "stream",
          "text": [
            "[07:19:57] WARNING: /workspace/src/objective/regression_obj.cu:152: reg:linear is now deprecated in favor of reg:squarederror.\n"
          ],
          "name": "stdout"
        },
        {
          "output_type": "stream",
          "text": [
            "\u001b[32m[I 2021-07-18 07:19:59,142]\u001b[0m Trial 525 finished with value: 132.7173411846161 and parameters: {'alpha': 0.023613101938484815, 'lambda': 0.35275869951573374, 'gamma': 3, 'colsample_bytree': 0.5, 'subsample': 0.6, 'learning_rate': 0.08, 'n_estimators': 182, 'max_depth': 17, 'min_child_weight': 1}. Best is trial 71 with value: 130.86829733848572.\u001b[0m\n"
          ],
          "name": "stderr"
        },
        {
          "output_type": "stream",
          "text": [
            "[07:19:59] WARNING: /workspace/src/objective/regression_obj.cu:152: reg:linear is now deprecated in favor of reg:squarederror.\n"
          ],
          "name": "stdout"
        },
        {
          "output_type": "stream",
          "text": [
            "\u001b[32m[I 2021-07-18 07:19:59,893]\u001b[0m Trial 526 finished with value: 131.20732218027115 and parameters: {'alpha': 6.571657450989608, 'lambda': 1.174299441260366, 'gamma': 3, 'colsample_bytree': 0.5, 'subsample': 0.6, 'learning_rate': 0.08, 'n_estimators': 239, 'max_depth': 7, 'min_child_weight': 1}. Best is trial 71 with value: 130.86829733848572.\u001b[0m\n"
          ],
          "name": "stderr"
        },
        {
          "output_type": "stream",
          "text": [
            "[07:19:59] WARNING: /workspace/src/objective/regression_obj.cu:152: reg:linear is now deprecated in favor of reg:squarederror.\n"
          ],
          "name": "stdout"
        },
        {
          "output_type": "stream",
          "text": [
            "\u001b[32m[I 2021-07-18 07:20:00,555]\u001b[0m Trial 527 finished with value: 142.66108345985413 and parameters: {'alpha': 0.014292800620661761, 'lambda': 0.10668740675137249, 'gamma': 1, 'colsample_bytree': 0.5, 'subsample': 0.6, 'learning_rate': 0.08, 'n_estimators': 298, 'max_depth': 7, 'min_child_weight': 17}. Best is trial 71 with value: 130.86829733848572.\u001b[0m\n"
          ],
          "name": "stderr"
        },
        {
          "output_type": "stream",
          "text": [
            "[07:20:00] WARNING: /workspace/src/objective/regression_obj.cu:152: reg:linear is now deprecated in favor of reg:squarederror.\n"
          ],
          "name": "stdout"
        },
        {
          "output_type": "stream",
          "text": [
            "\u001b[32m[I 2021-07-18 07:20:01,310]\u001b[0m Trial 528 finished with value: 131.20732218027115 and parameters: {'alpha': 5.0828239382132505, 'lambda': 3.2331140268747838, 'gamma': 3, 'colsample_bytree': 0.5, 'subsample': 0.6, 'learning_rate': 0.08, 'n_estimators': 225, 'max_depth': 7, 'min_child_weight': 1}. Best is trial 71 with value: 130.86829733848572.\u001b[0m\n"
          ],
          "name": "stderr"
        },
        {
          "output_type": "stream",
          "text": [
            "[07:20:01] WARNING: /workspace/src/objective/regression_obj.cu:152: reg:linear is now deprecated in favor of reg:squarederror.\n"
          ],
          "name": "stdout"
        },
        {
          "output_type": "stream",
          "text": [
            "\u001b[32m[I 2021-07-18 07:20:01,899]\u001b[0m Trial 529 finished with value: 141.0805538892746 and parameters: {'alpha': 3.526167536260303, 'lambda': 0.08275033373673925, 'gamma': 1, 'colsample_bytree': 0.5, 'subsample': 0.6, 'learning_rate': 0.08, 'n_estimators': 217, 'max_depth': 5, 'min_child_weight': 10}. Best is trial 71 with value: 130.86829733848572.\u001b[0m\n"
          ],
          "name": "stderr"
        },
        {
          "output_type": "stream",
          "text": [
            "[07:20:01] WARNING: /workspace/src/objective/regression_obj.cu:152: reg:linear is now deprecated in favor of reg:squarederror.\n"
          ],
          "name": "stdout"
        },
        {
          "output_type": "stream",
          "text": [
            "\u001b[32m[I 2021-07-18 07:20:02,501]\u001b[0m Trial 530 finished with value: 140.8248267173767 and parameters: {'alpha': 0.25036698859778683, 'lambda': 0.5668538196240729, 'gamma': 3, 'colsample_bytree': 0.5, 'subsample': 0.5, 'learning_rate': 0.08, 'n_estimators': 551, 'max_depth': 7, 'min_child_weight': 6}. Best is trial 71 with value: 130.86829733848572.\u001b[0m\n"
          ],
          "name": "stderr"
        },
        {
          "output_type": "stream",
          "text": [
            "[07:20:02] WARNING: /workspace/src/objective/regression_obj.cu:152: reg:linear is now deprecated in favor of reg:squarederror.\n"
          ],
          "name": "stdout"
        },
        {
          "output_type": "stream",
          "text": [
            "\u001b[32m[I 2021-07-18 07:20:03,257]\u001b[0m Trial 531 finished with value: 131.20732218027115 and parameters: {'alpha': 6.494616184094477, 'lambda': 0.4672403773920161, 'gamma': 3, 'colsample_bytree': 0.5, 'subsample': 0.6, 'learning_rate': 0.08, 'n_estimators': 597, 'max_depth': 7, 'min_child_weight': 1}. Best is trial 71 with value: 130.86829733848572.\u001b[0m\n"
          ],
          "name": "stderr"
        },
        {
          "output_type": "stream",
          "text": [
            "[07:20:03] WARNING: /workspace/src/objective/regression_obj.cu:152: reg:linear is now deprecated in favor of reg:squarederror.\n"
          ],
          "name": "stdout"
        },
        {
          "output_type": "stream",
          "text": [
            "\u001b[32m[I 2021-07-18 07:20:03,829]\u001b[0m Trial 532 finished with value: 143.1457691192627 and parameters: {'alpha': 0.558784937850256, 'lambda': 4.480384633516851, 'gamma': 3, 'colsample_bytree': 0.6, 'subsample': 0.6, 'learning_rate': 0.08, 'n_estimators': 132, 'max_depth': 7, 'min_child_weight': 11}. Best is trial 71 with value: 130.86829733848572.\u001b[0m\n"
          ],
          "name": "stderr"
        },
        {
          "output_type": "stream",
          "text": [
            "[07:20:03] WARNING: /workspace/src/objective/regression_obj.cu:152: reg:linear is now deprecated in favor of reg:squarederror.\n"
          ],
          "name": "stdout"
        },
        {
          "output_type": "stream",
          "text": [
            "\u001b[32m[I 2021-07-18 07:20:04,272]\u001b[0m Trial 533 finished with value: 283.5330505371094 and parameters: {'alpha': 7.03197064258978, 'lambda': 1.1834994366391365, 'gamma': 3, 'colsample_bytree': 0.5, 'subsample': 0.6, 'learning_rate': 0.08, 'n_estimators': 594, 'max_depth': 7, 'min_child_weight': 266}. Best is trial 71 with value: 130.86829733848572.\u001b[0m\n"
          ],
          "name": "stderr"
        },
        {
          "output_type": "stream",
          "text": [
            "[07:20:04] WARNING: /workspace/src/objective/regression_obj.cu:152: reg:linear is now deprecated in favor of reg:squarederror.\n"
          ],
          "name": "stdout"
        },
        {
          "output_type": "stream",
          "text": [
            "\u001b[32m[I 2021-07-18 07:20:04,962]\u001b[0m Trial 534 finished with value: 142.28713864088058 and parameters: {'alpha': 0.11330563719255073, 'lambda': 3.4317386102068483, 'gamma': 2, 'colsample_bytree': 0.5, 'subsample': 0.6, 'learning_rate': 0.08, 'n_estimators': 152, 'max_depth': 11, 'min_child_weight': 7}. Best is trial 71 with value: 130.86829733848572.\u001b[0m\n"
          ],
          "name": "stderr"
        },
        {
          "output_type": "stream",
          "text": [
            "[07:20:05] WARNING: /workspace/src/objective/regression_obj.cu:152: reg:linear is now deprecated in favor of reg:squarederror.\n"
          ],
          "name": "stdout"
        },
        {
          "output_type": "stream",
          "text": [
            "\u001b[32m[I 2021-07-18 07:20:05,721]\u001b[0m Trial 535 finished with value: 131.20732218027115 and parameters: {'alpha': 6.285209052636125, 'lambda': 0.40906414461261725, 'gamma': 3, 'colsample_bytree': 0.5, 'subsample': 0.6, 'learning_rate': 0.08, 'n_estimators': 599, 'max_depth': 7, 'min_child_weight': 1}. Best is trial 71 with value: 130.86829733848572.\u001b[0m\n"
          ],
          "name": "stderr"
        },
        {
          "output_type": "stream",
          "text": [
            "[07:20:05] WARNING: /workspace/src/objective/regression_obj.cu:152: reg:linear is now deprecated in favor of reg:squarederror.\n"
          ],
          "name": "stdout"
        },
        {
          "output_type": "stream",
          "text": [
            "\u001b[32m[I 2021-07-18 07:20:06,447]\u001b[0m Trial 536 finished with value: 140.90326464176178 and parameters: {'alpha': 0.17957003923849096, 'lambda': 0.1500147287050374, 'gamma': 2, 'colsample_bytree': 0.5, 'subsample': 0.6, 'learning_rate': 0.08, 'n_estimators': 534, 'max_depth': 15, 'min_child_weight': 15}. Best is trial 71 with value: 130.86829733848572.\u001b[0m\n"
          ],
          "name": "stderr"
        },
        {
          "output_type": "stream",
          "text": [
            "[07:20:06] WARNING: /workspace/src/objective/regression_obj.cu:152: reg:linear is now deprecated in favor of reg:squarederror.\n"
          ],
          "name": "stdout"
        },
        {
          "output_type": "stream",
          "text": [
            "\u001b[32m[I 2021-07-18 07:20:07,202]\u001b[0m Trial 537 finished with value: 131.20732218027115 and parameters: {'alpha': 0.33217446092057096, 'lambda': 0.4040676006984831, 'gamma': 3, 'colsample_bytree': 0.5, 'subsample': 0.6, 'learning_rate': 0.08, 'n_estimators': 596, 'max_depth': 7, 'min_child_weight': 1}. Best is trial 71 with value: 130.86829733848572.\u001b[0m\n"
          ],
          "name": "stderr"
        },
        {
          "output_type": "stream",
          "text": [
            "[07:20:07] WARNING: /workspace/src/objective/regression_obj.cu:152: reg:linear is now deprecated in favor of reg:squarederror.\n"
          ],
          "name": "stdout"
        },
        {
          "output_type": "stream",
          "text": [
            "\u001b[32m[I 2021-07-18 07:20:07,956]\u001b[0m Trial 538 finished with value: 131.20732218027115 and parameters: {'alpha': 0.39436016359439635, 'lambda': 0.3401345945146196, 'gamma': 3, 'colsample_bytree': 0.5, 'subsample': 0.6, 'learning_rate': 0.08, 'n_estimators': 579, 'max_depth': 7, 'min_child_weight': 1}. Best is trial 71 with value: 130.86829733848572.\u001b[0m\n"
          ],
          "name": "stderr"
        },
        {
          "output_type": "stream",
          "text": [
            "[07:20:08] WARNING: /workspace/src/objective/regression_obj.cu:152: reg:linear is now deprecated in favor of reg:squarederror.\n"
          ],
          "name": "stdout"
        },
        {
          "output_type": "stream",
          "text": [
            "\u001b[32m[I 2021-07-18 07:20:08,613]\u001b[0m Trial 539 finished with value: 140.21382892131805 and parameters: {'alpha': 0.4887344995809219, 'lambda': 0.8856529285551503, 'gamma': 3, 'colsample_bytree': 0.9, 'subsample': 0.6, 'learning_rate': 0.08, 'n_estimators': 600, 'max_depth': 7, 'min_child_weight': 24}. Best is trial 71 with value: 130.86829733848572.\u001b[0m\n"
          ],
          "name": "stderr"
        },
        {
          "output_type": "stream",
          "text": [
            "[07:20:08] WARNING: /workspace/src/objective/regression_obj.cu:152: reg:linear is now deprecated in favor of reg:squarederror.\n"
          ],
          "name": "stdout"
        },
        {
          "output_type": "stream",
          "text": [
            "\u001b[32m[I 2021-07-18 07:20:09,206]\u001b[0m Trial 540 finished with value: 140.8636099100113 and parameters: {'alpha': 0.44959662115938326, 'lambda': 0.7188544959565786, 'gamma': 3, 'colsample_bytree': 1.0, 'subsample': 0.6, 'learning_rate': 0.08, 'n_estimators': 581, 'max_depth': 7, 'min_child_weight': 7}. Best is trial 71 with value: 130.86829733848572.\u001b[0m\n"
          ],
          "name": "stderr"
        },
        {
          "output_type": "stream",
          "text": [
            "[07:20:09] WARNING: /workspace/src/objective/regression_obj.cu:152: reg:linear is now deprecated in favor of reg:squarederror.\n"
          ],
          "name": "stdout"
        },
        {
          "output_type": "stream",
          "text": [
            "\u001b[32m[I 2021-07-18 07:20:09,822]\u001b[0m Trial 541 finished with value: 138.03715419769287 and parameters: {'alpha': 4.046092478333596, 'lambda': 0.29876342888149804, 'gamma': 3, 'colsample_bytree': 0.5, 'subsample': 0.6, 'learning_rate': 0.08, 'n_estimators': 204, 'max_depth': 7, 'min_child_weight': 6}. Best is trial 71 with value: 130.86829733848572.\u001b[0m\n"
          ],
          "name": "stderr"
        },
        {
          "output_type": "stream",
          "text": [
            "[07:20:09] WARNING: /workspace/src/objective/regression_obj.cu:152: reg:linear is now deprecated in favor of reg:squarederror.\n"
          ],
          "name": "stdout"
        },
        {
          "output_type": "stream",
          "text": [
            "\u001b[32m[I 2021-07-18 07:20:10,265]\u001b[0m Trial 542 finished with value: 283.5330505371094 and parameters: {'alpha': 0.6180110375336515, 'lambda': 0.1970015443729742, 'gamma': 3, 'colsample_bytree': 0.5, 'subsample': 0.6, 'learning_rate': 0.08, 'n_estimators': 542, 'max_depth': 7, 'min_child_weight': 220}. Best is trial 71 with value: 130.86829733848572.\u001b[0m\n"
          ],
          "name": "stderr"
        },
        {
          "output_type": "stream",
          "text": [
            "[07:20:10] WARNING: /workspace/src/objective/regression_obj.cu:152: reg:linear is now deprecated in favor of reg:squarederror.\n"
          ],
          "name": "stdout"
        },
        {
          "output_type": "stream",
          "text": [
            "\u001b[32m[I 2021-07-18 07:20:11,006]\u001b[0m Trial 543 finished with value: 150.99688601493835 and parameters: {'alpha': 0.8785737679897543, 'lambda': 0.19046510933324617, 'gamma': 3, 'colsample_bytree': 0.5, 'subsample': 0.5, 'learning_rate': 0.08, 'n_estimators': 214, 'max_depth': 7, 'min_child_weight': 50}. Best is trial 71 with value: 130.86829733848572.\u001b[0m\n"
          ],
          "name": "stderr"
        },
        {
          "output_type": "stream",
          "text": [
            "[07:20:11] WARNING: /workspace/src/objective/regression_obj.cu:152: reg:linear is now deprecated in favor of reg:squarederror.\n"
          ],
          "name": "stdout"
        },
        {
          "output_type": "stream",
          "text": [
            "\u001b[32m[I 2021-07-18 07:20:12,008]\u001b[0m Trial 544 finished with value: 138.8040486574173 and parameters: {'alpha': 0.3313146913905324, 'lambda': 0.9747942159194493, 'gamma': 3, 'colsample_bytree': 0.3, 'subsample': 0.6, 'learning_rate': 0.06, 'n_estimators': 567, 'max_depth': 7, 'min_child_weight': 17}. Best is trial 71 with value: 130.86829733848572.\u001b[0m\n"
          ],
          "name": "stderr"
        },
        {
          "output_type": "stream",
          "text": [
            "[07:20:12] WARNING: /workspace/src/objective/regression_obj.cu:152: reg:linear is now deprecated in favor of reg:squarederror.\n"
          ],
          "name": "stdout"
        },
        {
          "output_type": "stream",
          "text": [
            "\u001b[32m[I 2021-07-18 07:20:12,608]\u001b[0m Trial 545 finished with value: 134.38551890850067 and parameters: {'alpha': 0.2808959900904546, 'lambda': 0.26879051503806634, 'gamma': 3, 'colsample_bytree': 0.5, 'subsample': 0.6, 'learning_rate': 0.08, 'n_estimators': 567, 'max_depth': 5, 'min_child_weight': 1}. Best is trial 71 with value: 130.86829733848572.\u001b[0m\n"
          ],
          "name": "stderr"
        },
        {
          "output_type": "stream",
          "text": [
            "[07:20:12] WARNING: /workspace/src/objective/regression_obj.cu:152: reg:linear is now deprecated in favor of reg:squarederror.\n"
          ],
          "name": "stdout"
        },
        {
          "output_type": "stream",
          "text": [
            "\u001b[32m[I 2021-07-18 07:20:13,235]\u001b[0m Trial 546 finished with value: 141.4988694190979 and parameters: {'alpha': 0.22523125046124684, 'lambda': 0.0989661627433509, 'gamma': 3, 'colsample_bytree': 0.7, 'subsample': 0.6, 'learning_rate': 0.08, 'n_estimators': 577, 'max_depth': 7, 'min_child_weight': 11}. Best is trial 71 with value: 130.86829733848572.\u001b[0m\n"
          ],
          "name": "stderr"
        },
        {
          "output_type": "stream",
          "text": [
            "[07:20:13] WARNING: /workspace/src/objective/regression_obj.cu:152: reg:linear is now deprecated in favor of reg:squarederror.\n"
          ],
          "name": "stdout"
        },
        {
          "output_type": "stream",
          "text": [
            "\u001b[32m[I 2021-07-18 07:20:13,992]\u001b[0m Trial 547 finished with value: 131.20732218027115 and parameters: {'alpha': 0.34479090106856214, 'lambda': 6.185192437524878, 'gamma': 3, 'colsample_bytree': 0.5, 'subsample': 0.6, 'learning_rate': 0.08, 'n_estimators': 564, 'max_depth': 7, 'min_child_weight': 1}. Best is trial 71 with value: 130.86829733848572.\u001b[0m\n"
          ],
          "name": "stderr"
        },
        {
          "output_type": "stream",
          "text": [
            "[07:20:14] WARNING: /workspace/src/objective/regression_obj.cu:152: reg:linear is now deprecated in favor of reg:squarederror.\n"
          ],
          "name": "stdout"
        },
        {
          "output_type": "stream",
          "text": [
            "\u001b[32m[I 2021-07-18 07:20:14,511]\u001b[0m Trial 548 finished with value: 138.03715419769287 and parameters: {'alpha': 0.3707105254326243, 'lambda': 5.7613163045776306, 'gamma': 3, 'colsample_bytree': 0.5, 'subsample': 0.6, 'learning_rate': 0.08, 'n_estimators': 109, 'max_depth': 7, 'min_child_weight': 6}. Best is trial 71 with value: 130.86829733848572.\u001b[0m\n"
          ],
          "name": "stderr"
        },
        {
          "output_type": "stream",
          "text": [
            "[07:20:14] WARNING: /workspace/src/objective/regression_obj.cu:152: reg:linear is now deprecated in favor of reg:squarederror.\n"
          ],
          "name": "stdout"
        },
        {
          "output_type": "stream",
          "text": [
            "\u001b[32m[I 2021-07-18 07:20:16,277]\u001b[0m Trial 549 finished with value: 170.21732246875763 and parameters: {'alpha': 0.5168978426848158, 'lambda': 1.6968574455875567, 'gamma': 3, 'colsample_bytree': 0.6, 'subsample': 0.6, 'learning_rate': 0.08, 'n_estimators': 563, 'max_depth': 11, 'min_child_weight': 171}. Best is trial 71 with value: 130.86829733848572.\u001b[0m\n"
          ],
          "name": "stderr"
        },
        {
          "output_type": "stream",
          "text": [
            "[07:20:16] WARNING: /workspace/src/objective/regression_obj.cu:152: reg:linear is now deprecated in favor of reg:squarederror.\n"
          ],
          "name": "stdout"
        },
        {
          "output_type": "stream",
          "text": [
            "\u001b[32m[I 2021-07-18 07:20:16,904]\u001b[0m Trial 550 finished with value: 143.7138148546219 and parameters: {'alpha': 8.938302296355058, 'lambda': 0.3938727433010576, 'gamma': 3, 'colsample_bytree': 0.5, 'subsample': 0.4, 'learning_rate': 0.08, 'n_estimators': 599, 'max_depth': 7, 'min_child_weight': 13}. Best is trial 71 with value: 130.86829733848572.\u001b[0m\n"
          ],
          "name": "stderr"
        },
        {
          "output_type": "stream",
          "text": [
            "[07:20:16] WARNING: /workspace/src/objective/regression_obj.cu:152: reg:linear is now deprecated in favor of reg:squarederror.\n"
          ],
          "name": "stdout"
        },
        {
          "output_type": "stream",
          "text": [
            "\u001b[32m[I 2021-07-18 07:20:17,512]\u001b[0m Trial 551 finished with value: 138.03715419769287 and parameters: {'alpha': 0.09815509465490731, 'lambda': 0.4814171965110037, 'gamma': 3, 'colsample_bytree': 0.5, 'subsample': 0.6, 'learning_rate': 0.08, 'n_estimators': 585, 'max_depth': 7, 'min_child_weight': 6}. Best is trial 71 with value: 130.86829733848572.\u001b[0m\n"
          ],
          "name": "stderr"
        },
        {
          "output_type": "stream",
          "text": [
            "[07:20:17] WARNING: /workspace/src/objective/regression_obj.cu:152: reg:linear is now deprecated in favor of reg:squarederror.\n"
          ],
          "name": "stdout"
        },
        {
          "output_type": "stream",
          "text": [
            "\u001b[32m[I 2021-07-18 07:20:18,352]\u001b[0m Trial 552 finished with value: 142.60433650016785 and parameters: {'alpha': 0.2682426073176252, 'lambda': 0.4825600166616487, 'gamma': 3, 'colsample_bytree': 0.5, 'subsample': 1.0, 'learning_rate': 0.02, 'n_estimators': 547, 'max_depth': 3, 'min_child_weight': 1}. Best is trial 71 with value: 130.86829733848572.\u001b[0m\n"
          ],
          "name": "stderr"
        },
        {
          "output_type": "stream",
          "text": [
            "[07:20:18] WARNING: /workspace/src/objective/regression_obj.cu:152: reg:linear is now deprecated in favor of reg:squarederror.\n"
          ],
          "name": "stdout"
        },
        {
          "output_type": "stream",
          "text": [
            "\u001b[32m[I 2021-07-18 07:20:20,475]\u001b[0m Trial 553 finished with value: 139.67327332496643 and parameters: {'alpha': 9.861998887186363, 'lambda': 0.12193593249843297, 'gamma': 3, 'colsample_bytree': 0.5, 'subsample': 0.8, 'learning_rate': 0.01, 'n_estimators': 576, 'max_depth': 7, 'min_child_weight': 20}. Best is trial 71 with value: 130.86829733848572.\u001b[0m\n"
          ],
          "name": "stderr"
        },
        {
          "output_type": "stream",
          "text": [
            "[07:20:20] WARNING: /workspace/src/objective/regression_obj.cu:152: reg:linear is now deprecated in favor of reg:squarederror.\n"
          ],
          "name": "stdout"
        },
        {
          "output_type": "stream",
          "text": [
            "\u001b[32m[I 2021-07-18 07:20:21,240]\u001b[0m Trial 554 finished with value: 131.20732218027115 and parameters: {'alpha': 5.553774971742512, 'lambda': 0.25217958347522335, 'gamma': 3, 'colsample_bytree': 0.5, 'subsample': 0.6, 'learning_rate': 0.08, 'n_estimators': 229, 'max_depth': 7, 'min_child_weight': 1}. Best is trial 71 with value: 130.86829733848572.\u001b[0m\n"
          ],
          "name": "stderr"
        },
        {
          "output_type": "stream",
          "text": [
            "[07:20:21] WARNING: /workspace/src/objective/regression_obj.cu:152: reg:linear is now deprecated in favor of reg:squarederror.\n"
          ],
          "name": "stdout"
        },
        {
          "output_type": "stream",
          "text": [
            "\u001b[32m[I 2021-07-18 07:20:21,916]\u001b[0m Trial 555 finished with value: 135.54521787166595 and parameters: {'alpha': 0.16123054256539887, 'lambda': 0.14882899376435216, 'gamma': 2, 'colsample_bytree': 0.4, 'subsample': 0.6, 'learning_rate': 0.08, 'n_estimators': 400, 'max_depth': 13, 'min_child_weight': 11}. Best is trial 71 with value: 130.86829733848572.\u001b[0m\n"
          ],
          "name": "stderr"
        },
        {
          "output_type": "stream",
          "text": [
            "[07:20:21] WARNING: /workspace/src/objective/regression_obj.cu:152: reg:linear is now deprecated in favor of reg:squarederror.\n"
          ],
          "name": "stdout"
        },
        {
          "output_type": "stream",
          "text": [
            "\u001b[32m[I 2021-07-18 07:20:22,673]\u001b[0m Trial 556 finished with value: 131.20732218027115 and parameters: {'alpha': 6.089851324914708, 'lambda': 9.734901354234646, 'gamma': 3, 'colsample_bytree': 0.5, 'subsample': 0.6, 'learning_rate': 0.08, 'n_estimators': 600, 'max_depth': 7, 'min_child_weight': 1}. Best is trial 71 with value: 130.86829733848572.\u001b[0m\n"
          ],
          "name": "stderr"
        },
        {
          "output_type": "stream",
          "text": [
            "[07:20:22] WARNING: /workspace/src/objective/regression_obj.cu:152: reg:linear is now deprecated in favor of reg:squarederror.\n"
          ],
          "name": "stdout"
        },
        {
          "output_type": "stream",
          "text": [
            "\u001b[32m[I 2021-07-18 07:20:23,280]\u001b[0m Trial 557 finished with value: 136.61155927181244 and parameters: {'alpha': 9.967475680161005, 'lambda': 0.18339790354040428, 'gamma': 3, 'colsample_bytree': 0.5, 'subsample': 0.7, 'learning_rate': 0.08, 'n_estimators': 561, 'max_depth': 7, 'min_child_weight': 7}. Best is trial 71 with value: 130.86829733848572.\u001b[0m\n"
          ],
          "name": "stderr"
        },
        {
          "output_type": "stream",
          "text": [
            "[07:20:23] WARNING: /workspace/src/objective/regression_obj.cu:152: reg:linear is now deprecated in favor of reg:squarederror.\n"
          ],
          "name": "stdout"
        },
        {
          "output_type": "stream",
          "text": [
            "\u001b[32m[I 2021-07-18 07:20:24,107]\u001b[0m Trial 558 finished with value: 140.90326464176178 and parameters: {'alpha': 1.242300358139651, 'lambda': 0.24827405959167143, 'gamma': 3, 'colsample_bytree': 0.5, 'subsample': 0.6, 'learning_rate': 0.08, 'n_estimators': 554, 'max_depth': 17, 'min_child_weight': 15}. Best is trial 71 with value: 130.86829733848572.\u001b[0m\n"
          ],
          "name": "stderr"
        },
        {
          "output_type": "stream",
          "text": [
            "[07:20:24] WARNING: /workspace/src/objective/regression_obj.cu:152: reg:linear is now deprecated in favor of reg:squarederror.\n"
          ],
          "name": "stdout"
        },
        {
          "output_type": "stream",
          "text": [
            "\u001b[32m[I 2021-07-18 07:20:26,640]\u001b[0m Trial 559 finished with value: 132.6170756816864 and parameters: {'alpha': 0.3186099127163677, 'lambda': 0.0923338146566859, 'gamma': 3, 'colsample_bytree': 0.5, 'subsample': 0.6, 'learning_rate': 0.08, 'n_estimators': 589, 'max_depth': 20, 'min_child_weight': 1}. Best is trial 71 with value: 130.86829733848572.\u001b[0m\n"
          ],
          "name": "stderr"
        },
        {
          "output_type": "stream",
          "text": [
            "[07:20:26] WARNING: /workspace/src/objective/regression_obj.cu:152: reg:linear is now deprecated in favor of reg:squarederror.\n"
          ],
          "name": "stdout"
        },
        {
          "output_type": "stream",
          "text": [
            "\u001b[32m[I 2021-07-18 07:20:27,213]\u001b[0m Trial 560 finished with value: 141.24535179138184 and parameters: {'alpha': 0.013150404126435943, 'lambda': 0.14278488772251485, 'gamma': 2, 'colsample_bytree': 0.8, 'subsample': 0.6, 'learning_rate': 0.08, 'n_estimators': 414, 'max_depth': 7, 'min_child_weight': 9}. Best is trial 71 with value: 130.86829733848572.\u001b[0m\n"
          ],
          "name": "stderr"
        },
        {
          "output_type": "stream",
          "text": [
            "[07:20:27] WARNING: /workspace/src/objective/regression_obj.cu:152: reg:linear is now deprecated in favor of reg:squarederror.\n"
          ],
          "name": "stdout"
        },
        {
          "output_type": "stream",
          "text": [
            "\u001b[32m[I 2021-07-18 07:20:27,810]\u001b[0m Trial 561 finished with value: 140.8248267173767 and parameters: {'alpha': 2.410294609691841, 'lambda': 0.8163026905497236, 'gamma': 3, 'colsample_bytree': 0.5, 'subsample': 0.5, 'learning_rate': 0.08, 'n_estimators': 347, 'max_depth': 7, 'min_child_weight': 6}. Best is trial 71 with value: 130.86829733848572.\u001b[0m\n"
          ],
          "name": "stderr"
        },
        {
          "output_type": "stream",
          "text": [
            "[07:20:27] WARNING: /workspace/src/objective/regression_obj.cu:152: reg:linear is now deprecated in favor of reg:squarederror.\n"
          ],
          "name": "stdout"
        },
        {
          "output_type": "stream",
          "text": [
            "\u001b[32m[I 2021-07-18 07:20:28,549]\u001b[0m Trial 562 finished with value: 131.20732218027115 and parameters: {'alpha': 0.3369736928777398, 'lambda': 1.1533738759730603, 'gamma': 3, 'colsample_bytree': 0.5, 'subsample': 0.6, 'learning_rate': 0.08, 'n_estimators': 583, 'max_depth': 7, 'min_child_weight': 1}. Best is trial 71 with value: 130.86829733848572.\u001b[0m\n"
          ],
          "name": "stderr"
        },
        {
          "output_type": "stream",
          "text": [
            "[07:20:28] WARNING: /workspace/src/objective/regression_obj.cu:152: reg:linear is now deprecated in favor of reg:squarederror.\n"
          ],
          "name": "stdout"
        },
        {
          "output_type": "stream",
          "text": [
            "\u001b[32m[I 2021-07-18 07:20:29,139]\u001b[0m Trial 563 finished with value: 134.38551890850067 and parameters: {'alpha': 0.28940040722628924, 'lambda': 0.23349537930638853, 'gamma': 3, 'colsample_bytree': 0.5, 'subsample': 0.6, 'learning_rate': 0.08, 'n_estimators': 560, 'max_depth': 5, 'min_child_weight': 1}. Best is trial 71 with value: 130.86829733848572.\u001b[0m\n"
          ],
          "name": "stderr"
        },
        {
          "output_type": "stream",
          "text": [
            "[07:20:29] WARNING: /workspace/src/objective/regression_obj.cu:152: reg:linear is now deprecated in favor of reg:squarederror.\n"
          ],
          "name": "stdout"
        },
        {
          "output_type": "stream",
          "text": [
            "\u001b[32m[I 2021-07-18 07:20:29,784]\u001b[0m Trial 564 finished with value: 139.47431242465973 and parameters: {'alpha': 3.993363784483453, 'lambda': 0.16322413171743635, 'gamma': 3, 'colsample_bytree': 0.5, 'subsample': 0.6, 'learning_rate': 0.08, 'n_estimators': 234, 'max_depth': 7, 'min_child_weight': 12}. Best is trial 71 with value: 130.86829733848572.\u001b[0m\n"
          ],
          "name": "stderr"
        },
        {
          "output_type": "stream",
          "text": [
            "[07:20:29] WARNING: /workspace/src/objective/regression_obj.cu:152: reg:linear is now deprecated in favor of reg:squarederror.\n"
          ],
          "name": "stdout"
        },
        {
          "output_type": "stream",
          "text": [
            "\u001b[32m[I 2021-07-18 07:20:30,400]\u001b[0m Trial 565 finished with value: 142.32814991474152 and parameters: {'alpha': 0.2263343816637773, 'lambda': 0.35237753117041765, 'gamma': 3, 'colsample_bytree': 0.5, 'subsample': 0.6, 'learning_rate': 0.08, 'n_estimators': 548, 'max_depth': 7, 'min_child_weight': 7}. Best is trial 71 with value: 130.86829733848572.\u001b[0m\n"
          ],
          "name": "stderr"
        },
        {
          "output_type": "stream",
          "text": [
            "[07:20:30] WARNING: /workspace/src/objective/regression_obj.cu:152: reg:linear is now deprecated in favor of reg:squarederror.\n"
          ],
          "name": "stdout"
        },
        {
          "output_type": "stream",
          "text": [
            "\u001b[32m[I 2021-07-18 07:20:31,157]\u001b[0m Trial 566 finished with value: 131.20732218027115 and parameters: {'alpha': 5.922854158624068, 'lambda': 1.4701458549766204, 'gamma': 3, 'colsample_bytree': 0.5, 'subsample': 0.6, 'learning_rate': 0.08, 'n_estimators': 239, 'max_depth': 7, 'min_child_weight': 1}. Best is trial 71 with value: 130.86829733848572.\u001b[0m\n"
          ],
          "name": "stderr"
        },
        {
          "output_type": "stream",
          "text": [
            "[07:20:31] WARNING: /workspace/src/objective/regression_obj.cu:152: reg:linear is now deprecated in favor of reg:squarederror.\n"
          ],
          "name": "stdout"
        },
        {
          "output_type": "stream",
          "text": [
            "\u001b[32m[I 2021-07-18 07:20:31,929]\u001b[0m Trial 567 finished with value: 138.02681231498718 and parameters: {'alpha': 0.1518208790129895, 'lambda': 0.11329403441219478, 'gamma': 2, 'colsample_bytree': 0.5, 'subsample': 0.6, 'learning_rate': 0.08, 'n_estimators': 534, 'max_depth': 7, 'min_child_weight': 20}. Best is trial 71 with value: 130.86829733848572.\u001b[0m\n"
          ],
          "name": "stderr"
        },
        {
          "output_type": "stream",
          "text": [
            "[07:20:31] WARNING: /workspace/src/objective/regression_obj.cu:152: reg:linear is now deprecated in favor of reg:squarederror.\n"
          ],
          "name": "stdout"
        },
        {
          "output_type": "stream",
          "text": [
            "\u001b[32m[I 2021-07-18 07:20:32,526]\u001b[0m Trial 568 finished with value: 141.2375545501709 and parameters: {'alpha': 0.23244750830016933, 'lambda': 0.22731334827613123, 'gamma': 3, 'colsample_bytree': 0.6, 'subsample': 0.6, 'learning_rate': 0.08, 'n_estimators': 553, 'max_depth': 11, 'min_child_weight': 11}. Best is trial 71 with value: 130.86829733848572.\u001b[0m\n"
          ],
          "name": "stderr"
        },
        {
          "output_type": "stream",
          "text": [
            "[07:20:32] WARNING: /workspace/src/objective/regression_obj.cu:152: reg:linear is now deprecated in favor of reg:squarederror.\n"
          ],
          "name": "stdout"
        },
        {
          "output_type": "stream",
          "text": [
            "\u001b[32m[I 2021-07-18 07:20:33,274]\u001b[0m Trial 569 finished with value: 131.20732218027115 and parameters: {'alpha': 8.072128852763004, 'lambda': 3.7245707186843653, 'gamma': 3, 'colsample_bytree': 0.5, 'subsample': 0.6, 'learning_rate': 0.08, 'n_estimators': 258, 'max_depth': 7, 'min_child_weight': 1}. Best is trial 71 with value: 130.86829733848572.\u001b[0m\n"
          ],
          "name": "stderr"
        },
        {
          "output_type": "stream",
          "text": [
            "[07:20:33] WARNING: /workspace/src/objective/regression_obj.cu:152: reg:linear is now deprecated in favor of reg:squarederror.\n"
          ],
          "name": "stdout"
        },
        {
          "output_type": "stream",
          "text": [
            "\u001b[32m[I 2021-07-18 07:20:33,848]\u001b[0m Trial 570 finished with value: 138.22454351186752 and parameters: {'alpha': 0.9754966323144961, 'lambda': 0.18022073721040624, 'gamma': 3, 'colsample_bytree': 0.9, 'subsample': 0.6, 'learning_rate': 0.1, 'n_estimators': 558, 'max_depth': 7, 'min_child_weight': 6}. Best is trial 71 with value: 130.86829733848572.\u001b[0m\n"
          ],
          "name": "stderr"
        },
        {
          "output_type": "stream",
          "text": [
            "[07:20:33] WARNING: /workspace/src/objective/regression_obj.cu:152: reg:linear is now deprecated in favor of reg:squarederror.\n"
          ],
          "name": "stdout"
        },
        {
          "output_type": "stream",
          "text": [
            "\u001b[32m[I 2021-07-18 07:20:34,539]\u001b[0m Trial 571 finished with value: 141.19365894794464 and parameters: {'alpha': 0.24549557392508792, 'lambda': 0.4348003852099239, 'gamma': 3, 'colsample_bytree': 0.5, 'subsample': 0.6, 'learning_rate': 0.08, 'n_estimators': 319, 'max_depth': 7, 'min_child_weight': 15}. Best is trial 71 with value: 130.86829733848572.\u001b[0m\n"
          ],
          "name": "stderr"
        },
        {
          "output_type": "stream",
          "text": [
            "[07:20:34] WARNING: /workspace/src/objective/regression_obj.cu:152: reg:linear is now deprecated in favor of reg:squarederror.\n"
          ],
          "name": "stdout"
        },
        {
          "output_type": "stream",
          "text": [
            "\u001b[32m[I 2021-07-18 07:20:35,279]\u001b[0m Trial 572 finished with value: 131.20732218027115 and parameters: {'alpha': 7.323464695047453, 'lambda': 0.5542983796618346, 'gamma': 3, 'colsample_bytree': 0.5, 'subsample': 0.6, 'learning_rate': 0.08, 'n_estimators': 575, 'max_depth': 7, 'min_child_weight': 1}. Best is trial 71 with value: 130.86829733848572.\u001b[0m\n"
          ],
          "name": "stderr"
        },
        {
          "output_type": "stream",
          "text": [
            "[07:20:35] WARNING: /workspace/src/objective/regression_obj.cu:152: reg:linear is now deprecated in favor of reg:squarederror.\n"
          ],
          "name": "stdout"
        },
        {
          "output_type": "stream",
          "text": [
            "\u001b[32m[I 2021-07-18 07:20:35,970]\u001b[0m Trial 573 finished with value: 139.0195016860962 and parameters: {'alpha': 0.4622249843034246, 'lambda': 0.6124083078907626, 'gamma': 3, 'colsample_bytree': 0.5, 'subsample': 0.6, 'learning_rate': 0.06, 'n_estimators': 580, 'max_depth': 7, 'min_child_weight': 6}. Best is trial 71 with value: 130.86829733848572.\u001b[0m\n"
          ],
          "name": "stderr"
        },
        {
          "output_type": "stream",
          "text": [
            "[07:20:36] WARNING: /workspace/src/objective/regression_obj.cu:152: reg:linear is now deprecated in favor of reg:squarederror.\n"
          ],
          "name": "stdout"
        },
        {
          "output_type": "stream",
          "text": [
            "\u001b[32m[I 2021-07-18 07:20:37,345]\u001b[0m Trial 574 finished with value: 146.92904210090637 and parameters: {'alpha': 0.6788182172433187, 'lambda': 0.6144831410504155, 'gamma': 3, 'colsample_bytree': 1.0, 'subsample': 0.6, 'learning_rate': 0.08, 'n_estimators': 590, 'max_depth': 15, 'min_child_weight': 1}. Best is trial 71 with value: 130.86829733848572.\u001b[0m\n"
          ],
          "name": "stderr"
        },
        {
          "output_type": "stream",
          "text": [
            "[07:20:37] WARNING: /workspace/src/objective/regression_obj.cu:152: reg:linear is now deprecated in favor of reg:squarederror.\n"
          ],
          "name": "stdout"
        },
        {
          "output_type": "stream",
          "text": [
            "\u001b[32m[I 2021-07-18 07:20:38,581]\u001b[0m Trial 575 finished with value: 137.8943234682083 and parameters: {'alpha': 5.44092680223426, 'lambda': 2.878941782244207, 'gamma': 3, 'colsample_bytree': 0.5, 'subsample': 0.5, 'learning_rate': 0.02, 'n_estimators': 248, 'max_depth': 7, 'min_child_weight': 1}. Best is trial 71 with value: 130.86829733848572.\u001b[0m\n"
          ],
          "name": "stderr"
        },
        {
          "output_type": "stream",
          "text": [
            "[07:20:38] WARNING: /workspace/src/objective/regression_obj.cu:152: reg:linear is now deprecated in favor of reg:squarederror.\n"
          ],
          "name": "stdout"
        },
        {
          "output_type": "stream",
          "text": [
            "\u001b[32m[I 2021-07-18 07:20:39,207]\u001b[0m Trial 576 finished with value: 141.4988694190979 and parameters: {'alpha': 0.39459154294069004, 'lambda': 1.7766897992909205, 'gamma': 3, 'colsample_bytree': 0.7, 'subsample': 0.6, 'learning_rate': 0.08, 'n_estimators': 577, 'max_depth': 7, 'min_child_weight': 11}. Best is trial 71 with value: 130.86829733848572.\u001b[0m\n"
          ],
          "name": "stderr"
        },
        {
          "output_type": "stream",
          "text": [
            "[07:20:39] WARNING: /workspace/src/objective/regression_obj.cu:152: reg:linear is now deprecated in favor of reg:squarederror.\n"
          ],
          "name": "stdout"
        },
        {
          "output_type": "stream",
          "text": [
            "\u001b[32m[I 2021-07-18 07:20:39,954]\u001b[0m Trial 577 finished with value: 131.20732218027115 and parameters: {'alpha': 7.017384725640106, 'lambda': 0.8142403827462745, 'gamma': 3, 'colsample_bytree': 0.5, 'subsample': 0.6, 'learning_rate': 0.08, 'n_estimators': 228, 'max_depth': 7, 'min_child_weight': 1}. Best is trial 71 with value: 130.86829733848572.\u001b[0m\n"
          ],
          "name": "stderr"
        },
        {
          "output_type": "stream",
          "text": [
            "[07:20:39] WARNING: /workspace/src/objective/regression_obj.cu:152: reg:linear is now deprecated in favor of reg:squarederror.\n"
          ],
          "name": "stdout"
        },
        {
          "output_type": "stream",
          "text": [
            "\u001b[32m[I 2021-07-18 07:20:40,863]\u001b[0m Trial 578 finished with value: 140.96656668186188 and parameters: {'alpha': 0.28633403221397075, 'lambda': 0.27902291199548784, 'gamma': 3, 'colsample_bytree': 0.5, 'subsample': 0.6, 'learning_rate': 0.08, 'n_estimators': 545, 'max_depth': 7, 'min_child_weight': 27}. Best is trial 71 with value: 130.86829733848572.\u001b[0m\n"
          ],
          "name": "stderr"
        },
        {
          "output_type": "stream",
          "text": [
            "[07:20:40] WARNING: /workspace/src/objective/regression_obj.cu:152: reg:linear is now deprecated in favor of reg:squarederror.\n"
          ],
          "name": "stdout"
        },
        {
          "output_type": "stream",
          "text": [
            "\u001b[32m[I 2021-07-18 07:20:41,510]\u001b[0m Trial 579 finished with value: 142.66108345985413 and parameters: {'alpha': 4.197479932922909, 'lambda': 1.1993543053990006, 'gamma': 3, 'colsample_bytree': 0.5, 'subsample': 0.6, 'learning_rate': 0.08, 'n_estimators': 201, 'max_depth': 7, 'min_child_weight': 17}. Best is trial 71 with value: 130.86829733848572.\u001b[0m\n"
          ],
          "name": "stderr"
        },
        {
          "output_type": "stream",
          "text": [
            "[07:20:41] WARNING: /workspace/src/objective/regression_obj.cu:152: reg:linear is now deprecated in favor of reg:squarederror.\n"
          ],
          "name": "stdout"
        },
        {
          "output_type": "stream",
          "text": [
            "\u001b[32m[I 2021-07-18 07:20:42,165]\u001b[0m Trial 580 finished with value: 141.95956552028656 and parameters: {'alpha': 5.04329024492465, 'lambda': 2.632429507704901, 'gamma': 3, 'colsample_bytree': 0.3, 'subsample': 0.6, 'learning_rate': 0.08, 'n_estimators': 597, 'max_depth': 5, 'min_child_weight': 6}. Best is trial 71 with value: 130.86829733848572.\u001b[0m\n"
          ],
          "name": "stderr"
        },
        {
          "output_type": "stream",
          "text": [
            "[07:20:42] WARNING: /workspace/src/objective/regression_obj.cu:152: reg:linear is now deprecated in favor of reg:squarederror.\n"
          ],
          "name": "stdout"
        },
        {
          "output_type": "stream",
          "text": [
            "\u001b[32m[I 2021-07-18 07:20:42,869]\u001b[0m Trial 581 finished with value: 133.31229847669601 and parameters: {'alpha': 6.274533066558644, 'lambda': 0.38206898355611935, 'gamma': 3, 'colsample_bytree': 0.5, 'subsample': 0.6, 'learning_rate': 0.1, 'n_estimators': 192, 'max_depth': 7, 'min_child_weight': 1}. Best is trial 71 with value: 130.86829733848572.\u001b[0m\n"
          ],
          "name": "stderr"
        },
        {
          "output_type": "stream",
          "text": [
            "[07:20:42] WARNING: /workspace/src/objective/regression_obj.cu:152: reg:linear is now deprecated in favor of reg:squarederror.\n"
          ],
          "name": "stdout"
        },
        {
          "output_type": "stream",
          "text": [
            "\u001b[32m[I 2021-07-18 07:20:44,859]\u001b[0m Trial 582 finished with value: 144.61157882213593 and parameters: {'alpha': 0.11865591415097389, 'lambda': 0.07387465796253881, 'gamma': 1, 'colsample_bytree': 0.6, 'subsample': 0.4, 'learning_rate': 0.01, 'n_estimators': 535, 'max_depth': 11, 'min_child_weight': 9}. Best is trial 71 with value: 130.86829733848572.\u001b[0m\n"
          ],
          "name": "stderr"
        },
        {
          "output_type": "stream",
          "text": [
            "[07:20:44] WARNING: /workspace/src/objective/regression_obj.cu:152: reg:linear is now deprecated in favor of reg:squarederror.\n"
          ],
          "name": "stdout"
        },
        {
          "output_type": "stream",
          "text": [
            "\u001b[32m[I 2021-07-18 07:20:45,600]\u001b[0m Trial 583 finished with value: 131.20732218027115 and parameters: {'alpha': 4.752370037309279, 'lambda': 0.45302513696543506, 'gamma': 3, 'colsample_bytree': 0.5, 'subsample': 0.6, 'learning_rate': 0.08, 'n_estimators': 568, 'max_depth': 7, 'min_child_weight': 1}. Best is trial 71 with value: 130.86829733848572.\u001b[0m\n"
          ],
          "name": "stderr"
        },
        {
          "output_type": "stream",
          "text": [
            "[07:20:45] WARNING: /workspace/src/objective/regression_obj.cu:152: reg:linear is now deprecated in favor of reg:squarederror.\n"
          ],
          "name": "stdout"
        },
        {
          "output_type": "stream",
          "text": [
            "\u001b[32m[I 2021-07-18 07:20:46,178]\u001b[0m Trial 584 finished with value: 136.32232868671417 and parameters: {'alpha': 0.014885551463955133, 'lambda': 5.364550502423347, 'gamma': 0, 'colsample_bytree': 0.5, 'subsample': 0.8, 'learning_rate': 0.08, 'n_estimators': 209, 'max_depth': 7, 'min_child_weight': 12}. Best is trial 71 with value: 130.86829733848572.\u001b[0m\n"
          ],
          "name": "stderr"
        },
        {
          "output_type": "stream",
          "text": [
            "[07:20:46] WARNING: /workspace/src/objective/regression_obj.cu:152: reg:linear is now deprecated in favor of reg:squarederror.\n"
          ],
          "name": "stdout"
        },
        {
          "output_type": "stream",
          "text": [
            "\u001b[32m[I 2021-07-18 07:20:46,679]\u001b[0m Trial 585 finished with value: 140.7963455915451 and parameters: {'alpha': 0.18161822067110275, 'lambda': 0.1777747456276115, 'gamma': 3, 'colsample_bytree': 0.5, 'subsample': 1.0, 'learning_rate': 0.08, 'n_estimators': 562, 'max_depth': 3, 'min_child_weight': 7}. Best is trial 71 with value: 130.86829733848572.\u001b[0m\n"
          ],
          "name": "stderr"
        },
        {
          "output_type": "stream",
          "text": [
            "[07:20:46] WARNING: /workspace/src/objective/regression_obj.cu:152: reg:linear is now deprecated in favor of reg:squarederror.\n"
          ],
          "name": "stdout"
        },
        {
          "output_type": "stream",
          "text": [
            "\u001b[32m[I 2021-07-18 07:20:47,431]\u001b[0m Trial 586 finished with value: 131.20732218027115 and parameters: {'alpha': 0.422751484052665, 'lambda': 0.32891453643120605, 'gamma': 3, 'colsample_bytree': 0.5, 'subsample': 0.6, 'learning_rate': 0.08, 'n_estimators': 361, 'max_depth': 7, 'min_child_weight': 1}. Best is trial 71 with value: 130.86829733848572.\u001b[0m\n"
          ],
          "name": "stderr"
        },
        {
          "output_type": "stream",
          "text": [
            "[07:20:47] WARNING: /workspace/src/objective/regression_obj.cu:152: reg:linear is now deprecated in favor of reg:squarederror.\n"
          ],
          "name": "stdout"
        },
        {
          "output_type": "stream",
          "text": [
            "\u001b[32m[I 2021-07-18 07:20:48,176]\u001b[0m Trial 587 finished with value: 131.20732218027115 and parameters: {'alpha': 0.4959383024972173, 'lambda': 0.9893116446986329, 'gamma': 3, 'colsample_bytree': 0.5, 'subsample': 0.6, 'learning_rate': 0.08, 'n_estimators': 366, 'max_depth': 7, 'min_child_weight': 1}. Best is trial 71 with value: 130.86829733848572.\u001b[0m\n"
          ],
          "name": "stderr"
        },
        {
          "output_type": "stream",
          "text": [
            "[07:20:48] WARNING: /workspace/src/objective/regression_obj.cu:152: reg:linear is now deprecated in favor of reg:squarederror.\n"
          ],
          "name": "stdout"
        },
        {
          "output_type": "stream",
          "text": [
            "\u001b[32m[I 2021-07-18 07:20:48,830]\u001b[0m Trial 588 finished with value: 142.66108345985413 and parameters: {'alpha': 5.379417616418001, 'lambda': 6.153527385720994, 'gamma': 3, 'colsample_bytree': 0.5, 'subsample': 0.6, 'learning_rate': 0.08, 'n_estimators': 352, 'max_depth': 7, 'min_child_weight': 17}. Best is trial 71 with value: 130.86829733848572.\u001b[0m\n"
          ],
          "name": "stderr"
        },
        {
          "output_type": "stream",
          "text": [
            "[07:20:48] WARNING: /workspace/src/objective/regression_obj.cu:152: reg:linear is now deprecated in favor of reg:squarederror.\n"
          ],
          "name": "stdout"
        },
        {
          "output_type": "stream",
          "text": [
            "\u001b[32m[I 2021-07-18 07:20:49,548]\u001b[0m Trial 589 finished with value: 135.2143748998642 and parameters: {'alpha': 0.32391347173959073, 'lambda': 6.7108578506534124, 'gamma': 3, 'colsample_bytree': 0.5, 'subsample': 0.7, 'learning_rate': 0.08, 'n_estimators': 216, 'max_depth': 13, 'min_child_weight': 6}. Best is trial 71 with value: 130.86829733848572.\u001b[0m\n"
          ],
          "name": "stderr"
        },
        {
          "output_type": "stream",
          "text": [
            "[07:20:49] WARNING: /workspace/src/objective/regression_obj.cu:152: reg:linear is now deprecated in favor of reg:squarederror.\n"
          ],
          "name": "stdout"
        },
        {
          "output_type": "stream",
          "text": [
            "\u001b[32m[I 2021-07-18 07:20:50,116]\u001b[0m Trial 590 finished with value: 140.44716048240662 and parameters: {'alpha': 0.009764724514257268, 'lambda': 7.959749337655523, 'gamma': 1, 'colsample_bytree': 0.8, 'subsample': 0.6, 'learning_rate': 0.08, 'n_estimators': 375, 'max_depth': 7, 'min_child_weight': 11}. Best is trial 71 with value: 130.86829733848572.\u001b[0m\n"
          ],
          "name": "stderr"
        },
        {
          "output_type": "stream",
          "text": [
            "[07:20:50] WARNING: /workspace/src/objective/regression_obj.cu:152: reg:linear is now deprecated in favor of reg:squarederror.\n"
          ],
          "name": "stdout"
        },
        {
          "output_type": "stream",
          "text": [
            "\u001b[32m[I 2021-07-18 07:20:50,691]\u001b[0m Trial 591 finished with value: 141.70578157901764 and parameters: {'alpha': 6.488557399287909, 'lambda': 4.78525316901671, 'gamma': 3, 'colsample_bytree': 0.5, 'subsample': 0.6, 'learning_rate': 0.1, 'n_estimators': 224, 'max_depth': 7, 'min_child_weight': 6}. Best is trial 71 with value: 130.86829733848572.\u001b[0m\n"
          ],
          "name": "stderr"
        },
        {
          "output_type": "stream",
          "text": [
            "[07:20:50] WARNING: /workspace/src/objective/regression_obj.cu:152: reg:linear is now deprecated in favor of reg:squarederror.\n"
          ],
          "name": "stdout"
        },
        {
          "output_type": "stream",
          "text": [
            "\u001b[32m[I 2021-07-18 07:20:51,633]\u001b[0m Trial 592 finished with value: 131.65404397249222 and parameters: {'alpha': 0.535523762210748, 'lambda': 4.8229443696879555, 'gamma': 3, 'colsample_bytree': 0.5, 'subsample': 0.6, 'learning_rate': 0.08, 'n_estimators': 173, 'max_depth': 9, 'min_child_weight': 1}. Best is trial 71 with value: 130.86829733848572.\u001b[0m\n"
          ],
          "name": "stderr"
        },
        {
          "output_type": "stream",
          "text": [
            "[07:20:51] WARNING: /workspace/src/objective/regression_obj.cu:152: reg:linear is now deprecated in favor of reg:squarederror.\n"
          ],
          "name": "stdout"
        },
        {
          "output_type": "stream",
          "text": [
            "\u001b[32m[I 2021-07-18 07:20:54,287]\u001b[0m Trial 593 finished with value: 144.32702040672302 and parameters: {'alpha': 5.7405785989028395, 'lambda': 6.652620986029307, 'gamma': 3, 'colsample_bytree': 0.5, 'subsample': 0.5, 'learning_rate': 0.08, 'n_estimators': 233, 'max_depth': 20, 'min_child_weight': 22}. Best is trial 71 with value: 130.86829733848572.\u001b[0m\n"
          ],
          "name": "stderr"
        },
        {
          "output_type": "stream",
          "text": [
            "[07:20:54] WARNING: /workspace/src/objective/regression_obj.cu:152: reg:linear is now deprecated in favor of reg:squarederror.\n"
          ],
          "name": "stdout"
        },
        {
          "output_type": "stream",
          "text": [
            "\u001b[32m[I 2021-07-18 07:20:55,109]\u001b[0m Trial 594 finished with value: 136.75983572006226 and parameters: {'alpha': 6.854149473371438, 'lambda': 8.229125704012137, 'gamma': 3, 'colsample_bytree': 0.4, 'subsample': 0.6, 'learning_rate': 0.08, 'n_estimators': 598, 'max_depth': 7, 'min_child_weight': 1}. Best is trial 71 with value: 130.86829733848572.\u001b[0m\n"
          ],
          "name": "stderr"
        },
        {
          "output_type": "stream",
          "text": [
            "[07:20:55] WARNING: /workspace/src/objective/regression_obj.cu:152: reg:linear is now deprecated in favor of reg:squarederror.\n"
          ],
          "name": "stdout"
        },
        {
          "output_type": "stream",
          "text": [
            "\u001b[32m[I 2021-07-18 07:20:55,957]\u001b[0m Trial 595 finished with value: 140.7632715702057 and parameters: {'alpha': 0.12484969626648071, 'lambda': 0.31004292117682003, 'gamma': 3, 'colsample_bytree': 0.5, 'subsample': 0.6, 'learning_rate': 0.08, 'n_estimators': 588, 'max_depth': 17, 'min_child_weight': 13}. Best is trial 71 with value: 130.86829733848572.\u001b[0m\n"
          ],
          "name": "stderr"
        },
        {
          "output_type": "stream",
          "text": [
            "[07:20:56] WARNING: /workspace/src/objective/regression_obj.cu:152: reg:linear is now deprecated in favor of reg:squarederror.\n"
          ],
          "name": "stdout"
        },
        {
          "output_type": "stream",
          "text": [
            "\u001b[32m[I 2021-07-18 07:20:56,580]\u001b[0m Trial 596 finished with value: 142.32814991474152 and parameters: {'alpha': 0.1435184242817115, 'lambda': 0.4968081001427319, 'gamma': 3, 'colsample_bytree': 0.5, 'subsample': 0.6, 'learning_rate': 0.08, 'n_estimators': 287, 'max_depth': 7, 'min_child_weight': 7}. Best is trial 71 with value: 130.86829733848572.\u001b[0m\n"
          ],
          "name": "stderr"
        },
        {
          "output_type": "stream",
          "text": [
            "[07:20:56] WARNING: /workspace/src/objective/regression_obj.cu:152: reg:linear is now deprecated in favor of reg:squarederror.\n"
          ],
          "name": "stdout"
        },
        {
          "output_type": "stream",
          "text": [
            "\u001b[32m[I 2021-07-18 07:20:57,331]\u001b[0m Trial 597 finished with value: 131.20732218027115 and parameters: {'alpha': 0.36923974972751206, 'lambda': 0.8042093492396272, 'gamma': 3, 'colsample_bytree': 0.5, 'subsample': 0.6, 'learning_rate': 0.08, 'n_estimators': 599, 'max_depth': 7, 'min_child_weight': 1}. Best is trial 71 with value: 130.86829733848572.\u001b[0m\n"
          ],
          "name": "stderr"
        },
        {
          "output_type": "stream",
          "text": [
            "[07:20:57] WARNING: /workspace/src/objective/regression_obj.cu:152: reg:linear is now deprecated in favor of reg:squarederror.\n"
          ],
          "name": "stdout"
        },
        {
          "output_type": "stream",
          "text": [
            "\u001b[32m[I 2021-07-18 07:20:57,921]\u001b[0m Trial 598 finished with value: 143.60471439361572 and parameters: {'alpha': 0.18623226345431726, 'lambda': 0.0638786919416728, 'gamma': 1, 'colsample_bytree': 0.6, 'subsample': 0.6, 'learning_rate': 0.08, 'n_estimators': 542, 'max_depth': 7, 'min_child_weight': 15}. Best is trial 71 with value: 130.86829733848572.\u001b[0m\n"
          ],
          "name": "stderr"
        },
        {
          "output_type": "stream",
          "text": [
            "[07:20:57] WARNING: /workspace/src/objective/regression_obj.cu:152: reg:linear is now deprecated in favor of reg:squarederror.\n"
          ],
          "name": "stdout"
        },
        {
          "output_type": "stream",
          "text": [
            "\u001b[32m[I 2021-07-18 07:20:58,536]\u001b[0m Trial 599 finished with value: 142.32814991474152 and parameters: {'alpha': 0.384700413694788, 'lambda': 1.0209967927026056, 'gamma': 1, 'colsample_bytree': 0.5, 'subsample': 0.6, 'learning_rate': 0.08, 'n_estimators': 266, 'max_depth': 7, 'min_child_weight': 7}. Best is trial 71 with value: 130.86829733848572.\u001b[0m\n"
          ],
          "name": "stderr"
        },
        {
          "output_type": "stream",
          "text": [
            "[07:20:58] WARNING: /workspace/src/objective/regression_obj.cu:152: reg:linear is now deprecated in favor of reg:squarederror.\n"
          ],
          "name": "stdout"
        },
        {
          "output_type": "stream",
          "text": [
            "\u001b[32m[I 2021-07-18 07:20:59,242]\u001b[0m Trial 600 finished with value: 133.31229847669601 and parameters: {'alpha': 5.854459572114771, 'lambda': 0.40069938249665, 'gamma': 3, 'colsample_bytree': 0.5, 'subsample': 0.6, 'learning_rate': 0.1, 'n_estimators': 599, 'max_depth': 7, 'min_child_weight': 1}. Best is trial 71 with value: 130.86829733848572.\u001b[0m\n"
          ],
          "name": "stderr"
        },
        {
          "output_type": "stream",
          "text": [
            "[07:20:59] WARNING: /workspace/src/objective/regression_obj.cu:152: reg:linear is now deprecated in favor of reg:squarederror.\n"
          ],
          "name": "stdout"
        },
        {
          "output_type": "stream",
          "text": [
            "\u001b[32m[I 2021-07-18 07:21:00,356]\u001b[0m Trial 601 finished with value: 131.47589772939682 and parameters: {'alpha': 3.1851326037365193, 'lambda': 0.36680004479082134, 'gamma': 3, 'colsample_bytree': 0.5, 'subsample': 0.6, 'learning_rate': 0.08, 'n_estimators': 586, 'max_depth': 11, 'min_child_weight': 1}. Best is trial 71 with value: 130.86829733848572.\u001b[0m\n"
          ],
          "name": "stderr"
        },
        {
          "output_type": "stream",
          "text": [
            "[07:21:00] WARNING: /workspace/src/objective/regression_obj.cu:152: reg:linear is now deprecated in favor of reg:squarederror.\n"
          ],
          "name": "stdout"
        },
        {
          "output_type": "stream",
          "text": [
            "\u001b[32m[I 2021-07-18 07:21:00,942]\u001b[0m Trial 602 finished with value: 141.0805538892746 and parameters: {'alpha': 9.663564770912478, 'lambda': 3.986459168132863, 'gamma': 3, 'colsample_bytree': 0.5, 'subsample': 0.6, 'learning_rate': 0.08, 'n_estimators': 579, 'max_depth': 5, 'min_child_weight': 10}. Best is trial 71 with value: 130.86829733848572.\u001b[0m\n"
          ],
          "name": "stderr"
        },
        {
          "output_type": "stream",
          "text": [
            "[07:21:00] WARNING: /workspace/src/objective/regression_obj.cu:152: reg:linear is now deprecated in favor of reg:squarederror.\n"
          ],
          "name": "stdout"
        },
        {
          "output_type": "stream",
          "text": [
            "\u001b[32m[I 2021-07-18 07:21:01,686]\u001b[0m Trial 603 finished with value: 131.20732218027115 and parameters: {'alpha': 7.623145443192502, 'lambda': 0.40060050862777236, 'gamma': 3, 'colsample_bytree': 0.5, 'subsample': 0.6, 'learning_rate': 0.08, 'n_estimators': 599, 'max_depth': 7, 'min_child_weight': 1}. Best is trial 71 with value: 130.86829733848572.\u001b[0m\n"
          ],
          "name": "stderr"
        },
        {
          "output_type": "stream",
          "text": [
            "[07:21:01] WARNING: /workspace/src/objective/regression_obj.cu:152: reg:linear is now deprecated in favor of reg:squarederror.\n"
          ],
          "name": "stdout"
        },
        {
          "output_type": "stream",
          "text": [
            "\u001b[32m[I 2021-07-18 07:21:02,610]\u001b[0m Trial 604 finished with value: 138.8523691892624 and parameters: {'alpha': 9.913606644484451, 'lambda': 0.2949679413426793, 'gamma': 3, 'colsample_bytree': 0.5, 'subsample': 0.6, 'learning_rate': 0.06, 'n_estimators': 574, 'max_depth': 7, 'min_child_weight': 20}. Best is trial 71 with value: 130.86829733848572.\u001b[0m\n"
          ],
          "name": "stderr"
        },
        {
          "output_type": "stream",
          "text": [
            "[07:21:02] WARNING: /workspace/src/objective/regression_obj.cu:152: reg:linear is now deprecated in favor of reg:squarederror.\n"
          ],
          "name": "stdout"
        },
        {
          "output_type": "stream",
          "text": [
            "\u001b[32m[I 2021-07-18 07:21:03,219]\u001b[0m Trial 605 finished with value: 138.03715419769287 and parameters: {'alpha': 7.465226618199688, 'lambda': 0.534495848275008, 'gamma': 3, 'colsample_bytree': 0.5, 'subsample': 0.6, 'learning_rate': 0.08, 'n_estimators': 184, 'max_depth': 7, 'min_child_weight': 6}. Best is trial 71 with value: 130.86829733848572.\u001b[0m\n"
          ],
          "name": "stderr"
        },
        {
          "output_type": "stream",
          "text": [
            "[07:21:03] WARNING: /workspace/src/objective/regression_obj.cu:152: reg:linear is now deprecated in favor of reg:squarederror.\n"
          ],
          "name": "stdout"
        },
        {
          "output_type": "stream",
          "text": [
            "\u001b[32m[I 2021-07-18 07:21:03,897]\u001b[0m Trial 606 finished with value: 144.59836900234222 and parameters: {'alpha': 4.223421757704363, 'lambda': 0.507983418530763, 'gamma': 3, 'colsample_bytree': 0.5, 'subsample': 0.5, 'learning_rate': 0.08, 'n_estimators': 249, 'max_depth': 7, 'min_child_weight': 12}. Best is trial 71 with value: 130.86829733848572.\u001b[0m\n"
          ],
          "name": "stderr"
        },
        {
          "output_type": "stream",
          "text": [
            "[07:21:03] WARNING: /workspace/src/objective/regression_obj.cu:152: reg:linear is now deprecated in favor of reg:squarederror.\n"
          ],
          "name": "stdout"
        },
        {
          "output_type": "stream",
          "text": [
            "\u001b[32m[I 2021-07-18 07:21:04,634]\u001b[0m Trial 607 finished with value: 140.91368275880814 and parameters: {'alpha': 8.52593341331096, 'lambda': 1.9567237283746042, 'gamma': 3, 'colsample_bytree': 0.9, 'subsample': 0.6, 'learning_rate': 0.08, 'n_estimators': 259, 'max_depth': 7, 'min_child_weight': 1}. Best is trial 71 with value: 130.86829733848572.\u001b[0m\n"
          ],
          "name": "stderr"
        },
        {
          "output_type": "stream",
          "text": [
            "[07:21:04] WARNING: /workspace/src/objective/regression_obj.cu:152: reg:linear is now deprecated in favor of reg:squarederror.\n"
          ],
          "name": "stdout"
        },
        {
          "output_type": "stream",
          "text": [
            "\u001b[32m[I 2021-07-18 07:21:05,364]\u001b[0m Trial 608 finished with value: 142.57510489225388 and parameters: {'alpha': 0.4534869659951086, 'lambda': 1.4842424616017595, 'gamma': 3, 'colsample_bytree': 0.5, 'subsample': 0.6, 'learning_rate': 0.08, 'n_estimators': 573, 'max_depth': 15, 'min_child_weight': 7}. Best is trial 71 with value: 130.86829733848572.\u001b[0m\n"
          ],
          "name": "stderr"
        },
        {
          "output_type": "stream",
          "text": [
            "[07:21:05] WARNING: /workspace/src/objective/regression_obj.cu:152: reg:linear is now deprecated in favor of reg:squarederror.\n"
          ],
          "name": "stdout"
        },
        {
          "output_type": "stream",
          "text": [
            "\u001b[32m[I 2021-07-18 07:21:06,206]\u001b[0m Trial 609 finished with value: 144.9892075061798 and parameters: {'alpha': 7.969654335736478, 'lambda': 3.61163948307438, 'gamma': 3, 'colsample_bytree': 1.0, 'subsample': 0.6, 'learning_rate': 0.02, 'n_estimators': 233, 'max_depth': 7, 'min_child_weight': 35}. Best is trial 71 with value: 130.86829733848572.\u001b[0m\n"
          ],
          "name": "stderr"
        },
        {
          "output_type": "stream",
          "text": [
            "[07:21:06] WARNING: /workspace/src/objective/regression_obj.cu:152: reg:linear is now deprecated in favor of reg:squarederror.\n"
          ],
          "name": "stdout"
        },
        {
          "output_type": "stream",
          "text": [
            "\u001b[32m[I 2021-07-18 07:21:06,971]\u001b[0m Trial 610 finished with value: 131.20732218027115 and parameters: {'alpha': 5.113117743432607, 'lambda': 9.366316744646786, 'gamma': 3, 'colsample_bytree': 0.5, 'subsample': 0.6, 'learning_rate': 0.08, 'n_estimators': 275, 'max_depth': 7, 'min_child_weight': 1}. Best is trial 71 with value: 130.86829733848572.\u001b[0m\n"
          ],
          "name": "stderr"
        },
        {
          "output_type": "stream",
          "text": [
            "[07:21:07] WARNING: /workspace/src/objective/regression_obj.cu:152: reg:linear is now deprecated in favor of reg:squarederror.\n"
          ],
          "name": "stdout"
        },
        {
          "output_type": "stream",
          "text": [
            "\u001b[32m[I 2021-07-18 07:21:07,694]\u001b[0m Trial 611 finished with value: 133.31229847669601 and parameters: {'alpha': 4.296043082307584, 'lambda': 1.3582303195462393, 'gamma': 3, 'colsample_bytree': 0.5, 'subsample': 0.6, 'learning_rate': 0.1, 'n_estimators': 332, 'max_depth': 7, 'min_child_weight': 1}. Best is trial 71 with value: 130.86829733848572.\u001b[0m\n"
          ],
          "name": "stderr"
        },
        {
          "output_type": "stream",
          "text": [
            "[07:21:07] WARNING: /workspace/src/objective/regression_obj.cu:152: reg:linear is now deprecated in favor of reg:squarederror.\n"
          ],
          "name": "stdout"
        },
        {
          "output_type": "stream",
          "text": [
            "\u001b[32m[I 2021-07-18 07:21:08,318]\u001b[0m Trial 612 finished with value: 140.85535609722137 and parameters: {'alpha': 0.04934503034311126, 'lambda': 8.41255754912144, 'gamma': 3, 'colsample_bytree': 0.7, 'subsample': 0.6, 'learning_rate': 0.08, 'n_estimators': 241, 'max_depth': 7, 'min_child_weight': 15}. Best is trial 71 with value: 130.86829733848572.\u001b[0m\n"
          ],
          "name": "stderr"
        },
        {
          "output_type": "stream",
          "text": [
            "[07:21:08] WARNING: /workspace/src/objective/regression_obj.cu:152: reg:linear is now deprecated in favor of reg:squarederror.\n"
          ],
          "name": "stdout"
        },
        {
          "output_type": "stream",
          "text": [
            "\u001b[32m[I 2021-07-18 07:21:09,912]\u001b[0m Trial 613 finished with value: 140.27781689167023 and parameters: {'alpha': 0.01987256183696234, 'lambda': 0.3680957332393497, 'gamma': 0, 'colsample_bytree': 0.5, 'subsample': 0.6, 'learning_rate': 0.01, 'n_estimators': 600, 'max_depth': 5, 'min_child_weight': 7}. Best is trial 71 with value: 130.86829733848572.\u001b[0m\n"
          ],
          "name": "stderr"
        },
        {
          "output_type": "stream",
          "text": [
            "[07:21:09] WARNING: /workspace/src/objective/regression_obj.cu:152: reg:linear is now deprecated in favor of reg:squarederror.\n"
          ],
          "name": "stdout"
        },
        {
          "output_type": "stream",
          "text": [
            "\u001b[32m[I 2021-07-18 07:21:10,701]\u001b[0m Trial 614 finished with value: 139.5214513540268 and parameters: {'alpha': 0.34082383837045743, 'lambda': 1.1797800948290649, 'gamma': 3, 'colsample_bytree': 0.3, 'subsample': 0.6, 'learning_rate': 0.08, 'n_estimators': 589, 'max_depth': 7, 'min_child_weight': 1}. Best is trial 71 with value: 130.86829733848572.\u001b[0m\n"
          ],
          "name": "stderr"
        },
        {
          "output_type": "stream",
          "text": [
            "[07:21:10] WARNING: /workspace/src/objective/regression_obj.cu:152: reg:linear is now deprecated in favor of reg:squarederror.\n"
          ],
          "name": "stdout"
        },
        {
          "output_type": "stream",
          "text": [
            "\u001b[32m[I 2021-07-18 07:21:11,336]\u001b[0m Trial 615 finished with value: 140.31526613235474 and parameters: {'alpha': 7.2000275551832384, 'lambda': 0.9248620771249645, 'gamma': 3, 'colsample_bytree': 0.5, 'subsample': 0.6, 'learning_rate': 0.08, 'n_estimators': 247, 'max_depth': 7, 'min_child_weight': 11}. Best is trial 71 with value: 130.86829733848572.\u001b[0m\n"
          ],
          "name": "stderr"
        },
        {
          "output_type": "stream",
          "text": [
            "[07:21:11] WARNING: /workspace/src/objective/regression_obj.cu:152: reg:linear is now deprecated in favor of reg:squarederror.\n"
          ],
          "name": "stdout"
        },
        {
          "output_type": "stream",
          "text": [
            "\u001b[32m[I 2021-07-18 07:21:12,094]\u001b[0m Trial 616 finished with value: 131.20732218027115 and parameters: {'alpha': 0.4566315321352467, 'lambda': 0.7153613195670847, 'gamma': 3, 'colsample_bytree': 0.5, 'subsample': 0.6, 'learning_rate': 0.08, 'n_estimators': 590, 'max_depth': 7, 'min_child_weight': 1}. Best is trial 71 with value: 130.86829733848572.\u001b[0m\n"
          ],
          "name": "stderr"
        },
        {
          "output_type": "stream",
          "text": [
            "[07:21:12] WARNING: /workspace/src/objective/regression_obj.cu:152: reg:linear is now deprecated in favor of reg:squarederror.\n"
          ],
          "name": "stdout"
        },
        {
          "output_type": "stream",
          "text": [
            "\u001b[32m[I 2021-07-18 07:21:12,760]\u001b[0m Trial 617 finished with value: 143.14559960365295 and parameters: {'alpha': 5.039776588772477, 'lambda': 2.985927064650602, 'gamma': 3, 'colsample_bytree': 0.5, 'subsample': 0.4, 'learning_rate': 0.08, 'n_estimators': 225, 'max_depth': 7, 'min_child_weight': 7}. Best is trial 71 with value: 130.86829733848572.\u001b[0m\n"
          ],
          "name": "stderr"
        },
        {
          "output_type": "stream",
          "text": [
            "[07:21:12] WARNING: /workspace/src/objective/regression_obj.cu:152: reg:linear is now deprecated in favor of reg:squarederror.\n"
          ],
          "name": "stdout"
        },
        {
          "output_type": "stream",
          "text": [
            "\u001b[32m[I 2021-07-18 07:21:13,405]\u001b[0m Trial 618 finished with value: 139.41057538986206 and parameters: {'alpha': 7.978940548104723, 'lambda': 0.8121661008440635, 'gamma': 3, 'colsample_bytree': 0.6, 'subsample': 0.8, 'learning_rate': 0.08, 'n_estimators': 257, 'max_depth': 11, 'min_child_weight': 23}. Best is trial 71 with value: 130.86829733848572.\u001b[0m\n"
          ],
          "name": "stderr"
        },
        {
          "output_type": "stream",
          "text": [
            "[07:21:13] WARNING: /workspace/src/objective/regression_obj.cu:152: reg:linear is now deprecated in favor of reg:squarederror.\n"
          ],
          "name": "stdout"
        },
        {
          "output_type": "stream",
          "text": [
            "\u001b[32m[I 2021-07-18 07:21:14,035]\u001b[0m Trial 619 finished with value: 139.59507083892822 and parameters: {'alpha': 0.37250116055389243, 'lambda': 0.6488353606710748, 'gamma': 3, 'colsample_bytree': 0.5, 'subsample': 1.0, 'learning_rate': 0.08, 'n_estimators': 584, 'max_depth': 7, 'min_child_weight': 6}. Best is trial 71 with value: 130.86829733848572.\u001b[0m\n"
          ],
          "name": "stderr"
        },
        {
          "output_type": "stream",
          "text": [
            "[07:21:14] WARNING: /workspace/src/objective/regression_obj.cu:152: reg:linear is now deprecated in favor of reg:squarederror.\n"
          ],
          "name": "stdout"
        },
        {
          "output_type": "stream",
          "text": [
            "\u001b[32m[I 2021-07-18 07:21:14,732]\u001b[0m Trial 620 finished with value: 141.19365894794464 and parameters: {'alpha': 0.32432451793876277, 'lambda': 0.3268584275704533, 'gamma': 3, 'colsample_bytree': 0.5, 'subsample': 0.6, 'learning_rate': 0.08, 'n_estimators': 580, 'max_depth': 7, 'min_child_weight': 15}. Best is trial 71 with value: 130.86829733848572.\u001b[0m\n"
          ],
          "name": "stderr"
        },
        {
          "output_type": "stream",
          "text": [
            "[07:21:14] WARNING: /workspace/src/objective/regression_obj.cu:152: reg:linear is now deprecated in favor of reg:squarederror.\n"
          ],
          "name": "stdout"
        },
        {
          "output_type": "stream",
          "text": [
            "\u001b[32m[I 2021-07-18 07:21:15,358]\u001b[0m Trial 621 finished with value: 138.03715419769287 and parameters: {'alpha': 0.6170208131210522, 'lambda': 5.420516774714436, 'gamma': 3, 'colsample_bytree': 0.5, 'subsample': 0.6, 'learning_rate': 0.08, 'n_estimators': 391, 'max_depth': 7, 'min_child_weight': 6}. Best is trial 71 with value: 130.86829733848572.\u001b[0m\n"
          ],
          "name": "stderr"
        },
        {
          "output_type": "stream",
          "text": [
            "[07:21:15] WARNING: /workspace/src/objective/regression_obj.cu:152: reg:linear is now deprecated in favor of reg:squarederror.\n"
          ],
          "name": "stdout"
        },
        {
          "output_type": "stream",
          "text": [
            "\u001b[32m[I 2021-07-18 07:21:16,669]\u001b[0m Trial 622 finished with value: 141.98793864250183 and parameters: {'alpha': 5.5440709773801835, 'lambda': 1.4600217004331597, 'gamma': 3, 'colsample_bytree': 0.5, 'subsample': 0.6, 'learning_rate': 0.08, 'n_estimators': 600, 'max_depth': 3, 'min_child_weight': 107}. Best is trial 71 with value: 130.86829733848572.\u001b[0m\n"
          ],
          "name": "stderr"
        },
        {
          "output_type": "stream",
          "text": [
            "[07:21:16] WARNING: /workspace/src/objective/regression_obj.cu:152: reg:linear is now deprecated in favor of reg:squarederror.\n"
          ],
          "name": "stdout"
        },
        {
          "output_type": "stream",
          "text": [
            "\u001b[32m[I 2021-07-18 07:21:17,477]\u001b[0m Trial 623 finished with value: 132.41108483076096 and parameters: {'alpha': 7.460151363207577, 'lambda': 1.535200387629239, 'gamma': 3, 'colsample_bytree': 0.5, 'subsample': 0.7, 'learning_rate': 0.08, 'n_estimators': 243, 'max_depth': 7, 'min_child_weight': 1}. Best is trial 71 with value: 130.86829733848572.\u001b[0m\n"
          ],
          "name": "stderr"
        },
        {
          "output_type": "stream",
          "text": [
            "[07:21:17] WARNING: /workspace/src/objective/regression_obj.cu:152: reg:linear is now deprecated in favor of reg:squarederror.\n"
          ],
          "name": "stdout"
        },
        {
          "output_type": "stream",
          "text": [
            "\u001b[32m[I 2021-07-18 07:21:18,170]\u001b[0m Trial 624 finished with value: 144.9108419418335 and parameters: {'alpha': 0.7605190206233258, 'lambda': 1.028221292511036, 'gamma': 3, 'colsample_bytree': 0.5, 'subsample': 0.5, 'learning_rate': 0.1, 'n_estimators': 202, 'max_depth': 13, 'min_child_weight': 17}. Best is trial 71 with value: 130.86829733848572.\u001b[0m\n"
          ],
          "name": "stderr"
        },
        {
          "output_type": "stream",
          "text": [
            "[07:21:18] WARNING: /workspace/src/objective/regression_obj.cu:152: reg:linear is now deprecated in favor of reg:squarederror.\n"
          ],
          "name": "stdout"
        },
        {
          "output_type": "stream",
          "text": [
            "\u001b[32m[I 2021-07-18 07:21:18,803]\u001b[0m Trial 625 finished with value: 140.31526613235474 and parameters: {'alpha': 0.007562721286738219, 'lambda': 0.0814982594817301, 'gamma': 2, 'colsample_bytree': 0.5, 'subsample': 0.6, 'learning_rate': 0.08, 'n_estimators': 420, 'max_depth': 7, 'min_child_weight': 11}. Best is trial 71 with value: 130.86829733848572.\u001b[0m\n"
          ],
          "name": "stderr"
        },
        {
          "output_type": "stream",
          "text": [
            "[07:21:18] WARNING: /workspace/src/objective/regression_obj.cu:152: reg:linear is now deprecated in favor of reg:squarederror.\n"
          ],
          "name": "stdout"
        },
        {
          "output_type": "stream",
          "text": [
            "\u001b[32m[I 2021-07-18 07:21:19,572]\u001b[0m Trial 626 finished with value: 131.20732218027115 and parameters: {'alpha': 3.876450773361378, 'lambda': 1.3002063063369733, 'gamma': 3, 'colsample_bytree': 0.5, 'subsample': 0.6, 'learning_rate': 0.08, 'n_estimators': 590, 'max_depth': 7, 'min_child_weight': 1}. Best is trial 71 with value: 130.86829733848572.\u001b[0m\n"
          ],
          "name": "stderr"
        },
        {
          "output_type": "stream",
          "text": [
            "[07:21:19] WARNING: /workspace/src/objective/regression_obj.cu:152: reg:linear is now deprecated in favor of reg:squarederror.\n"
          ],
          "name": "stdout"
        },
        {
          "output_type": "stream",
          "text": [
            "\u001b[32m[I 2021-07-18 07:21:20,328]\u001b[0m Trial 627 finished with value: 139.06430804729462 and parameters: {'alpha': 3.93494737689912, 'lambda': 0.29981439711378877, 'gamma': 3, 'colsample_bytree': 0.8, 'subsample': 0.6, 'learning_rate': 0.08, 'n_estimators': 591, 'max_depth': 7, 'min_child_weight': 1}. Best is trial 71 with value: 130.86829733848572.\u001b[0m\n"
          ],
          "name": "stderr"
        },
        {
          "output_type": "stream",
          "text": [
            "[07:21:20] WARNING: /workspace/src/objective/regression_obj.cu:152: reg:linear is now deprecated in favor of reg:squarederror.\n"
          ],
          "name": "stdout"
        },
        {
          "output_type": "stream",
          "text": [
            "\u001b[32m[I 2021-07-18 07:21:20,997]\u001b[0m Trial 628 finished with value: 141.3475239276886 and parameters: {'alpha': 5.82883088937258, 'lambda': 2.2707589885778297, 'gamma': 3, 'colsample_bytree': 0.5, 'subsample': 0.6, 'learning_rate': 0.08, 'n_estimators': 238, 'max_depth': 9, 'min_child_weight': 10}. Best is trial 71 with value: 130.86829733848572.\u001b[0m\n"
          ],
          "name": "stderr"
        },
        {
          "output_type": "stream",
          "text": [
            "[07:21:21] WARNING: /workspace/src/objective/regression_obj.cu:152: reg:linear is now deprecated in favor of reg:squarederror.\n"
          ],
          "name": "stdout"
        },
        {
          "output_type": "stream",
          "text": [
            "\u001b[32m[I 2021-07-18 07:21:22,568]\u001b[0m Trial 629 finished with value: 132.7173411846161 and parameters: {'alpha': 0.46614831585216415, 'lambda': 1.0120091196298227, 'gamma': 3, 'colsample_bytree': 0.5, 'subsample': 0.6, 'learning_rate': 0.08, 'n_estimators': 363, 'max_depth': 17, 'min_child_weight': 1}. Best is trial 71 with value: 130.86829733848572.\u001b[0m\n"
          ],
          "name": "stderr"
        },
        {
          "output_type": "stream",
          "text": [
            "[07:21:22] WARNING: /workspace/src/objective/regression_obj.cu:152: reg:linear is now deprecated in favor of reg:squarederror.\n"
          ],
          "name": "stdout"
        },
        {
          "output_type": "stream",
          "text": [
            "\u001b[32m[I 2021-07-18 07:21:24,324]\u001b[0m Trial 630 finished with value: 138.04154133796692 and parameters: {'alpha': 0.2228647207719825, 'lambda': 0.16750326095100257, 'gamma': 3, 'colsample_bytree': 0.4, 'subsample': 0.6, 'learning_rate': 0.1, 'n_estimators': 556, 'max_depth': 20, 'min_child_weight': 7}. Best is trial 71 with value: 130.86829733848572.\u001b[0m\n"
          ],
          "name": "stderr"
        },
        {
          "output_type": "stream",
          "text": [
            "[07:21:24] WARNING: /workspace/src/objective/regression_obj.cu:152: reg:linear is now deprecated in favor of reg:squarederror.\n"
          ],
          "name": "stdout"
        },
        {
          "output_type": "stream",
          "text": [
            "\u001b[32m[I 2021-07-18 07:21:25,099]\u001b[0m Trial 631 finished with value: 131.20732218027115 and parameters: {'alpha': 6.119408371947269, 'lambda': 0.24745191737639688, 'gamma': 3, 'colsample_bytree': 0.5, 'subsample': 0.6, 'learning_rate': 0.08, 'n_estimators': 240, 'max_depth': 7, 'min_child_weight': 1}. Best is trial 71 with value: 130.86829733848572.\u001b[0m\n"
          ],
          "name": "stderr"
        },
        {
          "output_type": "stream",
          "text": [
            "[07:21:25] WARNING: /workspace/src/objective/regression_obj.cu:152: reg:linear is now deprecated in favor of reg:squarederror.\n"
          ],
          "name": "stdout"
        },
        {
          "output_type": "stream",
          "text": [
            "\u001b[32m[I 2021-07-18 07:21:25,860]\u001b[0m Trial 632 finished with value: 131.20732218027115 and parameters: {'alpha': 3.105959615972344, 'lambda': 1.6595826298321545, 'gamma': 3, 'colsample_bytree': 0.5, 'subsample': 0.6, 'learning_rate': 0.08, 'n_estimators': 227, 'max_depth': 7, 'min_child_weight': 1}. Best is trial 71 with value: 130.86829733848572.\u001b[0m\n"
          ],
          "name": "stderr"
        },
        {
          "output_type": "stream",
          "text": [
            "[07:21:25] WARNING: /workspace/src/objective/regression_obj.cu:152: reg:linear is now deprecated in favor of reg:squarederror.\n"
          ],
          "name": "stdout"
        },
        {
          "output_type": "stream",
          "text": [
            "\u001b[32m[I 2021-07-18 07:21:26,523]\u001b[0m Trial 633 finished with value: 141.28003072738647 and parameters: {'alpha': 3.329224929813751, 'lambda': 0.2828646863062708, 'gamma': 3, 'colsample_bytree': 0.6, 'subsample': 0.6, 'learning_rate': 0.08, 'n_estimators': 562, 'max_depth': 7, 'min_child_weight': 18}. Best is trial 71 with value: 130.86829733848572.\u001b[0m\n"
          ],
          "name": "stderr"
        },
        {
          "output_type": "stream",
          "text": [
            "[07:21:26] WARNING: /workspace/src/objective/regression_obj.cu:152: reg:linear is now deprecated in favor of reg:squarederror.\n"
          ],
          "name": "stdout"
        },
        {
          "output_type": "stream",
          "text": [
            "\u001b[32m[I 2021-07-18 07:21:27,118]\u001b[0m Trial 634 finished with value: 141.11975002288818 and parameters: {'alpha': 8.555074598686232, 'lambda': 3.305794789052364, 'gamma': 3, 'colsample_bytree': 0.5, 'subsample': 0.6, 'learning_rate': 0.08, 'n_estimators': 219, 'max_depth': 5, 'min_child_weight': 11}. Best is trial 71 with value: 130.86829733848572.\u001b[0m\n"
          ],
          "name": "stderr"
        },
        {
          "output_type": "stream",
          "text": [
            "[07:21:27] WARNING: /workspace/src/objective/regression_obj.cu:152: reg:linear is now deprecated in favor of reg:squarederror.\n"
          ],
          "name": "stdout"
        },
        {
          "output_type": "stream",
          "text": [
            "\u001b[32m[I 2021-07-18 07:21:27,876]\u001b[0m Trial 635 finished with value: 131.20732218027115 and parameters: {'alpha': 0.5737534068826513, 'lambda': 1.20453627980665, 'gamma': 3, 'colsample_bytree': 0.5, 'subsample': 0.6, 'learning_rate': 0.08, 'n_estimators': 351, 'max_depth': 7, 'min_child_weight': 1}. Best is trial 71 with value: 130.86829733848572.\u001b[0m\n"
          ],
          "name": "stderr"
        },
        {
          "output_type": "stream",
          "text": [
            "[07:21:27] WARNING: /workspace/src/objective/regression_obj.cu:152: reg:linear is now deprecated in favor of reg:squarederror.\n"
          ],
          "name": "stdout"
        },
        {
          "output_type": "stream",
          "text": [
            "\u001b[32m[I 2021-07-18 07:21:28,638]\u001b[0m Trial 636 finished with value: 131.20732218027115 and parameters: {'alpha': 6.582273581076631, 'lambda': 1.0247870704146467, 'gamma': 3, 'colsample_bytree': 0.5, 'subsample': 0.6, 'learning_rate': 0.08, 'n_estimators': 372, 'max_depth': 7, 'min_child_weight': 1}. Best is trial 71 with value: 130.86829733848572.\u001b[0m\n"
          ],
          "name": "stderr"
        },
        {
          "output_type": "stream",
          "text": [
            "[07:21:28] WARNING: /workspace/src/objective/regression_obj.cu:152: reg:linear is now deprecated in favor of reg:squarederror.\n"
          ],
          "name": "stdout"
        },
        {
          "output_type": "stream",
          "text": [
            "\u001b[32m[I 2021-07-18 07:21:29,823]\u001b[0m Trial 637 finished with value: 147.2240912914276 and parameters: {'alpha': 0.720443308515078, 'lambda': 0.12488678860688156, 'gamma': 3, 'colsample_bytree': 0.5, 'subsample': 0.6, 'learning_rate': 0.02, 'n_estimators': 331, 'max_depth': 11, 'min_child_weight': 29}. Best is trial 71 with value: 130.86829733848572.\u001b[0m\n"
          ],
          "name": "stderr"
        },
        {
          "output_type": "stream",
          "text": [
            "[07:21:29] WARNING: /workspace/src/objective/regression_obj.cu:152: reg:linear is now deprecated in favor of reg:squarederror.\n"
          ],
          "name": "stdout"
        },
        {
          "output_type": "stream",
          "text": [
            "\u001b[32m[I 2021-07-18 07:21:30,440]\u001b[0m Trial 638 finished with value: 138.03715419769287 and parameters: {'alpha': 4.969429548471331, 'lambda': 0.7125819714691025, 'gamma': 3, 'colsample_bytree': 0.5, 'subsample': 0.6, 'learning_rate': 0.08, 'n_estimators': 598, 'max_depth': 7, 'min_child_weight': 6}. Best is trial 71 with value: 130.86829733848572.\u001b[0m\n"
          ],
          "name": "stderr"
        },
        {
          "output_type": "stream",
          "text": [
            "[07:21:30] WARNING: /workspace/src/objective/regression_obj.cu:152: reg:linear is now deprecated in favor of reg:squarederror.\n"
          ],
          "name": "stdout"
        },
        {
          "output_type": "stream",
          "text": [
            "\u001b[32m[I 2021-07-18 07:21:31,203]\u001b[0m Trial 639 finished with value: 193.277503490448 and parameters: {'alpha': 4.634864597186685, 'lambda': 0.36890078202521287, 'gamma': 3, 'colsample_bytree': 0.5, 'subsample': 0.5, 'learning_rate': 0.08, 'n_estimators': 227, 'max_depth': 7, 'min_child_weight': 155}. Best is trial 71 with value: 130.86829733848572.\u001b[0m\n"
          ],
          "name": "stderr"
        },
        {
          "output_type": "stream",
          "text": [
            "[07:21:31] WARNING: /workspace/src/objective/regression_obj.cu:152: reg:linear is now deprecated in favor of reg:squarederror.\n"
          ],
          "name": "stdout"
        },
        {
          "output_type": "stream",
          "text": [
            "\u001b[32m[I 2021-07-18 07:21:31,767]\u001b[0m Trial 640 finished with value: 135.5740523338318 and parameters: {'alpha': 6.224965415117623, 'lambda': 0.2424479363939589, 'gamma': 3, 'colsample_bytree': 0.9, 'subsample': 0.6, 'learning_rate': 0.1, 'n_estimators': 144, 'max_depth': 7, 'min_child_weight': 13}. Best is trial 71 with value: 130.86829733848572.\u001b[0m\n"
          ],
          "name": "stderr"
        },
        {
          "output_type": "stream",
          "text": [
            "[07:21:31] WARNING: /workspace/src/objective/regression_obj.cu:152: reg:linear is now deprecated in favor of reg:squarederror.\n"
          ],
          "name": "stdout"
        },
        {
          "output_type": "stream",
          "text": [
            "\u001b[32m[I 2021-07-18 07:21:32,428]\u001b[0m Trial 641 finished with value: 145.38501036167145 and parameters: {'alpha': 0.012468474364749679, 'lambda': 0.7627169996030995, 'gamma': 2, 'colsample_bytree': 0.5, 'subsample': 0.6, 'learning_rate': 0.06, 'n_estimators': 387, 'max_depth': 7, 'min_child_weight': 7}. Best is trial 71 with value: 130.86829733848572.\u001b[0m\n"
          ],
          "name": "stderr"
        },
        {
          "output_type": "stream",
          "text": [
            "[07:21:32] WARNING: /workspace/src/objective/regression_obj.cu:152: reg:linear is now deprecated in favor of reg:squarederror.\n"
          ],
          "name": "stdout"
        },
        {
          "output_type": "stream",
          "text": [
            "\u001b[32m[I 2021-07-18 07:21:32,879]\u001b[0m Trial 642 finished with value: 283.5330505371094 and parameters: {'alpha': 2.5192120721519955, 'lambda': 0.13820818075975153, 'gamma': 3, 'colsample_bytree': 1.0, 'subsample': 0.6, 'learning_rate': 0.08, 'n_estimators': 283, 'max_depth': 7, 'min_child_weight': 290}. Best is trial 71 with value: 130.86829733848572.\u001b[0m\n"
          ],
          "name": "stderr"
        },
        {
          "output_type": "stream",
          "text": [
            "[07:21:32] WARNING: /workspace/src/objective/regression_obj.cu:152: reg:linear is now deprecated in favor of reg:squarederror.\n"
          ],
          "name": "stdout"
        },
        {
          "output_type": "stream",
          "text": [
            "\u001b[32m[I 2021-07-18 07:21:33,669]\u001b[0m Trial 643 finished with value: 147.18975341320038 and parameters: {'alpha': 0.9925022231483686, 'lambda': 0.24516805666111458, 'gamma': 3, 'colsample_bytree': 0.5, 'subsample': 0.6, 'learning_rate': 0.01, 'n_estimators': 189, 'max_depth': 7, 'min_child_weight': 7}. Best is trial 71 with value: 130.86829733848572.\u001b[0m\n"
          ],
          "name": "stderr"
        },
        {
          "output_type": "stream",
          "text": [
            "[07:21:33] WARNING: /workspace/src/objective/regression_obj.cu:152: reg:linear is now deprecated in favor of reg:squarederror.\n"
          ],
          "name": "stdout"
        },
        {
          "output_type": "stream",
          "text": [
            "\u001b[32m[I 2021-07-18 07:21:34,999]\u001b[0m Trial 644 finished with value: 147.87179720401764 and parameters: {'alpha': 0.24464557748940247, 'lambda': 0.5545669270898712, 'gamma': 3, 'colsample_bytree': 0.5, 'subsample': 0.6, 'learning_rate': 0.08, 'n_estimators': 544, 'max_depth': 15, 'min_child_weight': 135}. Best is trial 71 with value: 130.86829733848572.\u001b[0m\n"
          ],
          "name": "stderr"
        },
        {
          "output_type": "stream",
          "text": [
            "[07:21:35] WARNING: /workspace/src/objective/regression_obj.cu:152: reg:linear is now deprecated in favor of reg:squarederror.\n"
          ],
          "name": "stdout"
        },
        {
          "output_type": "stream",
          "text": [
            "\u001b[32m[I 2021-07-18 07:21:35,750]\u001b[0m Trial 645 finished with value: 131.20732218027115 and parameters: {'alpha': 0.2842709775203505, 'lambda': 0.21498555669820502, 'gamma': 3, 'colsample_bytree': 0.5, 'subsample': 0.6, 'learning_rate': 0.08, 'n_estimators': 340, 'max_depth': 7, 'min_child_weight': 1}. Best is trial 71 with value: 130.86829733848572.\u001b[0m\n"
          ],
          "name": "stderr"
        },
        {
          "output_type": "stream",
          "text": [
            "[07:21:35] WARNING: /workspace/src/objective/regression_obj.cu:152: reg:linear is now deprecated in favor of reg:squarederror.\n"
          ],
          "name": "stdout"
        },
        {
          "output_type": "stream",
          "text": [
            "\u001b[32m[I 2021-07-18 07:21:36,367]\u001b[0m Trial 646 finished with value: 145.77961373329163 and parameters: {'alpha': 0.20807023309637132, 'lambda': 0.06682659922034458, 'gamma': 3, 'colsample_bytree': 0.5, 'subsample': 0.4, 'learning_rate': 0.08, 'n_estimators': 309, 'max_depth': 7, 'min_child_weight': 15}. Best is trial 71 with value: 130.86829733848572.\u001b[0m\n"
          ],
          "name": "stderr"
        },
        {
          "output_type": "stream",
          "text": [
            "[07:21:36] WARNING: /workspace/src/objective/regression_obj.cu:152: reg:linear is now deprecated in favor of reg:squarederror.\n"
          ],
          "name": "stdout"
        },
        {
          "output_type": "stream",
          "text": [
            "\u001b[32m[I 2021-07-18 07:21:37,024]\u001b[0m Trial 647 finished with value: 144.4270976781845 and parameters: {'alpha': 0.25206040491904014, 'lambda': 0.5608558992996734, 'gamma': 3, 'colsample_bytree': 0.3, 'subsample': 0.6, 'learning_rate': 0.08, 'n_estimators': 529, 'max_depth': 7, 'min_child_weight': 6}. Best is trial 71 with value: 130.86829733848572.\u001b[0m\n"
          ],
          "name": "stderr"
        },
        {
          "output_type": "stream",
          "text": [
            "[07:21:37] WARNING: /workspace/src/objective/regression_obj.cu:152: reg:linear is now deprecated in favor of reg:squarederror.\n"
          ],
          "name": "stdout"
        },
        {
          "output_type": "stream",
          "text": [
            "\u001b[32m[I 2021-07-18 07:21:37,774]\u001b[0m Trial 648 finished with value: 131.20732218027115 and parameters: {'alpha': 0.5473721224620741, 'lambda': 1.3633270451299513, 'gamma': 3, 'colsample_bytree': 0.5, 'subsample': 0.6, 'learning_rate': 0.08, 'n_estimators': 351, 'max_depth': 7, 'min_child_weight': 1}. Best is trial 71 with value: 130.86829733848572.\u001b[0m\n"
          ],
          "name": "stderr"
        },
        {
          "output_type": "stream",
          "text": [
            "[07:21:37] WARNING: /workspace/src/objective/regression_obj.cu:152: reg:linear is now deprecated in favor of reg:squarederror.\n"
          ],
          "name": "stdout"
        },
        {
          "output_type": "stream",
          "text": [
            "\u001b[32m[I 2021-07-18 07:21:38,376]\u001b[0m Trial 649 finished with value: 140.37228548526764 and parameters: {'alpha': 0.1946382472887691, 'lambda': 0.2102887505923421, 'gamma': 3, 'colsample_bytree': 0.7, 'subsample': 0.8, 'learning_rate': 0.08, 'n_estimators': 555, 'max_depth': 5, 'min_child_weight': 20}. Best is trial 71 with value: 130.86829733848572.\u001b[0m\n"
          ],
          "name": "stderr"
        },
        {
          "output_type": "stream",
          "text": [
            "[07:21:38] WARNING: /workspace/src/objective/regression_obj.cu:152: reg:linear is now deprecated in favor of reg:squarederror.\n"
          ],
          "name": "stdout"
        },
        {
          "output_type": "stream",
          "text": [
            "\u001b[32m[I 2021-07-18 07:21:39,147]\u001b[0m Trial 650 finished with value: 131.20732218027115 and parameters: {'alpha': 9.5552674100178, 'lambda': 0.5841562762369874, 'gamma': 3, 'colsample_bytree': 0.5, 'subsample': 0.6, 'learning_rate': 0.08, 'n_estimators': 571, 'max_depth': 7, 'min_child_weight': 1}. Best is trial 71 with value: 130.86829733848572.\u001b[0m\n"
          ],
          "name": "stderr"
        },
        {
          "output_type": "stream",
          "text": [
            "[07:21:39] WARNING: /workspace/src/objective/regression_obj.cu:152: reg:linear is now deprecated in favor of reg:squarederror.\n"
          ],
          "name": "stdout"
        },
        {
          "output_type": "stream",
          "text": [
            "\u001b[32m[I 2021-07-18 07:21:39,703]\u001b[0m Trial 651 finished with value: 135.47898066043854 and parameters: {'alpha': 0.008967194877766637, 'lambda': 0.6757152419972912, 'gamma': 2, 'colsample_bytree': 0.6, 'subsample': 1.0, 'learning_rate': 0.1, 'n_estimators': 517, 'max_depth': 7, 'min_child_weight': 12}. Best is trial 71 with value: 130.86829733848572.\u001b[0m\n"
          ],
          "name": "stderr"
        },
        {
          "output_type": "stream",
          "text": [
            "[07:21:39] WARNING: /workspace/src/objective/regression_obj.cu:152: reg:linear is now deprecated in favor of reg:squarederror.\n"
          ],
          "name": "stdout"
        },
        {
          "output_type": "stream",
          "text": [
            "\u001b[32m[I 2021-07-18 07:21:40,416]\u001b[0m Trial 652 finished with value: 135.10468220710754 and parameters: {'alpha': 0.16048535564543948, 'lambda': 0.12781788421113005, 'gamma': 3, 'colsample_bytree': 0.5, 'subsample': 0.7, 'learning_rate': 0.08, 'n_estimators': 292, 'max_depth': 11, 'min_child_weight': 6}. Best is trial 71 with value: 130.86829733848572.\u001b[0m\n"
          ],
          "name": "stderr"
        },
        {
          "output_type": "stream",
          "text": [
            "[07:21:40] WARNING: /workspace/src/objective/regression_obj.cu:152: reg:linear is now deprecated in favor of reg:squarederror.\n"
          ],
          "name": "stdout"
        },
        {
          "output_type": "stream",
          "text": [
            "\u001b[32m[I 2021-07-18 07:21:41,053]\u001b[0m Trial 653 finished with value: 140.31526613235474 and parameters: {'alpha': 1.3972261645818658, 'lambda': 0.2804551142575725, 'gamma': 3, 'colsample_bytree': 0.5, 'subsample': 0.6, 'learning_rate': 0.08, 'n_estimators': 569, 'max_depth': 7, 'min_child_weight': 11}. Best is trial 71 with value: 130.86829733848572.\u001b[0m\n"
          ],
          "name": "stderr"
        },
        {
          "output_type": "stream",
          "text": [
            "[07:21:41] WARNING: /workspace/src/objective/regression_obj.cu:152: reg:linear is now deprecated in favor of reg:squarederror.\n"
          ],
          "name": "stdout"
        },
        {
          "output_type": "stream",
          "text": [
            "\u001b[32m[I 2021-07-18 07:21:41,816]\u001b[0m Trial 654 finished with value: 131.20732218027115 and parameters: {'alpha': 9.737972140141387, 'lambda': 0.4825420018704952, 'gamma': 3, 'colsample_bytree': 0.5, 'subsample': 0.6, 'learning_rate': 0.08, 'n_estimators': 579, 'max_depth': 7, 'min_child_weight': 1}. Best is trial 71 with value: 130.86829733848572.\u001b[0m\n"
          ],
          "name": "stderr"
        },
        {
          "output_type": "stream",
          "text": [
            "[07:21:41] WARNING: /workspace/src/objective/regression_obj.cu:152: reg:linear is now deprecated in favor of reg:squarederror.\n"
          ],
          "name": "stdout"
        },
        {
          "output_type": "stream",
          "text": [
            "\u001b[32m[I 2021-07-18 07:21:42,438]\u001b[0m Trial 655 finished with value: 138.03715419769287 and parameters: {'alpha': 7.242249293178541, 'lambda': 0.4643477386496398, 'gamma': 3, 'colsample_bytree': 0.5, 'subsample': 0.6, 'learning_rate': 0.08, 'n_estimators': 212, 'max_depth': 7, 'min_child_weight': 6}. Best is trial 71 with value: 130.86829733848572.\u001b[0m\n"
          ],
          "name": "stderr"
        },
        {
          "output_type": "stream",
          "text": [
            "[07:21:42] WARNING: /workspace/src/objective/regression_obj.cu:152: reg:linear is now deprecated in favor of reg:squarederror.\n"
          ],
          "name": "stdout"
        },
        {
          "output_type": "stream",
          "text": [
            "\u001b[32m[I 2021-07-18 07:21:43,214]\u001b[0m Trial 656 finished with value: 132.54619765281677 and parameters: {'alpha': 6.037621436318142, 'lambda': 2.3957440402335695, 'gamma': 3, 'colsample_bytree': 0.5, 'subsample': 0.5, 'learning_rate': 0.08, 'n_estimators': 246, 'max_depth': 7, 'min_child_weight': 1}. Best is trial 71 with value: 130.86829733848572.\u001b[0m\n"
          ],
          "name": "stderr"
        },
        {
          "output_type": "stream",
          "text": [
            "[07:21:43] WARNING: /workspace/src/objective/regression_obj.cu:152: reg:linear is now deprecated in favor of reg:squarederror.\n"
          ],
          "name": "stdout"
        },
        {
          "output_type": "stream",
          "text": [
            "\u001b[32m[I 2021-07-18 07:21:44,063]\u001b[0m Trial 657 finished with value: 139.90555787086487 and parameters: {'alpha': 3.2933885072381854, 'lambda': 1.0660922494908112, 'gamma': 3, 'colsample_bytree': 0.5, 'subsample': 0.6, 'learning_rate': 0.08, 'n_estimators': 271, 'max_depth': 7, 'min_child_weight': 23}. Best is trial 71 with value: 130.86829733848572.\u001b[0m\n"
          ],
          "name": "stderr"
        },
        {
          "output_type": "stream",
          "text": [
            "[07:21:44] WARNING: /workspace/src/objective/regression_obj.cu:152: reg:linear is now deprecated in favor of reg:squarederror.\n"
          ],
          "name": "stdout"
        },
        {
          "output_type": "stream",
          "text": [
            "\u001b[32m[I 2021-07-18 07:21:44,527]\u001b[0m Trial 658 finished with value: 283.5330505371094 and parameters: {'alpha': 1.993040857779849, 'lambda': 1.9933140232393727, 'gamma': 3, 'colsample_bytree': 0.5, 'subsample': 0.6, 'learning_rate': 0.08, 'n_estimators': 216, 'max_depth': 13, 'min_child_weight': 232}. Best is trial 71 with value: 130.86829733848572.\u001b[0m\n"
          ],
          "name": "stderr"
        },
        {
          "output_type": "stream",
          "text": [
            "[07:21:44] WARNING: /workspace/src/objective/regression_obj.cu:152: reg:linear is now deprecated in favor of reg:squarederror.\n"
          ],
          "name": "stdout"
        },
        {
          "output_type": "stream",
          "text": [
            "\u001b[32m[I 2021-07-18 07:21:45,034]\u001b[0m Trial 659 finished with value: 145.09243893623352 and parameters: {'alpha': 0.4896160059895022, 'lambda': 0.33262588919139735, 'gamma': 3, 'colsample_bytree': 0.8, 'subsample': 0.6, 'learning_rate': 0.08, 'n_estimators': 546, 'max_depth': 3, 'min_child_weight': 11}. Best is trial 71 with value: 130.86829733848572.\u001b[0m\n"
          ],
          "name": "stderr"
        },
        {
          "output_type": "stream",
          "text": [
            "[07:21:45] WARNING: /workspace/src/objective/regression_obj.cu:152: reg:linear is now deprecated in favor of reg:squarederror.\n"
          ],
          "name": "stdout"
        },
        {
          "output_type": "stream",
          "text": [
            "\u001b[32m[I 2021-07-18 07:21:45,621]\u001b[0m Trial 660 finished with value: 141.70578157901764 and parameters: {'alpha': 0.008090651821618082, 'lambda': 0.9149534406917365, 'gamma': 1, 'colsample_bytree': 0.5, 'subsample': 0.6, 'learning_rate': 0.1, 'n_estimators': 427, 'max_depth': 7, 'min_child_weight': 6}. Best is trial 71 with value: 130.86829733848572.\u001b[0m\n"
          ],
          "name": "stderr"
        },
        {
          "output_type": "stream",
          "text": [
            "[07:21:45] WARNING: /workspace/src/objective/regression_obj.cu:152: reg:linear is now deprecated in favor of reg:squarederror.\n"
          ],
          "name": "stdout"
        },
        {
          "output_type": "stream",
          "text": [
            "\u001b[32m[I 2021-07-18 07:21:46,396]\u001b[0m Trial 661 finished with value: 131.20732218027115 and parameters: {'alpha': 0.38328224336743083, 'lambda': 8.760262475159058, 'gamma': 0, 'colsample_bytree': 0.5, 'subsample': 0.6, 'learning_rate': 0.08, 'n_estimators': 600, 'max_depth': 7, 'min_child_weight': 1}. Best is trial 71 with value: 130.86829733848572.\u001b[0m\n"
          ],
          "name": "stderr"
        },
        {
          "output_type": "stream",
          "text": [
            "[07:21:46] WARNING: /workspace/src/objective/regression_obj.cu:152: reg:linear is now deprecated in favor of reg:squarederror.\n"
          ],
          "name": "stdout"
        },
        {
          "output_type": "stream",
          "text": [
            "\u001b[32m[I 2021-07-18 07:21:48,416]\u001b[0m Trial 662 finished with value: 135.77539241313934 and parameters: {'alpha': 0.2779040876818476, 'lambda': 0.19343822762479115, 'gamma': 3, 'colsample_bytree': 0.4, 'subsample': 0.6, 'learning_rate': 0.08, 'n_estimators': 559, 'max_depth': 20, 'min_child_weight': 14}. Best is trial 71 with value: 130.86829733848572.\u001b[0m\n"
          ],
          "name": "stderr"
        },
        {
          "output_type": "stream",
          "text": [
            "[07:21:48] WARNING: /workspace/src/objective/regression_obj.cu:152: reg:linear is now deprecated in favor of reg:squarederror.\n"
          ],
          "name": "stdout"
        },
        {
          "output_type": "stream",
          "text": [
            "\u001b[32m[I 2021-07-18 07:21:49,247]\u001b[0m Trial 663 finished with value: 142.57510489225388 and parameters: {'alpha': 0.3282224983106326, 'lambda': 0.29009304903463795, 'gamma': 3, 'colsample_bytree': 0.5, 'subsample': 0.6, 'learning_rate': 0.08, 'n_estimators': 570, 'max_depth': 17, 'min_child_weight': 7}. Best is trial 71 with value: 130.86829733848572.\u001b[0m\n"
          ],
          "name": "stderr"
        },
        {
          "output_type": "stream",
          "text": [
            "[07:21:49] WARNING: /workspace/src/objective/regression_obj.cu:152: reg:linear is now deprecated in favor of reg:squarederror.\n"
          ],
          "name": "stdout"
        },
        {
          "output_type": "stream",
          "text": [
            "\u001b[32m[I 2021-07-18 07:21:50,013]\u001b[0m Trial 664 finished with value: 131.20732218027115 and parameters: {'alpha': 7.919613050795114, 'lambda': 1.1036943854990697, 'gamma': 3, 'colsample_bytree': 0.5, 'subsample': 0.6, 'learning_rate': 0.08, 'n_estimators': 363, 'max_depth': 7, 'min_child_weight': 1}. Best is trial 71 with value: 130.86829733848572.\u001b[0m\n"
          ],
          "name": "stderr"
        },
        {
          "output_type": "stream",
          "text": [
            "[07:21:50] WARNING: /workspace/src/objective/regression_obj.cu:152: reg:linear is now deprecated in favor of reg:squarederror.\n"
          ],
          "name": "stdout"
        },
        {
          "output_type": "stream",
          "text": [
            "\u001b[32m[I 2021-07-18 07:21:50,633]\u001b[0m Trial 665 finished with value: 143.53846514225006 and parameters: {'alpha': 0.29345459177987143, 'lambda': 0.19236195020546226, 'gamma': 3, 'colsample_bytree': 0.6, 'subsample': 0.6, 'learning_rate': 0.08, 'n_estimators': 558, 'max_depth': 5, 'min_child_weight': 18}. Best is trial 71 with value: 130.86829733848572.\u001b[0m\n"
          ],
          "name": "stderr"
        },
        {
          "output_type": "stream",
          "text": [
            "[07:21:50] WARNING: /workspace/src/objective/regression_obj.cu:152: reg:linear is now deprecated in favor of reg:squarederror.\n"
          ],
          "name": "stdout"
        },
        {
          "output_type": "stream",
          "text": [
            "\u001b[32m[I 2021-07-18 07:21:51,609]\u001b[0m Trial 666 finished with value: 131.65404397249222 and parameters: {'alpha': 0.10934986985754745, 'lambda': 0.1175965435785597, 'gamma': 3, 'colsample_bytree': 0.5, 'subsample': 0.6, 'learning_rate': 0.08, 'n_estimators': 541, 'max_depth': 9, 'min_child_weight': 1}. Best is trial 71 with value: 130.86829733848572.\u001b[0m\n"
          ],
          "name": "stderr"
        },
        {
          "output_type": "stream",
          "text": [
            "[07:21:51] WARNING: /workspace/src/objective/regression_obj.cu:152: reg:linear is now deprecated in favor of reg:squarederror.\n"
          ],
          "name": "stdout"
        },
        {
          "output_type": "stream",
          "text": [
            "\u001b[32m[I 2021-07-18 07:21:52,353]\u001b[0m Trial 667 finished with value: 154.6185429096222 and parameters: {'alpha': 5.845021594389894, 'lambda': 3.0490839805750367, 'gamma': 3, 'colsample_bytree': 0.5, 'subsample': 0.6, 'learning_rate': 0.08, 'n_estimators': 214, 'max_depth': 7, 'min_child_weight': 70}. Best is trial 71 with value: 130.86829733848572.\u001b[0m\n"
          ],
          "name": "stderr"
        },
        {
          "output_type": "stream",
          "text": [
            "[07:21:52] WARNING: /workspace/src/objective/regression_obj.cu:152: reg:linear is now deprecated in favor of reg:squarederror.\n"
          ],
          "name": "stdout"
        },
        {
          "output_type": "stream",
          "text": [
            "\u001b[32m[I 2021-07-18 07:21:53,657]\u001b[0m Trial 668 finished with value: 140.16626089811325 and parameters: {'alpha': 6.74183862777735, 'lambda': 1.2615473152649068, 'gamma': 3, 'colsample_bytree': 0.5, 'subsample': 0.6, 'learning_rate': 0.02, 'n_estimators': 589, 'max_depth': 7, 'min_child_weight': 1}. Best is trial 71 with value: 130.86829733848572.\u001b[0m\n"
          ],
          "name": "stderr"
        },
        {
          "output_type": "stream",
          "text": [
            "[07:21:53] WARNING: /workspace/src/objective/regression_obj.cu:152: reg:linear is now deprecated in favor of reg:squarederror.\n"
          ],
          "name": "stdout"
        },
        {
          "output_type": "stream",
          "text": [
            "\u001b[32m[I 2021-07-18 07:21:54,365]\u001b[0m Trial 669 finished with value: 144.57631134986877 and parameters: {'alpha': 4.5270849737453105, 'lambda': 0.42215765562755364, 'gamma': 3, 'colsample_bytree': 0.5, 'subsample': 0.6, 'learning_rate': 0.06, 'n_estimators': 174, 'max_depth': 7, 'min_child_weight': 11}. Best is trial 71 with value: 130.86829733848572.\u001b[0m\n"
          ],
          "name": "stderr"
        },
        {
          "output_type": "stream",
          "text": [
            "[07:21:54] WARNING: /workspace/src/objective/regression_obj.cu:152: reg:linear is now deprecated in favor of reg:squarederror.\n"
          ],
          "name": "stdout"
        },
        {
          "output_type": "stream",
          "text": [
            "\u001b[32m[I 2021-07-18 07:21:55,736]\u001b[0m Trial 670 finished with value: 158.26946139335632 and parameters: {'alpha': 8.500494721990355, 'lambda': 4.602773756043118, 'gamma': 3, 'colsample_bytree': 0.5, 'subsample': 0.5, 'learning_rate': 0.08, 'n_estimators': 578, 'max_depth': 7, 'min_child_weight': 59}. Best is trial 71 with value: 130.86829733848572.\u001b[0m\n"
          ],
          "name": "stderr"
        },
        {
          "output_type": "stream",
          "text": [
            "[07:21:55] WARNING: /workspace/src/objective/regression_obj.cu:152: reg:linear is now deprecated in favor of reg:squarederror.\n"
          ],
          "name": "stdout"
        },
        {
          "output_type": "stream",
          "text": [
            "\u001b[32m[I 2021-07-18 07:21:56,357]\u001b[0m Trial 671 finished with value: 138.03715419769287 and parameters: {'alpha': 0.5105763893145854, 'lambda': 0.4268214571521146, 'gamma': 3, 'colsample_bytree': 0.5, 'subsample': 0.6, 'learning_rate': 0.08, 'n_estimators': 350, 'max_depth': 7, 'min_child_weight': 6}. Best is trial 71 with value: 130.86829733848572.\u001b[0m\n"
          ],
          "name": "stderr"
        },
        {
          "output_type": "stream",
          "text": [
            "[07:21:56] WARNING: /workspace/src/objective/regression_obj.cu:152: reg:linear is now deprecated in favor of reg:squarederror.\n"
          ],
          "name": "stdout"
        },
        {
          "output_type": "stream",
          "text": [
            "\u001b[32m[I 2021-07-18 07:21:57,021]\u001b[0m Trial 672 finished with value: 141.7386726140976 and parameters: {'alpha': 7.041322742679275, 'lambda': 0.8305648336782948, 'gamma': 3, 'colsample_bytree': 0.5, 'subsample': 0.6, 'learning_rate': 0.1, 'n_estimators': 257, 'max_depth': 11, 'min_child_weight': 6}. Best is trial 71 with value: 130.86829733848572.\u001b[0m\n"
          ],
          "name": "stderr"
        },
        {
          "output_type": "stream",
          "text": [
            "[07:21:57] WARNING: /workspace/src/objective/regression_obj.cu:152: reg:linear is now deprecated in favor of reg:squarederror.\n"
          ],
          "name": "stdout"
        },
        {
          "output_type": "stream",
          "text": [
            "\u001b[32m[I 2021-07-18 07:21:57,730]\u001b[0m Trial 673 finished with value: 141.19365894794464 and parameters: {'alpha': 0.010403479917348754, 'lambda': 0.6628630276208809, 'gamma': 2, 'colsample_bytree': 0.5, 'subsample': 0.6, 'learning_rate': 0.08, 'n_estimators': 406, 'max_depth': 7, 'min_child_weight': 15}. Best is trial 71 with value: 130.86829733848572.\u001b[0m\n"
          ],
          "name": "stderr"
        },
        {
          "output_type": "stream",
          "text": [
            "[07:21:57] WARNING: /workspace/src/objective/regression_obj.cu:152: reg:linear is now deprecated in favor of reg:squarederror.\n"
          ],
          "name": "stdout"
        },
        {
          "output_type": "stream",
          "text": [
            "\u001b[32m[I 2021-07-18 07:21:58,505]\u001b[0m Trial 674 finished with value: 131.20732218027115 and parameters: {'alpha': 0.4315695868201351, 'lambda': 0.4079201954465479, 'gamma': 3, 'colsample_bytree': 0.5, 'subsample': 0.6, 'learning_rate': 0.08, 'n_estimators': 595, 'max_depth': 7, 'min_child_weight': 1}. Best is trial 71 with value: 130.86829733848572.\u001b[0m\n"
          ],
          "name": "stderr"
        },
        {
          "output_type": "stream",
          "text": [
            "[07:21:58] WARNING: /workspace/src/objective/regression_obj.cu:152: reg:linear is now deprecated in favor of reg:squarederror.\n"
          ],
          "name": "stdout"
        },
        {
          "output_type": "stream",
          "text": [
            "\u001b[32m[I 2021-07-18 07:21:59,269]\u001b[0m Trial 675 finished with value: 131.20732218027115 and parameters: {'alpha': 0.4160717237726566, 'lambda': 0.42520454679476455, 'gamma': 3, 'colsample_bytree': 0.5, 'subsample': 0.6, 'learning_rate': 0.08, 'n_estimators': 592, 'max_depth': 7, 'min_child_weight': 1}. Best is trial 71 with value: 130.86829733848572.\u001b[0m\n"
          ],
          "name": "stderr"
        },
        {
          "output_type": "stream",
          "text": [
            "[07:21:59] WARNING: /workspace/src/objective/regression_obj.cu:152: reg:linear is now deprecated in favor of reg:squarederror.\n"
          ],
          "name": "stdout"
        },
        {
          "output_type": "stream",
          "text": [
            "\u001b[32m[I 2021-07-18 07:22:00,015]\u001b[0m Trial 676 finished with value: 140.91368275880814 and parameters: {'alpha': 0.31677510075286863, 'lambda': 0.46021000173363275, 'gamma': 3, 'colsample_bytree': 0.9, 'subsample': 0.6, 'learning_rate': 0.08, 'n_estimators': 598, 'max_depth': 7, 'min_child_weight': 1}. Best is trial 71 with value: 130.86829733848572.\u001b[0m\n"
          ],
          "name": "stderr"
        },
        {
          "output_type": "stream",
          "text": [
            "[07:22:00] WARNING: /workspace/src/objective/regression_obj.cu:152: reg:linear is now deprecated in favor of reg:squarederror.\n"
          ],
          "name": "stdout"
        },
        {
          "output_type": "stream",
          "text": [
            "\u001b[32m[I 2021-07-18 07:22:00,654]\u001b[0m Trial 677 finished with value: 140.31526613235474 and parameters: {'alpha': 9.913759767236881, 'lambda': 0.8089877921067254, 'gamma': 3, 'colsample_bytree': 0.5, 'subsample': 0.6, 'learning_rate': 0.08, 'n_estimators': 234, 'max_depth': 7, 'min_child_weight': 11}. Best is trial 71 with value: 130.86829733848572.\u001b[0m\n"
          ],
          "name": "stderr"
        },
        {
          "output_type": "stream",
          "text": [
            "[07:22:00] WARNING: /workspace/src/objective/regression_obj.cu:152: reg:linear is now deprecated in favor of reg:squarederror.\n"
          ],
          "name": "stdout"
        },
        {
          "output_type": "stream",
          "text": [
            "\u001b[32m[I 2021-07-18 07:22:01,117]\u001b[0m Trial 678 finished with value: 283.5330505371094 and parameters: {'alpha': 0.007596938333714562, 'lambda': 9.616836198728539, 'gamma': 3, 'colsample_bytree': 0.7, 'subsample': 0.4, 'learning_rate': 0.08, 'n_estimators': 377, 'max_depth': 7, 'min_child_weight': 300}. Best is trial 71 with value: 130.86829733848572.\u001b[0m\n"
          ],
          "name": "stderr"
        },
        {
          "output_type": "stream",
          "text": [
            "[07:22:01] WARNING: /workspace/src/objective/regression_obj.cu:152: reg:linear is now deprecated in favor of reg:squarederror.\n"
          ],
          "name": "stdout"
        },
        {
          "output_type": "stream",
          "text": [
            "\u001b[32m[I 2021-07-18 07:22:01,838]\u001b[0m Trial 679 finished with value: 139.82073724269867 and parameters: {'alpha': 0.2501632407588357, 'lambda': 0.2190851020691324, 'gamma': 3, 'colsample_bytree': 1.0, 'subsample': 0.8, 'learning_rate': 0.08, 'n_estimators': 551, 'max_depth': 15, 'min_child_weight': 9}. Best is trial 71 with value: 130.86829733848572.\u001b[0m\n"
          ],
          "name": "stderr"
        },
        {
          "output_type": "stream",
          "text": [
            "[07:22:01] WARNING: /workspace/src/objective/regression_obj.cu:152: reg:linear is now deprecated in favor of reg:squarederror.\n"
          ],
          "name": "stdout"
        },
        {
          "output_type": "stream",
          "text": [
            "\u001b[32m[I 2021-07-18 07:22:02,606]\u001b[0m Trial 680 finished with value: 131.20732218027115 and parameters: {'alpha': 8.581809739525626, 'lambda': 0.31745233082239377, 'gamma': 3, 'colsample_bytree': 0.5, 'subsample': 0.6, 'learning_rate': 0.08, 'n_estimators': 359, 'max_depth': 7, 'min_child_weight': 1}. Best is trial 71 with value: 130.86829733848572.\u001b[0m\n"
          ],
          "name": "stderr"
        },
        {
          "output_type": "stream",
          "text": [
            "[07:22:02] WARNING: /workspace/src/objective/regression_obj.cu:152: reg:linear is now deprecated in favor of reg:squarederror.\n"
          ],
          "name": "stdout"
        },
        {
          "output_type": "stream",
          "text": [
            "\u001b[32m[I 2021-07-18 07:22:03,815]\u001b[0m Trial 681 finished with value: 145.24432349205017 and parameters: {'alpha': 0.015530655975620887, 'lambda': 0.08213618331463646, 'gamma': 2, 'colsample_bytree': 0.5, 'subsample': 0.6, 'learning_rate': 0.01, 'n_estimators': 332, 'max_depth': 7, 'min_child_weight': 19}. Best is trial 71 with value: 130.86829733848572.\u001b[0m\n"
          ],
          "name": "stderr"
        },
        {
          "output_type": "stream",
          "text": [
            "[07:22:03] WARNING: /workspace/src/objective/regression_obj.cu:152: reg:linear is now deprecated in favor of reg:squarederror.\n"
          ],
          "name": "stdout"
        },
        {
          "output_type": "stream",
          "text": [
            "\u001b[32m[I 2021-07-18 07:22:04,726]\u001b[0m Trial 682 finished with value: 146.51639318466187 and parameters: {'alpha': 3.9082825137079915, 'lambda': 0.9068439919670083, 'gamma': 3, 'colsample_bytree': 0.5, 'subsample': 0.6, 'learning_rate': 0.1, 'n_estimators': 278, 'max_depth': 7, 'min_child_weight': 121}. Best is trial 71 with value: 130.86829733848572.\u001b[0m\n"
          ],
          "name": "stderr"
        },
        {
          "output_type": "stream",
          "text": [
            "[07:22:04] WARNING: /workspace/src/objective/regression_obj.cu:152: reg:linear is now deprecated in favor of reg:squarederror.\n"
          ],
          "name": "stdout"
        },
        {
          "output_type": "stream",
          "text": [
            "\u001b[32m[I 2021-07-18 07:22:05,332]\u001b[0m Trial 683 finished with value: 140.37446051836014 and parameters: {'alpha': 0.6281653042211975, 'lambda': 1.3407189202831478, 'gamma': 3, 'colsample_bytree': 0.6, 'subsample': 1.0, 'learning_rate': 0.08, 'n_estimators': 340, 'max_depth': 7, 'min_child_weight': 6}. Best is trial 71 with value: 130.86829733848572.\u001b[0m\n"
          ],
          "name": "stderr"
        },
        {
          "output_type": "stream",
          "text": [
            "[07:22:05] WARNING: /workspace/src/objective/regression_obj.cu:152: reg:linear is now deprecated in favor of reg:squarederror.\n"
          ],
          "name": "stdout"
        },
        {
          "output_type": "stream",
          "text": [
            "\u001b[32m[I 2021-07-18 07:22:06,129]\u001b[0m Trial 684 finished with value: 132.8500980734825 and parameters: {'alpha': 1.7501444776359376, 'lambda': 1.7704130822573285, 'gamma': 3, 'colsample_bytree': 0.3, 'subsample': 0.6, 'learning_rate': 0.08, 'n_estimators': 566, 'max_depth': 7, 'min_child_weight': 11}. Best is trial 71 with value: 130.86829733848572.\u001b[0m\n"
          ],
          "name": "stderr"
        },
        {
          "output_type": "stream",
          "text": [
            "[07:22:06] WARNING: /workspace/src/objective/regression_obj.cu:152: reg:linear is now deprecated in favor of reg:squarederror.\n"
          ],
          "name": "stdout"
        },
        {
          "output_type": "stream",
          "text": [
            "\u001b[32m[I 2021-07-18 07:22:06,797]\u001b[0m Trial 685 finished with value: 137.64922213554382 and parameters: {'alpha': 0.2841569869908169, 'lambda': 0.26557729337994923, 'gamma': 3, 'colsample_bytree': 0.5, 'subsample': 0.6, 'learning_rate': 0.08, 'n_estimators': 554, 'max_depth': 11, 'min_child_weight': 6}. Best is trial 71 with value: 130.86829733848572.\u001b[0m\n"
          ],
          "name": "stderr"
        },
        {
          "output_type": "stream",
          "text": [
            "[07:22:06] WARNING: /workspace/src/objective/regression_obj.cu:152: reg:linear is now deprecated in favor of reg:squarederror.\n"
          ],
          "name": "stdout"
        },
        {
          "output_type": "stream",
          "text": [
            "\u001b[32m[I 2021-07-18 07:22:07,437]\u001b[0m Trial 686 finished with value: 129.2410409450531 and parameters: {'alpha': 0.3517646374426383, 'lambda': 6.633061049579097, 'gamma': 3, 'colsample_bytree': 0.5, 'subsample': 0.5, 'learning_rate': 0.08, 'n_estimators': 584, 'max_depth': 5, 'min_child_weight': 1}. Best is trial 686 with value: 129.2410409450531.\u001b[0m\n"
          ],
          "name": "stderr"
        },
        {
          "output_type": "stream",
          "text": [
            "[07:22:07] WARNING: /workspace/src/objective/regression_obj.cu:152: reg:linear is now deprecated in favor of reg:squarederror.\n"
          ],
          "name": "stdout"
        },
        {
          "output_type": "stream",
          "text": [
            "\u001b[32m[I 2021-07-18 07:22:08,072]\u001b[0m Trial 687 finished with value: 129.2410409450531 and parameters: {'alpha': 0.20090853360703584, 'lambda': 6.172774329201229, 'gamma': 3, 'colsample_bytree': 0.5, 'subsample': 0.5, 'learning_rate': 0.08, 'n_estimators': 566, 'max_depth': 5, 'min_child_weight': 1}. Best is trial 686 with value: 129.2410409450531.\u001b[0m\n"
          ],
          "name": "stderr"
        },
        {
          "output_type": "stream",
          "text": [
            "[07:22:08] WARNING: /workspace/src/objective/regression_obj.cu:152: reg:linear is now deprecated in favor of reg:squarederror.\n"
          ],
          "name": "stdout"
        },
        {
          "output_type": "stream",
          "text": [
            "\u001b[32m[I 2021-07-18 07:22:08,941]\u001b[0m Trial 688 finished with value: 146.2081596851349 and parameters: {'alpha': 0.3826579895140943, 'lambda': 6.567809467333433, 'gamma': 3, 'colsample_bytree': 0.5, 'subsample': 0.5, 'learning_rate': 0.08, 'n_estimators': 366, 'max_depth': 5, 'min_child_weight': 26}. Best is trial 686 with value: 129.2410409450531.\u001b[0m\n"
          ],
          "name": "stderr"
        },
        {
          "output_type": "stream",
          "text": [
            "[07:22:08] WARNING: /workspace/src/objective/regression_obj.cu:152: reg:linear is now deprecated in favor of reg:squarederror.\n"
          ],
          "name": "stdout"
        },
        {
          "output_type": "stream",
          "text": [
            "\u001b[32m[I 2021-07-18 07:22:09,852]\u001b[0m Trial 689 finished with value: 141.16250801086426 and parameters: {'alpha': 0.13168556085275562, 'lambda': 0.09828816307387654, 'gamma': 3, 'colsample_bytree': 0.5, 'subsample': 0.5, 'learning_rate': 0.08, 'n_estimators': 539, 'max_depth': 5, 'min_child_weight': 17}. Best is trial 686 with value: 129.2410409450531.\u001b[0m\n"
          ],
          "name": "stderr"
        },
        {
          "output_type": "stream",
          "text": [
            "[07:22:09] WARNING: /workspace/src/objective/regression_obj.cu:152: reg:linear is now deprecated in favor of reg:squarederror.\n"
          ],
          "name": "stdout"
        },
        {
          "output_type": "stream",
          "text": [
            "\u001b[32m[I 2021-07-18 07:22:10,485]\u001b[0m Trial 690 finished with value: 129.2410409450531 and parameters: {'alpha': 5.729280696091083, 'lambda': 7.409198204858347, 'gamma': 3, 'colsample_bytree': 0.5, 'subsample': 0.5, 'learning_rate': 0.08, 'n_estimators': 237, 'max_depth': 5, 'min_child_weight': 1}. Best is trial 686 with value: 129.2410409450531.\u001b[0m\n"
          ],
          "name": "stderr"
        },
        {
          "output_type": "stream",
          "text": [
            "[07:22:10] WARNING: /workspace/src/objective/regression_obj.cu:152: reg:linear is now deprecated in favor of reg:squarederror.\n"
          ],
          "name": "stdout"
        },
        {
          "output_type": "stream",
          "text": [
            "\u001b[32m[I 2021-07-18 07:22:11,033]\u001b[0m Trial 691 finished with value: 144.0843861103058 and parameters: {'alpha': 0.23241389061780557, 'lambda': 7.396245882314477, 'gamma': 3, 'colsample_bytree': 0.5, 'subsample': 0.5, 'learning_rate': 0.08, 'n_estimators': 567, 'max_depth': 5, 'min_child_weight': 7}. Best is trial 686 with value: 129.2410409450531.\u001b[0m\n"
          ],
          "name": "stderr"
        },
        {
          "output_type": "stream",
          "text": [
            "[07:22:11] WARNING: /workspace/src/objective/regression_obj.cu:152: reg:linear is now deprecated in favor of reg:squarederror.\n"
          ],
          "name": "stdout"
        },
        {
          "output_type": "stream",
          "text": [
            "\u001b[32m[I 2021-07-18 07:22:11,603]\u001b[0m Trial 692 finished with value: 132.7382538318634 and parameters: {'alpha': 2.8973204734040654, 'lambda': 9.212069035764518, 'gamma': 3, 'colsample_bytree': 0.5, 'subsample': 0.5, 'learning_rate': 0.1, 'n_estimators': 586, 'max_depth': 5, 'min_child_weight': 1}. Best is trial 686 with value: 129.2410409450531.\u001b[0m\n"
          ],
          "name": "stderr"
        },
        {
          "output_type": "stream",
          "text": [
            "[07:22:11] WARNING: /workspace/src/objective/regression_obj.cu:152: reg:linear is now deprecated in favor of reg:squarederror.\n"
          ],
          "name": "stdout"
        },
        {
          "output_type": "stream",
          "text": [
            "\u001b[32m[I 2021-07-18 07:22:12,245]\u001b[0m Trial 693 finished with value: 129.2410409450531 and parameters: {'alpha': 4.698444561555254, 'lambda': 6.894300016598404, 'gamma': 3, 'colsample_bytree': 0.5, 'subsample': 0.5, 'learning_rate': 0.08, 'n_estimators': 250, 'max_depth': 5, 'min_child_weight': 1}. Best is trial 686 with value: 129.2410409450531.\u001b[0m\n"
          ],
          "name": "stderr"
        },
        {
          "output_type": "stream",
          "text": [
            "[07:22:12] WARNING: /workspace/src/objective/regression_obj.cu:152: reg:linear is now deprecated in favor of reg:squarederror.\n"
          ],
          "name": "stdout"
        },
        {
          "output_type": "stream",
          "text": [
            "\u001b[32m[I 2021-07-18 07:22:12,916]\u001b[0m Trial 694 finished with value: 146.14393961429596 and parameters: {'alpha': 0.337908420876677, 'lambda': 4.949720175000741, 'gamma': 3, 'colsample_bytree': 0.5, 'subsample': 0.5, 'learning_rate': 0.08, 'n_estimators': 580, 'max_depth': 5, 'min_child_weight': 12}. Best is trial 686 with value: 129.2410409450531.\u001b[0m\n"
          ],
          "name": "stderr"
        },
        {
          "output_type": "stream",
          "text": [
            "[07:22:12] WARNING: /workspace/src/objective/regression_obj.cu:152: reg:linear is now deprecated in favor of reg:squarederror.\n"
          ],
          "name": "stdout"
        },
        {
          "output_type": "stream",
          "text": [
            "\u001b[32m[I 2021-07-18 07:22:13,554]\u001b[0m Trial 695 finished with value: 129.2410409450531 and parameters: {'alpha': 9.961236627752994, 'lambda': 8.958066978049436, 'gamma': 3, 'colsample_bytree': 0.5, 'subsample': 0.5, 'learning_rate': 0.08, 'n_estimators': 244, 'max_depth': 5, 'min_child_weight': 1}. Best is trial 686 with value: 129.2410409450531.\u001b[0m\n"
          ],
          "name": "stderr"
        },
        {
          "output_type": "stream",
          "text": [
            "[07:22:13] WARNING: /workspace/src/objective/regression_obj.cu:152: reg:linear is now deprecated in favor of reg:squarederror.\n"
          ],
          "name": "stdout"
        },
        {
          "output_type": "stream",
          "text": [
            "\u001b[32m[I 2021-07-18 07:22:14,162]\u001b[0m Trial 696 finished with value: 146.6850209236145 and parameters: {'alpha': 4.584359257737096, 'lambda': 7.40865167613474, 'gamma': 3, 'colsample_bytree': 0.4, 'subsample': 0.5, 'learning_rate': 0.08, 'n_estimators': 252, 'max_depth': 5, 'min_child_weight': 7}. Best is trial 686 with value: 129.2410409450531.\u001b[0m\n"
          ],
          "name": "stderr"
        },
        {
          "output_type": "stream",
          "text": [
            "[07:22:14] WARNING: /workspace/src/objective/regression_obj.cu:152: reg:linear is now deprecated in favor of reg:squarederror.\n"
          ],
          "name": "stdout"
        },
        {
          "output_type": "stream",
          "text": [
            "\u001b[32m[I 2021-07-18 07:22:14,927]\u001b[0m Trial 697 finished with value: 144.67903983592987 and parameters: {'alpha': 9.890342482716605, 'lambda': 7.335176457522469, 'gamma': 0, 'colsample_bytree': 0.5, 'subsample': 0.5, 'learning_rate': 0.08, 'n_estimators': 223, 'max_depth': 5, 'min_child_weight': 15}. Best is trial 686 with value: 129.2410409450531.\u001b[0m\n"
          ],
          "name": "stderr"
        },
        {
          "output_type": "stream",
          "text": [
            "[07:22:14] WARNING: /workspace/src/objective/regression_obj.cu:152: reg:linear is now deprecated in favor of reg:squarederror.\n"
          ],
          "name": "stdout"
        },
        {
          "output_type": "stream",
          "text": [
            "\u001b[32m[I 2021-07-18 07:22:15,373]\u001b[0m Trial 698 finished with value: 283.5330505371094 and parameters: {'alpha': 0.5684754915425785, 'lambda': 6.183105735391288, 'gamma': 3, 'colsample_bytree': 0.8, 'subsample': 0.5, 'learning_rate': 0.08, 'n_estimators': 229, 'max_depth': 5, 'min_child_weight': 189}. Best is trial 686 with value: 129.2410409450531.\u001b[0m\n"
          ],
          "name": "stderr"
        },
        {
          "output_type": "stream",
          "text": [
            "[07:22:15] WARNING: /workspace/src/objective/regression_obj.cu:152: reg:linear is now deprecated in favor of reg:squarederror.\n"
          ],
          "name": "stdout"
        },
        {
          "output_type": "stream",
          "text": [
            "\u001b[32m[I 2021-07-18 07:22:15,924]\u001b[0m Trial 699 finished with value: 144.0843861103058 and parameters: {'alpha': 0.21255093040956774, 'lambda': 7.510364394172416, 'gamma': 3, 'colsample_bytree': 0.5, 'subsample': 0.5, 'learning_rate': 0.08, 'n_estimators': 568, 'max_depth': 5, 'min_child_weight': 7}. Best is trial 686 with value: 129.2410409450531.\u001b[0m\n"
          ],
          "name": "stderr"
        },
        {
          "output_type": "stream",
          "text": [
            "[07:22:15] WARNING: /workspace/src/objective/regression_obj.cu:152: reg:linear is now deprecated in favor of reg:squarederror.\n"
          ],
          "name": "stdout"
        },
        {
          "output_type": "stream",
          "text": [
            "\u001b[32m[I 2021-07-18 07:22:16,565]\u001b[0m Trial 700 finished with value: 144.09073638916016 and parameters: {'alpha': 9.695206780377903, 'lambda': 9.512435740806572, 'gamma': 3, 'colsample_bytree': 0.5, 'subsample': 0.5, 'learning_rate': 0.06, 'n_estimators': 264, 'max_depth': 5, 'min_child_weight': 6}. Best is trial 686 with value: 129.2410409450531.\u001b[0m\n"
          ],
          "name": "stderr"
        },
        {
          "output_type": "stream",
          "text": [
            "[07:22:16] WARNING: /workspace/src/objective/regression_obj.cu:152: reg:linear is now deprecated in favor of reg:squarederror.\n"
          ],
          "name": "stdout"
        },
        {
          "output_type": "stream",
          "text": [
            "\u001b[32m[I 2021-07-18 07:22:17,565]\u001b[0m Trial 701 finished with value: 138.1928107738495 and parameters: {'alpha': 0.3621771558632382, 'lambda': 7.953181645502541, 'gamma': 3, 'colsample_bytree': 0.6, 'subsample': 0.5, 'learning_rate': 0.02, 'n_estimators': 585, 'max_depth': 5, 'min_child_weight': 1}. Best is trial 686 with value: 129.2410409450531.\u001b[0m\n"
          ],
          "name": "stderr"
        },
        {
          "output_type": "stream",
          "text": [
            "[07:22:17] WARNING: /workspace/src/objective/regression_obj.cu:152: reg:linear is now deprecated in favor of reg:squarederror.\n"
          ],
          "name": "stdout"
        },
        {
          "output_type": "stream",
          "text": [
            "\u001b[32m[I 2021-07-18 07:22:18,412]\u001b[0m Trial 702 finished with value: 139.94093132019043 and parameters: {'alpha': 0.797539823104044, 'lambda': 8.770601756683162, 'gamma': 3, 'colsample_bytree': 0.5, 'subsample': 0.5, 'learning_rate': 0.08, 'n_estimators': 252, 'max_depth': 5, 'min_child_weight': 85}. Best is trial 686 with value: 129.2410409450531.\u001b[0m\n"
          ],
          "name": "stderr"
        },
        {
          "output_type": "stream",
          "text": [
            "[07:22:18] WARNING: /workspace/src/objective/regression_obj.cu:152: reg:linear is now deprecated in favor of reg:squarederror.\n"
          ],
          "name": "stdout"
        },
        {
          "output_type": "stream",
          "text": [
            "\u001b[32m[I 2021-07-18 07:22:18,978]\u001b[0m Trial 703 finished with value: 132.7382538318634 and parameters: {'alpha': 5.202371031883434, 'lambda': 0.5487615755916012, 'gamma': 3, 'colsample_bytree': 0.5, 'subsample': 0.5, 'learning_rate': 0.1, 'n_estimators': 269, 'max_depth': 5, 'min_child_weight': 1}. Best is trial 686 with value: 129.2410409450531.\u001b[0m\n"
          ],
          "name": "stderr"
        },
        {
          "output_type": "stream",
          "text": [
            "[07:22:19] WARNING: /workspace/src/objective/regression_obj.cu:152: reg:linear is now deprecated in favor of reg:squarederror.\n"
          ],
          "name": "stdout"
        },
        {
          "output_type": "stream",
          "text": [
            "\u001b[32m[I 2021-07-18 07:22:19,613]\u001b[0m Trial 704 finished with value: 129.2410409450531 and parameters: {'alpha': 0.46675795064281816, 'lambda': 7.04372462321155, 'gamma': 3, 'colsample_bytree': 0.5, 'subsample': 0.5, 'learning_rate': 0.08, 'n_estimators': 575, 'max_depth': 5, 'min_child_weight': 1}. Best is trial 686 with value: 129.2410409450531.\u001b[0m\n"
          ],
          "name": "stderr"
        },
        {
          "output_type": "stream",
          "text": [
            "[07:22:19] WARNING: /workspace/src/objective/regression_obj.cu:152: reg:linear is now deprecated in favor of reg:squarederror.\n"
          ],
          "name": "stdout"
        },
        {
          "output_type": "stream",
          "text": [
            "\u001b[32m[I 2021-07-18 07:22:20,283]\u001b[0m Trial 705 finished with value: 146.14393961429596 and parameters: {'alpha': 0.41184565702850123, 'lambda': 9.70855509916027, 'gamma': 3, 'colsample_bytree': 0.5, 'subsample': 0.5, 'learning_rate': 0.08, 'n_estimators': 588, 'max_depth': 5, 'min_child_weight': 12}. Best is trial 686 with value: 129.2410409450531.\u001b[0m\n"
          ],
          "name": "stderr"
        },
        {
          "output_type": "stream",
          "text": [
            "[07:22:20] WARNING: /workspace/src/objective/regression_obj.cu:152: reg:linear is now deprecated in favor of reg:squarederror.\n"
          ],
          "name": "stdout"
        },
        {
          "output_type": "stream",
          "text": [
            "\u001b[32m[I 2021-07-18 07:22:20,825]\u001b[0m Trial 706 finished with value: 129.2410409450531 and parameters: {'alpha': 3.7029778387620698, 'lambda': 5.838682471545931, 'gamma': 0, 'colsample_bytree': 0.5, 'subsample': 0.5, 'learning_rate': 0.08, 'n_estimators': 120, 'max_depth': 5, 'min_child_weight': 1}. Best is trial 686 with value: 129.2410409450531.\u001b[0m\n"
          ],
          "name": "stderr"
        },
        {
          "output_type": "stream",
          "text": [
            "[07:22:20] WARNING: /workspace/src/objective/regression_obj.cu:152: reg:linear is now deprecated in favor of reg:squarederror.\n"
          ],
          "name": "stdout"
        },
        {
          "output_type": "stream",
          "text": [
            "\u001b[32m[I 2021-07-18 07:22:21,430]\u001b[0m Trial 707 finished with value: 142.67223501205444 and parameters: {'alpha': 0.4343737393458646, 'lambda': 6.656072879518698, 'gamma': 0, 'colsample_bytree': 0.5, 'subsample': 0.5, 'learning_rate': 0.08, 'n_estimators': 158, 'max_depth': 5, 'min_child_weight': 20}. Best is trial 686 with value: 129.2410409450531.\u001b[0m\n"
          ],
          "name": "stderr"
        },
        {
          "output_type": "stream",
          "text": [
            "[07:22:21] WARNING: /workspace/src/objective/regression_obj.cu:152: reg:linear is now deprecated in favor of reg:squarederror.\n"
          ],
          "name": "stdout"
        },
        {
          "output_type": "stream",
          "text": [
            "\u001b[32m[I 2021-07-18 07:22:22,494]\u001b[0m Trial 708 finished with value: 136.91692805290222 and parameters: {'alpha': 7.337475796316986, 'lambda': 5.81139770176574, 'gamma': 0, 'colsample_bytree': 0.5, 'subsample': 0.5, 'learning_rate': 0.01, 'n_estimators': 260, 'max_depth': 5, 'min_child_weight': 1}. Best is trial 686 with value: 129.2410409450531.\u001b[0m\n"
          ],
          "name": "stderr"
        },
        {
          "output_type": "stream",
          "text": [
            "[07:22:22] WARNING: /workspace/src/objective/regression_obj.cu:152: reg:linear is now deprecated in favor of reg:squarederror.\n"
          ],
          "name": "stdout"
        },
        {
          "output_type": "stream",
          "text": [
            "\u001b[32m[I 2021-07-18 07:22:23,030]\u001b[0m Trial 709 finished with value: 135.08779573440552 and parameters: {'alpha': 0.30396514076936, 'lambda': 5.243433131982786, 'gamma': 3, 'colsample_bytree': 0.9, 'subsample': 0.5, 'learning_rate': 0.08, 'n_estimators': 576, 'max_depth': 5, 'min_child_weight': 11}. Best is trial 686 with value: 129.2410409450531.\u001b[0m\n"
          ],
          "name": "stderr"
        },
        {
          "output_type": "stream",
          "text": [
            "[07:22:23] WARNING: /workspace/src/objective/regression_obj.cu:152: reg:linear is now deprecated in favor of reg:squarederror.\n"
          ],
          "name": "stdout"
        },
        {
          "output_type": "stream",
          "text": [
            "\u001b[32m[I 2021-07-18 07:22:23,542]\u001b[0m Trial 710 finished with value: 140.94452488422394 and parameters: {'alpha': 3.822987310248393, 'lambda': 5.297705858793301, 'gamma': 0, 'colsample_bytree': 0.5, 'subsample': 0.5, 'learning_rate': 0.08, 'n_estimators': 121, 'max_depth': 5, 'min_child_weight': 6}. Best is trial 686 with value: 129.2410409450531.\u001b[0m\n"
          ],
          "name": "stderr"
        },
        {
          "output_type": "stream",
          "text": [
            "[07:22:23] WARNING: /workspace/src/objective/regression_obj.cu:152: reg:linear is now deprecated in favor of reg:squarederror.\n"
          ],
          "name": "stdout"
        },
        {
          "output_type": "stream",
          "text": [
            "\u001b[32m[I 2021-07-18 07:22:24,176]\u001b[0m Trial 711 finished with value: 129.2410409450531 and parameters: {'alpha': 0.5950539830752193, 'lambda': 7.673897313538194, 'gamma': 3, 'colsample_bytree': 0.5, 'subsample': 0.5, 'learning_rate': 0.08, 'n_estimators': 350, 'max_depth': 5, 'min_child_weight': 1}. Best is trial 686 with value: 129.2410409450531.\u001b[0m\n"
          ],
          "name": "stderr"
        },
        {
          "output_type": "stream",
          "text": [
            "[07:22:24] WARNING: /workspace/src/objective/regression_obj.cu:152: reg:linear is now deprecated in favor of reg:squarederror.\n"
          ],
          "name": "stdout"
        },
        {
          "output_type": "stream",
          "text": [
            "\u001b[32m[I 2021-07-18 07:22:24,750]\u001b[0m Trial 712 finished with value: 141.44781482219696 and parameters: {'alpha': 3.8575486870405014, 'lambda': 7.011619657656045, 'gamma': 1, 'colsample_bytree': 1.0, 'subsample': 0.5, 'learning_rate': 0.08, 'n_estimators': 241, 'max_depth': 5, 'min_child_weight': 15}. Best is trial 686 with value: 129.2410409450531.\u001b[0m\n"
          ],
          "name": "stderr"
        },
        {
          "output_type": "stream",
          "text": [
            "[07:22:24] WARNING: /workspace/src/objective/regression_obj.cu:152: reg:linear is now deprecated in favor of reg:squarederror.\n"
          ],
          "name": "stdout"
        },
        {
          "output_type": "stream",
          "text": [
            "\u001b[32m[I 2021-07-18 07:22:25,300]\u001b[0m Trial 713 finished with value: 144.0843861103058 and parameters: {'alpha': 0.652412589760162, 'lambda': 8.07366881036359, 'gamma': 1, 'colsample_bytree': 0.5, 'subsample': 0.5, 'learning_rate': 0.08, 'n_estimators': 346, 'max_depth': 5, 'min_child_weight': 7}. Best is trial 686 with value: 129.2410409450531.\u001b[0m\n"
          ],
          "name": "stderr"
        },
        {
          "output_type": "stream",
          "text": [
            "[07:22:25] WARNING: /workspace/src/objective/regression_obj.cu:152: reg:linear is now deprecated in favor of reg:squarederror.\n"
          ],
          "name": "stdout"
        },
        {
          "output_type": "stream",
          "text": [
            "\u001b[32m[I 2021-07-18 07:22:25,872]\u001b[0m Trial 714 finished with value: 132.7382538318634 and parameters: {'alpha': 0.6981422403533527, 'lambda': 6.363060047863934, 'gamma': 3, 'colsample_bytree': 0.5, 'subsample': 0.5, 'learning_rate': 0.1, 'n_estimators': 337, 'max_depth': 5, 'min_child_weight': 1}. Best is trial 686 with value: 129.2410409450531.\u001b[0m\n"
          ],
          "name": "stderr"
        },
        {
          "output_type": "stream",
          "text": [
            "[07:22:25] WARNING: /workspace/src/objective/regression_obj.cu:152: reg:linear is now deprecated in favor of reg:squarederror.\n"
          ],
          "name": "stdout"
        },
        {
          "output_type": "stream",
          "text": [
            "\u001b[32m[I 2021-07-18 07:22:26,514]\u001b[0m Trial 715 finished with value: 145.49757432937622 and parameters: {'alpha': 0.0010349234068253153, 'lambda': 4.211914804959897, 'gamma': 0, 'colsample_bytree': 0.5, 'subsample': 0.5, 'learning_rate': 0.08, 'n_estimators': 322, 'max_depth': 5, 'min_child_weight': 11}. Best is trial 686 with value: 129.2410409450531.\u001b[0m\n"
          ],
          "name": "stderr"
        },
        {
          "output_type": "stream",
          "text": [
            "[07:22:26] WARNING: /workspace/src/objective/regression_obj.cu:152: reg:linear is now deprecated in favor of reg:squarederror.\n"
          ],
          "name": "stdout"
        },
        {
          "output_type": "stream",
          "text": [
            "\u001b[32m[I 2021-07-18 07:22:27,056]\u001b[0m Trial 716 finished with value: 144.7971920967102 and parameters: {'alpha': 5.5910347221027905, 'lambda': 8.200942818054106, 'gamma': 0, 'colsample_bytree': 0.7, 'subsample': 0.5, 'learning_rate': 0.08, 'n_estimators': 140, 'max_depth': 5, 'min_child_weight': 23}. Best is trial 686 with value: 129.2410409450531.\u001b[0m\n"
          ],
          "name": "stderr"
        },
        {
          "output_type": "stream",
          "text": [
            "[07:22:27] WARNING: /workspace/src/objective/regression_obj.cu:152: reg:linear is now deprecated in favor of reg:squarederror.\n"
          ],
          "name": "stdout"
        },
        {
          "output_type": "stream",
          "text": [
            "\u001b[32m[I 2021-07-18 07:22:27,451]\u001b[0m Trial 717 finished with value: 151.89269018173218 and parameters: {'alpha': 9.512777632587921, 'lambda': 6.4433439643686645, 'gamma': 3, 'colsample_bytree': 0.5, 'subsample': 0.5, 'learning_rate': 0.08, 'n_estimators': 107, 'max_depth': 5, 'min_child_weight': 98}. Best is trial 686 with value: 129.2410409450531.\u001b[0m\n"
          ],
          "name": "stderr"
        },
        {
          "output_type": "stream",
          "text": [
            "[07:22:27] WARNING: /workspace/src/objective/regression_obj.cu:152: reg:linear is now deprecated in favor of reg:squarederror.\n"
          ],
          "name": "stdout"
        },
        {
          "output_type": "stream",
          "text": [
            "\u001b[32m[I 2021-07-18 07:22:28,103]\u001b[0m Trial 718 finished with value: 143.92501962184906 and parameters: {'alpha': 0.16093043283522035, 'lambda': 9.762609876511643, 'gamma': 3, 'colsample_bytree': 0.3, 'subsample': 0.5, 'learning_rate': 0.08, 'n_estimators': 562, 'max_depth': 5, 'min_child_weight': 7}. Best is trial 686 with value: 129.2410409450531.\u001b[0m\n"
          ],
          "name": "stderr"
        },
        {
          "output_type": "stream",
          "text": [
            "[07:22:28] WARNING: /workspace/src/objective/regression_obj.cu:152: reg:linear is now deprecated in favor of reg:squarederror.\n"
          ],
          "name": "stdout"
        },
        {
          "output_type": "stream",
          "text": [
            "\u001b[32m[I 2021-07-18 07:22:28,740]\u001b[0m Trial 719 finished with value: 129.2410409450531 and parameters: {'alpha': 0.7870544332676979, 'lambda': 7.673566427078137, 'gamma': 0, 'colsample_bytree': 0.5, 'subsample': 0.5, 'learning_rate': 0.08, 'n_estimators': 333, 'max_depth': 5, 'min_child_weight': 1}. Best is trial 686 with value: 129.2410409450531.\u001b[0m\n"
          ],
          "name": "stderr"
        },
        {
          "output_type": "stream",
          "text": [
            "[07:22:28] WARNING: /workspace/src/objective/regression_obj.cu:152: reg:linear is now deprecated in favor of reg:squarederror.\n"
          ],
          "name": "stdout"
        },
        {
          "output_type": "stream",
          "text": [
            "\u001b[32m[I 2021-07-18 07:22:29,328]\u001b[0m Trial 720 finished with value: 151.49955022335052 and parameters: {'alpha': 0.028960034088457084, 'lambda': 5.4290834015313125, 'gamma': 0, 'colsample_bytree': 0.6, 'subsample': 0.5, 'learning_rate': 0.08, 'n_estimators': 248, 'max_depth': 5, 'min_child_weight': 14}. Best is trial 686 with value: 129.2410409450531.\u001b[0m\n"
          ],
          "name": "stderr"
        },
        {
          "output_type": "stream",
          "text": [
            "[07:22:29] WARNING: /workspace/src/objective/regression_obj.cu:152: reg:linear is now deprecated in favor of reg:squarederror.\n"
          ],
          "name": "stdout"
        },
        {
          "output_type": "stream",
          "text": [
            "\u001b[32m[I 2021-07-18 07:22:29,886]\u001b[0m Trial 721 finished with value: 144.0843861103058 and parameters: {'alpha': 0.9623255815772899, 'lambda': 7.796350866999631, 'gamma': 3, 'colsample_bytree': 0.5, 'subsample': 0.5, 'learning_rate': 0.08, 'n_estimators': 558, 'max_depth': 5, 'min_child_weight': 7}. Best is trial 686 with value: 129.2410409450531.\u001b[0m\n"
          ],
          "name": "stderr"
        },
        {
          "output_type": "stream",
          "text": [
            "[07:22:29] WARNING: /workspace/src/objective/regression_obj.cu:152: reg:linear is now deprecated in favor of reg:squarederror.\n"
          ],
          "name": "stdout"
        },
        {
          "output_type": "stream",
          "text": [
            "\u001b[32m[I 2021-07-18 07:22:30,495]\u001b[0m Trial 722 finished with value: 140.94452488422394 and parameters: {'alpha': 2.6116596064798223, 'lambda': 7.441909236871745, 'gamma': 0, 'colsample_bytree': 0.5, 'subsample': 0.5, 'learning_rate': 0.08, 'n_estimators': 307, 'max_depth': 5, 'min_child_weight': 6}. Best is trial 686 with value: 129.2410409450531.\u001b[0m\n"
          ],
          "name": "stderr"
        },
        {
          "output_type": "stream",
          "text": [
            "[07:22:30] WARNING: /workspace/src/objective/regression_obj.cu:152: reg:linear is now deprecated in favor of reg:squarederror.\n"
          ],
          "name": "stdout"
        },
        {
          "output_type": "stream",
          "text": [
            "\u001b[32m[I 2021-07-18 07:22:31,062]\u001b[0m Trial 723 finished with value: 132.7382538318634 and parameters: {'alpha': 0.8007160475564408, 'lambda': 3.455572419874534, 'gamma': 0, 'colsample_bytree': 0.5, 'subsample': 0.5, 'learning_rate': 0.1, 'n_estimators': 252, 'max_depth': 5, 'min_child_weight': 1}. Best is trial 686 with value: 129.2410409450531.\u001b[0m\n"
          ],
          "name": "stderr"
        },
        {
          "output_type": "stream",
          "text": [
            "[07:22:31] WARNING: /workspace/src/objective/regression_obj.cu:152: reg:linear is now deprecated in favor of reg:squarederror.\n"
          ],
          "name": "stdout"
        },
        {
          "output_type": "stream",
          "text": [
            "\u001b[32m[I 2021-07-18 07:22:31,698]\u001b[0m Trial 724 finished with value: 129.2410409450531 and parameters: {'alpha': 8.154983625368223, 'lambda': 9.721920726312115, 'gamma': 0, 'colsample_bytree': 0.5, 'subsample': 0.5, 'learning_rate': 0.08, 'n_estimators': 244, 'max_depth': 5, 'min_child_weight': 1}. Best is trial 686 with value: 129.2410409450531.\u001b[0m\n"
          ],
          "name": "stderr"
        },
        {
          "output_type": "stream",
          "text": [
            "[07:22:31] WARNING: /workspace/src/objective/regression_obj.cu:152: reg:linear is now deprecated in favor of reg:squarederror.\n"
          ],
          "name": "stdout"
        },
        {
          "output_type": "stream",
          "text": [
            "\u001b[32m[I 2021-07-18 07:22:32,571]\u001b[0m Trial 725 finished with value: 142.1708698272705 and parameters: {'alpha': 1.1925753108887396, 'lambda': 6.2706185192345965, 'gamma': 0, 'colsample_bytree': 0.5, 'subsample': 0.5, 'learning_rate': 0.08, 'n_estimators': 239, 'max_depth': 5, 'min_child_weight': 18}. Best is trial 686 with value: 129.2410409450531.\u001b[0m\n"
          ],
          "name": "stderr"
        },
        {
          "output_type": "stream",
          "text": [
            "[07:22:32] WARNING: /workspace/src/objective/regression_obj.cu:152: reg:linear is now deprecated in favor of reg:squarederror.\n"
          ],
          "name": "stdout"
        },
        {
          "output_type": "stream",
          "text": [
            "\u001b[32m[I 2021-07-18 07:22:33,207]\u001b[0m Trial 726 finished with value: 129.2410409450531 and parameters: {'alpha': 0.5975017839576812, 'lambda': 9.93548834585817, 'gamma': 0, 'colsample_bytree': 0.5, 'subsample': 0.5, 'learning_rate': 0.08, 'n_estimators': 371, 'max_depth': 5, 'min_child_weight': 1}. Best is trial 686 with value: 129.2410409450531.\u001b[0m\n"
          ],
          "name": "stderr"
        },
        {
          "output_type": "stream",
          "text": [
            "[07:22:33] WARNING: /workspace/src/objective/regression_obj.cu:152: reg:linear is now deprecated in favor of reg:squarederror.\n"
          ],
          "name": "stdout"
        },
        {
          "output_type": "stream",
          "text": [
            "\u001b[32m[I 2021-07-18 07:22:33,846]\u001b[0m Trial 727 finished with value: 129.2410409450531 and parameters: {'alpha': 0.5293034664211622, 'lambda': 4.484734600129655, 'gamma': 0, 'colsample_bytree': 0.5, 'subsample': 0.5, 'learning_rate': 0.08, 'n_estimators': 245, 'max_depth': 5, 'min_child_weight': 1}. Best is trial 686 with value: 129.2410409450531.\u001b[0m\n"
          ],
          "name": "stderr"
        },
        {
          "output_type": "stream",
          "text": [
            "[07:22:33] WARNING: /workspace/src/objective/regression_obj.cu:152: reg:linear is now deprecated in favor of reg:squarederror.\n"
          ],
          "name": "stdout"
        },
        {
          "output_type": "stream",
          "text": [
            "\u001b[32m[I 2021-07-18 07:22:34,495]\u001b[0m Trial 728 finished with value: 145.49757432937622 and parameters: {'alpha': 0.5777388931155804, 'lambda': 5.020045264148294, 'gamma': 0, 'colsample_bytree': 0.5, 'subsample': 0.5, 'learning_rate': 0.08, 'n_estimators': 259, 'max_depth': 5, 'min_child_weight': 11}. Best is trial 686 with value: 129.2410409450531.\u001b[0m\n"
          ],
          "name": "stderr"
        },
        {
          "output_type": "stream",
          "text": [
            "[07:22:34] WARNING: /workspace/src/objective/regression_obj.cu:152: reg:linear is now deprecated in favor of reg:squarederror.\n"
          ],
          "name": "stdout"
        },
        {
          "output_type": "stream",
          "text": [
            "\u001b[32m[I 2021-07-18 07:22:35,128]\u001b[0m Trial 729 finished with value: 129.2410409450531 and parameters: {'alpha': 0.7711409585589691, 'lambda': 9.263832650833699, 'gamma': 0, 'colsample_bytree': 0.5, 'subsample': 0.5, 'learning_rate': 0.08, 'n_estimators': 369, 'max_depth': 5, 'min_child_weight': 1}. Best is trial 686 with value: 129.2410409450531.\u001b[0m\n"
          ],
          "name": "stderr"
        },
        {
          "output_type": "stream",
          "text": [
            "[07:22:35] WARNING: /workspace/src/objective/regression_obj.cu:152: reg:linear is now deprecated in favor of reg:squarederror.\n"
          ],
          "name": "stdout"
        },
        {
          "output_type": "stream",
          "text": [
            "\u001b[32m[I 2021-07-18 07:22:35,677]\u001b[0m Trial 730 finished with value: 144.0843861103058 and parameters: {'alpha': 0.8904369151960272, 'lambda': 9.330054885422859, 'gamma': 0, 'colsample_bytree': 0.5, 'subsample': 0.5, 'learning_rate': 0.08, 'n_estimators': 353, 'max_depth': 5, 'min_child_weight': 7}. Best is trial 686 with value: 129.2410409450531.\u001b[0m\n"
          ],
          "name": "stderr"
        },
        {
          "output_type": "stream",
          "text": [
            "[07:22:35] WARNING: /workspace/src/objective/regression_obj.cu:152: reg:linear is now deprecated in favor of reg:squarederror.\n"
          ],
          "name": "stdout"
        },
        {
          "output_type": "stream",
          "text": [
            "\u001b[32m[I 2021-07-18 07:22:36,316]\u001b[0m Trial 731 finished with value: 129.2410409450531 and parameters: {'alpha': 0.521094614679966, 'lambda': 9.957760093043577, 'gamma': 0, 'colsample_bytree': 0.5, 'subsample': 0.5, 'learning_rate': 0.08, 'n_estimators': 358, 'max_depth': 5, 'min_child_weight': 1}. Best is trial 686 with value: 129.2410409450531.\u001b[0m\n"
          ],
          "name": "stderr"
        },
        {
          "output_type": "stream",
          "text": [
            "[07:22:36] WARNING: /workspace/src/objective/regression_obj.cu:152: reg:linear is now deprecated in favor of reg:squarederror.\n"
          ],
          "name": "stdout"
        },
        {
          "output_type": "stream",
          "text": [
            "\u001b[32m[I 2021-07-18 07:22:36,978]\u001b[0m Trial 732 finished with value: 130.64179122447968 and parameters: {'alpha': 0.7278788927209997, 'lambda': 9.771085159084075, 'gamma': 0, 'colsample_bytree': 0.8, 'subsample': 0.5, 'learning_rate': 0.06, 'n_estimators': 241, 'max_depth': 5, 'min_child_weight': 1}. Best is trial 686 with value: 129.2410409450531.\u001b[0m\n"
          ],
          "name": "stderr"
        },
        {
          "output_type": "stream",
          "text": [
            "[07:22:37] WARNING: /workspace/src/objective/regression_obj.cu:152: reg:linear is now deprecated in favor of reg:squarederror.\n"
          ],
          "name": "stdout"
        },
        {
          "output_type": "stream",
          "text": [
            "\u001b[32m[I 2021-07-18 07:22:37,610]\u001b[0m Trial 733 finished with value: 138.4794875383377 and parameters: {'alpha': 0.7992540847274326, 'lambda': 9.762230502347819, 'gamma': 0, 'colsample_bytree': 0.8, 'subsample': 0.5, 'learning_rate': 0.06, 'n_estimators': 253, 'max_depth': 5, 'min_child_weight': 11}. Best is trial 686 with value: 129.2410409450531.\u001b[0m\n"
          ],
          "name": "stderr"
        },
        {
          "output_type": "stream",
          "text": [
            "[07:22:37] WARNING: /workspace/src/objective/regression_obj.cu:152: reg:linear is now deprecated in favor of reg:squarederror.\n"
          ],
          "name": "stdout"
        },
        {
          "output_type": "stream",
          "text": [
            "\u001b[32m[I 2021-07-18 07:22:38,512]\u001b[0m Trial 734 finished with value: 141.73534321784973 and parameters: {'alpha': 0.716474446889028, 'lambda': 8.15401089295926, 'gamma': 0, 'colsample_bytree': 0.4, 'subsample': 0.5, 'learning_rate': 0.06, 'n_estimators': 369, 'max_depth': 5, 'min_child_weight': 16}. Best is trial 686 with value: 129.2410409450531.\u001b[0m\n"
          ],
          "name": "stderr"
        },
        {
          "output_type": "stream",
          "text": [
            "[07:22:38] WARNING: /workspace/src/objective/regression_obj.cu:152: reg:linear is now deprecated in favor of reg:squarederror.\n"
          ],
          "name": "stdout"
        },
        {
          "output_type": "stream",
          "text": [
            "\u001b[32m[I 2021-07-18 07:22:39,178]\u001b[0m Trial 735 finished with value: 130.64179122447968 and parameters: {'alpha': 1.0737517136374357, 'lambda': 9.881510995142378, 'gamma': 0, 'colsample_bytree': 0.8, 'subsample': 0.5, 'learning_rate': 0.06, 'n_estimators': 364, 'max_depth': 5, 'min_child_weight': 1}. Best is trial 686 with value: 129.2410409450531.\u001b[0m\n"
          ],
          "name": "stderr"
        },
        {
          "output_type": "stream",
          "text": [
            "[07:22:39] WARNING: /workspace/src/objective/regression_obj.cu:152: reg:linear is now deprecated in favor of reg:squarederror.\n"
          ],
          "name": "stdout"
        },
        {
          "output_type": "stream",
          "text": [
            "\u001b[32m[I 2021-07-18 07:22:39,807]\u001b[0m Trial 736 finished with value: 137.74453961849213 and parameters: {'alpha': 0.9744864745377833, 'lambda': 9.938432737878145, 'gamma': 0, 'colsample_bytree': 0.8, 'subsample': 0.5, 'learning_rate': 0.06, 'n_estimators': 244, 'max_depth': 5, 'min_child_weight': 6}. Best is trial 686 with value: 129.2410409450531.\u001b[0m\n"
          ],
          "name": "stderr"
        },
        {
          "output_type": "stream",
          "text": [
            "[07:22:39] WARNING: /workspace/src/objective/regression_obj.cu:152: reg:linear is now deprecated in favor of reg:squarederror.\n"
          ],
          "name": "stdout"
        },
        {
          "output_type": "stream",
          "text": [
            "\u001b[32m[I 2021-07-18 07:22:40,477]\u001b[0m Trial 737 finished with value: 130.64179122447968 and parameters: {'alpha': 0.7076687828811941, 'lambda': 9.36405889555912, 'gamma': 0, 'colsample_bytree': 0.8, 'subsample': 0.5, 'learning_rate': 0.06, 'n_estimators': 272, 'max_depth': 5, 'min_child_weight': 1}. Best is trial 686 with value: 129.2410409450531.\u001b[0m\n"
          ],
          "name": "stderr"
        },
        {
          "output_type": "stream",
          "text": [
            "[07:22:40] WARNING: /workspace/src/objective/regression_obj.cu:152: reg:linear is now deprecated in favor of reg:squarederror.\n"
          ],
          "name": "stdout"
        },
        {
          "output_type": "stream",
          "text": [
            "\u001b[32m[I 2021-07-18 07:22:41,148]\u001b[0m Trial 738 finished with value: 130.64179122447968 and parameters: {'alpha': 0.7366854265418475, 'lambda': 9.854737120054143, 'gamma': 0, 'colsample_bytree': 0.8, 'subsample': 0.5, 'learning_rate': 0.06, 'n_estimators': 372, 'max_depth': 5, 'min_child_weight': 1}. Best is trial 686 with value: 129.2410409450531.\u001b[0m\n"
          ],
          "name": "stderr"
        },
        {
          "output_type": "stream",
          "text": [
            "[07:22:41] WARNING: /workspace/src/objective/regression_obj.cu:152: reg:linear is now deprecated in favor of reg:squarederror.\n"
          ],
          "name": "stdout"
        },
        {
          "output_type": "stream",
          "text": [
            "\u001b[32m[I 2021-07-18 07:22:41,782]\u001b[0m Trial 739 finished with value: 138.4794875383377 and parameters: {'alpha': 0.6896134222541246, 'lambda': 9.653419082753778, 'gamma': 0, 'colsample_bytree': 0.8, 'subsample': 0.5, 'learning_rate': 0.06, 'n_estimators': 373, 'max_depth': 5, 'min_child_weight': 11}. Best is trial 686 with value: 129.2410409450531.\u001b[0m\n"
          ],
          "name": "stderr"
        },
        {
          "output_type": "stream",
          "text": [
            "[07:22:41] WARNING: /workspace/src/objective/regression_obj.cu:152: reg:linear is now deprecated in favor of reg:squarederror.\n"
          ],
          "name": "stdout"
        },
        {
          "output_type": "stream",
          "text": [
            "\u001b[32m[I 2021-07-18 07:22:42,453]\u001b[0m Trial 740 finished with value: 130.64179122447968 and parameters: {'alpha': 0.8324333984965827, 'lambda': 9.834488588008265, 'gamma': 0, 'colsample_bytree': 0.8, 'subsample': 0.5, 'learning_rate': 0.06, 'n_estimators': 374, 'max_depth': 5, 'min_child_weight': 1}. Best is trial 686 with value: 129.2410409450531.\u001b[0m\n"
          ],
          "name": "stderr"
        },
        {
          "output_type": "stream",
          "text": [
            "[07:22:42] WARNING: /workspace/src/objective/regression_obj.cu:152: reg:linear is now deprecated in favor of reg:squarederror.\n"
          ],
          "name": "stdout"
        },
        {
          "output_type": "stream",
          "text": [
            "\u001b[32m[I 2021-07-18 07:22:43,083]\u001b[0m Trial 741 finished with value: 137.74453961849213 and parameters: {'alpha': 0.7639074683399961, 'lambda': 9.445193234430008, 'gamma': 0, 'colsample_bytree': 0.8, 'subsample': 0.5, 'learning_rate': 0.06, 'n_estimators': 378, 'max_depth': 5, 'min_child_weight': 6}. Best is trial 686 with value: 129.2410409450531.\u001b[0m\n"
          ],
          "name": "stderr"
        },
        {
          "output_type": "stream",
          "text": [
            "[07:22:43] WARNING: /workspace/src/objective/regression_obj.cu:152: reg:linear is now deprecated in favor of reg:squarederror.\n"
          ],
          "name": "stdout"
        },
        {
          "output_type": "stream",
          "text": [
            "\u001b[32m[I 2021-07-18 07:22:43,850]\u001b[0m Trial 742 finished with value: 145.07848596572876 and parameters: {'alpha': 1.106578297022828, 'lambda': 7.74870677591176, 'gamma': 0, 'colsample_bytree': 0.8, 'subsample': 0.5, 'learning_rate': 0.06, 'n_estimators': 358, 'max_depth': 5, 'min_child_weight': 29}. Best is trial 686 with value: 129.2410409450531.\u001b[0m\n"
          ],
          "name": "stderr"
        },
        {
          "output_type": "stream",
          "text": [
            "[07:22:43] WARNING: /workspace/src/objective/regression_obj.cu:152: reg:linear is now deprecated in favor of reg:squarederror.\n"
          ],
          "name": "stdout"
        },
        {
          "output_type": "stream",
          "text": [
            "\u001b[32m[I 2021-07-18 07:22:44,754]\u001b[0m Trial 743 finished with value: 144.33288884162903 and parameters: {'alpha': 0.6502073883979156, 'lambda': 9.954116427401658, 'gamma': 0, 'colsample_bytree': 0.8, 'subsample': 0.5, 'learning_rate': 0.06, 'n_estimators': 375, 'max_depth': 5, 'min_child_weight': 21}. Best is trial 686 with value: 129.2410409450531.\u001b[0m\n"
          ],
          "name": "stderr"
        },
        {
          "output_type": "stream",
          "text": [
            "[07:22:44] WARNING: /workspace/src/objective/regression_obj.cu:152: reg:linear is now deprecated in favor of reg:squarederror.\n"
          ],
          "name": "stdout"
        },
        {
          "output_type": "stream",
          "text": [
            "\u001b[32m[I 2021-07-18 07:22:45,442]\u001b[0m Trial 744 finished with value: 130.64179122447968 and parameters: {'alpha': 0.8113285653412827, 'lambda': 9.976805858122127, 'gamma': 0, 'colsample_bytree': 0.8, 'subsample': 0.5, 'learning_rate': 0.06, 'n_estimators': 356, 'max_depth': 5, 'min_child_weight': 1}. Best is trial 686 with value: 129.2410409450531.\u001b[0m\n"
          ],
          "name": "stderr"
        },
        {
          "output_type": "stream",
          "text": [
            "[07:22:45] WARNING: /workspace/src/objective/regression_obj.cu:152: reg:linear is now deprecated in favor of reg:squarederror.\n"
          ],
          "name": "stdout"
        },
        {
          "output_type": "stream",
          "text": [
            "\u001b[32m[I 2021-07-18 07:22:46,051]\u001b[0m Trial 745 finished with value: 142.63454031944275 and parameters: {'alpha': 0.9025832491885174, 'lambda': 9.698277281897074, 'gamma': 0, 'colsample_bytree': 0.8, 'subsample': 0.5, 'learning_rate': 0.06, 'n_estimators': 360, 'max_depth': 5, 'min_child_weight': 10}. Best is trial 686 with value: 129.2410409450531.\u001b[0m\n"
          ],
          "name": "stderr"
        },
        {
          "output_type": "stream",
          "text": [
            "[07:22:46] WARNING: /workspace/src/objective/regression_obj.cu:152: reg:linear is now deprecated in favor of reg:squarederror.\n"
          ],
          "name": "stdout"
        },
        {
          "output_type": "stream",
          "text": [
            "\u001b[32m[I 2021-07-18 07:22:46,728]\u001b[0m Trial 746 finished with value: 141.0383517742157 and parameters: {'alpha': 0.8301611975675863, 'lambda': 8.173975592662796, 'gamma': 0, 'colsample_bytree': 0.8, 'subsample': 0.5, 'learning_rate': 0.06, 'n_estimators': 383, 'max_depth': 5, 'min_child_weight': 16}. Best is trial 686 with value: 129.2410409450531.\u001b[0m\n"
          ],
          "name": "stderr"
        },
        {
          "output_type": "stream",
          "text": [
            "[07:22:46] WARNING: /workspace/src/objective/regression_obj.cu:152: reg:linear is now deprecated in favor of reg:squarederror.\n"
          ],
          "name": "stdout"
        },
        {
          "output_type": "stream",
          "text": [
            "\u001b[32m[I 2021-07-18 07:22:47,414]\u001b[0m Trial 747 finished with value: 130.64179122447968 and parameters: {'alpha': 0.6517931488232408, 'lambda': 7.043977993831171, 'gamma': 0, 'colsample_bytree': 0.8, 'subsample': 0.5, 'learning_rate': 0.06, 'n_estimators': 349, 'max_depth': 5, 'min_child_weight': 1}. Best is trial 686 with value: 129.2410409450531.\u001b[0m\n"
          ],
          "name": "stderr"
        },
        {
          "output_type": "stream",
          "text": [
            "[07:22:47] WARNING: /workspace/src/objective/regression_obj.cu:152: reg:linear is now deprecated in favor of reg:squarederror.\n"
          ],
          "name": "stdout"
        },
        {
          "output_type": "stream",
          "text": [
            "\u001b[32m[I 2021-07-18 07:22:48,065]\u001b[0m Trial 748 finished with value: 137.74453961849213 and parameters: {'alpha': 0.8172108201073663, 'lambda': 7.057851189984137, 'gamma': 0, 'colsample_bytree': 0.8, 'subsample': 0.5, 'learning_rate': 0.06, 'n_estimators': 364, 'max_depth': 5, 'min_child_weight': 6}. Best is trial 686 with value: 129.2410409450531.\u001b[0m\n"
          ],
          "name": "stderr"
        },
        {
          "output_type": "stream",
          "text": [
            "[07:22:48] WARNING: /workspace/src/objective/regression_obj.cu:152: reg:linear is now deprecated in favor of reg:squarederror.\n"
          ],
          "name": "stdout"
        },
        {
          "output_type": "stream",
          "text": [
            "\u001b[32m[I 2021-07-18 07:22:48,709]\u001b[0m Trial 749 finished with value: 137.74453961849213 and parameters: {'alpha': 0.6111387591460694, 'lambda': 9.884601646411388, 'gamma': 0, 'colsample_bytree': 0.8, 'subsample': 0.5, 'learning_rate': 0.06, 'n_estimators': 342, 'max_depth': 5, 'min_child_weight': 6}. Best is trial 686 with value: 129.2410409450531.\u001b[0m\n"
          ],
          "name": "stderr"
        },
        {
          "output_type": "stream",
          "text": [
            "[07:22:48] WARNING: /workspace/src/objective/regression_obj.cu:152: reg:linear is now deprecated in favor of reg:squarederror.\n"
          ],
          "name": "stdout"
        },
        {
          "output_type": "stream",
          "text": [
            "\u001b[32m[I 2021-07-18 07:22:49,394]\u001b[0m Trial 750 finished with value: 130.64179122447968 and parameters: {'alpha': 1.1047322415095595, 'lambda': 8.179894539029949, 'gamma': 0, 'colsample_bytree': 0.8, 'subsample': 0.5, 'learning_rate': 0.06, 'n_estimators': 350, 'max_depth': 5, 'min_child_weight': 1}. Best is trial 686 with value: 129.2410409450531.\u001b[0m\n"
          ],
          "name": "stderr"
        },
        {
          "output_type": "stream",
          "text": [
            "[07:22:49] WARNING: /workspace/src/objective/regression_obj.cu:152: reg:linear is now deprecated in favor of reg:squarederror.\n"
          ],
          "name": "stdout"
        },
        {
          "output_type": "stream",
          "text": [
            "\u001b[32m[I 2021-07-18 07:22:49,895]\u001b[0m Trial 751 finished with value: 283.4939498901367 and parameters: {'alpha': 0.9016207820885704, 'lambda': 9.988722405082093, 'gamma': 0, 'colsample_bytree': 0.8, 'subsample': 0.5, 'learning_rate': 0.06, 'n_estimators': 354, 'max_depth': 5, 'min_child_weight': 198}. Best is trial 686 with value: 129.2410409450531.\u001b[0m\n"
          ],
          "name": "stderr"
        },
        {
          "output_type": "stream",
          "text": [
            "[07:22:49] WARNING: /workspace/src/objective/regression_obj.cu:152: reg:linear is now deprecated in favor of reg:squarederror.\n"
          ],
          "name": "stdout"
        },
        {
          "output_type": "stream",
          "text": [
            "\u001b[32m[I 2021-07-18 07:22:50,582]\u001b[0m Trial 752 finished with value: 130.64179122447968 and parameters: {'alpha': 1.1750601307443167, 'lambda': 7.181148444704799, 'gamma': 0, 'colsample_bytree': 0.8, 'subsample': 0.5, 'learning_rate': 0.06, 'n_estimators': 350, 'max_depth': 5, 'min_child_weight': 1}. Best is trial 686 with value: 129.2410409450531.\u001b[0m\n"
          ],
          "name": "stderr"
        },
        {
          "output_type": "stream",
          "text": [
            "[07:22:50] WARNING: /workspace/src/objective/regression_obj.cu:152: reg:linear is now deprecated in favor of reg:squarederror.\n"
          ],
          "name": "stdout"
        },
        {
          "output_type": "stream",
          "text": [
            "\u001b[32m[I 2021-07-18 07:22:51,236]\u001b[0m Trial 753 finished with value: 139.60469233989716 and parameters: {'alpha': 1.14848883174017, 'lambda': 6.929241138526047, 'gamma': 0, 'colsample_bytree': 0.8, 'subsample': 0.5, 'learning_rate': 0.06, 'n_estimators': 350, 'max_depth': 5, 'min_child_weight': 12}. Best is trial 686 with value: 129.2410409450531.\u001b[0m\n"
          ],
          "name": "stderr"
        },
        {
          "output_type": "stream",
          "text": [
            "[07:22:51] WARNING: /workspace/src/objective/regression_obj.cu:152: reg:linear is now deprecated in favor of reg:squarederror.\n"
          ],
          "name": "stdout"
        },
        {
          "output_type": "stream",
          "text": [
            "\u001b[32m[I 2021-07-18 07:22:51,919]\u001b[0m Trial 754 finished with value: 130.64179122447968 and parameters: {'alpha': 1.0848596907504617, 'lambda': 7.729314589328847, 'gamma': 0, 'colsample_bytree': 0.8, 'subsample': 0.5, 'learning_rate': 0.06, 'n_estimators': 343, 'max_depth': 5, 'min_child_weight': 1}. Best is trial 686 with value: 129.2410409450531.\u001b[0m\n"
          ],
          "name": "stderr"
        },
        {
          "output_type": "stream",
          "text": [
            "[07:22:51] WARNING: /workspace/src/objective/regression_obj.cu:152: reg:linear is now deprecated in favor of reg:squarederror.\n"
          ],
          "name": "stdout"
        },
        {
          "output_type": "stream",
          "text": [
            "\u001b[32m[I 2021-07-18 07:22:52,606]\u001b[0m Trial 755 finished with value: 130.64179122447968 and parameters: {'alpha': 1.2230892333828, 'lambda': 7.884535242899186, 'gamma': 0, 'colsample_bytree': 0.8, 'subsample': 0.5, 'learning_rate': 0.06, 'n_estimators': 335, 'max_depth': 5, 'min_child_weight': 1}. Best is trial 686 with value: 129.2410409450531.\u001b[0m\n"
          ],
          "name": "stderr"
        },
        {
          "output_type": "stream",
          "text": [
            "[07:22:52] WARNING: /workspace/src/objective/regression_obj.cu:152: reg:linear is now deprecated in favor of reg:squarederror.\n"
          ],
          "name": "stdout"
        },
        {
          "output_type": "stream",
          "text": [
            "\u001b[32m[I 2021-07-18 07:22:53,290]\u001b[0m Trial 756 finished with value: 130.64179122447968 and parameters: {'alpha': 1.2766150026683132, 'lambda': 7.896536130128425, 'gamma': 0, 'colsample_bytree': 0.8, 'subsample': 0.5, 'learning_rate': 0.06, 'n_estimators': 337, 'max_depth': 5, 'min_child_weight': 1}. Best is trial 686 with value: 129.2410409450531.\u001b[0m\n"
          ],
          "name": "stderr"
        },
        {
          "output_type": "stream",
          "text": [
            "[07:22:53] WARNING: /workspace/src/objective/regression_obj.cu:152: reg:linear is now deprecated in favor of reg:squarederror.\n"
          ],
          "name": "stdout"
        },
        {
          "output_type": "stream",
          "text": [
            "\u001b[32m[I 2021-07-18 07:22:53,925]\u001b[0m Trial 757 finished with value: 138.58077669143677 and parameters: {'alpha': 1.3494972878348162, 'lambda': 6.086353807939585, 'gamma': 0, 'colsample_bytree': 0.8, 'subsample': 0.5, 'learning_rate': 0.06, 'n_estimators': 329, 'max_depth': 5, 'min_child_weight': 7}. Best is trial 686 with value: 129.2410409450531.\u001b[0m\n"
          ],
          "name": "stderr"
        },
        {
          "output_type": "stream",
          "text": [
            "[07:22:53] WARNING: /workspace/src/objective/regression_obj.cu:152: reg:linear is now deprecated in favor of reg:squarederror.\n"
          ],
          "name": "stdout"
        },
        {
          "output_type": "stream",
          "text": [
            "\u001b[32m[I 2021-07-18 07:22:54,950]\u001b[0m Trial 758 finished with value: 278.3027505874634 and parameters: {'alpha': 1.153556827948094, 'lambda': 7.8592679330079935, 'gamma': 0, 'colsample_bytree': 0.8, 'subsample': 0.5, 'learning_rate': 0.06, 'n_estimators': 322, 'max_depth': 5, 'min_child_weight': 179}. Best is trial 686 with value: 129.2410409450531.\u001b[0m\n"
          ],
          "name": "stderr"
        },
        {
          "output_type": "stream",
          "text": [
            "[07:22:55] WARNING: /workspace/src/objective/regression_obj.cu:152: reg:linear is now deprecated in favor of reg:squarederror.\n"
          ],
          "name": "stdout"
        },
        {
          "output_type": "stream",
          "text": [
            "\u001b[32m[I 2021-07-18 07:22:55,639]\u001b[0m Trial 759 finished with value: 130.64179122447968 and parameters: {'alpha': 1.0816212952714603, 'lambda': 8.577995685125478, 'gamma': 0, 'colsample_bytree': 0.8, 'subsample': 0.5, 'learning_rate': 0.06, 'n_estimators': 340, 'max_depth': 5, 'min_child_weight': 1}. Best is trial 686 with value: 129.2410409450531.\u001b[0m\n"
          ],
          "name": "stderr"
        },
        {
          "output_type": "stream",
          "text": [
            "[07:22:55] WARNING: /workspace/src/objective/regression_obj.cu:152: reg:linear is now deprecated in favor of reg:squarederror.\n"
          ],
          "name": "stdout"
        },
        {
          "output_type": "stream",
          "text": [
            "\u001b[32m[I 2021-07-18 07:22:56,307]\u001b[0m Trial 760 finished with value: 142.4951775074005 and parameters: {'alpha': 0.9910124206894266, 'lambda': 9.733357570795128, 'gamma': 0, 'colsample_bytree': 0.8, 'subsample': 0.5, 'learning_rate': 0.06, 'n_estimators': 317, 'max_depth': 5, 'min_child_weight': 15}. Best is trial 686 with value: 129.2410409450531.\u001b[0m\n"
          ],
          "name": "stderr"
        },
        {
          "output_type": "stream",
          "text": [
            "[07:22:56] WARNING: /workspace/src/objective/regression_obj.cu:152: reg:linear is now deprecated in favor of reg:squarederror.\n"
          ],
          "name": "stdout"
        },
        {
          "output_type": "stream",
          "text": [
            "\u001b[32m[I 2021-07-18 07:22:56,932]\u001b[0m Trial 761 finished with value: 138.58077669143677 and parameters: {'alpha': 1.2275722281877826, 'lambda': 8.098843309713764, 'gamma': 0, 'colsample_bytree': 0.8, 'subsample': 0.5, 'learning_rate': 0.06, 'n_estimators': 336, 'max_depth': 5, 'min_child_weight': 7}. Best is trial 686 with value: 129.2410409450531.\u001b[0m\n"
          ],
          "name": "stderr"
        },
        {
          "output_type": "stream",
          "text": [
            "[07:22:56] WARNING: /workspace/src/objective/regression_obj.cu:152: reg:linear is now deprecated in favor of reg:squarederror.\n"
          ],
          "name": "stdout"
        },
        {
          "output_type": "stream",
          "text": [
            "\u001b[32m[I 2021-07-18 07:22:57,583]\u001b[0m Trial 762 finished with value: 138.4794875383377 and parameters: {'alpha': 1.4371949860539903, 'lambda': 5.827234550643579, 'gamma': 0, 'colsample_bytree': 0.8, 'subsample': 0.5, 'learning_rate': 0.06, 'n_estimators': 343, 'max_depth': 5, 'min_child_weight': 11}. Best is trial 686 with value: 129.2410409450531.\u001b[0m\n"
          ],
          "name": "stderr"
        },
        {
          "output_type": "stream",
          "text": [
            "[07:22:57] WARNING: /workspace/src/objective/regression_obj.cu:152: reg:linear is now deprecated in favor of reg:squarederror.\n"
          ],
          "name": "stdout"
        },
        {
          "output_type": "stream",
          "text": [
            "\u001b[32m[I 2021-07-18 07:22:58,262]\u001b[0m Trial 763 finished with value: 130.64179122447968 and parameters: {'alpha': 1.012368736414118, 'lambda': 6.78708862583748, 'gamma': 0, 'colsample_bytree': 0.8, 'subsample': 0.5, 'learning_rate': 0.06, 'n_estimators': 341, 'max_depth': 5, 'min_child_weight': 1}. Best is trial 686 with value: 129.2410409450531.\u001b[0m\n"
          ],
          "name": "stderr"
        },
        {
          "output_type": "stream",
          "text": [
            "[07:22:58] WARNING: /workspace/src/objective/regression_obj.cu:152: reg:linear is now deprecated in favor of reg:squarederror.\n"
          ],
          "name": "stdout"
        },
        {
          "output_type": "stream",
          "text": [
            "\u001b[32m[I 2021-07-18 07:22:59,038]\u001b[0m Trial 764 finished with value: 139.66999280452728 and parameters: {'alpha': 1.1246940868674113, 'lambda': 6.873259411814981, 'gamma': 0, 'colsample_bytree': 0.8, 'subsample': 0.5, 'learning_rate': 0.06, 'n_estimators': 326, 'max_depth': 5, 'min_child_weight': 20}. Best is trial 686 with value: 129.2410409450531.\u001b[0m\n"
          ],
          "name": "stderr"
        },
        {
          "output_type": "stream",
          "text": [
            "[07:22:59] WARNING: /workspace/src/objective/regression_obj.cu:152: reg:linear is now deprecated in favor of reg:squarederror.\n"
          ],
          "name": "stdout"
        },
        {
          "output_type": "stream",
          "text": [
            "\u001b[32m[I 2021-07-18 07:22:59,728]\u001b[0m Trial 765 finished with value: 130.64179122447968 and parameters: {'alpha': 0.9173022550339741, 'lambda': 9.673939912267347, 'gamma': 0, 'colsample_bytree': 0.8, 'subsample': 0.5, 'learning_rate': 0.06, 'n_estimators': 359, 'max_depth': 5, 'min_child_weight': 1}. Best is trial 686 with value: 129.2410409450531.\u001b[0m\n"
          ],
          "name": "stderr"
        },
        {
          "output_type": "stream",
          "text": [
            "[07:22:59] WARNING: /workspace/src/objective/regression_obj.cu:152: reg:linear is now deprecated in favor of reg:squarederror.\n"
          ],
          "name": "stdout"
        },
        {
          "output_type": "stream",
          "text": [
            "\u001b[32m[I 2021-07-18 07:23:00,357]\u001b[0m Trial 766 finished with value: 138.58077669143677 and parameters: {'alpha': 0.7704598616533228, 'lambda': 6.132670588191583, 'gamma': 0, 'colsample_bytree': 0.8, 'subsample': 0.5, 'learning_rate': 0.06, 'n_estimators': 353, 'max_depth': 5, 'min_child_weight': 7}. Best is trial 686 with value: 129.2410409450531.\u001b[0m\n"
          ],
          "name": "stderr"
        },
        {
          "output_type": "stream",
          "text": [
            "[07:23:00] WARNING: /workspace/src/objective/regression_obj.cu:152: reg:linear is now deprecated in favor of reg:squarederror.\n"
          ],
          "name": "stdout"
        },
        {
          "output_type": "stream",
          "text": [
            "\u001b[32m[I 2021-07-18 07:23:01,043]\u001b[0m Trial 767 finished with value: 130.64179122447968 and parameters: {'alpha': 0.8380555046416419, 'lambda': 9.938487449775476, 'gamma': 0, 'colsample_bytree': 0.8, 'subsample': 0.5, 'learning_rate': 0.06, 'n_estimators': 356, 'max_depth': 5, 'min_child_weight': 1}. Best is trial 686 with value: 129.2410409450531.\u001b[0m\n"
          ],
          "name": "stderr"
        },
        {
          "output_type": "stream",
          "text": [
            "[07:23:01] WARNING: /workspace/src/objective/regression_obj.cu:152: reg:linear is now deprecated in favor of reg:squarederror.\n"
          ],
          "name": "stdout"
        },
        {
          "output_type": "stream",
          "text": [
            "\u001b[32m[I 2021-07-18 07:23:01,701]\u001b[0m Trial 768 finished with value: 139.60469233989716 and parameters: {'alpha': 1.1878856582123167, 'lambda': 7.423290221479619, 'gamma': 0, 'colsample_bytree': 0.8, 'subsample': 0.5, 'learning_rate': 0.06, 'n_estimators': 341, 'max_depth': 5, 'min_child_weight': 12}. Best is trial 686 with value: 129.2410409450531.\u001b[0m\n"
          ],
          "name": "stderr"
        },
        {
          "output_type": "stream",
          "text": [
            "[07:23:01] WARNING: /workspace/src/objective/regression_obj.cu:152: reg:linear is now deprecated in favor of reg:squarederror.\n"
          ],
          "name": "stdout"
        },
        {
          "output_type": "stream",
          "text": [
            "\u001b[32m[I 2021-07-18 07:23:02,386]\u001b[0m Trial 769 finished with value: 130.64179122447968 and parameters: {'alpha': 1.0476880869720866, 'lambda': 8.571113228004881, 'gamma': 0, 'colsample_bytree': 0.8, 'subsample': 0.5, 'learning_rate': 0.06, 'n_estimators': 345, 'max_depth': 5, 'min_child_weight': 1}. Best is trial 686 with value: 129.2410409450531.\u001b[0m\n"
          ],
          "name": "stderr"
        },
        {
          "output_type": "stream",
          "text": [
            "[07:23:02] WARNING: /workspace/src/objective/regression_obj.cu:152: reg:linear is now deprecated in favor of reg:squarederror.\n"
          ],
          "name": "stdout"
        },
        {
          "output_type": "stream",
          "text": [
            "\u001b[32m[I 2021-07-18 07:23:03,029]\u001b[0m Trial 770 finished with value: 137.74453961849213 and parameters: {'alpha': 0.9450004827291522, 'lambda': 9.786037148859846, 'gamma': 0, 'colsample_bytree': 0.8, 'subsample': 0.5, 'learning_rate': 0.06, 'n_estimators': 370, 'max_depth': 5, 'min_child_weight': 6}. Best is trial 686 with value: 129.2410409450531.\u001b[0m\n"
          ],
          "name": "stderr"
        },
        {
          "output_type": "stream",
          "text": [
            "[07:23:03] WARNING: /workspace/src/objective/regression_obj.cu:152: reg:linear is now deprecated in favor of reg:squarederror.\n"
          ],
          "name": "stdout"
        },
        {
          "output_type": "stream",
          "text": [
            "\u001b[32m[I 2021-07-18 07:23:03,710]\u001b[0m Trial 771 finished with value: 141.0383517742157 and parameters: {'alpha': 1.0099720693997891, 'lambda': 5.634151030005869, 'gamma': 0, 'colsample_bytree': 0.8, 'subsample': 0.5, 'learning_rate': 0.06, 'n_estimators': 347, 'max_depth': 5, 'min_child_weight': 16}. Best is trial 686 with value: 129.2410409450531.\u001b[0m\n"
          ],
          "name": "stderr"
        },
        {
          "output_type": "stream",
          "text": [
            "[07:23:03] WARNING: /workspace/src/objective/regression_obj.cu:152: reg:linear is now deprecated in favor of reg:squarederror.\n"
          ],
          "name": "stdout"
        },
        {
          "output_type": "stream",
          "text": [
            "\u001b[32m[I 2021-07-18 07:23:04,398]\u001b[0m Trial 772 finished with value: 130.64179122447968 and parameters: {'alpha': 0.6483322393703717, 'lambda': 9.747468222782881, 'gamma': 0, 'colsample_bytree': 0.8, 'subsample': 0.5, 'learning_rate': 0.06, 'n_estimators': 362, 'max_depth': 5, 'min_child_weight': 1}. Best is trial 686 with value: 129.2410409450531.\u001b[0m\n"
          ],
          "name": "stderr"
        },
        {
          "output_type": "stream",
          "text": [
            "[07:23:04] WARNING: /workspace/src/objective/regression_obj.cu:152: reg:linear is now deprecated in favor of reg:squarederror.\n"
          ],
          "name": "stdout"
        },
        {
          "output_type": "stream",
          "text": [
            "\u001b[32m[I 2021-07-18 07:23:05,027]\u001b[0m Trial 773 finished with value: 138.58077669143677 and parameters: {'alpha': 0.6421797842855981, 'lambda': 8.246921649740324, 'gamma': 0, 'colsample_bytree': 0.8, 'subsample': 0.5, 'learning_rate': 0.06, 'n_estimators': 328, 'max_depth': 5, 'min_child_weight': 7}. Best is trial 686 with value: 129.2410409450531.\u001b[0m\n"
          ],
          "name": "stderr"
        },
        {
          "output_type": "stream",
          "text": [
            "[07:23:05] WARNING: /workspace/src/objective/regression_obj.cu:152: reg:linear is now deprecated in favor of reg:squarederror.\n"
          ],
          "name": "stdout"
        },
        {
          "output_type": "stream",
          "text": [
            "\u001b[32m[I 2021-07-18 07:23:05,717]\u001b[0m Trial 774 finished with value: 130.64179122447968 and parameters: {'alpha': 0.6720309645779321, 'lambda': 6.6319374911557984, 'gamma': 0, 'colsample_bytree': 0.8, 'subsample': 0.5, 'learning_rate': 0.06, 'n_estimators': 368, 'max_depth': 5, 'min_child_weight': 1}. Best is trial 686 with value: 129.2410409450531.\u001b[0m\n"
          ],
          "name": "stderr"
        },
        {
          "output_type": "stream",
          "text": [
            "[07:23:05] WARNING: /workspace/src/objective/regression_obj.cu:152: reg:linear is now deprecated in favor of reg:squarederror.\n"
          ],
          "name": "stdout"
        },
        {
          "output_type": "stream",
          "text": [
            "\u001b[32m[I 2021-07-18 07:23:06,612]\u001b[0m Trial 775 finished with value: 143.8750445842743 and parameters: {'alpha': 0.7318797401684465, 'lambda': 6.5272064913849395, 'gamma': 0, 'colsample_bytree': 0.8, 'subsample': 0.5, 'learning_rate': 0.06, 'n_estimators': 371, 'max_depth': 5, 'min_child_weight': 24}. Best is trial 686 with value: 129.2410409450531.\u001b[0m\n"
          ],
          "name": "stderr"
        },
        {
          "output_type": "stream",
          "text": [
            "[07:23:06] WARNING: /workspace/src/objective/regression_obj.cu:152: reg:linear is now deprecated in favor of reg:squarederror.\n"
          ],
          "name": "stdout"
        },
        {
          "output_type": "stream",
          "text": [
            "\u001b[32m[I 2021-07-18 07:23:07,263]\u001b[0m Trial 776 finished with value: 138.4794875383377 and parameters: {'alpha': 0.5824135514262974, 'lambda': 5.754430149422365, 'gamma': 0, 'colsample_bytree': 0.8, 'subsample': 0.5, 'learning_rate': 0.06, 'n_estimators': 364, 'max_depth': 5, 'min_child_weight': 11}. Best is trial 686 with value: 129.2410409450531.\u001b[0m\n"
          ],
          "name": "stderr"
        },
        {
          "output_type": "stream",
          "text": [
            "[07:23:07] WARNING: /workspace/src/objective/regression_obj.cu:152: reg:linear is now deprecated in favor of reg:squarederror.\n"
          ],
          "name": "stdout"
        },
        {
          "output_type": "stream",
          "text": [
            "\u001b[32m[I 2021-07-18 07:23:07,950]\u001b[0m Trial 777 finished with value: 130.64179122447968 and parameters: {'alpha': 1.4392602324921895, 'lambda': 4.787409746026851, 'gamma': 0, 'colsample_bytree': 0.8, 'subsample': 0.5, 'learning_rate': 0.06, 'n_estimators': 360, 'max_depth': 5, 'min_child_weight': 1}. Best is trial 686 with value: 129.2410409450531.\u001b[0m\n"
          ],
          "name": "stderr"
        },
        {
          "output_type": "stream",
          "text": [
            "[07:23:08] WARNING: /workspace/src/objective/regression_obj.cu:152: reg:linear is now deprecated in favor of reg:squarederror.\n"
          ],
          "name": "stdout"
        },
        {
          "output_type": "stream",
          "text": [
            "\u001b[32m[I 2021-07-18 07:23:08,575]\u001b[0m Trial 778 finished with value: 138.58077669143677 and parameters: {'alpha': 0.7456700016475184, 'lambda': 4.7399270033287735, 'gamma': 0, 'colsample_bytree': 0.8, 'subsample': 0.5, 'learning_rate': 0.06, 'n_estimators': 380, 'max_depth': 5, 'min_child_weight': 7}. Best is trial 686 with value: 129.2410409450531.\u001b[0m\n"
          ],
          "name": "stderr"
        },
        {
          "output_type": "stream",
          "text": [
            "[07:23:08] WARNING: /workspace/src/objective/regression_obj.cu:152: reg:linear is now deprecated in favor of reg:squarederror.\n"
          ],
          "name": "stdout"
        },
        {
          "output_type": "stream",
          "text": [
            "\u001b[32m[I 2021-07-18 07:23:09,244]\u001b[0m Trial 779 finished with value: 142.4951775074005 and parameters: {'alpha': 0.7754677489624421, 'lambda': 4.287540806078334, 'gamma': 0, 'colsample_bytree': 0.8, 'subsample': 0.5, 'learning_rate': 0.06, 'n_estimators': 370, 'max_depth': 5, 'min_child_weight': 15}. Best is trial 686 with value: 129.2410409450531.\u001b[0m\n"
          ],
          "name": "stderr"
        },
        {
          "output_type": "stream",
          "text": [
            "[07:23:09] WARNING: /workspace/src/objective/regression_obj.cu:152: reg:linear is now deprecated in favor of reg:squarederror.\n"
          ],
          "name": "stdout"
        },
        {
          "output_type": "stream",
          "text": [
            "\u001b[32m[I 2021-07-18 07:23:09,882]\u001b[0m Trial 780 finished with value: 137.74453961849213 and parameters: {'alpha': 0.6277075940714822, 'lambda': 6.821056963779111, 'gamma': 0, 'colsample_bytree': 0.8, 'subsample': 0.5, 'learning_rate': 0.06, 'n_estimators': 350, 'max_depth': 5, 'min_child_weight': 6}. Best is trial 686 with value: 129.2410409450531.\u001b[0m\n"
          ],
          "name": "stderr"
        },
        {
          "output_type": "stream",
          "text": [
            "[07:23:09] WARNING: /workspace/src/objective/regression_obj.cu:152: reg:linear is now deprecated in favor of reg:squarederror.\n"
          ],
          "name": "stdout"
        },
        {
          "output_type": "stream",
          "text": [
            "\u001b[32m[I 2021-07-18 07:23:10,549]\u001b[0m Trial 781 finished with value: 130.64179122447968 and parameters: {'alpha': 0.8379872569939956, 'lambda': 8.05210489954497, 'gamma': 0, 'colsample_bytree': 0.8, 'subsample': 0.5, 'learning_rate': 0.06, 'n_estimators': 334, 'max_depth': 5, 'min_child_weight': 1}. Best is trial 686 with value: 129.2410409450531.\u001b[0m\n"
          ],
          "name": "stderr"
        },
        {
          "output_type": "stream",
          "text": [
            "[07:23:10] WARNING: /workspace/src/objective/regression_obj.cu:152: reg:linear is now deprecated in favor of reg:squarederror.\n"
          ],
          "name": "stdout"
        },
        {
          "output_type": "stream",
          "text": [
            "\u001b[32m[I 2021-07-18 07:23:11,185]\u001b[0m Trial 782 finished with value: 138.4794875383377 and parameters: {'alpha': 0.807013046428345, 'lambda': 9.941736473174048, 'gamma': 0, 'colsample_bytree': 0.8, 'subsample': 0.5, 'learning_rate': 0.06, 'n_estimators': 350, 'max_depth': 5, 'min_child_weight': 11}. Best is trial 686 with value: 129.2410409450531.\u001b[0m\n"
          ],
          "name": "stderr"
        },
        {
          "output_type": "stream",
          "text": [
            "[07:23:11] WARNING: /workspace/src/objective/regression_obj.cu:152: reg:linear is now deprecated in favor of reg:squarederror.\n"
          ],
          "name": "stdout"
        },
        {
          "output_type": "stream",
          "text": [
            "\u001b[32m[I 2021-07-18 07:23:11,857]\u001b[0m Trial 783 finished with value: 130.64179122447968 and parameters: {'alpha': 0.628360482682982, 'lambda': 5.512377165362185, 'gamma': 0, 'colsample_bytree': 0.8, 'subsample': 0.5, 'learning_rate': 0.06, 'n_estimators': 364, 'max_depth': 5, 'min_child_weight': 1}. Best is trial 686 with value: 129.2410409450531.\u001b[0m\n"
          ],
          "name": "stderr"
        },
        {
          "output_type": "stream",
          "text": [
            "[07:23:11] WARNING: /workspace/src/objective/regression_obj.cu:152: reg:linear is now deprecated in favor of reg:squarederror.\n"
          ],
          "name": "stdout"
        },
        {
          "output_type": "stream",
          "text": [
            "\u001b[32m[I 2021-07-18 07:23:12,491]\u001b[0m Trial 784 finished with value: 137.74453961849213 and parameters: {'alpha': 0.5357820725601068, 'lambda': 9.642356436605901, 'gamma': 0, 'colsample_bytree': 0.8, 'subsample': 0.5, 'learning_rate': 0.06, 'n_estimators': 383, 'max_depth': 5, 'min_child_weight': 6}. Best is trial 686 with value: 129.2410409450531.\u001b[0m\n"
          ],
          "name": "stderr"
        },
        {
          "output_type": "stream",
          "text": [
            "[07:23:12] WARNING: /workspace/src/objective/regression_obj.cu:152: reg:linear is now deprecated in favor of reg:squarederror.\n"
          ],
          "name": "stdout"
        },
        {
          "output_type": "stream",
          "text": [
            "\u001b[32m[I 2021-07-18 07:23:13,253]\u001b[0m Trial 785 finished with value: 137.38443779945374 and parameters: {'alpha': 0.7172272776933781, 'lambda': 5.2619939650185765, 'gamma': 0, 'colsample_bytree': 0.8, 'subsample': 0.5, 'learning_rate': 0.06, 'n_estimators': 368, 'max_depth': 5, 'min_child_weight': 18}. Best is trial 686 with value: 129.2410409450531.\u001b[0m\n"
          ],
          "name": "stderr"
        },
        {
          "output_type": "stream",
          "text": [
            "[07:23:13] WARNING: /workspace/src/objective/regression_obj.cu:152: reg:linear is now deprecated in favor of reg:squarederror.\n"
          ],
          "name": "stdout"
        },
        {
          "output_type": "stream",
          "text": [
            "\u001b[32m[I 2021-07-18 07:23:13,920]\u001b[0m Trial 786 finished with value: 130.64179122447968 and parameters: {'alpha': 1.5912030084618727, 'lambda': 4.355953158624188, 'gamma': 0, 'colsample_bytree': 0.8, 'subsample': 0.5, 'learning_rate': 0.06, 'n_estimators': 326, 'max_depth': 5, 'min_child_weight': 1}. Best is trial 686 with value: 129.2410409450531.\u001b[0m\n"
          ],
          "name": "stderr"
        },
        {
          "output_type": "stream",
          "text": [
            "[07:23:13] WARNING: /workspace/src/objective/regression_obj.cu:152: reg:linear is now deprecated in favor of reg:squarederror.\n"
          ],
          "name": "stdout"
        },
        {
          "output_type": "stream",
          "text": [
            "\u001b[32m[I 2021-07-18 07:23:14,558]\u001b[0m Trial 787 finished with value: 138.4794875383377 and parameters: {'alpha': 0.5673405344168388, 'lambda': 5.80397797105847, 'gamma': 0, 'colsample_bytree': 0.8, 'subsample': 0.5, 'learning_rate': 0.06, 'n_estimators': 360, 'max_depth': 5, 'min_child_weight': 11}. Best is trial 686 with value: 129.2410409450531.\u001b[0m\n"
          ],
          "name": "stderr"
        },
        {
          "output_type": "stream",
          "text": [
            "[07:23:14] WARNING: /workspace/src/objective/regression_obj.cu:152: reg:linear is now deprecated in favor of reg:squarederror.\n"
          ],
          "name": "stdout"
        },
        {
          "output_type": "stream",
          "text": [
            "\u001b[32m[I 2021-07-18 07:23:15,227]\u001b[0m Trial 788 finished with value: 130.64179122447968 and parameters: {'alpha': 1.4919128505296109, 'lambda': 7.8663479759731905, 'gamma': 0, 'colsample_bytree': 0.8, 'subsample': 0.5, 'learning_rate': 0.06, 'n_estimators': 321, 'max_depth': 5, 'min_child_weight': 1}. Best is trial 686 with value: 129.2410409450531.\u001b[0m\n"
          ],
          "name": "stderr"
        },
        {
          "output_type": "stream",
          "text": [
            "[07:23:15] WARNING: /workspace/src/objective/regression_obj.cu:152: reg:linear is now deprecated in favor of reg:squarederror.\n"
          ],
          "name": "stdout"
        },
        {
          "output_type": "stream",
          "text": [
            "\u001b[32m[I 2021-07-18 07:23:15,850]\u001b[0m Trial 789 finished with value: 138.58077669143677 and parameters: {'alpha': 1.579815036836367, 'lambda': 4.093538597319696, 'gamma': 0, 'colsample_bytree': 0.8, 'subsample': 0.5, 'learning_rate': 0.06, 'n_estimators': 316, 'max_depth': 5, 'min_child_weight': 7}. Best is trial 686 with value: 129.2410409450531.\u001b[0m\n"
          ],
          "name": "stderr"
        },
        {
          "output_type": "stream",
          "text": [
            "[07:23:15] WARNING: /workspace/src/objective/regression_obj.cu:152: reg:linear is now deprecated in favor of reg:squarederror.\n"
          ],
          "name": "stdout"
        },
        {
          "output_type": "stream",
          "text": [
            "\u001b[32m[I 2021-07-18 07:23:16,524]\u001b[0m Trial 790 finished with value: 130.64179122447968 and parameters: {'alpha': 0.6392529275666825, 'lambda': 4.951060962437866, 'gamma': 0, 'colsample_bytree': 0.8, 'subsample': 0.5, 'learning_rate': 0.06, 'n_estimators': 293, 'max_depth': 5, 'min_child_weight': 1}. Best is trial 686 with value: 129.2410409450531.\u001b[0m\n"
          ],
          "name": "stderr"
        },
        {
          "output_type": "stream",
          "text": [
            "[07:23:16] WARNING: /workspace/src/objective/regression_obj.cu:152: reg:linear is now deprecated in favor of reg:squarederror.\n"
          ],
          "name": "stdout"
        },
        {
          "output_type": "stream",
          "text": [
            "\u001b[32m[I 2021-07-18 07:23:17,170]\u001b[0m Trial 791 finished with value: 139.60469233989716 and parameters: {'alpha': 0.8736093162838039, 'lambda': 8.456201910500969, 'gamma': 0, 'colsample_bytree': 0.8, 'subsample': 0.5, 'learning_rate': 0.06, 'n_estimators': 299, 'max_depth': 5, 'min_child_weight': 12}. Best is trial 686 with value: 129.2410409450531.\u001b[0m\n"
          ],
          "name": "stderr"
        },
        {
          "output_type": "stream",
          "text": [
            "[07:23:17] WARNING: /workspace/src/objective/regression_obj.cu:152: reg:linear is now deprecated in favor of reg:squarederror.\n"
          ],
          "name": "stdout"
        },
        {
          "output_type": "stream",
          "text": [
            "\u001b[32m[I 2021-07-18 07:23:17,808]\u001b[0m Trial 792 finished with value: 137.74453961849213 and parameters: {'alpha': 1.664714707034645, 'lambda': 6.790471834274209, 'gamma': 0, 'colsample_bytree': 0.8, 'subsample': 0.5, 'learning_rate': 0.06, 'n_estimators': 294, 'max_depth': 5, 'min_child_weight': 6}. Best is trial 686 with value: 129.2410409450531.\u001b[0m\n"
          ],
          "name": "stderr"
        },
        {
          "output_type": "stream",
          "text": [
            "[07:23:17] WARNING: /workspace/src/objective/regression_obj.cu:152: reg:linear is now deprecated in favor of reg:squarederror.\n"
          ],
          "name": "stdout"
        },
        {
          "output_type": "stream",
          "text": [
            "\u001b[32m[I 2021-07-18 07:23:18,494]\u001b[0m Trial 793 finished with value: 130.64179122447968 and parameters: {'alpha': 1.287181331039918, 'lambda': 8.154204548327243, 'gamma': 0, 'colsample_bytree': 0.8, 'subsample': 0.5, 'learning_rate': 0.06, 'n_estimators': 338, 'max_depth': 5, 'min_child_weight': 1}. Best is trial 686 with value: 129.2410409450531.\u001b[0m\n"
          ],
          "name": "stderr"
        },
        {
          "output_type": "stream",
          "text": [
            "[07:23:18] WARNING: /workspace/src/objective/regression_obj.cu:152: reg:linear is now deprecated in favor of reg:squarederror.\n"
          ],
          "name": "stdout"
        },
        {
          "output_type": "stream",
          "text": [
            "\u001b[32m[I 2021-07-18 07:23:19,271]\u001b[0m Trial 794 finished with value: 138.27563631534576 and parameters: {'alpha': 0.9963387976533298, 'lambda': 6.816934774300959, 'gamma': 0, 'colsample_bytree': 0.8, 'subsample': 0.5, 'learning_rate': 0.06, 'n_estimators': 331, 'max_depth': 5, 'min_child_weight': 17}. Best is trial 686 with value: 129.2410409450531.\u001b[0m\n"
          ],
          "name": "stderr"
        },
        {
          "output_type": "stream",
          "text": [
            "[07:23:19] WARNING: /workspace/src/objective/regression_obj.cu:152: reg:linear is now deprecated in favor of reg:squarederror.\n"
          ],
          "name": "stdout"
        },
        {
          "output_type": "stream",
          "text": [
            "\u001b[32m[I 2021-07-18 07:23:19,893]\u001b[0m Trial 795 finished with value: 138.58077669143677 and parameters: {'alpha': 1.0976577560440262, 'lambda': 9.980343215729658, 'gamma': 0, 'colsample_bytree': 0.8, 'subsample': 0.5, 'learning_rate': 0.06, 'n_estimators': 346, 'max_depth': 5, 'min_child_weight': 7}. Best is trial 686 with value: 129.2410409450531.\u001b[0m\n"
          ],
          "name": "stderr"
        },
        {
          "output_type": "stream",
          "text": [
            "[07:23:19] WARNING: /workspace/src/objective/regression_obj.cu:152: reg:linear is now deprecated in favor of reg:squarederror.\n"
          ],
          "name": "stdout"
        },
        {
          "output_type": "stream",
          "text": [
            "\u001b[32m[I 2021-07-18 07:23:20,567]\u001b[0m Trial 796 finished with value: 130.64179122447968 and parameters: {'alpha': 1.317946513945803, 'lambda': 7.9075724874465, 'gamma': 0, 'colsample_bytree': 0.8, 'subsample': 0.5, 'learning_rate': 0.06, 'n_estimators': 332, 'max_depth': 5, 'min_child_weight': 1}. Best is trial 686 with value: 129.2410409450531.\u001b[0m\n"
          ],
          "name": "stderr"
        },
        {
          "output_type": "stream",
          "text": [
            "[07:23:20] WARNING: /workspace/src/objective/regression_obj.cu:152: reg:linear is now deprecated in favor of reg:squarederror.\n"
          ],
          "name": "stdout"
        },
        {
          "output_type": "stream",
          "text": [
            "\u001b[32m[I 2021-07-18 07:23:21,207]\u001b[0m Trial 797 finished with value: 138.4794875383377 and parameters: {'alpha': 0.5343038045672215, 'lambda': 9.68890107927476, 'gamma': 0, 'colsample_bytree': 0.8, 'subsample': 0.5, 'learning_rate': 0.06, 'n_estimators': 278, 'max_depth': 5, 'min_child_weight': 11}. Best is trial 686 with value: 129.2410409450531.\u001b[0m\n"
          ],
          "name": "stderr"
        },
        {
          "output_type": "stream",
          "text": [
            "[07:23:21] WARNING: /workspace/src/objective/regression_obj.cu:152: reg:linear is now deprecated in favor of reg:squarederror.\n"
          ],
          "name": "stdout"
        },
        {
          "output_type": "stream",
          "text": [
            "\u001b[32m[I 2021-07-18 07:23:22,084]\u001b[0m Trial 798 finished with value: 143.61027765274048 and parameters: {'alpha': 1.2161976237689878, 'lambda': 7.808860265005806, 'gamma': 0, 'colsample_bytree': 0.8, 'subsample': 0.5, 'learning_rate': 0.06, 'n_estimators': 309, 'max_depth': 5, 'min_child_weight': 23}. Best is trial 686 with value: 129.2410409450531.\u001b[0m\n"
          ],
          "name": "stderr"
        },
        {
          "output_type": "stream",
          "text": [
            "[07:23:22] WARNING: /workspace/src/objective/regression_obj.cu:152: reg:linear is now deprecated in favor of reg:squarederror.\n"
          ],
          "name": "stdout"
        },
        {
          "output_type": "stream",
          "text": [
            "\u001b[32m[I 2021-07-18 07:23:22,756]\u001b[0m Trial 799 finished with value: 130.64179122447968 and parameters: {'alpha': 0.9492123080812986, 'lambda': 9.983486887284391, 'gamma': 0, 'colsample_bytree': 0.8, 'subsample': 0.5, 'learning_rate': 0.06, 'n_estimators': 360, 'max_depth': 5, 'min_child_weight': 1}. Best is trial 686 with value: 129.2410409450531.\u001b[0m\n"
          ],
          "name": "stderr"
        },
        {
          "output_type": "stream",
          "text": [
            "[07:23:22] WARNING: /workspace/src/objective/regression_obj.cu:152: reg:linear is now deprecated in favor of reg:squarederror.\n"
          ],
          "name": "stdout"
        },
        {
          "output_type": "stream",
          "text": [
            "\u001b[32m[I 2021-07-18 07:23:23,392]\u001b[0m Trial 800 finished with value: 137.74453961849213 and parameters: {'alpha': 0.948233245635955, 'lambda': 6.896529552234185, 'gamma': 0, 'colsample_bytree': 0.8, 'subsample': 0.5, 'learning_rate': 0.06, 'n_estimators': 345, 'max_depth': 5, 'min_child_weight': 6}. Best is trial 686 with value: 129.2410409450531.\u001b[0m\n"
          ],
          "name": "stderr"
        },
        {
          "output_type": "stream",
          "text": [
            "[07:23:23] WARNING: /workspace/src/objective/regression_obj.cu:152: reg:linear is now deprecated in favor of reg:squarederror.\n"
          ],
          "name": "stdout"
        },
        {
          "output_type": "stream",
          "text": [
            "\u001b[32m[I 2021-07-18 07:23:24,060]\u001b[0m Trial 801 finished with value: 142.4951775074005 and parameters: {'alpha': 0.7564903586188665, 'lambda': 9.673691187493185, 'gamma': 0, 'colsample_bytree': 0.8, 'subsample': 0.5, 'learning_rate': 0.06, 'n_estimators': 377, 'max_depth': 5, 'min_child_weight': 15}. Best is trial 686 with value: 129.2410409450531.\u001b[0m\n"
          ],
          "name": "stderr"
        },
        {
          "output_type": "stream",
          "text": [
            "[07:23:24] WARNING: /workspace/src/objective/regression_obj.cu:152: reg:linear is now deprecated in favor of reg:squarederror.\n"
          ],
          "name": "stdout"
        },
        {
          "output_type": "stream",
          "text": [
            "\u001b[32m[I 2021-07-18 07:23:24,734]\u001b[0m Trial 802 finished with value: 130.64179122447968 and parameters: {'alpha': 0.645007061365403, 'lambda': 5.9938249262485765, 'gamma': 0, 'colsample_bytree': 0.8, 'subsample': 0.5, 'learning_rate': 0.06, 'n_estimators': 358, 'max_depth': 5, 'min_child_weight': 1}. Best is trial 686 with value: 129.2410409450531.\u001b[0m\n"
          ],
          "name": "stderr"
        },
        {
          "output_type": "stream",
          "text": [
            "[07:23:24] WARNING: /workspace/src/objective/regression_obj.cu:152: reg:linear is now deprecated in favor of reg:squarederror.\n"
          ],
          "name": "stdout"
        },
        {
          "output_type": "stream",
          "text": [
            "\u001b[32m[I 2021-07-18 07:23:25,362]\u001b[0m Trial 803 finished with value: 138.58077669143677 and parameters: {'alpha': 0.5208853393092159, 'lambda': 5.9544476536896775, 'gamma': 0, 'colsample_bytree': 0.8, 'subsample': 0.5, 'learning_rate': 0.06, 'n_estimators': 354, 'max_depth': 5, 'min_child_weight': 7}. Best is trial 686 with value: 129.2410409450531.\u001b[0m\n"
          ],
          "name": "stderr"
        },
        {
          "output_type": "stream",
          "text": [
            "[07:23:25] WARNING: /workspace/src/objective/regression_obj.cu:152: reg:linear is now deprecated in favor of reg:squarederror.\n"
          ],
          "name": "stdout"
        },
        {
          "output_type": "stream",
          "text": [
            "\u001b[32m[I 2021-07-18 07:23:26,487]\u001b[0m Trial 804 finished with value: 169.3309257030487 and parameters: {'alpha': 0.9907167839559979, 'lambda': 6.739971350640972, 'gamma': 0, 'colsample_bytree': 0.8, 'subsample': 0.5, 'learning_rate': 0.06, 'n_estimators': 345, 'max_depth': 5, 'min_child_weight': 144}. Best is trial 686 with value: 129.2410409450531.\u001b[0m\n"
          ],
          "name": "stderr"
        },
        {
          "output_type": "stream",
          "text": [
            "[07:23:26] WARNING: /workspace/src/objective/regression_obj.cu:152: reg:linear is now deprecated in favor of reg:squarederror.\n"
          ],
          "name": "stdout"
        },
        {
          "output_type": "stream",
          "text": [
            "\u001b[32m[I 2021-07-18 07:23:27,161]\u001b[0m Trial 805 finished with value: 130.64179122447968 and parameters: {'alpha': 0.82529277547939, 'lambda': 4.412016324885139, 'gamma': 0, 'colsample_bytree': 0.8, 'subsample': 0.5, 'learning_rate': 0.06, 'n_estimators': 282, 'max_depth': 5, 'min_child_weight': 1}. Best is trial 686 with value: 129.2410409450531.\u001b[0m\n"
          ],
          "name": "stderr"
        },
        {
          "output_type": "stream",
          "text": [
            "[07:23:27] WARNING: /workspace/src/objective/regression_obj.cu:152: reg:linear is now deprecated in favor of reg:squarederror.\n"
          ],
          "name": "stdout"
        },
        {
          "output_type": "stream",
          "text": [
            "\u001b[32m[I 2021-07-18 07:23:27,806]\u001b[0m Trial 806 finished with value: 139.60469233989716 and parameters: {'alpha': 1.008178053608666, 'lambda': 8.2722978326519, 'gamma': 0, 'colsample_bytree': 0.8, 'subsample': 0.5, 'learning_rate': 0.06, 'n_estimators': 337, 'max_depth': 5, 'min_child_weight': 12}. Best is trial 686 with value: 129.2410409450531.\u001b[0m\n"
          ],
          "name": "stderr"
        },
        {
          "output_type": "stream",
          "text": [
            "[07:23:27] WARNING: /workspace/src/objective/regression_obj.cu:152: reg:linear is now deprecated in favor of reg:squarederror.\n"
          ],
          "name": "stdout"
        },
        {
          "output_type": "stream",
          "text": [
            "\u001b[32m[I 2021-07-18 07:23:28,439]\u001b[0m Trial 807 finished with value: 137.74453961849213 and parameters: {'alpha': 1.410654376670134, 'lambda': 4.81117982583151, 'gamma': 0, 'colsample_bytree': 0.8, 'subsample': 0.5, 'learning_rate': 0.06, 'n_estimators': 324, 'max_depth': 5, 'min_child_weight': 6}. Best is trial 686 with value: 129.2410409450531.\u001b[0m\n"
          ],
          "name": "stderr"
        },
        {
          "output_type": "stream",
          "text": [
            "[07:23:28] WARNING: /workspace/src/objective/regression_obj.cu:152: reg:linear is now deprecated in favor of reg:squarederror.\n"
          ],
          "name": "stdout"
        },
        {
          "output_type": "stream",
          "text": [
            "\u001b[32m[I 2021-07-18 07:23:29,215]\u001b[0m Trial 808 finished with value: 138.27563631534576 and parameters: {'alpha': 1.3587110735967176, 'lambda': 5.689045520605926, 'gamma': 0, 'colsample_bytree': 0.8, 'subsample': 0.5, 'learning_rate': 0.06, 'n_estimators': 337, 'max_depth': 5, 'min_child_weight': 17}. Best is trial 686 with value: 129.2410409450531.\u001b[0m\n"
          ],
          "name": "stderr"
        },
        {
          "output_type": "stream",
          "text": [
            "[07:23:29] WARNING: /workspace/src/objective/regression_obj.cu:152: reg:linear is now deprecated in favor of reg:squarederror.\n"
          ],
          "name": "stdout"
        },
        {
          "output_type": "stream",
          "text": [
            "\u001b[32m[I 2021-07-18 07:23:29,885]\u001b[0m Trial 809 finished with value: 130.64179122447968 and parameters: {'alpha': 1.1558302589641416, 'lambda': 7.312215154871659, 'gamma': 0, 'colsample_bytree': 0.8, 'subsample': 0.5, 'learning_rate': 0.06, 'n_estimators': 352, 'max_depth': 5, 'min_child_weight': 1}. Best is trial 686 with value: 129.2410409450531.\u001b[0m\n"
          ],
          "name": "stderr"
        },
        {
          "output_type": "stream",
          "text": [
            "[07:23:29] WARNING: /workspace/src/objective/regression_obj.cu:152: reg:linear is now deprecated in favor of reg:squarederror.\n"
          ],
          "name": "stdout"
        },
        {
          "output_type": "stream",
          "text": [
            "\u001b[32m[I 2021-07-18 07:23:30,561]\u001b[0m Trial 810 finished with value: 130.64179122447968 and parameters: {'alpha': 0.7116481286626903, 'lambda': 8.77979771139706, 'gamma': 0, 'colsample_bytree': 0.8, 'subsample': 0.5, 'learning_rate': 0.06, 'n_estimators': 375, 'max_depth': 5, 'min_child_weight': 1}. Best is trial 686 with value: 129.2410409450531.\u001b[0m\n"
          ],
          "name": "stderr"
        },
        {
          "output_type": "stream",
          "text": [
            "[07:23:30] WARNING: /workspace/src/objective/regression_obj.cu:152: reg:linear is now deprecated in favor of reg:squarederror.\n"
          ],
          "name": "stdout"
        },
        {
          "output_type": "stream",
          "text": [
            "\u001b[32m[I 2021-07-18 07:23:31,453]\u001b[0m Trial 811 finished with value: 142.66222596168518 and parameters: {'alpha': 1.1382652935664026, 'lambda': 8.204619305225117, 'gamma': 0, 'colsample_bytree': 0.8, 'subsample': 0.5, 'learning_rate': 0.06, 'n_estimators': 346, 'max_depth': 5, 'min_child_weight': 37}. Best is trial 686 with value: 129.2410409450531.\u001b[0m\n"
          ],
          "name": "stderr"
        },
        {
          "output_type": "stream",
          "text": [
            "[07:23:31] WARNING: /workspace/src/objective/regression_obj.cu:152: reg:linear is now deprecated in favor of reg:squarederror.\n"
          ],
          "name": "stdout"
        },
        {
          "output_type": "stream",
          "text": [
            "\u001b[32m[I 2021-07-18 07:23:32,091]\u001b[0m Trial 812 finished with value: 138.4794875383377 and parameters: {'alpha': 0.8933228953734016, 'lambda': 6.148873580960117, 'gamma': 0, 'colsample_bytree': 0.8, 'subsample': 0.5, 'learning_rate': 0.06, 'n_estimators': 332, 'max_depth': 5, 'min_child_weight': 11}. Best is trial 686 with value: 129.2410409450531.\u001b[0m\n"
          ],
          "name": "stderr"
        },
        {
          "output_type": "stream",
          "text": [
            "[07:23:32] WARNING: /workspace/src/objective/regression_obj.cu:152: reg:linear is now deprecated in favor of reg:squarederror.\n"
          ],
          "name": "stdout"
        },
        {
          "output_type": "stream",
          "text": [
            "\u001b[32m[I 2021-07-18 07:23:32,762]\u001b[0m Trial 813 finished with value: 130.64179122447968 and parameters: {'alpha': 0.8276506067205763, 'lambda': 8.43831046105365, 'gamma': 0, 'colsample_bytree': 0.8, 'subsample': 0.5, 'learning_rate': 0.06, 'n_estimators': 340, 'max_depth': 5, 'min_child_weight': 1}. Best is trial 686 with value: 129.2410409450531.\u001b[0m\n"
          ],
          "name": "stderr"
        },
        {
          "output_type": "stream",
          "text": [
            "[07:23:32] WARNING: /workspace/src/objective/regression_obj.cu:152: reg:linear is now deprecated in favor of reg:squarederror.\n"
          ],
          "name": "stdout"
        },
        {
          "output_type": "stream",
          "text": [
            "\u001b[32m[I 2021-07-18 07:23:33,384]\u001b[0m Trial 814 finished with value: 138.58077669143677 and parameters: {'alpha': 0.7437280717577469, 'lambda': 9.988667313910911, 'gamma': 0, 'colsample_bytree': 0.8, 'subsample': 0.5, 'learning_rate': 0.06, 'n_estimators': 261, 'max_depth': 5, 'min_child_weight': 7}. Best is trial 686 with value: 129.2410409450531.\u001b[0m\n"
          ],
          "name": "stderr"
        },
        {
          "output_type": "stream",
          "text": [
            "[07:23:33] WARNING: /workspace/src/objective/regression_obj.cu:152: reg:linear is now deprecated in favor of reg:squarederror.\n"
          ],
          "name": "stdout"
        },
        {
          "output_type": "stream",
          "text": [
            "\u001b[32m[I 2021-07-18 07:23:34,057]\u001b[0m Trial 815 finished with value: 130.64179122447968 and parameters: {'alpha': 1.3607108896748243, 'lambda': 8.178214925241372, 'gamma': 0, 'colsample_bytree': 0.8, 'subsample': 0.5, 'learning_rate': 0.06, 'n_estimators': 334, 'max_depth': 5, 'min_child_weight': 1}. Best is trial 686 with value: 129.2410409450531.\u001b[0m\n"
          ],
          "name": "stderr"
        },
        {
          "output_type": "stream",
          "text": [
            "[07:23:34] WARNING: /workspace/src/objective/regression_obj.cu:152: reg:linear is now deprecated in favor of reg:squarederror.\n"
          ],
          "name": "stdout"
        },
        {
          "output_type": "stream",
          "text": [
            "\u001b[32m[I 2021-07-18 07:23:34,695]\u001b[0m Trial 816 finished with value: 138.4794875383377 and parameters: {'alpha': 1.3456317036959744, 'lambda': 9.948826037158334, 'gamma': 0, 'colsample_bytree': 0.8, 'subsample': 0.5, 'learning_rate': 0.06, 'n_estimators': 320, 'max_depth': 5, 'min_child_weight': 11}. Best is trial 686 with value: 129.2410409450531.\u001b[0m\n"
          ],
          "name": "stderr"
        },
        {
          "output_type": "stream",
          "text": [
            "[07:23:34] WARNING: /workspace/src/objective/regression_obj.cu:152: reg:linear is now deprecated in favor of reg:squarederror.\n"
          ],
          "name": "stdout"
        },
        {
          "output_type": "stream",
          "text": [
            "\u001b[32m[I 2021-07-18 07:23:35,331]\u001b[0m Trial 817 finished with value: 137.74453961849213 and parameters: {'alpha': 0.5749035300774977, 'lambda': 5.335707566192123, 'gamma': 0, 'colsample_bytree': 0.8, 'subsample': 0.5, 'learning_rate': 0.06, 'n_estimators': 371, 'max_depth': 5, 'min_child_weight': 6}. Best is trial 686 with value: 129.2410409450531.\u001b[0m\n"
          ],
          "name": "stderr"
        },
        {
          "output_type": "stream",
          "text": [
            "[07:23:35] WARNING: /workspace/src/objective/regression_obj.cu:152: reg:linear is now deprecated in favor of reg:squarederror.\n"
          ],
          "name": "stdout"
        },
        {
          "output_type": "stream",
          "text": [
            "\u001b[32m[I 2021-07-18 07:23:36,097]\u001b[0m Trial 818 finished with value: 139.66999280452728 and parameters: {'alpha': 1.8045107362963844, 'lambda': 4.341371055102716, 'gamma': 0, 'colsample_bytree': 0.8, 'subsample': 0.5, 'learning_rate': 0.06, 'n_estimators': 322, 'max_depth': 5, 'min_child_weight': 20}. Best is trial 686 with value: 129.2410409450531.\u001b[0m\n"
          ],
          "name": "stderr"
        },
        {
          "output_type": "stream",
          "text": [
            "[07:23:36] WARNING: /workspace/src/objective/regression_obj.cu:152: reg:linear is now deprecated in favor of reg:squarederror.\n"
          ],
          "name": "stdout"
        },
        {
          "output_type": "stream",
          "text": [
            "\u001b[32m[I 2021-07-18 07:23:36,768]\u001b[0m Trial 819 finished with value: 130.64179122447968 and parameters: {'alpha': 0.5928107857070707, 'lambda': 6.877528107243772, 'gamma': 0, 'colsample_bytree': 0.8, 'subsample': 0.5, 'learning_rate': 0.06, 'n_estimators': 358, 'max_depth': 5, 'min_child_weight': 1}. Best is trial 686 with value: 129.2410409450531.\u001b[0m\n"
          ],
          "name": "stderr"
        },
        {
          "output_type": "stream",
          "text": [
            "[07:23:36] WARNING: /workspace/src/objective/regression_obj.cu:152: reg:linear is now deprecated in favor of reg:squarederror.\n"
          ],
          "name": "stdout"
        },
        {
          "output_type": "stream",
          "text": [
            "\u001b[32m[I 2021-07-18 07:23:37,412]\u001b[0m Trial 820 finished with value: 138.4794875383377 and parameters: {'alpha': 0.5142177411572618, 'lambda': 9.999973938151458, 'gamma': 0, 'colsample_bytree': 0.8, 'subsample': 0.5, 'learning_rate': 0.06, 'n_estimators': 359, 'max_depth': 5, 'min_child_weight': 11}. Best is trial 686 with value: 129.2410409450531.\u001b[0m\n"
          ],
          "name": "stderr"
        },
        {
          "output_type": "stream",
          "text": [
            "[07:23:37] WARNING: /workspace/src/objective/regression_obj.cu:152: reg:linear is now deprecated in favor of reg:squarederror.\n"
          ],
          "name": "stdout"
        },
        {
          "output_type": "stream",
          "text": [
            "\u001b[32m[I 2021-07-18 07:23:38,088]\u001b[0m Trial 821 finished with value: 130.64179122447968 and parameters: {'alpha': 1.6642437571099136, 'lambda': 5.310762994980945, 'gamma': 0, 'colsample_bytree': 0.8, 'subsample': 0.5, 'learning_rate': 0.06, 'n_estimators': 355, 'max_depth': 5, 'min_child_weight': 1}. Best is trial 686 with value: 129.2410409450531.\u001b[0m\n"
          ],
          "name": "stderr"
        },
        {
          "output_type": "stream",
          "text": [
            "[07:23:38] WARNING: /workspace/src/objective/regression_obj.cu:152: reg:linear is now deprecated in favor of reg:squarederror.\n"
          ],
          "name": "stdout"
        },
        {
          "output_type": "stream",
          "text": [
            "\u001b[32m[I 2021-07-18 07:23:38,729]\u001b[0m Trial 822 finished with value: 137.74453961849213 and parameters: {'alpha': 1.7131589835360532, 'lambda': 5.863820872019072, 'gamma': 0, 'colsample_bytree': 0.8, 'subsample': 0.5, 'learning_rate': 0.06, 'n_estimators': 304, 'max_depth': 5, 'min_child_weight': 6}. Best is trial 686 with value: 129.2410409450531.\u001b[0m\n"
          ],
          "name": "stderr"
        },
        {
          "output_type": "stream",
          "text": [
            "[07:23:38] WARNING: /workspace/src/objective/regression_obj.cu:152: reg:linear is now deprecated in favor of reg:squarederror.\n"
          ],
          "name": "stdout"
        },
        {
          "output_type": "stream",
          "text": [
            "\u001b[32m[I 2021-07-18 07:23:39,408]\u001b[0m Trial 823 finished with value: 130.64179122447968 and parameters: {'alpha': 1.2069201406336831, 'lambda': 3.8880485899618247, 'gamma': 0, 'colsample_bytree': 0.8, 'subsample': 0.5, 'learning_rate': 0.06, 'n_estimators': 347, 'max_depth': 5, 'min_child_weight': 1}. Best is trial 686 with value: 129.2410409450531.\u001b[0m\n"
          ],
          "name": "stderr"
        },
        {
          "output_type": "stream",
          "text": [
            "[07:23:39] WARNING: /workspace/src/objective/regression_obj.cu:152: reg:linear is now deprecated in favor of reg:squarederror.\n"
          ],
          "name": "stdout"
        },
        {
          "output_type": "stream",
          "text": [
            "\u001b[32m[I 2021-07-18 07:23:40,189]\u001b[0m Trial 824 finished with value: 146.88394474983215 and parameters: {'alpha': 0.7254447834809341, 'lambda': 9.870153783068098, 'gamma': 0, 'colsample_bytree': 0.8, 'subsample': 0.5, 'learning_rate': 0.06, 'n_estimators': 244, 'max_depth': 5, 'min_child_weight': 27}. Best is trial 686 with value: 129.2410409450531.\u001b[0m\n"
          ],
          "name": "stderr"
        },
        {
          "output_type": "stream",
          "text": [
            "[07:23:40] WARNING: /workspace/src/objective/regression_obj.cu:152: reg:linear is now deprecated in favor of reg:squarederror.\n"
          ],
          "name": "stdout"
        },
        {
          "output_type": "stream",
          "text": [
            "\u001b[32m[I 2021-07-18 07:23:40,853]\u001b[0m Trial 825 finished with value: 141.0383517742157 and parameters: {'alpha': 2.2339431611646163, 'lambda': 4.678298885431668, 'gamma': 0, 'colsample_bytree': 0.8, 'subsample': 0.5, 'learning_rate': 0.06, 'n_estimators': 312, 'max_depth': 5, 'min_child_weight': 16}. Best is trial 686 with value: 129.2410409450531.\u001b[0m\n"
          ],
          "name": "stderr"
        },
        {
          "output_type": "stream",
          "text": [
            "[07:23:40] WARNING: /workspace/src/objective/regression_obj.cu:152: reg:linear is now deprecated in favor of reg:squarederror.\n"
          ],
          "name": "stdout"
        },
        {
          "output_type": "stream",
          "text": [
            "\u001b[32m[I 2021-07-18 07:23:41,491]\u001b[0m Trial 826 finished with value: 137.74453961849213 and parameters: {'alpha': 0.5215048981679062, 'lambda': 3.83203991618872, 'gamma': 0, 'colsample_bytree': 0.8, 'subsample': 0.5, 'learning_rate': 0.06, 'n_estimators': 387, 'max_depth': 5, 'min_child_weight': 6}. Best is trial 686 with value: 129.2410409450531.\u001b[0m\n"
          ],
          "name": "stderr"
        },
        {
          "output_type": "stream",
          "text": [
            "[07:23:41] WARNING: /workspace/src/objective/regression_obj.cu:152: reg:linear is now deprecated in favor of reg:squarederror.\n"
          ],
          "name": "stdout"
        },
        {
          "output_type": "stream",
          "text": [
            "\u001b[32m[I 2021-07-18 07:23:42,130]\u001b[0m Trial 827 finished with value: 138.4794875383377 and parameters: {'alpha': 1.0358097992531663, 'lambda': 6.957610572456287, 'gamma': 0, 'colsample_bytree': 0.8, 'subsample': 0.5, 'learning_rate': 0.06, 'n_estimators': 334, 'max_depth': 5, 'min_child_weight': 11}. Best is trial 686 with value: 129.2410409450531.\u001b[0m\n"
          ],
          "name": "stderr"
        },
        {
          "output_type": "stream",
          "text": [
            "[07:23:42] WARNING: /workspace/src/objective/regression_obj.cu:152: reg:linear is now deprecated in favor of reg:squarederror.\n"
          ],
          "name": "stdout"
        },
        {
          "output_type": "stream",
          "text": [
            "\u001b[32m[I 2021-07-18 07:23:42,802]\u001b[0m Trial 828 finished with value: 130.64179122447968 and parameters: {'alpha': 0.5569471235160953, 'lambda': 5.018878583238461, 'gamma': 0, 'colsample_bytree': 0.8, 'subsample': 0.5, 'learning_rate': 0.06, 'n_estimators': 359, 'max_depth': 5, 'min_child_weight': 1}. Best is trial 686 with value: 129.2410409450531.\u001b[0m\n"
          ],
          "name": "stderr"
        },
        {
          "output_type": "stream",
          "text": [
            "[07:23:42] WARNING: /workspace/src/objective/regression_obj.cu:152: reg:linear is now deprecated in favor of reg:squarederror.\n"
          ],
          "name": "stdout"
        },
        {
          "output_type": "stream",
          "text": [
            "\u001b[32m[I 2021-07-18 07:23:43,480]\u001b[0m Trial 829 finished with value: 130.64179122447968 and parameters: {'alpha': 0.8980378601887111, 'lambda': 7.1756776595136476, 'gamma': 0, 'colsample_bytree': 0.8, 'subsample': 0.5, 'learning_rate': 0.06, 'n_estimators': 343, 'max_depth': 5, 'min_child_weight': 1}. Best is trial 686 with value: 129.2410409450531.\u001b[0m\n"
          ],
          "name": "stderr"
        },
        {
          "output_type": "stream",
          "text": [
            "[07:23:43] WARNING: /workspace/src/objective/regression_obj.cu:152: reg:linear is now deprecated in favor of reg:squarederror.\n"
          ],
          "name": "stdout"
        },
        {
          "output_type": "stream",
          "text": [
            "\u001b[32m[I 2021-07-18 07:23:44,113]\u001b[0m Trial 830 finished with value: 137.74453961849213 and parameters: {'alpha': 0.49896968040243117, 'lambda': 7.956240059046458, 'gamma': 0, 'colsample_bytree': 0.8, 'subsample': 0.5, 'learning_rate': 0.06, 'n_estimators': 342, 'max_depth': 5, 'min_child_weight': 6}. Best is trial 686 with value: 129.2410409450531.\u001b[0m\n"
          ],
          "name": "stderr"
        },
        {
          "output_type": "stream",
          "text": [
            "[07:23:44] WARNING: /workspace/src/objective/regression_obj.cu:152: reg:linear is now deprecated in favor of reg:squarederror.\n"
          ],
          "name": "stdout"
        },
        {
          "output_type": "stream",
          "text": [
            "\u001b[32m[I 2021-07-18 07:23:44,786]\u001b[0m Trial 831 finished with value: 141.0383517742157 and parameters: {'alpha': 1.0380840509411162, 'lambda': 7.133800452615326, 'gamma': 0, 'colsample_bytree': 0.8, 'subsample': 0.5, 'learning_rate': 0.06, 'n_estimators': 347, 'max_depth': 5, 'min_child_weight': 16}. Best is trial 686 with value: 129.2410409450531.\u001b[0m\n"
          ],
          "name": "stderr"
        },
        {
          "output_type": "stream",
          "text": [
            "[07:23:44] WARNING: /workspace/src/objective/regression_obj.cu:152: reg:linear is now deprecated in favor of reg:squarederror.\n"
          ],
          "name": "stdout"
        },
        {
          "output_type": "stream",
          "text": [
            "\u001b[32m[I 2021-07-18 07:23:45,419]\u001b[0m Trial 832 finished with value: 137.74453961849213 and parameters: {'alpha': 0.6689480961621224, 'lambda': 4.7738524108577085, 'gamma': 0, 'colsample_bytree': 0.8, 'subsample': 0.5, 'learning_rate': 0.06, 'n_estimators': 318, 'max_depth': 5, 'min_child_weight': 6}. Best is trial 686 with value: 129.2410409450531.\u001b[0m\n"
          ],
          "name": "stderr"
        },
        {
          "output_type": "stream",
          "text": [
            "[07:23:45] WARNING: /workspace/src/objective/regression_obj.cu:152: reg:linear is now deprecated in favor of reg:squarederror.\n"
          ],
          "name": "stdout"
        },
        {
          "output_type": "stream",
          "text": [
            "\u001b[32m[I 2021-07-18 07:23:46,058]\u001b[0m Trial 833 finished with value: 138.4794875383377 and parameters: {'alpha': 2.0265596679364664, 'lambda': 5.711486415602275, 'gamma': 0, 'colsample_bytree': 0.8, 'subsample': 0.5, 'learning_rate': 0.06, 'n_estimators': 290, 'max_depth': 5, 'min_child_weight': 11}. Best is trial 686 with value: 129.2410409450531.\u001b[0m\n"
          ],
          "name": "stderr"
        },
        {
          "output_type": "stream",
          "text": [
            "[07:23:46] WARNING: /workspace/src/objective/regression_obj.cu:152: reg:linear is now deprecated in favor of reg:squarederror.\n"
          ],
          "name": "stdout"
        },
        {
          "output_type": "stream",
          "text": [
            "\u001b[32m[I 2021-07-18 07:23:46,734]\u001b[0m Trial 834 finished with value: 130.64179122447968 and parameters: {'alpha': 0.6674480903120149, 'lambda': 4.036507995241602, 'gamma': 0, 'colsample_bytree': 0.8, 'subsample': 0.5, 'learning_rate': 0.06, 'n_estimators': 288, 'max_depth': 5, 'min_child_weight': 1}. Best is trial 686 with value: 129.2410409450531.\u001b[0m\n"
          ],
          "name": "stderr"
        },
        {
          "output_type": "stream",
          "text": [
            "[07:23:46] WARNING: /workspace/src/objective/regression_obj.cu:152: reg:linear is now deprecated in favor of reg:squarederror.\n"
          ],
          "name": "stdout"
        },
        {
          "output_type": "stream",
          "text": [
            "\u001b[32m[I 2021-07-18 07:23:47,406]\u001b[0m Trial 835 finished with value: 130.64179122447968 and parameters: {'alpha': 0.8401976865219458, 'lambda': 8.349702423871463, 'gamma': 0, 'colsample_bytree': 0.8, 'subsample': 0.5, 'learning_rate': 0.06, 'n_estimators': 247, 'max_depth': 5, 'min_child_weight': 1}. Best is trial 686 with value: 129.2410409450531.\u001b[0m\n"
          ],
          "name": "stderr"
        },
        {
          "output_type": "stream",
          "text": [
            "[07:23:47] WARNING: /workspace/src/objective/regression_obj.cu:152: reg:linear is now deprecated in favor of reg:squarederror.\n"
          ],
          "name": "stdout"
        },
        {
          "output_type": "stream",
          "text": [
            "\u001b[32m[I 2021-07-18 07:23:48,030]\u001b[0m Trial 836 finished with value: 138.58077669143677 and parameters: {'alpha': 0.7217851332828412, 'lambda': 8.469455129793895, 'gamma': 0, 'colsample_bytree': 0.8, 'subsample': 0.5, 'learning_rate': 0.06, 'n_estimators': 262, 'max_depth': 5, 'min_child_weight': 7}. Best is trial 686 with value: 129.2410409450531.\u001b[0m\n"
          ],
          "name": "stderr"
        },
        {
          "output_type": "stream",
          "text": [
            "[07:23:48] WARNING: /workspace/src/objective/regression_obj.cu:152: reg:linear is now deprecated in favor of reg:squarederror.\n"
          ],
          "name": "stdout"
        },
        {
          "output_type": "stream",
          "text": [
            "\u001b[32m[I 2021-07-18 07:23:48,704]\u001b[0m Trial 837 finished with value: 130.64179122447968 and parameters: {'alpha': 0.6315391838971934, 'lambda': 6.242925678525787, 'gamma': 0, 'colsample_bytree': 0.8, 'subsample': 0.5, 'learning_rate': 0.06, 'n_estimators': 368, 'max_depth': 5, 'min_child_weight': 1}. Best is trial 686 with value: 129.2410409450531.\u001b[0m\n"
          ],
          "name": "stderr"
        },
        {
          "output_type": "stream",
          "text": [
            "[07:23:48] WARNING: /workspace/src/objective/regression_obj.cu:152: reg:linear is now deprecated in favor of reg:squarederror.\n"
          ],
          "name": "stdout"
        },
        {
          "output_type": "stream",
          "text": [
            "\u001b[32m[I 2021-07-18 07:23:49,341]\u001b[0m Trial 838 finished with value: 142.54484295845032 and parameters: {'alpha': 0.4929708668038628, 'lambda': 5.298266472127024, 'gamma': 0, 'colsample_bytree': 0.8, 'subsample': 0.5, 'learning_rate': 0.06, 'n_estimators': 325, 'max_depth': 5, 'min_child_weight': 14}. Best is trial 686 with value: 129.2410409450531.\u001b[0m\n"
          ],
          "name": "stderr"
        },
        {
          "output_type": "stream",
          "text": [
            "[07:23:49] WARNING: /workspace/src/objective/regression_obj.cu:152: reg:linear is now deprecated in favor of reg:squarederror.\n"
          ],
          "name": "stdout"
        },
        {
          "output_type": "stream",
          "text": [
            "\u001b[32m[I 2021-07-18 07:23:50,222]\u001b[0m Trial 839 finished with value: 143.8750445842743 and parameters: {'alpha': 0.5760124074560479, 'lambda': 5.961577854996905, 'gamma': 0, 'colsample_bytree': 0.8, 'subsample': 0.5, 'learning_rate': 0.06, 'n_estimators': 382, 'max_depth': 5, 'min_child_weight': 24}. Best is trial 686 with value: 129.2410409450531.\u001b[0m\n"
          ],
          "name": "stderr"
        },
        {
          "output_type": "stream",
          "text": [
            "[07:23:50] WARNING: /workspace/src/objective/regression_obj.cu:152: reg:linear is now deprecated in favor of reg:squarederror.\n"
          ],
          "name": "stdout"
        },
        {
          "output_type": "stream",
          "text": [
            "\u001b[32m[I 2021-07-18 07:23:50,725]\u001b[0m Trial 840 finished with value: 283.4939498901367 and parameters: {'alpha': 0.8294319911388653, 'lambda': 3.732369586467358, 'gamma': 0, 'colsample_bytree': 0.8, 'subsample': 0.5, 'learning_rate': 0.06, 'n_estimators': 272, 'max_depth': 5, 'min_child_weight': 260}. Best is trial 686 with value: 129.2410409450531.\u001b[0m\n"
          ],
          "name": "stderr"
        },
        {
          "output_type": "stream",
          "text": [
            "[07:23:50] WARNING: /workspace/src/objective/regression_obj.cu:152: reg:linear is now deprecated in favor of reg:squarederror.\n"
          ],
          "name": "stdout"
        },
        {
          "output_type": "stream",
          "text": [
            "\u001b[32m[I 2021-07-18 07:23:51,412]\u001b[0m Trial 841 finished with value: 130.64179122447968 and parameters: {'alpha': 0.8416952449374304, 'lambda': 6.763187008409139, 'gamma': 0, 'colsample_bytree': 0.8, 'subsample': 0.5, 'learning_rate': 0.06, 'n_estimators': 370, 'max_depth': 5, 'min_child_weight': 1}. Best is trial 686 with value: 129.2410409450531.\u001b[0m\n"
          ],
          "name": "stderr"
        },
        {
          "output_type": "stream",
          "text": [
            "[07:23:51] WARNING: /workspace/src/objective/regression_obj.cu:152: reg:linear is now deprecated in favor of reg:squarederror.\n"
          ],
          "name": "stdout"
        },
        {
          "output_type": "stream",
          "text": [
            "\u001b[32m[I 2021-07-18 07:23:52,029]\u001b[0m Trial 842 finished with value: 142.63454031944275 and parameters: {'alpha': 1.082007885861014, 'lambda': 6.757332884241585, 'gamma': 0, 'colsample_bytree': 0.8, 'subsample': 0.5, 'learning_rate': 0.06, 'n_estimators': 351, 'max_depth': 5, 'min_child_weight': 10}. Best is trial 686 with value: 129.2410409450531.\u001b[0m\n"
          ],
          "name": "stderr"
        },
        {
          "output_type": "stream",
          "text": [
            "[07:23:52] WARNING: /workspace/src/objective/regression_obj.cu:152: reg:linear is now deprecated in favor of reg:squarederror.\n"
          ],
          "name": "stdout"
        },
        {
          "output_type": "stream",
          "text": [
            "\u001b[32m[I 2021-07-18 07:23:52,713]\u001b[0m Trial 843 finished with value: 130.64179122447968 and parameters: {'alpha': 0.6290306744547898, 'lambda': 5.021398575941501, 'gamma': 0, 'colsample_bytree': 0.8, 'subsample': 0.5, 'learning_rate': 0.06, 'n_estimators': 330, 'max_depth': 5, 'min_child_weight': 1}. Best is trial 686 with value: 129.2410409450531.\u001b[0m\n"
          ],
          "name": "stderr"
        },
        {
          "output_type": "stream",
          "text": [
            "[07:23:52] WARNING: /workspace/src/objective/regression_obj.cu:152: reg:linear is now deprecated in favor of reg:squarederror.\n"
          ],
          "name": "stdout"
        },
        {
          "output_type": "stream",
          "text": [
            "\u001b[32m[I 2021-07-18 07:23:53,497]\u001b[0m Trial 844 finished with value: 139.66999280452728 and parameters: {'alpha': 1.210261671989399, 'lambda': 9.959878416795052, 'gamma': 0, 'colsample_bytree': 0.8, 'subsample': 0.5, 'learning_rate': 0.06, 'n_estimators': 323, 'max_depth': 5, 'min_child_weight': 20}. Best is trial 686 with value: 129.2410409450531.\u001b[0m\n"
          ],
          "name": "stderr"
        },
        {
          "output_type": "stream",
          "text": [
            "[07:23:53] WARNING: /workspace/src/objective/regression_obj.cu:152: reg:linear is now deprecated in favor of reg:squarederror.\n"
          ],
          "name": "stdout"
        },
        {
          "output_type": "stream",
          "text": [
            "\u001b[32m[I 2021-07-18 07:23:54,130]\u001b[0m Trial 845 finished with value: 142.69814789295197 and parameters: {'alpha': 1.6160016910270114, 'lambda': 7.681799459488081, 'gamma': 0, 'colsample_bytree': 0.8, 'subsample': 0.5, 'learning_rate': 0.06, 'n_estimators': 301, 'max_depth': 5, 'min_child_weight': 8}. Best is trial 686 with value: 129.2410409450531.\u001b[0m\n"
          ],
          "name": "stderr"
        },
        {
          "output_type": "stream",
          "text": [
            "[07:23:54] WARNING: /workspace/src/objective/regression_obj.cu:152: reg:linear is now deprecated in favor of reg:squarederror.\n"
          ],
          "name": "stdout"
        },
        {
          "output_type": "stream",
          "text": [
            "\u001b[32m[I 2021-07-18 07:23:54,816]\u001b[0m Trial 846 finished with value: 130.64179122447968 and parameters: {'alpha': 1.3208745488169076, 'lambda': 8.297594877458835, 'gamma': 0, 'colsample_bytree': 0.8, 'subsample': 0.5, 'learning_rate': 0.06, 'n_estimators': 327, 'max_depth': 5, 'min_child_weight': 1}. Best is trial 686 with value: 129.2410409450531.\u001b[0m\n"
          ],
          "name": "stderr"
        },
        {
          "output_type": "stream",
          "text": [
            "[07:23:54] WARNING: /workspace/src/objective/regression_obj.cu:152: reg:linear is now deprecated in favor of reg:squarederror.\n"
          ],
          "name": "stdout"
        },
        {
          "output_type": "stream",
          "text": [
            "\u001b[32m[I 2021-07-18 07:23:55,466]\u001b[0m Trial 847 finished with value: 137.74453961849213 and parameters: {'alpha': 0.90095981373182, 'lambda': 8.433515164306117, 'gamma': 0, 'colsample_bytree': 0.8, 'subsample': 0.5, 'learning_rate': 0.06, 'n_estimators': 336, 'max_depth': 5, 'min_child_weight': 6}. Best is trial 686 with value: 129.2410409450531.\u001b[0m\n"
          ],
          "name": "stderr"
        },
        {
          "output_type": "stream",
          "text": [
            "[07:23:55] WARNING: /workspace/src/objective/regression_obj.cu:152: reg:linear is now deprecated in favor of reg:squarederror.\n"
          ],
          "name": "stdout"
        },
        {
          "output_type": "stream",
          "text": [
            "\u001b[32m[I 2021-07-18 07:23:56,595]\u001b[0m Trial 848 finished with value: 213.19755935668945 and parameters: {'alpha': 0.9910198088583899, 'lambda': 7.312346724870611, 'gamma': 0, 'colsample_bytree': 0.8, 'subsample': 0.5, 'learning_rate': 0.06, 'n_estimators': 343, 'max_depth': 5, 'min_child_weight': 165}. Best is trial 686 with value: 129.2410409450531.\u001b[0m\n"
          ],
          "name": "stderr"
        },
        {
          "output_type": "stream",
          "text": [
            "[07:23:56] WARNING: /workspace/src/objective/regression_obj.cu:152: reg:linear is now deprecated in favor of reg:squarederror.\n"
          ],
          "name": "stdout"
        },
        {
          "output_type": "stream",
          "text": [
            "\u001b[32m[I 2021-07-18 07:23:57,268]\u001b[0m Trial 849 finished with value: 142.4951775074005 and parameters: {'alpha': 0.6118679630015293, 'lambda': 5.5865241873548745, 'gamma': 0, 'colsample_bytree': 0.8, 'subsample': 0.5, 'learning_rate': 0.06, 'n_estimators': 365, 'max_depth': 5, 'min_child_weight': 15}. Best is trial 686 with value: 129.2410409450531.\u001b[0m\n"
          ],
          "name": "stderr"
        },
        {
          "output_type": "stream",
          "text": [
            "[07:23:57] WARNING: /workspace/src/objective/regression_obj.cu:152: reg:linear is now deprecated in favor of reg:squarederror.\n"
          ],
          "name": "stdout"
        },
        {
          "output_type": "stream",
          "text": [
            "\u001b[32m[I 2021-07-18 07:23:57,962]\u001b[0m Trial 850 finished with value: 130.64179122447968 and parameters: {'alpha': 0.5467699438777956, 'lambda': 4.2608881868228945, 'gamma': 0, 'colsample_bytree': 0.8, 'subsample': 0.5, 'learning_rate': 0.06, 'n_estimators': 329, 'max_depth': 5, 'min_child_weight': 1}. Best is trial 686 with value: 129.2410409450531.\u001b[0m\n"
          ],
          "name": "stderr"
        },
        {
          "output_type": "stream",
          "text": [
            "[07:23:58] WARNING: /workspace/src/objective/regression_obj.cu:152: reg:linear is now deprecated in favor of reg:squarederror.\n"
          ],
          "name": "stdout"
        },
        {
          "output_type": "stream",
          "text": [
            "\u001b[32m[I 2021-07-18 07:23:58,914]\u001b[0m Trial 851 finished with value: 138.8555510044098 and parameters: {'alpha': 1.1891338547744759, 'lambda': 7.150701931934687, 'gamma': 0, 'colsample_bytree': 0.8, 'subsample': 0.5, 'learning_rate': 0.02, 'n_estimators': 333, 'max_depth': 5, 'min_child_weight': 10}. Best is trial 686 with value: 129.2410409450531.\u001b[0m\n"
          ],
          "name": "stderr"
        },
        {
          "output_type": "stream",
          "text": [
            "[07:23:58] WARNING: /workspace/src/objective/regression_obj.cu:152: reg:linear is now deprecated in favor of reg:squarederror.\n"
          ],
          "name": "stdout"
        },
        {
          "output_type": "stream",
          "text": [
            "\u001b[32m[I 2021-07-18 07:23:59,606]\u001b[0m Trial 852 finished with value: 130.64179122447968 and parameters: {'alpha': 0.4741801486803961, 'lambda': 5.868265385111104, 'gamma': 0, 'colsample_bytree': 0.8, 'subsample': 0.5, 'learning_rate': 0.06, 'n_estimators': 311, 'max_depth': 5, 'min_child_weight': 1}. Best is trial 686 with value: 129.2410409450531.\u001b[0m\n"
          ],
          "name": "stderr"
        },
        {
          "output_type": "stream",
          "text": [
            "[07:23:59] WARNING: /workspace/src/objective/regression_obj.cu:152: reg:linear is now deprecated in favor of reg:squarederror.\n"
          ],
          "name": "stdout"
        },
        {
          "output_type": "stream",
          "text": [
            "\u001b[32m[I 2021-07-18 07:24:00,239]\u001b[0m Trial 853 finished with value: 138.58077669143677 and parameters: {'alpha': 0.7746971964752062, 'lambda': 9.58079567738877, 'gamma': 0, 'colsample_bytree': 0.8, 'subsample': 0.5, 'learning_rate': 0.06, 'n_estimators': 249, 'max_depth': 5, 'min_child_weight': 7}. Best is trial 686 with value: 129.2410409450531.\u001b[0m\n"
          ],
          "name": "stderr"
        },
        {
          "output_type": "stream",
          "text": [
            "[07:24:00] WARNING: /workspace/src/objective/regression_obj.cu:152: reg:linear is now deprecated in favor of reg:squarederror.\n"
          ],
          "name": "stdout"
        },
        {
          "output_type": "stream",
          "text": [
            "\u001b[32m[I 2021-07-18 07:24:01,614]\u001b[0m Trial 854 finished with value: 143.7072800397873 and parameters: {'alpha': 0.6877310654805892, 'lambda': 9.73481515929251, 'gamma': 0, 'colsample_bytree': 0.8, 'subsample': 0.5, 'learning_rate': 0.01, 'n_estimators': 373, 'max_depth': 5, 'min_child_weight': 14}. Best is trial 686 with value: 129.2410409450531.\u001b[0m\n"
          ],
          "name": "stderr"
        },
        {
          "output_type": "stream",
          "text": [
            "[07:24:01] WARNING: /workspace/src/objective/regression_obj.cu:152: reg:linear is now deprecated in favor of reg:squarederror.\n"
          ],
          "name": "stdout"
        },
        {
          "output_type": "stream",
          "text": [
            "\u001b[32m[I 2021-07-18 07:24:02,302]\u001b[0m Trial 855 finished with value: 130.64179122447968 and parameters: {'alpha': 1.841396822630272, 'lambda': 4.395462137578537, 'gamma': 0, 'colsample_bytree': 0.8, 'subsample': 0.5, 'learning_rate': 0.06, 'n_estimators': 296, 'max_depth': 5, 'min_child_weight': 1}. Best is trial 686 with value: 129.2410409450531.\u001b[0m\n"
          ],
          "name": "stderr"
        },
        {
          "output_type": "stream",
          "text": [
            "[07:24:02] WARNING: /workspace/src/objective/regression_obj.cu:152: reg:linear is now deprecated in favor of reg:squarederror.\n"
          ],
          "name": "stdout"
        },
        {
          "output_type": "stream",
          "text": [
            "\u001b[32m[I 2021-07-18 07:24:02,955]\u001b[0m Trial 856 finished with value: 137.74453961849213 and parameters: {'alpha': 1.4088878337680781, 'lambda': 6.100533865080586, 'gamma': 0, 'colsample_bytree': 0.8, 'subsample': 0.5, 'learning_rate': 0.06, 'n_estimators': 357, 'max_depth': 5, 'min_child_weight': 6}. Best is trial 686 with value: 129.2410409450531.\u001b[0m\n"
          ],
          "name": "stderr"
        },
        {
          "output_type": "stream",
          "text": [
            "[07:24:03] WARNING: /workspace/src/objective/regression_obj.cu:152: reg:linear is now deprecated in favor of reg:squarederror.\n"
          ],
          "name": "stdout"
        },
        {
          "output_type": "stream",
          "text": [
            "\u001b[32m[I 2021-07-18 07:24:03,651]\u001b[0m Trial 857 finished with value: 130.64179122447968 and parameters: {'alpha': 0.8626299842585274, 'lambda': 8.56058812894332, 'gamma': 0, 'colsample_bytree': 0.8, 'subsample': 0.5, 'learning_rate': 0.06, 'n_estimators': 358, 'max_depth': 5, 'min_child_weight': 1}. Best is trial 686 with value: 129.2410409450531.\u001b[0m\n"
          ],
          "name": "stderr"
        },
        {
          "output_type": "stream",
          "text": [
            "[07:24:03] WARNING: /workspace/src/objective/regression_obj.cu:152: reg:linear is now deprecated in favor of reg:squarederror.\n"
          ],
          "name": "stdout"
        },
        {
          "output_type": "stream",
          "text": [
            "\u001b[32m[I 2021-07-18 07:24:04,271]\u001b[0m Trial 858 finished with value: 142.63454031944275 and parameters: {'alpha': 0.5875512428343578, 'lambda': 5.00630135659623, 'gamma': 0, 'colsample_bytree': 0.8, 'subsample': 0.5, 'learning_rate': 0.06, 'n_estimators': 366, 'max_depth': 5, 'min_child_weight': 10}. Best is trial 686 with value: 129.2410409450531.\u001b[0m\n"
          ],
          "name": "stderr"
        },
        {
          "output_type": "stream",
          "text": [
            "[07:24:04] WARNING: /workspace/src/objective/regression_obj.cu:152: reg:linear is now deprecated in favor of reg:squarederror.\n"
          ],
          "name": "stdout"
        },
        {
          "output_type": "stream",
          "text": [
            "\u001b[32m[I 2021-07-18 07:24:05,052]\u001b[0m Trial 859 finished with value: 138.80975079536438 and parameters: {'alpha': 0.4792658408337314, 'lambda': 6.541123609187675, 'gamma': 0, 'colsample_bytree': 0.8, 'subsample': 0.5, 'learning_rate': 0.06, 'n_estimators': 352, 'max_depth': 5, 'min_child_weight': 19}. Best is trial 686 with value: 129.2410409450531.\u001b[0m\n"
          ],
          "name": "stderr"
        },
        {
          "output_type": "stream",
          "text": [
            "[07:24:05] WARNING: /workspace/src/objective/regression_obj.cu:152: reg:linear is now deprecated in favor of reg:squarederror.\n"
          ],
          "name": "stdout"
        },
        {
          "output_type": "stream",
          "text": [
            "\u001b[32m[I 2021-07-18 07:24:05,740]\u001b[0m Trial 860 finished with value: 130.64179122447968 and parameters: {'alpha': 1.6581219863635681, 'lambda': 3.4546314504927644, 'gamma': 0, 'colsample_bytree': 0.8, 'subsample': 0.5, 'learning_rate': 0.06, 'n_estimators': 306, 'max_depth': 5, 'min_child_weight': 1}. Best is trial 686 with value: 129.2410409450531.\u001b[0m\n"
          ],
          "name": "stderr"
        },
        {
          "output_type": "stream",
          "text": [
            "[07:24:05] WARNING: /workspace/src/objective/regression_obj.cu:152: reg:linear is now deprecated in favor of reg:squarederror.\n"
          ],
          "name": "stdout"
        },
        {
          "output_type": "stream",
          "text": [
            "\u001b[32m[I 2021-07-18 07:24:06,429]\u001b[0m Trial 861 finished with value: 139.35433834791183 and parameters: {'alpha': 2.7673150590816373, 'lambda': 3.464817524934678, 'gamma': 0, 'colsample_bytree': 0.9, 'subsample': 0.5, 'learning_rate': 0.06, 'n_estimators': 282, 'max_depth': 5, 'min_child_weight': 1}. Best is trial 686 with value: 129.2410409450531.\u001b[0m\n"
          ],
          "name": "stderr"
        },
        {
          "output_type": "stream",
          "text": [
            "[07:24:06] WARNING: /workspace/src/objective/regression_obj.cu:152: reg:linear is now deprecated in favor of reg:squarederror.\n"
          ],
          "name": "stdout"
        },
        {
          "output_type": "stream",
          "text": [
            "\u001b[32m[I 2021-07-18 07:24:07,066]\u001b[0m Trial 862 finished with value: 138.58077669143677 and parameters: {'alpha': 1.519675145450255, 'lambda': 7.421612136552325, 'gamma': 0, 'colsample_bytree': 0.8, 'subsample': 0.5, 'learning_rate': 0.06, 'n_estimators': 349, 'max_depth': 5, 'min_child_weight': 7}. Best is trial 686 with value: 129.2410409450531.\u001b[0m\n"
          ],
          "name": "stderr"
        },
        {
          "output_type": "stream",
          "text": [
            "[07:24:07] WARNING: /workspace/src/objective/regression_obj.cu:152: reg:linear is now deprecated in favor of reg:squarederror.\n"
          ],
          "name": "stdout"
        },
        {
          "output_type": "stream",
          "text": [
            "\u001b[32m[I 2021-07-18 07:24:07,763]\u001b[0m Trial 863 finished with value: 142.2347172498703 and parameters: {'alpha': 0.6430197378268803, 'lambda': 6.189493279573877, 'gamma': 0, 'colsample_bytree': 0.8, 'subsample': 0.5, 'learning_rate': 0.06, 'n_estimators': 362, 'max_depth': 5, 'min_child_weight': 13}. Best is trial 686 with value: 129.2410409450531.\u001b[0m\n"
          ],
          "name": "stderr"
        },
        {
          "output_type": "stream",
          "text": [
            "[07:24:07] WARNING: /workspace/src/objective/regression_obj.cu:152: reg:linear is now deprecated in favor of reg:squarederror.\n"
          ],
          "name": "stdout"
        },
        {
          "output_type": "stream",
          "text": [
            "\u001b[32m[I 2021-07-18 07:24:08,415]\u001b[0m Trial 864 finished with value: 142.10173094272614 and parameters: {'alpha': 1.9739734759633687, 'lambda': 4.373536360944858, 'gamma': 0, 'colsample_bytree': 0.7, 'subsample': 0.5, 'learning_rate': 0.06, 'n_estimators': 264, 'max_depth': 5, 'min_child_weight': 6}. Best is trial 686 with value: 129.2410409450531.\u001b[0m\n"
          ],
          "name": "stderr"
        },
        {
          "output_type": "stream",
          "text": [
            "[07:24:08] WARNING: /workspace/src/objective/regression_obj.cu:152: reg:linear is now deprecated in favor of reg:squarederror.\n"
          ],
          "name": "stdout"
        },
        {
          "output_type": "stream",
          "text": [
            "\u001b[32m[I 2021-07-18 07:24:09,113]\u001b[0m Trial 865 finished with value: 139.2879844903946 and parameters: {'alpha': 0.5812072224683045, 'lambda': 9.691238751695273, 'gamma': 0, 'colsample_bytree': 1.0, 'subsample': 0.5, 'learning_rate': 0.06, 'n_estimators': 380, 'max_depth': 5, 'min_child_weight': 1}. Best is trial 686 with value: 129.2410409450531.\u001b[0m\n"
          ],
          "name": "stderr"
        },
        {
          "output_type": "stream",
          "text": [
            "[07:24:09] WARNING: /workspace/src/objective/regression_obj.cu:152: reg:linear is now deprecated in favor of reg:squarederror.\n"
          ],
          "name": "stdout"
        },
        {
          "output_type": "stream",
          "text": [
            "\u001b[32m[I 2021-07-18 07:24:09,927]\u001b[0m Trial 866 finished with value: 283.4821090698242 and parameters: {'alpha': 0.4724513950433683, 'lambda': 5.442367433621735, 'gamma': 0, 'colsample_bytree': 0.8, 'subsample': 0.5, 'learning_rate': 0.02, 'n_estimators': 303, 'max_depth': 5, 'min_child_weight': 222}. Best is trial 686 with value: 129.2410409450531.\u001b[0m\n"
          ],
          "name": "stderr"
        },
        {
          "output_type": "stream",
          "text": [
            "[07:24:09] WARNING: /workspace/src/objective/regression_obj.cu:152: reg:linear is now deprecated in favor of reg:squarederror.\n"
          ],
          "name": "stdout"
        },
        {
          "output_type": "stream",
          "text": [
            "\u001b[32m[I 2021-07-18 07:24:10,747]\u001b[0m Trial 867 finished with value: 142.03308475017548 and parameters: {'alpha': 0.5129035464006381, 'lambda': 7.7361355760243, 'gamma': 0, 'colsample_bytree': 0.3, 'subsample': 0.5, 'learning_rate': 0.06, 'n_estimators': 318, 'max_depth': 5, 'min_child_weight': 7}. Best is trial 686 with value: 129.2410409450531.\u001b[0m\n"
          ],
          "name": "stderr"
        },
        {
          "output_type": "stream",
          "text": [
            "[07:24:10] WARNING: /workspace/src/objective/regression_obj.cu:152: reg:linear is now deprecated in favor of reg:squarederror.\n"
          ],
          "name": "stdout"
        },
        {
          "output_type": "stream",
          "text": [
            "\u001b[32m[I 2021-07-18 07:24:11,258]\u001b[0m Trial 868 finished with value: 283.4939498901367 and parameters: {'alpha': 2.3561370722969794, 'lambda': 4.601082309568345, 'gamma': 0, 'colsample_bytree': 0.8, 'subsample': 0.5, 'learning_rate': 0.06, 'n_estimators': 315, 'max_depth': 5, 'min_child_weight': 242}. Best is trial 686 with value: 129.2410409450531.\u001b[0m\n"
          ],
          "name": "stderr"
        },
        {
          "output_type": "stream",
          "text": [
            "[07:24:11] WARNING: /workspace/src/objective/regression_obj.cu:152: reg:linear is now deprecated in favor of reg:squarederror.\n"
          ],
          "name": "stdout"
        },
        {
          "output_type": "stream",
          "text": [
            "\u001b[32m[I 2021-07-18 07:24:12,585]\u001b[0m Trial 869 finished with value: 144.0458425283432 and parameters: {'alpha': 0.9249050261527637, 'lambda': 6.299056392854392, 'gamma': 0, 'colsample_bytree': 0.8, 'subsample': 0.5, 'learning_rate': 0.01, 'n_estimators': 362, 'max_depth': 5, 'min_child_weight': 15}. Best is trial 686 with value: 129.2410409450531.\u001b[0m\n"
          ],
          "name": "stderr"
        },
        {
          "output_type": "stream",
          "text": [
            "[07:24:12] WARNING: /workspace/src/objective/regression_obj.cu:152: reg:linear is now deprecated in favor of reg:squarederror.\n"
          ],
          "name": "stdout"
        },
        {
          "output_type": "stream",
          "text": [
            "\u001b[32m[I 2021-07-18 07:24:13,242]\u001b[0m Trial 870 finished with value: 137.74453961849213 and parameters: {'alpha': 0.7519336971876942, 'lambda': 8.519313929551082, 'gamma': 0, 'colsample_bytree': 0.8, 'subsample': 0.5, 'learning_rate': 0.06, 'n_estimators': 254, 'max_depth': 5, 'min_child_weight': 6}. Best is trial 686 with value: 129.2410409450531.\u001b[0m\n"
          ],
          "name": "stderr"
        },
        {
          "output_type": "stream",
          "text": [
            "[07:24:13] WARNING: /workspace/src/objective/regression_obj.cu:152: reg:linear is now deprecated in favor of reg:squarederror.\n"
          ],
          "name": "stdout"
        },
        {
          "output_type": "stream",
          "text": [
            "\u001b[32m[I 2021-07-18 07:24:14,099]\u001b[0m Trial 871 finished with value: 148.05948162078857 and parameters: {'alpha': 0.6264862173542585, 'lambda': 5.334280414193251, 'gamma': 0, 'colsample_bytree': 0.4, 'subsample': 0.5, 'learning_rate': 0.06, 'n_estimators': 238, 'max_depth': 5, 'min_child_weight': 31}. Best is trial 686 with value: 129.2410409450531.\u001b[0m\n"
          ],
          "name": "stderr"
        },
        {
          "output_type": "stream",
          "text": [
            "[07:24:14] WARNING: /workspace/src/objective/regression_obj.cu:152: reg:linear is now deprecated in favor of reg:squarederror.\n"
          ],
          "name": "stdout"
        },
        {
          "output_type": "stream",
          "text": [
            "\u001b[32m[I 2021-07-18 07:24:14,791]\u001b[0m Trial 872 finished with value: 130.64179122447968 and parameters: {'alpha': 0.4566222150219417, 'lambda': 3.5009901486658093, 'gamma': 0, 'colsample_bytree': 0.8, 'subsample': 0.5, 'learning_rate': 0.06, 'n_estimators': 355, 'max_depth': 5, 'min_child_weight': 1}. Best is trial 686 with value: 129.2410409450531.\u001b[0m\n"
          ],
          "name": "stderr"
        },
        {
          "output_type": "stream",
          "text": [
            "[07:24:14] WARNING: /workspace/src/objective/regression_obj.cu:152: reg:linear is now deprecated in favor of reg:squarederror.\n"
          ],
          "name": "stdout"
        },
        {
          "output_type": "stream",
          "text": [
            "\u001b[32m[I 2021-07-18 07:24:15,689]\u001b[0m Trial 873 finished with value: 142.860480427742 and parameters: {'alpha': 0.43978025665594106, 'lambda': 4.099682766098039, 'gamma': 0, 'colsample_bytree': 0.8, 'subsample': 0.5, 'learning_rate': 0.06, 'n_estimators': 282, 'max_depth': 5, 'min_child_weight': 22}. Best is trial 686 with value: 129.2410409450531.\u001b[0m\n"
          ],
          "name": "stderr"
        },
        {
          "output_type": "stream",
          "text": [
            "[07:24:15] WARNING: /workspace/src/objective/regression_obj.cu:152: reg:linear is now deprecated in favor of reg:squarederror.\n"
          ],
          "name": "stdout"
        },
        {
          "output_type": "stream",
          "text": [
            "\u001b[32m[I 2021-07-18 07:24:16,338]\u001b[0m Trial 874 finished with value: 139.60469233989716 and parameters: {'alpha': 0.5333571239797938, 'lambda': 5.015065611604845, 'gamma': 0, 'colsample_bytree': 0.8, 'subsample': 0.5, 'learning_rate': 0.06, 'n_estimators': 340, 'max_depth': 5, 'min_child_weight': 12}. Best is trial 686 with value: 129.2410409450531.\u001b[0m\n"
          ],
          "name": "stderr"
        },
        {
          "output_type": "stream",
          "text": [
            "[07:24:16] WARNING: /workspace/src/objective/regression_obj.cu:152: reg:linear is now deprecated in favor of reg:squarederror.\n"
          ],
          "name": "stdout"
        },
        {
          "output_type": "stream",
          "text": [
            "\u001b[32m[I 2021-07-18 07:24:17,015]\u001b[0m Trial 875 finished with value: 130.64179122447968 and parameters: {'alpha': 1.3269070401990901, 'lambda': 7.2601141886531915, 'gamma': 0, 'colsample_bytree': 0.8, 'subsample': 0.5, 'learning_rate': 0.06, 'n_estimators': 339, 'max_depth': 5, 'min_child_weight': 1}. Best is trial 686 with value: 129.2410409450531.\u001b[0m\n"
          ],
          "name": "stderr"
        },
        {
          "output_type": "stream",
          "text": [
            "[07:24:17] WARNING: /workspace/src/objective/regression_obj.cu:152: reg:linear is now deprecated in favor of reg:squarederror.\n"
          ],
          "name": "stdout"
        },
        {
          "output_type": "stream",
          "text": [
            "\u001b[32m[I 2021-07-18 07:24:17,690]\u001b[0m Trial 876 finished with value: 130.64179122447968 and parameters: {'alpha': 1.4930837265936963, 'lambda': 4.578445930900809, 'gamma': 0, 'colsample_bytree': 0.8, 'subsample': 0.5, 'learning_rate': 0.06, 'n_estimators': 315, 'max_depth': 5, 'min_child_weight': 1}. Best is trial 686 with value: 129.2410409450531.\u001b[0m\n"
          ],
          "name": "stderr"
        },
        {
          "output_type": "stream",
          "text": [
            "[07:24:17] WARNING: /workspace/src/objective/regression_obj.cu:152: reg:linear is now deprecated in favor of reg:squarederror.\n"
          ],
          "name": "stdout"
        },
        {
          "output_type": "stream",
          "text": [
            "\u001b[32m[I 2021-07-18 07:24:18,337]\u001b[0m Trial 877 finished with value: 138.4794875383377 and parameters: {'alpha': 1.0631703395253211, 'lambda': 9.907416687663464, 'gamma': 0, 'colsample_bytree': 0.8, 'subsample': 0.5, 'learning_rate': 0.06, 'n_estimators': 343, 'max_depth': 5, 'min_child_weight': 11}. Best is trial 686 with value: 129.2410409450531.\u001b[0m\n"
          ],
          "name": "stderr"
        },
        {
          "output_type": "stream",
          "text": [
            "[07:24:18] WARNING: /workspace/src/objective/regression_obj.cu:152: reg:linear is now deprecated in favor of reg:squarederror.\n"
          ],
          "name": "stdout"
        },
        {
          "output_type": "stream",
          "text": [
            "\u001b[32m[I 2021-07-18 07:24:18,959]\u001b[0m Trial 878 finished with value: 141.42355751991272 and parameters: {'alpha': 0.8082342731473371, 'lambda': 8.536759620984734, 'gamma': 0, 'colsample_bytree': 0.9, 'subsample': 0.5, 'learning_rate': 0.06, 'n_estimators': 280, 'max_depth': 5, 'min_child_weight': 6}. Best is trial 686 with value: 129.2410409450531.\u001b[0m\n"
          ],
          "name": "stderr"
        },
        {
          "output_type": "stream",
          "text": [
            "[07:24:19] WARNING: /workspace/src/objective/regression_obj.cu:152: reg:linear is now deprecated in favor of reg:squarederror.\n"
          ],
          "name": "stdout"
        },
        {
          "output_type": "stream",
          "text": [
            "\u001b[32m[I 2021-07-18 07:24:19,965]\u001b[0m Trial 879 finished with value: 143.22870433330536 and parameters: {'alpha': 0.6557502953632124, 'lambda': 3.0849000213920514, 'gamma': 0, 'colsample_bytree': 0.8, 'subsample': 0.5, 'learning_rate': 0.02, 'n_estimators': 377, 'max_depth': 5, 'min_child_weight': 1}. Best is trial 686 with value: 129.2410409450531.\u001b[0m\n"
          ],
          "name": "stderr"
        },
        {
          "output_type": "stream",
          "text": [
            "[07:24:20] WARNING: /workspace/src/objective/regression_obj.cu:152: reg:linear is now deprecated in favor of reg:squarederror.\n"
          ],
          "name": "stdout"
        },
        {
          "output_type": "stream",
          "text": [
            "\u001b[32m[I 2021-07-18 07:24:20,737]\u001b[0m Trial 880 finished with value: 138.80975079536438 and parameters: {'alpha': 1.268763698308933, 'lambda': 6.291261124499813, 'gamma': 0, 'colsample_bytree': 0.8, 'subsample': 0.5, 'learning_rate': 0.06, 'n_estimators': 328, 'max_depth': 5, 'min_child_weight': 19}. Best is trial 686 with value: 129.2410409450531.\u001b[0m\n"
          ],
          "name": "stderr"
        },
        {
          "output_type": "stream",
          "text": [
            "[07:24:20] WARNING: /workspace/src/objective/regression_obj.cu:152: reg:linear is now deprecated in favor of reg:squarederror.\n"
          ],
          "name": "stdout"
        },
        {
          "output_type": "stream",
          "text": [
            "\u001b[32m[I 2021-07-18 07:24:21,422]\u001b[0m Trial 881 finished with value: 132.35188806056976 and parameters: {'alpha': 0.696879780209425, 'lambda': 3.9569719734426316, 'gamma': 0, 'colsample_bytree': 0.7, 'subsample': 0.5, 'learning_rate': 0.06, 'n_estimators': 270, 'max_depth': 5, 'min_child_weight': 1}. Best is trial 686 with value: 129.2410409450531.\u001b[0m\n"
          ],
          "name": "stderr"
        },
        {
          "output_type": "stream",
          "text": [
            "[07:24:21] WARNING: /workspace/src/objective/regression_obj.cu:152: reg:linear is now deprecated in favor of reg:squarederror.\n"
          ],
          "name": "stdout"
        },
        {
          "output_type": "stream",
          "text": [
            "\u001b[32m[I 2021-07-18 07:24:22,585]\u001b[0m Trial 882 finished with value: 143.56564915180206 and parameters: {'alpha': 0.5215599467282406, 'lambda': 5.865146546304546, 'gamma': 0, 'colsample_bytree': 0.8, 'subsample': 0.5, 'learning_rate': 0.01, 'n_estimators': 305, 'max_depth': 5, 'min_child_weight': 7}. Best is trial 686 with value: 129.2410409450531.\u001b[0m\n"
          ],
          "name": "stderr"
        },
        {
          "output_type": "stream",
          "text": [
            "[07:24:22] WARNING: /workspace/src/objective/regression_obj.cu:152: reg:linear is now deprecated in favor of reg:squarederror.\n"
          ],
          "name": "stdout"
        },
        {
          "output_type": "stream",
          "text": [
            "\u001b[32m[I 2021-07-18 07:24:23,505]\u001b[0m Trial 883 finished with value: 138.6228233575821 and parameters: {'alpha': 0.46027459160315287, 'lambda': 8.616356318789604, 'gamma': 0, 'colsample_bytree': 0.3, 'subsample': 0.5, 'learning_rate': 0.06, 'n_estimators': 329, 'max_depth': 5, 'min_child_weight': 11}. Best is trial 686 with value: 129.2410409450531.\u001b[0m\n"
          ],
          "name": "stderr"
        },
        {
          "output_type": "stream",
          "text": [
            "[07:24:23] WARNING: /workspace/src/objective/regression_obj.cu:152: reg:linear is now deprecated in favor of reg:squarederror.\n"
          ],
          "name": "stdout"
        },
        {
          "output_type": "stream",
          "text": [
            "\u001b[32m[I 2021-07-18 07:24:24,186]\u001b[0m Trial 884 finished with value: 139.2879844903946 and parameters: {'alpha': 0.6733556547886679, 'lambda': 9.94923551889353, 'gamma': 0, 'colsample_bytree': 1.0, 'subsample': 0.5, 'learning_rate': 0.06, 'n_estimators': 269, 'max_depth': 5, 'min_child_weight': 1}. Best is trial 686 with value: 129.2410409450531.\u001b[0m\n"
          ],
          "name": "stderr"
        },
        {
          "output_type": "stream",
          "text": [
            "[07:24:24] WARNING: /workspace/src/objective/regression_obj.cu:152: reg:linear is now deprecated in favor of reg:squarederror.\n"
          ],
          "name": "stdout"
        },
        {
          "output_type": "stream",
          "text": [
            "\u001b[32m[I 2021-07-18 07:24:24,869]\u001b[0m Trial 885 finished with value: 141.0383517742157 and parameters: {'alpha': 1.296672080975784, 'lambda': 6.952708093446736, 'gamma': 0, 'colsample_bytree': 0.8, 'subsample': 0.5, 'learning_rate': 0.06, 'n_estimators': 324, 'max_depth': 5, 'min_child_weight': 16}. Best is trial 686 with value: 129.2410409450531.\u001b[0m\n"
          ],
          "name": "stderr"
        },
        {
          "output_type": "stream",
          "text": [
            "[07:24:24] WARNING: /workspace/src/objective/regression_obj.cu:152: reg:linear is now deprecated in favor of reg:squarederror.\n"
          ],
          "name": "stdout"
        },
        {
          "output_type": "stream",
          "text": [
            "\u001b[32m[I 2021-07-18 07:24:25,550]\u001b[0m Trial 886 finished with value: 130.64179122447968 and parameters: {'alpha': 0.776430327592691, 'lambda': 9.888269048562941, 'gamma': 0, 'colsample_bytree': 0.8, 'subsample': 0.5, 'learning_rate': 0.06, 'n_estimators': 234, 'max_depth': 5, 'min_child_weight': 1}. Best is trial 686 with value: 129.2410409450531.\u001b[0m\n"
          ],
          "name": "stderr"
        },
        {
          "output_type": "stream",
          "text": [
            "[07:24:25] WARNING: /workspace/src/objective/regression_obj.cu:152: reg:linear is now deprecated in favor of reg:squarederror.\n"
          ],
          "name": "stdout"
        },
        {
          "output_type": "stream",
          "text": [
            "\u001b[32m[I 2021-07-18 07:24:26,830]\u001b[0m Trial 887 finished with value: 150.7866175174713 and parameters: {'alpha': 0.8784540306674344, 'lambda': 5.403876868673922, 'gamma': 0, 'colsample_bytree': 0.8, 'subsample': 0.5, 'learning_rate': 0.06, 'n_estimators': 389, 'max_depth': 5, 'min_child_weight': 78}. Best is trial 686 with value: 129.2410409450531.\u001b[0m\n"
          ],
          "name": "stderr"
        },
        {
          "output_type": "stream",
          "text": [
            "[07:24:26] WARNING: /workspace/src/objective/regression_obj.cu:152: reg:linear is now deprecated in favor of reg:squarederror.\n"
          ],
          "name": "stdout"
        },
        {
          "output_type": "stream",
          "text": [
            "\u001b[32m[I 2021-07-18 07:24:27,465]\u001b[0m Trial 888 finished with value: 142.5733698606491 and parameters: {'alpha': 0.5735458771844811, 'lambda': 9.596699153358623, 'gamma': 0, 'colsample_bytree': 0.4, 'subsample': 0.5, 'learning_rate': 0.06, 'n_estimators': 232, 'max_depth': 5, 'min_child_weight': 7}. Best is trial 686 with value: 129.2410409450531.\u001b[0m\n"
          ],
          "name": "stderr"
        },
        {
          "output_type": "stream",
          "text": [
            "[07:24:27] WARNING: /workspace/src/objective/regression_obj.cu:152: reg:linear is now deprecated in favor of reg:squarederror.\n"
          ],
          "name": "stdout"
        },
        {
          "output_type": "stream",
          "text": [
            "\u001b[32m[I 2021-07-18 07:24:28,106]\u001b[0m Trial 889 finished with value: 138.4794875383377 and parameters: {'alpha': 0.5229313735466427, 'lambda': 5.585986775672714, 'gamma': 0, 'colsample_bytree': 0.8, 'subsample': 0.5, 'learning_rate': 0.06, 'n_estimators': 358, 'max_depth': 5, 'min_child_weight': 11}. Best is trial 686 with value: 129.2410409450531.\u001b[0m\n"
          ],
          "name": "stderr"
        },
        {
          "output_type": "stream",
          "text": [
            "[07:24:28] WARNING: /workspace/src/objective/regression_obj.cu:152: reg:linear is now deprecated in favor of reg:squarederror.\n"
          ],
          "name": "stdout"
        },
        {
          "output_type": "stream",
          "text": [
            "\u001b[32m[I 2021-07-18 07:24:28,786]\u001b[0m Trial 890 finished with value: 130.64179122447968 and parameters: {'alpha': 0.9987445459257887, 'lambda': 8.100050543035518, 'gamma': 0, 'colsample_bytree': 0.8, 'subsample': 0.5, 'learning_rate': 0.06, 'n_estimators': 340, 'max_depth': 5, 'min_child_weight': 1}. Best is trial 686 with value: 129.2410409450531.\u001b[0m\n"
          ],
          "name": "stderr"
        },
        {
          "output_type": "stream",
          "text": [
            "[07:24:28] WARNING: /workspace/src/objective/regression_obj.cu:152: reg:linear is now deprecated in favor of reg:squarederror.\n"
          ],
          "name": "stdout"
        },
        {
          "output_type": "stream",
          "text": [
            "\u001b[32m[I 2021-07-18 07:24:29,427]\u001b[0m Trial 891 finished with value: 137.74453961849213 and parameters: {'alpha': 0.6267025480661482, 'lambda': 7.561849873074369, 'gamma': 0, 'colsample_bytree': 0.8, 'subsample': 0.5, 'learning_rate': 0.06, 'n_estimators': 333, 'max_depth': 5, 'min_child_weight': 6}. Best is trial 686 with value: 129.2410409450531.\u001b[0m\n"
          ],
          "name": "stderr"
        },
        {
          "output_type": "stream",
          "text": [
            "[07:24:29] WARNING: /workspace/src/objective/regression_obj.cu:152: reg:linear is now deprecated in favor of reg:squarederror.\n"
          ],
          "name": "stdout"
        },
        {
          "output_type": "stream",
          "text": [
            "\u001b[32m[I 2021-07-18 07:24:30,104]\u001b[0m Trial 892 finished with value: 130.64179122447968 and parameters: {'alpha': 0.7700692373867416, 'lambda': 9.774792821020759, 'gamma': 0, 'colsample_bytree': 0.8, 'subsample': 0.5, 'learning_rate': 0.06, 'n_estimators': 374, 'max_depth': 5, 'min_child_weight': 1}. Best is trial 686 with value: 129.2410409450531.\u001b[0m\n"
          ],
          "name": "stderr"
        },
        {
          "output_type": "stream",
          "text": [
            "[07:24:30] WARNING: /workspace/src/objective/regression_obj.cu:152: reg:linear is now deprecated in favor of reg:squarederror.\n"
          ],
          "name": "stdout"
        },
        {
          "output_type": "stream",
          "text": [
            "\u001b[32m[I 2021-07-18 07:24:30,541]\u001b[0m Trial 893 finished with value: 141.0383517742157 and parameters: {'alpha': 1.5748306979257098, 'lambda': 6.758441251041561, 'gamma': 0, 'colsample_bytree': 0.8, 'subsample': 0.5, 'learning_rate': 0.06, 'n_estimators': 100, 'max_depth': 5, 'min_child_weight': 16}. Best is trial 686 with value: 129.2410409450531.\u001b[0m\n"
          ],
          "name": "stderr"
        },
        {
          "output_type": "stream",
          "text": [
            "[07:24:30] WARNING: /workspace/src/objective/regression_obj.cu:152: reg:linear is now deprecated in favor of reg:squarederror.\n"
          ],
          "name": "stdout"
        },
        {
          "output_type": "stream",
          "text": [
            "\u001b[32m[I 2021-07-18 07:24:31,488]\u001b[0m Trial 894 finished with value: 141.33250951766968 and parameters: {'alpha': 0.7386941069208912, 'lambda': 3.9935179520951403, 'gamma': 0, 'colsample_bytree': 0.8, 'subsample': 0.5, 'learning_rate': 0.02, 'n_estimators': 251, 'max_depth': 5, 'min_child_weight': 7}. Best is trial 686 with value: 129.2410409450531.\u001b[0m\n"
          ],
          "name": "stderr"
        },
        {
          "output_type": "stream",
          "text": [
            "[07:24:31] WARNING: /workspace/src/objective/regression_obj.cu:152: reg:linear is now deprecated in favor of reg:squarederror.\n"
          ],
          "name": "stdout"
        },
        {
          "output_type": "stream",
          "text": [
            "\u001b[32m[I 2021-07-18 07:24:32,530]\u001b[0m Trial 895 finished with value: 150.2632610797882 and parameters: {'alpha': 0.5636846921104273, 'lambda': 6.372297548703089, 'gamma': 0, 'colsample_bytree': 0.9, 'subsample': 0.5, 'learning_rate': 0.06, 'n_estimators': 317, 'max_depth': 5, 'min_child_weight': 114}. Best is trial 686 with value: 129.2410409450531.\u001b[0m\n"
          ],
          "name": "stderr"
        },
        {
          "output_type": "stream",
          "text": [
            "[07:24:32] WARNING: /workspace/src/objective/regression_obj.cu:152: reg:linear is now deprecated in favor of reg:squarederror.\n"
          ],
          "name": "stdout"
        },
        {
          "output_type": "stream",
          "text": [
            "\u001b[32m[I 2021-07-18 07:24:33,969]\u001b[0m Trial 896 finished with value: 143.61458504199982 and parameters: {'alpha': 0.9314389247993348, 'lambda': 8.221507094242632, 'gamma': 0, 'colsample_bytree': 0.8, 'subsample': 0.5, 'learning_rate': 0.01, 'n_estimators': 355, 'max_depth': 5, 'min_child_weight': 1}. Best is trial 686 with value: 129.2410409450531.\u001b[0m\n"
          ],
          "name": "stderr"
        },
        {
          "output_type": "stream",
          "text": [
            "[07:24:34] WARNING: /workspace/src/objective/regression_obj.cu:152: reg:linear is now deprecated in favor of reg:squarederror.\n"
          ],
          "name": "stdout"
        },
        {
          "output_type": "stream",
          "text": [
            "\u001b[32m[I 2021-07-18 07:24:34,646]\u001b[0m Trial 897 finished with value: 139.2879844903946 and parameters: {'alpha': 0.6350076197426037, 'lambda': 3.100850942353608, 'gamma': 0, 'colsample_bytree': 1.0, 'subsample': 0.5, 'learning_rate': 0.06, 'n_estimators': 291, 'max_depth': 5, 'min_child_weight': 1}. Best is trial 686 with value: 129.2410409450531.\u001b[0m\n"
          ],
          "name": "stderr"
        },
        {
          "output_type": "stream",
          "text": [
            "[07:24:34] WARNING: /workspace/src/objective/regression_obj.cu:152: reg:linear is now deprecated in favor of reg:squarederror.\n"
          ],
          "name": "stdout"
        },
        {
          "output_type": "stream",
          "text": [
            "\u001b[32m[I 2021-07-18 07:24:35,287]\u001b[0m Trial 898 finished with value: 138.4794875383377 and parameters: {'alpha': 0.5360060715458564, 'lambda': 5.377944345782787, 'gamma': 0, 'colsample_bytree': 0.8, 'subsample': 0.5, 'learning_rate': 0.06, 'n_estimators': 389, 'max_depth': 5, 'min_child_weight': 11}. Best is trial 686 with value: 129.2410409450531.\u001b[0m\n"
          ],
          "name": "stderr"
        },
        {
          "output_type": "stream",
          "text": [
            "[07:24:35] WARNING: /workspace/src/objective/regression_obj.cu:152: reg:linear is now deprecated in favor of reg:squarederror.\n"
          ],
          "name": "stdout"
        },
        {
          "output_type": "stream",
          "text": [
            "\u001b[32m[I 2021-07-18 07:24:35,933]\u001b[0m Trial 899 finished with value: 142.10173094272614 and parameters: {'alpha': 0.4596611366313712, 'lambda': 4.251460575351559, 'gamma': 0, 'colsample_bytree': 0.7, 'subsample': 0.5, 'learning_rate': 0.06, 'n_estimators': 222, 'max_depth': 5, 'min_child_weight': 6}. Best is trial 686 with value: 129.2410409450531.\u001b[0m\n"
          ],
          "name": "stderr"
        },
        {
          "output_type": "stream",
          "text": [
            "[07:24:35] WARNING: /workspace/src/objective/regression_obj.cu:152: reg:linear is now deprecated in favor of reg:squarederror.\n"
          ],
          "name": "stdout"
        },
        {
          "output_type": "stream",
          "text": [
            "\u001b[32m[I 2021-07-18 07:24:36,699]\u001b[0m Trial 900 finished with value: 139.66999280452728 and parameters: {'alpha': 1.2849963946740697, 'lambda': 7.571130684783803, 'gamma': 0, 'colsample_bytree': 0.8, 'subsample': 0.5, 'learning_rate': 0.06, 'n_estimators': 325, 'max_depth': 5, 'min_child_weight': 20}. Best is trial 686 with value: 129.2410409450531.\u001b[0m\n"
          ],
          "name": "stderr"
        },
        {
          "output_type": "stream",
          "text": [
            "[07:24:36] WARNING: /workspace/src/objective/regression_obj.cu:152: reg:linear is now deprecated in favor of reg:squarederror.\n"
          ],
          "name": "stdout"
        },
        {
          "output_type": "stream",
          "text": [
            "\u001b[32m[I 2021-07-18 07:24:37,338]\u001b[0m Trial 901 finished with value: 138.4794875383377 and parameters: {'alpha': 0.431898544378655, 'lambda': 6.579218980685213, 'gamma': 0, 'colsample_bytree': 0.8, 'subsample': 0.5, 'learning_rate': 0.06, 'n_estimators': 366, 'max_depth': 5, 'min_child_weight': 11}. Best is trial 686 with value: 129.2410409450531.\u001b[0m\n"
          ],
          "name": "stderr"
        },
        {
          "output_type": "stream",
          "text": [
            "[07:24:37] WARNING: /workspace/src/objective/regression_obj.cu:152: reg:linear is now deprecated in favor of reg:squarederror.\n"
          ],
          "name": "stdout"
        },
        {
          "output_type": "stream",
          "text": [
            "\u001b[32m[I 2021-07-18 07:24:38,040]\u001b[0m Trial 902 finished with value: 142.1797091960907 and parameters: {'alpha': 2.181940005870135, 'lambda': 9.830776537812136, 'gamma': 0, 'colsample_bytree': 0.3, 'subsample': 0.5, 'learning_rate': 0.06, 'n_estimators': 268, 'max_depth': 5, 'min_child_weight': 1}. Best is trial 686 with value: 129.2410409450531.\u001b[0m\n"
          ],
          "name": "stderr"
        },
        {
          "output_type": "stream",
          "text": [
            "[07:24:38] WARNING: /workspace/src/objective/regression_obj.cu:152: reg:linear is now deprecated in favor of reg:squarederror.\n"
          ],
          "name": "stdout"
        },
        {
          "output_type": "stream",
          "text": [
            "\u001b[32m[I 2021-07-18 07:24:38,717]\u001b[0m Trial 903 finished with value: 130.64179122447968 and parameters: {'alpha': 0.5596393603463646, 'lambda': 3.80944873419192, 'gamma': 0, 'colsample_bytree': 0.8, 'subsample': 0.5, 'learning_rate': 0.06, 'n_estimators': 368, 'max_depth': 5, 'min_child_weight': 1}. Best is trial 686 with value: 129.2410409450531.\u001b[0m\n"
          ],
          "name": "stderr"
        },
        {
          "output_type": "stream",
          "text": [
            "[07:24:38] WARNING: /workspace/src/objective/regression_obj.cu:152: reg:linear is now deprecated in favor of reg:squarederror.\n"
          ],
          "name": "stdout"
        },
        {
          "output_type": "stream",
          "text": [
            "\u001b[32m[I 2021-07-18 07:24:39,364]\u001b[0m Trial 904 finished with value: 142.69814789295197 and parameters: {'alpha': 0.8007937483127271, 'lambda': 4.893431073657119, 'gamma': 0, 'colsample_bytree': 0.8, 'subsample': 0.5, 'learning_rate': 0.06, 'n_estimators': 382, 'max_depth': 5, 'min_child_weight': 8}. Best is trial 686 with value: 129.2410409450531.\u001b[0m\n"
          ],
          "name": "stderr"
        },
        {
          "output_type": "stream",
          "text": [
            "[07:24:39] WARNING: /workspace/src/objective/regression_obj.cu:152: reg:linear is now deprecated in favor of reg:squarederror.\n"
          ],
          "name": "stdout"
        },
        {
          "output_type": "stream",
          "text": [
            "\u001b[32m[I 2021-07-18 07:24:40,036]\u001b[0m Trial 905 finished with value: 142.4951775074005 and parameters: {'alpha': 0.4518607475857454, 'lambda': 6.108109160147454, 'gamma': 0, 'colsample_bytree': 0.8, 'subsample': 0.5, 'learning_rate': 0.06, 'n_estimators': 375, 'max_depth': 5, 'min_child_weight': 15}. Best is trial 686 with value: 129.2410409450531.\u001b[0m\n"
          ],
          "name": "stderr"
        },
        {
          "output_type": "stream",
          "text": [
            "[07:24:40] WARNING: /workspace/src/objective/regression_obj.cu:152: reg:linear is now deprecated in favor of reg:squarederror.\n"
          ],
          "name": "stdout"
        },
        {
          "output_type": "stream",
          "text": [
            "\u001b[32m[I 2021-07-18 07:24:40,710]\u001b[0m Trial 906 finished with value: 130.64179122447968 and parameters: {'alpha': 0.8348192691986466, 'lambda': 6.635973279706694, 'gamma': 0, 'colsample_bytree': 0.8, 'subsample': 0.5, 'learning_rate': 0.06, 'n_estimators': 256, 'max_depth': 5, 'min_child_weight': 1}. Best is trial 686 with value: 129.2410409450531.\u001b[0m\n"
          ],
          "name": "stderr"
        },
        {
          "output_type": "stream",
          "text": [
            "[07:24:40] WARNING: /workspace/src/objective/regression_obj.cu:152: reg:linear is now deprecated in favor of reg:squarederror.\n"
          ],
          "name": "stdout"
        },
        {
          "output_type": "stream",
          "text": [
            "\u001b[32m[I 2021-07-18 07:24:41,359]\u001b[0m Trial 907 finished with value: 142.02397441864014 and parameters: {'alpha': 0.9121913941752041, 'lambda': 8.66548319770086, 'gamma': 0, 'colsample_bytree': 0.4, 'subsample': 0.5, 'learning_rate': 0.06, 'n_estimators': 366, 'max_depth': 5, 'min_child_weight': 6}. Best is trial 686 with value: 129.2410409450531.\u001b[0m\n"
          ],
          "name": "stderr"
        },
        {
          "output_type": "stream",
          "text": [
            "[07:24:41] WARNING: /workspace/src/objective/regression_obj.cu:152: reg:linear is now deprecated in favor of reg:squarederror.\n"
          ],
          "name": "stdout"
        },
        {
          "output_type": "stream",
          "text": [
            "\u001b[32m[I 2021-07-18 07:24:42,361]\u001b[0m Trial 908 finished with value: 143.22870433330536 and parameters: {'alpha': 0.5152010511234472, 'lambda': 9.976190202822897, 'gamma': 0, 'colsample_bytree': 0.8, 'subsample': 0.5, 'learning_rate': 0.02, 'n_estimators': 301, 'max_depth': 5, 'min_child_weight': 1}. Best is trial 686 with value: 129.2410409450531.\u001b[0m\n"
          ],
          "name": "stderr"
        },
        {
          "output_type": "stream",
          "text": [
            "[07:24:42] WARNING: /workspace/src/objective/regression_obj.cu:152: reg:linear is now deprecated in favor of reg:squarederror.\n"
          ],
          "name": "stdout"
        },
        {
          "output_type": "stream",
          "text": [
            "\u001b[32m[I 2021-07-18 07:24:43,008]\u001b[0m Trial 909 finished with value: 138.4794875383377 and parameters: {'alpha': 1.8452180081145682, 'lambda': 7.379549430438045, 'gamma': 0, 'colsample_bytree': 0.8, 'subsample': 0.5, 'learning_rate': 0.06, 'n_estimators': 309, 'max_depth': 5, 'min_child_weight': 11}. Best is trial 686 with value: 129.2410409450531.\u001b[0m\n"
          ],
          "name": "stderr"
        },
        {
          "output_type": "stream",
          "text": [
            "[07:24:43] WARNING: /workspace/src/objective/regression_obj.cu:152: reg:linear is now deprecated in favor of reg:squarederror.\n"
          ],
          "name": "stdout"
        },
        {
          "output_type": "stream",
          "text": [
            "\u001b[32m[I 2021-07-18 07:24:43,896]\u001b[0m Trial 910 finished with value: 143.8750445842743 and parameters: {'alpha': 0.6449546861408271, 'lambda': 5.978330498511855, 'gamma': 0, 'colsample_bytree': 0.8, 'subsample': 0.5, 'learning_rate': 0.06, 'n_estimators': 371, 'max_depth': 5, 'min_child_weight': 24}. Best is trial 686 with value: 129.2410409450531.\u001b[0m\n"
          ],
          "name": "stderr"
        },
        {
          "output_type": "stream",
          "text": [
            "[07:24:43] WARNING: /workspace/src/objective/regression_obj.cu:152: reg:linear is now deprecated in favor of reg:squarederror.\n"
          ],
          "name": "stdout"
        },
        {
          "output_type": "stream",
          "text": [
            "\u001b[32m[I 2021-07-18 07:24:45,165]\u001b[0m Trial 911 finished with value: 143.61458504199982 and parameters: {'alpha': 2.5012845280667366, 'lambda': 2.709601127468297, 'gamma': 0, 'colsample_bytree': 0.8, 'subsample': 0.5, 'learning_rate': 0.01, 'n_estimators': 311, 'max_depth': 5, 'min_child_weight': 1}. Best is trial 686 with value: 129.2410409450531.\u001b[0m\n"
          ],
          "name": "stderr"
        },
        {
          "output_type": "stream",
          "text": [
            "[07:24:45] WARNING: /workspace/src/objective/regression_obj.cu:152: reg:linear is now deprecated in favor of reg:squarederror.\n"
          ],
          "name": "stdout"
        },
        {
          "output_type": "stream",
          "text": [
            "\u001b[32m[I 2021-07-18 07:24:45,802]\u001b[0m Trial 912 finished with value: 137.74453961849213 and parameters: {'alpha': 0.4493695693511873, 'lambda': 4.844653606099811, 'gamma': 0, 'colsample_bytree': 0.8, 'subsample': 0.5, 'learning_rate': 0.06, 'n_estimators': 352, 'max_depth': 5, 'min_child_weight': 6}. Best is trial 686 with value: 129.2410409450531.\u001b[0m\n"
          ],
          "name": "stderr"
        },
        {
          "output_type": "stream",
          "text": [
            "[07:24:45] WARNING: /workspace/src/objective/regression_obj.cu:152: reg:linear is now deprecated in favor of reg:squarederror.\n"
          ],
          "name": "stdout"
        },
        {
          "output_type": "stream",
          "text": [
            "\u001b[32m[I 2021-07-18 07:24:46,438]\u001b[0m Trial 913 finished with value: 139.33373546600342 and parameters: {'alpha': 0.6603152751942865, 'lambda': 4.986150776633529, 'gamma': 0, 'colsample_bytree': 0.9, 'subsample': 0.5, 'learning_rate': 0.06, 'n_estimators': 289, 'max_depth': 5, 'min_child_weight': 15}. Best is trial 686 with value: 129.2410409450531.\u001b[0m\n"
          ],
          "name": "stderr"
        },
        {
          "output_type": "stream",
          "text": [
            "[07:24:46] WARNING: /workspace/src/objective/regression_obj.cu:152: reg:linear is now deprecated in favor of reg:squarederror.\n"
          ],
          "name": "stdout"
        },
        {
          "output_type": "stream",
          "text": [
            "\u001b[32m[I 2021-07-18 07:24:47,030]\u001b[0m Trial 914 finished with value: 145.01173341274261 and parameters: {'alpha': 0.9541607830295912, 'lambda': 7.21250264913567, 'gamma': 0, 'colsample_bytree': 1.0, 'subsample': 0.5, 'learning_rate': 0.06, 'n_estimators': 360, 'max_depth': 5, 'min_child_weight': 6}. Best is trial 686 with value: 129.2410409450531.\u001b[0m\n"
          ],
          "name": "stderr"
        },
        {
          "output_type": "stream",
          "text": [
            "[07:24:47] WARNING: /workspace/src/objective/regression_obj.cu:152: reg:linear is now deprecated in favor of reg:squarederror.\n"
          ],
          "name": "stdout"
        },
        {
          "output_type": "stream",
          "text": [
            "\u001b[32m[I 2021-07-18 07:24:47,706]\u001b[0m Trial 915 finished with value: 130.64179122447968 and parameters: {'alpha': 0.8323555500691591, 'lambda': 2.7008952876456003, 'gamma': 0, 'colsample_bytree': 0.8, 'subsample': 0.5, 'learning_rate': 0.06, 'n_estimators': 237, 'max_depth': 5, 'min_child_weight': 1}. Best is trial 686 with value: 129.2410409450531.\u001b[0m\n"
          ],
          "name": "stderr"
        },
        {
          "output_type": "stream",
          "text": [
            "[07:24:47] WARNING: /workspace/src/objective/regression_obj.cu:152: reg:linear is now deprecated in favor of reg:squarederror.\n"
          ],
          "name": "stdout"
        },
        {
          "output_type": "stream",
          "text": [
            "\u001b[32m[I 2021-07-18 07:24:48,386]\u001b[0m Trial 916 finished with value: 145.81802463531494 and parameters: {'alpha': 0.9095781750221594, 'lambda': 9.955648554674704, 'gamma': 0, 'colsample_bytree': 0.7, 'subsample': 0.5, 'learning_rate': 0.06, 'n_estimators': 346, 'max_depth': 5, 'min_child_weight': 11}. Best is trial 686 with value: 129.2410409450531.\u001b[0m\n"
          ],
          "name": "stderr"
        },
        {
          "output_type": "stream",
          "text": [
            "[07:24:48] WARNING: /workspace/src/objective/regression_obj.cu:152: reg:linear is now deprecated in favor of reg:squarederror.\n"
          ],
          "name": "stdout"
        },
        {
          "output_type": "stream",
          "text": [
            "\u001b[32m[I 2021-07-18 07:24:49,025]\u001b[0m Trial 917 finished with value: 137.74453961849213 and parameters: {'alpha': 0.818110670036543, 'lambda': 8.040319828764828, 'gamma': 0, 'colsample_bytree': 0.8, 'subsample': 0.5, 'learning_rate': 0.06, 'n_estimators': 231, 'max_depth': 5, 'min_child_weight': 6}. Best is trial 686 with value: 129.2410409450531.\u001b[0m\n"
          ],
          "name": "stderr"
        },
        {
          "output_type": "stream",
          "text": [
            "[07:24:49] WARNING: /workspace/src/objective/regression_obj.cu:152: reg:linear is now deprecated in favor of reg:squarederror.\n"
          ],
          "name": "stdout"
        },
        {
          "output_type": "stream",
          "text": [
            "\u001b[32m[I 2021-07-18 07:24:49,700]\u001b[0m Trial 918 finished with value: 130.64179122447968 and parameters: {'alpha': 0.6695192700574747, 'lambda': 5.237058086296346, 'gamma': 0, 'colsample_bytree': 0.8, 'subsample': 0.5, 'learning_rate': 0.06, 'n_estimators': 329, 'max_depth': 5, 'min_child_weight': 1}. Best is trial 686 with value: 129.2410409450531.\u001b[0m\n"
          ],
          "name": "stderr"
        },
        {
          "output_type": "stream",
          "text": [
            "[07:24:49] WARNING: /workspace/src/objective/regression_obj.cu:152: reg:linear is now deprecated in favor of reg:squarederror.\n"
          ],
          "name": "stdout"
        },
        {
          "output_type": "stream",
          "text": [
            "\u001b[32m[I 2021-07-18 07:24:50,865]\u001b[0m Trial 919 finished with value: 144.3074173927307 and parameters: {'alpha': 0.8179792439925663, 'lambda': 6.642771149124623, 'gamma': 0, 'colsample_bytree': 0.3, 'subsample': 0.5, 'learning_rate': 0.06, 'n_estimators': 345, 'max_depth': 5, 'min_child_weight': 47}. Best is trial 686 with value: 129.2410409450531.\u001b[0m\n"
          ],
          "name": "stderr"
        },
        {
          "output_type": "stream",
          "text": [
            "[07:24:50] WARNING: /workspace/src/objective/regression_obj.cu:152: reg:linear is now deprecated in favor of reg:squarederror.\n"
          ],
          "name": "stdout"
        },
        {
          "output_type": "stream",
          "text": [
            "\u001b[32m[I 2021-07-18 07:24:51,550]\u001b[0m Trial 920 finished with value: 130.64179122447968 and parameters: {'alpha': 0.621959447113781, 'lambda': 5.713434295258605, 'gamma': 0, 'colsample_bytree': 0.8, 'subsample': 0.5, 'learning_rate': 0.06, 'n_estimators': 204, 'max_depth': 5, 'min_child_weight': 1}. Best is trial 686 with value: 129.2410409450531.\u001b[0m\n"
          ],
          "name": "stderr"
        },
        {
          "output_type": "stream",
          "text": [
            "[07:24:51] WARNING: /workspace/src/objective/regression_obj.cu:152: reg:linear is now deprecated in favor of reg:squarederror.\n"
          ],
          "name": "stdout"
        },
        {
          "output_type": "stream",
          "text": [
            "\u001b[32m[I 2021-07-18 07:24:52,696]\u001b[0m Trial 921 finished with value: 143.2287849187851 and parameters: {'alpha': 0.9641615580393224, 'lambda': 8.306745459501684, 'gamma': 0, 'colsample_bytree': 0.8, 'subsample': 0.5, 'learning_rate': 0.02, 'n_estimators': 361, 'max_depth': 5, 'min_child_weight': 17}. Best is trial 686 with value: 129.2410409450531.\u001b[0m\n"
          ],
          "name": "stderr"
        },
        {
          "output_type": "stream",
          "text": [
            "[07:24:52] WARNING: /workspace/src/objective/regression_obj.cu:152: reg:linear is now deprecated in favor of reg:squarederror.\n"
          ],
          "name": "stdout"
        },
        {
          "output_type": "stream",
          "text": [
            "\u001b[32m[I 2021-07-18 07:24:53,334]\u001b[0m Trial 922 finished with value: 138.58077669143677 and parameters: {'alpha': 0.42880715691532306, 'lambda': 3.4799348990459844, 'gamma': 0, 'colsample_bytree': 0.8, 'subsample': 0.5, 'learning_rate': 0.06, 'n_estimators': 305, 'max_depth': 5, 'min_child_weight': 7}. Best is trial 686 with value: 129.2410409450531.\u001b[0m\n"
          ],
          "name": "stderr"
        },
        {
          "output_type": "stream",
          "text": [
            "[07:24:53] WARNING: /workspace/src/objective/regression_obj.cu:152: reg:linear is now deprecated in favor of reg:squarederror.\n"
          ],
          "name": "stdout"
        },
        {
          "output_type": "stream",
          "text": [
            "\u001b[32m[I 2021-07-18 07:24:54,274]\u001b[0m Trial 923 finished with value: 140.90167212486267 and parameters: {'alpha': 1.0078204059926874, 'lambda': 9.966788414854369, 'gamma': 0, 'colsample_bytree': 0.4, 'subsample': 0.5, 'learning_rate': 0.06, 'n_estimators': 389, 'max_depth': 5, 'min_child_weight': 12}. Best is trial 686 with value: 129.2410409450531.\u001b[0m\n"
          ],
          "name": "stderr"
        },
        {
          "output_type": "stream",
          "text": [
            "[07:24:54] WARNING: /workspace/src/objective/regression_obj.cu:152: reg:linear is now deprecated in favor of reg:squarederror.\n"
          ],
          "name": "stdout"
        },
        {
          "output_type": "stream",
          "text": [
            "\u001b[32m[I 2021-07-18 07:24:55,312]\u001b[0m Trial 924 finished with value: 143.85971462726593 and parameters: {'alpha': 0.5094376536540128, 'lambda': 4.436400849696213, 'gamma': 0, 'colsample_bytree': 0.8, 'subsample': 0.5, 'learning_rate': 0.01, 'n_estimators': 247, 'max_depth': 5, 'min_child_weight': 1}. Best is trial 686 with value: 129.2410409450531.\u001b[0m\n"
          ],
          "name": "stderr"
        },
        {
          "output_type": "stream",
          "text": [
            "[07:24:55] WARNING: /workspace/src/objective/regression_obj.cu:152: reg:linear is now deprecated in favor of reg:squarederror.\n"
          ],
          "name": "stdout"
        },
        {
          "output_type": "stream",
          "text": [
            "\u001b[32m[I 2021-07-18 07:24:55,994]\u001b[0m Trial 925 finished with value: 130.64179122447968 and parameters: {'alpha': 1.6756654575274055, 'lambda': 4.03996201964742, 'gamma': 0, 'colsample_bytree': 0.8, 'subsample': 0.5, 'learning_rate': 0.06, 'n_estimators': 353, 'max_depth': 5, 'min_child_weight': 1}. Best is trial 686 with value: 129.2410409450531.\u001b[0m\n"
          ],
          "name": "stderr"
        },
        {
          "output_type": "stream",
          "text": [
            "[07:24:56] WARNING: /workspace/src/objective/regression_obj.cu:152: reg:linear is now deprecated in favor of reg:squarederror.\n"
          ],
          "name": "stdout"
        },
        {
          "output_type": "stream",
          "text": [
            "\u001b[32m[I 2021-07-18 07:24:56,628]\u001b[0m Trial 926 finished with value: 138.58077669143677 and parameters: {'alpha': 0.6209351025907398, 'lambda': 5.776191364833082, 'gamma': 0, 'colsample_bytree': 0.8, 'subsample': 0.5, 'learning_rate': 0.06, 'n_estimators': 321, 'max_depth': 5, 'min_child_weight': 7}. Best is trial 686 with value: 129.2410409450531.\u001b[0m\n"
          ],
          "name": "stderr"
        },
        {
          "output_type": "stream",
          "text": [
            "[07:24:56] WARNING: /workspace/src/objective/regression_obj.cu:152: reg:linear is now deprecated in favor of reg:squarederror.\n"
          ],
          "name": "stdout"
        },
        {
          "output_type": "stream",
          "text": [
            "\u001b[32m[I 2021-07-18 07:24:57,275]\u001b[0m Trial 927 finished with value: 142.6396622657776 and parameters: {'alpha': 0.6804584051423868, 'lambda': 6.217019633733019, 'gamma': 0, 'colsample_bytree': 0.8, 'subsample': 0.5, 'learning_rate': 0.08, 'n_estimators': 367, 'max_depth': 3, 'min_child_weight': 19}. Best is trial 686 with value: 129.2410409450531.\u001b[0m\n"
          ],
          "name": "stderr"
        },
        {
          "output_type": "stream",
          "text": [
            "[07:24:57] WARNING: /workspace/src/objective/regression_obj.cu:152: reg:linear is now deprecated in favor of reg:squarederror.\n"
          ],
          "name": "stdout"
        },
        {
          "output_type": "stream",
          "text": [
            "\u001b[32m[I 2021-07-18 07:24:57,972]\u001b[0m Trial 928 finished with value: 130.64179122447968 and parameters: {'alpha': 0.48940007411443787, 'lambda': 4.656980541099538, 'gamma': 0, 'colsample_bytree': 0.8, 'subsample': 0.5, 'learning_rate': 0.06, 'n_estimators': 326, 'max_depth': 5, 'min_child_weight': 1}. Best is trial 686 with value: 129.2410409450531.\u001b[0m\n"
          ],
          "name": "stderr"
        },
        {
          "output_type": "stream",
          "text": [
            "[07:24:58] WARNING: /workspace/src/objective/regression_obj.cu:152: reg:linear is now deprecated in favor of reg:squarederror.\n"
          ],
          "name": "stdout"
        },
        {
          "output_type": "stream",
          "text": [
            "\u001b[32m[I 2021-07-18 07:24:58,593]\u001b[0m Trial 929 finished with value: 136.8735957145691 and parameters: {'alpha': 1.4007647246371582, 'lambda': 5.108182192093745, 'gamma': 0, 'colsample_bytree': 0.8, 'subsample': 0.5, 'learning_rate': 0.08, 'n_estimators': 337, 'max_depth': 13, 'min_child_weight': 11}. Best is trial 686 with value: 129.2410409450531.\u001b[0m\n"
          ],
          "name": "stderr"
        },
        {
          "output_type": "stream",
          "text": [
            "[07:24:58] WARNING: /workspace/src/objective/regression_obj.cu:152: reg:linear is now deprecated in favor of reg:squarederror.\n"
          ],
          "name": "stdout"
        },
        {
          "output_type": "stream",
          "text": [
            "\u001b[32m[I 2021-07-18 07:24:59,627]\u001b[0m Trial 930 finished with value: 136.9106988310814 and parameters: {'alpha': 0.4167031514803, 'lambda': 3.807177990329738, 'gamma': 0, 'colsample_bytree': 0.9, 'subsample': 0.5, 'learning_rate': 0.06, 'n_estimators': 257, 'max_depth': 9, 'min_child_weight': 1}. Best is trial 686 with value: 129.2410409450531.\u001b[0m\n"
          ],
          "name": "stderr"
        },
        {
          "output_type": "stream",
          "text": [
            "[07:24:59] WARNING: /workspace/src/objective/regression_obj.cu:152: reg:linear is now deprecated in favor of reg:squarederror.\n"
          ],
          "name": "stdout"
        },
        {
          "output_type": "stream",
          "text": [
            "\u001b[32m[I 2021-07-18 07:25:00,214]\u001b[0m Trial 931 finished with value: 141.36703598499298 and parameters: {'alpha': 1.8854670707542986, 'lambda': 5.004239896760213, 'gamma': 0, 'colsample_bytree': 0.8, 'subsample': 0.5, 'learning_rate': 0.08, 'n_estimators': 309, 'max_depth': 5, 'min_child_weight': 6}. Best is trial 686 with value: 129.2410409450531.\u001b[0m\n"
          ],
          "name": "stderr"
        },
        {
          "output_type": "stream",
          "text": [
            "[07:25:00] WARNING: /workspace/src/objective/regression_obj.cu:152: reg:linear is now deprecated in favor of reg:squarederror.\n"
          ],
          "name": "stdout"
        },
        {
          "output_type": "stream",
          "text": [
            "\u001b[32m[I 2021-07-18 07:25:01,104]\u001b[0m Trial 932 finished with value: 145.02418899536133 and parameters: {'alpha': 1.4477689349352818, 'lambda': 8.893734387967433, 'gamma': 0, 'colsample_bytree': 0.7, 'subsample': 0.5, 'learning_rate': 0.06, 'n_estimators': 242, 'max_depth': 17, 'min_child_weight': 12}. Best is trial 686 with value: 129.2410409450531.\u001b[0m\n"
          ],
          "name": "stderr"
        },
        {
          "output_type": "stream",
          "text": [
            "[07:25:01] WARNING: /workspace/src/objective/regression_obj.cu:152: reg:linear is now deprecated in favor of reg:squarederror.\n"
          ],
          "name": "stdout"
        },
        {
          "output_type": "stream",
          "text": [
            "\u001b[32m[I 2021-07-18 07:25:02,894]\u001b[0m Trial 933 finished with value: 137.51419377326965 and parameters: {'alpha': 1.0548182124341066, 'lambda': 9.955791187120575, 'gamma': 0, 'colsample_bytree': 1.0, 'subsample': 0.5, 'learning_rate': 0.08, 'n_estimators': 336, 'max_depth': 20, 'min_child_weight': 6}. Best is trial 686 with value: 129.2410409450531.\u001b[0m\n"
          ],
          "name": "stderr"
        },
        {
          "output_type": "stream",
          "text": [
            "[07:25:02] WARNING: /workspace/src/objective/regression_obj.cu:152: reg:linear is now deprecated in favor of reg:squarederror.\n"
          ],
          "name": "stdout"
        },
        {
          "output_type": "stream",
          "text": [
            "\u001b[32m[I 2021-07-18 07:25:03,526]\u001b[0m Trial 934 finished with value: 135.22876316308975 and parameters: {'alpha': 0.5770855439161015, 'lambda': 6.424084425727983, 'gamma': 0, 'colsample_bytree': 0.8, 'subsample': 0.5, 'learning_rate': 0.08, 'n_estimators': 380, 'max_depth': 5, 'min_child_weight': 1}. Best is trial 686 with value: 129.2410409450531.\u001b[0m\n"
          ],
          "name": "stderr"
        },
        {
          "output_type": "stream",
          "text": [
            "[07:25:03] WARNING: /workspace/src/objective/regression_obj.cu:152: reg:linear is now deprecated in favor of reg:squarederror.\n"
          ],
          "name": "stdout"
        },
        {
          "output_type": "stream",
          "text": [
            "\u001b[32m[I 2021-07-18 07:25:04,378]\u001b[0m Trial 935 finished with value: 141.11207842826843 and parameters: {'alpha': 0.7255676578650478, 'lambda': 7.423150936821237, 'gamma': 0, 'colsample_bytree': 0.3, 'subsample': 0.5, 'learning_rate': 0.06, 'n_estimators': 225, 'max_depth': 5, 'min_child_weight': 16}. Best is trial 686 with value: 129.2410409450531.\u001b[0m\n"
          ],
          "name": "stderr"
        },
        {
          "output_type": "stream",
          "text": [
            "[07:25:04] WARNING: /workspace/src/objective/regression_obj.cu:152: reg:linear is now deprecated in favor of reg:squarederror.\n"
          ],
          "name": "stdout"
        },
        {
          "output_type": "stream",
          "text": [
            "\u001b[32m[I 2021-07-18 07:25:05,186]\u001b[0m Trial 936 finished with value: 148.06065762043 and parameters: {'alpha': 1.9335250418192578, 'lambda': 8.129850162492257, 'gamma': 0, 'colsample_bytree': 0.8, 'subsample': 0.5, 'learning_rate': 0.08, 'n_estimators': 315, 'max_depth': 5, 'min_child_weight': 27}. Best is trial 686 with value: 129.2410409450531.\u001b[0m\n"
          ],
          "name": "stderr"
        },
        {
          "output_type": "stream",
          "text": [
            "[07:25:05] WARNING: /workspace/src/objective/regression_obj.cu:152: reg:linear is now deprecated in favor of reg:squarederror.\n"
          ],
          "name": "stdout"
        },
        {
          "output_type": "stream",
          "text": [
            "\u001b[32m[I 2021-07-18 07:25:05,800]\u001b[0m Trial 937 finished with value: 140.8486213684082 and parameters: {'alpha': 0.7491814699468557, 'lambda': 6.616232052969332, 'gamma': 0, 'colsample_bytree': 0.8, 'subsample': 0.7, 'learning_rate': 0.06, 'n_estimators': 260, 'max_depth': 5, 'min_child_weight': 7}. Best is trial 686 with value: 129.2410409450531.\u001b[0m\n"
          ],
          "name": "stderr"
        },
        {
          "output_type": "stream",
          "text": [
            "[07:25:05] WARNING: /workspace/src/objective/regression_obj.cu:152: reg:linear is now deprecated in favor of reg:squarederror.\n"
          ],
          "name": "stdout"
        },
        {
          "output_type": "stream",
          "text": [
            "\u001b[32m[I 2021-07-18 07:25:06,414]\u001b[0m Trial 938 finished with value: 135.22876316308975 and parameters: {'alpha': 1.2045805460566785, 'lambda': 8.169465198046245, 'gamma': 0, 'colsample_bytree': 0.8, 'subsample': 0.5, 'learning_rate': 0.08, 'n_estimators': 217, 'max_depth': 5, 'min_child_weight': 1}. Best is trial 686 with value: 129.2410409450531.\u001b[0m\n"
          ],
          "name": "stderr"
        },
        {
          "output_type": "stream",
          "text": [
            "[07:25:06] WARNING: /workspace/src/objective/regression_obj.cu:152: reg:linear is now deprecated in favor of reg:squarederror.\n"
          ],
          "name": "stdout"
        },
        {
          "output_type": "stream",
          "text": [
            "\u001b[32m[I 2021-07-18 07:25:07,075]\u001b[0m Trial 939 finished with value: 138.4794875383377 and parameters: {'alpha': 0.6139969791289246, 'lambda': 5.3936112944022145, 'gamma': 0, 'colsample_bytree': 0.8, 'subsample': 0.5, 'learning_rate': 0.06, 'n_estimators': 359, 'max_depth': 5, 'min_child_weight': 11}. Best is trial 686 with value: 129.2410409450531.\u001b[0m\n"
          ],
          "name": "stderr"
        },
        {
          "output_type": "stream",
          "text": [
            "[07:25:07] WARNING: /workspace/src/objective/regression_obj.cu:152: reg:linear is now deprecated in favor of reg:squarederror.\n"
          ],
          "name": "stdout"
        },
        {
          "output_type": "stream",
          "text": [
            "\u001b[32m[I 2021-07-18 07:25:07,696]\u001b[0m Trial 940 finished with value: 135.22876316308975 and parameters: {'alpha': 1.1959498797902617, 'lambda': 8.072594067281013, 'gamma': 0, 'colsample_bytree': 0.8, 'subsample': 0.5, 'learning_rate': 0.08, 'n_estimators': 348, 'max_depth': 5, 'min_child_weight': 1}. Best is trial 686 with value: 129.2410409450531.\u001b[0m\n"
          ],
          "name": "stderr"
        },
        {
          "output_type": "stream",
          "text": [
            "[07:25:07] WARNING: /workspace/src/objective/regression_obj.cu:152: reg:linear is now deprecated in favor of reg:squarederror.\n"
          ],
          "name": "stdout"
        },
        {
          "output_type": "stream",
          "text": [
            "\u001b[32m[I 2021-07-18 07:25:08,356]\u001b[0m Trial 941 finished with value: 142.02397441864014 and parameters: {'alpha': 1.0219671186680253, 'lambda': 7.239761010035066, 'gamma': 0, 'colsample_bytree': 0.4, 'subsample': 0.5, 'learning_rate': 0.06, 'n_estimators': 343, 'max_depth': 5, 'min_child_weight': 6}. Best is trial 686 with value: 129.2410409450531.\u001b[0m\n"
          ],
          "name": "stderr"
        },
        {
          "output_type": "stream",
          "text": [
            "[07:25:08] WARNING: /workspace/src/objective/regression_obj.cu:152: reg:linear is now deprecated in favor of reg:squarederror.\n"
          ],
          "name": "stdout"
        },
        {
          "output_type": "stream",
          "text": [
            "\u001b[32m[I 2021-07-18 07:25:09,099]\u001b[0m Trial 942 finished with value: 144.86554312705994 and parameters: {'alpha': 0.8913639404868335, 'lambda': 9.972204577093954, 'gamma': 0, 'colsample_bytree': 0.8, 'subsample': 0.5, 'learning_rate': 0.08, 'n_estimators': 355, 'max_depth': 15, 'min_child_weight': 20}. Best is trial 686 with value: 129.2410409450531.\u001b[0m\n"
          ],
          "name": "stderr"
        },
        {
          "output_type": "stream",
          "text": [
            "[07:25:09] WARNING: /workspace/src/objective/regression_obj.cu:152: reg:linear is now deprecated in favor of reg:squarederror.\n"
          ],
          "name": "stdout"
        },
        {
          "output_type": "stream",
          "text": [
            "\u001b[32m[I 2021-07-18 07:25:09,729]\u001b[0m Trial 943 finished with value: 138.73368322849274 and parameters: {'alpha': 1.1301403067268687, 'lambda': 9.940882223311815, 'gamma': 0, 'colsample_bytree': 0.8, 'subsample': 0.5, 'learning_rate': 0.08, 'n_estimators': 339, 'max_depth': 5, 'min_child_weight': 12}. Best is trial 686 with value: 129.2410409450531.\u001b[0m\n"
          ],
          "name": "stderr"
        },
        {
          "output_type": "stream",
          "text": [
            "[07:25:09] WARNING: /workspace/src/objective/regression_obj.cu:152: reg:linear is now deprecated in favor of reg:squarederror.\n"
          ],
          "name": "stdout"
        },
        {
          "output_type": "stream",
          "text": [
            "\u001b[32m[I 2021-07-18 07:25:10,424]\u001b[0m Trial 944 finished with value: 130.64179122447968 and parameters: {'alpha': 1.1750929881237955, 'lambda': 3.2746484582548523, 'gamma': 0, 'colsample_bytree': 0.8, 'subsample': 0.5, 'learning_rate': 0.06, 'n_estimators': 236, 'max_depth': 5, 'min_child_weight': 1}. Best is trial 686 with value: 129.2410409450531.\u001b[0m\n"
          ],
          "name": "stderr"
        },
        {
          "output_type": "stream",
          "text": [
            "[07:25:10] WARNING: /workspace/src/objective/regression_obj.cu:152: reg:linear is now deprecated in favor of reg:squarederror.\n"
          ],
          "name": "stdout"
        },
        {
          "output_type": "stream",
          "text": [
            "\u001b[32m[I 2021-07-18 07:25:11,038]\u001b[0m Trial 945 finished with value: 135.22876316308975 and parameters: {'alpha': 0.5521827037034853, 'lambda': 3.601212993391676, 'gamma': 0, 'colsample_bytree': 0.8, 'subsample': 0.5, 'learning_rate': 0.08, 'n_estimators': 242, 'max_depth': 5, 'min_child_weight': 1}. Best is trial 686 with value: 129.2410409450531.\u001b[0m\n"
          ],
          "name": "stderr"
        },
        {
          "output_type": "stream",
          "text": [
            "[07:25:11] WARNING: /workspace/src/objective/regression_obj.cu:152: reg:linear is now deprecated in favor of reg:squarederror.\n"
          ],
          "name": "stdout"
        },
        {
          "output_type": "stream",
          "text": [
            "\u001b[32m[I 2021-07-18 07:25:11,688]\u001b[0m Trial 946 finished with value: 137.74453961849213 and parameters: {'alpha': 1.5093618502423558, 'lambda': 6.852790332379092, 'gamma': 0, 'colsample_bytree': 0.8, 'subsample': 0.5, 'learning_rate': 0.06, 'n_estimators': 351, 'max_depth': 5, 'min_child_weight': 6}. Best is trial 686 with value: 129.2410409450531.\u001b[0m\n"
          ],
          "name": "stderr"
        },
        {
          "output_type": "stream",
          "text": [
            "[07:25:11] WARNING: /workspace/src/objective/regression_obj.cu:152: reg:linear is now deprecated in favor of reg:squarederror.\n"
          ],
          "name": "stdout"
        },
        {
          "output_type": "stream",
          "text": [
            "\u001b[32m[I 2021-07-18 07:25:12,311]\u001b[0m Trial 947 finished with value: 138.20656913518906 and parameters: {'alpha': 0.4044600410628214, 'lambda': 5.727308113860858, 'gamma': 0, 'colsample_bytree': 0.9, 'subsample': 0.5, 'learning_rate': 0.08, 'n_estimators': 357, 'max_depth': 5, 'min_child_weight': 1}. Best is trial 686 with value: 129.2410409450531.\u001b[0m\n"
          ],
          "name": "stderr"
        },
        {
          "output_type": "stream",
          "text": [
            "[07:25:12] WARNING: /workspace/src/objective/regression_obj.cu:152: reg:linear is now deprecated in favor of reg:squarederror.\n"
          ],
          "name": "stdout"
        },
        {
          "output_type": "stream",
          "text": [
            "\u001b[32m[I 2021-07-18 07:25:13,330]\u001b[0m Trial 948 finished with value: 141.2640117406845 and parameters: {'alpha': 1.5179882201945234, 'lambda': 8.3501675907242, 'gamma': 0, 'colsample_bytree': 1.0, 'subsample': 0.5, 'learning_rate': 0.02, 'n_estimators': 340, 'max_depth': 5, 'min_child_weight': 14}. Best is trial 686 with value: 129.2410409450531.\u001b[0m\n"
          ],
          "name": "stderr"
        },
        {
          "output_type": "stream",
          "text": [
            "[07:25:13] WARNING: /workspace/src/objective/regression_obj.cu:152: reg:linear is now deprecated in favor of reg:squarederror.\n"
          ],
          "name": "stdout"
        },
        {
          "output_type": "stream",
          "text": [
            "\u001b[32m[I 2021-07-18 07:25:13,973]\u001b[0m Trial 949 finished with value: 138.58077669143677 and parameters: {'alpha': 0.41970544890916395, 'lambda': 6.760333557189694, 'gamma': 0, 'colsample_bytree': 0.8, 'subsample': 0.5, 'learning_rate': 0.06, 'n_estimators': 286, 'max_depth': 5, 'min_child_weight': 7}. Best is trial 686 with value: 129.2410409450531.\u001b[0m\n"
          ],
          "name": "stderr"
        },
        {
          "output_type": "stream",
          "text": [
            "[07:25:14] WARNING: /workspace/src/objective/regression_obj.cu:152: reg:linear is now deprecated in favor of reg:squarederror.\n"
          ],
          "name": "stdout"
        },
        {
          "output_type": "stream",
          "text": [
            "\u001b[32m[I 2021-07-18 07:25:14,607]\u001b[0m Trial 950 finished with value: 136.68842136859894 and parameters: {'alpha': 0.48294531003791225, 'lambda': 8.571338592737089, 'gamma': 0, 'colsample_bytree': 0.7, 'subsample': 0.5, 'learning_rate': 0.08, 'n_estimators': 322, 'max_depth': 5, 'min_child_weight': 1}. Best is trial 686 with value: 129.2410409450531.\u001b[0m\n"
          ],
          "name": "stderr"
        },
        {
          "output_type": "stream",
          "text": [
            "[07:25:14] WARNING: /workspace/src/objective/regression_obj.cu:152: reg:linear is now deprecated in favor of reg:squarederror.\n"
          ],
          "name": "stdout"
        },
        {
          "output_type": "stream",
          "text": [
            "\u001b[32m[I 2021-07-18 07:25:15,665]\u001b[0m Trial 951 finished with value: 143.13523769378662 and parameters: {'alpha': 0.7270961697926293, 'lambda': 4.469222186574461, 'gamma': 0, 'colsample_bytree': 0.8, 'subsample': 0.5, 'learning_rate': 0.01, 'n_estimators': 275, 'max_depth': 5, 'min_child_weight': 11}. Best is trial 686 with value: 129.2410409450531.\u001b[0m\n"
          ],
          "name": "stderr"
        },
        {
          "output_type": "stream",
          "text": [
            "[07:25:15] WARNING: /workspace/src/objective/regression_obj.cu:152: reg:linear is now deprecated in favor of reg:squarederror.\n"
          ],
          "name": "stdout"
        },
        {
          "output_type": "stream",
          "text": [
            "\u001b[32m[I 2021-07-18 07:25:16,387]\u001b[0m Trial 952 finished with value: 142.1797091960907 and parameters: {'alpha': 0.5287960177887442, 'lambda': 3.679780532560847, 'gamma': 0, 'colsample_bytree': 0.3, 'subsample': 0.5, 'learning_rate': 0.06, 'n_estimators': 366, 'max_depth': 5, 'min_child_weight': 1}. Best is trial 686 with value: 129.2410409450531.\u001b[0m\n"
          ],
          "name": "stderr"
        },
        {
          "output_type": "stream",
          "text": [
            "[07:25:16] WARNING: /workspace/src/objective/regression_obj.cu:152: reg:linear is now deprecated in favor of reg:squarederror.\n"
          ],
          "name": "stdout"
        },
        {
          "output_type": "stream",
          "text": [
            "\u001b[32m[I 2021-07-18 07:25:16,962]\u001b[0m Trial 953 finished with value: 134.3926249742508 and parameters: {'alpha': 0.6210423297485475, 'lambda': 6.311391646755588, 'gamma': 0, 'colsample_bytree': 0.8, 'subsample': 0.5, 'learning_rate': 0.08, 'n_estimators': 254, 'max_depth': 5, 'min_child_weight': 7}. Best is trial 686 with value: 129.2410409450531.\u001b[0m\n"
          ],
          "name": "stderr"
        },
        {
          "output_type": "stream",
          "text": [
            "[07:25:17] WARNING: /workspace/src/objective/regression_obj.cu:152: reg:linear is now deprecated in favor of reg:squarederror.\n"
          ],
          "name": "stdout"
        },
        {
          "output_type": "stream",
          "text": [
            "\u001b[32m[I 2021-07-18 07:25:17,466]\u001b[0m Trial 954 finished with value: 146.34165716171265 and parameters: {'alpha': 3.0359149964164955, 'lambda': 5.34182956515918, 'gamma': 0, 'colsample_bytree': 0.8, 'subsample': 0.5, 'learning_rate': 0.08, 'n_estimators': 120, 'max_depth': 5, 'min_child_weight': 23}. Best is trial 686 with value: 129.2410409450531.\u001b[0m\n"
          ],
          "name": "stderr"
        },
        {
          "output_type": "stream",
          "text": [
            "[07:25:17] WARNING: /workspace/src/objective/regression_obj.cu:152: reg:linear is now deprecated in favor of reg:squarederror.\n"
          ],
          "name": "stdout"
        },
        {
          "output_type": "stream",
          "text": [
            "\u001b[32m[I 2021-07-18 07:25:18,157]\u001b[0m Trial 955 finished with value: 130.64179122447968 and parameters: {'alpha': 0.4773932737215909, 'lambda': 4.3299493978862085, 'gamma': 0, 'colsample_bytree': 0.8, 'subsample': 0.5, 'learning_rate': 0.06, 'n_estimators': 225, 'max_depth': 5, 'min_child_weight': 1}. Best is trial 686 with value: 129.2410409450531.\u001b[0m\n"
          ],
          "name": "stderr"
        },
        {
          "output_type": "stream",
          "text": [
            "[07:25:18] WARNING: /workspace/src/objective/regression_obj.cu:152: reg:linear is now deprecated in favor of reg:squarederror.\n"
          ],
          "name": "stdout"
        },
        {
          "output_type": "stream",
          "text": [
            "\u001b[32m[I 2021-07-18 07:25:19,025]\u001b[0m Trial 956 finished with value: 152.53074836730957 and parameters: {'alpha': 0.5608920351675485, 'lambda': 5.606138129618215, 'gamma': 0, 'colsample_bytree': 0.8, 'subsample': 0.8, 'learning_rate': 0.08, 'n_estimators': 247, 'max_depth': 5, 'min_child_weight': 92}. Best is trial 686 with value: 129.2410409450531.\u001b[0m\n"
          ],
          "name": "stderr"
        },
        {
          "output_type": "stream",
          "text": [
            "[07:25:19] WARNING: /workspace/src/objective/regression_obj.cu:152: reg:linear is now deprecated in favor of reg:squarederror.\n"
          ],
          "name": "stdout"
        },
        {
          "output_type": "stream",
          "text": [
            "\u001b[32m[I 2021-07-18 07:25:19,939]\u001b[0m Trial 957 finished with value: 141.73534321784973 and parameters: {'alpha': 0.7084728958500995, 'lambda': 7.2405160659260295, 'gamma': 0, 'colsample_bytree': 0.4, 'subsample': 0.5, 'learning_rate': 0.06, 'n_estimators': 243, 'max_depth': 5, 'min_child_weight': 16}. Best is trial 686 with value: 129.2410409450531.\u001b[0m\n"
          ],
          "name": "stderr"
        },
        {
          "output_type": "stream",
          "text": [
            "[07:25:20] WARNING: /workspace/src/objective/regression_obj.cu:152: reg:linear is now deprecated in favor of reg:squarederror.\n"
          ],
          "name": "stdout"
        },
        {
          "output_type": "stream",
          "text": [
            "\u001b[32m[I 2021-07-18 07:25:20,512]\u001b[0m Trial 958 finished with value: 139.5556937456131 and parameters: {'alpha': 0.7032885079693273, 'lambda': 9.771412728965345, 'gamma': 0, 'colsample_bytree': 0.8, 'subsample': 0.4, 'learning_rate': 0.08, 'n_estimators': 382, 'max_depth': 3, 'min_child_weight': 7}. Best is trial 686 with value: 129.2410409450531.\u001b[0m\n"
          ],
          "name": "stderr"
        },
        {
          "output_type": "stream",
          "text": [
            "[07:25:20] WARNING: /workspace/src/objective/regression_obj.cu:152: reg:linear is now deprecated in favor of reg:squarederror.\n"
          ],
          "name": "stdout"
        },
        {
          "output_type": "stream",
          "text": [
            "\u001b[32m[I 2021-07-18 07:25:21,184]\u001b[0m Trial 959 finished with value: 138.76378333568573 and parameters: {'alpha': 0.5639650836412631, 'lambda': 4.409066421141783, 'gamma': 0, 'colsample_bytree': 0.8, 'subsample': 1.0, 'learning_rate': 0.06, 'n_estimators': 325, 'max_depth': 5, 'min_child_weight': 1}. Best is trial 686 with value: 129.2410409450531.\u001b[0m\n"
          ],
          "name": "stderr"
        },
        {
          "output_type": "stream",
          "text": [
            "[07:25:21] WARNING: /workspace/src/objective/regression_obj.cu:152: reg:linear is now deprecated in favor of reg:squarederror.\n"
          ],
          "name": "stdout"
        },
        {
          "output_type": "stream",
          "text": [
            "\u001b[32m[I 2021-07-18 07:25:21,948]\u001b[0m Trial 960 finished with value: 141.57583022117615 and parameters: {'alpha': 0.5998559591762654, 'lambda': 7.870850549773348, 'gamma': 0, 'colsample_bytree': 0.5, 'subsample': 0.5, 'learning_rate': 0.08, 'n_estimators': 330, 'max_depth': 13, 'min_child_weight': 11}. Best is trial 686 with value: 129.2410409450531.\u001b[0m\n"
          ],
          "name": "stderr"
        },
        {
          "output_type": "stream",
          "text": [
            "[07:25:22] WARNING: /workspace/src/objective/regression_obj.cu:152: reg:linear is now deprecated in favor of reg:squarederror.\n"
          ],
          "name": "stdout"
        },
        {
          "output_type": "stream",
          "text": [
            "\u001b[32m[I 2021-07-18 07:25:22,626]\u001b[0m Trial 961 finished with value: 130.64179122447968 and parameters: {'alpha': 0.7343259129572284, 'lambda': 9.947967440674624, 'gamma': 0, 'colsample_bytree': 0.8, 'subsample': 0.5, 'learning_rate': 0.06, 'n_estimators': 260, 'max_depth': 5, 'min_child_weight': 1}. Best is trial 686 with value: 129.2410409450531.\u001b[0m\n"
          ],
          "name": "stderr"
        },
        {
          "output_type": "stream",
          "text": [
            "[07:25:22] WARNING: /workspace/src/objective/regression_obj.cu:152: reg:linear is now deprecated in favor of reg:squarederror.\n"
          ],
          "name": "stdout"
        },
        {
          "output_type": "stream",
          "text": [
            "\u001b[32m[I 2021-07-18 07:25:23,271]\u001b[0m Trial 962 finished with value: 139.53482604026794 and parameters: {'alpha': 0.8472420501814377, 'lambda': 6.454569603976139, 'gamma': 0, 'colsample_bytree': 0.5, 'subsample': 0.5, 'learning_rate': 0.08, 'n_estimators': 268, 'max_depth': 9, 'min_child_weight': 6}. Best is trial 686 with value: 129.2410409450531.\u001b[0m\n"
          ],
          "name": "stderr"
        },
        {
          "output_type": "stream",
          "text": [
            "[07:25:23] WARNING: /workspace/src/objective/regression_obj.cu:152: reg:linear is now deprecated in favor of reg:squarederror.\n"
          ],
          "name": "stdout"
        },
        {
          "output_type": "stream",
          "text": [
            "\u001b[32m[I 2021-07-18 07:25:23,875]\u001b[0m Trial 963 finished with value: 135.22876316308975 and parameters: {'alpha': 0.3912953278745988, 'lambda': 3.2544461329398495, 'gamma': 0, 'colsample_bytree': 0.8, 'subsample': 0.5, 'learning_rate': 0.08, 'n_estimators': 317, 'max_depth': 5, 'min_child_weight': 1}. Best is trial 686 with value: 129.2410409450531.\u001b[0m\n"
          ],
          "name": "stderr"
        },
        {
          "output_type": "stream",
          "text": [
            "[07:25:23] WARNING: /workspace/src/objective/regression_obj.cu:152: reg:linear is now deprecated in favor of reg:squarederror.\n"
          ],
          "name": "stdout"
        },
        {
          "output_type": "stream",
          "text": [
            "\u001b[32m[I 2021-07-18 07:25:24,771]\u001b[0m Trial 964 finished with value: 142.5396432876587 and parameters: {'alpha': 0.7844409540060022, 'lambda': 6.544410430478752, 'gamma': 0, 'colsample_bytree': 0.5, 'subsample': 0.5, 'learning_rate': 0.06, 'n_estimators': 374, 'max_depth': 5, 'min_child_weight': 16}. Best is trial 686 with value: 129.2410409450531.\u001b[0m\n"
          ],
          "name": "stderr"
        },
        {
          "output_type": "stream",
          "text": [
            "[07:25:24] WARNING: /workspace/src/objective/regression_obj.cu:152: reg:linear is now deprecated in favor of reg:squarederror.\n"
          ],
          "name": "stdout"
        },
        {
          "output_type": "stream",
          "text": [
            "\u001b[32m[I 2021-07-18 07:25:25,591]\u001b[0m Trial 965 finished with value: 137.52817952632904 and parameters: {'alpha': 1.9684817411783824, 'lambda': 4.683130064606957, 'gamma': 0, 'colsample_bytree': 0.8, 'subsample': 0.5, 'learning_rate': 0.08, 'n_estimators': 316, 'max_depth': 17, 'min_child_weight': 6}. Best is trial 686 with value: 129.2410409450531.\u001b[0m\n"
          ],
          "name": "stderr"
        },
        {
          "output_type": "stream",
          "text": [
            "[07:25:25] WARNING: /workspace/src/objective/regression_obj.cu:152: reg:linear is now deprecated in favor of reg:squarederror.\n"
          ],
          "name": "stdout"
        },
        {
          "output_type": "stream",
          "text": [
            "\u001b[32m[I 2021-07-18 07:25:27,679]\u001b[0m Trial 966 finished with value: 144.6127747297287 and parameters: {'alpha': 0.47867886990329445, 'lambda': 8.270100109855269, 'gamma': 0, 'colsample_bytree': 0.5, 'subsample': 0.5, 'learning_rate': 0.06, 'n_estimators': 326, 'max_depth': 20, 'min_child_weight': 11}. Best is trial 686 with value: 129.2410409450531.\u001b[0m\n"
          ],
          "name": "stderr"
        },
        {
          "output_type": "stream",
          "text": [
            "[07:25:27] WARNING: /workspace/src/objective/regression_obj.cu:152: reg:linear is now deprecated in favor of reg:squarederror.\n"
          ],
          "name": "stdout"
        },
        {
          "output_type": "stream",
          "text": [
            "\u001b[32m[I 2021-07-18 07:25:28,279]\u001b[0m Trial 967 finished with value: 135.22876316308975 and parameters: {'alpha': 3.3714821246016764, 'lambda': 3.8029140352574635, 'gamma': 0, 'colsample_bytree': 0.8, 'subsample': 0.5, 'learning_rate': 0.08, 'n_estimators': 192, 'max_depth': 5, 'min_child_weight': 1}. Best is trial 686 with value: 129.2410409450531.\u001b[0m\n"
          ],
          "name": "stderr"
        },
        {
          "output_type": "stream",
          "text": [
            "[07:25:28] WARNING: /workspace/src/objective/regression_obj.cu:152: reg:linear is now deprecated in favor of reg:squarederror.\n"
          ],
          "name": "stdout"
        },
        {
          "output_type": "stream",
          "text": [
            "\u001b[32m[I 2021-07-18 07:25:28,938]\u001b[0m Trial 968 finished with value: 133.2049844264984 and parameters: {'alpha': 0.5519296047039568, 'lambda': 3.909220846053453, 'gamma': 0, 'colsample_bytree': 0.5, 'subsample': 0.7, 'learning_rate': 0.06, 'n_estimators': 336, 'max_depth': 5, 'min_child_weight': 1}. Best is trial 686 with value: 129.2410409450531.\u001b[0m\n"
          ],
          "name": "stderr"
        },
        {
          "output_type": "stream",
          "text": [
            "[07:25:29] WARNING: /workspace/src/objective/regression_obj.cu:152: reg:linear is now deprecated in favor of reg:squarederror.\n"
          ],
          "name": "stdout"
        },
        {
          "output_type": "stream",
          "text": [
            "\u001b[32m[I 2021-07-18 07:25:29,647]\u001b[0m Trial 969 finished with value: 193.16997694969177 and parameters: {'alpha': 0.4363855168574863, 'lambda': 5.5134861484967495, 'gamma': 0, 'colsample_bytree': 0.5, 'subsample': 0.5, 'learning_rate': 0.08, 'n_estimators': 205, 'max_depth': 5, 'min_child_weight': 153}. Best is trial 686 with value: 129.2410409450531.\u001b[0m\n"
          ],
          "name": "stderr"
        },
        {
          "output_type": "stream",
          "text": [
            "[07:25:29] WARNING: /workspace/src/objective/regression_obj.cu:152: reg:linear is now deprecated in favor of reg:squarederror.\n"
          ],
          "name": "stdout"
        },
        {
          "output_type": "stream",
          "text": [
            "\u001b[32m[I 2021-07-18 07:25:30,169]\u001b[0m Trial 970 finished with value: 139.66999280452728 and parameters: {'alpha': 0.917650571319499, 'lambda': 5.9167195243755355, 'gamma': 0, 'colsample_bytree': 0.8, 'subsample': 0.5, 'learning_rate': 0.06, 'n_estimators': 128, 'max_depth': 5, 'min_child_weight': 20}. Best is trial 686 with value: 129.2410409450531.\u001b[0m\n"
          ],
          "name": "stderr"
        },
        {
          "output_type": "stream",
          "text": [
            "[07:25:30] WARNING: /workspace/src/objective/regression_obj.cu:152: reg:linear is now deprecated in favor of reg:squarederror.\n"
          ],
          "name": "stdout"
        },
        {
          "output_type": "stream",
          "text": [
            "\u001b[32m[I 2021-07-18 07:25:30,956]\u001b[0m Trial 971 finished with value: 155.7593343257904 and parameters: {'alpha': 0.48552234404099354, 'lambda': 4.6081211336411005, 'gamma': 0, 'colsample_bytree': 0.5, 'subsample': 0.5, 'learning_rate': 0.08, 'n_estimators': 226, 'max_depth': 5, 'min_child_weight': 67}. Best is trial 686 with value: 129.2410409450531.\u001b[0m\n"
          ],
          "name": "stderr"
        },
        {
          "output_type": "stream",
          "text": [
            "[07:25:31] WARNING: /workspace/src/objective/regression_obj.cu:152: reg:linear is now deprecated in favor of reg:squarederror.\n"
          ],
          "name": "stdout"
        },
        {
          "output_type": "stream",
          "text": [
            "\u001b[32m[I 2021-07-18 07:25:31,513]\u001b[0m Trial 972 finished with value: 138.240265250206 and parameters: {'alpha': 1.0484916797211827, 'lambda': 8.667016625087522, 'gamma': 0, 'colsample_bytree': 1.0, 'subsample': 0.5, 'learning_rate': 0.08, 'n_estimators': 237, 'max_depth': 5, 'min_child_weight': 7}. Best is trial 686 with value: 129.2410409450531.\u001b[0m\n"
          ],
          "name": "stderr"
        },
        {
          "output_type": "stream",
          "text": [
            "[07:25:31] WARNING: /workspace/src/objective/regression_obj.cu:152: reg:linear is now deprecated in favor of reg:squarederror.\n"
          ],
          "name": "stdout"
        },
        {
          "output_type": "stream",
          "text": [
            "\u001b[32m[I 2021-07-18 07:25:32,158]\u001b[0m Trial 973 finished with value: 138.4794875383377 and parameters: {'alpha': 0.8274024987875633, 'lambda': 7.256337834758857, 'gamma': 0, 'colsample_bytree': 0.8, 'subsample': 0.5, 'learning_rate': 0.06, 'n_estimators': 350, 'max_depth': 5, 'min_child_weight': 11}. Best is trial 686 with value: 129.2410409450531.\u001b[0m\n"
          ],
          "name": "stderr"
        },
        {
          "output_type": "stream",
          "text": [
            "[07:25:32] WARNING: /workspace/src/objective/regression_obj.cu:152: reg:linear is now deprecated in favor of reg:squarederror.\n"
          ],
          "name": "stdout"
        },
        {
          "output_type": "stream",
          "text": [
            "\u001b[32m[I 2021-07-18 07:25:32,763]\u001b[0m Trial 974 finished with value: 138.20656913518906 and parameters: {'alpha': 0.41101324778781717, 'lambda': 4.784743255416608, 'gamma': 0, 'colsample_bytree': 0.9, 'subsample': 0.5, 'learning_rate': 0.08, 'n_estimators': 389, 'max_depth': 5, 'min_child_weight': 1}. Best is trial 686 with value: 129.2410409450531.\u001b[0m\n"
          ],
          "name": "stderr"
        },
        {
          "output_type": "stream",
          "text": [
            "[07:25:32] WARNING: /workspace/src/objective/regression_obj.cu:152: reg:linear is now deprecated in favor of reg:squarederror.\n"
          ],
          "name": "stdout"
        },
        {
          "output_type": "stream",
          "text": [
            "\u001b[32m[I 2021-07-18 07:25:33,419]\u001b[0m Trial 975 finished with value: 144.09073638916016 and parameters: {'alpha': 0.7041277223746698, 'lambda': 9.26598664681606, 'gamma': 0, 'colsample_bytree': 0.5, 'subsample': 0.5, 'learning_rate': 0.06, 'n_estimators': 375, 'max_depth': 5, 'min_child_weight': 6}. Best is trial 686 with value: 129.2410409450531.\u001b[0m\n"
          ],
          "name": "stderr"
        },
        {
          "output_type": "stream",
          "text": [
            "[07:25:33] WARNING: /workspace/src/objective/regression_obj.cu:152: reg:linear is now deprecated in favor of reg:squarederror.\n"
          ],
          "name": "stdout"
        },
        {
          "output_type": "stream",
          "text": [
            "\u001b[32m[I 2021-07-18 07:25:34,652]\u001b[0m Trial 976 finished with value: 141.79203283786774 and parameters: {'alpha': 1.013916807136989, 'lambda': 9.81672807492442, 'gamma': 0, 'colsample_bytree': 0.3, 'subsample': 0.5, 'learning_rate': 0.02, 'n_estimators': 343, 'max_depth': 5, 'min_child_weight': 15}. Best is trial 686 with value: 129.2410409450531.\u001b[0m\n"
          ],
          "name": "stderr"
        },
        {
          "output_type": "stream",
          "text": [
            "[07:25:34] WARNING: /workspace/src/objective/regression_obj.cu:152: reg:linear is now deprecated in favor of reg:squarederror.\n"
          ],
          "name": "stdout"
        },
        {
          "output_type": "stream",
          "text": [
            "\u001b[32m[I 2021-07-18 07:25:35,255]\u001b[0m Trial 977 finished with value: 135.22876316308975 and parameters: {'alpha': 0.3781086735862827, 'lambda': 3.661928855253878, 'gamma': 0, 'colsample_bytree': 0.8, 'subsample': 0.5, 'learning_rate': 0.08, 'n_estimators': 294, 'max_depth': 5, 'min_child_weight': 1}. Best is trial 686 with value: 129.2410409450531.\u001b[0m\n"
          ],
          "name": "stderr"
        },
        {
          "output_type": "stream",
          "text": [
            "[07:25:35] WARNING: /workspace/src/objective/regression_obj.cu:152: reg:linear is now deprecated in favor of reg:squarederror.\n"
          ],
          "name": "stdout"
        },
        {
          "output_type": "stream",
          "text": [
            "\u001b[32m[I 2021-07-18 07:25:35,867]\u001b[0m Trial 978 finished with value: 146.21969974040985 and parameters: {'alpha': 4.536534386408143, 'lambda': 2.688924794328346, 'gamma': 0, 'colsample_bytree': 0.7, 'subsample': 0.5, 'learning_rate': 0.06, 'n_estimators': 250, 'max_depth': 5, 'min_child_weight': 7}. Best is trial 686 with value: 129.2410409450531.\u001b[0m\n"
          ],
          "name": "stderr"
        },
        {
          "output_type": "stream",
          "text": [
            "[07:25:35] WARNING: /workspace/src/objective/regression_obj.cu:152: reg:linear is now deprecated in favor of reg:squarederror.\n"
          ],
          "name": "stdout"
        },
        {
          "output_type": "stream",
          "text": [
            "\u001b[32m[I 2021-07-18 07:25:36,523]\u001b[0m Trial 979 finished with value: 129.2410409450531 and parameters: {'alpha': 1.1064866925116246, 'lambda': 8.386868584562912, 'gamma': 0, 'colsample_bytree': 0.5, 'subsample': 0.5, 'learning_rate': 0.08, 'n_estimators': 152, 'max_depth': 5, 'min_child_weight': 1}. Best is trial 686 with value: 129.2410409450531.\u001b[0m\n"
          ],
          "name": "stderr"
        },
        {
          "output_type": "stream",
          "text": [
            "[07:25:36] WARNING: /workspace/src/objective/regression_obj.cu:152: reg:linear is now deprecated in favor of reg:squarederror.\n"
          ],
          "name": "stdout"
        },
        {
          "output_type": "stream",
          "text": [
            "\u001b[32m[I 2021-07-18 07:25:36,991]\u001b[0m Trial 980 finished with value: 283.5330505371094 and parameters: {'alpha': 1.031817697822766, 'lambda': 9.866677509243658, 'gamma': 0, 'colsample_bytree': 0.5, 'subsample': 0.5, 'learning_rate': 0.08, 'n_estimators': 128, 'max_depth': 15, 'min_child_weight': 279}. Best is trial 686 with value: 129.2410409450531.\u001b[0m\n"
          ],
          "name": "stderr"
        },
        {
          "output_type": "stream",
          "text": [
            "[07:25:37] WARNING: /workspace/src/objective/regression_obj.cu:152: reg:linear is now deprecated in favor of reg:squarederror.\n"
          ],
          "name": "stdout"
        },
        {
          "output_type": "stream",
          "text": [
            "\u001b[32m[I 2021-07-18 07:25:37,617]\u001b[0m Trial 981 finished with value: 145.49757432937622 and parameters: {'alpha': 1.6263578170969688, 'lambda': 8.298211360555426, 'gamma': 0, 'colsample_bytree': 0.5, 'subsample': 0.5, 'learning_rate': 0.08, 'n_estimators': 154, 'max_depth': 5, 'min_child_weight': 11}. Best is trial 686 with value: 129.2410409450531.\u001b[0m\n"
          ],
          "name": "stderr"
        },
        {
          "output_type": "stream",
          "text": [
            "[07:25:37] WARNING: /workspace/src/objective/regression_obj.cu:152: reg:linear is now deprecated in favor of reg:squarederror.\n"
          ],
          "name": "stdout"
        },
        {
          "output_type": "stream",
          "text": [
            "\u001b[32m[I 2021-07-18 07:25:38,150]\u001b[0m Trial 982 finished with value: 129.2410409450531 and parameters: {'alpha': 0.9284365406445082, 'lambda': 9.758919379342313, 'gamma': 0, 'colsample_bytree': 0.5, 'subsample': 0.5, 'learning_rate': 0.08, 'n_estimators': 113, 'max_depth': 5, 'min_child_weight': 1}. Best is trial 686 with value: 129.2410409450531.\u001b[0m\n"
          ],
          "name": "stderr"
        },
        {
          "output_type": "stream",
          "text": [
            "[07:25:38] WARNING: /workspace/src/objective/regression_obj.cu:152: reg:linear is now deprecated in favor of reg:squarederror.\n"
          ],
          "name": "stdout"
        },
        {
          "output_type": "stream",
          "text": [
            "\u001b[32m[I 2021-07-18 07:25:38,654]\u001b[0m Trial 983 finished with value: 140.94452488422394 and parameters: {'alpha': 3.591341028539047, 'lambda': 5.655127285308578, 'gamma': 0, 'colsample_bytree': 0.5, 'subsample': 0.5, 'learning_rate': 0.08, 'n_estimators': 115, 'max_depth': 5, 'min_child_weight': 6}. Best is trial 686 with value: 129.2410409450531.\u001b[0m\n"
          ],
          "name": "stderr"
        },
        {
          "output_type": "stream",
          "text": [
            "[07:25:38] WARNING: /workspace/src/objective/regression_obj.cu:152: reg:linear is now deprecated in favor of reg:squarederror.\n"
          ],
          "name": "stdout"
        },
        {
          "output_type": "stream",
          "text": [
            "\u001b[32m[I 2021-07-18 07:25:39,227]\u001b[0m Trial 984 finished with value: 129.2410409450531 and parameters: {'alpha': 0.867749889945298, 'lambda': 2.613839181978712, 'gamma': 0, 'colsample_bytree': 0.5, 'subsample': 0.5, 'learning_rate': 0.08, 'n_estimators': 125, 'max_depth': 5, 'min_child_weight': 1}. Best is trial 686 with value: 129.2410409450531.\u001b[0m\n"
          ],
          "name": "stderr"
        },
        {
          "output_type": "stream",
          "text": [
            "[07:25:39] WARNING: /workspace/src/objective/regression_obj.cu:152: reg:linear is now deprecated in favor of reg:squarederror.\n"
          ],
          "name": "stdout"
        },
        {
          "output_type": "stream",
          "text": [
            "\u001b[32m[I 2021-07-18 07:25:39,658]\u001b[0m Trial 985 finished with value: 150.09650444984436 and parameters: {'alpha': 0.9964453947237306, 'lambda': 9.931437448731913, 'gamma': 0, 'colsample_bytree': 0.5, 'subsample': 0.4, 'learning_rate': 0.08, 'n_estimators': 100, 'max_depth': 5, 'min_child_weight': 16}. Best is trial 686 with value: 129.2410409450531.\u001b[0m\n"
          ],
          "name": "stderr"
        },
        {
          "output_type": "stream",
          "text": [
            "[07:25:39] WARNING: /workspace/src/objective/regression_obj.cu:152: reg:linear is now deprecated in favor of reg:squarederror.\n"
          ],
          "name": "stdout"
        },
        {
          "output_type": "stream",
          "text": [
            "\u001b[32m[I 2021-07-18 07:25:40,272]\u001b[0m Trial 986 finished with value: 129.2410409450531 and parameters: {'alpha': 1.2414067184320343, 'lambda': 7.006186283103156, 'gamma': 0, 'colsample_bytree': 0.5, 'subsample': 0.5, 'learning_rate': 0.08, 'n_estimators': 137, 'max_depth': 5, 'min_child_weight': 1}. Best is trial 686 with value: 129.2410409450531.\u001b[0m\n"
          ],
          "name": "stderr"
        },
        {
          "output_type": "stream",
          "text": [
            "[07:25:40] WARNING: /workspace/src/objective/regression_obj.cu:152: reg:linear is now deprecated in favor of reg:squarederror.\n"
          ],
          "name": "stdout"
        },
        {
          "output_type": "stream",
          "text": [
            "\u001b[32m[I 2021-07-18 07:25:40,828]\u001b[0m Trial 987 finished with value: 145.49757432937622 and parameters: {'alpha': 1.2992652212837221, 'lambda': 2.9173733160468114, 'gamma': 0, 'colsample_bytree': 0.5, 'subsample': 0.5, 'learning_rate': 0.08, 'n_estimators': 133, 'max_depth': 5, 'min_child_weight': 11}. Best is trial 686 with value: 129.2410409450531.\u001b[0m\n"
          ],
          "name": "stderr"
        },
        {
          "output_type": "stream",
          "text": [
            "[07:25:40] WARNING: /workspace/src/objective/regression_obj.cu:152: reg:linear is now deprecated in favor of reg:squarederror.\n"
          ],
          "name": "stdout"
        },
        {
          "output_type": "stream",
          "text": [
            "\u001b[32m[I 2021-07-18 07:25:41,293]\u001b[0m Trial 988 finished with value: 136.82391834259033 and parameters: {'alpha': 1.703700003960012, 'lambda': 5.100959190035554, 'gamma': 0, 'colsample_bytree': 0.5, 'subsample': 1.0, 'learning_rate': 0.08, 'n_estimators': 107, 'max_depth': 5, 'min_child_weight': 22}. Best is trial 686 with value: 129.2410409450531.\u001b[0m\n"
          ],
          "name": "stderr"
        },
        {
          "output_type": "stream",
          "text": [
            "[07:25:41] WARNING: /workspace/src/objective/regression_obj.cu:152: reg:linear is now deprecated in favor of reg:squarederror.\n"
          ],
          "name": "stdout"
        },
        {
          "output_type": "stream",
          "text": [
            "\u001b[32m[I 2021-07-18 07:25:41,824]\u001b[0m Trial 989 finished with value: 137.3564192056656 and parameters: {'alpha': 1.2759519003697917, 'lambda': 7.8751926778076315, 'gamma': 0, 'colsample_bytree': 0.5, 'subsample': 0.8, 'learning_rate': 0.08, 'n_estimators': 120, 'max_depth': 5, 'min_child_weight': 7}. Best is trial 686 with value: 129.2410409450531.\u001b[0m\n"
          ],
          "name": "stderr"
        },
        {
          "output_type": "stream",
          "text": [
            "[07:25:41] WARNING: /workspace/src/objective/regression_obj.cu:152: reg:linear is now deprecated in favor of reg:squarederror.\n"
          ],
          "name": "stdout"
        },
        {
          "output_type": "stream",
          "text": [
            "\u001b[32m[I 2021-07-18 07:25:42,355]\u001b[0m Trial 990 finished with value: 132.45099759101868 and parameters: {'alpha': 1.3128904726225228, 'lambda': 6.607044253210276, 'gamma': 0, 'colsample_bytree': 0.5, 'subsample': 0.5, 'learning_rate': 0.08, 'n_estimators': 139, 'max_depth': 3, 'min_child_weight': 1}. Best is trial 686 with value: 129.2410409450531.\u001b[0m\n"
          ],
          "name": "stderr"
        },
        {
          "output_type": "stream",
          "text": [
            "[07:25:42] WARNING: /workspace/src/objective/regression_obj.cu:152: reg:linear is now deprecated in favor of reg:squarederror.\n"
          ],
          "name": "stdout"
        },
        {
          "output_type": "stream",
          "text": [
            "\u001b[32m[I 2021-07-18 07:25:42,921]\u001b[0m Trial 991 finished with value: 144.0843861103058 and parameters: {'alpha': 1.0273219052268878, 'lambda': 9.807032732921337, 'gamma': 0, 'colsample_bytree': 0.5, 'subsample': 0.5, 'learning_rate': 0.08, 'n_estimators': 147, 'max_depth': 5, 'min_child_weight': 7}. Best is trial 686 with value: 129.2410409450531.\u001b[0m\n"
          ],
          "name": "stderr"
        },
        {
          "output_type": "stream",
          "text": [
            "[07:25:42] WARNING: /workspace/src/objective/regression_obj.cu:152: reg:linear is now deprecated in favor of reg:squarederror.\n"
          ],
          "name": "stdout"
        },
        {
          "output_type": "stream",
          "text": [
            "\u001b[32m[I 2021-07-18 07:25:43,493]\u001b[0m Trial 992 finished with value: 129.2410409450531 and parameters: {'alpha': 0.9235824683958465, 'lambda': 7.361284893238573, 'gamma': 0, 'colsample_bytree': 0.5, 'subsample': 0.5, 'learning_rate': 0.08, 'n_estimators': 126, 'max_depth': 5, 'min_child_weight': 1}. Best is trial 686 with value: 129.2410409450531.\u001b[0m\n"
          ],
          "name": "stderr"
        },
        {
          "output_type": "stream",
          "text": [
            "[07:25:43] WARNING: /workspace/src/objective/regression_obj.cu:152: reg:linear is now deprecated in favor of reg:squarederror.\n"
          ],
          "name": "stdout"
        },
        {
          "output_type": "stream",
          "text": [
            "\u001b[32m[I 2021-07-18 07:25:43,970]\u001b[0m Trial 993 finished with value: 150.16707265377045 and parameters: {'alpha': 1.103766024103043, 'lambda': 6.611379073392249, 'gamma': 0, 'colsample_bytree': 0.5, 'subsample': 0.5, 'learning_rate': 0.08, 'n_estimators': 113, 'max_depth': 5, 'min_child_weight': 14}. Best is trial 686 with value: 129.2410409450531.\u001b[0m\n"
          ],
          "name": "stderr"
        },
        {
          "output_type": "stream",
          "text": [
            "[07:25:44] WARNING: /workspace/src/objective/regression_obj.cu:152: reg:linear is now deprecated in favor of reg:squarederror.\n"
          ],
          "name": "stdout"
        },
        {
          "output_type": "stream",
          "text": [
            "\u001b[32m[I 2021-07-18 07:25:44,540]\u001b[0m Trial 994 finished with value: 129.2410409450531 and parameters: {'alpha': 0.9608948453533012, 'lambda': 9.939943855467664, 'gamma': 0, 'colsample_bytree': 0.5, 'subsample': 0.5, 'learning_rate': 0.08, 'n_estimators': 126, 'max_depth': 5, 'min_child_weight': 1}. Best is trial 686 with value: 129.2410409450531.\u001b[0m\n"
          ],
          "name": "stderr"
        },
        {
          "output_type": "stream",
          "text": [
            "[07:25:44] WARNING: /workspace/src/objective/regression_obj.cu:152: reg:linear is now deprecated in favor of reg:squarederror.\n"
          ],
          "name": "stdout"
        },
        {
          "output_type": "stream",
          "text": [
            "\u001b[32m[I 2021-07-18 07:25:46,189]\u001b[0m Trial 995 finished with value: 142.1824026107788 and parameters: {'alpha': 1.1686201081710927, 'lambda': 7.661572088331134, 'gamma': 0, 'colsample_bytree': 0.5, 'subsample': 0.5, 'learning_rate': 0.08, 'n_estimators': 128, 'max_depth': 20, 'min_child_weight': 7}. Best is trial 686 with value: 129.2410409450531.\u001b[0m\n"
          ],
          "name": "stderr"
        },
        {
          "output_type": "stream",
          "text": [
            "[07:25:46] WARNING: /workspace/src/objective/regression_obj.cu:152: reg:linear is now deprecated in favor of reg:squarederror.\n"
          ],
          "name": "stdout"
        },
        {
          "output_type": "stream",
          "text": [
            "\u001b[32m[I 2021-07-18 07:25:47,649]\u001b[0m Trial 996 finished with value: 127.3814360499382 and parameters: {'alpha': 0.8524947191279225, 'lambda': 2.871836224406721, 'gamma': 0, 'colsample_bytree': 0.5, 'subsample': 0.5, 'learning_rate': 0.08, 'n_estimators': 139, 'max_depth': 17, 'min_child_weight': 1}. Best is trial 996 with value: 127.3814360499382.\u001b[0m\n"
          ],
          "name": "stderr"
        },
        {
          "output_type": "stream",
          "text": [
            "[07:25:47] WARNING: /workspace/src/objective/regression_obj.cu:152: reg:linear is now deprecated in favor of reg:squarederror.\n"
          ],
          "name": "stdout"
        },
        {
          "output_type": "stream",
          "text": [
            "\u001b[32m[I 2021-07-18 07:25:48,318]\u001b[0m Trial 997 finished with value: 144.5785493850708 and parameters: {'alpha': 0.8965960667258739, 'lambda': 7.050438906128579, 'gamma': 0, 'colsample_bytree': 0.5, 'subsample': 0.5, 'learning_rate': 0.08, 'n_estimators': 138, 'max_depth': 17, 'min_child_weight': 28}. Best is trial 996 with value: 127.3814360499382.\u001b[0m\n"
          ],
          "name": "stderr"
        },
        {
          "output_type": "stream",
          "text": [
            "[07:25:48] WARNING: /workspace/src/objective/regression_obj.cu:152: reg:linear is now deprecated in favor of reg:squarederror.\n"
          ],
          "name": "stdout"
        },
        {
          "output_type": "stream",
          "text": [
            "\u001b[32m[I 2021-07-18 07:25:48,974]\u001b[0m Trial 998 finished with value: 141.57583022117615 and parameters: {'alpha': 0.7012755294840969, 'lambda': 2.3434670719250073, 'gamma': 0, 'colsample_bytree': 0.5, 'subsample': 0.5, 'learning_rate': 0.08, 'n_estimators': 122, 'max_depth': 17, 'min_child_weight': 11}. Best is trial 996 with value: 127.3814360499382.\u001b[0m\n"
          ],
          "name": "stderr"
        },
        {
          "output_type": "stream",
          "text": [
            "[07:25:49] WARNING: /workspace/src/objective/regression_obj.cu:152: reg:linear is now deprecated in favor of reg:squarederror.\n"
          ],
          "name": "stdout"
        },
        {
          "output_type": "stream",
          "text": [
            "\u001b[32m[I 2021-07-18 07:25:50,657]\u001b[0m Trial 999 finished with value: 127.97387206554413 and parameters: {'alpha': 0.8669727280621017, 'lambda': 8.671447198146323, 'gamma': 0, 'colsample_bytree': 0.5, 'subsample': 0.7, 'learning_rate': 0.08, 'n_estimators': 142, 'max_depth': 17, 'min_child_weight': 1}. Best is trial 996 with value: 127.3814360499382.\u001b[0m\n"
          ],
          "name": "stderr"
        },
        {
          "output_type": "stream",
          "text": [
            "Number of finished trials: 1000\n",
            "Best trial: {'alpha': 0.8524947191279225, 'lambda': 2.871836224406721, 'gamma': 0, 'colsample_bytree': 0.5, 'subsample': 0.5, 'learning_rate': 0.08, 'n_estimators': 139, 'max_depth': 17, 'min_child_weight': 1}\n",
            "127.3814360499382\n"
          ],
          "name": "stdout"
        }
      ]
    },
    {
      "cell_type": "markdown",
      "metadata": {
        "id": "tNPgn1CsrTQR"
      },
      "source": [
        "제출 파일 만들기"
      ]
    },
    {
      "cell_type": "code",
      "metadata": {
        "id": "ILUC4mzl2RNp"
      },
      "source": [
        "sample_submission = pd.read_csv('/content/drive/MyDrive/contest/parking_data/sample_submission.csv')"
      ],
      "execution_count": null,
      "outputs": []
    },
    {
      "cell_type": "code",
      "metadata": {
        "id": "cFdCKG3I2fZe"
      },
      "source": [
        "predictions1 = catb.predict(test_agg)\n",
        "predictions2 = xgb.predict(xgb_t_train)"
      ],
      "execution_count": null,
      "outputs": []
    },
    {
      "cell_type": "code",
      "metadata": {
        "colab": {
          "base_uri": "https://localhost:8080/"
        },
        "id": "bxqZAugCtUw0",
        "outputId": "7a72db67-71e8-4539-c5b3-44eb55658370"
      },
      "source": [
        "predictions = (predictions1 + predictions2) / 2\n",
        "predictions"
      ],
      "execution_count": null,
      "outputs": [
        {
          "output_type": "execute_result",
          "data": {
            "text/plain": [
              "array([ 641.47461364, 1287.43615828,  569.0239828 ,  556.96060974,\n",
              "       1035.53765716, 1860.12114562,  945.68167614,  423.8620673 ,\n",
              "        352.11344383,  305.808364  ,  472.16747218,  229.58488984,\n",
              "        361.03110274,  296.40333451,  401.72307259,  199.97980544,\n",
              "        447.11667807,  278.57064989,  115.09329085,  719.79930553,\n",
              "        194.51489326,  385.82775422,  461.01715726,  516.71176665,\n",
              "        366.86272523,  147.79061541,   49.83104964,  494.39910262,\n",
              "        367.21439604,  453.60971941,  810.6079746 ,  115.50925711,\n",
              "        452.90621744,  210.12741572,   74.62601342,  297.47427924,\n",
              "        462.74123204,  596.19028034,  788.23672694,  330.35941032,\n",
              "        447.00028977,  409.6450722 ,  396.01550928,  516.19978799,\n",
              "        694.22386651, 1261.04027791,  464.92236811,  599.95155602,\n",
              "        380.16016501,  367.50764526,  741.05873649,  299.42629972,\n",
              "       1028.11272719,  667.43600861,  576.13016643,  261.34224769,\n",
              "        541.77235225,  316.38181096,  446.19100732,  163.86411847,\n",
              "        390.35541766,  562.85238136, 1000.30173204,  400.76117464,\n",
              "        154.49845101,  267.49386885,  628.80277848,  975.14036906,\n",
              "        505.28051156,  442.78777999,  760.45021771,  292.81197441,\n",
              "        613.54316019,  697.80811259,  838.35807224,  413.58310655,\n",
              "        672.56331936,  946.66520725,  603.33887704,  889.19758826,\n",
              "        780.97827877, 1102.22983564,  306.45279843,  274.74317266,\n",
              "        286.64393309,  242.13300878,  240.69011741,  391.28994214,\n",
              "        309.40212271, 1036.71122559,  762.83596549,  641.00908351,\n",
              "        338.40640128,  647.38448208, 1055.16935635, 1110.99367483,\n",
              "        587.05694125, 1007.37919164,  587.77784629,  869.77719362,\n",
              "        628.60976209,  410.60164527,  819.73555571,  662.83718593,\n",
              "        984.35704841,  538.79951372, 1120.91222876,  632.61459791,\n",
              "        950.25704921,  297.48657407,  606.08529702, 1170.06941578,\n",
              "        825.88551666,  906.11725816,  819.34369783,   94.24981088,\n",
              "        119.29865698,  539.56669008,  840.35090815, 1422.79488182,\n",
              "        594.4910456 ,  858.50117576,  780.81038183,  387.12296567,\n",
              "        704.28347241,  258.04319276,  406.95571775,  569.98856778,\n",
              "         39.71102066,   38.29505031,   93.87650699,  633.43232672,\n",
              "        598.07675709,  282.01953228,  261.38375176,  261.04096549,\n",
              "        561.59776538,  489.38418334,  387.52506147,   95.26385857,\n",
              "        469.33917131,   57.56361284,  133.44992597,  247.70917344,\n",
              "        362.90286781,  231.94820445,  468.73061972,   31.82673125,\n",
              "        460.40727502,  172.44665543])"
            ]
          },
          "metadata": {
            "tags": []
          },
          "execution_count": 30
        }
      ]
    },
    {
      "cell_type": "code",
      "metadata": {
        "id": "uLbLjdMm25aJ",
        "colab": {
          "base_uri": "https://localhost:8080/",
          "height": 204
        },
        "outputId": "d6714081-6be4-4a34-de33-39b6fdd10a2c"
      },
      "source": [
        "sample_submission['num'] = predictions\n",
        "sample_submission.head()"
      ],
      "execution_count": null,
      "outputs": [
        {
          "output_type": "execute_result",
          "data": {
            "text/html": [
              "<div>\n",
              "<style scoped>\n",
              "    .dataframe tbody tr th:only-of-type {\n",
              "        vertical-align: middle;\n",
              "    }\n",
              "\n",
              "    .dataframe tbody tr th {\n",
              "        vertical-align: top;\n",
              "    }\n",
              "\n",
              "    .dataframe thead th {\n",
              "        text-align: right;\n",
              "    }\n",
              "</style>\n",
              "<table border=\"1\" class=\"dataframe\">\n",
              "  <thead>\n",
              "    <tr style=\"text-align: right;\">\n",
              "      <th></th>\n",
              "      <th>code</th>\n",
              "      <th>num</th>\n",
              "    </tr>\n",
              "  </thead>\n",
              "  <tbody>\n",
              "    <tr>\n",
              "      <th>0</th>\n",
              "      <td>C1072</td>\n",
              "      <td>641.474614</td>\n",
              "    </tr>\n",
              "    <tr>\n",
              "      <th>1</th>\n",
              "      <td>C1128</td>\n",
              "      <td>1287.436158</td>\n",
              "    </tr>\n",
              "    <tr>\n",
              "      <th>2</th>\n",
              "      <td>C1456</td>\n",
              "      <td>569.023983</td>\n",
              "    </tr>\n",
              "    <tr>\n",
              "      <th>3</th>\n",
              "      <td>C1840</td>\n",
              "      <td>556.960610</td>\n",
              "    </tr>\n",
              "    <tr>\n",
              "      <th>4</th>\n",
              "      <td>C1332</td>\n",
              "      <td>1035.537657</td>\n",
              "    </tr>\n",
              "  </tbody>\n",
              "</table>\n",
              "</div>"
            ],
            "text/plain": [
              "    code          num\n",
              "0  C1072   641.474614\n",
              "1  C1128  1287.436158\n",
              "2  C1456   569.023983\n",
              "3  C1840   556.960610\n",
              "4  C1332  1035.537657"
            ]
          },
          "metadata": {
            "tags": []
          },
          "execution_count": 31
        }
      ]
    },
    {
      "cell_type": "code",
      "metadata": {
        "id": "xfWMpfwqG-Z2"
      },
      "source": [
        "file_name = 'parking06.csv'\n",
        "sample_submission.to_csv('/content/drive/MyDrive/contest/parking_data/' + file_name, index=False)"
      ],
      "execution_count": null,
      "outputs": []
    }
  ]
}