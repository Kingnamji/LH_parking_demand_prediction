{
  "nbformat": 4,
  "nbformat_minor": 0,
  "metadata": {
    "colab": {
      "name": "parking_data_xgboost",
      "provenance": []
    },
    "kernelspec": {
      "name": "python3",
      "display_name": "Python 3"
    },
    "language_info": {
      "name": "python"
    },
    "accelerator": "GPU"
  },
  "cells": [
    {
      "cell_type": "code",
      "metadata": {
        "id": "JD8a3yPjmTNK"
      },
      "source": [
        "# 라이브러리\n",
        "import pandas as pd\n",
        "import numpy as np\n",
        "import tqdm as tq\n",
        "import pickle\n",
        "import matplotlib.pyplot as plt\n",
        "from xgboost import XGBRegressor\n",
        "from tqdm import tqdm"
      ],
      "execution_count": 60,
      "outputs": []
    },
    {
      "cell_type": "markdown",
      "metadata": {
        "id": "uwEa8JN2no_u"
      },
      "source": [
        "# 데이터 탐색"
      ]
    },
    {
      "cell_type": "code",
      "metadata": {
        "id": "Ek5jvp6xll00"
      },
      "source": [
        "train = pd.read_csv('/content/drive/MyDrive/contest/parking_data/train.csv')\n",
        "test = pd.read_csv('/content/drive/MyDrive/contest/parking_data/test.csv')\n",
        "age_gender = pd.read_csv('/content/drive/MyDrive/contest/parking_data/age_gender_info.csv')"
      ],
      "execution_count": 2,
      "outputs": []
    },
    {
      "cell_type": "markdown",
      "metadata": {
        "id": "ZGc11-UOoOzy"
      },
      "source": [
        "### 훈련 데이터"
      ]
    },
    {
      "cell_type": "code",
      "metadata": {
        "colab": {
          "base_uri": "https://localhost:8080/",
          "height": 510
        },
        "id": "WRH-8NvcpSll",
        "outputId": "0ef1c948-249e-4c48-d6b4-cd805278b523"
      },
      "source": [
        "train.head()"
      ],
      "execution_count": 3,
      "outputs": [
        {
          "output_type": "execute_result",
          "data": {
            "text/html": [
              "<div>\n",
              "<style scoped>\n",
              "    .dataframe tbody tr th:only-of-type {\n",
              "        vertical-align: middle;\n",
              "    }\n",
              "\n",
              "    .dataframe tbody tr th {\n",
              "        vertical-align: top;\n",
              "    }\n",
              "\n",
              "    .dataframe thead th {\n",
              "        text-align: right;\n",
              "    }\n",
              "</style>\n",
              "<table border=\"1\" class=\"dataframe\">\n",
              "  <thead>\n",
              "    <tr style=\"text-align: right;\">\n",
              "      <th></th>\n",
              "      <th>단지코드</th>\n",
              "      <th>총세대수</th>\n",
              "      <th>임대건물구분</th>\n",
              "      <th>지역</th>\n",
              "      <th>공급유형</th>\n",
              "      <th>전용면적</th>\n",
              "      <th>전용면적별세대수</th>\n",
              "      <th>공가수</th>\n",
              "      <th>자격유형</th>\n",
              "      <th>임대보증금</th>\n",
              "      <th>임대료</th>\n",
              "      <th>도보 10분거리 내 지하철역 수(환승노선 수 반영)</th>\n",
              "      <th>도보 10분거리 내 버스정류장 수</th>\n",
              "      <th>단지내주차면수</th>\n",
              "      <th>등록차량수</th>\n",
              "    </tr>\n",
              "  </thead>\n",
              "  <tbody>\n",
              "    <tr>\n",
              "      <th>0</th>\n",
              "      <td>C2483</td>\n",
              "      <td>900</td>\n",
              "      <td>아파트</td>\n",
              "      <td>경상북도</td>\n",
              "      <td>국민임대</td>\n",
              "      <td>39.72</td>\n",
              "      <td>134</td>\n",
              "      <td>38.0</td>\n",
              "      <td>A</td>\n",
              "      <td>15667000</td>\n",
              "      <td>103680</td>\n",
              "      <td>0.0</td>\n",
              "      <td>3.0</td>\n",
              "      <td>1425.0</td>\n",
              "      <td>1015.0</td>\n",
              "    </tr>\n",
              "    <tr>\n",
              "      <th>1</th>\n",
              "      <td>C2483</td>\n",
              "      <td>900</td>\n",
              "      <td>아파트</td>\n",
              "      <td>경상북도</td>\n",
              "      <td>국민임대</td>\n",
              "      <td>39.72</td>\n",
              "      <td>15</td>\n",
              "      <td>38.0</td>\n",
              "      <td>A</td>\n",
              "      <td>15667000</td>\n",
              "      <td>103680</td>\n",
              "      <td>0.0</td>\n",
              "      <td>3.0</td>\n",
              "      <td>1425.0</td>\n",
              "      <td>1015.0</td>\n",
              "    </tr>\n",
              "    <tr>\n",
              "      <th>2</th>\n",
              "      <td>C2483</td>\n",
              "      <td>900</td>\n",
              "      <td>아파트</td>\n",
              "      <td>경상북도</td>\n",
              "      <td>국민임대</td>\n",
              "      <td>51.93</td>\n",
              "      <td>385</td>\n",
              "      <td>38.0</td>\n",
              "      <td>A</td>\n",
              "      <td>27304000</td>\n",
              "      <td>184330</td>\n",
              "      <td>0.0</td>\n",
              "      <td>3.0</td>\n",
              "      <td>1425.0</td>\n",
              "      <td>1015.0</td>\n",
              "    </tr>\n",
              "    <tr>\n",
              "      <th>3</th>\n",
              "      <td>C2483</td>\n",
              "      <td>900</td>\n",
              "      <td>아파트</td>\n",
              "      <td>경상북도</td>\n",
              "      <td>국민임대</td>\n",
              "      <td>51.93</td>\n",
              "      <td>15</td>\n",
              "      <td>38.0</td>\n",
              "      <td>A</td>\n",
              "      <td>27304000</td>\n",
              "      <td>184330</td>\n",
              "      <td>0.0</td>\n",
              "      <td>3.0</td>\n",
              "      <td>1425.0</td>\n",
              "      <td>1015.0</td>\n",
              "    </tr>\n",
              "    <tr>\n",
              "      <th>4</th>\n",
              "      <td>C2483</td>\n",
              "      <td>900</td>\n",
              "      <td>아파트</td>\n",
              "      <td>경상북도</td>\n",
              "      <td>국민임대</td>\n",
              "      <td>51.93</td>\n",
              "      <td>41</td>\n",
              "      <td>38.0</td>\n",
              "      <td>A</td>\n",
              "      <td>27304000</td>\n",
              "      <td>184330</td>\n",
              "      <td>0.0</td>\n",
              "      <td>3.0</td>\n",
              "      <td>1425.0</td>\n",
              "      <td>1015.0</td>\n",
              "    </tr>\n",
              "  </tbody>\n",
              "</table>\n",
              "</div>"
            ],
            "text/plain": [
              "    단지코드  총세대수 임대건물구분  ... 도보 10분거리 내 버스정류장 수 단지내주차면수   등록차량수\n",
              "0  C2483   900    아파트  ...                3.0  1425.0  1015.0\n",
              "1  C2483   900    아파트  ...                3.0  1425.0  1015.0\n",
              "2  C2483   900    아파트  ...                3.0  1425.0  1015.0\n",
              "3  C2483   900    아파트  ...                3.0  1425.0  1015.0\n",
              "4  C2483   900    아파트  ...                3.0  1425.0  1015.0\n",
              "\n",
              "[5 rows x 15 columns]"
            ]
          },
          "metadata": {
            "tags": []
          },
          "execution_count": 3
        }
      ]
    },
    {
      "cell_type": "code",
      "metadata": {
        "colab": {
          "base_uri": "https://localhost:8080/",
          "height": 382
        },
        "id": "JdjQiB5MwK0V",
        "outputId": "3e205952-48e9-418f-cdd3-24b881325964"
      },
      "source": [
        "train.corr(method='pearson')"
      ],
      "execution_count": 4,
      "outputs": [
        {
          "output_type": "execute_result",
          "data": {
            "text/html": [
              "<div>\n",
              "<style scoped>\n",
              "    .dataframe tbody tr th:only-of-type {\n",
              "        vertical-align: middle;\n",
              "    }\n",
              "\n",
              "    .dataframe tbody tr th {\n",
              "        vertical-align: top;\n",
              "    }\n",
              "\n",
              "    .dataframe thead th {\n",
              "        text-align: right;\n",
              "    }\n",
              "</style>\n",
              "<table border=\"1\" class=\"dataframe\">\n",
              "  <thead>\n",
              "    <tr style=\"text-align: right;\">\n",
              "      <th></th>\n",
              "      <th>총세대수</th>\n",
              "      <th>전용면적</th>\n",
              "      <th>전용면적별세대수</th>\n",
              "      <th>공가수</th>\n",
              "      <th>도보 10분거리 내 지하철역 수(환승노선 수 반영)</th>\n",
              "      <th>도보 10분거리 내 버스정류장 수</th>\n",
              "      <th>단지내주차면수</th>\n",
              "      <th>등록차량수</th>\n",
              "    </tr>\n",
              "  </thead>\n",
              "  <tbody>\n",
              "    <tr>\n",
              "      <th>총세대수</th>\n",
              "      <td>1.000000</td>\n",
              "      <td>0.042271</td>\n",
              "      <td>0.098205</td>\n",
              "      <td>0.068192</td>\n",
              "      <td>0.213843</td>\n",
              "      <td>-0.001446</td>\n",
              "      <td>0.501488</td>\n",
              "      <td>0.316703</td>\n",
              "    </tr>\n",
              "    <tr>\n",
              "      <th>전용면적</th>\n",
              "      <td>0.042271</td>\n",
              "      <td>1.000000</td>\n",
              "      <td>-0.035479</td>\n",
              "      <td>-0.089201</td>\n",
              "      <td>-0.013111</td>\n",
              "      <td>-0.007866</td>\n",
              "      <td>0.071260</td>\n",
              "      <td>0.115453</td>\n",
              "    </tr>\n",
              "    <tr>\n",
              "      <th>전용면적별세대수</th>\n",
              "      <td>0.098205</td>\n",
              "      <td>-0.035479</td>\n",
              "      <td>1.000000</td>\n",
              "      <td>0.166472</td>\n",
              "      <td>-0.056680</td>\n",
              "      <td>0.047112</td>\n",
              "      <td>0.281989</td>\n",
              "      <td>0.247085</td>\n",
              "    </tr>\n",
              "    <tr>\n",
              "      <th>공가수</th>\n",
              "      <td>0.068192</td>\n",
              "      <td>-0.089201</td>\n",
              "      <td>0.166472</td>\n",
              "      <td>1.000000</td>\n",
              "      <td>-0.093334</td>\n",
              "      <td>0.043285</td>\n",
              "      <td>0.289819</td>\n",
              "      <td>0.118121</td>\n",
              "    </tr>\n",
              "    <tr>\n",
              "      <th>도보 10분거리 내 지하철역 수(환승노선 수 반영)</th>\n",
              "      <td>0.213843</td>\n",
              "      <td>-0.013111</td>\n",
              "      <td>-0.056680</td>\n",
              "      <td>-0.093334</td>\n",
              "      <td>1.000000</td>\n",
              "      <td>0.098380</td>\n",
              "      <td>-0.055544</td>\n",
              "      <td>-0.108592</td>\n",
              "    </tr>\n",
              "    <tr>\n",
              "      <th>도보 10분거리 내 버스정류장 수</th>\n",
              "      <td>-0.001446</td>\n",
              "      <td>-0.007866</td>\n",
              "      <td>0.047112</td>\n",
              "      <td>0.043285</td>\n",
              "      <td>0.098380</td>\n",
              "      <td>1.000000</td>\n",
              "      <td>0.070696</td>\n",
              "      <td>0.103752</td>\n",
              "    </tr>\n",
              "    <tr>\n",
              "      <th>단지내주차면수</th>\n",
              "      <td>0.501488</td>\n",
              "      <td>0.071260</td>\n",
              "      <td>0.281989</td>\n",
              "      <td>0.289819</td>\n",
              "      <td>-0.055544</td>\n",
              "      <td>0.070696</td>\n",
              "      <td>1.000000</td>\n",
              "      <td>0.859216</td>\n",
              "    </tr>\n",
              "    <tr>\n",
              "      <th>등록차량수</th>\n",
              "      <td>0.316703</td>\n",
              "      <td>0.115453</td>\n",
              "      <td>0.247085</td>\n",
              "      <td>0.118121</td>\n",
              "      <td>-0.108592</td>\n",
              "      <td>0.103752</td>\n",
              "      <td>0.859216</td>\n",
              "      <td>1.000000</td>\n",
              "    </tr>\n",
              "  </tbody>\n",
              "</table>\n",
              "</div>"
            ],
            "text/plain": [
              "                                  총세대수      전용면적  ...   단지내주차면수     등록차량수\n",
              "총세대수                          1.000000  0.042271  ...  0.501488  0.316703\n",
              "전용면적                          0.042271  1.000000  ...  0.071260  0.115453\n",
              "전용면적별세대수                      0.098205 -0.035479  ...  0.281989  0.247085\n",
              "공가수                           0.068192 -0.089201  ...  0.289819  0.118121\n",
              "도보 10분거리 내 지하철역 수(환승노선 수 반영)  0.213843 -0.013111  ... -0.055544 -0.108592\n",
              "도보 10분거리 내 버스정류장 수           -0.001446 -0.007866  ...  0.070696  0.103752\n",
              "단지내주차면수                       0.501488  0.071260  ...  1.000000  0.859216\n",
              "등록차량수                         0.316703  0.115453  ...  0.859216  1.000000\n",
              "\n",
              "[8 rows x 8 columns]"
            ]
          },
          "metadata": {
            "tags": []
          },
          "execution_count": 4
        }
      ]
    },
    {
      "cell_type": "code",
      "metadata": {
        "colab": {
          "base_uri": "https://localhost:8080/"
        },
        "id": "hOV5RFwHmsga",
        "outputId": "7c7e4f4f-10d6-4e41-f46c-84458ac99866"
      },
      "source": [
        "train.info()"
      ],
      "execution_count": 5,
      "outputs": [
        {
          "output_type": "stream",
          "text": [
            "<class 'pandas.core.frame.DataFrame'>\n",
            "RangeIndex: 2952 entries, 0 to 2951\n",
            "Data columns (total 15 columns):\n",
            " #   Column                        Non-Null Count  Dtype  \n",
            "---  ------                        --------------  -----  \n",
            " 0   단지코드                          2952 non-null   object \n",
            " 1   총세대수                          2952 non-null   int64  \n",
            " 2   임대건물구분                        2952 non-null   object \n",
            " 3   지역                            2952 non-null   object \n",
            " 4   공급유형                          2952 non-null   object \n",
            " 5   전용면적                          2952 non-null   float64\n",
            " 6   전용면적별세대수                      2952 non-null   int64  \n",
            " 7   공가수                           2952 non-null   float64\n",
            " 8   자격유형                          2952 non-null   object \n",
            " 9   임대보증금                         2383 non-null   object \n",
            " 10  임대료                           2383 non-null   object \n",
            " 11  도보 10분거리 내 지하철역 수(환승노선 수 반영)  2741 non-null   float64\n",
            " 12  도보 10분거리 내 버스정류장 수            2948 non-null   float64\n",
            " 13  단지내주차면수                       2952 non-null   float64\n",
            " 14  등록차량수                         2952 non-null   float64\n",
            "dtypes: float64(6), int64(2), object(7)\n",
            "memory usage: 346.1+ KB\n"
          ],
          "name": "stdout"
        }
      ]
    },
    {
      "cell_type": "markdown",
      "metadata": {
        "id": "7TsHcV04nZ8-"
      },
      "source": [
        "< Train data null 값 >\n",
        "\n",
        "임대보증금, 임대료, 도보 10분거리 내 지하철역 수(환승노선 수 반영), 도보 10분거리 내 버스정류장 수"
      ]
    },
    {
      "cell_type": "code",
      "metadata": {
        "colab": {
          "base_uri": "https://localhost:8080/",
          "height": 514
        },
        "id": "GEz0JkEapPk3",
        "outputId": "7120f37a-7adb-4b53-bc8a-9c9d50fbf2f9"
      },
      "source": [
        "train.isnull().sum().to_frame()"
      ],
      "execution_count": 6,
      "outputs": [
        {
          "output_type": "execute_result",
          "data": {
            "text/html": [
              "<div>\n",
              "<style scoped>\n",
              "    .dataframe tbody tr th:only-of-type {\n",
              "        vertical-align: middle;\n",
              "    }\n",
              "\n",
              "    .dataframe tbody tr th {\n",
              "        vertical-align: top;\n",
              "    }\n",
              "\n",
              "    .dataframe thead th {\n",
              "        text-align: right;\n",
              "    }\n",
              "</style>\n",
              "<table border=\"1\" class=\"dataframe\">\n",
              "  <thead>\n",
              "    <tr style=\"text-align: right;\">\n",
              "      <th></th>\n",
              "      <th>0</th>\n",
              "    </tr>\n",
              "  </thead>\n",
              "  <tbody>\n",
              "    <tr>\n",
              "      <th>단지코드</th>\n",
              "      <td>0</td>\n",
              "    </tr>\n",
              "    <tr>\n",
              "      <th>총세대수</th>\n",
              "      <td>0</td>\n",
              "    </tr>\n",
              "    <tr>\n",
              "      <th>임대건물구분</th>\n",
              "      <td>0</td>\n",
              "    </tr>\n",
              "    <tr>\n",
              "      <th>지역</th>\n",
              "      <td>0</td>\n",
              "    </tr>\n",
              "    <tr>\n",
              "      <th>공급유형</th>\n",
              "      <td>0</td>\n",
              "    </tr>\n",
              "    <tr>\n",
              "      <th>전용면적</th>\n",
              "      <td>0</td>\n",
              "    </tr>\n",
              "    <tr>\n",
              "      <th>전용면적별세대수</th>\n",
              "      <td>0</td>\n",
              "    </tr>\n",
              "    <tr>\n",
              "      <th>공가수</th>\n",
              "      <td>0</td>\n",
              "    </tr>\n",
              "    <tr>\n",
              "      <th>자격유형</th>\n",
              "      <td>0</td>\n",
              "    </tr>\n",
              "    <tr>\n",
              "      <th>임대보증금</th>\n",
              "      <td>569</td>\n",
              "    </tr>\n",
              "    <tr>\n",
              "      <th>임대료</th>\n",
              "      <td>569</td>\n",
              "    </tr>\n",
              "    <tr>\n",
              "      <th>도보 10분거리 내 지하철역 수(환승노선 수 반영)</th>\n",
              "      <td>211</td>\n",
              "    </tr>\n",
              "    <tr>\n",
              "      <th>도보 10분거리 내 버스정류장 수</th>\n",
              "      <td>4</td>\n",
              "    </tr>\n",
              "    <tr>\n",
              "      <th>단지내주차면수</th>\n",
              "      <td>0</td>\n",
              "    </tr>\n",
              "    <tr>\n",
              "      <th>등록차량수</th>\n",
              "      <td>0</td>\n",
              "    </tr>\n",
              "  </tbody>\n",
              "</table>\n",
              "</div>"
            ],
            "text/plain": [
              "                                0\n",
              "단지코드                            0\n",
              "총세대수                            0\n",
              "임대건물구분                          0\n",
              "지역                              0\n",
              "공급유형                            0\n",
              "전용면적                            0\n",
              "전용면적별세대수                        0\n",
              "공가수                             0\n",
              "자격유형                            0\n",
              "임대보증금                         569\n",
              "임대료                           569\n",
              "도보 10분거리 내 지하철역 수(환승노선 수 반영)  211\n",
              "도보 10분거리 내 버스정류장 수              4\n",
              "단지내주차면수                         0\n",
              "등록차량수                           0"
            ]
          },
          "metadata": {
            "tags": []
          },
          "execution_count": 6
        }
      ]
    },
    {
      "cell_type": "markdown",
      "metadata": {
        "id": "erc8omlSoS9Q"
      },
      "source": [
        "### 테스트 데이터"
      ]
    },
    {
      "cell_type": "code",
      "metadata": {
        "colab": {
          "base_uri": "https://localhost:8080/",
          "height": 408
        },
        "id": "SPuxGbwvpYkE",
        "outputId": "257ef475-86fb-4146-a380-2d666b7169a6"
      },
      "source": [
        "test.head()"
      ],
      "execution_count": 7,
      "outputs": [
        {
          "output_type": "execute_result",
          "data": {
            "text/html": [
              "<div>\n",
              "<style scoped>\n",
              "    .dataframe tbody tr th:only-of-type {\n",
              "        vertical-align: middle;\n",
              "    }\n",
              "\n",
              "    .dataframe tbody tr th {\n",
              "        vertical-align: top;\n",
              "    }\n",
              "\n",
              "    .dataframe thead th {\n",
              "        text-align: right;\n",
              "    }\n",
              "</style>\n",
              "<table border=\"1\" class=\"dataframe\">\n",
              "  <thead>\n",
              "    <tr style=\"text-align: right;\">\n",
              "      <th></th>\n",
              "      <th>단지코드</th>\n",
              "      <th>총세대수</th>\n",
              "      <th>임대건물구분</th>\n",
              "      <th>지역</th>\n",
              "      <th>공급유형</th>\n",
              "      <th>전용면적</th>\n",
              "      <th>전용면적별세대수</th>\n",
              "      <th>공가수</th>\n",
              "      <th>자격유형</th>\n",
              "      <th>임대보증금</th>\n",
              "      <th>임대료</th>\n",
              "      <th>도보 10분거리 내 지하철역 수(환승노선 수 반영)</th>\n",
              "      <th>도보 10분거리 내 버스정류장 수</th>\n",
              "      <th>단지내주차면수</th>\n",
              "    </tr>\n",
              "  </thead>\n",
              "  <tbody>\n",
              "    <tr>\n",
              "      <th>0</th>\n",
              "      <td>C1072</td>\n",
              "      <td>754</td>\n",
              "      <td>아파트</td>\n",
              "      <td>경기도</td>\n",
              "      <td>국민임대</td>\n",
              "      <td>39.79</td>\n",
              "      <td>116</td>\n",
              "      <td>14.0</td>\n",
              "      <td>H</td>\n",
              "      <td>22830000</td>\n",
              "      <td>189840</td>\n",
              "      <td>0.0</td>\n",
              "      <td>2.0</td>\n",
              "      <td>683.0</td>\n",
              "    </tr>\n",
              "    <tr>\n",
              "      <th>1</th>\n",
              "      <td>C1072</td>\n",
              "      <td>754</td>\n",
              "      <td>아파트</td>\n",
              "      <td>경기도</td>\n",
              "      <td>국민임대</td>\n",
              "      <td>46.81</td>\n",
              "      <td>30</td>\n",
              "      <td>14.0</td>\n",
              "      <td>A</td>\n",
              "      <td>36048000</td>\n",
              "      <td>249930</td>\n",
              "      <td>0.0</td>\n",
              "      <td>2.0</td>\n",
              "      <td>683.0</td>\n",
              "    </tr>\n",
              "    <tr>\n",
              "      <th>2</th>\n",
              "      <td>C1072</td>\n",
              "      <td>754</td>\n",
              "      <td>아파트</td>\n",
              "      <td>경기도</td>\n",
              "      <td>국민임대</td>\n",
              "      <td>46.90</td>\n",
              "      <td>112</td>\n",
              "      <td>14.0</td>\n",
              "      <td>H</td>\n",
              "      <td>36048000</td>\n",
              "      <td>249930</td>\n",
              "      <td>0.0</td>\n",
              "      <td>2.0</td>\n",
              "      <td>683.0</td>\n",
              "    </tr>\n",
              "    <tr>\n",
              "      <th>3</th>\n",
              "      <td>C1072</td>\n",
              "      <td>754</td>\n",
              "      <td>아파트</td>\n",
              "      <td>경기도</td>\n",
              "      <td>국민임대</td>\n",
              "      <td>46.90</td>\n",
              "      <td>120</td>\n",
              "      <td>14.0</td>\n",
              "      <td>H</td>\n",
              "      <td>36048000</td>\n",
              "      <td>249930</td>\n",
              "      <td>0.0</td>\n",
              "      <td>2.0</td>\n",
              "      <td>683.0</td>\n",
              "    </tr>\n",
              "    <tr>\n",
              "      <th>4</th>\n",
              "      <td>C1072</td>\n",
              "      <td>754</td>\n",
              "      <td>아파트</td>\n",
              "      <td>경기도</td>\n",
              "      <td>국민임대</td>\n",
              "      <td>51.46</td>\n",
              "      <td>60</td>\n",
              "      <td>14.0</td>\n",
              "      <td>H</td>\n",
              "      <td>43497000</td>\n",
              "      <td>296780</td>\n",
              "      <td>0.0</td>\n",
              "      <td>2.0</td>\n",
              "      <td>683.0</td>\n",
              "    </tr>\n",
              "  </tbody>\n",
              "</table>\n",
              "</div>"
            ],
            "text/plain": [
              "    단지코드  총세대수  ... 도보 10분거리 내 버스정류장 수 단지내주차면수\n",
              "0  C1072   754  ...                2.0   683.0\n",
              "1  C1072   754  ...                2.0   683.0\n",
              "2  C1072   754  ...                2.0   683.0\n",
              "3  C1072   754  ...                2.0   683.0\n",
              "4  C1072   754  ...                2.0   683.0\n",
              "\n",
              "[5 rows x 14 columns]"
            ]
          },
          "metadata": {
            "tags": []
          },
          "execution_count": 7
        }
      ]
    },
    {
      "cell_type": "code",
      "metadata": {
        "colab": {
          "base_uri": "https://localhost:8080/"
        },
        "id": "8Ty25KMTmtbq",
        "outputId": "656242b7-a1cd-4ab0-9a80-09442b2855f7"
      },
      "source": [
        "test.info()"
      ],
      "execution_count": 8,
      "outputs": [
        {
          "output_type": "stream",
          "text": [
            "<class 'pandas.core.frame.DataFrame'>\n",
            "RangeIndex: 1022 entries, 0 to 1021\n",
            "Data columns (total 14 columns):\n",
            " #   Column                        Non-Null Count  Dtype  \n",
            "---  ------                        --------------  -----  \n",
            " 0   단지코드                          1022 non-null   object \n",
            " 1   총세대수                          1022 non-null   int64  \n",
            " 2   임대건물구분                        1022 non-null   object \n",
            " 3   지역                            1022 non-null   object \n",
            " 4   공급유형                          1022 non-null   object \n",
            " 5   전용면적                          1022 non-null   float64\n",
            " 6   전용면적별세대수                      1022 non-null   int64  \n",
            " 7   공가수                           1022 non-null   float64\n",
            " 8   자격유형                          1020 non-null   object \n",
            " 9   임대보증금                         842 non-null    object \n",
            " 10  임대료                           842 non-null    object \n",
            " 11  도보 10분거리 내 지하철역 수(환승노선 수 반영)  980 non-null    float64\n",
            " 12  도보 10분거리 내 버스정류장 수            1022 non-null   float64\n",
            " 13  단지내주차면수                       1022 non-null   float64\n",
            "dtypes: float64(5), int64(2), object(7)\n",
            "memory usage: 111.9+ KB\n"
          ],
          "name": "stdout"
        }
      ]
    },
    {
      "cell_type": "code",
      "metadata": {
        "colab": {
          "base_uri": "https://localhost:8080/",
          "height": 483
        },
        "id": "GNxr-l1ToY2k",
        "outputId": "77cd7dc4-41d1-482a-a756-15f712bb348f"
      },
      "source": [
        "test.isnull().sum().to_frame()"
      ],
      "execution_count": 9,
      "outputs": [
        {
          "output_type": "execute_result",
          "data": {
            "text/html": [
              "<div>\n",
              "<style scoped>\n",
              "    .dataframe tbody tr th:only-of-type {\n",
              "        vertical-align: middle;\n",
              "    }\n",
              "\n",
              "    .dataframe tbody tr th {\n",
              "        vertical-align: top;\n",
              "    }\n",
              "\n",
              "    .dataframe thead th {\n",
              "        text-align: right;\n",
              "    }\n",
              "</style>\n",
              "<table border=\"1\" class=\"dataframe\">\n",
              "  <thead>\n",
              "    <tr style=\"text-align: right;\">\n",
              "      <th></th>\n",
              "      <th>0</th>\n",
              "    </tr>\n",
              "  </thead>\n",
              "  <tbody>\n",
              "    <tr>\n",
              "      <th>단지코드</th>\n",
              "      <td>0</td>\n",
              "    </tr>\n",
              "    <tr>\n",
              "      <th>총세대수</th>\n",
              "      <td>0</td>\n",
              "    </tr>\n",
              "    <tr>\n",
              "      <th>임대건물구분</th>\n",
              "      <td>0</td>\n",
              "    </tr>\n",
              "    <tr>\n",
              "      <th>지역</th>\n",
              "      <td>0</td>\n",
              "    </tr>\n",
              "    <tr>\n",
              "      <th>공급유형</th>\n",
              "      <td>0</td>\n",
              "    </tr>\n",
              "    <tr>\n",
              "      <th>전용면적</th>\n",
              "      <td>0</td>\n",
              "    </tr>\n",
              "    <tr>\n",
              "      <th>전용면적별세대수</th>\n",
              "      <td>0</td>\n",
              "    </tr>\n",
              "    <tr>\n",
              "      <th>공가수</th>\n",
              "      <td>0</td>\n",
              "    </tr>\n",
              "    <tr>\n",
              "      <th>자격유형</th>\n",
              "      <td>2</td>\n",
              "    </tr>\n",
              "    <tr>\n",
              "      <th>임대보증금</th>\n",
              "      <td>180</td>\n",
              "    </tr>\n",
              "    <tr>\n",
              "      <th>임대료</th>\n",
              "      <td>180</td>\n",
              "    </tr>\n",
              "    <tr>\n",
              "      <th>도보 10분거리 내 지하철역 수(환승노선 수 반영)</th>\n",
              "      <td>42</td>\n",
              "    </tr>\n",
              "    <tr>\n",
              "      <th>도보 10분거리 내 버스정류장 수</th>\n",
              "      <td>0</td>\n",
              "    </tr>\n",
              "    <tr>\n",
              "      <th>단지내주차면수</th>\n",
              "      <td>0</td>\n",
              "    </tr>\n",
              "  </tbody>\n",
              "</table>\n",
              "</div>"
            ],
            "text/plain": [
              "                                0\n",
              "단지코드                            0\n",
              "총세대수                            0\n",
              "임대건물구분                          0\n",
              "지역                              0\n",
              "공급유형                            0\n",
              "전용면적                            0\n",
              "전용면적별세대수                        0\n",
              "공가수                             0\n",
              "자격유형                            2\n",
              "임대보증금                         180\n",
              "임대료                           180\n",
              "도보 10분거리 내 지하철역 수(환승노선 수 반영)   42\n",
              "도보 10분거리 내 버스정류장 수              0\n",
              "단지내주차면수                         0"
            ]
          },
          "metadata": {
            "tags": []
          },
          "execution_count": 9
        }
      ]
    },
    {
      "cell_type": "markdown",
      "metadata": {
        "id": "7up7StRRnwFU"
      },
      "source": [
        "< Test data null 값 >\n",
        "\n",
        "자격유형, 임대보증금, 임대료, 도보 10분거리 내 지하철역 수(환승노선 수 반영)"
      ]
    },
    {
      "cell_type": "markdown",
      "metadata": {
        "id": "syJhU1ZSpu9W"
      },
      "source": [
        "Train, Test null 값을 보면\n",
        "\n",
        "임대보증금, 임대료는 같이 null값으로 존재할 것으로 생각할 수 있음"
      ]
    },
    {
      "cell_type": "markdown",
      "metadata": {
        "id": "hWoQW2o4sdGD"
      },
      "source": [
        "# 데이터 전처리"
      ]
    },
    {
      "cell_type": "markdown",
      "metadata": {
        "id": "HI4hfj-Hqq4o"
      },
      "source": [
        "[ https://dacon.io/competitions/official/235745/codeshare/2853?page=1&dtype=recent ] 참고\n",
        "\n",
        "\n",
        "임대가 아닌 공공분양, 전세 같은 경우는 임대 관련 값은 NA\n",
        "\n",
        "임대보증금, 임대료를 0으로 대체"
      ]
    },
    {
      "cell_type": "code",
      "metadata": {
        "id": "xRIcQ9-Gn4aS"
      },
      "source": [
        "# 임대관련 값 '-'을 null로 바꾼 후 float로 타입 변경\n",
        "train.loc[train.임대보증금=='-', '임대보증금'] = np.nan\n",
        "test.loc[test.임대보증금=='-', '임대보증금'] = np.nan\n",
        "train['임대보증금'] = train['임대보증금'].astype(float)\n",
        "test['임대보증금'] = test['임대보증금'].astype(float)\n",
        "\n",
        "train.loc[train.임대료=='-', '임대료'] = np.nan\n",
        "test.loc[test.임대료=='-', '임대료'] = np.nan\n",
        "train['임대료'] = train['임대료'].astype(float)\n",
        "test['임대료'] = test['임대료'].astype(float)\n",
        "\n",
        "# 임대관련 값 0으로 대체 \n",
        "train[['임대보증금', '임대료']] = train[['임대보증금', '임대료']].fillna(0)\n",
        "test[['임대보증금', '임대료']] = test[['임대보증금', '임대료']].fillna(0)"
      ],
      "execution_count": 10,
      "outputs": []
    },
    {
      "cell_type": "markdown",
      "metadata": {
        "id": "vmw_LmMUz2AD"
      },
      "source": [
        "임대보증금, 임대료 dtype을 int로 변경"
      ]
    },
    {
      "cell_type": "markdown",
      "metadata": {
        "id": "n_diT497ssDC"
      },
      "source": [
        "지하철 및 버스정류장 수 관련 Null 값도 없는 것으로 추정하고 0으로 대체"
      ]
    },
    {
      "cell_type": "code",
      "metadata": {
        "id": "OqUc53tztIps"
      },
      "source": [
        "# 지하철 및 버스정류장 수 0으로 대체\n",
        "col = ['도보 10분거리 내 지하철역 수(환승노선 수 반영)', '도보 10분거리 내 버스정류장 수']\n",
        "train[col] = train[col].fillna(0)\n",
        "test['도보 10분거리 내 지하철역 수(환승노선 수 반영)'] = test['도보 10분거리 내 지하철역 수(환승노선 수 반영)'].fillna(0)"
      ],
      "execution_count": 11,
      "outputs": []
    },
    {
      "cell_type": "markdown",
      "metadata": {
        "id": "lZopOFlruJZX"
      },
      "source": [
        "test data의 자격유형은 최빈값으로 대체 \n",
        "\n",
        "==> 'A'"
      ]
    },
    {
      "cell_type": "code",
      "metadata": {
        "colab": {
          "base_uri": "https://localhost:8080/"
        },
        "id": "bFMaTRLfuIgK",
        "outputId": "fcc47e21-610b-4888-e34f-6a66afe6f3f8"
      },
      "source": [
        "test['자격유형'].value_counts() # A가 가장 많음을 확인"
      ],
      "execution_count": 12,
      "outputs": [
        {
          "output_type": "execute_result",
          "data": {
            "text/plain": [
              "A    572\n",
              "D    180\n",
              "H     92\n",
              "J     84\n",
              "C     34\n",
              "K     16\n",
              "L     12\n",
              "N     10\n",
              "E     10\n",
              "I      7\n",
              "M      2\n",
              "G      1\n",
              "Name: 자격유형, dtype: int64"
            ]
          },
          "metadata": {
            "tags": []
          },
          "execution_count": 12
        }
      ]
    },
    {
      "cell_type": "code",
      "metadata": {
        "id": "BRvyDoDZuajk"
      },
      "source": [
        "# A로 대체\n",
        "test['자격유형'] = test['자격유형'].fillna('A')"
      ],
      "execution_count": 13,
      "outputs": []
    },
    {
      "cell_type": "markdown",
      "metadata": {
        "id": "9n2F7UhkvDpT"
      },
      "source": [
        "중복이 상당히 많은 것으로 확인되므로 중복을 제거"
      ]
    },
    {
      "cell_type": "code",
      "metadata": {
        "id": "7wc7UNavvGGV"
      },
      "source": [
        "train = train.drop_duplicates()\n",
        "test = test.drop_duplicates()"
      ],
      "execution_count": 14,
      "outputs": []
    },
    {
      "cell_type": "markdown",
      "metadata": {
        "id": "M4X1HvRB33Gq"
      },
      "source": [
        "[ https://dacon.io/competitions/official/235745/codeshare/2851?page=1&dtype=recent ]\n",
        "\n",
        "train, test의 각 단지코드를 하나의 로우로 합하기"
      ]
    },
    {
      "cell_type": "code",
      "metadata": {
        "id": "3z0Fih3X797H"
      },
      "source": [
        "def reshape_cat_features(data, cast_col, value_col):\n",
        "    res = data.drop_duplicates(['단지코드', cast_col]).assign(counter=1).pivot(index='단지코드', columns=cast_col, values=value_col).fillna(0)\n",
        "    res.columns.name = None\n",
        "    res = res.rename(columns={col:cast_col+'_'+col for col in res.columns})\n",
        "    return res"
      ],
      "execution_count": 15,
      "outputs": []
    },
    {
      "cell_type": "code",
      "metadata": {
        "id": "lVHgbpoT7FUI"
      },
      "source": [
        "unique_cols = ['총세대수', '지역', '공가수', \n",
        "               '도보 10분거리 내 지하철역 수(환승노선 수 반영)',\n",
        "               '도보 10분거리 내 버스정류장 수',\n",
        "               '단지내주차면수', '등록차량수']\n",
        "train_agg = train.set_index('단지코드')[unique_cols].drop_duplicates()\n",
        "test_agg = test.set_index('단지코드')[[col for col in unique_cols if col!='등록차량수']].drop_duplicates()"
      ],
      "execution_count": 16,
      "outputs": []
    },
    {
      "cell_type": "code",
      "metadata": {
        "id": "eBcf2kHJ6Sk3"
      },
      "source": [
        "train.loc[train.공급유형.isin(['공공임대(5년)', '공공분양', '공공임대(10년)', '공공임대(분납)']), '공급유형'] = '공공임대(5년/10년/분납/분양)'\n",
        "test.loc[test.공급유형.isin(['공공임대(5년)', '공공분양', '공공임대(10년)', '공공임대(분납)']), '공급유형'] = '공공임대(5년/10년/분납/분양)'\n",
        "train.loc[train.공급유형.isin(['장기전세', '국민임대']), '공급유형'] = '국민임대/장기전세'\n",
        "test.loc[test.공급유형.isin(['장기전세', '국민임대']), '공급유형'] = '국민임대/장기전세'"
      ],
      "execution_count": 17,
      "outputs": []
    },
    {
      "cell_type": "code",
      "metadata": {
        "id": "WBGyC_vG6qXp"
      },
      "source": [
        "train.loc[train.자격유형.isin(['J', 'L', 'K', 'N', 'M', 'O']), '자격유형'] = '행복주택_공급대상'\n",
        "test.loc[test.자격유형.isin(['J', 'L', 'K', 'N', 'M', 'O']), '자격유형'] = '행복주택_공급대상'"
      ],
      "execution_count": 18,
      "outputs": []
    },
    {
      "cell_type": "code",
      "metadata": {
        "id": "PHHkbv_j6SZr"
      },
      "source": [
        "train.loc[train.자격유형.isin(['H', 'B', 'E', 'G']), '자격유형'] = '국민임대/장기전세_공급대상'\n",
        "test.loc[test.자격유형.isin(['H', 'B', 'E', 'G']), '자격유형'] = '국민임대/장기전세_공급대상'\n",
        "\n",
        "train.loc[train.자격유형.isin(['C', 'I', 'F']), '자격유형'] = '영구임대_공급대상'\n",
        "test.loc[test.자격유형.isin(['C', 'I', 'F']), '자격유형'] = '영구임대_공급대상'"
      ],
      "execution_count": 19,
      "outputs": []
    },
    {
      "cell_type": "code",
      "metadata": {
        "id": "M-JIhrGa6yw1"
      },
      "source": [
        "train_agg = pd.concat([train_agg,\n",
        "                       reshape_cat_features(data=train, cast_col='임대건물구분', value_col='counter'),\n",
        "                       reshape_cat_features(data=train, cast_col='공급유형', value_col='counter'),\n",
        "                       reshape_cat_features(data=train, cast_col='자격유형', value_col='counter')], axis=1)\n",
        "\n",
        "test_agg = pd.concat([test_agg,\n",
        "                       reshape_cat_features(data=test, cast_col='임대건물구분', value_col='counter'),\n",
        "                       reshape_cat_features(data=test, cast_col='공급유형', value_col='counter'),\n",
        "                       reshape_cat_features(data=test, cast_col='자격유형', value_col='counter')], axis=1)"
      ],
      "execution_count": 20,
      "outputs": []
    },
    {
      "cell_type": "markdown",
      "metadata": {
        "id": "KAkkVmac3otI"
      },
      "source": [
        "# 모델링"
      ]
    },
    {
      "cell_type": "code",
      "metadata": {
        "colab": {
          "base_uri": "https://localhost:8080/"
        },
        "id": "BPT3BKWX6X30",
        "outputId": "cb5fd054-3ca0-4e23-e6ed-e8df2d163877"
      },
      "source": [
        "print(train_agg.shape)\n",
        "print(test_agg.shape)"
      ],
      "execution_count": 22,
      "outputs": [
        {
          "output_type": "stream",
          "text": [
            "(423, 20)\n",
            "(150, 19)\n"
          ],
          "name": "stdout"
        }
      ]
    },
    {
      "cell_type": "code",
      "metadata": {
        "id": "gsjMPHhOduf4"
      },
      "source": [
        "y = train_agg['등록차량수']\n",
        "x = train_agg.drop(['등록차량수','지역'],axis=1)"
      ],
      "execution_count": 49,
      "outputs": []
    },
    {
      "cell_type": "code",
      "metadata": {
        "id": "wFiQjqr1cVIm"
      },
      "source": [
        "from sklearn.model_selection import GridSearchCV\n",
        "\n",
        "model = XGBRegressor()\n",
        "\n",
        "grid = {'n_estimators' : [100], 'eta' : [0.01], 'min_child_weight' : np.arange(1, 8, 1), \n",
        "        'max_depth' : np.arange(3,7,1) , 'colsample_bytree' :np.arange(0.8, 1.0, 0.1), \n",
        "        'subsample' :np.arange(0.8, 1.0, 0.1)} # fix the n_estimators & eta(learning rate)\n",
        "        \n",
        "gcv = GridSearchCV(model, param_grid = grid, cv = 3, refit=True, return_train_score=True)        \n",
        "    \n",
        "gcv.fit(x, y)\n",
        "params = gcv.best_params_"
      ],
      "execution_count": null,
      "outputs": []
    },
    {
      "cell_type": "code",
      "metadata": {
        "colab": {
          "base_uri": "https://localhost:8080/"
        },
        "id": "dwb1IM5ni8kn",
        "outputId": "bbfbe297-4a1b-4e63-eebc-e665e4b685ef"
      },
      "source": [
        "print(gcv.best_estimator_)\n",
        "pickle.dump(gcv.best_estimator_, open(\"/content/drive/MyDrive/contest/parking_data/hyperparameter_xgb.pickle\", \"wb\"))"
      ],
      "execution_count": 63,
      "outputs": [
        {
          "output_type": "stream",
          "text": [
            "XGBRegressor(base_score=0.5, booster='gbtree', colsample_bylevel=1,\n",
            "             colsample_bynode=1, colsample_bytree=0.9, eta=0.01, gamma=0,\n",
            "             importance_type='gain', learning_rate=0.1, max_delta_step=0,\n",
            "             max_depth=3, min_child_weight=6, missing=None, n_estimators=100,\n",
            "             n_jobs=1, nthread=None, objective='reg:linear', random_state=0,\n",
            "             reg_alpha=0, reg_lambda=1, scale_pos_weight=1, seed=None,\n",
            "             silent=None, subsample=0.8, verbosity=1)\n"
          ],
          "name": "stdout"
        }
      ]
    },
    {
      "cell_type": "markdown",
      "metadata": {
        "id": "7iAGf3aGleAp"
      },
      "source": [
        "XGBRegressor(base_score=0.5, booster='gbtree', colsample_bylevel=1,\n",
        "             colsample_bynode=1, colsample_bytree=0.9, eta=0.01, gamma=0,\n",
        "             importance_type='gain', learning_rate=0.1, max_delta_step=0,\n",
        "             max_depth=3, min_child_weight=6, missing=None, n_estimators=100,\n",
        "             n_jobs=1, nthread=None, objective='reg:linear', random_state=0,\n",
        "             reg_alpha=0, reg_lambda=1, scale_pos_weight=1, seed=None,\n",
        "             silent=None, subsample=0.8, verbosity=1)"
      ]
    },
    {
      "cell_type": "code",
      "metadata": {
        "id": "g0n_iMTUlg2G"
      },
      "source": [
        "xgb_reg =XGBRegressor(base_score=0.5, booster='gbtree', colsample_bylevel=1,\n",
        "                      colsample_bynode=1, colsample_bytree=0.9, eta=0.01, gamma=0, learning_rate=0.1, max_delta_step=0, \n",
        "                      max_depth=3, min_child_weight=6, missing=None, n_estimators=100,\n",
        "                      n_jobs=1, nthread=None, objective='reg:linear', random_state=0, \n",
        "                      reg_alpha=0, reg_lambda=1, scale_pos_weight=1, seed=None, silent=None,\n",
        "                      subsample=0.8, verbosity=1)"
      ],
      "execution_count": 73,
      "outputs": []
    },
    {
      "cell_type": "code",
      "metadata": {
        "colab": {
          "base_uri": "https://localhost:8080/"
        },
        "id": "HTpk23_Km1e5",
        "outputId": "77e9f127-8af2-4134-b965-2b61b8d7f1db"
      },
      "source": [
        "target_col = '등록차량수'\n",
        "xgb_reg.fit(train_agg.drop(columns=[target_col,'지역']), train_agg[target_col])"
      ],
      "execution_count": 76,
      "outputs": [
        {
          "output_type": "stream",
          "text": [
            "[05:23:20] WARNING: /workspace/src/objective/regression_obj.cu:152: reg:linear is now deprecated in favor of reg:squarederror.\n"
          ],
          "name": "stdout"
        },
        {
          "output_type": "execute_result",
          "data": {
            "text/plain": [
              "XGBRegressor(base_score=0.5, booster='gbtree', colsample_bylevel=1,\n",
              "             colsample_bynode=1, colsample_bytree=0.9, eta=0.01, gamma=0,\n",
              "             importance_type='gain', learning_rate=0.1, max_delta_step=0,\n",
              "             max_depth=3, min_child_weight=6, missing=None, n_estimators=100,\n",
              "             n_jobs=1, nthread=None, objective='reg:linear', random_state=0,\n",
              "             reg_alpha=0, reg_lambda=1, scale_pos_weight=1, seed=None,\n",
              "             silent=None, subsample=0.8, verbosity=1)"
            ]
          },
          "metadata": {
            "tags": []
          },
          "execution_count": 76
        }
      ]
    },
    {
      "cell_type": "code",
      "metadata": {
        "id": "ILUC4mzl2RNp"
      },
      "source": [
        "sample_submission = pd.read_csv('/content/drive/MyDrive/contest/parking_data/sample_submission.csv')"
      ],
      "execution_count": 77,
      "outputs": []
    },
    {
      "cell_type": "code",
      "metadata": {
        "id": "cFdCKG3I2fZe"
      },
      "source": [
        "predictions = xgb_reg.predict(test_agg.drop(['지역'],axis=1))"
      ],
      "execution_count": 78,
      "outputs": []
    },
    {
      "cell_type": "code",
      "metadata": {
        "colab": {
          "base_uri": "https://localhost:8080/"
        },
        "id": "I0gXVP3RnsM8",
        "outputId": "eb17937d-5179-4f53-a02d-c1f7d49fc68d"
      },
      "source": [
        "predictions"
      ],
      "execution_count": 80,
      "outputs": [
        {
          "output_type": "execute_result",
          "data": {
            "text/plain": [
              "array([ 657.5382  , 1280.7771  ,  563.01227 ,  559.6774  ,  978.154   ,\n",
              "       1855.462   ,  919.52795 ,  425.94122 ,  371.12762 ,  311.96527 ,\n",
              "        459.13147 ,  159.27246 ,  385.55014 ,  302.26105 ,  337.11993 ,\n",
              "        244.02814 ,  473.47363 ,  293.48862 ,  143.85596 ,  775.2272  ,\n",
              "        191.28717 ,  431.33466 ,  461.6155  ,  550.57935 ,  388.16705 ,\n",
              "        166.39862 ,   76.060844,  488.55756 ,  411.7519  ,  415.27048 ,\n",
              "        856.6124  ,  134.13269 ,  478.02094 ,  234.29608 ,  103.68215 ,\n",
              "        317.16705 ,  431.83133 ,  569.83136 ,  808.31525 ,  325.3884  ,\n",
              "        454.60464 ,  394.28    ,  374.2597  ,  469.85397 ,  671.3399  ,\n",
              "       1264.5465  ,  456.5312  ,  582.35004 ,  390.53647 ,  362.42126 ,\n",
              "        705.055   ,  307.21527 , 1029.1609  ,  675.6119  ,  589.7165  ,\n",
              "        270.8625  ,  531.40094 ,  316.7731  ,  416.46475 ,  174.76251 ,\n",
              "        398.9187  ,  488.18643 , 1012.10223 ,  404.7316  ,  168.64473 ,\n",
              "        280.29724 ,  612.5243  ,  964.384   ,  511.95367 ,  422.68048 ,\n",
              "        746.91943 ,  307.21527 ,  569.36804 ,  755.2683  ,  799.7159  ,\n",
              "        397.77414 ,  642.4277  ,  904.46063 ,  652.34375 ,  911.3406  ,\n",
              "        743.73584 , 1113.0355  ,  294.12408 ,  279.22675 ,  311.96527 ,\n",
              "        257.13846 ,  225.21765 ,  374.2597  ,  295.87338 , 1042.212   ,\n",
              "        724.9697  ,  640.822   ,  302.50613 ,  657.7199  , 1066.2249  ,\n",
              "       1168.7341  ,  562.4093  ,  999.6694  ,  608.76434 ,  910.3647  ,\n",
              "        634.58624 ,  396.5639  ,  870.61127 ,  699.3373  , 1029.0846  ,\n",
              "        578.80743 , 1198.5912  ,  615.3418  , 1025.1969  ,  293.6157  ,\n",
              "        593.72076 , 1211.7847  ,  816.5358  ,  895.35626 ,  891.93335 ,\n",
              "        127.67046 ,  129.10042 ,  618.2083  ,  859.0387  , 1628.8386  ,\n",
              "        546.7112  ,  895.77454 ,  739.9139  ,  419.99146 ,  740.4533  ,\n",
              "        259.73865 ,  434.7605  ,  592.0467  ,  100.67056 ,   68.39499 ,\n",
              "         79.58697 ,  588.73895 ,  587.41046 ,  248.91737 ,  246.87387 ,\n",
              "        228.73137 ,  588.48615 ,  449.27246 ,  410.15186 ,  143.5984  ,\n",
              "        481.19278 ,   70.500244,  104.430664,  236.7913  ,  386.38928 ,\n",
              "        243.0567  ,  476.8643  ,   71.20496 ,  521.11444 ,  174.07903 ],\n",
              "      dtype=float32)"
            ]
          },
          "metadata": {
            "tags": []
          },
          "execution_count": 80
        }
      ]
    },
    {
      "cell_type": "code",
      "metadata": {
        "id": "uLbLjdMm25aJ",
        "colab": {
          "base_uri": "https://localhost:8080/",
          "height": 204
        },
        "outputId": "0bf47e44-e568-47a7-badd-621788ae2e3a"
      },
      "source": [
        "sample_submission['num'] = predictions\n",
        "sample_submission.head()"
      ],
      "execution_count": 82,
      "outputs": [
        {
          "output_type": "execute_result",
          "data": {
            "text/html": [
              "<div>\n",
              "<style scoped>\n",
              "    .dataframe tbody tr th:only-of-type {\n",
              "        vertical-align: middle;\n",
              "    }\n",
              "\n",
              "    .dataframe tbody tr th {\n",
              "        vertical-align: top;\n",
              "    }\n",
              "\n",
              "    .dataframe thead th {\n",
              "        text-align: right;\n",
              "    }\n",
              "</style>\n",
              "<table border=\"1\" class=\"dataframe\">\n",
              "  <thead>\n",
              "    <tr style=\"text-align: right;\">\n",
              "      <th></th>\n",
              "      <th>code</th>\n",
              "      <th>num</th>\n",
              "    </tr>\n",
              "  </thead>\n",
              "  <tbody>\n",
              "    <tr>\n",
              "      <th>0</th>\n",
              "      <td>C1072</td>\n",
              "      <td>657.538208</td>\n",
              "    </tr>\n",
              "    <tr>\n",
              "      <th>1</th>\n",
              "      <td>C1128</td>\n",
              "      <td>1280.777100</td>\n",
              "    </tr>\n",
              "    <tr>\n",
              "      <th>2</th>\n",
              "      <td>C1456</td>\n",
              "      <td>563.012268</td>\n",
              "    </tr>\n",
              "    <tr>\n",
              "      <th>3</th>\n",
              "      <td>C1840</td>\n",
              "      <td>559.677429</td>\n",
              "    </tr>\n",
              "    <tr>\n",
              "      <th>4</th>\n",
              "      <td>C1332</td>\n",
              "      <td>978.153992</td>\n",
              "    </tr>\n",
              "  </tbody>\n",
              "</table>\n",
              "</div>"
            ],
            "text/plain": [
              "    code          num\n",
              "0  C1072   657.538208\n",
              "1  C1128  1280.777100\n",
              "2  C1456   563.012268\n",
              "3  C1840   559.677429\n",
              "4  C1332   978.153992"
            ]
          },
          "metadata": {
            "tags": []
          },
          "execution_count": 82
        }
      ]
    },
    {
      "cell_type": "code",
      "metadata": {
        "id": "xfWMpfwqG-Z2"
      },
      "source": [
        "file_name = 'parking04.csv'\n",
        "sample_submission.to_csv('/content/drive/MyDrive/contest/parking_data/' + file_name, index=False)"
      ],
      "execution_count": 84,
      "outputs": []
    }
  ]
}